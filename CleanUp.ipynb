{
 "cells": [
  {
   "cell_type": "markdown",
   "id": "2debc008",
   "metadata": {},
   "source": [
    "# [중요] 리소스 정리 (Clean-up Resource)\n",
    "### 아래 과정을 꼼꼼하게 해주세요. 그렇지 않으면 요금이 발생할 수 있습니다."
   ]
  },
  {
   "cell_type": "markdown",
   "id": "62372375-3237-4c93-b10a-c931b07c3069",
   "metadata": {},
   "source": [
    "# 1. 환경 셋업"
   ]
  },
  {
   "cell_type": "markdown",
   "id": "db4cfa8c-933a-480c-9c30-e17706316004",
   "metadata": {},
   "source": [
    "## 기본 세팅\n",
    "사용하는 패키지는 import 시점에 다시 재로딩 합니다."
   ]
  },
  {
   "cell_type": "code",
   "execution_count": null,
   "id": "a60e44cb-2157-42d7-a880-cf39c11f9dbe",
   "metadata": {},
   "outputs": [],
   "source": [
    "%load_ext autoreload\n",
    "%autoreload 2\n",
    "\n",
    "import sys\n",
    "sys.path.append('./2_Inference/src')"
   ]
  },
  {
   "cell_type": "markdown",
   "id": "00722312",
   "metadata": {},
   "source": [
    "# 2. 세이지 메이커 앤드포인트 삭제 확인\n",
    "- 아래와 같이 콘솔에 가셔서 엔드포인트가 없어야 합니다.\n",
    "    - 만일 존재하면 삭제 해주세요."
   ]
  },
  {
   "cell_type": "code",
   "execution_count": null,
   "id": "8a4eead4-e630-4c92-9355-216ac65321c9",
   "metadata": {},
   "outputs": [],
   "source": [
    "from inference_utils import delete_endpoint\n",
    "import boto3"
   ]
  },
  {
   "cell_type": "code",
   "execution_count": null,
   "id": "9be67cb2-668f-44c9-b67a-7c465741d489",
   "metadata": {},
   "outputs": [],
   "source": [
    "client = boto3.Session().client('sagemaker')\n",
    "\n",
    "endpoint_name = 'sm-ncf'\n",
    "\n",
    "response = client.list_endpoints(\n",
    "    SortBy='Name',\n",
    "    SortOrder='Ascending',\n",
    "    NameContains=endpoint_name,\n",
    ")\n",
    "\n",
    "for ep_list in response['Endpoints']:\n",
    "    print(\"endpoint name: \\n\", ep_list[\"EndpointName\"])\n",
    "    ep = ep_list[\"EndpointName\"]\n",
    "    delete_endpoint(client, ep)"
   ]
  },
  {
   "cell_type": "code",
   "execution_count": null,
   "id": "95248d48-7861-47a3-a8ce-77f40b7f7b7d",
   "metadata": {},
   "outputs": [],
   "source": [
    "endpoint_name = 'lambda-deploy-endpoint'\n",
    "\n",
    "response = client.list_endpoints(\n",
    "    SortBy='Name',\n",
    "    SortOrder='Ascending',\n",
    "    NameContains=endpoint_name,\n",
    ")\n",
    "\n",
    "for ep_list in response['Endpoints']:\n",
    "    print(\"endpoint name: \\n\", ep_list[\"EndpointName\"])\n",
    "    ep = ep_list[\"EndpointName\"]\n",
    "    delete_endpoint(client, ep)\n"
   ]
  },
  {
   "cell_type": "markdown",
   "id": "cf8329b4-b1ef-41b2-8d3e-ed71e86c9e9d",
   "metadata": {},
   "source": [
    "- SageMaker Concole --> 왼쪽 메뉴의 Inference --> Endpoints 로 다음과 같이 엔드포인트가 있는지 확인 하세요."
   ]
  },
  {
   "cell_type": "markdown",
   "id": "015c9545",
   "metadata": {},
   "source": [
    "![sm_endpoint_console.png](img/sm_endpoint_console.png)"
   ]
  },
  {
   "cell_type": "markdown",
   "id": "348b47ad-0f12-43f8-a246-312a7c447571",
   "metadata": {},
   "source": [
    "# 3. 파이프라인 삭제"
   ]
  },
  {
   "cell_type": "code",
   "execution_count": null,
   "id": "feacaf2e-1d31-4c75-ba57-0c6a7d15a932",
   "metadata": {},
   "outputs": [],
   "source": [
    "sagemaker_boto_client = boto3.client('sagemaker')\n",
    "\n",
    "def clean_pipeline(pipeline_name, isDeletePipeline=False, verbose=False):\n",
    "    '''\n",
    "    파이프라인 삭제\n",
    "    pipeline_name = 'sagemaker-pipeline-step-by-step-phase01'\n",
    "    clean_pipeline(pipeline_name = pipeline_name, isDeletePipeline=False, verbose=False)   \n",
    "    '''\n",
    "    # project_prefix 의 prefix 를 가진 파이프라인을 모두 가져오기\n",
    "    response = sagemaker_boto_client.list_pipelines(\n",
    "        PipelineNamePrefix= pipeline_name,\n",
    "        SortBy= 'Name',    \n",
    "        SortOrder='Descending',\n",
    "        #NextToken='string',\n",
    "        MaxResults=100\n",
    "    )\n",
    "\n",
    "    if verbose:\n",
    "        print(f\"\\n### Display pipelines with this prefix {pipeline_name} \\n\")        \n",
    "        dp(response)\n",
    "\n",
    "    \n",
    "    # pipeline_name 보여주기\n",
    "    if any(pipeline[\"PipelineDisplayName\"] == pipeline_name for pipeline in response[\"PipelineSummaries\"]):\n",
    "        print(f\"pipeline {pipeline_name} exists\")\n",
    "        response = sagemaker_boto_client.describe_pipeline(\n",
    "            PipelineName= pipeline_name\n",
    "        )    \n",
    "    \n",
    "        if verbose:\n",
    "            print(f\"\\n### pipeline {pipeline_name} definiton is \\n\")\n",
    "            dp(response)\n",
    "            \n",
    "        if isDeletePipeline:\n",
    "            sagemaker_boto_client.delete_pipeline(PipelineName= pipeline_name)            \n",
    "            print(f\"pipeline {pipeline_name} is deleted\")            \n",
    "\n",
    "    else:\n",
    "        print(f\"pipeline {pipeline_name} doesn't exists\")"
   ]
  },
  {
   "cell_type": "markdown",
   "id": "b5446f55-d72e-42d7-a89e-5ccf23c288a1",
   "metadata": {},
   "source": [
    "## 3.1. 훈련 파이프라인 삭제 (1_sm_training_pipeline)"
   ]
  },
  {
   "cell_type": "code",
   "execution_count": null,
   "id": "0c3ae78b-bafc-4f5f-b094-ea66ef9fb344",
   "metadata": {},
   "outputs": [],
   "source": [
    "\n",
    "\n",
    "sm_training_pipeline = 'ncf-pipeline-nb-training'\n",
    "\n",
    "clean_pipeline(pipeline_name = sm_training_pipeline, isDeletePipeline=True, verbose=False)   \n"
   ]
  },
  {
   "cell_type": "markdown",
   "id": "4c62d43e-dd23-45ad-904f-338601670c73",
   "metadata": {},
   "source": [
    "## 3.2 추론 파이프라인 삭제 (2_sm_serving_pipeline)"
   ]
  },
  {
   "cell_type": "code",
   "execution_count": 31,
   "id": "f6cc44dd-60f9-416a-a335-3c30e4927da4",
   "metadata": {},
   "outputs": [
    {
     "name": "stdout",
     "output_type": "stream",
     "text": [
      "pipeline ncf-pipeline-nb-serving exists\n",
      "pipeline ncf-pipeline-nb-serving is deleted\n"
     ]
    }
   ],
   "source": [
    "\n",
    "sm_serving_pipeline = 'ncf-pipeline-nb-serving'\n",
    "\n",
    "clean_pipeline(pipeline_name = sm_serving_pipeline, isDeletePipeline=True, verbose=False)   \n"
   ]
  },
  {
   "cell_type": "markdown",
   "id": "ce3073f0-5a7c-4baf-94fd-7af90253a912",
   "metadata": {},
   "source": [
    "## 3.3. 코드파이프라인 연결 훈련 파이프라인 삭제 (4_sm-train-codepipeline)"
   ]
  },
  {
   "cell_type": "code",
   "execution_count": 30,
   "id": "d26549d6-5ada-4897-8f31-c7825076cb5f",
   "metadata": {},
   "outputs": [
    {
     "name": "stdout",
     "output_type": "stream",
     "text": [
      "pipeline ncf-training-code-pipeline-sm-pipeline exists\n",
      "pipeline ncf-training-code-pipeline-sm-pipeline is deleted\n"
     ]
    }
   ],
   "source": [
    "\n",
    "sm_training_pipeline = 'ncf-training-code-pipeline-sm-pipeline'\n",
    "\n",
    "clean_pipeline(pipeline_name = sm_training_pipeline, isDeletePipeline=True, verbose=False)   \n"
   ]
  },
  {
   "cell_type": "markdown",
   "id": "5d3b748c-c3d0-4e5e-adb9-68ca3f71aaa1",
   "metadata": {},
   "source": [
    "## 3.4. 코드파이프라인 연결 서빙 파이프라인 삭제 (4_sm-serving-codepipeline)"
   ]
  },
  {
   "cell_type": "code",
   "execution_count": 36,
   "id": "1006910b-c5ea-47fe-a763-f5d4e05539f9",
   "metadata": {},
   "outputs": [
    {
     "name": "stdout",
     "output_type": "stream",
     "text": [
      "pipeline ncf-pipeline-script exists\n",
      "pipeline ncf-pipeline-script is deleted\n"
     ]
    }
   ],
   "source": [
    "\n",
    "sm_serving_pipeline = 'ncf-sm-serving-pipeline'\n",
    "clean_pipeline(pipeline_name = sm_serving_pipeline, isDeletePipeline=True, verbose=False)   \n",
    "\n",
    "# sm_serving_pipeline = 'ncf-pipeline-script'\n",
    "# clean_pipeline(pipeline_name = sm_serving_pipeline, isDeletePipeline=True, verbose=False)   \n"
   ]
  },
  {
   "cell_type": "markdown",
   "id": "8e72bf03-ae1a-4332-aaf8-81fce13cd449",
   "metadata": {},
   "source": [
    "# 4. 모델 훈련 EventBridge, Code Commit, Code Build, Code Pipeline 삭제 "
   ]
  },
  {
   "cell_type": "markdown",
   "id": "8a3155e3-cf0f-424f-9090-eb5aa00de490",
   "metadata": {},
   "source": [
    "## 4.1. 환경 설정"
   ]
  },
  {
   "cell_type": "code",
   "execution_count": 40,
   "id": "5a3f9339-db0d-4e60-ab45-478a14b70e9f",
   "metadata": {},
   "outputs": [
    {
     "name": "stdout",
     "output_type": "stream",
     "text": [
      "Code Pipeline Series Params: \n",
      "{\n",
      "  \"code_pipeline_role_arn\": \"arn:aws:iam::057716757052:role/code-pipeline-gsmoon\",\n",
      "  \"code_build_service_arn\": \"arn:aws:iam::057716757052:role/codebuild-gsmoon\",\n",
      "  \"project_prefix\": \"CodePipeline-Train-NCF\",\n",
      "  \"region\": \"us-east-1\",\n",
      "  \"account_id\": \"057716757052\",\n",
      "  \"train_code_repo_name\": \"ncf-training-repo\",\n",
      "  \"code_build_project_name\": \"ncf-code-build-training-sm-pipeline\",\n",
      "  \"bucket\": \"sagemaker-us-east-1-057716757052\",\n",
      "  \"code_pipeline_name\": \"ncf-code-pipeline-training-sm-pipeline\",\n",
      "  \"model_package_group_name\": \"NCF-Model-CodePipeline\",\n",
      "  \"branch_name\": \"master\"\n",
      "}\n",
      "SageMaker Pipeline Series Params: \n",
      "{\n",
      "  \"project_prefix\": \"SageMaker-Train-NCF\",\n",
      "  \"s3_input_data_uri\": \"s3://sagemaker-us-east-1-057716757052/NCFModel/data\",\n",
      "  \"sm_pipeline_name\": \"ncf-training-code-pipeline-sm-pipeline\",\n",
      "  \"training_instance_type\": \"ml.p3.2xlarge\",\n",
      "  \"training_instance_count\": 1,\n",
      "  \"ModelApprovalStatus\": \"PendingManualApproval\",\n",
      "  \"inference_image_uri\": \"763104351884.dkr.ecr.us-east-1.amazonaws.com/pytorch-inference:1.8.1-gpu-py3\",\n",
      "  \"bucket\": \"sagemaker-us-east-1-057716757052\"\n",
      "}\n"
     ]
    }
   ],
   "source": [
    "%store -r code_pipeline_train_config_json_path\n",
    "%store -r sm_pipeline_train_config_json_path\n",
    "\n",
    "from common_utils import load_json\n",
    "\n",
    "code_pipeline_train_config_json_path = f'3_MLOps/4_sm-train-codepipeline/{code_pipeline_train_config_json_path}'\n",
    "sm_pipeline_train_config_json_path = f'3_MLOps/4_sm-train-codepipeline/{sm_pipeline_train_config_json_path}'\n",
    "\n",
    "\n",
    "code_pipeline_train_dict = load_json(code_pipeline_train_config_json_path)\n",
    "sm_pipeline_train_dict = load_json(sm_pipeline_train_config_json_path)\n",
    "\n",
    "import json\n",
    "print(\"Code Pipeline Series Params: \")\n",
    "print (json.dumps(code_pipeline_train_dict, indent=2))\n",
    "print(\"SageMaker Pipeline Series Params: \")\n",
    "print (json.dumps(sm_pipeline_train_dict, indent=2))\n",
    "\n"
   ]
  },
  {
   "cell_type": "code",
   "execution_count": 41,
   "id": "a2c2883c-567f-4bbe-a98b-8129a6a4a7e7",
   "metadata": {},
   "outputs": [],
   "source": [
    "# region = code_pipeline_train_dict[\"region\"]\n",
    "repository_name = code_pipeline_train_dict[\"train_code_repo_name\"]\n",
    "code_build_project_name = code_pipeline_train_dict[\"code_build_project_name\"]\n",
    "code_pipeline_name = code_pipeline_train_dict[\"code_pipeline_name\"]\n",
    "model_package_group_name = code_pipeline_train_dict[\"model_package_group_name\"]\n",
    "# branch_name = code_pipeline_train_dict[\"branch_name\"]\n",
    "# pipeline_role_name = code_pipeline_train_dict[\"code_pipeline_role_arn\"]\n",
    "bucket = code_pipeline_train_dict[\"bucket\"]\n",
    "sm_pipeline_name = sm_pipeline_train_dict[\"sm_pipeline_name\"]\n",
    "\n"
   ]
  },
  {
   "cell_type": "markdown",
   "id": "92ace12a-c2db-45d0-9119-c42bd47c0ac7",
   "metadata": {},
   "source": [
    "## 4.2 이벤트 브릿지 (타겟, 룰) 삭제"
   ]
  },
  {
   "cell_type": "code",
   "execution_count": null,
   "id": "d4d23750-d1eb-46e1-baeb-f65d43a58d3f",
   "metadata": {},
   "outputs": [],
   "source": [
    "import boto3\n",
    "\n",
    "client = boto3.Session().client('events')\n",
    "\n",
    "eventbridge_rule_name = \"codecommit1\"\n",
    "\n",
    "response = client.remove_targets(\n",
    "    Rule = eventbridge_rule_name,\n",
    "    Ids = [code_pipeline_name]\n",
    ")\n",
    "\n",
    "response = client.delete_rule(\n",
    "    Name = eventbridge_rule_name\n",
    ")"
   ]
  },
  {
   "cell_type": "markdown",
   "id": "5dd06a3c-89bc-4416-8af3-c01190b3c380",
   "metadata": {},
   "source": [
    "## 4.3. 코드 리파지토리 삭제"
   ]
  },
  {
   "cell_type": "code",
   "execution_count": 42,
   "id": "003ce137-10be-4488-95cc-8f0b9e99732f",
   "metadata": {},
   "outputs": [
    {
     "name": "stdout",
     "output_type": "stream",
     "text": [
      "{\n",
      "    \"repositoryId\": \"120843b9-5883-467b-a4b6-7b1843bd11a8\"\n",
      "}\n"
     ]
    }
   ],
   "source": [
    "%%sh -s {repository_name}\n",
    "repository_name=$1\n",
    "aws codecommit delete-repository --repository-name $repository_name \n"
   ]
  },
  {
   "cell_type": "markdown",
   "id": "35541d81-23eb-432d-be5a-0679fc939620",
   "metadata": {},
   "source": [
    "## 4.4. 코드 빌드 프로젝트 삭제"
   ]
  },
  {
   "cell_type": "code",
   "execution_count": 43,
   "id": "6ce66b50-7a31-4a93-8904-36e0f87836dd",
   "metadata": {},
   "outputs": [],
   "source": [
    "%%sh -s {code_build_project_name}\n",
    "code_build_project_name=$1\n",
    "aws codebuild delete-project --name $code_build_project_name"
   ]
  },
  {
   "cell_type": "markdown",
   "id": "501ab9b9-3718-4b10-adc7-270e6d4eedb0",
   "metadata": {},
   "source": [
    "## 4.5. 코드 파이프라인 삭제"
   ]
  },
  {
   "cell_type": "code",
   "execution_count": 44,
   "id": "b29ee5c7-d94c-4308-b04f-818789afeb1c",
   "metadata": {},
   "outputs": [],
   "source": [
    "%%sh -s {code_pipeline_name}\n",
    "pipeline_name=$1\n",
    "aws codepipeline delete-pipeline --name $pipeline_name"
   ]
  },
  {
   "cell_type": "markdown",
   "id": "ecd0fbf1-1fa5-4158-84f6-a9043004731a",
   "metadata": {},
   "source": [
    "# 5. 모델 서빙 EventBridge, Code Commit, Code Build, Code Pipeline 삭제 "
   ]
  },
  {
   "cell_type": "markdown",
   "id": "e7955d13-eee2-4dfb-97f3-1311aba9dba4",
   "metadata": {
    "tags": []
   },
   "source": [
    "## 5.1. 기존의 변수 불러오기"
   ]
  },
  {
   "cell_type": "code",
   "execution_count": 46,
   "id": "ed1d92e8-9046-4490-a0a8-72674ea77095",
   "metadata": {},
   "outputs": [
    {
     "name": "stdout",
     "output_type": "stream",
     "text": [
      "Code Pipeline Series Params: \n",
      "{\n",
      "  \"code_pipeline_role_arn\": \"arn:aws:iam::057716757052:role/code-pipeline-gsmoon\",\n",
      "  \"code_build_service_arn\": \"arn:aws:iam::057716757052:role/codebuild-gsmoon\",\n",
      "  \"project_prefix\": \"CodePipeline-Serving-NCF\",\n",
      "  \"region\": \"us-east-1\",\n",
      "  \"account_id\": \"057716757052\",\n",
      "  \"serving_code_repo_name\": \"ncf-serving-repo\",\n",
      "  \"code_build_project_name\": \"ncf-serving-sm-pipeline\",\n",
      "  \"bucket\": \"sagemaker-us-east-1-057716757052\",\n",
      "  \"code_pipeline_name\": \"ncf-serving-code-pipeline\",\n",
      "  \"model_package_group_name\": \"NCF-Model-CodePipeline\",\n",
      "  \"endpoint_name\": \"ncf-codepipeline-endpoint\",\n",
      "  \"branch_name\": \"master\"\n",
      "}\n",
      "SageMaker Pipeline Series Params: \n",
      "{\n",
      "  \"sm_pipeline_name\": \"sm-serving-pipeline\",\n",
      "  \"endpoint_instance_type\": \"ml.g4dn.xlarge\",\n",
      "  \"ModelApprovalStatus\": \"Approved\",\n",
      "  \"bucket\": \"sagemaker-us-east-1-057716757052\"\n",
      "}\n"
     ]
    }
   ],
   "source": [
    "%store -r code_pipeline_serving_config_json_path\n",
    "%store -r sm_pipeline_serving_config_json_path\n",
    "\n",
    "from common_utils import load_json\n",
    "\n",
    "code_pipeline_serving_config_json_path = f'3_MLOps/5_sm-serving-codepipeline/{code_pipeline_serving_config_json_path}'\n",
    "sm_pipeline_serving_config_json_path = f'3_MLOps/5_sm-serving-codepipeline/{sm_pipeline_serving_config_json_path}'\n",
    "\n",
    "code_pipeline_serving_dict = load_json(code_pipeline_serving_config_json_path)\n",
    "sm_pipeline_serving_dict = load_json(sm_pipeline_serving_config_json_path)\n",
    "\n",
    "import json\n",
    "print(\"Code Pipeline Series Params: \")\n",
    "print (json.dumps(code_pipeline_serving_dict, indent=2))\n",
    "print(\"SageMaker Pipeline Series Params: \")\n",
    "print (json.dumps(sm_pipeline_serving_dict, indent=2))"
   ]
  },
  {
   "cell_type": "code",
   "execution_count": 47,
   "id": "e3b6d050-6c96-4361-97d2-fa1518c4103b",
   "metadata": {},
   "outputs": [
    {
     "name": "stdout",
     "output_type": "stream",
     "text": [
      "repository_name:  ncf-serving-repo\n",
      "bucket:  sagemaker-us-east-1-057716757052\n",
      "code_build_project_name:  ncf-serving-sm-pipeline\n",
      "sm_pipeline_name:  sm-serving-pipeline\n",
      "model_package_group_name:  NCF-Model-CodePipeline\n",
      "endpoint_name:  ncf-codepipeline-endpoint\n"
     ]
    }
   ],
   "source": [
    "import sagemaker\n",
    "import boto3\n",
    "\n",
    "repository_name = code_pipeline_serving_dict[\"serving_code_repo_name\"]\n",
    "code_build_project_name = code_pipeline_serving_dict[\"code_build_project_name\"]\n",
    "code_pipeline_name = code_pipeline_serving_dict[\"code_pipeline_name\"]\n",
    "endpoint_name = code_pipeline_serving_dict[\"endpoint_name\"]\n",
    "bucket = code_pipeline_serving_dict[\"bucket\"]\n",
    "model_package_group_name = code_pipeline_serving_dict[\"model_package_group_name\"]\n",
    "\n",
    "sm_pipeline_name = sm_pipeline_serving_dict[\"sm_pipeline_name\"]\n",
    "\n",
    "print(\"repository_name: \", repository_name)\n",
    "print(\"bucket: \", bucket)\n",
    "print(\"code_build_project_name: \", code_build_project_name)\n",
    "print(\"sm_pipeline_name: \", sm_pipeline_name)\n",
    "print(\"model_package_group_name: \", model_package_group_name)\n",
    "print(\"endpoint_name: \", endpoint_name)"
   ]
  },
  {
   "cell_type": "markdown",
   "id": "fca5ef4e-eb24-4fe2-9660-8829f6743abe",
   "metadata": {},
   "source": [
    "## 5.2 이벤트 브릿지 (타겟, 룰) 삭제"
   ]
  },
  {
   "cell_type": "code",
   "execution_count": 2,
   "id": "02575b5d-592b-4471-bd3f-3f1ab6580095",
   "metadata": {},
   "outputs": [
    {
     "ename": "NameError",
     "evalue": "name 'code_pipeline_name' is not defined",
     "output_type": "error",
     "traceback": [
      "\u001b[0;31m---------------------------------------------------------------------------\u001b[0m",
      "\u001b[0;31mNameError\u001b[0m                                 Traceback (most recent call last)",
      "\u001b[0;32m/tmp/ipykernel_18585/3476084896.py\u001b[0m in \u001b[0;36m<cell line: 7>\u001b[0;34m()\u001b[0m\n\u001b[1;32m      7\u001b[0m response = client.remove_targets(\n\u001b[1;32m      8\u001b[0m     \u001b[0mRule\u001b[0m \u001b[0;34m=\u001b[0m \u001b[0meventbridge_rule_name\u001b[0m\u001b[0;34m,\u001b[0m\u001b[0;34m\u001b[0m\u001b[0;34m\u001b[0m\u001b[0m\n\u001b[0;32m----> 9\u001b[0;31m     \u001b[0mIds\u001b[0m \u001b[0;34m=\u001b[0m \u001b[0;34m[\u001b[0m\u001b[0mcode_pipeline_name\u001b[0m\u001b[0;34m]\u001b[0m\u001b[0;34m\u001b[0m\u001b[0;34m\u001b[0m\u001b[0m\n\u001b[0m\u001b[1;32m     10\u001b[0m )\n\u001b[1;32m     11\u001b[0m \u001b[0;34m\u001b[0m\u001b[0m\n",
      "\u001b[0;31mNameError\u001b[0m: name 'code_pipeline_name' is not defined"
     ]
    }
   ],
   "source": [
    "import boto3\n",
    "\n",
    "client = boto3.Session().client('events')\n",
    "\n",
    "eventbridge_rule_name = \"codecommit2\"\n",
    "\n",
    "response = client.remove_targets(\n",
    "    Rule = eventbridge_rule_name,\n",
    "    Ids = [code_pipeline_name]\n",
    ")\n",
    "\n",
    "response = client.delete_rule(\n",
    "    Name = eventbridge_rule_name\n",
    ")"
   ]
  },
  {
   "cell_type": "markdown",
   "id": "e9f720b0-672f-4e17-ba29-d52da22b3820",
   "metadata": {},
   "source": [
    "## 5.3. 코드 리파지토리 삭제"
   ]
  },
  {
   "cell_type": "code",
   "execution_count": 48,
   "id": "ac5d43ec-99ad-4fae-ad93-e7fa3909d94c",
   "metadata": {},
   "outputs": [
    {
     "name": "stdout",
     "output_type": "stream",
     "text": [
      "{\n",
      "    \"repositoryId\": \"5692574b-394f-4761-88e0-347d5414b397\"\n",
      "}\n"
     ]
    }
   ],
   "source": [
    "%%sh -s {repository_name}\n",
    "repository_name=$1\n",
    "aws codecommit delete-repository --repository-name $repository_name \n"
   ]
  },
  {
   "cell_type": "markdown",
   "id": "4004d638-31b0-4060-a928-16d541f3af07",
   "metadata": {},
   "source": [
    "## 5.4. 코드 빌드 프로젝트 삭제"
   ]
  },
  {
   "cell_type": "code",
   "execution_count": 49,
   "id": "b01e2fb6-42ed-4e6c-ac94-330b9bcae15e",
   "metadata": {},
   "outputs": [],
   "source": [
    "%%sh -s {code_build_project_name}\n",
    "code_build_project_name=$1\n",
    "aws codebuild delete-project --name $code_build_project_name"
   ]
  },
  {
   "cell_type": "markdown",
   "id": "faa29936-6e7a-4012-af44-9f50b4cbecc2",
   "metadata": {},
   "source": [
    "## 5.5. 코드 파이프라인 삭제"
   ]
  },
  {
   "cell_type": "code",
   "execution_count": 50,
   "id": "a42b0b15-49fb-4c9a-85c7-6375cb456c2b",
   "metadata": {},
   "outputs": [],
   "source": [
    "%%sh -s {code_pipeline_name}\n",
    "pipeline_name=$1\n",
    "aws codepipeline delete-pipeline --name $pipeline_name"
   ]
  },
  {
   "cell_type": "markdown",
   "id": "f087b740-d128-430d-abeb-ea8b150d28f9",
   "metadata": {},
   "source": [
    "# 6. 모델 패키지 삭제\n",
    "\n",
    "- 해당 패키지 그룹을 삭제 함.\n",
    "- 추가적으로 다른 채키지 그룹은 리스트로 보여 줌."
   ]
  },
  {
   "cell_type": "code",
   "execution_count": null,
   "id": "a288bbae-8aa3-43e8-85cb-6c3f3ae89107",
   "metadata": {},
   "outputs": [],
   "source": [
    "sm_client = boto3.Session().client('sagemaker')\n",
    "model_package_group_name = 'NCFModel'\n",
    "\n",
    "def delete_model_package_group(sm_client, ModelPackageGroupName, isDelete=False, verbose=True):\n",
    "    \n",
    "    for mpg in sm_client.list_model_package_groups()['ModelPackageGroupSummaryList']:\n",
    "        print(mpg['ModelPackageGroupName'])\n",
    "\n",
    "        if (mpg['ModelPackageGroupName'] == ModelPackageGroupName): # 해당 패키지만 그룹만 삭제\n",
    "            for mp in sm_client.list_model_packages(ModelPackageGroupName=mpg['ModelPackageGroupName'])['ModelPackageSummaryList']:\n",
    "                print(mp['ModelPackageArn'])\n",
    "                try:\n",
    "                    if isDelete:\n",
    "                        sm_client.delete_model_package(ModelPackageName=mp['ModelPackageArn'])\n",
    "                        print(f\"###### ModelPackageGroupName: {ModelPackageGroupName} is deleted ######\")\n",
    "                except BaseException as error:\n",
    "                    error_msg = f\"Model Package error occurred: {error}\"\n",
    "                    print(error_msg)  \n",
    "                    pass\n",
    "\n",
    "            try:\n",
    "                pass\n",
    "                if isDelete:\n",
    "                    sm_client.delete_model_package_group(ModelPackageGroupName=mpg['ModelPackageGroupName'])\n",
    "            except:\n",
    "                print(\"model_pakcage_group error\")\n",
    "                pass\n",
    "        \n",
    "#delete_model_package_group(sm_client, ModelPackageGroupName=model_package_group_name, isDelete=False, verbose=True)        \n",
    "delete_model_package_group(sm_client, ModelPackageGroupName=model_package_group_name, isDelete=True, verbose=True) "
   ]
  },
  {
   "cell_type": "markdown",
   "id": "b949a66b",
   "metadata": {},
   "source": [
    "# 5. 세이지 메이커 실험 지우기"
   ]
  },
  {
   "cell_type": "code",
   "execution_count": null,
   "id": "8e416423",
   "metadata": {},
   "outputs": [],
   "source": [
    "import time\n",
    "\n",
    "from smexperiments.experiment import Experiment\n",
    "from smexperiments.trial import Trial\n",
    "from smexperiments.trial_component import TrialComponent"
   ]
  },
  {
   "cell_type": "code",
   "execution_count": null,
   "id": "fd90a727",
   "metadata": {},
   "outputs": [],
   "source": [
    "experiment_name='NCFModel-single-train'  #<== 생성한 experiment_name을 넣어야 합니다."
   ]
  },
  {
   "cell_type": "code",
   "execution_count": null,
   "id": "5eb98359",
   "metadata": {},
   "outputs": [],
   "source": [
    "def cleanup_sme_sdk(experiment):\n",
    "    for trial_summary in experiment.list_trials():\n",
    "        trial = Trial.load(trial_name=trial_summary.trial_name)\n",
    "        for trial_component_summary in trial.list_trial_components():\n",
    "            tc = TrialComponent.load(\n",
    "                trial_component_name=trial_component_summary.trial_component_name)\n",
    "            trial.remove_trial_component(tc)\n",
    "            try:\n",
    "                # comment out to keep trial components\n",
    "                tc.delete()\n",
    "            except:\n",
    "                # tc is associated with another trial\n",
    "                continue\n",
    "            # to prevent throttling\n",
    "            time.sleep(.5)\n",
    "        trial.delete()\n",
    "        experiment_name = experiment.experiment_name\n",
    "    experiment.delete()\n",
    "    print(f\"\\nExperiment {experiment_name} deleted\")"
   ]
  },
  {
   "cell_type": "code",
   "execution_count": null,
   "id": "28349a2a",
   "metadata": {},
   "outputs": [],
   "source": [
    "experiment_to_cleanup = Experiment.load(\n",
    "    # Use experiment name not display name\n",
    "    experiment_name=experiment_name)\n",
    "\n",
    "cleanup_sme_sdk(experiment_to_cleanup)"
   ]
  },
  {
   "cell_type": "markdown",
   "id": "072d1fc1",
   "metadata": {},
   "source": [
    "# 6. S3 버킷 삭제\n"
   ]
  },
  {
   "cell_type": "code",
   "execution_count": null,
   "id": "d57d4bd9",
   "metadata": {},
   "outputs": [],
   "source": [
    "import sagemaker\n",
    "sagemaker_session = sagemaker.session.Session()"
   ]
  },
  {
   "cell_type": "code",
   "execution_count": null,
   "id": "5e5e5ecc",
   "metadata": {},
   "outputs": [],
   "source": [
    "bucket = sagemaker_session.default_bucket()\n",
    "bucket"
   ]
  },
  {
   "cell_type": "code",
   "execution_count": null,
   "id": "899818a5",
   "metadata": {},
   "outputs": [],
   "source": [
    "!aws s3 ls s3://$bucket/NCFModel --recursive"
   ]
  },
  {
   "cell_type": "code",
   "execution_count": null,
   "id": "10f80813",
   "metadata": {},
   "outputs": [],
   "source": [
    "# !aws s3 rm s3://$bucket/NCFModel --recursive"
   ]
  },
  {
   "cell_type": "code",
   "execution_count": null,
   "id": "18357439",
   "metadata": {},
   "outputs": [],
   "source": [
    "!aws s3 ls s3://$bucket/NCFModel --recursive"
   ]
  },
  {
   "cell_type": "markdown",
   "id": "95995e78",
   "metadata": {},
   "source": [
    "# 7. 세이지 메이커 노트북 인스턴스 삭제\n",
    "## 처음 실습시 생성한 클라우드 포메이션으로 생성한 스택을 삭제 하셨다면, 이 과정은 안하셔도 됩니다. \n",
    "\n",
    "## [중요]  하지만 아래의 세이지 메이커의 콘솔에 가셔서 직접 확인을 해주세요. "
   ]
  },
  {
   "cell_type": "markdown",
   "id": "a0457b41",
   "metadata": {},
   "source": [
    "## 아래와 같이 노트북 인스턴스를 선택하고, Stop (중지) 후에 Delete(삭제) 해주세요."
   ]
  },
  {
   "cell_type": "markdown",
   "id": "7254c94b",
   "metadata": {},
   "source": [
    "![notebook_instance.png](img/notebook_instance.png)"
   ]
  },
  {
   "cell_type": "markdown",
   "id": "17498265",
   "metadata": {},
   "source": [
    "## 아래와 같이 위의 노트북 인스턴스가 없어야 합니다."
   ]
  },
  {
   "cell_type": "markdown",
   "id": "2a38af52",
   "metadata": {},
   "source": [
    "![empty_notebook.png](img/empty_notebook.png)"
   ]
  },
  {
   "cell_type": "code",
   "execution_count": null,
   "id": "05cd5bc7",
   "metadata": {},
   "outputs": [],
   "source": []
  }
 ],
 "metadata": {
  "kernelspec": {
   "display_name": "conda_python3",
   "language": "python",
   "name": "conda_python3"
  },
  "language_info": {
   "codemirror_mode": {
    "name": "ipython",
    "version": 3
   },
   "file_extension": ".py",
   "mimetype": "text/x-python",
   "name": "python",
   "nbconvert_exporter": "python",
   "pygments_lexer": "ipython3",
   "version": "3.8.12"
  }
 },
 "nbformat": 4,
 "nbformat_minor": 5
}
