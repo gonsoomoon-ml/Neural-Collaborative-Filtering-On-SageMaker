{
 "cells": [
  {
   "cell_type": "markdown",
   "id": "2debc008",
   "metadata": {},
   "source": [
    "# [중요] 리소스 정리 (Clean-up Resource)\n",
    "### 아래 과정을 꼼꼼하게 해주세요. 그렇지 않으면 요금이 발생할 수 있습니다."
   ]
  },
  {
   "cell_type": "markdown",
   "id": "62372375-3237-4c93-b10a-c931b07c3069",
   "metadata": {},
   "source": [
    "# 1. 환경 셋업"
   ]
  },
  {
   "cell_type": "markdown",
   "id": "db4cfa8c-933a-480c-9c30-e17706316004",
   "metadata": {},
   "source": [
    "## 기본 세팅\n",
    "사용하는 패키지는 import 시점에 다시 재로딩 합니다."
   ]
  },
  {
   "cell_type": "code",
   "execution_count": null,
   "id": "a60e44cb-2157-42d7-a880-cf39c11f9dbe",
   "metadata": {},
   "outputs": [],
   "source": [
    "%load_ext autoreload\n",
    "%autoreload 2\n",
    "\n",
    "import sys\n",
    "sys.path.append('./2_Inference/src')"
   ]
  },
  {
   "cell_type": "markdown",
   "id": "00722312",
   "metadata": {},
   "source": [
    "# 2. 세이지 메이커 앤드포인트 삭제 확인\n",
    "- 아래와 같이 콘솔에 가셔서 엔드포인트가 없어야 합니다.\n",
    "    - 만일 존재하면 삭제 해주세요."
   ]
  },
  {
   "cell_type": "code",
   "execution_count": null,
   "id": "8a4eead4-e630-4c92-9355-216ac65321c9",
   "metadata": {},
   "outputs": [],
   "source": [
    "from inference_utils import delete_endpoint\n",
    "import boto3"
   ]
  },
  {
   "cell_type": "code",
   "execution_count": null,
   "id": "9be67cb2-668f-44c9-b67a-7c465741d489",
   "metadata": {},
   "outputs": [],
   "source": [
    "client = boto3.Session().client('sagemaker')\n",
    "\n",
    "endpoint_name = 'sm-ncf'\n",
    "\n",
    "response = client.list_endpoints(\n",
    "    SortBy='Name',\n",
    "    SortOrder='Ascending',\n",
    "    NameContains=endpoint_name,\n",
    ")\n",
    "\n",
    "for ep_list in response['Endpoints']:\n",
    "    print(\"endpoint name: \\n\", ep_list[\"EndpointName\"])\n",
    "    ep = ep_list[\"EndpointName\"]\n",
    "    delete_endpoint(client, ep)"
   ]
  },
  {
   "cell_type": "code",
   "execution_count": null,
   "id": "95248d48-7861-47a3-a8ce-77f40b7f7b7d",
   "metadata": {},
   "outputs": [],
   "source": [
    "endpoint_name = 'lambda-deploy-endpoint'\n",
    "\n",
    "response = client.list_endpoints(\n",
    "    SortBy='Name',\n",
    "    SortOrder='Ascending',\n",
    "    NameContains=endpoint_name,\n",
    ")\n",
    "\n",
    "for ep_list in response['Endpoints']:\n",
    "    print(\"endpoint name: \\n\", ep_list[\"EndpointName\"])\n",
    "    ep = ep_list[\"EndpointName\"]\n",
    "    delete_endpoint(client, ep)\n"
   ]
  },
  {
   "cell_type": "markdown",
   "id": "cf8329b4-b1ef-41b2-8d3e-ed71e86c9e9d",
   "metadata": {},
   "source": [
    "- SageMaker Concole --> 왼쪽 메뉴의 Inference --> Endpoints 로 다음과 같이 엔드포인트가 있는지 확인 하세요."
   ]
  },
  {
   "cell_type": "markdown",
   "id": "015c9545",
   "metadata": {},
   "source": [
    "![sm_endpoint_console.png](img/sm_endpoint_console.png)"
   ]
  },
  {
   "cell_type": "markdown",
   "id": "348b47ad-0f12-43f8-a246-312a7c447571",
   "metadata": {},
   "source": [
    "# 3. 파이프라인 삭제"
   ]
  },
  {
   "cell_type": "code",
   "execution_count": null,
   "id": "feacaf2e-1d31-4c75-ba57-0c6a7d15a932",
   "metadata": {},
   "outputs": [],
   "source": [
    "sagemaker_boto_client = boto3.client('sagemaker')\n",
    "\n",
    "def clean_pipeline(pipeline_name, isDeletePipeline=False, verbose=False):\n",
    "    '''\n",
    "    파이프라인 삭제\n",
    "    pipeline_name = 'sagemaker-pipeline-step-by-step-phase01'\n",
    "    clean_pipeline(pipeline_name = pipeline_name, isDeletePipeline=False, verbose=False)   \n",
    "    '''\n",
    "    # project_prefix 의 prefix 를 가진 파이프라인을 모두 가져오기\n",
    "    response = sagemaker_boto_client.list_pipelines(\n",
    "        PipelineNamePrefix= pipeline_name,\n",
    "        SortBy= 'Name',    \n",
    "        SortOrder='Descending',\n",
    "        #NextToken='string',\n",
    "        MaxResults=100\n",
    "    )\n",
    "\n",
    "    if verbose:\n",
    "        print(f\"\\n### Display pipelines with this prefix {pipeline_name} \\n\")        \n",
    "        dp(response)\n",
    "\n",
    "    \n",
    "    # pipeline_name 보여주기\n",
    "    if any(pipeline[\"PipelineDisplayName\"] == pipeline_name for pipeline in response[\"PipelineSummaries\"]):\n",
    "        print(f\"pipeline {pipeline_name} exists\")\n",
    "        response = sagemaker_boto_client.describe_pipeline(\n",
    "            PipelineName= pipeline_name\n",
    "        )    \n",
    "    \n",
    "        if verbose:\n",
    "            print(f\"\\n### pipeline {pipeline_name} definiton is \\n\")\n",
    "            dp(response)\n",
    "            \n",
    "        if isDeletePipeline:\n",
    "            sagemaker_boto_client.delete_pipeline(PipelineName= pipeline_name)            \n",
    "            print(f\"pipeline {pipeline_name} is deleted\")            \n",
    "\n",
    "    else:\n",
    "        print(f\"pipeline {pipeline_name} doesn't exists\")"
   ]
  },
  {
   "cell_type": "markdown",
   "id": "b5446f55-d72e-42d7-a89e-5ccf23c288a1",
   "metadata": {},
   "source": [
    "## 3.1. 훈련 파이프라인 삭제"
   ]
  },
  {
   "cell_type": "code",
   "execution_count": null,
   "id": "0c3ae78b-bafc-4f5f-b094-ea66ef9fb344",
   "metadata": {},
   "outputs": [],
   "source": [
    "\n",
    "\n",
    "sm_training_pipeline = 'ncf-pipeline-nb-training'\n",
    "\n",
    "clean_pipeline(pipeline_name = sm_training_pipeline, isDeletePipeline=True, verbose=False)   \n"
   ]
  },
  {
   "cell_type": "markdown",
   "id": "4c62d43e-dd23-45ad-904f-338601670c73",
   "metadata": {},
   "source": [
    "## 3.2 추론 파이프라인 삭제"
   ]
  },
  {
   "cell_type": "code",
   "execution_count": null,
   "id": "f6cc44dd-60f9-416a-a335-3c30e4927da4",
   "metadata": {},
   "outputs": [],
   "source": [
    "\n",
    "sm_serving_pipeline = 'ncf-sm-serving-pipeline'\n",
    "\n",
    "clean_pipeline(pipeline_name = sm_serving_pipeline, isDeletePipeline=True, verbose=False)   \n"
   ]
  },
  {
   "cell_type": "markdown",
   "id": "f087b740-d128-430d-abeb-ea8b150d28f9",
   "metadata": {},
   "source": [
    "# 4. 모델 패키지 삭제\n",
    "\n",
    "- 해당 패키지 그룹을 삭제 함.\n",
    "- 추가적으로 다른 채키지 그룹은 리스트로 보여 줌."
   ]
  },
  {
   "cell_type": "code",
   "execution_count": null,
   "id": "a288bbae-8aa3-43e8-85cb-6c3f3ae89107",
   "metadata": {},
   "outputs": [],
   "source": [
    "sm_client = boto3.Session().client('sagemaker')\n",
    "model_package_group_name = 'NCFModel'\n",
    "\n",
    "def delete_model_package_group(sm_client, ModelPackageGroupName, isDelete=False, verbose=True):\n",
    "    \n",
    "    for mpg in sm_client.list_model_package_groups()['ModelPackageGroupSummaryList']:\n",
    "        print(mpg['ModelPackageGroupName'])\n",
    "\n",
    "        if (mpg['ModelPackageGroupName'] == ModelPackageGroupName): # 해당 패키지만 그룹만 삭제\n",
    "            for mp in sm_client.list_model_packages(ModelPackageGroupName=mpg['ModelPackageGroupName'])['ModelPackageSummaryList']:\n",
    "                print(mp['ModelPackageArn'])\n",
    "                try:\n",
    "                    if isDelete:\n",
    "                        sm_client.delete_model_package(ModelPackageName=mp['ModelPackageArn'])\n",
    "                        print(f\"###### ModelPackageGroupName: {ModelPackageGroupName} is deleted ######\")\n",
    "                except BaseException as error:\n",
    "                    error_msg = f\"Model Package error occurred: {error}\"\n",
    "                    print(error_msg)  \n",
    "                    pass\n",
    "\n",
    "            try:\n",
    "                pass\n",
    "                if isDelete:\n",
    "                    sm_client.delete_model_package_group(ModelPackageGroupName=mpg['ModelPackageGroupName'])\n",
    "            except:\n",
    "                print(\"model_pakcage_group error\")\n",
    "                pass\n",
    "        \n",
    "#delete_model_package_group(sm_client, ModelPackageGroupName=model_package_group_name, isDelete=False, verbose=True)        \n",
    "delete_model_package_group(sm_client, ModelPackageGroupName=model_package_group_name, isDelete=True, verbose=True) "
   ]
  },
  {
   "cell_type": "markdown",
   "id": "b949a66b",
   "metadata": {},
   "source": [
    "# 5. 세이지 메이커 실험 지우기"
   ]
  },
  {
   "cell_type": "code",
   "execution_count": null,
   "id": "8e416423",
   "metadata": {},
   "outputs": [],
   "source": [
    "import time\n",
    "\n",
    "from smexperiments.experiment import Experiment\n",
    "from smexperiments.trial import Trial\n",
    "from smexperiments.trial_component import TrialComponent"
   ]
  },
  {
   "cell_type": "code",
   "execution_count": null,
   "id": "fd90a727",
   "metadata": {},
   "outputs": [],
   "source": [
    "experiment_name='NCFModel-single-train'  #<== 생성한 experiment_name을 넣어야 합니다."
   ]
  },
  {
   "cell_type": "code",
   "execution_count": null,
   "id": "5eb98359",
   "metadata": {},
   "outputs": [],
   "source": [
    "def cleanup_sme_sdk(experiment):\n",
    "    for trial_summary in experiment.list_trials():\n",
    "        trial = Trial.load(trial_name=trial_summary.trial_name)\n",
    "        for trial_component_summary in trial.list_trial_components():\n",
    "            tc = TrialComponent.load(\n",
    "                trial_component_name=trial_component_summary.trial_component_name)\n",
    "            trial.remove_trial_component(tc)\n",
    "            try:\n",
    "                # comment out to keep trial components\n",
    "                tc.delete()\n",
    "            except:\n",
    "                # tc is associated with another trial\n",
    "                continue\n",
    "            # to prevent throttling\n",
    "            time.sleep(.5)\n",
    "        trial.delete()\n",
    "        experiment_name = experiment.experiment_name\n",
    "    experiment.delete()\n",
    "    print(f\"\\nExperiment {experiment_name} deleted\")"
   ]
  },
  {
   "cell_type": "code",
   "execution_count": null,
   "id": "28349a2a",
   "metadata": {},
   "outputs": [],
   "source": [
    "experiment_to_cleanup = Experiment.load(\n",
    "    # Use experiment name not display name\n",
    "    experiment_name=experiment_name)\n",
    "\n",
    "cleanup_sme_sdk(experiment_to_cleanup)"
   ]
  },
  {
   "cell_type": "markdown",
   "id": "072d1fc1",
   "metadata": {},
   "source": [
    "# 6. S3 버킷 삭제\n"
   ]
  },
  {
   "cell_type": "code",
   "execution_count": null,
   "id": "d57d4bd9",
   "metadata": {},
   "outputs": [],
   "source": [
    "import sagemaker\n",
    "sagemaker_session = sagemaker.session.Session()"
   ]
  },
  {
   "cell_type": "code",
   "execution_count": null,
   "id": "5e5e5ecc",
   "metadata": {},
   "outputs": [],
   "source": [
    "bucket = sagemaker_session.default_bucket()\n",
    "bucket"
   ]
  },
  {
   "cell_type": "code",
   "execution_count": null,
   "id": "899818a5",
   "metadata": {},
   "outputs": [],
   "source": [
    "!aws s3 ls s3://$bucket/NCFModel --recursive"
   ]
  },
  {
   "cell_type": "code",
   "execution_count": null,
   "id": "10f80813",
   "metadata": {},
   "outputs": [],
   "source": [
    "# !aws s3 rm s3://$bucket/NCFModel --recursive"
   ]
  },
  {
   "cell_type": "code",
   "execution_count": null,
   "id": "18357439",
   "metadata": {},
   "outputs": [],
   "source": [
    "!aws s3 ls s3://$bucket/NCFModel --recursive"
   ]
  },
  {
   "cell_type": "markdown",
   "id": "95995e78",
   "metadata": {},
   "source": [
    "# 7. 세이지 메이커 노트북 인스턴스 삭제\n",
    "## 처음 실습시 생성한 클라우드 포메이션으로 생성한 스택을 삭제 하셨다면, 이 과정은 안하셔도 됩니다. \n",
    "\n",
    "## [중요]  하지만 아래의 세이지 메이커의 콘솔에 가셔서 직접 확인을 해주세요. "
   ]
  },
  {
   "cell_type": "markdown",
   "id": "a0457b41",
   "metadata": {},
   "source": [
    "## 아래와 같이 노트북 인스턴스를 선택하고, Stop (중지) 후에 Delete(삭제) 해주세요."
   ]
  },
  {
   "cell_type": "markdown",
   "id": "7254c94b",
   "metadata": {},
   "source": [
    "![notebook_instance.png](img/notebook_instance.png)"
   ]
  },
  {
   "cell_type": "markdown",
   "id": "17498265",
   "metadata": {},
   "source": [
    "## 아래와 같이 위의 노트북 인스턴스가 없어야 합니다."
   ]
  },
  {
   "cell_type": "markdown",
   "id": "2a38af52",
   "metadata": {},
   "source": [
    "![empty_notebook.png](img/empty_notebook.png)"
   ]
  },
  {
   "cell_type": "code",
   "execution_count": null,
   "id": "05cd5bc7",
   "metadata": {},
   "outputs": [],
   "source": []
  }
 ],
 "metadata": {
  "kernelspec": {
   "display_name": "conda_python3",
   "language": "python",
   "name": "conda_python3"
  },
  "language_info": {
   "codemirror_mode": {
    "name": "ipython",
    "version": 3
   },
   "file_extension": ".py",
   "mimetype": "text/x-python",
   "name": "python",
   "nbconvert_exporter": "python",
   "pygments_lexer": "ipython3",
   "version": "3.8.12"
  }
 },
 "nbformat": 4,
 "nbformat_minor": 5
}
