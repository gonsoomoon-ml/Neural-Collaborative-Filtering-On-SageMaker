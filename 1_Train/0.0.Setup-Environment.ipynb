{
 "cells": [
  {
   "cell_type": "markdown",
   "id": "c1af41d6",
   "metadata": {},
   "source": [
    "# [Module 0.0] 환경 셋업\n",
    "\n",
    "## 본 워크샵의 모든 노트북은 `conda_python3` 를  선택해야 합니다."
   ]
  },
  {
   "cell_type": "code",
   "execution_count": null,
   "id": "fcf2e66b-4e82-4cb9-8bcd-bed0cc5554ff",
   "metadata": {},
   "outputs": [],
   "source": [
    "pip install --upgrade pip"
   ]
  },
  {
   "cell_type": "markdown",
   "id": "01f63727",
   "metadata": {},
   "source": [
    "# 환경 셋업\n",
    "- conda_python3 커널에 torch==1.8.1 등을 설치합니다.\n",
    "- [중요] 이 버전은 훈련시 파이토치 프레임워크 도커 컨테이너와 버전과 동일 합니다. "
   ]
  },
  {
   "cell_type": "code",
   "execution_count": null,
   "id": "bbd8b0bb",
   "metadata": {},
   "outputs": [],
   "source": [
    "requirements_code = 'src/requirements.txt'\n",
    "!pygmentize {requirements_code}"
   ]
  },
  {
   "cell_type": "code",
   "execution_count": null,
   "id": "405cc094",
   "metadata": {},
   "outputs": [],
   "source": [
    "! pip install -r {requirements_code}"
   ]
  },
  {
   "cell_type": "code",
   "execution_count": null,
   "id": "81847e47",
   "metadata": {},
   "outputs": [],
   "source": [
    "import torch\n",
    "print(\"torch version: \", torch.__version__)\n"
   ]
  },
  {
   "cell_type": "markdown",
   "id": "93d6f96e-7192-4e99-ab40-2c797e332950",
   "metadata": {},
   "source": [
    "## SageMaker SDK version 설정 (2.118.0)"
   ]
  },
  {
   "cell_type": "code",
   "execution_count": null,
   "id": "2a38be6f-db64-47b7-806e-ed38dfc515cb",
   "metadata": {
    "tags": []
   },
   "outputs": [],
   "source": [
    "!pip install --upgrade sagemaker==2.118.0"
   ]
  },
  {
   "cell_type": "code",
   "execution_count": null,
   "id": "7afd4402-cb37-43a4-bf92-18abd8eb2022",
   "metadata": {},
   "outputs": [],
   "source": [
    "import sagemaker\n",
    "sagemaker.__version__"
   ]
  },
  {
   "cell_type": "markdown",
   "id": "f399ba14",
   "metadata": {},
   "source": [
    "## SageMaker Experiment 설치"
   ]
  },
  {
   "cell_type": "code",
   "execution_count": null,
   "id": "e9d0795f",
   "metadata": {},
   "outputs": [],
   "source": [
    "!pip install --upgrade sagemaker-experiments"
   ]
  },
  {
   "cell_type": "markdown",
   "id": "9448f5b8",
   "metadata": {},
   "source": [
    "## 로컬 모드 셋업\n",
    "- 기본 다커 폴더 위치 변경 등을 함."
   ]
  },
  {
   "cell_type": "code",
   "execution_count": null,
   "id": "bf4cf856",
   "metadata": {},
   "outputs": [],
   "source": [
    "! bash local_mode_setup.sh"
   ]
  },
  {
   "cell_type": "code",
   "execution_count": null,
   "id": "ead84e85",
   "metadata": {},
   "outputs": [],
   "source": []
  },
  {
   "cell_type": "code",
   "execution_count": null,
   "id": "15550287-34ff-4e16-bd28-5d002212dab8",
   "metadata": {},
   "outputs": [],
   "source": []
  },
  {
   "cell_type": "code",
   "execution_count": null,
   "id": "43012b86-0d83-477a-8e0a-31021cb1bfd2",
   "metadata": {},
   "outputs": [],
   "source": []
  }
 ],
 "metadata": {
  "kernelspec": {
   "display_name": "conda_python3",
   "language": "python",
   "name": "conda_python3"
  },
  "language_info": {
   "codemirror_mode": {
    "name": "ipython",
    "version": 3
   },
   "file_extension": ".py",
   "mimetype": "text/x-python",
   "name": "python",
   "nbconvert_exporter": "python",
   "pygments_lexer": "ipython3",
   "version": "3.8.12"
  }
 },
 "nbformat": 4,
 "nbformat_minor": 5
}
