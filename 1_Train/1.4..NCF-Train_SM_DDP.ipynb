{
 "cells": [
  {
   "cell_type": "markdown",
   "metadata": {},
   "source": [
    "# [Module 1.4] SM DDP 분산 훈련\n",
    "\n",
    "### 본 워크샵의 모든 노트북은 `conda_python3` 여기에서 작업 합니다.\n",
    "### 이 노트북은 ml.p3.16xlarge 이상의 노트북 인스턴스에서 실행이 가능합니다.\n",
    "\n",
    "이 노트북은 아래와 같은 작업을 합니다.\n",
    "- 1. 환경 셋업\n",
    "- 2. 세이지 메이크 로컬 모드 훈련\n",
    "- 3. SageMaker Host Mode 로 훈련\n",
    "- 4. 모델 아티펙트 저장\n",
    " \n",
    "---\n",
    "\n",
    "### 참고\n",
    "- [Amazon SageMaker Distributed Training Libraries](https://docs.aws.amazon.com/sagemaker/latest/dg/distributed-training.html)\n",
    "- [Amazon SageMaker Distributed Training Notebook Examples](https://docs.aws.amazon.com/sagemaker/latest/dg/distributed-training-notebook-examples.html)"
   ]
  },
  {
   "cell_type": "markdown",
   "metadata": {},
   "source": [
    "# 1. 환경 셋업"
   ]
  },
  {
   "cell_type": "markdown",
   "metadata": {},
   "source": [
    "## 기본 세팅\n",
    "사용하는 패키지는 import 시점에 다시 재로딩 합니다."
   ]
  },
  {
   "cell_type": "code",
   "execution_count": null,
   "metadata": {},
   "outputs": [],
   "source": [
    "%load_ext autoreload\n",
    "%autoreload 2\n",
    "\n",
    "import sys\n",
    "sys.path.append('./src')"
   ]
  },
  {
   "cell_type": "code",
   "execution_count": null,
   "metadata": {},
   "outputs": [],
   "source": [
    "### 커스텀 라이브러리\n",
    "import config "
   ]
  },
  {
   "cell_type": "markdown",
   "metadata": {},
   "source": [
    "버킷 및 폴더(prefix) 설정"
   ]
  },
  {
   "cell_type": "code",
   "execution_count": null,
   "metadata": {},
   "outputs": [],
   "source": [
    "import sagemaker\n",
    "\n",
    "sagemaker_session = sagemaker.Session()\n",
    "role = sagemaker.get_execution_role()\n",
    "\n",
    "use_default_bucket = True\n",
    "if use_default_bucket:\n",
    "    bucket = sagemaker_session.default_bucket()\n",
    "else:\n",
    "    bucket = '<Type your bucket>'\n",
    "    \n",
    "prefix = \"NCFModel\"\n",
    "\n"
   ]
  },
  {
   "cell_type": "markdown",
   "metadata": {},
   "source": [
    "# 2. 세이지 메이크 로컬 모드 훈련\n",
    "#### 로컬의 GPU, CPU 여부로 instance_type 결정"
   ]
  },
  {
   "cell_type": "code",
   "execution_count": null,
   "metadata": {},
   "outputs": [],
   "source": [
    "import os\n",
    "import subprocess\n",
    "\n",
    "\n",
    "try:\n",
    "    if subprocess.call(\"nvidia-smi\") == 0:\n",
    "        ## Set type to GPU if one is present\n",
    "        instance_type = \"local_gpu\"\n",
    "    else:\n",
    "        instance_type = \"local\"        \n",
    "except:\n",
    "    pass\n",
    "\n",
    "print(\"Instance type = \" + instance_type)"
   ]
  },
  {
   "cell_type": "markdown",
   "metadata": {},
   "source": [
    "## 2.1. 스크립트 모드의 코드 작성 방법\n",
    "- ![script_mode_example](img/script_mode_example.png)"
   ]
  },
  {
   "cell_type": "markdown",
   "metadata": {},
   "source": [
    "## 2.2.훈련 코드 확인\n",
    "- 아래의 코드는 전형적인 스크립트 모드의 코드 작성 방법을 따르고 있습니다.\n",
    "- 훈련 함수는 `from train_lib import train` 로서 이전 노트북의 **[세이지 메이커 없이]** 작성한 스크래치 버전에서 사용한 훈련 함수와 동일 합니다.\n"
   ]
  },
  {
   "cell_type": "code",
   "execution_count": null,
   "metadata": {},
   "outputs": [],
   "source": [
    "# train_code = 'src/train_horovod.py'\n",
    "# !pygmentize {train_code}"
   ]
  },
  {
   "cell_type": "markdown",
   "metadata": {},
   "source": [
    "## 2.3. 로컬에 있는 데이타 세트의 위치를 지정 합니다."
   ]
  },
  {
   "cell_type": "code",
   "execution_count": null,
   "metadata": {},
   "outputs": [],
   "source": [
    "local_inputs = config.main_path\n",
    "print(\"local_inputs: \", local_inputs)"
   ]
  },
  {
   "cell_type": "code",
   "execution_count": null,
   "metadata": {},
   "outputs": [],
   "source": [
    "local_inputs = {'train': f'file://{local_inputs}',\n",
    "          'test': f'file://{local_inputs}'}"
   ]
  },
  {
   "cell_type": "markdown",
   "metadata": {},
   "source": [
    "## 2.4. 로컬 모드로 훈련 실행\n",
    "- 아래의 두 라인이 로컬모드로 훈련을 지시 합니다.\n",
    "```python\n",
    "    instance_type=instance_type, # local_gpu or local 지정\n",
    "    session = sagemaker.LocalSession(), # 로컬 세션을 사용합니다.\n",
    "```"
   ]
  },
  {
   "cell_type": "code",
   "execution_count": null,
   "metadata": {},
   "outputs": [],
   "source": [
    "hyperparameters = {'epochs': 1, \n",
    "                   'lr': 0.001,\n",
    "                   'batch_size': 256,\n",
    "                   'top_k' : 10,\n",
    "                   'dropout' : 0.0,\n",
    "                   'factor_num' : 32,\n",
    "                   'num_layers' : 3,\n",
    "                   'num_ng' : 4,\n",
    "                   'test_num_ng' : 99,  \n",
    "                    'log_interval': 500                                           \n",
    "                    }  \n",
    "\n",
    "distribution = {\"smdistributed\": \n",
    "                {\"dataparallel\": \n",
    "                 {\"enabled\": True}\n",
    "                }\n",
    "               }"
   ]
  },
  {
   "cell_type": "code",
   "execution_count": null,
   "metadata": {},
   "outputs": [],
   "source": [
    "from sagemaker.pytorch import PyTorch\n",
    "import os\n",
    "import subprocess\n",
    "\n",
    "\n",
    "\n",
    "local_estimator = PyTorch(\n",
    "    entry_point=\"train_sm_ddp.py\",    \n",
    "    source_dir='src',    \n",
    "    role=role,\n",
    "    framework_version='1.8.1',\n",
    "    py_version='py3',\n",
    "    instance_count=1,\n",
    "    instance_type=instance_type, # local_gpu or local 지정\n",
    "    session = sagemaker.LocalSession(), # 로컬 세션을 사용합니다.\n",
    "    distribution=distribution,\n",
    "    debugger_hook_config=False,    \n",
    "    hyperparameters= hyperparameters               \n",
    "    \n",
    ")\n",
    "local_estimator.fit(local_inputs)"
   ]
  },
  {
   "cell_type": "markdown",
   "metadata": {},
   "source": [
    "# 3. SageMaker Host Mode 로 훈련\n",
    "- instance_type, session 을 수정 합니다.\n",
    "- 입력 데이터를 inputs로서 S3 의 경로를 제공합니다.\n",
    "- wait=False 로 지정해서 async 모드로 훈련을 실행합니다. \n",
    "- 실행 경과는 아래의 cifar10_estimator.logs() 에서 확인 합니다."
   ]
  },
  {
   "cell_type": "markdown",
   "metadata": {},
   "source": [
    "## 3.1. 데이터 세트를 S3에 업로드\n"
   ]
  },
  {
   "cell_type": "code",
   "execution_count": null,
   "metadata": {},
   "outputs": [],
   "source": [
    "s3_data_loc = sagemaker_session.upload_data(path=config.main_path, bucket=bucket, \n",
    "                                       key_prefix=f\"{prefix}/data\")\n",
    "print(\"s3_data_loc: \", s3_data_loc)"
   ]
  },
  {
   "cell_type": "code",
   "execution_count": null,
   "metadata": {},
   "outputs": [],
   "source": [
    "! aws s3 ls {s3_data_loc} --recursive"
   ]
  },
  {
   "cell_type": "markdown",
   "metadata": {},
   "source": [
    "## 3.2. 훈련 및 테스트 데이터를 S3 로 지정"
   ]
  },
  {
   "cell_type": "code",
   "execution_count": null,
   "metadata": {},
   "outputs": [],
   "source": [
    "s3_inputs = {\n",
    "            'train': f'{s3_data_loc}',\n",
    "            'test': f'{s3_data_loc}'\n",
    "            }\n",
    "\n",
    "print(\"s3_inputs: \\n\", s3_inputs)"
   ]
  },
  {
   "cell_type": "markdown",
   "metadata": {},
   "source": [
    "## 3.3. 실험 세팅"
   ]
  },
  {
   "cell_type": "markdown",
   "metadata": {},
   "source": [
    "### 실험(Experiment) 세팅\n",
    "- Amazon SageMaker 실험은 기계 학습 실험을 구성, 추적, 비교 및 평가할 수 있는 Amazon SageMaker 의 기능입니다\n",
    "- 상세 사항은 개발자 가이드 참조 하세요. --> [Amazon SageMaker 실험을 통한 Machine Learning 관리](https://docs.aws.amazon.com/ko_kr/sagemaker/latest/dg/experiments.html)\n",
    "- sagemaker experiment는 추가적인 패키지를 설치하여야 합니다. 1_Setup_Environment 가 실행이 안되었다고 하면, `!pip install --upgrade sagemaker-experiments` 를 통해 설치 해주세요.\n",
    "- 여기서는 boto3 API를 통해서 실험을 생성합니다. SageMaker Python SDK를 통해서도 가능합니다.\n"
   ]
  },
  {
   "cell_type": "markdown",
   "metadata": {},
   "source": [
    "### 실험 생성"
   ]
  },
  {
   "cell_type": "code",
   "execution_count": null,
   "metadata": {},
   "outputs": [],
   "source": [
    "# !pip install --upgrade sagemaker-experiments\n",
    "import boto3\n",
    "from smexperiments.experiment import Experiment\n",
    "from smexperiments.trial import Trial\n",
    "from smexperiments.trial_component import TrialComponent\n",
    "from smexperiments.tracker import Tracker\n",
    "\n",
    "from datetime import datetime\n",
    "\n",
    "sm_client = boto3.client('sagemaker')\n",
    "\n",
    "\n",
    "# 설험에 대한 이름을 생성 합니다.\n",
    "experiment_name = prefix + '-single-train'\n",
    "\n",
    "# 실험이 존재하지 않으면 생성하고, 그렇지 않으면 지나갑니다.\n",
    "try:\n",
    "    response = sm_client.describe_experiment(ExperimentName=experiment_name)\n",
    "    print(f\"Experiment:{experiment_name} already exists\")    \n",
    "    \n",
    "except:\n",
    "    response = sm_client.create_experiment(\n",
    "        ExperimentName = experiment_name,\n",
    "        Description = 'Experiment for NCF',\n",
    "    )\n",
    "    print(f\"Experiment:{experiment_name} is created\")        \n"
   ]
  },
  {
   "cell_type": "markdown",
   "metadata": {},
   "source": [
    "### 하이퍼 파라미터 세팅\n",
    "- epochs 값을 조절해서 실행 시간을 조정 하세요."
   ]
  },
  {
   "cell_type": "code",
   "execution_count": null,
   "metadata": {},
   "outputs": [],
   "source": [
    "host_hyperparameters = {'epochs': 5, \n",
    "                       'lr': 0.001,\n",
    "                       'batch_size': 256,\n",
    "                       'top_k' : 10,\n",
    "                       'dropout' : 0.0,\n",
    "                       'factor_num' : 32,\n",
    "                       'num_layers' : 3,\n",
    "                       'num_ng' : 4,\n",
    "                       'test_num_ng' : 99,                   \n",
    "                       'log_interval': 500                                                \n",
    "                    }  "
   ]
  },
  {
   "cell_type": "markdown",
   "metadata": {},
   "source": [
    "### 시도(Trial) 생성"
   ]
  },
  {
   "cell_type": "code",
   "execution_count": null,
   "metadata": {},
   "outputs": [],
   "source": [
    "from datetime import datetime\n",
    "# 시도 이름 생성\n",
    "ts = datetime.now().strftime('%Y-%m-%d-%H-%M-%S-%f')\n",
    "trial_name = experiment_name + f\"-{ts}\"\n",
    "\n",
    "# 1개의 실험 안에 시도를 생성함.\n",
    "response = sm_client.create_trial(\n",
    "    ExperimentName = experiment_name,\n",
    "    TrialName = trial_name,\n",
    ")    \n",
    "\n",
    "# 실험 설정: 실험 이름, 시도 이름으로 구성\n",
    "experiment_config = {\n",
    "    'ExperimentName' : experiment_name,\n",
    "    'TrialName' : trial_name,\n",
    "    \"TrialComponentDisplayName\" : 'Training',\n",
    "}    \n",
    "\n"
   ]
  },
  {
   "cell_type": "markdown",
   "metadata": {},
   "source": [
    "## 3.4 훈련 실행\n"
   ]
  },
  {
   "cell_type": "markdown",
   "metadata": {},
   "source": [
    "### 훈련 메트릭을 CloudWatch 에서 보기\n",
    "- 개발자 가이드\n",
    "    - [Monitor and Analyze Training Jobs Using Amazon CloudWatch ](https://docs.amazonaws.cn/en_us/sagemaker/latest/dg/training-metrics.html#define-train-metrics)"
   ]
  },
  {
   "cell_type": "code",
   "execution_count": null,
   "metadata": {},
   "outputs": [],
   "source": [
    "metric_definitions=[\n",
    "       {'Name': 'HR', 'Regex': 'HR=(.*?);'},\n",
    "       {'Name': 'NDCG', 'Regex': 'NDCG=(.*?);'},\n",
    "       {'Name': 'Loss', 'Regex': 'Loss=(.*?);'}        \n",
    "    ]\n"
   ]
  },
  {
   "cell_type": "code",
   "execution_count": null,
   "metadata": {},
   "outputs": [],
   "source": [
    "from sagemaker.pytorch import PyTorch\n",
    "\n",
    "# instance_type = 'ml.p3.16xlarge'\n",
    "instance_type = 'ml.p4d.24xlarge'\n",
    "\n",
    "host_estimator = PyTorch(\n",
    "    entry_point=\"train_sm_ddp.py\",    \n",
    "    source_dir='src',    \n",
    "    role=role,\n",
    "    framework_version='1.8.1',\n",
    "    py_version='py3',\n",
    "    instance_count=2,\n",
    "    instance_type=instance_type,\n",
    "    session = sagemaker.Session(), # 세이지 메이커 세션\n",
    "    distribution=distribution,    \n",
    "    hyperparameters=host_hyperparameters,\n",
    "    metric_definitions = metric_definitions\n",
    "    \n",
    ")\n",
    "host_estimator.fit(s3_inputs, \n",
    "                   experiment_config = experiment_config, # 실험 설정 제공                   \n",
    "                   wait=False)"
   ]
  },
  {
   "cell_type": "code",
   "execution_count": null,
   "metadata": {},
   "outputs": [],
   "source": [
    "%%time\n",
    "\n",
    "host_estimator.logs()"
   ]
  },
  {
   "cell_type": "markdown",
   "metadata": {},
   "source": [
    "# 4. 실험 결과 보기"
   ]
  },
  {
   "cell_type": "markdown",
   "metadata": {},
   "source": [
    "\n",
    "위의 실험한 결과를 확인 합니다.\n",
    "- 각각의 훈련잡의 시도에 대한 훈련 사용 데이터, 모델 입력 하이퍼 파라미터, 모델 평가 지표, 모델 아티펙트 결과 위치 등의 확인이 가능합니다.\n",
    "- **아래의 모든 내용은 SageMaker Studio 를 통해서 직관적으로 확인이 가능합니다.**"
   ]
  },
  {
   "cell_type": "code",
   "execution_count": null,
   "metadata": {},
   "outputs": [],
   "source": [
    "from sagemaker.analytics import ExperimentAnalytics\n",
    "import pandas as pd\n",
    "pd.options.display.max_columns = 50\n",
    "pd.options.display.max_rows = 5\n",
    "pd.options.display.max_colwidth = 50\n",
    "\n",
    "search_expression = {\n",
    "    \"Filters\": [\n",
    "        {\n",
    "            \"Name\": \"DisplayName\",\n",
    "            \"Operator\": \"Equals\",\n",
    "            \"Value\": \"Training\",\n",
    "        }\n",
    "    ],\n",
    "}\n",
    "\n",
    "\n",
    "trial_component_analytics = ExperimentAnalytics(\n",
    "    sagemaker_session= sagemaker_session,\n",
    "    experiment_name= experiment_name,\n",
    "    search_expression=search_expression,\n",
    ")\n",
    "\n",
    "trial_component_analytics.dataframe()"
   ]
  },
  {
   "cell_type": "markdown",
   "metadata": {},
   "source": [
    "### 모델 평가 지표에 순서에 따른 시도 보기\n",
    "- 아래는 모델 평가 지표에 따른 순서로 보여주기 입니다."
   ]
  },
  {
   "cell_type": "code",
   "execution_count": null,
   "metadata": {},
   "outputs": [],
   "source": [
    "\n",
    "trial_component_training_analytics = ExperimentAnalytics(\n",
    "    sagemaker_session= sagemaker_session,\n",
    "    experiment_name= experiment_name,\n",
    "    search_expression=search_expression,\n",
    "    sort_by=\"metrics.HR.max\",        \n",
    "    sort_order=\"Descending\",\n",
    "    metric_names=[\"HR\"],    \n",
    "    parameter_names=[\"epochs\", \"batch_size\", \"dropout\", \"factor_num\", \n",
    "                     \"lr\", \"num_layers\" ,\"num_ng\", \"test_num_ng\", \"top_k\",\n",
    "                    ],\n",
    ")\n",
    "\n",
    "trial_component_training_analytics.dataframe()"
   ]
  },
  {
   "cell_type": "markdown",
   "metadata": {},
   "source": [
    "# 5. 모델 아티펙트 저장\n",
    "- S3 에 저장된 모델 아티펙트를 저장하여 추론시 사용합니다."
   ]
  },
  {
   "cell_type": "code",
   "execution_count": null,
   "metadata": {},
   "outputs": [],
   "source": [
    "horovod_artifact_path = host_estimator.model_data\n",
    "print(\"horovod_artifact_path: \", horovod_artifact_path)\n",
    "\n",
    "%store horovod_artifact_path"
   ]
  },
  {
   "cell_type": "markdown",
   "metadata": {},
   "source": [
    "기타 변수 저장"
   ]
  },
  {
   "cell_type": "code",
   "execution_count": null,
   "metadata": {},
   "outputs": [],
   "source": [
    "%store bucket \n",
    "%store prefix"
   ]
  },
  {
   "cell_type": "code",
   "execution_count": null,
   "metadata": {},
   "outputs": [],
   "source": []
  },
  {
   "cell_type": "code",
   "execution_count": null,
   "metadata": {},
   "outputs": [],
   "source": []
  },
  {
   "cell_type": "code",
   "execution_count": null,
   "metadata": {},
   "outputs": [],
   "source": []
  }
 ],
 "metadata": {
  "kernelspec": {
   "display_name": "conda_python3",
   "language": "python",
   "name": "conda_python3"
  },
  "language_info": {
   "codemirror_mode": {
    "name": "ipython",
    "version": 3
   },
   "file_extension": ".py",
   "mimetype": "text/x-python",
   "name": "python",
   "nbconvert_exporter": "python",
   "pygments_lexer": "ipython3",
   "version": "3.8.12"
  },
  "notice": "Copyright 2018 Amazon.com, Inc. or its affiliates. All Rights Reserved.  Licensed under the Apache License, Version 2.0 (the \"License\"). You may not use this file except in compliance with the License. A copy of the License is located at http://aws.amazon.com/apache2.0/ or in the \"license\" file accompanying this file. This file is distributed on an \"AS IS\" BASIS, WITHOUT WARRANTIES OR CONDITIONS OF ANY KIND, either express or implied. See the License for the specific language governing permissions and limitations under the License."
 },
 "nbformat": 4,
 "nbformat_minor": 4
}
