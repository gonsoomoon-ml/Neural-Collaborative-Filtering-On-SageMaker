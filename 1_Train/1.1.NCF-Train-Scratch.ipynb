{
 "cells": [
  {
   "cell_type": "markdown",
   "id": "66c6eb17",
   "metadata": {},
   "source": [
    "# [Module 1.1] 로컬 스크래치 훈련 (SageMaker 사용 안함)\n",
    " \n",
    "### 본 워크샵의 모든 노트북은 `conda_python3` 여기에서 작업 합니다.\n",
    "\n",
    "이 노트북은 아래와 같은 작업을 합니다.\n",
    "\n",
    "- 1. 환경 셋업\n",
    "- 2. 데이터 확인\n",
    "- 3. 로컬 모델 훈련\n",
    "- 4. 로컬 추론\n",
    "- 5. 로컬에서 훈련 스크립트로 실행\n",
    "\n",
    "## 참고:\n",
    "- 세이지 메이커로 파이토치 사용 --> [Use PyTorch with the SageMaker Python SDK](https://sagemaker.readthedocs.io/en/stable/frameworks/pytorch/using_pytorch.html)\n",
    "\n",
    "---"
   ]
  },
  {
   "cell_type": "markdown",
   "id": "f40421d2",
   "metadata": {},
   "source": [
    "# 1. 환경 셋업"
   ]
  },
  {
   "cell_type": "markdown",
   "id": "050893a0",
   "metadata": {},
   "source": [
    "## 기본 세팅\n",
    "사용하는 패키지는 import 시점에 다시 재로딩 합니다."
   ]
  },
  {
   "cell_type": "code",
   "execution_count": null,
   "id": "c0453ccb",
   "metadata": {},
   "outputs": [],
   "source": [
    "%load_ext autoreload\n",
    "%autoreload 2\n",
    "\n",
    "# src 폴더 경로 설정\n",
    "import sys\n",
    "sys.path.append('./src')"
   ]
  },
  {
   "cell_type": "code",
   "execution_count": null,
   "id": "f5089b19",
   "metadata": {},
   "outputs": [],
   "source": [
    "import os\n",
    "import numpy as np\n",
    "import time\n",
    "\n",
    "import torch\n",
    "import torch.utils.data as data\n",
    "import torch.nn as nn\n",
    "import torch.optim as optim\n",
    "import pandas as pd\n",
    "from IPython.display import display as dp\n",
    "\n",
    "### 커스텀 라이브러리\n",
    "import config \n",
    "import model \n",
    "import evaluate \n",
    "import data_utils "
   ]
  },
  {
   "cell_type": "markdown",
   "id": "d4c4012a",
   "metadata": {},
   "source": [
    "# 2. 데이터 확인\n",
    "- [원본: 데이터 설명](https://github.com/hexiangnan/neural_collaborative_filtering)"
   ]
  },
  {
   "cell_type": "markdown",
   "id": "ba395bb8",
   "metadata": {},
   "source": [
    "## 2.1. 데이터 및 훈련 설정 파일 확인\n",
    "- 사용 데이터 파일 위치 및 모델 이름 지정"
   ]
  },
  {
   "cell_type": "code",
   "execution_count": null,
   "id": "e9627ece",
   "metadata": {},
   "outputs": [],
   "source": [
    "! pygmentize src/config.py"
   ]
  },
  {
   "cell_type": "markdown",
   "id": "acd31453",
   "metadata": {},
   "source": [
    "## 2.2. Raw 파일 확인"
   ]
  },
  {
   "cell_type": "markdown",
   "id": "678554fa",
   "metadata": {},
   "source": [
    "### train_rating\n",
    "- user_id, item_id, rating, timestamp 의 4개의 컬럼으로 구성 됨.\n",
    "    - 참고로 test_rating 파일을 본 코드에서 사용되지 않음"
   ]
  },
  {
   "cell_type": "code",
   "execution_count": null,
   "id": "e0827228",
   "metadata": {},
   "outputs": [],
   "source": [
    "! head -n5 {config.train_rating}"
   ]
  },
  {
   "cell_type": "markdown",
   "id": "e7ad729f",
   "metadata": {},
   "source": [
    "### test_negative\n",
    "- user_id 별로 구성됨\n",
    "- 아래는 첫번째 user_id \"0\" 의 내용 임. \n",
    "    - 첫 번째 항목은 (0,25) \"0\" 의 user_id 가 25 번 item_id 를 rating 했다는 것을 기록 함. \n",
    "    - 나머지 99 개는 \"0\" user_id 가 rating  하지 않은 item_id 99 개를 가져옴\n",
    "        - 실제 모델 추론시에 top k (예; k=5)  항목을 추천을 받았을 시에  \"25\" 이 top k 에 포함의 유무에 따라서 performance metric 을 계산 함. \n",
    "        - 예를 들어서 추론을 하여 받은 추천 리스트가 (1064, 25, 2791, 1902, 915) 일 경우에 HR (Hit Ratio) 는 1 이 됨. 만약 (1064, 1135, 2791, 1902, 915) 처럼 25 가 없으면 HR 은 0 임.\n",
    "\n",
    "```\n",
    "(0,25)\t1064\t174\t2791\t3373\t269\t2678\t1902\t3641\t1216\t915\t3672\t2803\t2344\t986\t3217\t2824\t2598\t464\t2340\t1952\t1855\t1353\t1547\t3487\t3293\t1541\t2414\t2728\t340\t1421\t1963\t2545\t972\t487\t3463\t2727\t1135\t3135\t128\t175\t2423\t1974\t2515\t3278\t3079\t1527\t2182\t1018\t2800\t1830\t1539\t617\t247\t3448\t1699\t1420\t2487\t198\t811\t1010\t1423\t2840\t1770\t881\t1913\t1803\t1734\t3326\t1617\t224\t3352\t1869\t1182\t1331\t336\t2517\t1721\t3512\t3656\t273\t1026\t1991\t2190\t998\t3386\t3369\t185\t2822\t864\t2854\t3067\t58\t2551\t2333\t2688\t3703\t1300\t1924\t3118\n",
    "```"
   ]
  },
  {
   "cell_type": "code",
   "execution_count": null,
   "id": "a73ab577",
   "metadata": {},
   "outputs": [],
   "source": [
    "! head -n2 {config.test_negative}"
   ]
  },
  {
   "cell_type": "markdown",
   "id": "0968948d",
   "metadata": {},
   "source": [
    "## 2.3. 훈련 및 테스트 데이터 확인\n",
    "- raw 파일로 부터 훈련, 테스트 데이터 로딩\n",
    "- 데이터 상세\n",
    "    - 훈련 데이타는 994,169 의 rating 개수\n",
    "    - 테스트 데이타는 604,000 의 rating 개수\n",
    "    - user_num: 6040, item_num: 3706 의 유니크한 항목"
   ]
  },
  {
   "cell_type": "code",
   "execution_count": null,
   "id": "bd3e4a1c",
   "metadata": {},
   "outputs": [],
   "source": [
    "train_data, test_data, user_num ,item_num, train_mat = data_utils.load_all()\n",
    "\n",
    "\n"
   ]
  },
  {
   "cell_type": "code",
   "execution_count": null,
   "id": "22a4868b",
   "metadata": {},
   "outputs": [],
   "source": [
    "import numpy as np\n",
    "print(\"train sahpe: \", np.asarray(train_data).shape)\n",
    "print(\"test sahpe: \", np.asarray(test_data).shape)\n",
    "print(f\"user_num: {user_num}, item_num: {item_num}\")\n",
    "print(train_data[0:5])\n"
   ]
  },
  {
   "cell_type": "markdown",
   "id": "0ea7219e",
   "metadata": {},
   "source": [
    "### 훈련 데이터 상세\n",
    "- 훈련 데이타는 rating 컬럼을 사용하지 않고, user_id, item_id 두개만 사용 함."
   ]
  },
  {
   "cell_type": "code",
   "execution_count": null,
   "id": "ede683a9",
   "metadata": {},
   "outputs": [],
   "source": [
    "train_data_df = pd.DataFrame(train_data, columns=['user','item'])\n",
    "print(\"train_df shape: \", train_data_df.shape)\n",
    "print(\"train_df info: \\n\", train_data_df.nunique())\n"
   ]
  },
  {
   "cell_type": "code",
   "execution_count": null,
   "id": "0a623b3b",
   "metadata": {},
   "outputs": [],
   "source": [
    "train_data_df.sort_values(by=['user','item']).head()"
   ]
  },
  {
   "cell_type": "markdown",
   "id": "47a42a94",
   "metadata": {},
   "source": [
    "user_id 당 item rating의 개수를 확인"
   ]
  },
  {
   "cell_type": "code",
   "execution_count": null,
   "id": "68f84c03",
   "metadata": {},
   "outputs": [],
   "source": [
    "train_data_df.groupby('user').count().head()"
   ]
  },
  {
   "cell_type": "markdown",
   "id": "2a78a84d",
   "metadata": {},
   "source": [
    "### 테스트 데이터 상세"
   ]
  },
  {
   "cell_type": "code",
   "execution_count": null,
   "id": "d91dc158",
   "metadata": {},
   "outputs": [],
   "source": [
    "test_data_df = pd.DataFrame(test_data, columns=['user','item'])\n",
    "dp(test_data_df.head())\n"
   ]
  },
  {
   "cell_type": "markdown",
   "id": "08f7f2ba",
   "metadata": {},
   "source": [
    "테스트 데이타는 user_id 당 모두 100개의 항목으로 구성 됨"
   ]
  },
  {
   "cell_type": "code",
   "execution_count": null,
   "id": "2580a1c0",
   "metadata": {},
   "outputs": [],
   "source": [
    "dp(test_data_df.groupby('user').count().head())"
   ]
  },
  {
   "cell_type": "markdown",
   "id": "46f766b7",
   "metadata": {},
   "source": [
    "# 3. 로컬 모델 훈련"
   ]
  },
  {
   "cell_type": "markdown",
   "id": "31e9d9a0",
   "metadata": {},
   "source": [
    "## 3.1. 파라미터 설정"
   ]
  },
  {
   "cell_type": "markdown",
   "id": "7d0b2bd1",
   "metadata": {},
   "source": [
    "## 모델의 하이퍼파라미터 정의\n",
    "- 하아퍼 파라미터 오브젝트 이름을 args 로 생성\n",
    "    - 추후 SageMaker의 Script Mode 사용사에 args 오브젝트가 사용되기에, 이름을 맞추기 위해서 같은 이름을 사용 함\n",
    "- 아래 파라미터는 로직 확인 용이기에, 훈련이 빨리 끝나기 위한 파라미터 값을 설정 함(에; epoch)    \n",
    "    - 약 2분 30초 소요 됨"
   ]
  },
  {
   "cell_type": "code",
   "execution_count": null,
   "id": "2b1fe1de",
   "metadata": {},
   "outputs": [],
   "source": [
    "class Params:\n",
    "    def __init__(self):\n",
    "        self.epochs = 1        \n",
    "        self.num_ng = 4\n",
    "        self.batch_size = 256\n",
    "        self.test_num_ng = 99\n",
    "        self.factor_num = 32\n",
    "        self.num_layers = 3\n",
    "        self.dropout = 0.0\n",
    "        self.lr = 0.001\n",
    "        self.top_k = 10\n",
    "        self.out = True\n",
    "        self.gpu = \"0\"\n",
    "                        \n",
    "args = Params()\n",
    "print(\"# of epochs: \", args.epochs)"
   ]
  },
  {
   "cell_type": "markdown",
   "id": "7c547935",
   "metadata": {},
   "source": [
    "## 3.2. 데이터 셋 및 데이터 로더 정의"
   ]
  },
  {
   "cell_type": "code",
   "execution_count": null,
   "id": "acd347c3",
   "metadata": {},
   "outputs": [],
   "source": [
    "train_dataset = data_utils.NCFData(\n",
    "\t\ttrain_data, item_num, train_mat, args.num_ng, True)\n",
    "\n",
    "test_dataset = data_utils.NCFData(\n",
    "\t\ttest_data, item_num, train_mat, 0, False)\n",
    "\n",
    "train_loader = data.DataLoader(train_dataset,\n",
    "\t\tbatch_size=args.batch_size, shuffle=True, num_workers=4)\n",
    "\n",
    "test_loader = data.DataLoader(test_dataset,\n",
    "\t\tbatch_size=args.test_num_ng+1, shuffle=False, num_workers=0)\n",
    "\n"
   ]
  },
  {
   "cell_type": "markdown",
   "id": "1a56aac5",
   "metadata": {},
   "source": [
    "## 3.3. 모델 네트워크 생성"
   ]
  },
  {
   "cell_type": "code",
   "execution_count": null,
   "id": "8a1efee7",
   "metadata": {},
   "outputs": [],
   "source": [
    "########################### CREATE MODEL #################################\n",
    "device = \"cuda\" if torch.cuda.is_available() else \"cpu\"\n",
    "print(\"device: \", device)\n",
    "\n",
    "GMF_model = None\n",
    "MLP_model = None\n",
    "print(\"Pretrained model is NOT used\")    \n",
    "\n",
    "NCF_model = model.NCF(user_num, item_num, args.factor_num, args.num_layers, \n",
    "\t\t\t\t\t\targs.dropout, config.model, GMF_model, MLP_model)\n",
    "NCF_model.to(device)\n"
   ]
  },
  {
   "cell_type": "markdown",
   "id": "bc753686",
   "metadata": {},
   "source": [
    "## 3.4. 손실 함수 및 옵티마이저 정의"
   ]
  },
  {
   "cell_type": "code",
   "execution_count": null,
   "id": "4b3ed7c7",
   "metadata": {},
   "outputs": [],
   "source": [
    "loss_function = nn.BCEWithLogitsLoss()\n",
    "\n",
    "optimizer = optim.Adam(NCF_model.parameters(), lr=args.lr)\n",
    "\n"
   ]
  },
  {
   "cell_type": "markdown",
   "id": "9619eb97",
   "metadata": {},
   "source": [
    "## 3.5 훈련 루프 실행\n",
    "- 훈련 루프에 들어가면서 `train_loader.dataset.ng_sample()` 를 통해서 Negative sample을 생성함.\n",
    "    - self.num_ng = 4 * Positive Samples 만큼 생성 됨.\n",
    "    - 아래는 예시 임.\n",
    "```\n",
    "labels_ps:  994169\n",
    "labels_ng:  3976676\n",
    "total train size :  4970845\n",
    "```"
   ]
  },
  {
   "cell_type": "code",
   "execution_count": null,
   "id": "3ce40122",
   "metadata": {},
   "outputs": [],
   "source": [
    "print(\"=====> Staring Traiing <===========\")\n",
    "device = \"cuda\" if torch.cuda.is_available() else \"cpu\"\n",
    "print(\"device: \", device)\n",
    "\n",
    "\n",
    "count, best_hr = 0, 0\n",
    "for epoch in range(args.epochs):\n",
    "    NCF_model.train() # Enable dropout (if have).\n",
    "    start_time = time.time()\n",
    "    # negative sample 생성\n",
    "    train_loader.dataset.ng_sample()\n",
    "\n",
    "    for user, item, label in train_loader:\n",
    "        user = user.to(device)\n",
    "        item = item.to(device)\n",
    "        label = label.float().to(device)\n",
    "\n",
    "        NCF_model.zero_grad()\n",
    "        prediction = NCF_model(user, item)\n",
    "        loss = loss_function(prediction, label)\n",
    "        loss.backward()\n",
    "        optimizer.step()\n",
    "\n",
    "        count += 1\n",
    "        \n",
    "    # 미자믹 배치의 user, item, label 확인\n",
    "    print(f\"last batch number is {count}\")\n",
    "    print(f\"user\\n{user}, item\\n{item}, label\\n{label}: \")\n",
    "\n",
    "\n",
    "    NCF_model.eval()\n",
    "    HR, NDCG = evaluate.metrics(NCF_model, test_loader, args.top_k)\n",
    "\n",
    "    elapsed_time = time.time() - start_time\n",
    "    print(\"The time elapse of epoch {:03d}\".format(epoch) + \" is: \" + \n",
    "            time.strftime(\"%H: %M: %S\", time.gmtime(elapsed_time)))\n",
    "    print(\"HR: {:.3f}\\tNDCG: {:.3f}\".format(np.mean(HR), np.mean(NDCG)))\n",
    "\n",
    "    if HR > best_hr:\n",
    "        best_hr, best_ndcg, best_epoch = HR, NDCG, epoch\n",
    "        if args.out:\n",
    "            if not os.path.exists(config.model_path):\n",
    "                os.mkdir(config.model_path)\n",
    "            torch.save(NCF_model.state_dict(),'{}{}.pth'.format(config.model_path, config.model))\n",
    "\n",
    "            \n",
    "print(\"End. Best epoch {:03d}: HR = {:.3f}, NDCG = {:.3f}\".format(\n",
    "\t\t\t\t\t\t\t\t\tbest_epoch, best_hr, best_ndcg))\n",
    "\n"
   ]
  },
  {
   "cell_type": "markdown",
   "id": "06bc8840",
   "metadata": {},
   "source": [
    "# 4. 로컬 추론"
   ]
  },
  {
   "cell_type": "code",
   "execution_count": null,
   "id": "909fe364",
   "metadata": {},
   "outputs": [],
   "source": [
    "from evaluate import predict"
   ]
  },
  {
   "cell_type": "code",
   "execution_count": null,
   "id": "4978de79",
   "metadata": {},
   "outputs": [],
   "source": [
    "for user, item, label in test_loader:   \n",
    "    user_np = user.detach().cpu().numpy()\n",
    "    item_np = item.detach().cpu().numpy()            \n",
    "    break\n",
    "payload = {'user':user_np.tolist(), 'item':item_np.tolist()}\n",
    "\n",
    "print(\"paylaod: \\n\" , payload)"
   ]
  },
  {
   "cell_type": "code",
   "execution_count": null,
   "id": "1fa1e915",
   "metadata": {},
   "outputs": [],
   "source": [
    "predict(NCF_model, payload, top_k=10)"
   ]
  },
  {
   "cell_type": "markdown",
   "id": "4e0d1cc5",
   "metadata": {},
   "source": [
    "# 5. 로컬에서 훈련 스크립트로 실행"
   ]
  },
  {
   "cell_type": "markdown",
   "id": "ca7e6b0e",
   "metadata": {},
   "source": [
    "- 이번에는 훈련 코드를 스크립트 src/train_lib.py 로 만들고 train(args) 를 호출 하여 실행 합니다.\n",
    "    - 위와의 차이점은 추후 SageMaker 에서 실행하기 위해서 python file 로 모듈화를 한 것 입니다.\n",
    "\n",
    "\n",
    "- 중요한 단계를 로깅 합니다.\n",
    "    - 훈련 환경 셋업, \n",
    "    - 데이터 준비 및 데이터 로더 생성\n",
    "    - 모델 네트워크 로딩\n",
    "    - 모델 훈련 시작\n",
    "    - 모델 훈련 완료\n",
    "    - 모델 아티펙트 저장"
   ]
  },
  {
   "cell_type": "markdown",
   "id": "b9a7502d",
   "metadata": {},
   "source": [
    "이번에도 하이퍼 파라미터를 정의해서 실행 합니다."
   ]
  },
  {
   "cell_type": "code",
   "execution_count": null,
   "id": "146eff56",
   "metadata": {},
   "outputs": [],
   "source": [
    "class ParamsScript:\n",
    "    def __init__(self):\n",
    "        self.epochs = 1\n",
    "        self.lr = 0.001 # 0.001 오리지널 버전        \n",
    "        self.num_ng = 4\n",
    "        self.batch_size = 256\n",
    "        self.test_num_ng = 99\n",
    "        self.factor_num = 32\n",
    "        self.num_layers = 3\n",
    "        self.dropout = 0.0\n",
    "        self.top_k = 10\n",
    "        self.out = True\n",
    "        self.gpu = \"0\"\n",
    "        self.model_dir = f\"{config.model_path}\"                                       \n",
    "        self.train_data_dir = f\"{config.main_path}\"               \n",
    "        self.test_data_dir = f\"{config.main_path}\"                       \n",
    "\n",
    "                        \n",
    "script_args = ParamsScript()\n",
    "print(\"# of epochs: \", script_args.epochs)"
   ]
  },
  {
   "cell_type": "code",
   "execution_count": null,
   "id": "e6273c4a",
   "metadata": {},
   "outputs": [],
   "source": [
    "from train_lib import train"
   ]
  },
  {
   "cell_type": "code",
   "execution_count": null,
   "id": "6366ac93",
   "metadata": {},
   "outputs": [],
   "source": [
    "%%time \n",
    "\n",
    "train(script_args)"
   ]
  },
  {
   "cell_type": "markdown",
   "id": "d9693dab",
   "metadata": {},
   "source": [
    "# 참고:  평가 방법\n",
    "\n",
    "[Neural Collaborative Filtering 논문](https://arxiv.org/pdf/1708.05031.pdf)\n",
    "- Evaluation Protocols. To evaluate the performance of item recommendation, we adopted the leave-one-out evalu- ation, which has been widely used in literature [1, 14, 27]. For each user, we held-out her latest interaction as the test set and utilized the remaining data for training. Since it is too time-consuming to rank all items for every user during evaluation, we followed the common strategy [6, 21] that randomly samples 100 items that are not interacted by the user, ranking the test item among the 100 items. The perfor- mance of a ranked list is judged by Hit Ratio (HR) and Nor- malized Discounted Cumulative Gain (NDCG) [11]. With- out special mention, we truncated the ranked list at 10 for both metrics. As such, the HR intuitively measures whether the test item is present on the top-10 list, and the NDCG accounts for the position of the hit by assigning higher scores to hits at top ranks. We calculated both metrics for each test user and reported the average score."
   ]
  },
  {
   "cell_type": "code",
   "execution_count": null,
   "id": "9bae8c11",
   "metadata": {},
   "outputs": [],
   "source": []
  }
 ],
 "metadata": {
  "kernelspec": {
   "display_name": "conda_python3",
   "language": "python",
   "name": "conda_python3"
  },
  "language_info": {
   "codemirror_mode": {
    "name": "ipython",
    "version": 3
   },
   "file_extension": ".py",
   "mimetype": "text/x-python",
   "name": "python",
   "nbconvert_exporter": "python",
   "pygments_lexer": "ipython3",
   "version": "3.8.12"
  }
 },
 "nbformat": 4,
 "nbformat_minor": 5
}
