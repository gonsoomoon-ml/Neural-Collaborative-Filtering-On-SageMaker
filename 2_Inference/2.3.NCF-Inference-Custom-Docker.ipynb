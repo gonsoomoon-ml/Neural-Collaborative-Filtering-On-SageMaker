{
 "cells": [
  {
   "cell_type": "markdown",
   "metadata": {},
   "source": [
    "# [Module 2.3] 세이지 메이커 사용자 도커 이미지로 인퍼런스\n",
    "\n",
    "## 필수 사항\n",
    "- 이 노트북은 sagemaker_inference_container/container-inference/ 의 아래 두개의 노트북을 먼저 실행해야 합니다.\n",
    "    - 1.1.Build_Docker.ipynb\n",
    "    - 2.1.Package_Model_Artifact.ipynb\n",
    "본 워크샵의 모든 노트북은 `conda_python3` 추가 패키지를 설치하고 모두 이 커널 에서 작업 합니다.\n",
    "\n",
    "\n",
    "## 이 노트북은 아래와 같은 작업을 합니다.\n",
    "\n",
    "- 1. 환경 셋업\n",
    "- 2. 로컬 모드에서 배포 및 추론 테스트\n",
    "- 3. 세이지 메이커 (호스트 모드)에서 배포 및 추론 테스트\n",
    "- 4. 세이지 메이커 신규 모델로 앤드포인트 업데이트\n",
    "- 5. 신규 엔드포인트 생성\n",
    "- 6. 신규 앤드포인트 생성 후에 Bake Time (예: 5분) 지난 후에 기존 엔드포인트 삭제\n",
    "- 7. 마지막 신규 엔드포인트 리소스 제거\n",
    "\n",
    "\n",
    "---    \n",
    "    "
   ]
  },
  {
   "cell_type": "markdown",
   "metadata": {},
   "source": [
    "# 1. 환경 셋업"
   ]
  },
  {
   "cell_type": "markdown",
   "metadata": {
    "tags": []
   },
   "source": [
    "## 기본 세팅\n",
    "사용하는 패키지는 import 시점에 다시 재로딩 합니다."
   ]
  },
  {
   "cell_type": "code",
   "execution_count": null,
   "metadata": {},
   "outputs": [],
   "source": [
    "%load_ext autoreload\n",
    "%autoreload 2\n",
    "\n",
    "import sys\n",
    "sys.path.append('./src')"
   ]
  },
  {
   "cell_type": "markdown",
   "metadata": {},
   "source": [
    "이전 노트북에서 인퍼런스 테스트를 완료한 티펙트를 가져옵니다.\n",
    "- inference_docker_image: 사용자 정의 도커 이미지\n",
    "- byom_artifact: 추론 코드를 포함한 모델 아티펙트"
   ]
  },
  {
   "cell_type": "code",
   "execution_count": null,
   "metadata": {},
   "outputs": [],
   "source": [
    "%store -r inference_docker_image\n",
    "# %store -r artifact_path\n",
    "%store -r byom_artifact\n",
    "%store -r bucket\n",
    "%store -r prefix"
   ]
  },
  {
   "cell_type": "code",
   "execution_count": null,
   "metadata": {},
   "outputs": [],
   "source": [
    "print(\"inference_docker_image: \\n\", inference_docker_image)\n",
    "print(\"byom_artifact: \\n\", byom_artifact)"
   ]
  },
  {
   "cell_type": "code",
   "execution_count": null,
   "metadata": {},
   "outputs": [],
   "source": [
    "import sagemaker\n",
    "\n",
    "role = sagemaker.get_execution_role()"
   ]
  },
  {
   "cell_type": "markdown",
   "metadata": {},
   "source": [
    "# 2. 로컬 모드에서 배포 및 추론 테스트\n"
   ]
  },
  {
   "cell_type": "markdown",
   "metadata": {
    "Collapsed": "false"
   },
   "source": [
    "## Python SDK를 통한 세이지 메이커 모델 생성\n",
    "- 로컬 엔드포인트에 적재될 세이지 메이커 모델을 생성홥니다.\n",
    "- 세이지 메이커 모델은 크게 아래 두가지 요소가 있습니다.\n",
    "    - 인퍼런스 이미지 컨테이너 위치\n",
    "    - 모델 아티펙트 위치"
   ]
  },
  {
   "cell_type": "code",
   "execution_count": null,
   "metadata": {},
   "outputs": [],
   "source": [
    "from datetime import datetime\n",
    "suffix = f\"{datetime.today().strftime('%Y-%m-%d-%H-%M-%S')}\"\n",
    "\n",
    "# 로컬 노트북 인스턴스에서 사용할 로컬 세션\n",
    "local_session = sagemaker.local.LocalSession()\n",
    "local_session.config = {'local' : {'local_code':True}}\n",
    "instance_type = 'local_gpu'\n",
    "local_model_name = 'sm-local-model-' + str(suffix)\n",
    "local_endpoint_name = 'local-endpoint-' + str(suffix)\n",
    "print(\"local_endpoint_name: \", local_endpoint_name)"
   ]
  },
  {
   "cell_type": "markdown",
   "metadata": {},
   "source": [
    "### 로컬 세이지 메이커 모델 정의"
   ]
  },
  {
   "cell_type": "code",
   "execution_count": null,
   "metadata": {
    "Collapsed": "false"
   },
   "outputs": [],
   "source": [
    "from sagemaker.model import Model\n",
    "\n",
    "\n",
    "def create_sm_model(ecr_image, model_artifact,model_name,  role, session):\n",
    "    model = Model(\n",
    "                name = model_name,\n",
    "                image_uri = ecr_image,\n",
    "                model_data = model_artifact,\n",
    "                role=role,\n",
    "                sagemaker_session= session,\n",
    "                 )\n",
    "    print(\"model: \", model)\n",
    "    return model\n",
    "\n",
    "local_model = create_sm_model(inference_docker_image, byom_artifact, \n",
    "                              local_model_name, role, \n",
    "                              local_session)    "
   ]
  },
  {
   "cell_type": "markdown",
   "metadata": {
    "Collapsed": "false"
   },
   "source": [
    "### 로컬 엔드포인트 생성\n",
    "\n",
    "- instance_type=='local' 시에는 최초 실행시에 인퍼런스 이미지를 다운로드로 하는 약 3분 걸리고, 이후에는 바로 실행이 됩니다."
   ]
  },
  {
   "cell_type": "code",
   "execution_count": null,
   "metadata": {
    "Collapsed": "false",
    "tags": []
   },
   "outputs": [],
   "source": [
    "%%time\n",
    "\n",
    "local_predictor = local_model.deploy(initial_instance_count=1, instance_type=instance_type,\n",
    "                         endpoint_name = local_endpoint_name,                                   \n",
    "                        )"
   ]
  },
  {
   "cell_type": "markdown",
   "metadata": {},
   "source": [
    "## 테스트 데이터 세트 로딩\n",
    "- 로컬에서 저장된 데이터를 가져와서 데이터를 변환 합니다.\n",
    "- batch_size 만큼 데이터를 로딩하는 데이터 로더를 정의 합니다."
   ]
  },
  {
   "cell_type": "code",
   "execution_count": null,
   "metadata": {},
   "outputs": [],
   "source": [
    "import data_utils \n",
    "train_data, test_data, user_num ,item_num, train_mat = data_utils.load_all(test_num=100)"
   ]
  },
  {
   "cell_type": "markdown",
   "metadata": {},
   "source": [
    "##  추론을 위한  데이터 세트 로딩\n",
    "- 전부 데이터를 로딩할 필요가 없지만, 여기서는 기존에 사용한 함수를 이용하기 위해서 전체 데이터를 로드 합니다. \n",
    "    - 실제 데이터로 구현시에는 따로이 로드 함수를 사용하시기를 권장 합니다.\n"
   ]
  },
  {
   "cell_type": "code",
   "execution_count": null,
   "metadata": {},
   "outputs": [],
   "source": [
    "class Params:\n",
    "    def __init__(self):\n",
    "        # self.epochs = 1        \n",
    "        self.num_ng = 4\n",
    "        self.batch_size = 256\n",
    "        self.test_num_ng = 99\n",
    "        self.factor_num = 32\n",
    "        self.num_layers = 3\n",
    "        self.dropout = 0.0\n",
    "        # self.lr = 0.001\n",
    "        self.top_k = 10\n",
    "        self.out = True\n",
    "        # self.gpu = \"0\"\n",
    "                        \n",
    "args = Params()\n",
    "print(\"# of batch_size: \", args.batch_size)\n",
    "\n",
    "\n",
    "import torch.utils.data as data\n",
    "\n",
    "test_dataset = data_utils.NCFData(\n",
    "\t\ttest_data, item_num, train_mat, 0, False)\n",
    "\n",
    "test_loader = data.DataLoader(test_dataset,\n",
    "\t\tbatch_size=args.test_num_ng+1, shuffle=False, num_workers=0)\n",
    "\n"
   ]
  },
  {
   "cell_type": "markdown",
   "metadata": {},
   "source": [
    "## 추론할 Paylaod 하나를 생성"
   ]
  },
  {
   "cell_type": "code",
   "execution_count": null,
   "metadata": {},
   "outputs": [],
   "source": [
    "for user, item, label in test_loader:   \n",
    "    user_np = user.detach().cpu().numpy()\n",
    "    item_np = item.detach().cpu().numpy()            \n",
    "    break\n",
    "payload = {'user':user_np.tolist(), 'item':item_np.tolist()}\n",
    "print(\"payload: \", payload)\n"
   ]
  },
  {
   "cell_type": "markdown",
   "metadata": {},
   "source": [
    "## 엔드 포인트 추론\n",
    "- Boto3 invoke_endpoint() 로 추론"
   ]
  },
  {
   "cell_type": "code",
   "execution_count": null,
   "metadata": {},
   "outputs": [],
   "source": [
    "import boto3\n",
    "\n",
    "if instance_type == 'local_gpu':\n",
    "    runtime_client = sagemaker.local.LocalSagemakerRuntimeClient()    \n",
    "    endpoint_name = local_endpoint_name\n",
    "else:\n",
    "    runtime_client = boto3.Session().client('sagemaker-runtime')\n",
    "\n"
   ]
  },
  {
   "cell_type": "markdown",
   "metadata": {},
   "source": [
    "### [중요] JSON type 의 payload 를 String 으로 직렬화 해서 제공 함.\n",
    "```python\n",
    "payload_dump = json.dumps(payload)\n",
    "```"
   ]
  },
  {
   "cell_type": "code",
   "execution_count": null,
   "metadata": {},
   "outputs": [],
   "source": [
    "import json, time\n",
    "from inference_utils import invoke_endpoint\n",
    "payload_dump = json.dumps(payload)\n",
    "\n",
    "start_time = time.time()\n",
    "result = invoke_endpoint(runtime_client, endpoint_name, \n",
    "                         payload_dump,\n",
    "                         content_type='application/json'\n",
    "                        )\n",
    "\n",
    "print(\"--- %s seconds ---\" % (time.time() - start_time))\n",
    "print('result: ', result)"
   ]
  },
  {
   "cell_type": "markdown",
   "metadata": {},
   "source": [
    "## 로컬 엔드 포인트 삭제\n",
    "- 기존에 생성한 세이지 메이커 모델, 앤드포인트 컨피그, 앤드포인트 삭제"
   ]
  },
  {
   "cell_type": "code",
   "execution_count": null,
   "metadata": {},
   "outputs": [],
   "source": [
    "from inference_utils import delete_endpoint\n",
    "\n",
    "client = sagemaker.local.LocalSagemakerClient()\n",
    "delete_endpoint(client, endpoint_name)"
   ]
  },
  {
   "cell_type": "markdown",
   "metadata": {},
   "source": [
    "# 3. 세이지 메이커 (호스트 모드)에서 배포 및 추론 테스트\n",
    "- 위의 단계에 (로컬 앤드포인트)에서 추론 테스트가 완료 되었기에, 프러덕션을 가정하고 배포 및 추론을 합니다.\n",
    "- [중요] 기존의 SageMaker Python SDK 대신에 Boto3 를 사용합니다.\n",
    "    -  참조: [Boto3 API](https://boto3.amazonaws.com/v1/documentation/api/latest/reference/services/sagemaker.html#SageMaker.Client.describe_endpoint_config)"
   ]
  },
  {
   "cell_type": "markdown",
   "metadata": {},
   "source": [
    "## SageMaker 호스트 세션 및 변수 설정"
   ]
  },
  {
   "cell_type": "code",
   "execution_count": null,
   "metadata": {},
   "outputs": [],
   "source": [
    "import boto3\n",
    "# SM 세션에서 사용 리소스 제거에 사용\n",
    "sm_client = boto3.client('sagemaker')\n",
    "sm_runtime_client = boto3.Session().client('sagemaker-runtime')\n",
    "\n",
    "sm_model_name = 'sm-ncf-model-' + str(suffix)\n",
    "endpoint_name = 'sm-new-ncf-endpont-' + str(suffix)\n",
    "print(\"sm_model_name: \", sm_model_name)\n",
    "print(\"inference_image: \", inference_docker_image)\n",
    "print(\"model_artifact: \", byom_artifact)\n",
    "print(\"endpoint_name: \", endpoint_name)"
   ]
  },
  {
   "cell_type": "markdown",
   "metadata": {},
   "source": [
    "## 세이지 메이커 모델 생성\n",
    "- 세이지 메이커에 Model이 존재하지 않으면, 모델을 생성 합니다."
   ]
  },
  {
   "cell_type": "code",
   "execution_count": null,
   "metadata": {},
   "outputs": [],
   "source": [
    "from inference_utils import create_sm_model                \n",
    "\n",
    "create_model_api_response = create_sm_model(sm_client, sm_model_name, \n",
    "                                            inference_docker_image, \n",
    "                                            byom_artifact, role)"
   ]
  },
  {
   "cell_type": "markdown",
   "metadata": {},
   "source": [
    "## 세이지 메이커 앤드포인트 컨피그 생성\n",
    "- endpoint_config  를 생성합니다."
   ]
  },
  {
   "cell_type": "code",
   "execution_count": null,
   "metadata": {},
   "outputs": [],
   "source": [
    "from inference_utils import create_endpoint_config\n",
    "\n",
    "instance_type = 'ml.g4dn.xlarge'\n",
    "sm_endconfig_name = create_endpoint_config(sm_client=sm_client, \n",
    "                                           instance_type=instance_type, \n",
    "                                           sm_model_name =sm_model_name, \n",
    "                                           verbose=False )\n",
    "    \n",
    "print(\"sm_endconfig_name: \", sm_endconfig_name )"
   ]
  },
  {
   "cell_type": "markdown",
   "metadata": {},
   "source": [
    "## 세이지 메이커 앤드포인트 생성\n",
    "- 약 8분 정도 소요 됩니다. "
   ]
  },
  {
   "cell_type": "code",
   "execution_count": null,
   "metadata": {},
   "outputs": [],
   "source": [
    "from inference_utils import create_sm_endpoint\n",
    "\n",
    "create_sm_endpoint(sm_client=sm_client, instance_type= instance_type, \n",
    "                   endpoint_config_name =sm_endconfig_name, \n",
    "                   endpoint_name = endpoint_name, verbose=True )\n",
    "    "
   ]
  },
  {
   "cell_type": "markdown",
   "metadata": {
    "tags": []
   },
   "source": [
    "## SageMaker 엔드포인트 추론 테스트\n",
    "- 신규로 생성한 앤드포인트가 추론이 달 되는지를 확인하기 위함"
   ]
  },
  {
   "cell_type": "code",
   "execution_count": null,
   "metadata": {},
   "outputs": [],
   "source": [
    "import boto3\n",
    "\n",
    "if instance_type == 'local_gpu':\n",
    "    runtime_client = sagemaker.local.LocalSagemakerRuntimeClient()    \n",
    "    endpoint_name = local_endpoint_name\n",
    "else:\n",
    "    runtime_client = boto3.Session().client('sagemaker-runtime')\n",
    "\n",
    "\n",
    "import json, time\n",
    "from inference_utils import invoke_endpoint\n",
    "payload_dump = json.dumps(payload)\n",
    "\n",
    "start_time = time.time()\n",
    "result = invoke_endpoint(runtime_client, endpoint_name, \n",
    "                         payload_dump,\n",
    "                         content_type='application/json'\n",
    "                        )\n",
    "\n",
    "print(\"--- %s seconds ---\" % (time.time() - start_time))\n",
    "print('result: ', result)\n"
   ]
  },
  {
   "cell_type": "markdown",
   "metadata": {},
   "source": [
    "# 4. 세이지 메이커 신규 모델로 앤드포인트 업데이트"
   ]
  },
  {
   "cell_type": "markdown",
   "metadata": {},
   "source": [
    "### current_endpoint_name objects\n",
    "- 기존의 앤드포인트의 오브젝트 정보 확인\n",
    "    - 앤드포인트 이름\n",
    "    - 앤드포인트 컨피그 이름\n",
    "    - 세이지 메이커 모델 이름"
   ]
  },
  {
   "cell_type": "code",
   "execution_count": null,
   "metadata": {},
   "outputs": [],
   "source": [
    "from inference_utils import show_inference_objects"
   ]
  },
  {
   "cell_type": "code",
   "execution_count": null,
   "metadata": {},
   "outputs": [],
   "source": [
    "show_inference_objects(sm_client, endpoint_name)    "
   ]
  },
  {
   "cell_type": "markdown",
   "metadata": {
    "tags": []
   },
   "source": [
    "### new_endpoint_name objects\n",
    "- 위와 동일하게 신규 생성 앤드포인트의 오브젝트 이름을 확인"
   ]
  },
  {
   "cell_type": "markdown",
   "metadata": {},
   "source": [
    "## 4.1. 신규 세이지 메이커 모델 생성"
   ]
  },
  {
   "cell_type": "code",
   "execution_count": null,
   "metadata": {},
   "outputs": [],
   "source": [
    "import boto3\n",
    "new_suffix = f\"{datetime.today().strftime('%Y-%m-%d-%H-%M-%S')}\"\n",
    "\n",
    "sm_new_model_name = 'sm-ncf-model-' + str(new_suffix)\n",
    "\n",
    "byom_new_artifact = byom_artifact\n",
    "print(\"sm_new_model_name: \", sm_new_model_name)\n",
    "print(\"byom_new_artifact: \", byom_new_artifact)\n",
    "\n",
    "create_model_api_response = create_sm_model(sm_client, sm_new_model_name, \n",
    "                                            inference_docker_image, byom_new_artifact, role)"
   ]
  },
  {
   "cell_type": "markdown",
   "metadata": {},
   "source": [
    "## 4.2. 신규 엔드포인트 컨피그 생성"
   ]
  },
  {
   "cell_type": "code",
   "execution_count": null,
   "metadata": {},
   "outputs": [],
   "source": [
    "sm_new_endconfig_name = create_endpoint_config(sm_client=sm_client, \n",
    "                                           instance_type=instance_type, \n",
    "                                           sm_model_name =sm_new_model_name, \n",
    "                                           verbose=False )\n",
    "    \n",
    "print(\"sm_new_endconfig_name: \", sm_new_endconfig_name )"
   ]
  },
  {
   "cell_type": "markdown",
   "metadata": {},
   "source": [
    "## 4.3 앤드포인트 업데이트\n",
    "- 아래의 업데이트는 약 8분 정도가 소요 됩니다.\n",
    "- 내부적으로 EC2 인스턴스 생성하고 배포하는 단계를 가집니다.\n",
    "- 8분 동안 업데이트시에도 기존의 앤드포인트로 서비스가 가능합니다.\n",
    "- 업데이트 이후에는 업데이트된 앤드포인트에서 추론이 됩니다."
   ]
  },
  {
   "cell_type": "code",
   "execution_count": null,
   "metadata": {},
   "outputs": [],
   "source": [
    "from inference_utils import update_sm_endpoint\n",
    "\n",
    "response = update_sm_endpoint(sm_client, endpoint_name, sm_new_endconfig_name)\n",
    "response"
   ]
  },
  {
   "cell_type": "code",
   "execution_count": null,
   "metadata": {},
   "outputs": [],
   "source": [
    "response = sm_client.describe_endpoint(EndpointName=endpoint_name)\n",
    "status = response['EndpointStatus']\n",
    "\n",
    "while status == 'Updating':\n",
    "    print(\"endpoint status is \", status)    \n",
    "    time.sleep(30)\n",
    "    response = sm_client.describe_endpoint(EndpointName=endpoint_name)\n",
    "    status = response['EndpointStatus']\n",
    "\n",
    "\n"
   ]
  },
  {
   "cell_type": "code",
   "execution_count": null,
   "metadata": {},
   "outputs": [],
   "source": [
    "show_inference_objects(sm_client, endpoint_name)    "
   ]
  },
  {
   "cell_type": "markdown",
   "metadata": {},
   "source": [
    "# 5. 신규 엔드포인트 생성"
   ]
  },
  {
   "cell_type": "code",
   "execution_count": null,
   "metadata": {},
   "outputs": [],
   "source": [
    "new_endpoint_name = 'sm-new-ncf-endpont-' + str(new_suffix)\n",
    "print(\"sm_new_model_name: \", sm_new_model_name)\n",
    "print(\"sm_new_endconfig_name: \", sm_new_endconfig_name)\n",
    "print(\"byom_new_artifact: \", byom_new_artifact)\n",
    "print(\"new_endpoint_name: \", new_endpoint_name)"
   ]
  },
  {
   "cell_type": "code",
   "execution_count": null,
   "metadata": {},
   "outputs": [],
   "source": [
    "create_sm_endpoint(sm_client=sm_client, instance_type= instance_type, \n",
    "                   endpoint_config_name =sm_new_endconfig_name, \n",
    "                   endpoint_name = new_endpoint_name, verbose=True )\n",
    "\n"
   ]
  },
  {
   "cell_type": "markdown",
   "metadata": {},
   "source": [
    "# 6. 신규 앤드포인트 생성 후에 Bake Time (예: 5분) 지난 후에 기존 엔드포인트 삭제"
   ]
  },
  {
   "cell_type": "code",
   "execution_count": null,
   "metadata": {},
   "outputs": [],
   "source": [
    "# time.sleep(300)"
   ]
  },
  {
   "cell_type": "code",
   "execution_count": null,
   "metadata": {},
   "outputs": [],
   "source": [
    "from inference_utils import delete_endpoint_detail\n",
    "delete_endpoint_detail(client = sm_client, \n",
    "                endpoint_name = endpoint_name,\n",
    "                is_delete=True, \n",
    "                is_del_model=False, \n",
    "                is_del_endconfig=False,\n",
    "                is_del_endpoint=True)\n",
    "\n",
    "\n"
   ]
  },
  {
   "cell_type": "markdown",
   "metadata": {},
   "source": [
    "# 7. 마지막 신규 엔드포인트 리소스 제거\n",
    "- 첫번째는 실제 리소스를 제제거하지 않고, 관련 오브젝트만을 보여 줍니다.\n",
    "- 두번째는 신규 생성한 세이지메이커 모델, 엔드포인트 컨피그는 지우지 않고, 앤프포인트만 삭제 합니다.\n",
    "    - 이유는 업데이트된 앤드포인트에서 사용하기 때문입니다."
   ]
  },
  {
   "cell_type": "code",
   "execution_count": null,
   "metadata": {},
   "outputs": [],
   "source": [
    "from inference_utils import delete_endpoint"
   ]
  },
  {
   "cell_type": "code",
   "execution_count": null,
   "metadata": {},
   "outputs": [],
   "source": [
    "from inference_utils import delete_endpoint_detail\n",
    "delete_endpoint_detail(client = sm_client, \n",
    "                endpoint_name = new_endpoint_name,\n",
    "                is_delete=True, \n",
    "                is_del_model=True, \n",
    "                is_del_endconfig=True,\n",
    "                is_del_endpoint=True)\n",
    "\n"
   ]
  },
  {
   "cell_type": "code",
   "execution_count": null,
   "metadata": {},
   "outputs": [],
   "source": []
  }
 ],
 "metadata": {
  "kernelspec": {
   "display_name": "conda_python3",
   "language": "python",
   "name": "conda_python3"
  },
  "language_info": {
   "codemirror_mode": {
    "name": "ipython",
    "version": 3
   },
   "file_extension": ".py",
   "mimetype": "text/x-python",
   "name": "python",
   "nbconvert_exporter": "python",
   "pygments_lexer": "ipython3",
   "version": "3.8.12"
  },
  "notice": "Copyright 2018 Amazon.com, Inc. or its affiliates. All Rights Reserved.  Licensed under the Apache License, Version 2.0 (the \"License\"). You may not use this file except in compliance with the License. A copy of the License is located at http://aws.amazon.com/apache2.0/ or in the \"license\" file accompanying this file. This file is distributed on an \"AS IS\" BASIS, WITHOUT WARRANTIES OR CONDITIONS OF ANY KIND, either express or implied. See the License for the specific language governing permissions and limitations under the License."
 },
 "nbformat": 4,
 "nbformat_minor": 4
}
