{
 "cells": [
  {
   "cell_type": "markdown",
   "metadata": {},
   "source": [
    "# [Module 2.1] 훈련 아테펙트를 Re-Packaging 하기\n",
    "\n",
    "이 노트북은 아래와 같은 작업을 합니다.\n",
    "\n",
    "---\n",
    "\n"
   ]
  },
  {
   "cell_type": "code",
   "execution_count": null,
   "metadata": {},
   "outputs": [],
   "source": [
    "%store -r artifact_path"
   ]
  },
  {
   "cell_type": "markdown",
   "metadata": {},
   "source": [
    "---\n",
    "# 1. 패키징 모델\n",
    "- 패키징할 폴더 생성\n",
    "- 훈련된 모델 아티펙트 다운로드 및 해제\n",
    "- 모델 아티펙트, 추론 코드의 폴더 지정 후에 패키징 폴더에 복사\n",
    "- 패키징 폴더를 model.tar.gz 압축 후에 S3에 업로딩\n",
    "- \n",
    "\n"
   ]
  },
  {
   "cell_type": "code",
   "execution_count": null,
   "metadata": {},
   "outputs": [],
   "source": [
    "import os\n",
    "\n",
    "package_dir = 'model_pkg'\n",
    "os.makedirs(package_dir, exist_ok=True)\n",
    "\n"
   ]
  },
  {
   "cell_type": "markdown",
   "metadata": {},
   "source": [
    "추론 코드가 있는 폴더"
   ]
  },
  {
   "cell_type": "code",
   "execution_count": null,
   "metadata": {},
   "outputs": [],
   "source": [
    "code_dir = '../../../src/*'"
   ]
  },
  {
   "cell_type": "code",
   "execution_count": null,
   "metadata": {},
   "outputs": [],
   "source": [
    "%%sh -s {artifact_path} {package_dir} {code_dir}\n",
    "\n",
    "artifact_path=$1\n",
    "package_dir=$2\n",
    "code_dir=$3\n",
    "\n",
    "cd $package_dir # 폴더 생성\n",
    "echo $PWD\n",
    "rm -rf ./*\n",
    "aws s3 cp $artifact_path . # 아티펙트 다운로드\n",
    "tar -xzvf model.tar.gz # 압축 해제\n",
    "rm model.tar.gz # 압축 파일 삭제\n",
    "mkdir -p code # code 폴더 생성\n",
    "cp -r $code_dir code/ # src 파일 모두 카피\n",
    "tar -czvf model.tar.gz * # model.tar.gz 파일 생성"
   ]
  },
  {
   "cell_type": "markdown",
   "metadata": {},
   "source": [
    "# 2. S3 에 업로드"
   ]
  },
  {
   "cell_type": "code",
   "execution_count": null,
   "metadata": {},
   "outputs": [],
   "source": [
    "import sagemaker\n",
    "sagemaker_session  = sagemaker.session.Session()\n",
    "prefix='ncf/inference'\n",
    "bucket = sagemaker.session.Session().default_bucket()\n",
    "print(\"bucket: \", bucket)\n",
    "\n",
    "model_path = os.path.join(package_dir, 'model.tar.gz')\n",
    "byom_artifact = sagemaker_session.upload_data(model_path, bucket, prefix)\n",
    "print(\"byom_artifact: \\n\", byom_artifact)"
   ]
  },
  {
   "cell_type": "code",
   "execution_count": null,
   "metadata": {},
   "outputs": [],
   "source": [
    "%store byom_artifact"
   ]
  },
  {
   "cell_type": "code",
   "execution_count": null,
   "metadata": {},
   "outputs": [],
   "source": []
  },
  {
   "cell_type": "code",
   "execution_count": null,
   "metadata": {},
   "outputs": [],
   "source": []
  }
 ],
 "metadata": {
  "kernelspec": {
   "display_name": "conda_python3",
   "language": "python",
   "name": "conda_python3"
  },
  "language_info": {
   "codemirror_mode": {
    "name": "ipython",
    "version": 3
   },
   "file_extension": ".py",
   "mimetype": "text/x-python",
   "name": "python",
   "nbconvert_exporter": "python",
   "pygments_lexer": "ipython3",
   "version": "3.8.12"
  }
 },
 "nbformat": 4,
 "nbformat_minor": 4
}
