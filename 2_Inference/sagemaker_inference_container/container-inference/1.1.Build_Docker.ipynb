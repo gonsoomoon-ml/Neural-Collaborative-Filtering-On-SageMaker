{
 "cells": [
  {
   "cell_type": "markdown",
   "metadata": {},
   "source": [
    "# [Module 1.1] 세이지메이커에서 추론 다커 이미지 빌딩\n",
    "\n",
    "이 노트북은 아래와 같은 작업을 합니다.\n",
    "\n",
    "\n",
    "- 참고: \n",
    "- [Extending our PyTorch containers](https://sagemaker-examples.readthedocs.io/en/latest/advanced_functionality/pytorch_extending_our_containers/pytorch_extending_our_containers.html)\n",
    "- [사용자 정의 다커](https://github.com/gonsoomoon-ml/churn-prediction-workshop2/tree/master/BYOC)\n",
    "- [TorchServe on AWS](https://catalog.us-east-1.prod.workshops.aws/workshops/04eb9f59-6d25-40c5-a828-67df58b85739/en-US)\n",
    "---\n",
    "\n"
   ]
  },
  {
   "cell_type": "markdown",
   "metadata": {},
   "source": [
    "# 1. 다커 이미지 빌당을 위한 베이스 컨테이너 이미지를 가져옴\n"
   ]
  },
  {
   "cell_type": "code",
   "execution_count": null,
   "metadata": {
    "Collapsed": "false"
   },
   "outputs": [],
   "source": [
    "import os\n",
    "import sys\n",
    "import boto3\n",
    "import sagemaker\n",
    "from sagemaker import utils\n",
    "session = sagemaker.Session()\n",
    "\n",
    "region = session.boto_region_name\n",
    "client = session.boto_session.client(\n",
    "    \"sts\", region_name=region, endpoint_url=utils.sts_regional_endpoint(region)\n",
    ")\n",
    "account = client.get_caller_identity()[\"Account\"]\n",
    "\n",
    "\n",
    "region = session.boto_region_name\n",
    "\n",
    "\n",
    "registry_uri_inference = sagemaker.image_uris.retrieve(\n",
    "    framework=\"pytorch\",\n",
    "    region=region,\n",
    "    version=\"1.8.1\",\n",
    "    py_version=\"py3\",\n",
    "    instance_type=\"ml.g4dn.xlarge\",\n",
    "    image_scope=\"inference\",\n",
    ")\n",
    "\n",
    "ecr_uri_prefix = account + \".\" + \".\".join(registry_uri_inference.split(\"/\")[0].split(\".\")[1:])\n",
    "\n",
    "print(\"registry_uri_inference: \\n\", registry_uri_inference)\n",
    "print(\"ecr_uri_prefix: \", ecr_uri_prefix)\n",
    "\n"
   ]
  },
  {
   "cell_type": "markdown",
   "metadata": {
    "Collapsed": "false"
   },
   "source": [
    "# 2. 다커 이미지 빌딩\n",
    "- 추론의 다커 이미지 리파지토리 이름을 지정 합니다."
   ]
  },
  {
   "cell_type": "code",
   "execution_count": null,
   "metadata": {
    "Collapsed": "false"
   },
   "outputs": [],
   "source": [
    "inference_algorithm_name = \"ncf-sagemaker-inference\""
   ]
  },
  {
   "cell_type": "markdown",
   "metadata": {},
   "source": [
    "훈련 및 추론 다커 이미지에 필요한 파리미터의 값을 확인 합니다."
   ]
  },
  {
   "cell_type": "code",
   "execution_count": null,
   "metadata": {},
   "outputs": [],
   "source": [
    "print(\"\\n###### Inference  #####\\n \")\n",
    "print(\"account: \", account)\n",
    "print(\"region: \", region)\n",
    "print(\"inference_algorithm_name: \", inference_algorithm_name)\n",
    "print(\"ecr_uri_prefix: \", ecr_uri_prefix)\n",
    "# print(\"registry_uri_training.split('/')[0].split('.')[0]}: \", registry_uri_training.split('/')[0].split('.')[0])\n",
    "print(\"registry_uri_inference: \", registry_uri_inference)"
   ]
  },
  {
   "cell_type": "markdown",
   "metadata": {},
   "source": [
    "## 2.1. Dockerfile 확인"
   ]
  },
  {
   "cell_type": "code",
   "execution_count": null,
   "metadata": {},
   "outputs": [],
   "source": [
    "! cat Dockerfile"
   ]
  },
  {
   "cell_type": "markdown",
   "metadata": {},
   "source": [
    "## 2.2. 추론 이미지 빌딩\n"
   ]
  },
  {
   "cell_type": "code",
   "execution_count": null,
   "metadata": {},
   "outputs": [],
   "source": [
    "%%time\n",
    "! /bin/bash build_push_inference.sh {account} {region} {inference_algorithm_name} {ecr_uri_prefix} {registry_uri_inference.split('/')[0].split('.')[0]} {registry_uri_inference}\n",
    "# ! /bin/bash ./container-inference/build_push_inference.sh {account} {region} {inference_algorithm_name} {ecr_uri_prefix} {registry_uri_inference.split('/')[0].split('.')[0]} {registry_uri_inference}"
   ]
  },
  {
   "cell_type": "markdown",
   "metadata": {},
   "source": [
    "# 3. Docker Image 관련 변수 저장"
   ]
  },
  {
   "cell_type": "code",
   "execution_count": null,
   "metadata": {},
   "outputs": [],
   "source": [
    "inference_docker_image = f\"{ecr_uri_prefix}/{inference_algorithm_name}\"\n",
    "print(\"inference_docker_image: \\n\", inference_docker_image)"
   ]
  },
  {
   "cell_type": "code",
   "execution_count": null,
   "metadata": {},
   "outputs": [],
   "source": [
    "%store inference_docker_image"
   ]
  },
  {
   "cell_type": "code",
   "execution_count": null,
   "metadata": {},
   "outputs": [],
   "source": []
  },
  {
   "cell_type": "code",
   "execution_count": null,
   "metadata": {},
   "outputs": [],
   "source": []
  }
 ],
 "metadata": {
  "kernelspec": {
   "display_name": "conda_python3",
   "language": "python",
   "name": "conda_python3"
  },
  "language_info": {
   "codemirror_mode": {
    "name": "ipython",
    "version": 3
   },
   "file_extension": ".py",
   "mimetype": "text/x-python",
   "name": "python",
   "nbconvert_exporter": "python",
   "pygments_lexer": "ipython3",
   "version": "3.8.12"
  }
 },
 "nbformat": 4,
 "nbformat_minor": 4
}
