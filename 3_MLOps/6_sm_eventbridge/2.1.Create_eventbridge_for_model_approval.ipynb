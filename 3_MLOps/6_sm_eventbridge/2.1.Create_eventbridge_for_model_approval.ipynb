{
 "cells": [
  {
   "cell_type": "markdown",
   "id": "8731ca8d",
   "metadata": {},
   "source": [
    "# [모듈 2.1] Model Approval을 하면 EventBridge를 통해 \"모델 서빙\" CodePipeline 수행"
   ]
  },
  {
   "cell_type": "markdown",
   "id": "ab0a3761",
   "metadata": {},
   "source": [
    "이 노트북은 CodeCommit 레파지토리에 'SageMaker Pipeline config 파일(sm_pipeline_serving_config.json)'을 수정 후 push 하면, EventBridge를 통해 CodePipeline을 실행하는 노트북 입니다. \n",
    "\n",
    "## 참고 자료\n",
    "- Amazon EventBridge 유저 가이드\n",
    "   (https://docs.aws.amazon.com/eventbridge/latest/userguide/eb-what-is.html)\n",
    "- Boto3 Docs : EventBridge\n",
    "   (https://boto3.amazonaws.com/v1/documentation/api/latest/reference/services/events.html)\n",
    "\n"
   ]
  },
  {
   "cell_type": "markdown",
   "id": "db4f9d8c",
   "metadata": {
    "tags": []
   },
   "source": [
    "# 1. 환경 확인"
   ]
  },
  {
   "cell_type": "code",
   "execution_count": 1,
   "id": "63b692a8",
   "metadata": {},
   "outputs": [],
   "source": [
    "%load_ext autoreload\n",
    "%autoreload 2\n",
    "\n",
    "import sys\n",
    "import sagemaker\n",
    "import boto3\n",
    "sys.path.append('./src')\n"
   ]
  },
  {
   "cell_type": "markdown",
   "id": "558d89be",
   "metadata": {},
   "source": [
    "# 2. 리파지토리 로컬에 클로닝\n",
    "- \"5_sm-serving-codepipeline\" 에서 만든 서빙 용 repository name 을 사용하여, 이 repository 를 로컬에 복사 합니다.\n",
    "- repository 의 repository_url 를 가져옵니다.\n",
    "- 아래와 같은 형태 입니다.\n",
    "```\n",
    "repository_url =  \"https://git-codecommit.<REGION>.amazonaws.com/v1/repos/ncf-serving-repo\"\n",
    "```\n",
    "- \"repository_url\" 확인하면 이후에 로컬에 클로닝 합니다.\n"
   ]
  },
  {
   "cell_type": "code",
   "execution_count": 2,
   "id": "24eb588b-4d2e-4734-96dc-63430b75a0f2",
   "metadata": {},
   "outputs": [
    {
     "name": "stdout",
     "output_type": "stream",
     "text": [
      "ncf-serving-repo\n"
     ]
    }
   ],
   "source": [
    "## Codecommit Repo Name (ncf-serving-repo)\n",
    "repository_name = \"ncf-serving-repo\"\n",
    "\n",
    "print(repository_name)"
   ]
  },
  {
   "cell_type": "code",
   "execution_count": 3,
   "id": "249cee8d",
   "metadata": {},
   "outputs": [
    {
     "name": "stdout",
     "output_type": "stream",
     "text": [
      "https://git-codecommit.ap-northeast-2.amazonaws.com/v1/repos/ncf-serving-repo\n"
     ]
    }
   ],
   "source": [
    "repository_url = boto3.client('codecommit').get_repository(repositoryName = repository_name).get('repositoryMetadata').get('cloneUrlHttp')\n",
    "print(repository_url)\n",
    "\n",
    "# repository_url = \"<Repository URL>\""
   ]
  },
  {
   "cell_type": "markdown",
   "id": "00bc010e-a486-4c43-98e8-e4755dfbe3b4",
   "metadata": {},
   "source": [
    "### [알림] git clone 과정에서 아래와 같은 에러 발생시 트러블 슈팅 하세요.\n",
    "- [에러 메세지] \n",
    "    - CalledProcessError: Command 'b'\\nrepository_url=$1\\nrepository_name=$2 \n",
    "-  --> 솔루션 : Kernel Restart 후 노트북 처음부터 다시 실행시켜 주세요."
   ]
  },
  {
   "cell_type": "code",
   "execution_count": 4,
   "id": "d421349b",
   "metadata": {},
   "outputs": [
    {
     "name": "stderr",
     "output_type": "stream",
     "text": [
      "Cloning into 'ncf-serving-repo'...\n",
      "remote: Counting objects: 26, done.        \n"
     ]
    }
   ],
   "source": [
    "%%sh -s {repository_url} {repository_name}\n",
    "\n",
    "repository_url=$1\n",
    "repository_name=$2\n",
    "\n",
    "rm -rf $repository_name\n",
    "\n",
    "git clone $repository_url "
   ]
  },
  {
   "cell_type": "markdown",
   "id": "3090d936-b899-4e39-a2fa-36bdf22bf6b5",
   "metadata": {},
   "source": [
    "# 3. EventBridge Rule 생성을 위한 파라미터 세팅"
   ]
  },
  {
   "cell_type": "code",
   "execution_count": 5,
   "id": "3ecea166",
   "metadata": {},
   "outputs": [],
   "source": [
    "\n",
    "# code pipeline name, arn, role_arn\n",
    "codepipeline_name2 = \"ncf-serving-code-pipeline\"\n",
    "codepipeline_arn = boto3.client('codepipeline').get_pipeline(name = codepipeline_name2).get('metadata').get('pipelineArn')\n",
    "eventbrideexcrole_arn = boto3.client('iam').get_role(RoleName = 'MLOps-EventBridgeRole').get('Role').get('Arn')\n",
    "\n",
    "# EventBridge Rule Name\n",
    "eventbridge_rule_name2 = \"codepipelinerule2\"\n",
    "\n",
    "# EventBridge Rule의 EventPattern json 파일 경로\n",
    "eventpattern_json = f'src/serving_eventpattern.json'\n"
   ]
  },
  {
   "cell_type": "markdown",
   "id": "8da05f84-e738-4d0f-a9bd-9940373259f3",
   "metadata": {},
   "source": [
    "# 4. EventBridge Rule 정의\n",
    "- EventBridge Rule 생성하기 위해서는 2 가지를 생성해야 합니다.\n",
    "    - (1) EventPattern 정의 \n",
    "        - \"5_sm-serving-codepipeline\" 에서 만든 서빙 용 repository 에 변화가 (예: Commit) 생기는 것을 감지 합니다.\n",
    "    - (2) Event Target 정의\n",
    "        - \"5_sm-serving-codepipeline 에서 생성한 \"ncf-serving-code-pipeline\" 을 실행하게 합니다."
   ]
  },
  {
   "cell_type": "markdown",
   "id": "16278ac3-5885-4a4f-8df8-23135bb4bb57",
   "metadata": {},
   "source": [
    "## 4.1 EventPattern 정의"
   ]
  },
  {
   "cell_type": "code",
   "execution_count": 6,
   "id": "43fe4384-b487-49a1-8011-0fa73c2a2c9e",
   "metadata": {},
   "outputs": [
    {
     "name": "stdout",
     "output_type": "stream",
     "text": [
      "arn:aws:codecommit:ap-northeast-2:057716757052:ncf-serving-repo\n"
     ]
    }
   ],
   "source": [
    "# Codecommit Arn\n",
    "repository_arn = boto3.client('codecommit').get_repository(repositoryName = repository_name).get('repositoryMetadata').get('Arn')\n",
    "print(repository_arn)"
   ]
  },
  {
   "cell_type": "code",
   "execution_count": 7,
   "id": "f09ef103-fce6-4e15-979e-65db2cf87987",
   "metadata": {},
   "outputs": [],
   "source": [
    "eventpattern_dict = {\n",
    "    \"source\": [\"aws.codecommit\"],\n",
    "    \"detail-type\": [\"CodeCommit Repository State Change\"],\n",
    "    \"resources\": [repository_arn],\n",
    "    \"detail\": {\n",
    "            \"referenceType\": [\"branch\"],\n",
    "            \"referenceName\": [\"master\"]\n",
    "    }\n",
    "}\n",
    "\n",
    "# print(eventpattern_dict)"
   ]
  },
  {
   "cell_type": "code",
   "execution_count": 8,
   "id": "f66ebe4e-7f21-4156-8387-f6d0a36b4fc8",
   "metadata": {},
   "outputs": [
    {
     "data": {
      "text/plain": [
       "{'source': ['aws.codecommit'],\n",
       " 'detail-type': ['CodeCommit Repository State Change'],\n",
       " 'resources': ['arn:aws:codecommit:ap-northeast-2:057716757052:ncf-serving-repo'],\n",
       " 'detail': {'referenceType': ['branch'], 'referenceName': ['master']}}"
      ]
     },
     "execution_count": 8,
     "metadata": {},
     "output_type": "execute_result"
    }
   ],
   "source": [
    "eventpattern_dict"
   ]
  },
  {
   "cell_type": "markdown",
   "id": "0233acb7-d62e-4231-8e85-829cd127859d",
   "metadata": {},
   "source": [
    "#### API put_rule() 을 통해 Rule 생성"
   ]
  },
  {
   "cell_type": "code",
   "execution_count": 10,
   "id": "42221956-b26c-49eb-b93a-3c6cf552887c",
   "metadata": {},
   "outputs": [],
   "source": [
    "import json\n",
    "\n",
    "eventclient = boto3.client('events')\n",
    "\n",
    "eventresponse = eventclient.put_rule(\n",
    "    Name = eventbridge_rule_name2,\n",
    "    EventPattern = json.dumps(eventpattern_dict)\n",
    ")\n"
   ]
  },
  {
   "cell_type": "code",
   "execution_count": 11,
   "id": "19826fb6-55f0-495a-831c-2d706b559b23",
   "metadata": {},
   "outputs": [
    {
     "data": {
      "text/plain": [
       "{'RuleArn': 'arn:aws:events:ap-northeast-2:057716757052:rule/codepipelinerule2',\n",
       " 'ResponseMetadata': {'RequestId': '3bce7efb-98f6-4342-b141-ec300bb6f917',\n",
       "  'HTTPStatusCode': 200,\n",
       "  'HTTPHeaders': {'x-amzn-requestid': '3bce7efb-98f6-4342-b141-ec300bb6f917',\n",
       "   'content-type': 'application/x-amz-json-1.1',\n",
       "   'content-length': '79',\n",
       "   'date': 'Wed, 28 Dec 2022 14:46:41 GMT'},\n",
       "  'RetryAttempts': 0}}"
      ]
     },
     "execution_count": 11,
     "metadata": {},
     "output_type": "execute_result"
    }
   ],
   "source": [
    "eventresponse"
   ]
  },
  {
   "cell_type": "markdown",
   "id": "42f581ab-4f13-440e-af0d-527349f9bcd1",
   "metadata": {},
   "source": [
    "## 4.2 Event Target 설정"
   ]
  },
  {
   "cell_type": "code",
   "execution_count": 12,
   "id": "7ef00945-4fbb-41d3-9a6b-9a0a54d3f6f0",
   "metadata": {},
   "outputs": [],
   "source": [
    "eventresponse = eventclient.put_targets(\n",
    "    Rule = eventbridge_rule_name2,\n",
    "    Targets = [\n",
    "        {\n",
    "            'Arn' : codepipeline_arn,\n",
    "            'Id' : codepipeline_name2,\n",
    "            'RoleArn' : eventbrideexcrole_arn\n",
    "        }\n",
    "    ]\n",
    ")\n"
   ]
  },
  {
   "cell_type": "code",
   "execution_count": 13,
   "id": "bb0b9a98-4f9c-46b8-8c19-f3ba4bcc3363",
   "metadata": {},
   "outputs": [
    {
     "data": {
      "text/plain": [
       "{'FailedEntryCount': 0,\n",
       " 'FailedEntries': [],\n",
       " 'ResponseMetadata': {'RequestId': '0b9a2bc9-3f52-41bf-8bb2-df24240582f2',\n",
       "  'HTTPStatusCode': 200,\n",
       "  'HTTPHeaders': {'x-amzn-requestid': '0b9a2bc9-3f52-41bf-8bb2-df24240582f2',\n",
       "   'content-type': 'application/x-amz-json-1.1',\n",
       "   'content-length': '41',\n",
       "   'date': 'Wed, 28 Dec 2022 14:46:44 GMT'},\n",
       "  'RetryAttempts': 0}}"
      ]
     },
     "execution_count": 13,
     "metadata": {},
     "output_type": "execute_result"
    }
   ],
   "source": [
    "eventresponse"
   ]
  },
  {
   "cell_type": "markdown",
   "id": "b5f1fb86-4a0c-470d-8d9f-0961abd7922c",
   "metadata": {},
   "source": [
    "# 5. 새로운 SageMaker Pipeline (Serving) 설정 파일 준비\n",
    "- 로컬로 클로닝한 코드 리파지토리에서 sm_pipeline_serving_config.json 파일을 로딩 합니다. 이 파일은 아래와 같은 형태 입니다.\n",
    "```\n",
    "{'sm_pipeline_name': 'ncf-serving-code-pipeline-sm-pipeline',\n",
    " 'endpoint_instance_type': 'ml.g4dn.xlarge',\n",
    " 'ModelApprovalStatus': 'Pending',\n",
    " 'bucket': 'sagemaker-ap-northeast-2-XXXXXX',\n",
    " 'update_time': '2022-12-28-14-39-25'}\n",
    "```\n",
    "- 여기서 아래 두개의 변수의 값을 수정 합니다.\n",
    "    - ModelApprovalStatus : \"Approved\"\n",
    "    - update_time : 현재 시간 저장\n"
   ]
  },
  {
   "cell_type": "markdown",
   "id": "d2f6f41b-fd09-407b-9737-448eb4b44f77",
   "metadata": {},
   "source": [
    "## 5.1. sm_pipeline_serving_config.json 파일 로딩"
   ]
  },
  {
   "cell_type": "code",
   "execution_count": 14,
   "id": "f5d9c23d-870a-4939-8b8c-9f6e823c4099",
   "metadata": {},
   "outputs": [],
   "source": [
    "from common_utils import save_json, load_json\n",
    "\n",
    "# 레포지토리의 sm_pipeline_serving_config.json 파일 위치 지정\n",
    "sm_pipeline_serving_config_json_path = repository_name+\"/pipelines/ncf/src/sm_pipeline_serving_config.json\"\n",
    "\n",
    "# sm_pipeline_serving_config.json 파일 내용을 Load\n",
    "sm_serving_pipeline_dict = load_json(sm_pipeline_serving_config_json_path)"
   ]
  },
  {
   "cell_type": "code",
   "execution_count": 15,
   "id": "446effe2-ac7f-47cd-9753-755cfa866894",
   "metadata": {},
   "outputs": [
    {
     "name": "stdout",
     "output_type": "stream",
     "text": [
      "The current time is 2022-12-28-14-46-52\n"
     ]
    }
   ],
   "source": [
    "from datetime import datetime\n",
    "currentDateAndTime = datetime.now()\n",
    "\n",
    "# 현재 시간을 Json 에 넣기 위함\n",
    "currentTime = currentDateAndTime.strftime(\"%Y-%m-%d-%H-%M-%S\")\n",
    "print(\"The current time is\", currentTime)"
   ]
  },
  {
   "cell_type": "markdown",
   "id": "b6c25739-c611-463b-9851-ee7018a2a8eb",
   "metadata": {},
   "source": [
    "### ModelApprovalStatus 를 \"Approved\" 로 지정 (=모델 승인)"
   ]
  },
  {
   "cell_type": "code",
   "execution_count": 16,
   "id": "56621ac4-4d55-46ab-b29a-4d9d1ff87291",
   "metadata": {},
   "outputs": [
    {
     "data": {
      "text/plain": [
       "{'sm_pipeline_name': 'ncf-serving-code-pipeline-sm-pipeline',\n",
       " 'endpoint_instance_type': 'ml.g4dn.xlarge',\n",
       " 'ModelApprovalStatus': 'Approved',\n",
       " 'bucket': 'sagemaker-ap-northeast-2-057716757052',\n",
       " 'update_time': '2022-12-28-14-46-52'}"
      ]
     },
     "execution_count": 16,
     "metadata": {},
     "output_type": "execute_result"
    }
   ],
   "source": [
    "# sm_pipeline_serving_config.json 파일에서 모델 승인 상태와 현재 시간만 업데이트\n",
    "sm_serving_pipeline_dict['ModelApprovalStatus'] = \"Approved\"\n",
    "sm_serving_pipeline_dict['update_time'] = currentTime\n",
    "\n",
    "# print(sm_serving_pipeline_dict)\n",
    "sm_serving_pipeline_dict"
   ]
  },
  {
   "cell_type": "markdown",
   "id": "1c8579c0-aec1-48a4-a428-a110b6fdda35",
   "metadata": {},
   "source": [
    "## 5.2. sm_pipeline_serving_config.json 덮어 쓰기 (Overwriting)"
   ]
  },
  {
   "cell_type": "code",
   "execution_count": 17,
   "id": "ff13f76a-52af-4bd3-9473-0110e86614f6",
   "metadata": {},
   "outputs": [
    {
     "name": "stdout",
     "output_type": "stream",
     "text": [
      "ncf-serving-repo/pipelines/ncf/src/sm_pipeline_serving_config.json is saved\n",
      "{\n",
      "  \"sm_pipeline_name\": \"ncf-serving-code-pipeline-sm-pipeline\",\n",
      "  \"endpoint_instance_type\": \"ml.g4dn.xlarge\",\n",
      "  \"ModelApprovalStatus\": \"Approved\",\n",
      "  \"bucket\": \"sagemaker-ap-northeast-2-057716757052\",\n",
      "  \"update_time\": \"2022-12-28-14-46-52\"\n",
      "}\n"
     ]
    }
   ],
   "source": [
    "import json\n",
    "from common_utils import save_json, load_json\n",
    "\n",
    "save_json(sm_pipeline_serving_config_json_path, sm_serving_pipeline_dict)\n",
    "sm_pipeline_serving_dict = load_json(sm_pipeline_serving_config_json_path)\n",
    "print (json.dumps(sm_pipeline_serving_dict, indent=2))"
   ]
  },
  {
   "cell_type": "markdown",
   "id": "41a04333",
   "metadata": {},
   "source": [
    "# 6. CodeCommit 리파지토리에 푸시 (Evnet Bridge Rule 이 트리거)\n",
    "- 로컬의 클로닝한 리파지토리의  \"/pipelines/ncf/src/sm_pipeline_serving_config.json\" 파일 변경이 있어서, CodeCommit 에 Push 하면 생성한 Event Brige Rule 에 의하여 \"ncf-serving-code-pipeline\" Code Pipeline 이 실행 됩니다."
   ]
  },
  {
   "cell_type": "code",
   "execution_count": 18,
   "id": "0ce5ef6f",
   "metadata": {},
   "outputs": [
    {
     "name": "stdout",
     "output_type": "stream",
     "text": [
      "/home/ec2-user/SageMaker/Neural-Collaborative-Filtering-On-SageMaker/3_MLOps/6_sm-eventbridge/ncf-serving-repo\n",
      "[master ddfcf67] Add new files\n",
      " Committer: EC2 Default User <ec2-user@ip-172-16-26-229.ap-northeast-2.compute.internal>\n",
      "Your name and email address were configured automatically based\n",
      "on your username and hostname. Please check that they are accurate.\n",
      "You can suppress this message by setting them explicitly:\n",
      "\n",
      "    git config --global user.name \"Your Name\"\n",
      "    git config --global user.email you@example.com\n",
      "\n",
      "After doing this, you may fix the identity used for this commit with:\n",
      "\n",
      "    git commit --amend --reset-author\n",
      "\n",
      " 2 files changed, 2 insertions(+), 1 deletion(-)\n",
      " create mode 100644 pushtime.log\n"
     ]
    },
    {
     "name": "stderr",
     "output_type": "stream",
     "text": [
      "remote: Validating objects: 100%        \n",
      "To https://git-codecommit.ap-northeast-2.amazonaws.com/v1/repos/ncf-serving-repo\n",
      "   56e8b94..ddfcf67  master -> master\n"
     ]
    }
   ],
   "source": [
    "%%sh -s {repository_name}\n",
    "repository_name=$1\n",
    "cd $repository_name\n",
    "date >> pushtime.log\n",
    "echo $PWD\n",
    "git add .\n",
    "git commit -m \"Add new files\"\n",
    "git push origin master\n"
   ]
  },
  {
   "cell_type": "markdown",
   "id": "e8eb10e9-1262-42fd-b47f-96c99747aa9f",
   "metadata": {},
   "source": [
    "# 7. 변수 저장"
   ]
  },
  {
   "cell_type": "code",
   "execution_count": null,
   "id": "153a663c-bff7-4e9f-9bb7-0ac7fe976bc2",
   "metadata": {},
   "outputs": [],
   "source": [
    "%store eventbridge_rule_name2\n",
    "%store codepipeline_name2"
   ]
  },
  {
   "cell_type": "markdown",
   "id": "d431c97d-6f4c-4e8f-8b84-2a772339d12b",
   "metadata": {},
   "source": [
    "# 8. EventBridge Rule 및 CodePipeline 실행 확인 (콘솔 화면)"
   ]
  },
  {
   "cell_type": "markdown",
   "id": "d8c2c460-06ca-4a31-8323-4a16398c3f26",
   "metadata": {},
   "source": [
    "## 9.1 EventBridge Rule 생성 확인\n",
    "#### 하단에 codepipeline2가 생성된 것을 확인할 수 있습니다."
   ]
  },
  {
   "cell_type": "markdown",
   "id": "22395c29-5080-4518-9af6-c6d9d89aa2c5",
   "metadata": {},
   "source": [
    "![eventbridge2.png](img/eventbridge2.png)"
   ]
  },
  {
   "cell_type": "markdown",
   "id": "bb5683ec-d737-4ff9-b724-b0f275b58d76",
   "metadata": {},
   "source": [
    "## 9.2 codepipelinerule2 의 Event pattern 확인"
   ]
  },
  {
   "cell_type": "markdown",
   "id": "2904d0d9-9c1b-437e-a742-57c4efc01a47",
   "metadata": {},
   "source": [
    "![eventbridge2-eventpattern.png](img/eventbridge2-eventpattern.png)"
   ]
  },
  {
   "cell_type": "markdown",
   "id": "720695d5-761f-4926-9290-673c12177f62",
   "metadata": {},
   "source": [
    "## 9.3 codepipelinerule2의 Target 확인"
   ]
  },
  {
   "cell_type": "markdown",
   "id": "beec8073-1780-4c55-bbe5-672f76a3f87f",
   "metadata": {},
   "source": [
    "![eventbridge2-target.png](img/eventbridge2-target.png)"
   ]
  },
  {
   "cell_type": "markdown",
   "id": "f1befc67-6b41-40f8-b03b-eabf77c6477c",
   "metadata": {},
   "source": [
    "## 9.4 EventBridge를 통한 CodePipeline 실행 확인"
   ]
  },
  {
   "cell_type": "markdown",
   "id": "8a0719d3-c248-4fc7-9953-b9ba5ad3e2e3",
   "metadata": {},
   "source": [
    "![codepipeline-serving-inprogress1.png](img/codepipeline-serving-inprogress1.png)"
   ]
  },
  {
   "cell_type": "markdown",
   "id": "b53dcd1e-5efc-4f04-bd2b-c0bdba7bad56",
   "metadata": {},
   "source": [
    "## 9.5. Endpoint 업데이트 (신규 모델로 배포)"
   ]
  },
  {
   "cell_type": "markdown",
   "id": "552cac0f-c5e8-4ee5-96d7-328ac96d6a3f",
   "metadata": {},
   "source": [
    "![update_endpoint.png](img/update_endpoint.png)"
   ]
  },
  {
   "cell_type": "code",
   "execution_count": null,
   "id": "2574c0be-a6f6-4ec5-9398-49e3ac17056a",
   "metadata": {},
   "outputs": [],
   "source": []
  }
 ],
 "metadata": {
  "kernelspec": {
   "display_name": "conda_python3",
   "language": "python",
   "name": "conda_python3"
  },
  "language_info": {
   "codemirror_mode": {
    "name": "ipython",
    "version": 3
   },
   "file_extension": ".py",
   "mimetype": "text/x-python",
   "name": "python",
   "nbconvert_exporter": "python",
   "pygments_lexer": "ipython3",
   "version": "3.8.12"
  }
 },
 "nbformat": 4,
 "nbformat_minor": 5
}
