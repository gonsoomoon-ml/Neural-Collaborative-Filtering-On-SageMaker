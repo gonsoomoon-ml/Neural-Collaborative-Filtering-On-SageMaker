{
 "cells": [
  {
   "cell_type": "code",
   "execution_count": 22,
   "id": "10be14de-4b9f-4ec6-a147-48644f7d0091",
   "metadata": {},
   "outputs": [],
   "source": [
    "s3_path = 's3://sagemaker-us-east-1-057716757052/ncf/repackage/model/2022-11-16-08-51-06/model.tar.gz'\n",
    "tar_name = 'model.tar.gz'"
   ]
  },
  {
   "cell_type": "code",
   "execution_count": 23,
   "id": "3c6a62a1-304a-4d06-b0cb-325bd8b8b9e3",
   "metadata": {},
   "outputs": [
    {
     "name": "stdout",
     "output_type": "stream",
     "text": [
      "s3://sagemaker-us-east-1-057716757052/ncf/repackage/model/2022-11-16-08-51-06/model.tar.gz\n",
      "2022-11-16 09:03:56    5957572 model.tar.gz\n",
      "download: s3://sagemaker-us-east-1-057716757052/ncf/repackage/model/2022-11-16-08-51-06/model.tar.gz to temp_pipeline/model.tar.gz\n",
      "NeuMF-end.pth\n",
      "code/evaluate.py\n",
      "code/iam_helper.py\n",
      "code/iam_change_model_approval.py\n",
      "code/data_utils.py\n",
      "code/train_lib.py\n",
      "code/common_utils.py\n",
      "code/requirements.txt\n",
      "code/train.py\n",
      "code/iam_repackage_model_artifact.py\n",
      "code/inference_utils.py\n",
      "code/model.py\n",
      "code/config.py\n",
      "code/iam_create_endpoint.py\n",
      "code/pipeline_util.py\n",
      "code/inference.py\n"
     ]
    }
   ],
   "source": [
    "%%sh -s {s3_path} {tar_name}\n",
    "s3_path=$1\n",
    "tar_name=$2\n",
    "echo $s3_path\n",
    "aws s3 ls $s3_path\n",
    "mkdir -p temp_pipeline\n",
    "aws s3 cp $s3_path temp_pipeline\n",
    "cd temp_pipeline\n",
    "tar -xzvf $tar_name "
   ]
  },
  {
   "cell_type": "code",
   "execution_count": 24,
   "id": "412295dc-0a87-4d9c-96fa-3ba5e3fe7711",
   "metadata": {},
   "outputs": [
    {
     "name": "stdout",
     "output_type": "stream",
     "text": [
      "total 12100\n",
      "drwxrwxr-x 3 ec2-user ec2-user    4096 Nov 16 09:10 .\n",
      "drwxrwxr-x 7 ec2-user ec2-user    4096 Nov 16 09:10 ..\n",
      "drwxrwxr-x 2 ec2-user ec2-user    4096 Nov 16 09:10 code\n",
      "-rw-rw-r-- 1 ec2-user ec2-user 5957572 Nov 16 09:03 model.tar.gz\n",
      "-rw-r--r-- 1 ec2-user ec2-user 6415259 Nov 16 09:02 NeuMF-end.pth\n",
      "total 88\n",
      "drwxrwxr-x 2 ec2-user ec2-user  4096 Nov 16 09:10 .\n",
      "drwxrwxr-x 3 ec2-user ec2-user  4096 Nov 16 09:10 ..\n",
      "-rw-rw-r-- 1 ec2-user ec2-user   601 Nov 16 08:51 common_utils.py\n",
      "-rw-rw-r-- 1 ec2-user ec2-user   615 Nov 16 08:51 config.py\n",
      "-rw-rw-r-- 1 ec2-user ec2-user  3290 Nov 16 08:51 data_utils.py\n",
      "-rw-rw-r-- 1 ec2-user ec2-user  2856 Nov 16 08:51 evaluate.py\n",
      "-rw-rw-r-- 1 ec2-user ec2-user  3201 Nov 16 08:51 iam_change_model_approval.py\n",
      "-rw-rw-r-- 1 ec2-user ec2-user  3075 Nov 16 08:51 iam_create_endpoint.py\n",
      "-rw-rw-r-- 1 ec2-user ec2-user  1282 Nov 16 08:51 iam_helper.py\n",
      "-rw-rw-r-- 1 ec2-user ec2-user  6686 Nov 16 08:51 iam_repackage_model_artifact.py\n",
      "-rw-rw-r-- 1 ec2-user ec2-user  7416 Nov 16 08:51 inference.py\n",
      "-rw-rw-r-- 1 ec2-user ec2-user  7028 Nov 16 08:51 inference_utils.py\n",
      "-rw-rw-r-- 1 ec2-user ec2-user  3752 Nov 16 08:51 model.py\n",
      "-rw-rw-r-- 1 ec2-user ec2-user  1503 Nov 16 08:51 pipeline_util.py\n",
      "-rw-rw-r-- 1 ec2-user ec2-user   198 Nov 16 08:51 requirements.txt\n",
      "-rw-rw-r-- 1 ec2-user ec2-user 11666 Nov 16 08:51 train_lib.py\n",
      "-rw-rw-r-- 1 ec2-user ec2-user  2220 Nov 16 08:51 train.py\n"
     ]
    }
   ],
   "source": [
    "! cd temp_pipeline && ls -al && cd code && ls -al"
   ]
  },
  {
   "cell_type": "code",
   "execution_count": 21,
   "id": "4c952088-90b4-4be5-9ba3-4a70664809fa",
   "metadata": {},
   "outputs": [],
   "source": [
    "! cd temp_pipeline && rm -rf ./*"
   ]
  },
  {
   "cell_type": "code",
   "execution_count": 17,
   "id": "162ce176-cd24-45d0-b1f6-24992f3114e3",
   "metadata": {},
   "outputs": [],
   "source": [
    "s3_path = 's3://sagemaker-us-east-1-057716757052/pytorch-inference-2022-11-16-05-36-15-244/model.tar.gz'\n",
    "tar_name = 'model.tar.gz'"
   ]
  },
  {
   "cell_type": "code",
   "execution_count": 18,
   "id": "92e9c8a2-a177-4e52-846d-e7f67fedeb6e",
   "metadata": {},
   "outputs": [
    {
     "name": "stdout",
     "output_type": "stream",
     "text": [
      "s3://sagemaker-us-east-1-057716757052/pytorch-inference-2022-11-16-05-36-15-244/model.tar.gz\n",
      "2022-11-16 05:36:17    5951313 model.tar.gz\n",
      "download: s3://sagemaker-us-east-1-057716757052/pytorch-inference-2022-11-16-05-36-15-244/model.tar.gz to temp/model.tar.gz\n",
      "/\n",
      "NeuMF-end.pth\n",
      "code/\n",
      "code/__pycache__/\n",
      "code/__pycache__/config.cpython-38.pyc\n",
      "code/__pycache__/data_utils.cpython-38.pyc\n",
      "code/common_utils.py\n",
      "code/config.py\n",
      "code/data_utils.py\n",
      "code/inference.py\n",
      "code/inference_utils.py\n",
      "code/model.py\n",
      "code/model_config.json\n",
      "code/requirements.txt\n"
     ]
    },
    {
     "name": "stderr",
     "output_type": "stream",
     "text": [
      "tar: Removing leading `/' from member names\n"
     ]
    }
   ],
   "source": [
    "%%sh -s {s3_path} {tar_name}\n",
    "s3_path=$1\n",
    "tar_name=$2\n",
    "echo $s3_path\n",
    "aws s3 ls $s3_path\n",
    "mkdir -p temp\n",
    "aws s3 cp $s3_path temp\n",
    "cd temp\n",
    "tar -xzvf $tar_name "
   ]
  },
  {
   "cell_type": "code",
   "execution_count": 19,
   "id": "e84bea25-793c-4778-869d-119e7bcff2bf",
   "metadata": {},
   "outputs": [
    {
     "name": "stdout",
     "output_type": "stream",
     "text": [
      "total 12092\n",
      "drwxrwxr-x 3 ec2-user ec2-user    4096 Nov 16 05:36 .\n",
      "drwxrwxr-x 7 ec2-user ec2-user    4096 Nov 16 06:55 ..\n",
      "drwxrwxr-x 3 ec2-user ec2-user    4096 Nov 16 05:36 code\n",
      "-rw-rw-r-- 1 ec2-user ec2-user 5951313 Nov 16 05:36 model.tar.gz\n",
      "-rw-r--r-- 1 ec2-user ec2-user 6415259 Oct 14 13:36 NeuMF-end.pth\n",
      "total 52\n",
      "drwxrwxr-x 3 ec2-user ec2-user 4096 Nov 16 05:36 .\n",
      "drwxrwxr-x 3 ec2-user ec2-user 4096 Nov 16 05:36 ..\n",
      "-rw-rw-r-- 1 ec2-user ec2-user  601 Nov 13 02:43 common_utils.py\n",
      "-rw-rw-r-- 1 ec2-user ec2-user  587 Nov 13 02:43 config.py\n",
      "-rw-rw-r-- 1 ec2-user ec2-user 3290 Nov 13 02:43 data_utils.py\n",
      "-rw-rw-r-- 1 ec2-user ec2-user 7416 Nov 13 02:43 inference.py\n",
      "-rw-rw-r-- 1 ec2-user ec2-user 7028 Nov 13 02:43 inference_utils.py\n",
      "-rw-rw-r-- 1 ec2-user ec2-user  124 Nov 13 02:43 model_config.json\n",
      "-rw-rw-r-- 1 ec2-user ec2-user 3752 Nov 13 02:43 model.py\n",
      "drwxrwxr-x 2 ec2-user ec2-user 4096 Nov 16 05:36 __pycache__\n",
      "-rw-rw-r-- 1 ec2-user ec2-user  198 Nov 13 02:43 requirements.txt\n"
     ]
    }
   ],
   "source": [
    "! cd temp && ls -al && cd code && ls -al"
   ]
  },
  {
   "cell_type": "code",
   "execution_count": 12,
   "id": "b686e6a6-2771-4807-9d33-e034e645250f",
   "metadata": {},
   "outputs": [
    {
     "name": "stdout",
     "output_type": "stream",
     "text": [
      "/home/ec2-user/SageMaker/Neural-Collaborative-Filtering-On-SageMaker/3_MLOps/1_sm_pipeline/2_serving_pipeline/temp\n"
     ]
    }
   ],
   "source": [
    "! cd temp && echo $PWD && rm -rf ./*"
   ]
  },
  {
   "cell_type": "code",
   "execution_count": null,
   "id": "ccc470fa-3285-48f9-aef0-8d3e2fed6287",
   "metadata": {},
   "outputs": [],
   "source": []
  }
 ],
 "metadata": {
  "kernelspec": {
   "display_name": "conda_python3",
   "language": "python",
   "name": "conda_python3"
  },
  "language_info": {
   "codemirror_mode": {
    "name": "ipython",
    "version": 3
   },
   "file_extension": ".py",
   "mimetype": "text/x-python",
   "name": "python",
   "nbconvert_exporter": "python",
   "pygments_lexer": "ipython3",
   "version": "3.8.12"
  }
 },
 "nbformat": 4,
 "nbformat_minor": 5
}
