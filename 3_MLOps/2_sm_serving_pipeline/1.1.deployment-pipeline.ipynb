{
 "cells": [
  {
   "cell_type": "markdown",
   "metadata": {
    "jp-MarkdownHeadingCollapsed": true,
    "tags": []
   },
   "source": [
    "# [모듈 1.1] 모델 배포 파이프라인 개발 (SageMaker Model Building Pipeline 모든 스텝)\n",
    "\n",
    "이 노트북은 아래와 같은 목차로 진행 됩니다. 전체를 모두 실행시에 완료 시간은 **약 15분** 소요 됩니다.\n",
    "\n",
    "- 1. 모델 배포 파이프라인 개요\n",
    "- 2. 환경 설정\n",
    "- 3. 세이지 메이커 파이프라인 생성\n",
    "    - (1) 모델 승인 상태 변경 람다 스텝    \n",
    "    - (2) 배포할 세이지 메이커 모델 스텝 생성\n",
    "    - (3) 모델 앤드 포인트 배포를 위한 람다 스텝 생성    \n",
    "- 4.모델 빌딩 파이프라인 정의 및 실행\n",
    "- 5.변수 저장\n",
    "    \n",
    "---"
   ]
  },
  {
   "cell_type": "markdown",
   "metadata": {},
   "source": [
    "# 1. 모델 배포 파이프라인 개요\n",
    "\n",
    "- 이 노트북은 다음과 같은 상황에 대한 파이프라인 입니다.\n",
    "    - 모델 레제스트리에 여러개의 모델 패키지 그룹이 있습니다.\n",
    "    - 모델 패키지 그룹에서 특정한 것을 선택하여 가장 최근에 저장된 모델 버전을 선택 합니다.\n",
    "    - 선택된 모델 버전의 \"모델 승인 상태\"를 \"Pending\" 에서 \"Approved\" 로 변경 합니다.\n",
    "    - 이 모델 버전에 대해서 세이지 메이커 모델을 생성합니다.\n",
    "    - 세이지 메이커 모델을 기반으로 앤드포인트를 생성 합니다."
   ]
  },
  {
   "cell_type": "markdown",
   "metadata": {},
   "source": [
    "# 2. 환경 설정\n",
    "\n"
   ]
  },
  {
   "cell_type": "code",
   "execution_count": null,
   "metadata": {},
   "outputs": [],
   "source": [
    "%load_ext autoreload\n",
    "%autoreload 2\n",
    "\n",
    "# src 폴더 경로 설정\n",
    "import sys\n",
    "sys.path.append('./src')"
   ]
  },
  {
   "cell_type": "code",
   "execution_count": null,
   "metadata": {},
   "outputs": [],
   "source": [
    "import boto3\n",
    "import sagemaker\n",
    "import pandas as pd\n",
    "\n",
    "region = boto3.Session().region_name\n",
    "sagemaker_session = sagemaker.session.Session()\n",
    "role = sagemaker.get_execution_role()\n",
    "print(\"role: \", role)\n",
    "\n",
    "sm_client = boto3.client('sagemaker', region_name=region)\n",
    "\n"
   ]
  },
  {
   "cell_type": "code",
   "execution_count": null,
   "metadata": {},
   "outputs": [],
   "source": [
    "%store -r model_package_group_name\n",
    "%store -r bucket\n",
    "%store -r project_prefix"
   ]
  },
  {
   "cell_type": "code",
   "execution_count": null,
   "metadata": {},
   "outputs": [],
   "source": [
    "print(\"model_package_group_name: \\n\", model_package_group_name)\n",
    "print(\"bucket: \\n\", bucket)\n",
    "print(\"project_prefix: \\n\", project_prefix)"
   ]
  },
  {
   "cell_type": "markdown",
   "metadata": {},
   "source": [
    "# 3. 세이지 메이커 파이프라인 생성"
   ]
  },
  {
   "cell_type": "markdown",
   "metadata": {
    "tags": []
   },
   "source": [
    "## 3.1. 모델 빌딩 파이프라인 변수 및 세션 생성\n",
    "\n",
    "파이프라인에 인자로 넘길 변수는 아래 크게 3가지 종류가 있습니다.\n",
    "- 모델 레지스트리에 모델 등록시에 모델 승인 상태 값    \n"
   ]
  },
  {
   "cell_type": "code",
   "execution_count": null,
   "metadata": {},
   "outputs": [],
   "source": [
    "from sagemaker.workflow.parameters import (\n",
    "    ParameterInteger,\n",
    "    ParameterString,\n",
    "    ParameterFloat,\n",
    ")\n",
    "\n",
    "\n",
    "model_approval_status = ParameterString(\n",
    "    name=\"ModelApprovalStatus\", default_value=\"PendingManualApproval\"\n",
    ")\n"
   ]
  },
  {
   "cell_type": "markdown",
   "metadata": {},
   "source": [
    "## 3.2. 파이프라인 스텝 단계 정의"
   ]
  },
  {
   "cell_type": "markdown",
   "metadata": {},
   "source": [
    "### 3.2.1. 모델 승인 상태 변경 람다 스텝\n",
    "- 모델 레지스트리에서 해당 모델 패키지 그룹을 조회하고, 가장 최신 버전의 모델에 대해서 '모델 승인 상태 변경' 을 합니다.\n",
    "\n",
    "\n",
    "#### [에러] \n",
    "아래와 같은 데러가 발생시에 `0.0.Setup-Environment.ipynb` 의 정책 추가 부분을 진행 해주세요.\n",
    "```\n",
    "ClientError: An error occurred (AccessDenied) when calling the CreateRole operation: User: arn:aws:sts::0287032915XX:assumed-role/AmazonSageMaker-ExecutionRole-20210827T141955/SageMaker is not authorized to perform: iam:CreateRole on resource: arn:aws:iam::0287032915XX:role/lambda-deployment-role\n",
    "```"
   ]
  },
  {
   "cell_type": "code",
   "execution_count": null,
   "metadata": {},
   "outputs": [],
   "source": [
    "lambda_role = boto3.client('iam').get_role(RoleName = 'MLOps-LambdaDeploymentRole').get('Role').get('Arn')\n",
    "print(\"lambda_role: \\n\", lambda_role)"
   ]
  },
  {
   "cell_type": "code",
   "execution_count": null,
   "metadata": {},
   "outputs": [],
   "source": [
    "from sagemaker.lambda_helper import Lambda\n",
    "from sagemaker.workflow.lambda_step import (\n",
    "    LambdaStep,\n",
    "    LambdaOutput,\n",
    "    LambdaOutputTypeEnum,\n",
    ")\n",
    "\n",
    "\n",
    "function_name = \"sagemaker-lambda-step-approve-model-deployment\"\n",
    "\n",
    "print(\"function_name: \\n\", function_name)"
   ]
  },
  {
   "cell_type": "code",
   "execution_count": null,
   "metadata": {},
   "outputs": [],
   "source": [
    "# Lambda helper class can be used to create the Lambda function\n",
    "func_approve_model = Lambda(\n",
    "    function_name=function_name,\n",
    "    execution_role_arn=lambda_role,\n",
    "    script=\"src/iam_change_model_approval.py\",\n",
    "    handler=\"iam_change_model_approval.lambda_handler\",\n",
    ")\n",
    "\n",
    "output_param_1 = LambdaOutput(output_name=\"statusCode\", output_type=LambdaOutputTypeEnum.String)\n",
    "output_param_2 = LambdaOutput(output_name=\"body\", output_type=LambdaOutputTypeEnum.String)\n",
    "output_param_3 = LambdaOutput(output_name=\"image_uri_approved\", output_type=LambdaOutputTypeEnum.String)\n",
    "output_param_4 = LambdaOutput(output_name=\"ModelDataUrl_approved\", output_type=LambdaOutputTypeEnum.String)\n",
    "\n",
    "step_approve_lambda = LambdaStep(\n",
    "    name=\"LambdaApproveModelStep\",\n",
    "    lambda_func=func_approve_model,\n",
    "    inputs={\n",
    "        \"model_package_group_name\" : model_package_group_name,\n",
    "        \"ModelApprovalStatus\": \"Approved\",\n",
    "    },\n",
    "    outputs=[output_param_1, output_param_2, output_param_3, output_param_4],\n",
    ")\n"
   ]
  },
  {
   "cell_type": "markdown",
   "metadata": {},
   "source": [
    "## 3.3 배포할 세이지 메이커 모델 스텝 생성\n",
    "- 위의 람다 스텝에서 \"모델 승인 상태\" 를 변경한 모델에 대하여 '모델 레지스트리'에서 저장된 도커 컨테이너 이미지, 모델 아티펙트의 위치를 가져 옵니다.\n",
    "- 이후에 이 두개의 인자를 가지고 세이지 메이커 모델을 생성 합니다."
   ]
  },
  {
   "cell_type": "code",
   "execution_count": null,
   "metadata": {},
   "outputs": [],
   "source": [
    "model_package_group_name"
   ]
  },
  {
   "cell_type": "code",
   "execution_count": null,
   "metadata": {},
   "outputs": [],
   "source": [
    "import os\n",
    "import time\n",
    "from sagemaker.pytorch.model import PyTorchModel\n"
   ]
  },
  {
   "cell_type": "code",
   "execution_count": null,
   "metadata": {},
   "outputs": [],
   "source": [
    "from sagemaker.workflow.pipeline_context import PipelineSession\n",
    "pipeline_session = PipelineSession()    "
   ]
  },
  {
   "cell_type": "code",
   "execution_count": null,
   "metadata": {},
   "outputs": [],
   "source": [
    "%%time \n",
    "\n",
    "from sagemaker.workflow.model_step import ModelStep\n",
    "from sagemaker.model import Model\n",
    "\n",
    "endpoint_name = \"sm-ncf-{}\".format(int(time.time()))\n",
    "\n",
    "model = Model(\n",
    "    image_uri= step_approve_lambda.properties.Outputs[\"image_uri_approved\"],\n",
    "    model_data = step_approve_lambda.properties.Outputs[\"ModelDataUrl_approved\"],    \n",
    "    role=role,\n",
    "    sagemaker_session=pipeline_session,\n",
    ")\n"
   ]
  },
  {
   "cell_type": "code",
   "execution_count": null,
   "metadata": {},
   "outputs": [],
   "source": [
    "instance_type = 'ml.g4dn.xlarge' # $ 0.906 per Hour\n",
    "\n",
    "step_model_create = ModelStep(\n",
    "   name=\"MyModelCreationStep\",\n",
    "   step_args=model.create(instance_type = instance_type)\n",
    ")"
   ]
  },
  {
   "cell_type": "markdown",
   "metadata": {},
   "source": [
    "### 3.3.1. 모델 앤드 포인트 배포를 위한 람다 스텝 생성\n",
    "- 람다 함수는 입력으로 세이지 메이커 모델, 앤드 포인트 컨피그 및 앤드 포인트 이름을 받아서, 앤드포인트를 생성 함.\n"
   ]
  },
  {
   "cell_type": "code",
   "execution_count": null,
   "metadata": {},
   "outputs": [],
   "source": [
    "import time \n",
    "\n",
    "current_time = time.strftime(\"%m-%d-%H-%M-%S\", time.localtime())\n",
    "\n",
    "# model_name = project_prefix + \"-lambda-model\" + current_time\n",
    "endpoint_config_name = \"lambda-deploy-endpoint-config-\" + current_time\n",
    "endpoint_name = \"lambda-deploy-endpoint-\" + current_time\n",
    "\n",
    "# function_name = \"sagemaker-lambda-step-endpoint-deploy-\" + current_time\n",
    "function_name = \"sagemaker-lambda-step-endpoint-deployment\"\n",
    "\n",
    "# print(\"model_name: \\n\", model_name)\n",
    "print(\"endpoint_config_name: \\n\", endpoint_config_name)\n",
    "print(\"endpoint_config_name: \\n\", len(endpoint_config_name))\n",
    "print(\"endpoint_name: \\n\", endpoint_name)\n",
    "print(\"function_name: \\n\", function_name)\n",
    "\n",
    "\n"
   ]
  },
  {
   "cell_type": "code",
   "execution_count": null,
   "metadata": {},
   "outputs": [],
   "source": [
    "# Lambda helper class can be used to create the Lambda function\n",
    "func_deploy_model = Lambda(\n",
    "    function_name=function_name,\n",
    "    execution_role_arn=lambda_role,\n",
    "    script=\"src/iam_create_endpoint.py\",\n",
    "    handler=\"iam_create_endpoint.lambda_handler\",\n",
    "    timeout = 900, # 디폴트는 120초 임. 10분으로 연장\n",
    ")\n",
    "\n",
    "output_param_1 = LambdaOutput(output_name=\"statusCode\", output_type=LambdaOutputTypeEnum.String)\n",
    "output_param_2 = LambdaOutput(output_name=\"body\", output_type=LambdaOutputTypeEnum.String)\n",
    "output_param_3 = LambdaOutput(output_name=\"other_key\", output_type=LambdaOutputTypeEnum.String)\n",
    "\n",
    "step_deploy_lambda = LambdaStep(\n",
    "    name=\"LambdaDeployStep\",\n",
    "    lambda_func=func_deploy_model,\n",
    "    inputs={\n",
    "        \"model_name\": step_model_create.properties.ModelName,\n",
    "        \"endpoint_config_name\": endpoint_config_name,\n",
    "        \"endpoint_name\": endpoint_name,\n",
    "        \"instance_type\": instance_type,        \n",
    "    },\n",
    "    outputs=[output_param_1, output_param_2, output_param_3],\n",
    ")"
   ]
  },
  {
   "cell_type": "markdown",
   "metadata": {},
   "source": [
    "# 4.모델 빌딩 파이프라인 정의 및 실행\n",
    "위에서 정의한 아래의 4개의 스텝으로 파이프라인 정의를 합니다.\n"
   ]
  },
  {
   "cell_type": "code",
   "execution_count": null,
   "metadata": {},
   "outputs": [],
   "source": [
    "from sagemaker.workflow.pipeline import Pipeline\n",
    "\n",
    "\n",
    "\n",
    "pipeline_name = 'ncf-pipeline-nb-serving'\n",
    "pipeline = Pipeline(\n",
    "    name=pipeline_name,\n",
    "    parameters=[\n",
    "        model_approval_status,        \n",
    "    ],\n",
    "\n",
    "#  steps=[step_approve_lambda, step_model_create],    \n",
    "  steps=[step_approve_lambda, step_model_create, step_deploy_lambda],    \n",
    ")\n",
    "\n"
   ]
  },
  {
   "cell_type": "code",
   "execution_count": null,
   "metadata": {
    "tags": []
   },
   "outputs": [],
   "source": [
    "import json\n",
    "\n",
    "definition = json.loads(pipeline.definition())\n",
    "# definition\n",
    "pipeline.upsert(role_arn=role)\n",
    "execution = pipeline.start()"
   ]
  },
  {
   "cell_type": "markdown",
   "metadata": {
    "tags": []
   },
   "source": [
    "### 파이프라인 운영: 파이프라인 대기 및 실행상태 확인\n",
    "\n",
    "워크플로우의 실행상황을 살펴봅니다. "
   ]
  },
  {
   "cell_type": "markdown",
   "metadata": {},
   "source": [
    "실행이 완료될 때까지 기다립니다. "
   ]
  },
  {
   "cell_type": "code",
   "execution_count": null,
   "metadata": {},
   "outputs": [],
   "source": [
    "execution.wait()"
   ]
  },
  {
   "cell_type": "markdown",
   "metadata": {},
   "source": [
    "실행된 단계들을 리스트업합니다. 파이프라인의 단계실행 서비스에 의해 시작되거나 완료된 단계를 보여줍니다."
   ]
  },
  {
   "cell_type": "code",
   "execution_count": null,
   "metadata": {},
   "outputs": [],
   "source": [
    "execution.list_steps()"
   ]
  },
  {
   "cell_type": "markdown",
   "metadata": {},
   "source": [
    "# 5. 변수 저장"
   ]
  },
  {
   "cell_type": "code",
   "execution_count": null,
   "metadata": {},
   "outputs": [],
   "source": [
    "depolyment_endpoint_name = endpoint_name\n",
    "%store depolyment_endpoint_name\n",
    "\n",
    "all_deployment_pipeline_name = pipeline_name\n",
    "%store all_deployment_pipeline_name"
   ]
  },
  {
   "cell_type": "markdown",
   "metadata": {},
   "source": [
    "# 6. SageMaker Studio 에서 파이프라인 보기\n",
    "스튜디오를 사용하기 위해서는 아래 링크를 참조하여, 로그인하시기 바랍니다.\n",
    "- [Amazon SageMaker Studio](https://docs.aws.amazon.com/sagemaker/latest/dg/studio.html)"
   ]
  },
  {
   "cell_type": "markdown",
   "metadata": {},
   "source": [
    "## 6.1. 모델 서빙 파이프라인  보기"
   ]
  },
  {
   "cell_type": "markdown",
   "metadata": {},
   "source": [
    "![sm-serving-pipeline.png](img/sm-serving-pipeline.png)"
   ]
  },
  {
   "cell_type": "markdown",
   "metadata": {},
   "source": [
    "## 6.2. 모델 서빙 파이프라인 실행 내용 보기"
   ]
  },
  {
   "cell_type": "markdown",
   "metadata": {},
   "source": [
    "![sm-pipeline-serving-exe.png](img/sm-pipeline-serving-exe.png)"
   ]
  },
  {
   "cell_type": "markdown",
   "metadata": {},
   "source": [
    "## 6.3. 모델 서빙 파이프라인 단계 별 실행 결과 보기"
   ]
  },
  {
   "cell_type": "markdown",
   "metadata": {},
   "source": [
    "![sm-pipeline-serving-steps.png](img/sm-pipeline-serving-steps.png)"
   ]
  },
  {
   "cell_type": "code",
   "execution_count": null,
   "metadata": {},
   "outputs": [],
   "source": []
  }
 ],
 "metadata": {
  "instance_type": "ml.m5.large",
  "kernelspec": {
   "display_name": "conda_python3",
   "language": "python",
   "name": "conda_python3"
  },
  "language_info": {
   "codemirror_mode": {
    "name": "ipython",
    "version": 3
   },
   "file_extension": ".py",
   "mimetype": "text/x-python",
   "name": "python",
   "nbconvert_exporter": "python",
   "pygments_lexer": "ipython3",
   "version": "3.8.12"
  }
 },
 "nbformat": 4,
 "nbformat_minor": 4
}
