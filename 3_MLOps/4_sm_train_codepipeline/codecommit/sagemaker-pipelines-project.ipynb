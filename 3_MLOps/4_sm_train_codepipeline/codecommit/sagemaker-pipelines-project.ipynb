{
 "cells": [
  {
   "cell_type": "markdown",
   "metadata": {},
   "source": [
    "# SageMaker Pipeline (pipeline.py) 로컬에서 Test 하기"
   ]
  },
  {
   "cell_type": "markdown",
   "metadata": {},
   "source": [
    "# 1. 환경 설정 및 컨피그 파일 로딩"
   ]
  },
  {
   "cell_type": "code",
   "execution_count": null,
   "metadata": {},
   "outputs": [],
   "source": [
    "%load_ext autoreload\n",
    "%autoreload 2"
   ]
  },
  {
   "cell_type": "code",
   "execution_count": null,
   "metadata": {},
   "outputs": [],
   "source": [
    "code_pipeline_train_config_json_path = 'pipelines/ncf/src/code_pipeline_train_config.json'\n",
    "sm_pipeline_train_config_json_path = 'pipelines/ncf/src/sm_pipeline_train_config.json'"
   ]
  },
  {
   "cell_type": "code",
   "execution_count": null,
   "metadata": {},
   "outputs": [],
   "source": [
    "from pipelines.ncf.src.common_utils import load_json\n",
    "\n",
    "code_pipeline_train_dict = load_json(code_pipeline_train_config_json_path)\n",
    "sm_pipeline_train_dict = load_json(sm_pipeline_train_config_json_path)\n",
    "\n",
    "import json\n",
    "print(\"Code Pipeline Series Params: \")\n",
    "print (json.dumps(code_pipeline_train_dict, indent=2))\n",
    "print(\"SageMaker Pipeline Series Params: \")\n",
    "print (json.dumps(sm_pipeline_train_dict, indent=2))\n"
   ]
  },
  {
   "cell_type": "markdown",
   "metadata": {},
   "source": [
    "### 필요한 설정 값 로딩"
   ]
  },
  {
   "cell_type": "code",
   "execution_count": null,
   "metadata": {},
   "outputs": [],
   "source": [
    "import boto3\n",
    "import sagemaker\n",
    "import os\n",
    "\n",
    "region = code_pipeline_train_dict[\"region\"]\n",
    "account_id = code_pipeline_train_dict[\"account_id\"]\n",
    "bucket = code_pipeline_train_dict[\"bucket\"]\n",
    "role = code_pipeline_train_dict[\"code_build_service_arn\"]\n",
    "model_package_group_name = code_pipeline_train_dict[\"model_package_group_name\"]\n",
    "\n",
    "pipeline_name = sm_pipeline_train_dict[\"sm_pipeline_name\"]\n",
    "s3_input_data_uri = sm_pipeline_train_dict[\"s3_input_data_uri\"]\n",
    "\n",
    "\n",
    "project_prefix = sm_pipeline_train_dict[\"project_prefix\"]\n",
    "inference_image_uri = sm_pipeline_train_dict[\"inference_image_uri\"]\n",
    "training_instance_type = sm_pipeline_train_dict[\"training_instance_type\"]\n",
    "training_instance_count = sm_pipeline_train_dict[\"training_instance_count\"]\n",
    "ModelApprovalStatus = sm_pipeline_train_dict[\"ModelApprovalStatus\"]"
   ]
  },
  {
   "cell_type": "markdown",
   "metadata": {},
   "source": [
    "# 2. src 코드 S3 업로딩 \n",
    "- 리패키징 람다 스텝에서 사용.\n",
    "- code_buildspec.yml 파일에서 upload.py 에 해당 함."
   ]
  },
  {
   "cell_type": "markdown",
   "metadata": {},
   "source": [
    "## 2.1. source.tar.gz 로 압축"
   ]
  },
  {
   "cell_type": "code",
   "execution_count": null,
   "metadata": {},
   "outputs": [],
   "source": [
    "code_data_dir = 'pipelines/ncf/src'\n",
    "code_artifact_name = 'source.tar.gz'"
   ]
  },
  {
   "cell_type": "code",
   "execution_count": null,
   "metadata": {},
   "outputs": [],
   "source": [
    "%%sh -s {code_data_dir} {code_artifact_name}\n",
    "code_data_dir=$1\n",
    "code_artifact_name=$2\n",
    "\n",
    "cd $code_data_dir\n",
    "rm -rf $code_artifact_name\n",
    "tar -czvf $code_artifact_name *.*"
   ]
  },
  {
   "cell_type": "markdown",
   "metadata": {},
   "source": [
    "## 2.2. S3 에 업로딩"
   ]
  },
  {
   "cell_type": "code",
   "execution_count": null,
   "metadata": {},
   "outputs": [],
   "source": [
    "source_code_prefix = 'code'\n",
    "# S3에 저장되는 데이터의 기본 폴더 위치\n",
    "s3_code_uri = f\"s3://{bucket}/{source_code_prefix}\""
   ]
  },
  {
   "cell_type": "code",
   "execution_count": null,
   "metadata": {},
   "outputs": [],
   "source": [
    "! aws s3 ls {s3_code_uri} --recursive\n",
    "! aws s3 rm {s3_code_uri} --recursive"
   ]
  },
  {
   "cell_type": "code",
   "execution_count": null,
   "metadata": {},
   "outputs": [],
   "source": [
    "import os\n",
    "local_code = os.path.join(code_data_dir, code_artifact_name)"
   ]
  },
  {
   "cell_type": "code",
   "execution_count": null,
   "metadata": {},
   "outputs": [],
   "source": [
    "_ = sagemaker.s3.S3Uploader.upload(\n",
    "    local_path=local_code, \n",
    "    desired_s3_uri=s3_code_uri,    \n",
    ")\n",
    "print(s3_code_uri)"
   ]
  },
  {
   "cell_type": "markdown",
   "metadata": {},
   "source": [
    "s3_code_uri 에 source.tar.gz 이름 붙임"
   ]
  },
  {
   "cell_type": "code",
   "execution_count": null,
   "metadata": {},
   "outputs": [],
   "source": [
    "s3_code_uri = os.path.join(s3_code_uri, 'source.tar.gz')\n",
    "print(\"s3_code_uri: \\n\", s3_code_uri)"
   ]
  },
  {
   "cell_type": "markdown",
   "metadata": {},
   "source": [
    "## 2.3. code_location.json 파일에 위치 명시하고 저장"
   ]
  },
  {
   "cell_type": "code",
   "execution_count": null,
   "metadata": {},
   "outputs": [],
   "source": [
    "def store_s3_code_uri_json(s3_code_uri):\n",
    "    '''\n",
    "    json_file_name 안에 S3_URL 을 저장\n",
    "    '''\n",
    " \n",
    "    # Data to be written\n",
    "    dictionary = {\n",
    "        \"s3_code_uri\": s3_code_uri,\n",
    "    }\n",
    "    print(\"dictionary: \\n\", dictionary)    \n",
    "\n",
    "    # Serializing json\n",
    "    json_object = json.dumps(dictionary, indent=4)\n",
    "\n",
    "    json_file_name = \"code_location.json\"    \n",
    "    # Writing to sample.json\n",
    "    with open(json_file_name, \"w\") as outfile:\n",
    "        outfile.write(json_object)\n",
    "\n",
    "\n",
    "    return json_file_name\n",
    "\n",
    "store_s3_code_uri_json(s3_code_uri)"
   ]
  },
  {
   "cell_type": "markdown",
   "metadata": {
    "tags": []
   },
   "source": [
    "# 3. Pipeline 테스트"
   ]
  },
  {
   "cell_type": "markdown",
   "metadata": {},
   "source": [
    "## 3.1. 컨피그 파일에서 설정 값 로딩"
   ]
  },
  {
   "cell_type": "code",
   "execution_count": null,
   "metadata": {},
   "outputs": [],
   "source": [
    "print(\"s3_input_data_uri: \\n\", s3_input_data_uri)\n",
    "print(\"project_prefix: \\n\", project_prefix)\n",
    "print(\"region: \\n\", region)\n",
    "print(\"inference_image_uri: \\n\", inference_image_uri)\n",
    "print(\"role: \\n\", role)\n",
    "print(\"bucket: \\n\", bucket)\n",
    "print(\"model_package_group_name: \\n\", model_package_group_name)\n",
    "print(\"ModelApprovalStatus: \\n\", ModelApprovalStatus)\n",
    "print(\"pipeline_name: \\n\", pipeline_name)\n",
    "print(\"training_instance_type: \\n\", training_instance_type)\n",
    "print(\"training_instance_count: \\n\", training_instance_count)\n",
    "\n"
   ]
  },
  {
   "cell_type": "code",
   "execution_count": null,
   "metadata": {
    "tags": []
   },
   "outputs": [],
   "source": [
    "from pipelines.ncf.pipeline import get_pipeline\n",
    "\n",
    "\n",
    "pipeline = get_pipeline(\n",
    "    project_prefix = project_prefix,\n",
    "    region=region,\n",
    "    role= role, # SAGEMAKER_PIPELINE_ROLE_ARN 이 넘어옴.\n",
    "    default_bucket= bucket,\n",
    "    model_package_group_name= model_package_group_name,\n",
    "    pipeline_name= pipeline_name    \n",
    ")"
   ]
  },
  {
   "cell_type": "code",
   "execution_count": null,
   "metadata": {},
   "outputs": [],
   "source": [
    "definition = json.loads(pipeline.definition())\n",
    "# definition"
   ]
  },
  {
   "cell_type": "code",
   "execution_count": null,
   "metadata": {},
   "outputs": [],
   "source": [
    "pipeline.upsert(role_arn=role)\n",
    "#execution = pipeline.start()\n",
    "execution = pipeline.start(\n",
    "    parameters=dict(\n",
    "        InputData= s3_input_data_uri,\n",
    "        training_instance_type = training_instance_type,\n",
    "        training_instance_count = training_instance_count,\n",
    "        ModelApprovalStatus = ModelApprovalStatus,                                \n",
    "        inference_image_uri = inference_image_uri,                        \n",
    "    )\n",
    ")"
   ]
  },
  {
   "cell_type": "markdown",
   "metadata": {},
   "source": [
    "We'll start the pipeline, accepting all the default parameters.\n",
    "\n",
    "Values can also be passed into these pipeline parameters on starting of the pipeline, and will be covered later. "
   ]
  },
  {
   "cell_type": "code",
   "execution_count": null,
   "metadata": {},
   "outputs": [],
   "source": [
    "execution.wait()\n",
    "execution.describe()"
   ]
  },
  {
   "cell_type": "code",
   "execution_count": null,
   "metadata": {},
   "outputs": [],
   "source": [
    "execution.list_steps()"
   ]
  },
  {
   "cell_type": "code",
   "execution_count": null,
   "metadata": {},
   "outputs": [],
   "source": []
  }
 ],
 "metadata": {
  "instance_type": "ml.t3.medium",
  "kernelspec": {
   "display_name": "conda_python3",
   "language": "python",
   "name": "conda_python3"
  },
  "language_info": {
   "codemirror_mode": {
    "name": "ipython",
    "version": 3
   },
   "file_extension": ".py",
   "mimetype": "text/x-python",
   "name": "python",
   "nbconvert_exporter": "python",
   "pygments_lexer": "ipython3",
   "version": "3.8.12"
  }
 },
 "nbformat": 4,
 "nbformat_minor": 4
}
