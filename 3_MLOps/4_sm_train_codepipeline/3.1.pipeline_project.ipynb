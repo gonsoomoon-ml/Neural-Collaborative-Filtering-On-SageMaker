{
 "cells": [
  {
   "cell_type": "markdown",
   "id": "9c8589d4",
   "metadata": {
    "tags": []
   },
   "source": [
    "# [모듈 3.1] Code Pipeline 생성 하기\n",
    "## 참고 자료\n",
    "- https://docs.aws.amazon.com/codepipeline/latest/userguide/pipelines-create.html\n"
   ]
  },
  {
   "cell_type": "markdown",
   "id": "90668439",
   "metadata": {},
   "source": [
    "# 1. 환경 설정 \n"
   ]
  },
  {
   "cell_type": "code",
   "execution_count": null,
   "id": "885416ac-b410-4b24-a835-cef9f348ae76",
   "metadata": {},
   "outputs": [],
   "source": [
    "%load_ext autoreload\n",
    "%autoreload 2\n",
    "\n",
    "import sys\n",
    "sys.path.append('./src')"
   ]
  },
  {
   "cell_type": "code",
   "execution_count": null,
   "id": "3ab6ef91-0bca-4744-81e3-3f4c39eb3468",
   "metadata": {},
   "outputs": [],
   "source": [
    "%store -r code_pipeline_train_config_json_path\n",
    "%store -r sm_pipeline_train_config_json_path\n",
    "\n",
    "from common_utils import load_json\n",
    "\n",
    "code_pipeline_train_dict = load_json(code_pipeline_train_config_json_path)\n",
    "sm_pipeline_train_dict = load_json(sm_pipeline_train_config_json_path)\n",
    "\n",
    "import json\n",
    "print(\"Code Pipeline Series Params: \")\n",
    "print (json.dumps(code_pipeline_train_dict, indent=2))\n",
    "print(\"SageMaker Pipeline Series Params: \")\n",
    "print (json.dumps(sm_pipeline_train_dict, indent=2))\n",
    "\n"
   ]
  },
  {
   "cell_type": "markdown",
   "id": "5fe6f02a",
   "metadata": {},
   "source": [
    "# 2. 파라미터 설정\n"
   ]
  },
  {
   "cell_type": "code",
   "execution_count": null,
   "id": "6dcfbbda",
   "metadata": {},
   "outputs": [],
   "source": [
    "region = code_pipeline_train_dict[\"region\"]\n",
    "repository_name = code_pipeline_train_dict[\"train_code_repo_name\"]\n",
    "code_build_project_name = code_pipeline_train_dict[\"code_build_project_name\"]\n",
    "code_pipeline_name = code_pipeline_train_dict[\"code_pipeline_name\"]\n",
    "branch_name = code_pipeline_train_dict[\"branch_name\"]\n",
    "pipeline_role_name = code_pipeline_train_dict[\"code_pipeline_role_arn\"]\n",
    "bucket = code_pipeline_train_dict[\"bucket\"]\n"
   ]
  },
  {
   "cell_type": "markdown",
   "id": "a036b0a0",
   "metadata": {},
   "source": [
    "# 3. 파이프라인 JSON 정의"
   ]
  },
  {
   "cell_type": "code",
   "execution_count": null,
   "id": "66423fd2",
   "metadata": {},
   "outputs": [],
   "source": [
    "pipeline_dic = {\n",
    "    \"pipeline\": {\n",
    "        \"name\": code_pipeline_name,\n",
    "        \"roleArn\": pipeline_role_name,\n",
    "        \"artifactStore\": {\n",
    "            \"type\": \"S3\",\n",
    "            \"location\": bucket\n",
    "        },\n",
    "        \"stages\": [\n",
    "            {\n",
    "                \"name\": \"Source\",\n",
    "                \"actions\": [\n",
    "                    {\n",
    "                        \"name\": \"Source\",\n",
    "                        \"actionTypeId\": {\n",
    "                            \"category\": \"Source\",\n",
    "                            \"owner\": \"AWS\",\n",
    "                            \"provider\": \"CodeCommit\",\n",
    "                            \"version\": \"1\"\n",
    "                        },\n",
    "                        \"runOrder\": 1,\n",
    "                        \"configuration\": {\n",
    "                            \"BranchName\": branch_name,\n",
    "                            \"OutputArtifactFormat\": \"CODE_ZIP\",\n",
    "                            \"PollForSourceChanges\": \"false\",\n",
    "                            \"RepositoryName\": repository_name\n",
    "                        },\n",
    "                        \"outputArtifacts\": [\n",
    "                            {\n",
    "                                \"name\": \"SourceArtifact\"\n",
    "                            }\n",
    "                        ],\n",
    "                        \"inputArtifacts\": [],\n",
    "                        \"region\": region,\n",
    "                        \"namespace\": \"SourceVariables\"\n",
    "                    }\n",
    "                ]\n",
    "            },\n",
    "            {\n",
    "                \"name\": \"Build\",\n",
    "                \"actions\": [\n",
    "                    {\n",
    "                        \"name\": \"BuildAndExecuteSageMakerPipeline\",\n",
    "                        \"actionTypeId\": {\n",
    "                            \"category\": \"Build\",\n",
    "                            \"owner\": \"AWS\",\n",
    "                            \"provider\": \"CodeBuild\",\n",
    "                            \"version\": \"1\"\n",
    "                        },\n",
    "                        \"runOrder\": 1,\n",
    "                        \"configuration\": {\n",
    "                            \"ProjectName\": code_build_project_name\n",
    "                        },\n",
    "                        \"outputArtifacts\": [\n",
    "                            {\n",
    "                                \"name\": \"BuildArtifact\"\n",
    "                            }\n",
    "                        ],\n",
    "                        \"inputArtifacts\": [\n",
    "                            {\n",
    "                                \"name\": \"SourceArtifact\"\n",
    "                            }\n",
    "                        ],\n",
    "                        \"region\": region,\n",
    "                        \"namespace\": \"BuildVariables\"\n",
    "                    }\n",
    "                ]\n",
    "            }\n",
    "        ],\n",
    "        \"version\": 1\n",
    "    },\n",
    "}"
   ]
  },
  {
   "cell_type": "markdown",
   "id": "9797906f",
   "metadata": {},
   "source": [
    "## 3.1. Dic 포맷을 JSON 으로 변경"
   ]
  },
  {
   "cell_type": "code",
   "execution_count": null,
   "id": "64b8bd1d",
   "metadata": {},
   "outputs": [],
   "source": [
    "import json\n",
    "\n",
    "pipeline_json = json.dumps(pipeline_dic)\n",
    "json.loads(pipeline_json)"
   ]
  },
  {
   "cell_type": "markdown",
   "id": "1c4cb0c6",
   "metadata": {},
   "source": [
    "## 3.2. JSON 파일 저장"
   ]
  },
  {
   "cell_type": "code",
   "execution_count": null,
   "id": "4a15e5aa",
   "metadata": {},
   "outputs": [],
   "source": [
    "json_file_path = 'src/hello_pipeline.json'\n",
    "with open(json_file_path, \"w\") as outfile:\n",
    "    outfile.write(pipeline_json)"
   ]
  },
  {
   "cell_type": "code",
   "execution_count": null,
   "id": "4257fff8",
   "metadata": {},
   "outputs": [],
   "source": [
    "with open(json_file_path) as json_file:\n",
    "    json_data = json.load(json_file)\n",
    "    \n",
    "json_data    "
   ]
  },
  {
   "cell_type": "markdown",
   "id": "4f2615ca",
   "metadata": {},
   "source": [
    "# 4. 파이프라인 실행"
   ]
  },
  {
   "cell_type": "code",
   "execution_count": null,
   "id": "eccfae97",
   "metadata": {},
   "outputs": [],
   "source": [
    "%%sh -s {json_file_path}\n",
    "json_file_path=$1\n",
    "echo $json_file_path\n",
    "echo $PWD\n",
    "aws codepipeline create-pipeline --cli-input-json file://$json_file_path\n",
    "# aws codepipeline create-pipeline --cli-input-json file://src/hello_pipeline.json"
   ]
  },
  {
   "cell_type": "markdown",
   "id": "6d280870",
   "metadata": {},
   "source": [
    "# 5. 코드 파이프라인 실행 상태 확인"
   ]
  },
  {
   "cell_type": "code",
   "execution_count": null,
   "id": "7fa115c5",
   "metadata": {},
   "outputs": [],
   "source": [
    "%%sh -s {code_pipeline_name}\n",
    "code_pipeline_name=$1\n",
    "echo $code_pipeline_name\n",
    "aws codepipeline get-pipeline-state --name $code_pipeline_name"
   ]
  },
  {
   "cell_type": "markdown",
   "id": "df535f2f-f8da-4359-95b4-c51180ae595b",
   "metadata": {},
   "source": [
    "# 6. Code Pipeline 생성 확인"
   ]
  },
  {
   "cell_type": "markdown",
   "id": "166eb3cb-1b65-4638-bbbe-cb26d764a653",
   "metadata": {},
   "source": [
    "## 6.1. Code Pipeline 실행 확인"
   ]
  },
  {
   "cell_type": "markdown",
   "id": "f020607d-424c-4f0b-9ad8-c80bf1d39dd5",
   "metadata": {},
   "source": [
    "![ncf_code_pipeline.png](img/ncf_code_pipeline.png)"
   ]
  },
  {
   "cell_type": "markdown",
   "id": "fe159259-deb7-420a-9a09-a6864564dd5a",
   "metadata": {},
   "source": [
    "## 6.2. Code Pipeline Stage 확인"
   ]
  },
  {
   "cell_type": "markdown",
   "id": "cc4a6cd4-84e4-46ac-9f40-1cc5a0806d76",
   "metadata": {},
   "source": [
    "![ncf_code_pipeline.png](img/ncf_code_stages_pipeline.png)"
   ]
  },
  {
   "cell_type": "markdown",
   "id": "f87ae4f7-d5d3-4606-be2c-9217990a5792",
   "metadata": {},
   "source": [
    "## 6.3. Code Build 실행 로그 확인"
   ]
  },
  {
   "cell_type": "markdown",
   "id": "048edabf-1e0f-440d-bd2d-e549e6917289",
   "metadata": {},
   "source": [
    "![ncf_build_detail.png](img/ncf_build_detail.png)"
   ]
  },
  {
   "cell_type": "markdown",
   "id": "4029695d-9d22-4d3a-a3b4-2cf3cdb8f065",
   "metadata": {},
   "source": [
    "## 6.4. SageMaker Pipleline 생성 확인"
   ]
  },
  {
   "cell_type": "markdown",
   "id": "3bc96826-fbbd-4ee7-91cc-1c64cf495cd2",
   "metadata": {},
   "source": [
    "![ncf_train_sm_pipeline.png](img/ncf_train_sm_pipeline.png)"
   ]
  },
  {
   "cell_type": "markdown",
   "id": "90965635-4e16-4836-957d-0109dcabd2cd",
   "metadata": {},
   "source": [
    "## 6.5. SageMaker NCF Pipeline Execution 확인"
   ]
  },
  {
   "cell_type": "markdown",
   "id": "ce5c1834-0ef7-43ac-86f5-560f4e89d52b",
   "metadata": {},
   "source": [
    "![ncf_train_sm_pipe_exec.png](img/ncf_train_sm_pipe_exec.png)"
   ]
  },
  {
   "cell_type": "markdown",
   "id": "a15bfe15-1328-42b5-b5d2-e6ab2c2a1cef",
   "metadata": {},
   "source": [
    "## 6.6. SageMaker Pipeline 실행 스텝 학인"
   ]
  },
  {
   "cell_type": "markdown",
   "id": "2f0b0006-bf00-4af0-94ef-f00ed4f1ef87",
   "metadata": {},
   "source": [
    "![ncf_train_pipeline_steps.png](img/ncf_train_pipeline_steps.png)"
   ]
  },
  {
   "cell_type": "markdown",
   "id": "6d18d996-a5ac-46f0-9f8c-77ecd7447cd7",
   "metadata": {},
   "source": [
    "## 6.7. Model Registry"
   ]
  },
  {
   "cell_type": "markdown",
   "id": "468d8c8f-8fd7-422e-9ac0-813bdcc2ac42",
   "metadata": {},
   "source": [
    "![ncf_model_registry.png](img/ncf_model_registry.png)"
   ]
  },
  {
   "cell_type": "markdown",
   "id": "5fdeaaa6-827d-4d4e-b4d3-5ee06f832f84",
   "metadata": {},
   "source": [
    "## 6.8. Model Version in the Model Group"
   ]
  },
  {
   "cell_type": "markdown",
   "id": "8021c1a6-1f59-4584-8bbb-16fd6b0ed5bd",
   "metadata": {},
   "source": [
    "![ncf_model_version.png](img/ncf_model_version.png)"
   ]
  },
  {
   "cell_type": "markdown",
   "id": "0577befe-f168-4e51-adcf-7b336bada596",
   "metadata": {},
   "source": [
    "## 6.9. 등록된 추론 도커 컨테이너 및 모델 아티펙트"
   ]
  },
  {
   "cell_type": "markdown",
   "id": "6cc66e71-040c-40cd-aed9-0c69a900a0eb",
   "metadata": {},
   "source": [
    "![model_version_setting_front.png](img/model_version_setting_front.png)\n",
    "![model_version_container.png](img/model_version_container.png)"
   ]
  },
  {
   "cell_type": "code",
   "execution_count": null,
   "id": "a4f93a4b-dd1e-4082-8f85-34fb2da509ea",
   "metadata": {},
   "outputs": [],
   "source": []
  }
 ],
 "metadata": {
  "kernelspec": {
   "display_name": "conda_python3",
   "language": "python",
   "name": "conda_python3"
  },
  "language_info": {
   "codemirror_mode": {
    "name": "ipython",
    "version": 3
   },
   "file_extension": ".py",
   "mimetype": "text/x-python",
   "name": "python",
   "nbconvert_exporter": "python",
   "pygments_lexer": "ipython3",
   "version": "3.8.12"
  }
 },
 "nbformat": 4,
 "nbformat_minor": 5
}
