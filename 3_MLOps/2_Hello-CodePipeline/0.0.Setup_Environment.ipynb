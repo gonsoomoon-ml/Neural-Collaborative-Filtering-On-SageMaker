{
 "cells": [
  {
   "cell_type": "markdown",
   "id": "f56d1cfd",
   "metadata": {},
   "source": [
    "# 셋업 가이드"
   ]
  },
  {
   "cell_type": "markdown",
   "id": "170a309f",
   "metadata": {
    "tags": []
   },
   "source": [
    "\n",
    "# 1. SageMaker Notebook Role\n",
    "- 이 노트북을 실행하는 role 은 아래와 같은 역할에 대한 권한이 필요 합니다.\n",
    "    - IAMFullAccess\n",
    "    - AmazonS3FullAccess\n",
    "    - AWSCodeBuildAdminAccess\n",
    "    - AWSCodeCommitFullAccess\n",
    "    - AWSCodePipelineFullAccess\n",
    "    - AmazonSageMakerFullAccess\n",
    "\n",
    "\n",
    "# 2. codebuild 실행 Role 생성 필요\n",
    "- codebuild 를 실행하는 역할이 필요 합니다. 이 역할은 아래와 같은 권한이 필요 합니다.\n",
    "- codebuild_service_role:\n",
    "    - CodebuildFullAccess\n",
    "    - AWSCodeCommitFullAccess\n",
    "    - CloudWatchFullAccess    \n",
    "    - AmazonS3FullAccess    \n",
    "    - AmazonSageMakerFullAccess\n",
    "    - AWSLambda_FullAccess # 세이지 메이커 파이프라인에서 람다 스템 실행\n",
    "- 필요한 신뢰 정책    \n",
    "    - Trusted Entity\n",
    "        - \"codebuild.amazonaws.com\",\n",
    "        - \"sagemaker.amazonaws.com\"\n",
    "        ```json\n",
    "        {\n",
    "    \"Version\": \"2012-10-17\",\n",
    "    \"Statement\": [\n",
    "        {\n",
    "            \"Effect\": \"Allow\",\n",
    "            \"Principal\": {\n",
    "                \"Service\": [\n",
    "                    \"codebuild.amazonaws.com\",\n",
    "                    \"sagemaker.amazonaws.com\",\n",
    "                    \"lambda.amazonaws.com\"                    \n",
    "                ]\n",
    "            },\n",
    "            \"Action\": \"sts:AssumeRole\"\n",
    "        }\n",
    "        ```        \n",
    "    ]\n",
    "}\n",
    "    \n",
    "    \n",
    "\n",
    "# 3. code pipeline 실행 Role 생성 필요\n",
    "- codepipeline_service_role:\n",
    "    - CodebuildFullAccess\n",
    "    - CodePipelineFullAccess\n",
    "    - CodeCommitFullAccess\n",
    "    - CodeDeployFullAccess\n",
    "    - AmazonS3FullAccess\n",
    "- 필요한 신뢰 정책    \n",
    "    - Trusted Entity\n",
    "        -  \"codebuild.amazonaws.com\",\n",
    "        -  \"codepipeline.amazonaws.com\"\n"
   ]
  },
  {
   "cell_type": "code",
   "execution_count": null,
   "id": "040f86a6",
   "metadata": {},
   "outputs": [],
   "source": []
  }
 ],
 "metadata": {
  "kernelspec": {
   "display_name": "conda_python3",
   "language": "python",
   "name": "conda_python3"
  },
  "language_info": {
   "codemirror_mode": {
    "name": "ipython",
    "version": 3
   },
   "file_extension": ".py",
   "mimetype": "text/x-python",
   "name": "python",
   "nbconvert_exporter": "python",
   "pygments_lexer": "ipython3",
   "version": "3.8.12"
  }
 },
 "nbformat": 4,
 "nbformat_minor": 5
}
