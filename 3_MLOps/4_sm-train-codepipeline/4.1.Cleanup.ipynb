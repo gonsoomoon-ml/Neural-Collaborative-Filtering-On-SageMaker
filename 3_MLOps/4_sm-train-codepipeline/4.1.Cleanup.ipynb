{
 "cells": [
  {
   "cell_type": "markdown",
   "id": "bb8426f7",
   "metadata": {
    "tags": []
   },
   "source": [
    "# 4.1. 리소스 클린업"
   ]
  },
  {
   "cell_type": "markdown",
   "id": "590b4e52",
   "metadata": {},
   "source": [
    "# 1. 환경 설정"
   ]
  },
  {
   "cell_type": "code",
   "execution_count": 114,
   "id": "377e5680-7796-46bd-b8fb-76d1bbf3e6d1",
   "metadata": {},
   "outputs": [
    {
     "name": "stdout",
     "output_type": "stream",
     "text": [
      "The autoreload extension is already loaded. To reload it, use:\n",
      "  %reload_ext autoreload\n"
     ]
    }
   ],
   "source": [
    "%load_ext autoreload\n",
    "%autoreload 2\n",
    "\n",
    "import sys\n",
    "sys.path.append('./src')"
   ]
  },
  {
   "cell_type": "code",
   "execution_count": 115,
   "id": "4f80db78-6a67-4bff-a3b0-40db58ec7c58",
   "metadata": {},
   "outputs": [
    {
     "name": "stdout",
     "output_type": "stream",
     "text": [
      "Code Pipeline Series Params: \n",
      "{\n",
      "  \"code_pipeline_role_arn\": \"arn:aws:iam::057716757052:role/code-pipeline-gsmoon\",\n",
      "  \"code_build_service_arn\": \"arn:aws:iam::057716757052:role/codebuild-gsmoon\",\n",
      "  \"project_prefix\": \"CodePipeline-Train-NCF\",\n",
      "  \"region\": \"us-east-1\",\n",
      "  \"account_id\": \"057716757052\",\n",
      "  \"train_code_repo_name\": \"ncf-train\",\n",
      "  \"code_build_project_name\": \"ncf-training-sm-pipeline\",\n",
      "  \"bucket\": \"sagemaker-us-east-1-057716757052\",\n",
      "  \"code_pipeline_name\": \"ncf-training-code-pipeline\",\n",
      "  \"model_package_group_name\": \"NCF-Model-CodePipeline\",\n",
      "  \"branch_name\": \"master\"\n",
      "}\n",
      "SageMaker Pipeline Series Params: \n",
      "{\n",
      "  \"project_prefix\": \"SageMaker-Train-NCF\",\n",
      "  \"s3_input_data_uri\": \"s3://sagemaker-us-east-1-057716757052/NCFModel/data\",\n",
      "  \"sm_pipeline_name\": \"ncf-sm-pipeline\",\n",
      "  \"training_instance_type\": \"ml.p3.2xlarge\",\n",
      "  \"training_instance_count\": 1,\n",
      "  \"ModelApprovalStatus\": \"PendingManualApproval\",\n",
      "  \"inference_image_uri\": \"763104351884.dkr.ecr.us-east-1.amazonaws.com/pytorch-inference:1.8.1-gpu-py3\",\n",
      "  \"bucket\": \"sagemaker-us-east-1-057716757052\"\n",
      "}\n"
     ]
    }
   ],
   "source": [
    "%store -r code_pipeline_train_config_json_path\n",
    "%store -r sm_pipeline_train_config_json_path\n",
    "\n",
    "from common_utils import load_json\n",
    "\n",
    "code_pipeline_train_dict = load_json(code_pipeline_train_config_json_path)\n",
    "sm_pipeline_train_dict = load_json(sm_pipeline_train_config_json_path)\n",
    "\n",
    "import json\n",
    "print(\"Code Pipeline Series Params: \")\n",
    "print (json.dumps(code_pipeline_train_dict, indent=2))\n",
    "print(\"SageMaker Pipeline Series Params: \")\n",
    "print (json.dumps(sm_pipeline_train_dict, indent=2))\n",
    "\n"
   ]
  },
  {
   "cell_type": "code",
   "execution_count": 116,
   "id": "c2930d13",
   "metadata": {},
   "outputs": [],
   "source": [
    "# region = code_pipeline_train_dict[\"region\"]\n",
    "repository_name = code_pipeline_train_dict[\"train_code_repo_name\"]\n",
    "code_build_project_name = code_pipeline_train_dict[\"code_build_project_name\"]\n",
    "code_pipeline_name = code_pipeline_train_dict[\"code_pipeline_name\"]\n",
    "model_package_group_name = code_pipeline_train_dict[\"model_package_group_name\"]\n",
    "# branch_name = code_pipeline_train_dict[\"branch_name\"]\n",
    "# pipeline_role_name = code_pipeline_train_dict[\"code_pipeline_role_arn\"]\n",
    "bucket = code_pipeline_train_dict[\"bucket\"]\n",
    "sm_pipeline_name = sm_pipeline_train_dict[\"sm_pipeline_name\"]\n",
    "\n"
   ]
  },
  {
   "cell_type": "markdown",
   "id": "5050e16f",
   "metadata": {},
   "source": [
    "# 2. 코드 리파지토리 삭제"
   ]
  },
  {
   "cell_type": "code",
   "execution_count": 117,
   "id": "76493100",
   "metadata": {},
   "outputs": [
    {
     "name": "stdout",
     "output_type": "stream",
     "text": [
      "{\n",
      "    \"repositoryId\": \"61274fd1-a73c-456f-a8df-6e3d5dc0d2db\"\n",
      "}\n"
     ]
    }
   ],
   "source": [
    "%%sh -s {repository_name}\n",
    "repository_name=$1\n",
    "aws codecommit delete-repository --repository-name $repository_name \n"
   ]
  },
  {
   "cell_type": "markdown",
   "id": "fd8b4f00",
   "metadata": {},
   "source": [
    "# 3. 코드 빌드 프로젝트 삭제"
   ]
  },
  {
   "cell_type": "code",
   "execution_count": 118,
   "id": "cb31b8d6",
   "metadata": {},
   "outputs": [],
   "source": [
    "%%sh -s {code_build_project_name}\n",
    "code_build_project_name=$1\n",
    "aws codebuild delete-project --name $code_build_project_name"
   ]
  },
  {
   "cell_type": "markdown",
   "id": "39df0fc7",
   "metadata": {},
   "source": [
    "# 4. 코드 파이프라인 삭제"
   ]
  },
  {
   "cell_type": "code",
   "execution_count": 119,
   "id": "54413171",
   "metadata": {},
   "outputs": [],
   "source": [
    "%%sh -s {code_pipeline_name}\n",
    "pipeline_name=$1\n",
    "aws codepipeline delete-pipeline --name $pipeline_name"
   ]
  },
  {
   "cell_type": "code",
   "execution_count": null,
   "id": "4c5ef8be-a856-4721-a718-83c4e26cf43d",
   "metadata": {},
   "outputs": [],
   "source": []
  },
  {
   "cell_type": "code",
   "execution_count": null,
   "id": "73f87026-f772-464a-807d-72c4fa662ebc",
   "metadata": {},
   "outputs": [],
   "source": []
  },
  {
   "cell_type": "markdown",
   "id": "bb961fd9-bbeb-4d66-8363-23ddaeb7c254",
   "metadata": {},
   "source": [
    "# 5. SageMaker Model Building Pipeline 삭제\n",
    "\n",
    "\n"
   ]
  },
  {
   "cell_type": "markdown",
   "id": "a10d059f-1a9c-46ce-a664-2970738adb11",
   "metadata": {},
   "source": [
    "## 5.1 파이프라인 삭제"
   ]
  },
  {
   "cell_type": "markdown",
   "id": "7bb5748a-cad4-4114-9d43-22d707f4b6d4",
   "metadata": {},
   "source": [
    "- 파이프라인 이름 검색\n",
    "\n",
    "sm_pipeline_name 의 변수 이름으로 시작되는 파이프라인 정보 검색"
   ]
  },
  {
   "cell_type": "code",
   "execution_count": null,
   "id": "91141af4-be85-48f1-8ca2-140a712d995b",
   "metadata": {},
   "outputs": [],
   "source": [
    "# import boto3\n",
    "\n",
    "# client = boto3.client('sagemaker')\n",
    "\n",
    "# response = client.list_pipelines(\n",
    "#     PipelineNamePrefix= sm_pipeline_name,\n",
    "#     SortBy='Name',\n",
    "#     SortOrder='Descending',\n",
    "#     MaxResults=1\n",
    "# )\n",
    "\n",
    "# response"
   ]
  },
  {
   "cell_type": "code",
   "execution_count": null,
   "id": "afe1212b-e609-4bd4-95ff-6d640bf35388",
   "metadata": {},
   "outputs": [],
   "source": [
    "# response = client.delete_pipeline(\n",
    "#     PipelineName=sm_pipeline_name,\n",
    "# )\n",
    "# response"
   ]
  },
  {
   "cell_type": "markdown",
   "id": "d5c233ea-fe60-4c7d-a967-d5d296159e16",
   "metadata": {},
   "source": [
    "## 5.2. 파이프라인 관련 S3 내 파일 삭제"
   ]
  },
  {
   "cell_type": "code",
   "execution_count": null,
   "id": "eda3f829-968e-42a4-b297-e606f74d8892",
   "metadata": {},
   "outputs": [],
   "source": [
    "# # ! aws s3 ls {bucket}/{sm_pipeline_name} --recursive\n",
    "# ! aws s3 rm s3://{bucket}/{sm_pipeline_name} --recursive"
   ]
  },
  {
   "cell_type": "code",
   "execution_count": null,
   "id": "ef0edcdc-0a9c-4690-b2c3-9cf4c647be62",
   "metadata": {},
   "outputs": [],
   "source": []
  }
 ],
 "metadata": {
  "kernelspec": {
   "display_name": "conda_python3",
   "language": "python",
   "name": "conda_python3"
  },
  "language_info": {
   "codemirror_mode": {
    "name": "ipython",
    "version": 3
   },
   "file_extension": ".py",
   "mimetype": "text/x-python",
   "name": "python",
   "nbconvert_exporter": "python",
   "pygments_lexer": "ipython3",
   "version": "3.8.12"
  }
 },
 "nbformat": 4,
 "nbformat_minor": 5
}
