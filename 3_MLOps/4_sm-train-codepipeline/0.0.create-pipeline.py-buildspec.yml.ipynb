{
 "cells": [
  {
   "cell_type": "markdown",
   "id": "760b72d1",
   "metadata": {
    "tags": []
   },
   "source": [
    "# [모듈 0.0] SageMaker 훈련 파이프라인 생성 가이드\n",
    "\n"
   ]
  },
  {
   "cell_type": "markdown",
   "id": "bd1e7761-426c-4255-8318-f01119442a2d",
   "metadata": {},
   "source": [
    "# A. 중요 파일 구조"
   ]
  },
  {
   "cell_type": "markdown",
   "id": "dd21e7b4-6f15-4ccf-a6ae-9762de6b15e1",
   "metadata": {},
   "source": [
    "\n",
    "```\n",
    "0_Setup_Environment\n",
    "1_Train\n",
    "2_Inference\n",
    "3_MLOps\n",
    " 1_sm_training_pipeline\n",
    "  |-src\n",
    " 2_sm_serving_pipeline\n",
    " 3_hello-codepipeline\n",
    " 4_sm-train-codepipeline\n",
    " |-0.0.create-pipeline.py-buildspec.yml.ipynb\n",
    " |-1.0.Create_Config.ipynb\n",
    " |-1.1.create_codecommit.ipynb\n",
    " |-2.1.build_project.ipynb\n",
    " |-3.1.pipeline_project.ipynb\n",
    " |-4.1.Cleanup.ipynb\n",
    " |-src\n",
    " | |-sm_pipeline_train_config.json\n",
    " | |-code_pipeline_train_config.json\n",
    " |-codecommit\n",
    " | |-codebuild-buildspec.yml\n",
    " | |-pipelines\n",
    " | | |-upload_code.py\n",
    " | | |-_utils.py\n",
    " | | |-__version__.py\n",
    " | | |-run_pipeline.py\n",
    " | | |-get_pipeline_definition.py\n",
    " | | |-ncf\n",
    " | | | |-src\n",
    " | | | | |-sm_pipeline_train_config.json\n",
    " | | | | |-code_pipeline_train_config.json\n",
    " | | | |-pipeline.py\n",
    " | | | |-code_location.json\n",
    " | |-sagemaker-pipelines-project.ipynb\n",
    " | |-code_location.json\n",
    " | |-setup.py\n",
    " | |-setup.cfg\n",
    "5_sm-serving-codepipeline\n",
    "```"
   ]
  },
  {
   "cell_type": "markdown",
   "id": "bba2482e-a322-4015-b500-2ed3c8bb7aac",
   "metadata": {},
   "source": [
    "# B 모델 훈련 파이프라인 흐름\n",
    "![sm_pipeline_execution_flow.png](img/sm_pipeline_execution_flow.png)"
   ]
  },
  {
   "cell_type": "markdown",
   "id": "3212280f-fdd2-4edb-9b82-1428be196ef9",
   "metadata": {
    "tags": []
   },
   "source": [
    "# C. 작업 순서\n",
    "1.  훈련 스크립트 복사. 1_sm_training_pipeline 에서 사용한 코드 파일을 CodeCommit repo 에 저장하기 위해 임시로 복사를 하는 과정 임\n",
    "    - 원본: 1_sm_training_pipeline/src \n",
    "    - 타겟: codecommit/pipelines/ncf/src\n",
    "2.  setup.py 수정\n",
    "    - codecommit/pipelines/ncf/src 폴더가 Python Package 생성시 포홤되게 수정.\n",
    "3.  1.0.Create_Config.ipynb\n",
    "    - src 폴더에 아래 두개의 설정 파일 저장 하고, \n",
    "        -sm_pipeline_train_config.json\n",
    "        -code_pipeline_train_config.json\n",
    "        - 아래의 파일에서 사용 함.\n",
    "        - 1.1.create_codecommit.ipynb\n",
    "        - 2.1.build_project.ipynb\n",
    "        - 3.1.pipeline_project.ipynb\n",
    "        - 4.1.Cleanup.ipynb\n",
    "    - 위의 두개의 설정 파일을 codecommit/pipelines/ncf/src 에 복사\n",
    "        - Code Pipeline 에 의해서 SageMaker Pipeline 실행시 사용 함.\n",
    "4.  codecommit/pipelines/ncf/pipeline.py\n",
    "    - SageMaker Pipeline 의 구현 코드 \n",
    "5.  codecommit/sagemaker-pipelines-project.ipynb\n",
    "    - 위의 4의  codecommit/pipelines/ncf/pipeline.py 의 테스트를 위한 노트북\n",
    "    - 원래 템플랫의 origin-sagemaker-pipelines-project.ipynb 파일을 수정한 버전\n",
    "6.  codecommit/pipelines/run_pipeline.py\n",
    "    - pipeline = get_pipeline() 을 통해서 pipeline 오브젝트를 받아 실제로 pipeline.start() 실행 함.\n",
    "7.  1.1.create_codecommit.ipynb\n",
    "    - codecommit repo 를 생성하고, 소스 코드를 저장함.\n",
    "8.  2.1.build_project.ipynb\n",
    "    - code build project 을 생성. 환경 변수를 정의 함.\n",
    "9.  codecommit/codebuild-buildspec.yml 수정\n",
    "    - 7번의 환경 변수를 이용하여 \"4.  codecommit/pipelines/ncf/pipeline.py\" 를 실행하는 명령어를 기술 함.\n",
    "10.  3.1.pipeline_project.ipynb\n",
    "    - 6. codecommit, 7. codebuild 를 연결하여 code pipeline 을 만들고 실행 함.\n",
    "11. 4.1.Cleanup.ipynb\n",
    "    - 리소스 정리 노트북"
   ]
  },
  {
   "cell_type": "markdown",
   "id": "48f8b2eb-35ba-4234-b0bd-268b01d850c3",
   "metadata": {},
   "source": [
    "# D. 상세 사항"
   ]
  },
  {
   "cell_type": "markdown",
   "id": "ed06b715-8943-444f-8b40-5351353b8aa7",
   "metadata": {},
   "source": [
    "# 3. pipeline.py\n",
    "- 위치\n",
    "    - codecommit/pipelines/ncf/pipeline.py\n",
    "- 3_MLOps/1_sm_training_pipeline/3.1.NCF-Training-Pipeline.ipynb 의 내용을 수정해서 만듦"
   ]
  },
  {
   "cell_type": "markdown",
   "id": "bfc42360-6e5d-4d7a-b90c-233acb5d9133",
   "metadata": {},
   "source": [
    "## 3.1 get_pipeline(()\n",
    "\n",
    "```\n",
    "def get_pipeline(\n",
    "    project_prefix,\n",
    "    region,\n",
    "    role=None, # SAGEMAKER_PIPELINE_ROLE_ARN 이 넘어옴.\n",
    "    default_bucket=None,\n",
    "    model_package_group_name= None,\n",
    "    pipeline_name= None\n",
    "):\n",
    "```\n",
    "- 위의 파라미터는 codebuild-buildspec.yml 의 run-pipeline 명령어의 kwargs 파라미터의 내용 임.\n"
   ]
  },
  {
   "cell_type": "markdown",
   "id": "0fbc9c36-82da-4ffb-b62c-456da8951a85",
   "metadata": {
    "tags": []
   },
   "source": [
    "## 3.2  람다 스템을 위한 lambda_role 을 SAGEMAKER_PIPELINE_ROLE_ARN 로 대체 함.\n",
    "- SAGEMAKER_PIPELINE_ROLE_ARN 은 아래와 같은 정책 및 신뢰 관계가 있어야 함.\n",
    "- 필요 정책\n",
    "    - AWSLambda_FullAccess\n",
    "    - AmazonSageMakerFullAccess\n",
    "- Trust Relationship    \n",
    "```\n",
    "{\n",
    "    \"Version\": \"2012-10-17\",\n",
    "    \"Statement\": [\n",
    "        {\n",
    "            \"Effect\": \"Allow\",\n",
    "            \"Principal\": {\n",
    "                \"Service\": \"lambda.amazonaws.com\"\n",
    "            },\n",
    "            \"Action\": \"sts:AssumeRole\"\n",
    "        }\n",
    "    ]\n",
    "}\n",
    "```"
   ]
  },
  {
   "cell_type": "markdown",
   "id": "6714b54c-7fd8-4627-911d-6900cb25897d",
   "metadata": {},
   "source": [
    "## 3.3 람다 스텝 코드 위치 복사\n",
    "- 아래와 같이 3_MLOps/3_sm-train-codepipeline/codecommit/pipelines/ncf 에 iam_repackage_model_artifact.py 복사\n",
    "\n",
    "![iam_repackage_model_artifact.png](img/iam_repackage_model_artifact.png)"
   ]
  },
  {
   "cell_type": "markdown",
   "id": "e9359e21-8bbc-432d-97ae-fdcaf33b82c3",
   "metadata": {},
   "source": [
    "### 3.4 람다 스텝 변경\n",
    "- script 에 repackage_lambda_script_path 의 절대 경로 지정\n",
    "\n",
    "``` python\n",
    "    repackage_lambda_script_path = f'{BASE_DIR}/iam_repackage_model_artifact.py'\n",
    "\n",
    "    func_repackage_model = Lambda(\n",
    "        function_name=function_name,\n",
    "        execution_role_arn=role,\n",
    "        script=repackage_lambda_script_path,        \n",
    "        handler=\"iam_repackage_model_artifact.lambda_handler\",\n",
    "    )\n",
    "\n",
    "```"
   ]
  },
  {
   "cell_type": "markdown",
   "id": "13a62d57-f4f0-4798-b685-58b0cc93a517",
   "metadata": {},
   "source": [
    "## 3.5 Model Package Group Name 변경\n",
    "- model_package_group_name 를 함수 인자로 받아서 사용 함.\n",
    "\n",
    "```python\n",
    "    model_package_group_input_dict = {\n",
    "     \"ModelPackageGroupName\" : model_package_group_name,\n",
    "     \"ModelPackageGroupDescription\" : \"Sample model package group\"\n",
    "    }\n",
    "\n",
    "```"
   ]
  },
  {
   "cell_type": "markdown",
   "id": "df110636-d32a-4b88-8ab6-f9b2b8e418a8",
   "metadata": {},
   "source": [
    "# 6. codecommit/pipelines/run_pipeline.py 작성\n",
    "- pipelines/ncf/src/sm_pipeline_train_config.json 설정 파일에서 변수를 가져와서 파이프라인 변수로 제공\n",
    "\n",
    "```python\n",
    "execution = pipeline.start(\n",
    "    parameters=dict(\n",
    "        InputData= s3_input_data_uri,\n",
    "        training_instance_type = training_instance_type,\n",
    "        training_instance_count = training_instance_count,\n",
    "        ModelApprovalStatus = ModelApprovalStatus,            \n",
    "        inference_image_uri = inference_image_uri,     \n",
    "    )\n",
    ")        \n",
    "\n",
    "```"
   ]
  },
  {
   "cell_type": "markdown",
   "id": "342d4365-d04e-43e0-b0bb-e84e61812340",
   "metadata": {},
   "source": [
    "# 9. codebuild-buildspec.yml 파일\n",
    "- 위치: \n",
    "    - codecommit/codebuild-buildspec.yml"
   ]
  },
  {
   "cell_type": "markdown",
   "id": "8ec37e40-716b-40c5-84bd-d9bbedd0be37",
   "metadata": {},
   "source": [
    "```yml\n",
    "version: 0.2\n",
    "\n",
    "phases:\n",
    "  install:\n",
    "    runtime-versions:\n",
    "      python: 3.8\n",
    "    commands:\n",
    "      - pip install --upgrade --force-reinstall . \"awscli>1.20.30\"\n",
    "  \n",
    "  build:\n",
    "    commands:\n",
    "      - python pipelines/upload_code.py --code-repository-name $code_repository_name --bucket $TEMPLATE_BUCKET\n",
    "      - export PYTHONUNBUFFERED=TRUE\n",
    "      - |\n",
    "        run-pipeline --module-name pipelines.ncf.pipeline \\\n",
    "          --role-arn $SAGEMAKER_PIPELINE_ROLE_ARN \\\n",
    "          --kwargs \"{\\\"region\\\":\\\"${AWS_REGION}\\\",\\\"role\\\":\\\"${SAGEMAKER_PIPELINE_ROLE_ARN}\\\",\\\"default_bucket\\\":\\\"${TEMPLATE_BUCKET}\\\",\\\"pipeline_name\\\":\\\"${SAGEMAKER_PIPELINE_NAME}\\\",\\\"model_package_group_name\\\":\\\"${model_package_group_name}\\\",\\\"project_prefix\\\":\\\"${project_prefix}\\\"}\"\n",
    "      - echo \"Create/Update of the SageMaker Pipeline and execution completed.\"\n",
    "\n",
    "\n",
    "```\n",
    "- 이 파일에서 사용된 환경 변수는 codebuild_project 생성시에 환경 변수에서 가져오게 됨. \n",
    "     - 대표적으로 model_package_group_name 는 Model Registry 경로 임. 이 값을 변경하기 위해서는 codebuild_project 의 환경 변수를 수정해야 함."
   ]
  },
  {
   "cell_type": "markdown",
   "id": "f4a22727-f2ef-452a-85a6-8ac4106bdbc5",
   "metadata": {},
   "source": [
    "## 9.1 코드를 S3에 업로드\n",
    "\n",
    "```\n",
    "- python pipelines/upload_code.py --code-repository-name $code_repository_name --bucket $TEMPLATE_BUCKET\n",
    "```      \n",
    "- 위의 코드를 실행하면 code_location.json 파일이 생성 됨, 아래와 같이 코드가 압축이 되어서 S3에 source.tar.gz 파일이 저장 됨.\n",
    "    - Repackage 람다 스텝에서 사용 됨.\n",
    "```\n",
    "{\n",
    "    \"s3_location\": \"s3://sathiyajith\"\n",
    "}\n",
    "```"
   ]
  },
  {
   "cell_type": "markdown",
   "id": "52cca04f-4479-448b-ad88-cd59991a92bc",
   "metadata": {},
   "source": [
    "## 9.2 파이프라인 실행"
   ]
  },
  {
   "cell_type": "markdown",
   "id": "82989ae7-a489-4a0b-8094-a6ba8f36a3d4",
   "metadata": {},
   "source": [
    "```Yml\n",
    "run-pipeline --module-name pipelines.ncf.pipeline \\\n",
    "          --role-arn $SAGEMAKER_PIPELINE_ROLE_ARN \\\n",
    "          --kwargs \"{\\\"region\\\":\\\"${AWS_REGION}\\\",\\\"role\\\":\\\"${SAGEMAKER_PIPELINE_ROLE_ARN}\\\",\\\"default_bucket\\\":\\\"${TEMPLATE_BUCKET}\\\",\\\"pipeline_name\\\":\\\"${SAGEMAKER_PIPELINE_NAME}\\\",\\\"model_package_group_name\\\":\\\"${model_package_group_name}\\\",\\\"project_prefix\\\":\\\"${project_prefix}\\\"}\"\n",
    "```\n",
    "- kwargs 이후의 파라미터는 파싱이 되어서 pipeline.py 의 get_pipeline() 함수의 파라미터로 전달이 됨."
   ]
  },
  {
   "cell_type": "markdown",
   "id": "040baeed-3050-4973-979d-d0a0115649e9",
   "metadata": {},
   "source": [
    "### run-pipeline.py 의 실행 순서\n",
    "- pipeline = _utils.get_pipeline_driver(args.kwargs)\n",
    "    - get_pipeline(**kwargs)\n",
    "- pipeline.upstart()    \n",
    "- pipeline.start()\n"
   ]
  },
  {
   "cell_type": "code",
   "execution_count": null,
   "id": "51130a15-2f19-49d6-9bef-efbfaaccafc1",
   "metadata": {},
   "outputs": [],
   "source": []
  }
 ],
 "metadata": {
  "kernelspec": {
   "display_name": "conda_python3",
   "language": "python",
   "name": "conda_python3"
  },
  "language_info": {
   "codemirror_mode": {
    "name": "ipython",
    "version": 3
   },
   "file_extension": ".py",
   "mimetype": "text/x-python",
   "name": "python",
   "nbconvert_exporter": "python",
   "pygments_lexer": "ipython3",
   "version": "3.8.12"
  }
 },
 "nbformat": 4,
 "nbformat_minor": 5
}
