{
 "cells": [
  {
   "cell_type": "markdown",
   "metadata": {},
   "source": [
    "# SageMaker Pipeline (pipeline.py) 로컬에서 Test 하기\n",
    "\n"
   ]
  },
  {
   "cell_type": "markdown",
   "metadata": {},
   "source": [
    "# 1. 환경 설정 및 컨피그 파일 로딩"
   ]
  },
  {
   "cell_type": "code",
   "execution_count": 12,
   "metadata": {},
   "outputs": [
    {
     "name": "stdout",
     "output_type": "stream",
     "text": [
      "The autoreload extension is already loaded. To reload it, use:\n",
      "  %reload_ext autoreload\n"
     ]
    }
   ],
   "source": [
    "%load_ext autoreload\n",
    "%autoreload 2"
   ]
  },
  {
   "cell_type": "code",
   "execution_count": 13,
   "metadata": {},
   "outputs": [],
   "source": [
    "code_pipeline_train_config_json_path = 'pipelines/ncf/src/code_pipeline_train_config.json'\n",
    "sm_pipeline_train_config_json_path = 'pipelines/ncf/src/sm_pipeline_train_config.json'"
   ]
  },
  {
   "cell_type": "code",
   "execution_count": 14,
   "metadata": {},
   "outputs": [
    {
     "name": "stdout",
     "output_type": "stream",
     "text": [
      "Code Pipeline Series Params: \n",
      "{\n",
      "  \"code_pipeline_role_arn\": \"arn:aws:iam::057716757052:role/code-pipeline-gsmoon\",\n",
      "  \"code_build_service_arn\": \"arn:aws:iam::057716757052:role/codebuild-gsmoon\",\n",
      "  \"project_prefix\": \"CodePipeline-Train-NCF\",\n",
      "  \"region\": \"us-east-1\",\n",
      "  \"account_id\": \"057716757052\",\n",
      "  \"train_code_repo_name\": \"ncf-train\",\n",
      "  \"code_build_project_name\": \"ncf-training-sm-pipeline\",\n",
      "  \"bucket\": \"sagemaker-us-east-1-057716757052\",\n",
      "  \"code_pipeline_name\": \"ncf-training-code-pipeline\",\n",
      "  \"model_package_group_name\": \"NCF-Model-CodePipeline\",\n",
      "  \"branch_name\": \"master\"\n",
      "}\n",
      "SageMaker Pipeline Series Params: \n",
      "{\n",
      "  \"project_prefix\": \"SageMaker-Train-NCF\",\n",
      "  \"s3_input_data_uri\": \"s3://sagemaker-us-east-1-057716757052/NCFModel/data\",\n",
      "  \"sm_pipeline_name\": \"ncf-sm-pipeline\",\n",
      "  \"training_instance_type\": \"ml.p3.2xlarge\",\n",
      "  \"training_instance_count\": 1,\n",
      "  \"ModelApprovalStatus\": \"PendingManualApproval\",\n",
      "  \"inference_image_uri\": \"763104351884.dkr.ecr.us-east-1.amazonaws.com/pytorch-inference:1.8.1-gpu-py3\",\n",
      "  \"bucket\": \"sagemaker-us-east-1-057716757052\"\n",
      "}\n"
     ]
    }
   ],
   "source": [
    "from pipelines.ncf.src.common_utils import load_json\n",
    "\n",
    "code_pipeline_train_dict = load_json(code_pipeline_train_config_json_path)\n",
    "sm_pipeline_train_dict = load_json(sm_pipeline_train_config_json_path)\n",
    "\n",
    "import json\n",
    "print(\"Code Pipeline Series Params: \")\n",
    "print (json.dumps(code_pipeline_train_dict, indent=2))\n",
    "print(\"SageMaker Pipeline Series Params: \")\n",
    "print (json.dumps(sm_pipeline_train_dict, indent=2))\n"
   ]
  },
  {
   "cell_type": "markdown",
   "metadata": {},
   "source": [
    "### 필요한 설정 값 로딩"
   ]
  },
  {
   "cell_type": "code",
   "execution_count": 15,
   "metadata": {},
   "outputs": [],
   "source": [
    "import boto3\n",
    "import sagemaker\n",
    "import os\n",
    "\n",
    "region = code_pipeline_train_dict[\"region\"]\n",
    "account_id = code_pipeline_train_dict[\"account_id\"]\n",
    "bucket = code_pipeline_train_dict[\"bucket\"]\n",
    "role = code_pipeline_train_dict[\"code_build_service_arn\"]\n",
    "model_package_group_name = code_pipeline_train_dict[\"model_package_group_name\"]\n",
    "\n",
    "pipeline_name = sm_pipeline_train_dict[\"sm_pipeline_name\"]\n",
    "s3_input_data_uri = sm_pipeline_train_dict[\"s3_input_data_uri\"]\n",
    "\n",
    "\n",
    "project_prefix = sm_pipeline_train_dict[\"project_prefix\"]\n",
    "inference_image_uri = sm_pipeline_train_dict[\"inference_image_uri\"]\n",
    "training_instance_type = sm_pipeline_train_dict[\"training_instance_type\"]\n",
    "training_instance_count = sm_pipeline_train_dict[\"training_instance_count\"]\n",
    "ModelApprovalStatus = sm_pipeline_train_dict[\"ModelApprovalStatus\"]"
   ]
  },
  {
   "cell_type": "markdown",
   "metadata": {},
   "source": [
    "# 2. src 코드 S3 업로딩 \n",
    "- 리패키징 람다 스텝에서 사용.\n",
    "- code_buildspec.yml 파일에서 upload.py 에 해당 함."
   ]
  },
  {
   "cell_type": "markdown",
   "metadata": {},
   "source": [
    "## 2.1. source.tar.gz 로 압축"
   ]
  },
  {
   "cell_type": "code",
   "execution_count": 16,
   "metadata": {},
   "outputs": [],
   "source": [
    "code_data_dir = 'pipelines/ncf/src'\n",
    "code_artifact_name = 'source.tar.gz'"
   ]
  },
  {
   "cell_type": "code",
   "execution_count": 17,
   "metadata": {},
   "outputs": [
    {
     "name": "stdout",
     "output_type": "stream",
     "text": [
      "code_pipeline_train_config.json\n",
      "common_utils.py\n",
      "config.py\n",
      "data_utils.py\n",
      "evaluate.py\n",
      "iam_change_model_approval.py\n",
      "iam_create_endpoint.py\n",
      "iam_helper.py\n",
      "inference.py\n",
      "inference_utils.py\n",
      "model_config.json\n",
      "model.py\n",
      "pipeline_util.py\n",
      "requirements.txt\n",
      "sm_pipeline_train_config.json\n",
      "train_lib.py\n",
      "train.py\n"
     ]
    }
   ],
   "source": [
    "%%sh -s {code_data_dir} {code_artifact_name}\n",
    "code_data_dir=$1\n",
    "code_artifact_name=$2\n",
    "\n",
    "cd $code_data_dir\n",
    "rm -rf $code_artifact_name\n",
    "tar -czvf $code_artifact_name *.*"
   ]
  },
  {
   "cell_type": "markdown",
   "metadata": {},
   "source": [
    "## 2.2. S3 에 업로딩"
   ]
  },
  {
   "cell_type": "code",
   "execution_count": 18,
   "metadata": {},
   "outputs": [],
   "source": [
    "source_code_prefix = 'code'\n",
    "# S3에 저장되는 데이터의 기본 폴더 위치\n",
    "s3_code_uri = f\"s3://{bucket}/{source_code_prefix}\""
   ]
  },
  {
   "cell_type": "code",
   "execution_count": 19,
   "metadata": {},
   "outputs": [
    {
     "name": "stdout",
     "output_type": "stream",
     "text": [
      "2022-11-20 06:27:45      12711 code/source.tar.gz\n",
      "delete: s3://sagemaker-us-east-1-057716757052/code/source.tar.gz\n"
     ]
    }
   ],
   "source": [
    "! aws s3 ls {s3_code_uri} --recursive\n",
    "! aws s3 rm {s3_code_uri} --recursive"
   ]
  },
  {
   "cell_type": "code",
   "execution_count": 20,
   "metadata": {},
   "outputs": [],
   "source": [
    "import os\n",
    "local_code = os.path.join(code_data_dir, code_artifact_name)"
   ]
  },
  {
   "cell_type": "code",
   "execution_count": 21,
   "metadata": {},
   "outputs": [
    {
     "name": "stdout",
     "output_type": "stream",
     "text": [
      "s3://sagemaker-us-east-1-057716757052/code\n"
     ]
    }
   ],
   "source": [
    "_ = sagemaker.s3.S3Uploader.upload(\n",
    "    local_path=local_code, \n",
    "    desired_s3_uri=s3_code_uri,    \n",
    ")\n",
    "print(s3_code_uri)"
   ]
  },
  {
   "cell_type": "markdown",
   "metadata": {},
   "source": [
    "s3_code_uri 에 source.tar.gz 이름 붙임"
   ]
  },
  {
   "cell_type": "code",
   "execution_count": 22,
   "metadata": {},
   "outputs": [
    {
     "name": "stdout",
     "output_type": "stream",
     "text": [
      "s3_code_uri: \n",
      " s3://sagemaker-us-east-1-057716757052/code/source.tar.gz\n"
     ]
    }
   ],
   "source": [
    "s3_code_uri = os.path.join(s3_code_uri, 'source.tar.gz')\n",
    "print(\"s3_code_uri: \\n\", s3_code_uri)"
   ]
  },
  {
   "cell_type": "markdown",
   "metadata": {},
   "source": [
    "## 2.3. code_location.json 파일에 위치 명시하고 저장"
   ]
  },
  {
   "cell_type": "code",
   "execution_count": 23,
   "metadata": {},
   "outputs": [
    {
     "name": "stdout",
     "output_type": "stream",
     "text": [
      "dictionary: \n",
      " {'s3_code_uri': 's3://sagemaker-us-east-1-057716757052/code/source.tar.gz'}\n"
     ]
    },
    {
     "data": {
      "text/plain": [
       "'code_location.json'"
      ]
     },
     "execution_count": 23,
     "metadata": {},
     "output_type": "execute_result"
    }
   ],
   "source": [
    "def store_s3_code_uri_json(s3_code_uri):\n",
    "    '''\n",
    "    json_file_name 안에 S3_URL 을 저장\n",
    "    '''\n",
    " \n",
    "    # Data to be written\n",
    "    dictionary = {\n",
    "        \"s3_code_uri\": s3_code_uri,\n",
    "    }\n",
    "    print(\"dictionary: \\n\", dictionary)    \n",
    "\n",
    "    # Serializing json\n",
    "    json_object = json.dumps(dictionary, indent=4)\n",
    "\n",
    "    json_file_name = \"code_location.json\"    \n",
    "    # Writing to sample.json\n",
    "    with open(json_file_name, \"w\") as outfile:\n",
    "        outfile.write(json_object)\n",
    "\n",
    "\n",
    "    return json_file_name\n",
    "\n",
    "store_s3_code_uri_json(s3_code_uri)"
   ]
  },
  {
   "cell_type": "markdown",
   "metadata": {
    "tags": []
   },
   "source": [
    "# 3. Pipeline 테스트"
   ]
  },
  {
   "cell_type": "markdown",
   "metadata": {},
   "source": [
    "## 3.1. 컨피그 파일에서 설정 값 로딩"
   ]
  },
  {
   "cell_type": "code",
   "execution_count": 24,
   "metadata": {},
   "outputs": [
    {
     "name": "stdout",
     "output_type": "stream",
     "text": [
      "s3_input_data_uri: \n",
      " s3://sagemaker-us-east-1-057716757052/NCFModel/data\n",
      "project_prefix: \n",
      " SageMaker-Train-NCF\n",
      "region: \n",
      " us-east-1\n",
      "inference_image_uri: \n",
      " 763104351884.dkr.ecr.us-east-1.amazonaws.com/pytorch-inference:1.8.1-gpu-py3\n",
      "role: \n",
      " arn:aws:iam::057716757052:role/codebuild-gsmoon\n",
      "bucket: \n",
      " sagemaker-us-east-1-057716757052\n",
      "model_package_group_name: \n",
      " NCF-Model-CodePipeline\n",
      "ModelApprovalStatus: \n",
      " PendingManualApproval\n",
      "pipeline_name: \n",
      " ncf-sm-pipeline\n",
      "training_instance_type: \n",
      " ml.p3.2xlarge\n",
      "training_instance_count: \n",
      " 1\n"
     ]
    }
   ],
   "source": [
    "print(\"s3_input_data_uri: \\n\", s3_input_data_uri)\n",
    "print(\"project_prefix: \\n\", project_prefix)\n",
    "print(\"region: \\n\", region)\n",
    "print(\"inference_image_uri: \\n\", inference_image_uri)\n",
    "print(\"role: \\n\", role)\n",
    "print(\"bucket: \\n\", bucket)\n",
    "print(\"model_package_group_name: \\n\", model_package_group_name)\n",
    "print(\"ModelApprovalStatus: \\n\", ModelApprovalStatus)\n",
    "print(\"pipeline_name: \\n\", pipeline_name)\n",
    "print(\"training_instance_type: \\n\", training_instance_type)\n",
    "print(\"training_instance_count: \\n\", training_instance_count)\n",
    "\n"
   ]
  },
  {
   "cell_type": "code",
   "execution_count": 25,
   "metadata": {
    "tags": []
   },
   "outputs": [
    {
     "name": "stdout",
     "output_type": "stream",
     "text": [
      "######### get_pipeline() input parameter ###############\n",
      "### BASE_DIR: /home/ec2-user/SageMaker/Neural-Collaborative-Filtering-On-SageMaker/3_MLOps/4_sm-train-codepipeline/codecommit/pipelines/ncf\n",
      "region: us-east-1\n",
      "role: arn:aws:iam::057716757052:role/codebuild-gsmoon\n",
      "default_bucket: sagemaker-us-east-1-057716757052\n",
      "pipeline_name: ncf-sm-pipeline\n",
      "role:  arn:aws:iam::057716757052:role/codebuild-gsmoon\n",
      "code_location path: \n",
      " code_location.json\n",
      "##### S3 Code Location #########\n",
      "s3_code_uri:  s3://sagemaker-us-east-1-057716757052/code/source.tar.gz\n",
      "################################\n",
      "estimator_output_path: \n",
      " s3://sagemaker-us-east-1-057716757052/SageMaker-Train-NCF/training_jobs\n",
      "repackage_lambda_script_path: \n",
      " /home/ec2-user/SageMaker/Neural-Collaborative-Filtering-On-SageMaker/3_MLOps/4_sm-train-codepipeline/codecommit/pipelines/ncf/iam_repackage_model_artifact.py\n",
      "function_name: \n",
      " sagemaker-lambda-step-repackage-model-artifact\n",
      "bucket prefix: \n",
      " SageMaker-Train-NCF/2022-11-20-06-41-06\n",
      "NCF-Model-CodePipeline exitss\n"
     ]
    },
    {
     "name": "stderr",
     "output_type": "stream",
     "text": [
      "/home/ec2-user/anaconda3/envs/python3/lib/python3.8/site-packages/sagemaker/workflow/pipeline_context.py:258: UserWarning: Running within a PipelineSession, there will be No Wait, No Logs, and No Job being started.\n",
      "  warnings.warn(\n"
     ]
    }
   ],
   "source": [
    "from pipelines.ncf.pipeline import get_pipeline\n",
    "\n",
    "\n",
    "pipeline = get_pipeline(\n",
    "    project_prefix = project_prefix,\n",
    "    region=region,\n",
    "    role= role, # SAGEMAKER_PIPELINE_ROLE_ARN 이 넘어옴.\n",
    "    default_bucket= bucket,\n",
    "    model_package_group_name= model_package_group_name,\n",
    "    pipeline_name= pipeline_name    \n",
    ")"
   ]
  },
  {
   "cell_type": "code",
   "execution_count": 26,
   "metadata": {},
   "outputs": [
    {
     "name": "stderr",
     "output_type": "stream",
     "text": [
      "The input argument instance_type of function (sagemaker.image_uris.retrieve) is a pipeline variable (<class 'sagemaker.workflow.parameters.ParameterString'>), which is not allowed. The default_value of this Parameter object will be used to override it. Please make sure the default_value is valid.\n"
     ]
    }
   ],
   "source": [
    "definition = json.loads(pipeline.definition())\n",
    "# definition"
   ]
  },
  {
   "cell_type": "code",
   "execution_count": 27,
   "metadata": {},
   "outputs": [
    {
     "name": "stderr",
     "output_type": "stream",
     "text": [
      "The input argument instance_type of function (sagemaker.image_uris.retrieve) is a pipeline variable (<class 'sagemaker.workflow.parameters.ParameterString'>), which is not allowed. The default_value of this Parameter object will be used to override it. Please make sure the default_value is valid.\n"
     ]
    }
   ],
   "source": [
    "pipeline.upsert(role_arn=role)\n",
    "#execution = pipeline.start()\n",
    "execution = pipeline.start(\n",
    "    parameters=dict(\n",
    "        InputData= s3_input_data_uri,\n",
    "        training_instance_type = training_instance_type,\n",
    "        training_instance_count = training_instance_count,\n",
    "        ModelApprovalStatus = ModelApprovalStatus,                                \n",
    "        inference_image_uri = inference_image_uri,                        \n",
    "    )\n",
    ")"
   ]
  },
  {
   "cell_type": "markdown",
   "metadata": {},
   "source": [
    "We'll start the pipeline, accepting all the default parameters.\n",
    "\n",
    "Values can also be passed into these pipeline parameters on starting of the pipeline, and will be covered later. "
   ]
  },
  {
   "cell_type": "code",
   "execution_count": 30,
   "metadata": {},
   "outputs": [
    {
     "data": {
      "text/plain": [
       "{'PipelineArn': 'arn:aws:sagemaker:us-east-1:057716757052:pipeline/ncf-sm-pipeline',\n",
       " 'PipelineExecutionArn': 'arn:aws:sagemaker:us-east-1:057716757052:pipeline/ncf-sm-pipeline/execution/uv9apzhex9on',\n",
       " 'PipelineExecutionDisplayName': 'execution-1668926468955',\n",
       " 'PipelineExecutionStatus': 'Succeeded',\n",
       " 'PipelineExperimentConfig': {'ExperimentName': 'ncf-sm-pipeline',\n",
       "  'TrialName': 'uv9apzhex9on'},\n",
       " 'CreationTime': datetime.datetime(2022, 11, 20, 6, 41, 8, 834000, tzinfo=tzlocal()),\n",
       " 'LastModifiedTime': datetime.datetime(2022, 11, 20, 6, 51, 57, 353000, tzinfo=tzlocal()),\n",
       " 'CreatedBy': {},\n",
       " 'LastModifiedBy': {},\n",
       " 'ResponseMetadata': {'RequestId': '633015db-cb92-44d0-93bd-1039d914cd2a',\n",
       "  'HTTPStatusCode': 200,\n",
       "  'HTTPHeaders': {'x-amzn-requestid': '633015db-cb92-44d0-93bd-1039d914cd2a',\n",
       "   'content-type': 'application/x-amz-json-1.1',\n",
       "   'content-length': '486',\n",
       "   'date': 'Sun, 20 Nov 2022 06:52:25 GMT'},\n",
       "  'RetryAttempts': 0}}"
      ]
     },
     "execution_count": 30,
     "metadata": {},
     "output_type": "execute_result"
    }
   ],
   "source": [
    "execution.wait()\n",
    "execution.describe()"
   ]
  },
  {
   "cell_type": "code",
   "execution_count": 29,
   "metadata": {},
   "outputs": [
    {
     "data": {
      "text/plain": [
       "[]"
      ]
     },
     "execution_count": 29,
     "metadata": {},
     "output_type": "execute_result"
    }
   ],
   "source": [
    "execution.list_steps()"
   ]
  },
  {
   "cell_type": "code",
   "execution_count": null,
   "metadata": {},
   "outputs": [],
   "source": []
  }
 ],
 "metadata": {
  "instance_type": "ml.t3.medium",
  "kernelspec": {
   "display_name": "conda_python3",
   "language": "python",
   "name": "conda_python3"
  },
  "language_info": {
   "codemirror_mode": {
    "name": "ipython",
    "version": 3
   },
   "file_extension": ".py",
   "mimetype": "text/x-python",
   "name": "python",
   "nbconvert_exporter": "python",
   "pygments_lexer": "ipython3",
   "version": "3.8.12"
  }
 },
 "nbformat": 4,
 "nbformat_minor": 4
}
