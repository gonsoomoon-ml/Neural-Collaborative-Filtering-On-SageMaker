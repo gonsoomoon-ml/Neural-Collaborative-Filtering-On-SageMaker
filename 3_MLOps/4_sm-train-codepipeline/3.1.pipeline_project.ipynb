{
 "cells": [
  {
   "cell_type": "markdown",
   "id": "9c8589d4",
   "metadata": {
    "tags": []
   },
   "source": [
    "# [모듈 3.1] Code Pipeline 생성 하기\n",
    "## 참고 자료\n",
    "- https://docs.aws.amazon.com/codepipeline/latest/userguide/pipelines-create.html\n"
   ]
  },
  {
   "cell_type": "markdown",
   "id": "90668439",
   "metadata": {},
   "source": [
    "# 1. 환경 설정\n"
   ]
  },
  {
   "cell_type": "code",
   "execution_count": null,
   "id": "885416ac-b410-4b24-a835-cef9f348ae76",
   "metadata": {},
   "outputs": [],
   "source": [
    "%load_ext autoreload\n",
    "%autoreload 2\n",
    "\n",
    "import sys\n",
    "sys.path.append('./src')"
   ]
  },
  {
   "cell_type": "code",
   "execution_count": null,
   "id": "3ab6ef91-0bca-4744-81e3-3f4c39eb3468",
   "metadata": {},
   "outputs": [],
   "source": [
    "%store -r code_pipeline_train_config_json_path\n",
    "%store -r sm_pipeline_train_config_json_path\n",
    "\n",
    "from common_utils import load_json\n",
    "\n",
    "code_pipeline_train_dict = load_json(code_pipeline_train_config_json_path)\n",
    "sm_pipeline_train_dict = load_json(sm_pipeline_train_config_json_path)\n",
    "\n",
    "import json\n",
    "print(\"Code Pipeline Series Params: \")\n",
    "print (json.dumps(code_pipeline_train_dict, indent=2))\n",
    "print(\"SageMaker Pipeline Series Params: \")\n",
    "print (json.dumps(sm_pipeline_train_dict, indent=2))\n",
    "\n"
   ]
  },
  {
   "cell_type": "markdown",
   "id": "5fe6f02a",
   "metadata": {},
   "source": [
    "# 2. 파라미터 설정\n"
   ]
  },
  {
   "cell_type": "code",
   "execution_count": null,
   "id": "6dcfbbda",
   "metadata": {},
   "outputs": [],
   "source": [
    "region = code_pipeline_train_dict[\"region\"]\n",
    "repository_name = code_pipeline_train_dict[\"train_code_repo_name\"]\n",
    "code_build_project_name = code_pipeline_train_dict[\"code_build_project_name\"]\n",
    "code_pipeline_name = code_pipeline_train_dict[\"code_pipeline_name\"]\n",
    "branch_name = code_pipeline_train_dict[\"branch_name\"]\n",
    "pipeline_role_name = code_pipeline_train_dict[\"code_pipeline_role_arn\"]\n",
    "bucket = code_pipeline_train_dict[\"bucket\"]\n"
   ]
  },
  {
   "cell_type": "markdown",
   "id": "a036b0a0",
   "metadata": {},
   "source": [
    "# 3. 파이프라인 JSON 정의"
   ]
  },
  {
   "cell_type": "code",
   "execution_count": null,
   "id": "66423fd2",
   "metadata": {},
   "outputs": [],
   "source": [
    "pipeline_dic = {\n",
    "    \"pipeline\": {\n",
    "        \"name\": code_pipeline_name,\n",
    "        \"roleArn\": pipeline_role_name,\n",
    "        \"artifactStore\": {\n",
    "            \"type\": \"S3\",\n",
    "            \"location\": bucket\n",
    "        },\n",
    "        \"stages\": [\n",
    "            {\n",
    "                \"name\": \"Source\",\n",
    "                \"actions\": [\n",
    "                    {\n",
    "                        \"name\": \"Source\",\n",
    "                        \"actionTypeId\": {\n",
    "                            \"category\": \"Source\",\n",
    "                            \"owner\": \"AWS\",\n",
    "                            \"provider\": \"CodeCommit\",\n",
    "                            \"version\": \"1\"\n",
    "                        },\n",
    "                        \"runOrder\": 1,\n",
    "                        \"configuration\": {\n",
    "                            \"BranchName\": branch_name,\n",
    "                            \"OutputArtifactFormat\": \"CODE_ZIP\",\n",
    "                            \"PollForSourceChanges\": \"false\",\n",
    "                            \"RepositoryName\": repository_name\n",
    "                        },\n",
    "                        \"outputArtifacts\": [\n",
    "                            {\n",
    "                                \"name\": \"SourceArtifact\"\n",
    "                            }\n",
    "                        ],\n",
    "                        \"inputArtifacts\": [],\n",
    "                        \"region\": region,\n",
    "                        \"namespace\": \"SourceVariables\"\n",
    "                    }\n",
    "                ]\n",
    "            },\n",
    "            {\n",
    "                \"name\": \"Build\",\n",
    "                \"actions\": [\n",
    "                    {\n",
    "                        \"name\": \"BuildAndExecuteSageMakerPipeline\",\n",
    "                        \"actionTypeId\": {\n",
    "                            \"category\": \"Build\",\n",
    "                            \"owner\": \"AWS\",\n",
    "                            \"provider\": \"CodeBuild\",\n",
    "                            \"version\": \"1\"\n",
    "                        },\n",
    "                        \"runOrder\": 1,\n",
    "                        \"configuration\": {\n",
    "                            \"ProjectName\": code_build_project_name\n",
    "                        },\n",
    "                        \"outputArtifacts\": [\n",
    "                            {\n",
    "                                \"name\": \"BuildArtifact\"\n",
    "                            }\n",
    "                        ],\n",
    "                        \"inputArtifacts\": [\n",
    "                            {\n",
    "                                \"name\": \"SourceArtifact\"\n",
    "                            }\n",
    "                        ],\n",
    "                        \"region\": region,\n",
    "                        \"namespace\": \"BuildVariables\"\n",
    "                    }\n",
    "                ]\n",
    "            }\n",
    "        ],\n",
    "        \"version\": 1\n",
    "    },\n",
    "}"
   ]
  },
  {
   "cell_type": "markdown",
   "id": "9797906f",
   "metadata": {},
   "source": [
    "## 3.1. Dic 포맷을 JSON 으로 변경"
   ]
  },
  {
   "cell_type": "code",
   "execution_count": null,
   "id": "64b8bd1d",
   "metadata": {},
   "outputs": [],
   "source": [
    "import json\n",
    "\n",
    "pipeline_json = json.dumps(pipeline_dic)\n",
    "json.loads(pipeline_json)"
   ]
  },
  {
   "cell_type": "markdown",
   "id": "1c4cb0c6",
   "metadata": {},
   "source": [
    "## 3.2. JSON 파일 저장"
   ]
  },
  {
   "cell_type": "code",
   "execution_count": null,
   "id": "4a15e5aa",
   "metadata": {},
   "outputs": [],
   "source": [
    "json_file_path = 'src/hello_pipeline.json'\n",
    "with open(json_file_path, \"w\") as outfile:\n",
    "    outfile.write(pipeline_json)"
   ]
  },
  {
   "cell_type": "code",
   "execution_count": null,
   "id": "4257fff8",
   "metadata": {},
   "outputs": [],
   "source": [
    "with open(json_file_path) as json_file:\n",
    "    json_data = json.load(json_file)\n",
    "    \n",
    "json_data    "
   ]
  },
  {
   "cell_type": "markdown",
   "id": "4f2615ca",
   "metadata": {},
   "source": [
    "# 4. 파이프라인 실행"
   ]
  },
  {
   "cell_type": "code",
   "execution_count": null,
   "id": "eccfae97",
   "metadata": {},
   "outputs": [],
   "source": [
    "%%sh -s {json_file_path}\n",
    "json_file_path=$1\n",
    "echo $json_file_path\n",
    "echo $PWD\n",
    "aws codepipeline create-pipeline --cli-input-json file://$json_file_path\n",
    "# aws codepipeline create-pipeline --cli-input-json file://src/hello_pipeline.json"
   ]
  },
  {
   "cell_type": "markdown",
   "id": "6d280870",
   "metadata": {},
   "source": [
    "# 5. 코드 파이프라인 실행 상태 확인"
   ]
  },
  {
   "cell_type": "code",
   "execution_count": null,
   "id": "7fa115c5",
   "metadata": {},
   "outputs": [],
   "source": [
    "%%sh -s {code_pipeline_name}\n",
    "code_pipeline_name=$1\n",
    "echo $code_pipeline_name\n",
    "aws codepipeline get-pipeline-state --name $code_pipeline_name"
   ]
  },
  {
   "cell_type": "code",
   "execution_count": null,
   "id": "143c3449",
   "metadata": {},
   "outputs": [],
   "source": []
  },
  {
   "cell_type": "code",
   "execution_count": null,
   "id": "fa15ee8e",
   "metadata": {},
   "outputs": [],
   "source": []
  }
 ],
 "metadata": {
  "kernelspec": {
   "display_name": "conda_python3",
   "language": "python",
   "name": "conda_python3"
  },
  "language_info": {
   "codemirror_mode": {
    "name": "ipython",
    "version": 3
   },
   "file_extension": ".py",
   "mimetype": "text/x-python",
   "name": "python",
   "nbconvert_exporter": "python",
   "pygments_lexer": "ipython3",
   "version": "3.8.12"
  }
 },
 "nbformat": 4,
 "nbformat_minor": 5
}
