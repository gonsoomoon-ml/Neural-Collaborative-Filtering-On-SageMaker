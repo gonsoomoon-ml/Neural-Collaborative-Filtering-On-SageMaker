{
 "cells": [
  {
   "cell_type": "markdown",
   "id": "760b72d1",
   "metadata": {},
   "source": [
    "# [모듈 1.1] CodeCommit 리파지토리 생성"
   ]
  },
  {
   "cell_type": "markdown",
   "id": "ffd73daa",
   "metadata": {},
   "source": [
    "이 노트북은 CodeCommit 리파지토리를 생성하고, codecommit 폴더를 리파지토리에 Push 하는 노트북 입니다.\n",
    "\n",
    "## 참고 자료\n",
    "- [Quick guide to start using AWS CodeCommit via AWS CLI](https://dev.to/tiamatt/quick-guide-to-start-using-aws-codecommit-via-aws-cli-1jg5)\n",
    "- 개발자 가이드\n",
    "    - [Setup for HTTPS users using Git credentials](https://docs.aws.amazon.com/codecommit/latest/userguide/setting-up-gc.html)\n",
    "    - [Create an AWS CodeCommit repository](https://docs.aws.amazon.com/codecommit/latest/userguide/how-to-create-repository.html#how-to-create-repository-cli)\n",
    "    \n",
    "\n"
   ]
  },
  {
   "cell_type": "markdown",
   "id": "316af42a",
   "metadata": {},
   "source": [
    "# 1. 환경 확인"
   ]
  },
  {
   "cell_type": "code",
   "execution_count": 1,
   "id": "ae7617b5-a8f8-4ebb-a9ec-93baa4395511",
   "metadata": {},
   "outputs": [],
   "source": [
    "%load_ext autoreload\n",
    "%autoreload 2\n",
    "\n",
    "import sys\n",
    "sys.path.append('./src')"
   ]
  },
  {
   "cell_type": "code",
   "execution_count": 2,
   "id": "f893e231",
   "metadata": {},
   "outputs": [
    {
     "name": "stdout",
     "output_type": "stream",
     "text": [
      "git version 2.37.1\n"
     ]
    }
   ],
   "source": [
    "%%sh \n",
    "git --version"
   ]
  },
  {
   "cell_type": "code",
   "execution_count": 3,
   "id": "651058df",
   "metadata": {},
   "outputs": [
    {
     "name": "stdout",
     "output_type": "stream",
     "text": [
      "aws-cli/1.24.10 Python/3.8.12 Linux/5.10.102-99.473.amzn2.x86_64 botocore/1.26.10\n"
     ]
    }
   ],
   "source": [
    "%%sh\n",
    "aws --version"
   ]
  },
  {
   "cell_type": "markdown",
   "id": "263897a1",
   "metadata": {},
   "source": [
    "# 2. 파라미터 로딩"
   ]
  },
  {
   "cell_type": "code",
   "execution_count": 4,
   "id": "b87d555d-74b1-4cd9-b5fa-c20faa47db93",
   "metadata": {},
   "outputs": [
    {
     "name": "stdout",
     "output_type": "stream",
     "text": [
      "{\n",
      "  \"code_pipeline_role_arn\": \"arn:aws:iam::057716757052:role/code-pipeline-gsmoon\",\n",
      "  \"code_build_service_arn\": \"arn:aws:iam::057716757052:role/codebuild-gsmoon\",\n",
      "  \"project_prefix\": \"CodePipeline-Train-NCF\",\n",
      "  \"region\": \"us-east-1\",\n",
      "  \"account_id\": \"057716757052\",\n",
      "  \"train_code_repo_name\": \"ncf-train\",\n",
      "  \"code_build_project_name\": \"ncf-training-sm-pipeline\",\n",
      "  \"bucket\": \"sagemaker-us-east-1-057716757052\",\n",
      "  \"code_pipeline_name\": \"ncf-training-code-pipeline\",\n",
      "  \"model_package_group_name\": \"NCF-Model-CodePipeline\",\n",
      "  \"branch_name\": \"master\"\n",
      "}\n"
     ]
    }
   ],
   "source": [
    "%store -r code_pipeline_train_config_json_path\n",
    "\n",
    "from common_utils import load_json\n",
    "\n",
    "code_pipeline_train_dict = load_json(code_pipeline_train_config_json_path)\n",
    "\n",
    "import json\n",
    "print (json.dumps(code_pipeline_train_dict, indent=2))\n",
    "\n",
    "repository_name = code_pipeline_train_dict[\"train_code_repo_name\"]"
   ]
  },
  {
   "cell_type": "code",
   "execution_count": 5,
   "id": "47068ba3",
   "metadata": {},
   "outputs": [],
   "source": [
    "\n",
    "source_code = 'codecommit'\n"
   ]
  },
  {
   "cell_type": "markdown",
   "id": "d114ef17",
   "metadata": {},
   "source": [
    "# 3.리파지토리 생성"
   ]
  },
  {
   "cell_type": "code",
   "execution_count": 6,
   "id": "1fb3c07e",
   "metadata": {},
   "outputs": [
    {
     "name": "stdout",
     "output_type": "stream",
     "text": [
      "{\n",
      "    \"repositoryMetadata\": {\n",
      "        \"accountId\": \"057716757052\",\n",
      "        \"repositoryId\": \"61274fd1-a73c-456f-a8df-6e3d5dc0d2db\",\n",
      "        \"repositoryName\": \"ncf-train\",\n",
      "        \"repositoryDescription\": \"My demonstration repository\",\n",
      "        \"lastModifiedDate\": 1668931527.038,\n",
      "        \"creationDate\": 1668931527.038,\n",
      "        \"cloneUrlHttp\": \"https://git-codecommit.us-east-1.amazonaws.com/v1/repos/ncf-train\",\n",
      "        \"cloneUrlSsh\": \"ssh://git-codecommit.us-east-1.amazonaws.com/v1/repos/ncf-train\",\n",
      "        \"Arn\": \"arn:aws:codecommit:us-east-1:057716757052:ncf-train\"\n",
      "    }\n",
      "}\n"
     ]
    }
   ],
   "source": [
    "%%sh -s {repository_name}\n",
    "repository_name=$1\n",
    "aws codecommit create-repository --repository-name $repository_name \\\n",
    "--repository-description \"My demonstration repository\" "
   ]
  },
  {
   "cell_type": "markdown",
   "id": "ec6a1ea0",
   "metadata": {},
   "source": [
    "# 4. 리파지토리 로컬에 클로닝\n",
    "### 아래를 위의 결과에서 카피해서 대체 해주세요.\n",
    "#### clone_url =  \"https://git-codecommit.us-east-1.amazonaws.com/v1/repos/mlops-ncf\"\n"
   ]
  },
  {
   "cell_type": "code",
   "execution_count": 7,
   "id": "f0810cb6",
   "metadata": {},
   "outputs": [],
   "source": [
    "clone_url =  \"https://git-codecommit.us-east-1.amazonaws.com/v1/repos/ncf-train\"\n",
    "# clone_url = \"<Clone URL>\""
   ]
  },
  {
   "cell_type": "code",
   "execution_count": 8,
   "id": "57acab15",
   "metadata": {},
   "outputs": [
    {
     "name": "stderr",
     "output_type": "stream",
     "text": [
      "Cloning into 'ncf-train'...\n",
      "warning: You appear to have cloned an empty repository.\n"
     ]
    }
   ],
   "source": [
    "%%sh -s {clone_url} {repository_name}\n",
    "\n",
    "clone_url=$1\n",
    "repository_name=$2\n",
    "\n",
    "rm -rf $repository_name\n",
    "\n",
    "git clone $clone_url "
   ]
  },
  {
   "cell_type": "markdown",
   "id": "2d866112",
   "metadata": {},
   "source": [
    "# 5. 소스 코드 복사"
   ]
  },
  {
   "cell_type": "code",
   "execution_count": 9,
   "id": "5bea0c8c",
   "metadata": {},
   "outputs": [
    {
     "name": "stdout",
     "output_type": "stream",
     "text": [
      "backup\n",
      "codebuild-buildspec-221120.yml\n",
      "codebuild-buildspec.yml\n",
      "code_location.json\n",
      "CONTRIBUTING.md\n",
      "img\n",
      "LICENSE\n",
      "origin-sagemaker-pipelines-project.ipynb\n",
      "pipelines\n",
      "README.md\n",
      "sagemaker-pipelines-project.ipynb\n",
      "setup.cfg\n",
      "setup.py\n",
      "tests\n",
      "tox.ini\n"
     ]
    }
   ],
   "source": [
    "%%sh -s {repository_name} {source_code}\n",
    "repository_name=$1\n",
    "source_code=$2\n",
    "\n",
    "cp -r $source_code/* $repository_name\n",
    "ls $repository_name"
   ]
  },
  {
   "cell_type": "markdown",
   "id": "615f4589",
   "metadata": {},
   "source": [
    "# 6. 코드 파일을 리파지토리에 푸시"
   ]
  },
  {
   "cell_type": "code",
   "execution_count": 10,
   "id": "d705b938",
   "metadata": {},
   "outputs": [
    {
     "name": "stdout",
     "output_type": "stream",
     "text": [
      "/home/ec2-user/SageMaker/Neural-Collaborative-Filtering-On-SageMaker/3_MLOps/4_sm-train-codepipeline/ncf-train\n",
      "[master (root-commit) ff7056c] Add new files\n",
      " Committer: EC2 Default User <ec2-user@ip-172-16-47-148.ec2.internal>\n",
      "Your name and email address were configured automatically based\n",
      "on your username and hostname. Please check that they are accurate.\n",
      "You can suppress this message by setting them explicitly:\n",
      "\n",
      "    git config --global user.name \"Your Name\"\n",
      "    git config --global user.email you@example.com\n",
      "\n",
      "After doing this, you may fix the identity used for this commit with:\n",
      "\n",
      "    git commit --amend --reset-author\n",
      "\n",
      " 71 files changed, 7355 insertions(+)\n",
      " create mode 100644 CONTRIBUTING.md\n",
      " create mode 100644 LICENSE\n",
      " create mode 100644 README.md\n",
      " create mode 100644 backup/codebuild-buildspec-origin.yml\n",
      " create mode 100644 code_location.json\n",
      " create mode 100644 codebuild-buildspec-221120.yml\n",
      " create mode 100644 codebuild-buildspec.yml\n",
      " create mode 100644 img/pipeline-full.png\n",
      " create mode 100644 origin-sagemaker-pipelines-project.ipynb\n",
      " create mode 100644 pipelines/.ipynb_checkpoints/run_pipeline-checkpoint.py\n",
      " create mode 100644 pipelines/.ipynb_checkpoints/upload_code-checkpoint.py\n",
      " create mode 100644 pipelines/__init__.py\n",
      " create mode 100644 pipelines/__pycache__/__init__.cpython-38.pyc\n",
      " create mode 100644 pipelines/__version__.py\n",
      " create mode 100644 pipelines/_utils.py\n",
      " create mode 100644 pipelines/get_pipeline_definition.py\n",
      " create mode 100644 pipelines/ncf/.ipynb_checkpoints/code_location-checkpoint.json\n",
      " create mode 100644 pipelines/ncf/.ipynb_checkpoints/iam_repackage_model_artifact-checkpoint.py\n",
      " create mode 100644 pipelines/ncf/.ipynb_checkpoints/pipeline-checkpoint.py\n",
      " create mode 100644 pipelines/ncf/__init__.py\n",
      " create mode 100644 pipelines/ncf/__pycache__/__init__.cpython-38.pyc\n",
      " create mode 100644 pipelines/ncf/__pycache__/pipeline.cpython-38.pyc\n",
      " create mode 100644 pipelines/ncf/backup/.ipynb_checkpoints/iam_helper-checkpoint.py\n",
      " create mode 100644 pipelines/ncf/backup/.ipynb_checkpoints/lambda_helper-checkpoint.py\n",
      " create mode 100644 pipelines/ncf/backup/config.py\n",
      " create mode 100644 pipelines/ncf/backup/data_utils.py\n",
      " create mode 100644 pipelines/ncf/backup/evaluate.py\n",
      " create mode 100644 pipelines/ncf/backup/evaluation.py\n",
      " create mode 100644 pipelines/ncf/backup/iam_helper.py\n",
      " create mode 100644 pipelines/ncf/backup/inference.py\n",
      " create mode 100644 pipelines/ncf/backup/inference_utils.py\n",
      " create mode 100644 pipelines/ncf/backup/lambda_helper.py\n",
      " create mode 100644 pipelines/ncf/backup/model.py\n",
      " create mode 100644 pipelines/ncf/backup/pipeline_util.py\n",
      " create mode 100644 pipelines/ncf/backup/repackage.py\n",
      " create mode 100644 pipelines/ncf/backup/requirements.txt\n",
      " create mode 100644 pipelines/ncf/backup/train.py\n",
      " create mode 100644 pipelines/ncf/backup/train_lib.py\n",
      " create mode 100644 pipelines/ncf/backup/train_metric.py\n",
      " create mode 100644 pipelines/ncf/backup/train_pipeline.py\n",
      " create mode 100644 pipelines/ncf/code_location.json\n",
      " create mode 100644 pipelines/ncf/iam_repackage_model_artifact.py\n",
      " create mode 100644 pipelines/ncf/pipeline.py\n",
      " create mode 100644 pipelines/ncf/src/__init__.py\n",
      " create mode 100644 pipelines/ncf/src/__pycache__/common_utils.cpython-38.pyc\n",
      " create mode 100644 pipelines/ncf/src/code_pipeline_train_config.json\n",
      " create mode 100644 pipelines/ncf/src/common_utils.py\n",
      " create mode 100644 pipelines/ncf/src/config.py\n",
      " create mode 100644 pipelines/ncf/src/data_utils.py\n",
      " create mode 100644 pipelines/ncf/src/evaluate.py\n",
      " create mode 100644 pipelines/ncf/src/iam_change_model_approval.py\n",
      " create mode 100644 pipelines/ncf/src/iam_create_endpoint.py\n",
      " create mode 100644 pipelines/ncf/src/iam_helper.py\n",
      " create mode 100644 pipelines/ncf/src/inference.py\n",
      " create mode 100644 pipelines/ncf/src/inference_utils.py\n",
      " create mode 100644 pipelines/ncf/src/model.py\n",
      " create mode 100644 pipelines/ncf/src/model_config.json\n",
      " create mode 100644 pipelines/ncf/src/pipeline_util.py\n",
      " create mode 100644 pipelines/ncf/src/requirements.txt\n",
      " create mode 100644 pipelines/ncf/src/sm_pipeline_train_config.json\n",
      " create mode 100644 pipelines/ncf/src/source.tar.gz\n",
      " create mode 100644 pipelines/ncf/src/train.py\n",
      " create mode 100644 pipelines/ncf/src/train_lib.py\n",
      " create mode 100644 pipelines/run_pipeline.py\n",
      " create mode 100644 pipelines/upload_code.py\n",
      " create mode 100644 sagemaker-pipelines-project.ipynb\n",
      " create mode 100644 setup.cfg\n",
      " create mode 100644 setup.py\n",
      " create mode 100644 tests/.ipynb_checkpoints/test_pipelines-checkpoint.py\n",
      " create mode 100644 tests/test_pipelines.py\n",
      " create mode 100644 tox.ini\n"
     ]
    },
    {
     "name": "stderr",
     "output_type": "stream",
     "text": [
      "To https://git-codecommit.us-east-1.amazonaws.com/v1/repos/ncf-train\n",
      " * [new branch]      master -> master\n"
     ]
    }
   ],
   "source": [
    "%%sh -s {repository_name} \n",
    "repository_name=$1\n",
    "cd $repository_name\n",
    "echo $PWD\n",
    "git add .\n",
    "git commit -m\"Add new files\"\n",
    "git push origin master\n"
   ]
  },
  {
   "cell_type": "code",
   "execution_count": null,
   "id": "3bb6ff98",
   "metadata": {},
   "outputs": [],
   "source": []
  },
  {
   "cell_type": "code",
   "execution_count": null,
   "id": "91974793-2678-4c64-8c51-ffe022f81d8e",
   "metadata": {},
   "outputs": [],
   "source": []
  }
 ],
 "metadata": {
  "kernelspec": {
   "display_name": "conda_python3",
   "language": "python",
   "name": "conda_python3"
  },
  "language_info": {
   "codemirror_mode": {
    "name": "ipython",
    "version": 3
   },
   "file_extension": ".py",
   "mimetype": "text/x-python",
   "name": "python",
   "nbconvert_exporter": "python",
   "pygments_lexer": "ipython3",
   "version": "3.8.12"
  }
 },
 "nbformat": 4,
 "nbformat_minor": 5
}
