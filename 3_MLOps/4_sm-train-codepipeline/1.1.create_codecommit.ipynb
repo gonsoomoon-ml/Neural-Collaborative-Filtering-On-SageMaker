{
 "cells": [
  {
   "cell_type": "markdown",
   "id": "760b72d1",
   "metadata": {},
   "source": [
    "# [모듈 1.1] CodeCommit 리파지토리 생성"
   ]
  },
  {
   "cell_type": "markdown",
   "id": "ffd73daa",
   "metadata": {},
   "source": [
    "이 노트북은 CodeCommit 리파지토리를 생성하고, codecommit 폴더를 리파지토리에 Push 하는 노트북 입니다.\n",
    "\n",
    "## 참고 자료\n",
    "- [Quick guide to start using AWS CodeCommit via AWS CLI](https://dev.to/tiamatt/quick-guide-to-start-using-aws-codecommit-via-aws-cli-1jg5)\n",
    "- 개발자 가이드\n",
    "    - [Setup for HTTPS users using Git credentials](https://docs.aws.amazon.com/codecommit/latest/userguide/setting-up-gc.html)\n",
    "    - [Create an AWS CodeCommit repository](https://docs.aws.amazon.com/codecommit/latest/userguide/how-to-create-repository.html#how-to-create-repository-cli)\n",
    "    \n",
    "\n"
   ]
  },
  {
   "cell_type": "markdown",
   "id": "316af42a",
   "metadata": {},
   "source": [
    "# 1. 환경 확인"
   ]
  },
  {
   "cell_type": "code",
   "execution_count": null,
   "id": "ae7617b5-a8f8-4ebb-a9ec-93baa4395511",
   "metadata": {},
   "outputs": [],
   "source": [
    "%load_ext autoreload\n",
    "%autoreload 2\n",
    "\n",
    "import sys\n",
    "sys.path.append('./src')"
   ]
  },
  {
   "cell_type": "code",
   "execution_count": null,
   "id": "f893e231",
   "metadata": {},
   "outputs": [],
   "source": [
    "%%sh \n",
    "git --version"
   ]
  },
  {
   "cell_type": "code",
   "execution_count": null,
   "id": "651058df",
   "metadata": {},
   "outputs": [],
   "source": [
    "%%sh\n",
    "aws --version"
   ]
  },
  {
   "cell_type": "markdown",
   "id": "263897a1",
   "metadata": {},
   "source": [
    "# 2. 파라미터 로딩"
   ]
  },
  {
   "cell_type": "code",
   "execution_count": null,
   "id": "b87d555d-74b1-4cd9-b5fa-c20faa47db93",
   "metadata": {},
   "outputs": [],
   "source": [
    "%store -r code_pipeline_train_config_json_path\n",
    "\n",
    "from common_utils import load_json\n",
    "\n",
    "code_pipeline_train_dict = load_json(code_pipeline_train_config_json_path)\n",
    "\n",
    "import json\n",
    "print (json.dumps(code_pipeline_train_dict, indent=2))\n",
    "\n",
    "code_pipeline_train_repository_name = code_pipeline_train_dict[\"train_code_repo_name\"]"
   ]
  },
  {
   "cell_type": "code",
   "execution_count": null,
   "id": "47068ba3",
   "metadata": {},
   "outputs": [],
   "source": [
    "\n",
    "source_code = 'codecommit'\n"
   ]
  },
  {
   "cell_type": "markdown",
   "id": "d114ef17",
   "metadata": {},
   "source": [
    "# 3.리파지토리 생성"
   ]
  },
  {
   "cell_type": "code",
   "execution_count": null,
   "id": "1fb3c07e",
   "metadata": {},
   "outputs": [],
   "source": [
    "%%sh -s {code_pipeline_train_repository_name}\n",
    "repository_name=$1\n",
    "aws codecommit create-repository --repository-name $repository_name \\\n",
    "--repository-description \"My demonstration repository\" "
   ]
  },
  {
   "cell_type": "markdown",
   "id": "ec6a1ea0",
   "metadata": {},
   "source": [
    "# 4. 리파지토리 로컬에 클로닝\n",
    "### 아래를 위의 결과에서 카피해서 대체 해주세요.\n",
    "#### clone_url =  \"https://git-codecommit.us-east-1.amazonaws.com/v1/repos/mlops-ncf\"\n"
   ]
  },
  {
   "cell_type": "code",
   "execution_count": null,
   "id": "f0810cb6",
   "metadata": {},
   "outputs": [],
   "source": [
    "clone_url =  \"https://git-codecommit.us-east-1.amazonaws.com/v1/repos/ncf-training-repo\"\n",
    "# clone_url = \"<Clone URL>\""
   ]
  },
  {
   "cell_type": "code",
   "execution_count": null,
   "id": "57acab15",
   "metadata": {},
   "outputs": [],
   "source": [
    "%%sh -s {clone_url} {code_pipeline_train_repository_name}\n",
    "\n",
    "clone_url=$1\n",
    "repository_name=$2\n",
    "\n",
    "rm -rf $repository_name\n",
    "\n",
    "git clone $clone_url "
   ]
  },
  {
   "cell_type": "markdown",
   "id": "2d866112",
   "metadata": {},
   "source": [
    "# 5. 소스 코드 복사"
   ]
  },
  {
   "cell_type": "code",
   "execution_count": null,
   "id": "5bea0c8c",
   "metadata": {},
   "outputs": [],
   "source": [
    "%%sh -s {code_pipeline_train_repository_name} {source_code}\n",
    "repository_name=$1\n",
    "source_code=$2\n",
    "\n",
    "cp -r $source_code/* $repository_name\n",
    "ls $repository_name"
   ]
  },
  {
   "cell_type": "markdown",
   "id": "615f4589",
   "metadata": {},
   "source": [
    "# 6. 코드 파일을 리파지토리에 푸시"
   ]
  },
  {
   "cell_type": "code",
   "execution_count": null,
   "id": "d705b938",
   "metadata": {},
   "outputs": [],
   "source": [
    "%%sh -s {code_pipeline_train_repository_name} \n",
    "repository_name=$1\n",
    "cd $repository_name\n",
    "echo $PWD\n",
    "git add .\n",
    "git commit -m\"Add new files\"\n",
    "git push origin master\n"
   ]
  },
  {
   "cell_type": "markdown",
   "id": "0c63d27a-cd59-4280-a0e2-5fb29d4462d1",
   "metadata": {},
   "source": [
    "# 7. 변수 저장"
   ]
  },
  {
   "cell_type": "code",
   "execution_count": null,
   "id": "50d2702f-757d-4494-ba78-dd76386ae7a6",
   "metadata": {},
   "outputs": [],
   "source": [
    "training_repository_name = repository_name\n",
    "%store training_repository_name"
   ]
  },
  {
   "cell_type": "markdown",
   "id": "f0a58450-7bd0-42fc-8080-1b3924ef09c7",
   "metadata": {},
   "source": [
    "# 8. Code Commit 생성 확인\n",
    "- Code Commit 콘솔에서 확인 하세요."
   ]
  },
  {
   "cell_type": "markdown",
   "id": "8af3e740-e08e-403f-8b7d-c6057722f606",
   "metadata": {},
   "source": [
    "![ncf_code_commit.png](img/ncf_code_commit.png)"
   ]
  },
  {
   "cell_type": "code",
   "execution_count": null,
   "id": "ede1ea8a-03a9-4d9f-866c-bbf5ba72c04b",
   "metadata": {},
   "outputs": [],
   "source": []
  }
 ],
 "metadata": {
  "kernelspec": {
   "display_name": "conda_python3",
   "language": "python",
   "name": "conda_python3"
  },
  "language_info": {
   "codemirror_mode": {
    "name": "ipython",
    "version": 3
   },
   "file_extension": ".py",
   "mimetype": "text/x-python",
   "name": "python",
   "nbconvert_exporter": "python",
   "pygments_lexer": "ipython3",
   "version": "3.8.12"
  }
 },
 "nbformat": 4,
 "nbformat_minor": 5
}
