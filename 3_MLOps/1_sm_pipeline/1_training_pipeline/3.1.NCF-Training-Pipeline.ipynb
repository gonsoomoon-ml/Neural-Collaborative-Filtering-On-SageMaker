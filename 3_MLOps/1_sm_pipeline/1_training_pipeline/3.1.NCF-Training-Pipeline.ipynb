{
 "cells": [
  {
   "cell_type": "markdown",
   "metadata": {
    "tags": []
   },
   "source": [
    "# [모듈 3.1] NCF 훈련 파이프라인\n",
    "\n",
    "이 노트북은 아래와 같은 목차로 진행 됩니다. 전체를 모두 실행시에 완료 시간은 **약 5분** 소요 됩니다.\n",
    "\n",
    "- 0. SageMaker Model Building Pipeline 개요\n",
    "- 1. 파이프라인 변수 및 환경 설정\n",
    "- 2. 파이프라인 스텝 단계 정의\n",
    "\n",
    "    - (1) 모델 승인 상태 변경 람다 스텝    \n",
    "    - (2) 배포할 세이지 메이커 모델 스텝 생성\n",
    "    - (3) 모델 앤드 포인트 배포를 위한 람다 스텝 생성    \n",
    "    \n",
    "- 3. 모델 빌딩 파이프라인 정의 및 실행\n",
    "- 4. Pipleline 캐싱 및 파라미터 이용한 실행\n",
    "- 5. 정리 작업\n",
    "    \n",
    "---"
   ]
  },
  {
   "cell_type": "markdown",
   "metadata": {},
   "source": [
    "# 1. 파이프라인 변수 및 환경 설정\n",
    "\n"
   ]
  },
  {
   "cell_type": "code",
   "execution_count": 2,
   "metadata": {},
   "outputs": [],
   "source": [
    "%load_ext autoreload\n",
    "%autoreload 2\n",
    "\n",
    "# src 폴더 경로 설정\n",
    "import sys\n",
    "sys.path.append('./src')"
   ]
  },
  {
   "cell_type": "code",
   "execution_count": 3,
   "metadata": {},
   "outputs": [
    {
     "name": "stdout",
     "output_type": "stream",
     "text": [
      "bucket:  sagemaker-us-east-1-057716757052\n",
      "role:  arn:aws:iam::057716757052:role/mlops-blog-ncf-gsmoon\n"
     ]
    }
   ],
   "source": [
    "import boto3\n",
    "import sagemaker\n",
    "import pandas as pd\n",
    "\n",
    "region = boto3.Session().region_name\n",
    "sagemaker_session = sagemaker.session.Session()\n",
    "role = sagemaker.get_execution_role()\n",
    "bucket = sagemaker.Session().default_bucket()\n",
    "\n",
    "print(\"bucket: \", bucket)\n",
    "print(\"role: \", role)\n",
    "\n",
    "sm_client = boto3.client('sagemaker', region_name=region)\n",
    "\n",
    "%store -r model_package_group_name"
   ]
  },
  {
   "cell_type": "code",
   "execution_count": 4,
   "metadata": {},
   "outputs": [],
   "source": [
    "%store -r inference_docker_image\n",
    "# %store -r artifact_path\n",
    "%store -r s3_input_data_uri\n",
    "%store -r byom_artifact\n",
    "%store -r bucket\n",
    "%store -r prefix\n",
    "%store -r artifact_path"
   ]
  },
  {
   "cell_type": "code",
   "execution_count": 5,
   "metadata": {},
   "outputs": [
    {
     "name": "stdout",
     "output_type": "stream",
     "text": [
      "s3_input_data_uri: \n",
      " s3://sagemaker-us-east-1-057716757052/NCFModel/data\n",
      "bucket: \n",
      " sagemaker-us-east-1-057716757052\n",
      "prefix: \n",
      " NCFModel\n"
     ]
    }
   ],
   "source": [
    "print(\"s3_input_data_uri: \\n\", s3_input_data_uri)\n",
    "print(\"bucket: \\n\", bucket)\n",
    "print(\"prefix: \\n\", prefix)"
   ]
  },
  {
   "cell_type": "code",
   "execution_count": 6,
   "metadata": {},
   "outputs": [],
   "source": [
    "project_prefix = prefix"
   ]
  },
  {
   "cell_type": "markdown",
   "metadata": {
    "tags": []
   },
   "source": [
    "---\n",
    "# 2. 패키징 코드\n",
    "- 패키징할 폴더 생성\n",
    "- 추론 코드의 폴더 지정 후에 패키징 폴더에 복사\n",
    "- 패키징 폴더를 source.tar.gz 압축 후에 S3에 업로딩\n",
    "- \n",
    "\n"
   ]
  },
  {
   "cell_type": "markdown",
   "metadata": {},
   "source": [
    "## 2.1. src 폴더를 source.tar.gz 로 압축"
   ]
  },
  {
   "cell_type": "code",
   "execution_count": 7,
   "metadata": {},
   "outputs": [],
   "source": [
    "import os\n",
    "\n",
    "package_dir = 'code_pkg'\n",
    "os.makedirs(package_dir, exist_ok=True)\n"
   ]
  },
  {
   "cell_type": "code",
   "execution_count": 8,
   "metadata": {},
   "outputs": [],
   "source": [
    "code_dir = '../src'"
   ]
  },
  {
   "cell_type": "code",
   "execution_count": 9,
   "metadata": {},
   "outputs": [
    {
     "name": "stdout",
     "output_type": "stream",
     "text": [
      "/home/ec2-user/SageMaker/Neural-Collaborative-Filtering-On-SageMaker/3_MLOps/1_sm_pipeline/1_training_pipeline/code_pkg\n",
      "back-iam_repackage_model_artifact.py\n",
      "config.py\n",
      "data_utils.py\n",
      "evaluate.py\n",
      "evaluation.py\n",
      "iam_helper.py\n",
      "iam_repackage_model_artifact.py\n",
      "inference.py\n",
      "inference_utils.py\n",
      "lambda_helper.py\n",
      "model.py\n",
      "pipeline_util.py\n",
      "repackage.py\n",
      "requirements.txt\n",
      "train_lib.py\n",
      "train_metric.py\n",
      "train_pipeline.py\n",
      "train.py\n"
     ]
    }
   ],
   "source": [
    "%%sh -s {package_dir} {code_dir}\n",
    "\n",
    "package_dir=$1\n",
    "code_dir=$2\n",
    "\n",
    "cd $package_dir # 폴더 생성\n",
    "echo $PWD\n",
    "rm -rf ./*\n",
    "cp -r $code_dir/*.py  .  # src py 모두 카피\n",
    "cp -r $code_dir/*.txt  .  # src 파일 모두 카피\n",
    "tar -czvf source.tar.gz * # model.tar.gz 파일 생성"
   ]
  },
  {
   "cell_type": "markdown",
   "metadata": {},
   "source": [
    "## 2.2. S3 에 업로드"
   ]
  },
  {
   "cell_type": "code",
   "execution_count": 10,
   "metadata": {},
   "outputs": [
    {
     "name": "stdout",
     "output_type": "stream",
     "text": [
      "bucket:  sagemaker-us-east-1-057716757052\n",
      "source_artifact: \n",
      " s3://sagemaker-us-east-1-057716757052/ncf/code/source.tar.gz\n"
     ]
    }
   ],
   "source": [
    "import sagemaker\n",
    "sagemaker_session  = sagemaker.session.Session()\n",
    "prefix='ncf/code'\n",
    "bucket = sagemaker.session.Session().default_bucket()\n",
    "print(\"bucket: \", bucket)\n",
    "\n",
    "source_path = os.path.join(package_dir, 'source.tar.gz')\n",
    "source_artifact = sagemaker_session.upload_data(source_path, bucket, prefix)\n",
    "print(\"source_artifact: \\n\", source_artifact)"
   ]
  },
  {
   "cell_type": "markdown",
   "metadata": {},
   "source": [
    "### 모델 아피텍트 위치 확인"
   ]
  },
  {
   "cell_type": "code",
   "execution_count": 11,
   "metadata": {},
   "outputs": [
    {
     "name": "stdout",
     "output_type": "stream",
     "text": [
      "artifact_path: \n",
      " s3://sagemaker-us-east-1-057716757052/pytorch-training-2022-10-14-13-19-13-618/output/model.tar.gz\n"
     ]
    }
   ],
   "source": [
    "print(\"artifact_path: \\n\", artifact_path)"
   ]
  },
  {
   "cell_type": "markdown",
   "metadata": {},
   "source": [
    "# 3. 세이지 메이커 파이프라인 생성"
   ]
  },
  {
   "cell_type": "markdown",
   "metadata": {
    "tags": []
   },
   "source": [
    "## 3.1. 모델 빌딩 파이프라인 변수 및 세션 생성\n",
    "\n",
    "파이프라인에 인자로 넘길 변수는 아래 크게 3가지 종류가 있습니다.\n",
    "- 모델 레지스트리에 모델 등록시에 모델 승인 상태 값    \n"
   ]
  },
  {
   "cell_type": "code",
   "execution_count": 12,
   "metadata": {},
   "outputs": [],
   "source": [
    "from sagemaker.workflow.parameters import (\n",
    "    ParameterInteger,\n",
    "    ParameterString,\n",
    "    ParameterFloat,\n",
    ")\n",
    "\n",
    "# 입력 데이터\n",
    "s3_data_loc = ParameterString(\n",
    "    name=\"InputData\",\n",
    "    default_value=s3_input_data_uri,\n",
    ")\n",
    "\n",
    "\n",
    "model_approval_status = ParameterString(\n",
    "    name=\"ModelApprovalStatus\", default_value=\"PendingManualApproval\"\n",
    ")\n"
   ]
  },
  {
   "cell_type": "markdown",
   "metadata": {},
   "source": [
    "### 3.1.1 로컬 모드 설정 \n",
    "- 로컬 모드 사용을 위해서는 Estimator, Pipeline() 오브젝트 생성시에 인자로서 sagemaker_session 에 LocalPipelineSession() 를 할당해야 합니다.\n",
    "- 모델 훈련 스텝은 로컬 모드가 가능합니다. \n",
    "    - 람다 스텝, 모델 등록 스텝은 지원을 하지 않음.\n",
    "- Tip : 노트북 하단에서 Pipeline() 를 선언시에 steps 부분을 주석 처리하면서 사용하세요.\n",
    "``` python\n",
    "pipeline = Pipeline(\n",
    "    name=pipeline_name,\n",
    "    parameters=[\n",
    "        s3_data_loc,                \n",
    "        model_approval_status,        \n",
    "    ],\n",
    "    sagemaker_session=pipeline_session,\n",
    "    steps=[step_train],    # 로컬 모드 사용시\n",
    "#   steps=[step_train, step_repackage_lambda, step_model_registration],\n",
    "```"
   ]
  },
  {
   "cell_type": "code",
   "execution_count": 13,
   "metadata": {},
   "outputs": [
    {
     "name": "stdout",
     "output_type": "stream",
     "text": [
      "### --> Cloud Mode\n"
     ]
    }
   ],
   "source": [
    "# LOCAL_MODE = True # 로컬 모드시 사용\n",
    "LOCAL_MODE = False # 클라우드 모드시 사용\n",
    "if LOCAL_MODE:\n",
    "    from sagemaker.workflow.pipeline_context import LocalPipelineSession\n",
    "    pipeline_session = LocalPipelineSession()\n",
    "    print(\"### --> Local Mode\")\n",
    "else:\n",
    "    from sagemaker.workflow.pipeline_context import PipelineSession\n",
    "    pipeline_session = PipelineSession()\n",
    "    print(\"### --> Cloud Mode\")    "
   ]
  },
  {
   "cell_type": "markdown",
   "metadata": {},
   "source": [
    "## 3.2. 파이프라인 스텝 단계 정의"
   ]
  },
  {
   "cell_type": "markdown",
   "metadata": {},
   "source": [
    "### 3.2.1 모델 훈련 스텝"
   ]
  },
  {
   "cell_type": "markdown",
   "metadata": {},
   "source": [
    "####  하이퍼파라미터 세팅"
   ]
  },
  {
   "cell_type": "code",
   "execution_count": 14,
   "metadata": {},
   "outputs": [],
   "source": [
    "host_hyperparameters = {'epochs': 1, \n",
    "                       'lr': 0.001,\n",
    "                       'batch_size': 256,\n",
    "                       'top_k' : 10,\n",
    "                       'dropout' : 0.0,\n",
    "                       'factor_num' : 32,\n",
    "                       'num_layers' : 3,\n",
    "                       'num_ng' : 4,\n",
    "                       'test_num_ng' : 99,                   \n",
    "                    }  "
   ]
  },
  {
   "cell_type": "markdown",
   "metadata": {
    "tags": []
   },
   "source": [
    "#### 훈련 메트릭을 CloudWatch 에서 보기\n",
    "- 개발자 가이드\n",
    "    - [Monitor and Analyze Training Jobs Using Amazon CloudWatch ](https://docs.amazonaws.cn/en_us/sagemaker/latest/dg/training-metrics.html#define-train-metrics)"
   ]
  },
  {
   "cell_type": "code",
   "execution_count": 15,
   "metadata": {},
   "outputs": [],
   "source": [
    "metric_definitions=[\n",
    "       {'Name': 'HR', 'Regex': 'HR=(.*?);'},\n",
    "       {'Name': 'NDCG', 'Regex': 'NDCG=(.*?);'},\n",
    "       {'Name': 'Loss', 'Regex': 'Loss=(.*?);'}        \n",
    "    ]\n"
   ]
  },
  {
   "cell_type": "markdown",
   "metadata": {},
   "source": [
    "####  Estimator 생성\n",
    "\n",
    "Estimator 생성시에 인자가 필요 합니다. 주요한 인자만 보겠습니다.\n"
   ]
  },
  {
   "cell_type": "code",
   "execution_count": 16,
   "metadata": {},
   "outputs": [
    {
     "name": "stdout",
     "output_type": "stream",
     "text": [
      "estimator_output_path: \n",
      " s3://sagemaker-us-east-1-057716757052/NCFModel/training_jobs\n"
     ]
    }
   ],
   "source": [
    "from sagemaker.pytorch import PyTorch\n",
    "\n",
    "estimator_output_path = f's3://{bucket}/{project_prefix}/training_jobs'\n",
    "print(\"estimator_output_path: \\n\", estimator_output_path)\n",
    "\n",
    "\n",
    "instance_type = 'ml.p3.2xlarge'\n",
    "instance_count = 1\n",
    "\n",
    "host_estimator = PyTorch(\n",
    "    entry_point=\"train.py\",    \n",
    "    source_dir='src',    \n",
    "    role=role,\n",
    "    output_path = estimator_output_path,    \n",
    "    framework_version='1.8.1',\n",
    "    py_version='py3',\n",
    "    disable_profiler = True,\n",
    "    instance_count=instance_count,\n",
    "    instance_type=instance_type,\n",
    "    session = pipeline_session,\n",
    "    hyperparameters=host_hyperparameters,\n",
    "    metric_definitions = metric_definitions\n",
    "    \n",
    ")\n",
    "# host_estimator.fit(s3_inputs, \n",
    "#                    experiment_config = experiment_config, # 실험 설정 제공                   \n",
    "#                    wait=False)"
   ]
  },
  {
   "cell_type": "markdown",
   "metadata": {},
   "source": [
    "#### 모델 훈련 스탭 생성\n"
   ]
  },
  {
   "cell_type": "code",
   "execution_count": 17,
   "metadata": {},
   "outputs": [],
   "source": [
    "from sagemaker.inputs import TrainingInput\n",
    "from sagemaker.workflow.steps import TrainingStep\n",
    "\n",
    "\n",
    "step_train = TrainingStep(\n",
    "    name= \"NCF-Training\",\n",
    "    estimator=host_estimator,\n",
    "    inputs={\n",
    "        \"train\": TrainingInput(\n",
    "            s3_data= s3_data_loc\n",
    "        ),\n",
    "        \"test\": TrainingInput(\n",
    "            s3_data= s3_data_loc\n",
    "        ),        \n",
    "    }\n",
    ")"
   ]
  },
  {
   "cell_type": "markdown",
   "metadata": {},
   "source": [
    "### 3.2.2 모델 아티펙트 리패키징 람다 스텝 정의"
   ]
  },
  {
   "cell_type": "markdown",
   "metadata": {},
   "source": [
    "####  람다 Role 생성"
   ]
  },
  {
   "cell_type": "code",
   "execution_count": 18,
   "metadata": {},
   "outputs": [
    {
     "name": "stdout",
     "output_type": "stream",
     "text": [
      "Using ARN from existing role: lambda-deployment-role\n",
      "lambda_role: \n",
      " arn:aws:iam::057716757052:role/lambda-deployment-role\n"
     ]
    }
   ],
   "source": [
    "from src.iam_helper import create_lambda_role\n",
    "\n",
    "lambda_role = create_lambda_role(\"lambda-deployment-role\")\n",
    "print(\"lambda_role: \\n\", lambda_role)"
   ]
  },
  {
   "cell_type": "markdown",
   "metadata": {},
   "source": [
    "#### 람다 스텝 정의"
   ]
  },
  {
   "cell_type": "code",
   "execution_count": 19,
   "metadata": {},
   "outputs": [
    {
     "name": "stdout",
     "output_type": "stream",
     "text": [
      "function_name: \n",
      " sagemaker-lambda-step-repackage-model-artifact\n"
     ]
    }
   ],
   "source": [
    "from sagemaker.lambda_helper import Lambda\n",
    "from sagemaker.workflow.lambda_step import (\n",
    "    LambdaStep,\n",
    "    LambdaOutput,\n",
    "    LambdaOutputTypeEnum,\n",
    ")\n",
    "\n",
    "# import time \n",
    "# current_time = time.strftime(\"%m-%d-%H-%M-%S\", time.localtime())\n",
    "# function_name = \"sagemaker-lambda-step-approve-model-deployment-\" + current_time\n",
    "function_name = \"sagemaker-lambda-step-repackage-model-artifact\"\n",
    "\n",
    "print(\"function_name: \\n\", function_name)\n",
    "# Lambda helper class can be used to create the Lambda function\n",
    "func_repackage_model = Lambda(\n",
    "    function_name=function_name,\n",
    "    execution_role_arn=lambda_role,\n",
    "    script=\"src/iam_repackage_model_artifact.py\",\n",
    "    handler=\"iam_repackage_model_artifact.lambda_handler\",\n",
    ")\n",
    "\n",
    "output_param_1 = LambdaOutput(output_name=\"statusCode\", output_type=LambdaOutputTypeEnum.String)\n",
    "output_param_2 = LambdaOutput(output_name=\"body\", output_type=LambdaOutputTypeEnum.String)\n",
    "output_param_3 = LambdaOutput(output_name=\"S3_Model_URI\", output_type=LambdaOutputTypeEnum.String)\n",
    "\n",
    "step_repackage_lambda = LambdaStep(\n",
    "    name=\"LambdaRepackageStep\",\n",
    "    lambda_func=func_repackage_model,\n",
    "    inputs={\n",
    "        \"source_path\" : source_artifact,\n",
    "        \"model_path\": step_train.properties.ModelArtifacts.S3ModelArtifacts,\n",
    "#        \"model_path\": artifact_path,        \n",
    "        \"bucket\" : bucket,\n",
    "        \"prefix\" : \"ncf/repackage/model\"\n",
    "    },\n",
    "    outputs=[output_param_1, output_param_2, output_param_3],\n",
    ")\n"
   ]
  },
  {
   "cell_type": "markdown",
   "metadata": {},
   "source": [
    "### 3.2.3 모델 등록 스텝"
   ]
  },
  {
   "cell_type": "markdown",
   "metadata": {},
   "source": [
    "#### 모델 그룹 생성\n",
    "\n",
    "- 참고\n",
    "    - 모델 그룹 릭스팅 API:  [ListModelPackageGroups](https://docs.aws.amazon.com/sagemaker/latest/APIReference/API_ListModelPackageGroups.html)\n",
    "    - 모델 지표 등록: [Model Quality Metrics](https://docs.aws.amazon.com/ko_kr/sagemaker/latest/dg/model-monitor-model-quality-metrics.html)"
   ]
  },
  {
   "cell_type": "code",
   "execution_count": 20,
   "metadata": {
    "tags": []
   },
   "outputs": [
    {
     "name": "stdout",
     "output_type": "stream",
     "text": [
      "NCFModel exitss\n"
     ]
    }
   ],
   "source": [
    "model_package_group_name = f\"NCFModel\"\n",
    "model_package_group_input_dict = {\n",
    " \"ModelPackageGroupName\" : model_package_group_name,\n",
    " \"ModelPackageGroupDescription\" : \"Sample model package group\"\n",
    "}\n",
    "response = sm_client.list_model_package_groups(NameContains=model_package_group_name)\n",
    "if len(response['ModelPackageGroupSummaryList']) == 0:\n",
    "    print(\"No model group exists\")\n",
    "    print(\"Create model group\")    \n",
    "    \n",
    "    create_model_pacakge_group_response = sm_client.create_model_package_group(**model_package_group_input_dict)\n",
    "    print('ModelPackageGroup Arn : {}'.format(create_model_pacakge_group_response['ModelPackageGroupArn']))    \n",
    "else:\n",
    "    print(f\"{model_package_group_name} exitss\")"
   ]
  },
  {
   "cell_type": "markdown",
   "metadata": {},
   "source": [
    "#### 모델 등록 스텝 정의"
   ]
  },
  {
   "cell_type": "code",
   "execution_count": 21,
   "metadata": {},
   "outputs": [
    {
     "name": "stdout",
     "output_type": "stream",
     "text": [
      "CPU times: user 2.48 ms, sys: 416 µs, total: 2.89 ms\n",
      "Wall time: 2.4 ms\n"
     ]
    },
    {
     "name": "stderr",
     "output_type": "stream",
     "text": [
      "/home/ec2-user/anaconda3/envs/python3/lib/python3.8/site-packages/sagemaker/workflow/pipeline_context.py:233: UserWarning: Running within a PipelineSession, there will be No Wait, No Logs, and No Job being started.\n",
      "  warnings.warn(\n"
     ]
    }
   ],
   "source": [
    "%%time \n",
    "\n",
    "from sagemaker.workflow.model_step import ModelStep\n",
    "\n",
    "\n",
    "from sagemaker.model import Model\n",
    "\n",
    "image_uri = '763104351884.dkr.ecr.us-east-1.amazonaws.com/pytorch-training:1.8.1-gpu-py3'\n",
    "# model_data = 's3://sagemaker-us-east-1-057716757052/repackage_model_artifact-2022-10-23-05-43-28-940/output/repackage/model.tar.gz'\n",
    "\n",
    "model = Model(\n",
    "    image_uri=image_uri,\n",
    "    model_data = step_repackage_lambda.properties.Outputs[\"S3_Model_URI\"],\n",
    "    role=role,\n",
    "    sagemaker_session=pipeline_session,\n",
    ")\n",
    "\n",
    "\n",
    "register_model_step_args = model.register(\n",
    "    content_types=[\"text/csv\"],\n",
    "    response_types=[\"text/csv\"],\n",
    "    inference_instances=[\"ml.g4dn.xlarge\", \"ml.p2.xlarge\"],\n",
    "    transform_instances=[\"ml.g4dn.xlarge\"],\n",
    "    model_package_group_name=model_package_group_name,\n",
    "    # approval_status=model_approval_status,\n",
    ")\n",
    "\n",
    "step_model_registration = ModelStep(\n",
    "   name=\"RegisterModel\",\n",
    "   step_args=register_model_step_args,\n",
    ")"
   ]
  },
  {
   "cell_type": "markdown",
   "metadata": {},
   "source": [
    "# 4.모델 빌딩 파이프라인 정의 및 실행\n",
    "위에서 정의한 아래의 4개의 스텝으로 파이프라인 정의를 합니다.\n",
    "-     steps=[step_process, step_train, step_create_model, step_deploy],\n",
    "- 아래는 약 1분 정도 소요 됩니다.  이후 아래와 같이 실행 결과를 스튜디오에서 확인할 수 있습니다.\n",
    "\n",
    "\n",
    "- ![deployment-pipeline.png](img/deployment-pipeline.png)"
   ]
  },
  {
   "cell_type": "code",
   "execution_count": 24,
   "metadata": {},
   "outputs": [],
   "source": [
    "from sagemaker.workflow.pipeline import Pipeline\n",
    "\n",
    "project_prefix = 'ncf-pipeline-nb'\n",
    "\n",
    "pipeline_name = project_prefix\n",
    "pipeline = Pipeline(\n",
    "    name=pipeline_name,\n",
    "    parameters=[\n",
    "        s3_data_loc,                \n",
    "        model_approval_status,        \n",
    "    ],\n",
    "    sagemaker_session=pipeline_session,\n",
    "#    steps=[step_train],    \n",
    "    steps=[step_train, step_repackage_lambda, step_model_registration],\n",
    "\n",
    ")\n",
    "\n"
   ]
  },
  {
   "cell_type": "markdown",
   "metadata": {},
   "source": [
    "### 파이프라인을 SageMaker에 제출하고 실행하기 \n"
   ]
  },
  {
   "cell_type": "code",
   "execution_count": 25,
   "metadata": {
    "tags": []
   },
   "outputs": [],
   "source": [
    "import json\n",
    "\n",
    "definition = json.loads(pipeline.definition())\n",
    "# print(\" definition : \\n\", definition)\n",
    "pipeline.upsert(role_arn=role)\n",
    "execution = pipeline.start()"
   ]
  },
  {
   "cell_type": "markdown",
   "metadata": {},
   "source": [
    "### 파이프라인 운영: 파이프라인 대기 및 실행상태 확인\n",
    "\n",
    "워크플로우의 실행상황을 살펴봅니다. "
   ]
  },
  {
   "cell_type": "markdown",
   "metadata": {},
   "source": [
    "실행이 완료될 때까지 기다립니다."
   ]
  },
  {
   "cell_type": "code",
   "execution_count": 26,
   "metadata": {},
   "outputs": [],
   "source": [
    "execution.wait()"
   ]
  },
  {
   "cell_type": "markdown",
   "metadata": {},
   "source": [
    "실행된 단계들을 리스트업합니다. 파이프라인의 단계실행 서비스에 의해 시작되거나 완료된 단계를 보여줍니다."
   ]
  },
  {
   "cell_type": "code",
   "execution_count": 27,
   "metadata": {},
   "outputs": [
    {
     "data": {
      "text/plain": [
       "[{'StepName': 'RegisterModel-RegisterModel',\n",
       "  'StartTime': datetime.datetime(2022, 11, 13, 5, 38, 58, 170000, tzinfo=tzlocal()),\n",
       "  'EndTime': datetime.datetime(2022, 11, 13, 5, 38, 59, 288000, tzinfo=tzlocal()),\n",
       "  'StepStatus': 'Succeeded',\n",
       "  'AttemptCount': 0,\n",
       "  'Metadata': {'RegisterModel': {'Arn': 'arn:aws:sagemaker:us-east-1:057716757052:model-package/ncfmodel/33'}}},\n",
       " {'StepName': 'LambdaRepackageStep',\n",
       "  'StartTime': datetime.datetime(2022, 11, 13, 5, 38, 45, 110000, tzinfo=tzlocal()),\n",
       "  'EndTime': datetime.datetime(2022, 11, 13, 5, 38, 57, 248000, tzinfo=tzlocal()),\n",
       "  'StepStatus': 'Succeeded',\n",
       "  'AttemptCount': 0,\n",
       "  'Metadata': {'Lambda': {'Arn': 'arn:aws:lambda:us-east-1:057716757052:function:sagemaker-lambda-step-repackage-model-artifact',\n",
       "    'OutputParameters': [{'Name': 'body', 'Value': '\"Repackaging is Done\"'},\n",
       "     {'Name': 'S3_Model_URI',\n",
       "      'Value': 's3://sagemaker-us-east-1-057716757052/ncf/repackage/model/model.tar.gz'},\n",
       "     {'Name': 'statusCode', 'Value': '200.0'}]}}},\n",
       " {'StepName': 'NCF-Training',\n",
       "  'StartTime': datetime.datetime(2022, 11, 13, 5, 28, 16, 829000, tzinfo=tzlocal()),\n",
       "  'EndTime': datetime.datetime(2022, 11, 13, 5, 38, 44, 51000, tzinfo=tzlocal()),\n",
       "  'StepStatus': 'Succeeded',\n",
       "  'AttemptCount': 0,\n",
       "  'Metadata': {'TrainingJob': {'Arn': 'arn:aws:sagemaker:us-east-1:057716757052:training-job/pipelines-nlm1wjo2xzn7-ncf-training-kfkrl3enrg'}}}]"
      ]
     },
     "execution_count": 27,
     "metadata": {},
     "output_type": "execute_result"
    }
   ],
   "source": [
    "execution.list_steps()"
   ]
  },
  {
   "cell_type": "markdown",
   "metadata": {},
   "source": [
    "# 5. 정리 작업\n"
   ]
  },
  {
   "cell_type": "code",
   "execution_count": null,
   "metadata": {},
   "outputs": [],
   "source": [
    "# step_approve_lambda.properties.Outputs[\"other_key\"]\n",
    "# execution.list_steps()[1]['Metadata']['Lambda']['OutputParameters'][0]['Value']"
   ]
  },
  {
   "cell_type": "code",
   "execution_count": null,
   "metadata": {},
   "outputs": [],
   "source": []
  }
 ],
 "metadata": {
  "instance_type": "ml.m5.large",
  "kernelspec": {
   "display_name": "conda_python3",
   "language": "python",
   "name": "conda_python3"
  },
  "language_info": {
   "codemirror_mode": {
    "name": "ipython",
    "version": 3
   },
   "file_extension": ".py",
   "mimetype": "text/x-python",
   "name": "python",
   "nbconvert_exporter": "python",
   "pygments_lexer": "ipython3",
   "version": "3.8.12"
  }
 },
 "nbformat": 4,
 "nbformat_minor": 4
}
