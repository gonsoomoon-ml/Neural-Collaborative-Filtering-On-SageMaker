{
 "cells": [
  {
   "cell_type": "markdown",
   "metadata": {
    "tags": []
   },
   "source": [
    "# [모듈 2.1] NCF 훈련 파이프라인\n",
    "\n",
    "이 노트북은 아래와 같은 목차로 진행 됩니다. 전체를 모두 실행시에 완료 시간은 **약 15분** 소요 됩니다.\n",
    "\n",
    "- 0. 배포를 위한 모델 아티펙트 형태\n",
    "- 1. 환경 설정\n",
    "- 2. 패키징 코드\n",
    "- 3. 세이지 메이커 파이프라인 생성\n",
    "    - 모델 훈련 스텝\n",
    "    - 모델 아티펙트 리패키징 람다 스텝 정의\n",
    "    - 모델 등록 스텝\n",
    "- 4.모델 빌딩 파이프라인 정의 및 실행\n",
    "- 5.Pipeline 캐싱 및 파라미터 이용한 실행\n",
    "    \n",
    "---"
   ]
  },
  {
   "cell_type": "markdown",
   "metadata": {},
   "source": [
    "# 0. 배포를 위한 모델 아티펙트 형태\n",
    "- 훈련을 통해서 만들어진 모델 아티펙트 (model.tar.gz) 는 기본적으로 모델 가중치 파일만이 존재합니다. (예: 파이토치는 *.pth 파일) 배포 및 서빙을 위해서는 \"의존성 코드 (예: inference.py)\" 가 필요한데요, 이를 아래와 같은 폴더 구조로 넣어주고 model.tar.gz 를 만들어야 합니다. \n",
    "- 참조 자료: [Getting started with deploying real-time models on Amazon SageMaker](https://aws.amazon.com/blogs/machine-learning/getting-started-with-deploying-real-time-models-on-amazon-sagemaker/)"
   ]
  },
  {
   "cell_type": "markdown",
   "metadata": {},
   "source": [
    "```\n",
    "# Pytorch\n",
    "model.tar.gz/\n",
    "             |- model.pth\n",
    "             |- code/\n",
    "                     |- inference.py\n",
    "                     |- requirements.txt # only for versions 1.3.1 and higher\n",
    "                     \n",
    "# Tensorflow\n",
    "model.tar.gz/\n",
    "             |--[model_version_number]/\n",
    "                                       |--variables\n",
    "                                       |--saved_model.pb\n",
    "            code/\n",
    "                |--inference.py\n",
    "                |--requirements.txt\n",
    "```"
   ]
  },
  {
   "cell_type": "markdown",
   "metadata": {},
   "source": [
    "# 1.환경 설정 \n",
    "\n"
   ]
  },
  {
   "cell_type": "code",
   "execution_count": null,
   "metadata": {},
   "outputs": [],
   "source": [
    "%load_ext autoreload\n",
    "%autoreload 2\n",
    "\n",
    "# src 폴더 경로 설정\n",
    "import sys\n",
    "sys.path.append('./src')"
   ]
  },
  {
   "cell_type": "code",
   "execution_count": null,
   "metadata": {},
   "outputs": [],
   "source": [
    "import boto3\n",
    "import sagemaker\n",
    "import pandas as pd\n",
    "\n",
    "region = boto3.Session().region_name\n",
    "sagemaker_session = sagemaker.session.Session()\n",
    "role = sagemaker.get_execution_role()\n",
    "bucket = sagemaker.Session().default_bucket()\n",
    "\n",
    "print(\"bucket: \", bucket)\n",
    "print(\"role: \", role)\n",
    "\n",
    "sm_client = boto3.client('sagemaker', region_name=region)\n"
   ]
  },
  {
   "cell_type": "code",
   "execution_count": null,
   "metadata": {},
   "outputs": [],
   "source": [
    "%store -r model_package_group_name\n",
    "%store -r s3_input_data_uri\n",
    "%store -r bucket\n",
    "%store -r project_prefix"
   ]
  },
  {
   "cell_type": "code",
   "execution_count": null,
   "metadata": {},
   "outputs": [],
   "source": [
    "print(\"s3_input_data_uri: \\n\", s3_input_data_uri)\n",
    "print(\"bucket: \\n\", bucket)\n",
    "print(\"project_prefix: \\n\", project_prefix)\n",
    "print(\"model_package_group_name: \\n\", model_package_group_name)"
   ]
  },
  {
   "cell_type": "markdown",
   "metadata": {
    "tags": []
   },
   "source": [
    "---\n",
    "# 2. 패키징 코드\n",
    "- 패키징할 폴더 생성\n",
    "- 추론 코드의 폴더 지정 후에 패키징 폴더에 복사\n",
    "- 패키징 폴더를 source.tar.gz 압축 후에 S3에 업로딩\n",
    "- \n",
    "\n"
   ]
  },
  {
   "cell_type": "markdown",
   "metadata": {},
   "source": [
    "## 2.1. src 폴더를 source.tar.gz 로 압축"
   ]
  },
  {
   "cell_type": "code",
   "execution_count": null,
   "metadata": {},
   "outputs": [],
   "source": [
    "import os\n",
    "\n",
    "package_dir = 'code_pkg'\n",
    "os.makedirs(package_dir, exist_ok=True)\n"
   ]
  },
  {
   "cell_type": "code",
   "execution_count": null,
   "metadata": {},
   "outputs": [],
   "source": [
    "code_dir = '../src'"
   ]
  },
  {
   "cell_type": "code",
   "execution_count": null,
   "metadata": {},
   "outputs": [],
   "source": [
    "%%sh -s {package_dir} {code_dir}\n",
    "\n",
    "package_dir=$1\n",
    "code_dir=$2\n",
    "\n",
    "cd $package_dir # 폴더 생성\n",
    "echo $PWD\n",
    "rm -rf ./*\n",
    "cp -r $code_dir/*.py  .  # src py 모두 카피\n",
    "cp -r $code_dir/*.txt  .  # src 파일 모두 카피\n",
    "cp -r $code_dir/*.json  .  # json 파일 모두 카피\n",
    "tar -czvf source.tar.gz * # model.tar.gz 파일 생성"
   ]
  },
  {
   "cell_type": "markdown",
   "metadata": {},
   "source": [
    "## 2.2. S3 에 업로드"
   ]
  },
  {
   "cell_type": "code",
   "execution_count": null,
   "metadata": {},
   "outputs": [],
   "source": [
    "import sagemaker\n",
    "sagemaker_session  = sagemaker.session.Session()\n",
    "prefix='ncf/code'\n",
    "bucket = sagemaker.session.Session().default_bucket()\n",
    "print(\"bucket: \", bucket)\n",
    "\n",
    "source_path = os.path.join(package_dir, 'source.tar.gz')\n",
    "source_artifact = sagemaker_session.upload_data(source_path, bucket, prefix)\n",
    "print(\"source_artifact: \\n\", source_artifact)"
   ]
  },
  {
   "cell_type": "markdown",
   "metadata": {},
   "source": [
    "# 3. 세이지 메이커 파이프라인 생성"
   ]
  },
  {
   "cell_type": "markdown",
   "metadata": {
    "tags": []
   },
   "source": [
    "## 3.1. 모델 빌딩 파이프라인 변수 및 세션 생성\n",
    "\n",
    "파이프라인에 인자로 넘길 변수는 아래 크게 3가지 종류가 있습니다.\n",
    "- 모델 레지스트리에 모델 등록시에 모델 승인 상태 값    \n"
   ]
  },
  {
   "cell_type": "code",
   "execution_count": null,
   "metadata": {},
   "outputs": [],
   "source": [
    "from sagemaker.workflow.parameters import (\n",
    "    ParameterInteger,\n",
    "    ParameterString,\n",
    "    ParameterFloat,\n",
    ")\n",
    "\n",
    "# 입력 데이터\n",
    "s3_data_loc = ParameterString(\n",
    "    name=\"InputData\",\n",
    "    default_value=s3_input_data_uri,\n",
    ")\n",
    "\n",
    "\n",
    "model_approval_status = ParameterString(\n",
    "    name=\"ModelApprovalStatus\", default_value=\"PendingManualApproval\"\n",
    ")\n"
   ]
  },
  {
   "cell_type": "markdown",
   "metadata": {},
   "source": [
    "### 3.1.1 로컬 모드 설정 \n",
    "- 로컬 모드 사용을 위해서는 Estimator, Pipeline() 오브젝트 생성시에 인자로서 sagemaker_session 에 LocalPipelineSession() 를 할당해야 합니다.\n",
    "- 모델 훈련 스텝은 로컬 모드가 가능합니다. \n",
    "    - 람다 스텝, 모델 등록 스텝은 지원을 하지 않음.\n",
    "- Tip : 노트북 하단에서 Pipeline() 를 선언시에 steps 부분을 주석 처리하면서 사용하세요.\n",
    "``` python\n",
    "pipeline = Pipeline(\n",
    "    name=pipeline_name,\n",
    "    parameters=[\n",
    "        s3_data_loc,                \n",
    "        model_approval_status,        \n",
    "    ],\n",
    "    sagemaker_session=pipeline_session,\n",
    "    steps=[step_train],    # 로컬 모드 사용시\n",
    "#   steps=[step_train, step_repackage_lambda, step_model_registration],\n",
    "```"
   ]
  },
  {
   "cell_type": "code",
   "execution_count": null,
   "metadata": {},
   "outputs": [],
   "source": [
    "# LOCAL_MODE = True # 로컬 모드시 사용\n",
    "LOCAL_MODE = False # 클라우드 모드시 사용\n",
    "if LOCAL_MODE:\n",
    "    from sagemaker.workflow.pipeline_context import LocalPipelineSession\n",
    "    pipeline_session = LocalPipelineSession()\n",
    "    print(\"### --> Local Mode\")\n",
    "else:\n",
    "    from sagemaker.workflow.pipeline_context import PipelineSession\n",
    "    pipeline_session = PipelineSession()\n",
    "    print(\"### --> Cloud Mode\")    "
   ]
  },
  {
   "cell_type": "markdown",
   "metadata": {},
   "source": [
    "### 3.1.2 캐싱 정의\n",
    "참고: 캐싱 파이프라인 단계: [Caching Pipeline Steps](https://docs.aws.amazon.com/ko_kr/sagemaker/latest/dg/pipelines-caching.html)"
   ]
  },
  {
   "cell_type": "code",
   "execution_count": null,
   "metadata": {},
   "outputs": [],
   "source": [
    "from sagemaker.workflow.steps import CacheConfig\n",
    "\n",
    "cache_config = CacheConfig(enable_caching=True, \n",
    "                           expire_after=\"1d\")"
   ]
  },
  {
   "cell_type": "markdown",
   "metadata": {},
   "source": [
    "## 3.2. 파이프라인 스텝 단계 정의"
   ]
  },
  {
   "cell_type": "markdown",
   "metadata": {},
   "source": [
    "### 3.2.1 모델 훈련 스텝"
   ]
  },
  {
   "cell_type": "markdown",
   "metadata": {},
   "source": [
    "####  하이퍼파라미터 세팅"
   ]
  },
  {
   "cell_type": "code",
   "execution_count": null,
   "metadata": {},
   "outputs": [],
   "source": [
    "host_hyperparameters = {'epochs': 1, \n",
    "                       'lr': 0.001,\n",
    "                       'batch_size': 256,\n",
    "                       'top_k' : 10,\n",
    "                       'dropout' : 0.0,\n",
    "                       'factor_num' : 32,\n",
    "                       'num_layers' : 3,\n",
    "                       'num_ng' : 4,\n",
    "                       'test_num_ng' : 99,                   \n",
    "                    }  "
   ]
  },
  {
   "cell_type": "markdown",
   "metadata": {
    "tags": []
   },
   "source": [
    "#### 훈련 메트릭을 CloudWatch 에서 보기\n",
    "- 개발자 가이드\n",
    "    - [Monitor and Analyze Training Jobs Using Amazon CloudWatch ](https://docs.amazonaws.cn/en_us/sagemaker/latest/dg/training-metrics.html#define-train-metrics)"
   ]
  },
  {
   "cell_type": "code",
   "execution_count": null,
   "metadata": {},
   "outputs": [],
   "source": [
    "metric_definitions=[\n",
    "       {'Name': 'HR', 'Regex': 'HR=(.*?);'},\n",
    "       {'Name': 'NDCG', 'Regex': 'NDCG=(.*?);'},\n",
    "       {'Name': 'Loss', 'Regex': 'Loss=(.*?);'}        \n",
    "    ]\n"
   ]
  },
  {
   "cell_type": "markdown",
   "metadata": {},
   "source": [
    "####  Estimator 생성\n",
    "\n",
    "Estimator 생성시에 인자가 필요 합니다. 주요한 인자만 보겠습니다.\n"
   ]
  },
  {
   "cell_type": "code",
   "execution_count": null,
   "metadata": {},
   "outputs": [],
   "source": [
    "from sagemaker.pytorch import PyTorch\n",
    "\n",
    "estimator_output_path = f's3://{bucket}/{project_prefix}/training_jobs'\n",
    "print(\"estimator_output_path: \\n\", estimator_output_path)\n",
    "\n",
    "\n",
    "instance_type = 'ml.p3.2xlarge'\n",
    "instance_count = 1\n",
    "\n",
    "host_estimator = PyTorch(\n",
    "    entry_point=\"train.py\",    \n",
    "    source_dir='src',    \n",
    "    role=role,\n",
    "    output_path = estimator_output_path,    \n",
    "    framework_version='1.8.1',\n",
    "    py_version='py3',\n",
    "    disable_profiler = True,\n",
    "    instance_count=instance_count,\n",
    "    instance_type=instance_type,\n",
    "    session = pipeline_session,\n",
    "    hyperparameters=host_hyperparameters,\n",
    "    metric_definitions = metric_definitions\n",
    "    \n",
    ")\n"
   ]
  },
  {
   "cell_type": "markdown",
   "metadata": {},
   "source": [
    "#### 모델 훈련 스탭 생성\n"
   ]
  },
  {
   "cell_type": "code",
   "execution_count": null,
   "metadata": {},
   "outputs": [],
   "source": [
    "from sagemaker.inputs import TrainingInput\n",
    "from sagemaker.workflow.steps import TrainingStep\n",
    "\n",
    "\n",
    "step_train = TrainingStep(\n",
    "    name= \"NCF-Training\",\n",
    "    estimator=host_estimator,\n",
    "    inputs={\n",
    "        \"train\": TrainingInput(\n",
    "            s3_data= s3_data_loc\n",
    "        ),\n",
    "        \"test\": TrainingInput(\n",
    "            s3_data= s3_data_loc\n",
    "        ),        \n",
    "    },\n",
    "    cache_config = cache_config, # 캐시 정의     \n",
    ")"
   ]
  },
  {
   "cell_type": "markdown",
   "metadata": {},
   "source": [
    "### 3.2.2 모델 아티펙트 리패키징 람다 스텝 정의\n",
    "- 하단에서 파이프라인을 실행한 후에 람다 스텝의 디버깅을 하기 위해서는 람다 콘솔에 가셔서 해당 람다 함수의 실행 로그를 확인하시면 됩니다.\n",
    "    - [람다 콘솔](http://console.aws.amazon.com/lambda/)"
   ]
  },
  {
   "cell_type": "markdown",
   "metadata": {},
   "source": [
    "####  람다 Role 생성"
   ]
  },
  {
   "cell_type": "code",
   "execution_count": null,
   "metadata": {},
   "outputs": [],
   "source": [
    "import boto3\n",
    "\n",
    "lambda_role = boto3.client('iam').get_role(RoleName = 'MLOps-LambdaDeploymentRole').get('Role').get('Arn')\n",
    "print(\"lambda_role: \\n\", lambda_role)\n",
    "\n"
   ]
  },
  {
   "cell_type": "markdown",
   "metadata": {},
   "source": [
    "#### 람다 스텝 정의"
   ]
  },
  {
   "cell_type": "code",
   "execution_count": null,
   "metadata": {},
   "outputs": [],
   "source": [
    "from datetime import datetime\n",
    "currentDateAndTime = datetime.now()\n",
    "\n",
    "currentTime = currentDateAndTime.strftime(\"%Y-%m-%d-%H-%M-%S\")\n",
    "bucket_prefix = f'ncf/repackage/model/{currentTime}'\n",
    "print(\"bucket prefix: \\n\", bucket_prefix)\n",
    "\n",
    "from sagemaker.lambda_helper import Lambda\n",
    "from sagemaker.workflow.lambda_step import (\n",
    "    LambdaStep,\n",
    "    LambdaOutput,\n",
    "    LambdaOutputTypeEnum,\n",
    ")\n",
    "\n",
    "from pathlib import Path\n",
    "\n",
    "BASE_DIR = Path.cwd()\n",
    "# BASE_DIR = os.path.dirname(os.path.realpath(__file__))\n",
    "repackage_lambda_script_path = f'{BASE_DIR}/src/iam_repackage_model_artifact.py'\n",
    "print(\"repackage_lambda_script_path: \\n\", repackage_lambda_script_path)\n",
    "\n",
    "function_name = \"sagemaker-lambda-step-repackage-model-artifact\"\n",
    "\n",
    "print(\"function_name: \\n\", function_name)\n"
   ]
  },
  {
   "cell_type": "code",
   "execution_count": null,
   "metadata": {},
   "outputs": [],
   "source": [
    "# Lambda helper class can be used to create the Lambda function\n",
    "func_repackage_model = Lambda(\n",
    "    function_name=function_name,\n",
    "    execution_role_arn=lambda_role,\n",
    "    script=repackage_lambda_script_path,\n",
    "    handler=\"iam_repackage_model_artifact.lambda_handler\",\n",
    ")\n",
    "\n",
    "output_param_1 = LambdaOutput(output_name=\"statusCode\", output_type=LambdaOutputTypeEnum.String)\n",
    "output_param_2 = LambdaOutput(output_name=\"body\", output_type=LambdaOutputTypeEnum.String)\n",
    "output_param_3 = LambdaOutput(output_name=\"S3_Model_URI\", output_type=LambdaOutputTypeEnum.String)\n",
    "\n",
    "step_repackage_lambda = LambdaStep(\n",
    "    name=\"LambdaRepackageStep\",\n",
    "    lambda_func=func_repackage_model,\n",
    "    inputs={\n",
    "        \"source_path\" : source_artifact,\n",
    "        \"model_path\": step_train.properties.ModelArtifacts.S3ModelArtifacts,\n",
    "        \"bucket\" : bucket,\n",
    "        \"prefix\" : bucket_prefix\n",
    "    },\n",
    "    outputs=[output_param_1, output_param_2, output_param_3],\n",
    ")\n"
   ]
  },
  {
   "cell_type": "markdown",
   "metadata": {},
   "source": [
    "### 3.2.3 모델 등록 스텝"
   ]
  },
  {
   "cell_type": "markdown",
   "metadata": {},
   "source": [
    "#### 모델 그룹 생성\n",
    "\n",
    "- 참고\n",
    "    - 모델 그룹 릭스팅 API:  [ListModelPackageGroups](https://docs.aws.amazon.com/sagemaker/latest/APIReference/API_ListModelPackageGroups.html)\n",
    "    - 모델 지표 등록: [Model Quality Metrics](https://docs.aws.amazon.com/ko_kr/sagemaker/latest/dg/model-monitor-model-quality-metrics.html)"
   ]
  },
  {
   "cell_type": "code",
   "execution_count": null,
   "metadata": {
    "tags": []
   },
   "outputs": [],
   "source": [
    "model_package_group_name = f\"NCFModel\"\n",
    "model_package_group_input_dict = {\n",
    " \"ModelPackageGroupName\" : model_package_group_name,\n",
    " \"ModelPackageGroupDescription\" : \"Sample model package group\"\n",
    "}\n",
    "response = sm_client.list_model_package_groups(NameContains=model_package_group_name)\n",
    "if len(response['ModelPackageGroupSummaryList']) == 0:\n",
    "    print(\"No model group exists\")\n",
    "    print(\"Create model group\")    \n",
    "    \n",
    "    create_model_pacakge_group_response = sm_client.create_model_package_group(**model_package_group_input_dict)\n",
    "    print('ModelPackageGroup Arn : {}'.format(create_model_pacakge_group_response['ModelPackageGroupArn']))    \n",
    "else:\n",
    "    print(f\"{model_package_group_name} exitss\")"
   ]
  },
  {
   "cell_type": "markdown",
   "metadata": {},
   "source": [
    "#### 모델 등록 스텝 정의"
   ]
  },
  {
   "cell_type": "code",
   "execution_count": null,
   "metadata": {},
   "outputs": [],
   "source": [
    "%%time \n",
    "\n",
    "from sagemaker.workflow.model_step import ModelStep\n",
    "\n",
    "\n",
    "from sagemaker.model import Model\n",
    "\n",
    "inference_image_uri = f'763104351884.dkr.ecr.{region}.amazonaws.com/pytorch-inference:1.8.1-gpu-py3'\n",
    "\n",
    "model = Model(\n",
    "    image_uri=inference_image_uri,\n",
    "    model_data = step_repackage_lambda.properties.Outputs[\"S3_Model_URI\"],\n",
    "    role=role,\n",
    "    sagemaker_session=pipeline_session,\n",
    ")\n",
    "\n",
    "\n",
    "register_model_step_args = model.register(\n",
    "    content_types=[\"text/csv\"],\n",
    "    response_types=[\"text/csv\"],\n",
    "    inference_instances=[\"ml.g4dn.xlarge\", \"ml.p2.xlarge\"],\n",
    "    transform_instances=[\"ml.g4dn.xlarge\"],\n",
    "    model_package_group_name=model_package_group_name,\n",
    "    approval_status=model_approval_status,\n",
    ")\n",
    "\n",
    "step_model_registration = ModelStep(\n",
    "   name=\"RegisterModel\",\n",
    "   step_args=register_model_step_args,\n",
    ")"
   ]
  },
  {
   "cell_type": "markdown",
   "metadata": {},
   "source": [
    "# 4.모델 빌딩 파이프라인 정의 및 실행\n",
    "위에서 정의한 아래의 4개의 스텝으로 파이프라인 정의를 합니다.\n"
   ]
  },
  {
   "cell_type": "code",
   "execution_count": null,
   "metadata": {},
   "outputs": [],
   "source": [
    "from sagemaker.workflow.pipeline import Pipeline\n",
    "\n",
    "project_prefix = 'ncf-pipeline-nb-training'\n",
    "\n",
    "pipeline_name = project_prefix\n",
    "pipeline = Pipeline(\n",
    "    name=pipeline_name,\n",
    "    parameters=[\n",
    "        s3_data_loc,                \n",
    "        model_approval_status,        \n",
    "    ],\n",
    "    sagemaker_session=pipeline_session,\n",
    "#    steps=[step_train],    \n",
    "    steps=[step_train, step_repackage_lambda, step_model_registration],\n",
    "#    steps=[step_repackage_lambda, step_model_registration],    \n",
    "\n",
    ")\n",
    "\n"
   ]
  },
  {
   "cell_type": "code",
   "execution_count": null,
   "metadata": {
    "tags": []
   },
   "outputs": [],
   "source": [
    "import json\n",
    "\n",
    "definition = json.loads(pipeline.definition())\n",
    "# print(\" definition : \\n\", definition)\n",
    "pipeline.upsert(role_arn=role)\n",
    "execution = pipeline.start()"
   ]
  },
  {
   "cell_type": "markdown",
   "metadata": {},
   "source": [
    "### 파이프라인 운영: 파이프라인 대기 및 실행상태 확인\n",
    "\n",
    "워크플로우의 실행상황을 살펴봅니다. "
   ]
  },
  {
   "cell_type": "markdown",
   "metadata": {},
   "source": [
    "실행이 완료될 때까지 기다립니다."
   ]
  },
  {
   "cell_type": "code",
   "execution_count": null,
   "metadata": {},
   "outputs": [],
   "source": [
    "execution.wait()"
   ]
  },
  {
   "cell_type": "markdown",
   "metadata": {},
   "source": [
    "실행된 단계들을 리스트업합니다. 파이프라인의 단계실행 서비스에 의해 시작되거나 완료된 단계를 보여줍니다."
   ]
  },
  {
   "cell_type": "code",
   "execution_count": null,
   "metadata": {},
   "outputs": [],
   "source": [
    "execution.list_steps()"
   ]
  },
  {
   "cell_type": "markdown",
   "metadata": {},
   "source": [
    "# 5. Pipeline 캐싱 및 파라미터 이용한 실행\n",
    "캐싱은 2021년 7월 현재 Training, Processing, Transform 의 Step에 적용이 되어 있습니다.\n",
    "\n",
    "상세 사항은 여기를 확인하세요. --> [캐싱 파이프라인 단계](https://docs.aws.amazon.com/ko_kr/sagemaker/latest/dg/pipelines-caching.html)"
   ]
  },
  {
   "cell_type": "code",
   "execution_count": null,
   "metadata": {},
   "outputs": [],
   "source": [
    "# is_cache = True\n",
    "is_cache = False"
   ]
  },
  {
   "cell_type": "code",
   "execution_count": null,
   "metadata": {},
   "outputs": [],
   "source": [
    "%%time \n",
    "\n",
    "from IPython.display import display as dp\n",
    "import time\n",
    "\n",
    "if is_cache:\n",
    "    execution = pipeline.start(\n",
    "        parameters=dict(\n",
    "            # model2eval2threshold=0.8,\n",
    "        )\n",
    "    )    \n",
    "    \n",
    "    # execution = pipeline.start()\n",
    "    execution.wait()"
   ]
  },
  {
   "cell_type": "code",
   "execution_count": null,
   "metadata": {},
   "outputs": [],
   "source": [
    "if is_cache:\n",
    "    dp(execution.list_steps())"
   ]
  },
  {
   "cell_type": "markdown",
   "metadata": {},
   "source": [
    "# 6. SageMaker Studio 에서 파이프라인 보기\n",
    "스튜디오를 사용하기 위해서는 아래 링크를 참조하여, 로그인하시기 바랍니다.\n",
    "- [Amazon SageMaker Studio](https://docs.aws.amazon.com/sagemaker/latest/dg/studio.html)"
   ]
  },
  {
   "cell_type": "markdown",
   "metadata": {},
   "source": [
    "## 6.1. 모델 훈련 파이프라인 실행 내용 보기"
   ]
  },
  {
   "cell_type": "markdown",
   "metadata": {},
   "source": [
    "![studio_pipeline_train.png](img/studio_pipeline_train.png)"
   ]
  },
  {
   "cell_type": "markdown",
   "metadata": {},
   "source": [
    "## 6.2. 모델 훈련 파이프라인 단계 별 실행 결과 보기"
   ]
  },
  {
   "cell_type": "markdown",
   "metadata": {},
   "source": [
    "![pipeline_graph.png](img/pipeline_graph.png)"
   ]
  },
  {
   "cell_type": "markdown",
   "metadata": {},
   "source": [
    "## 6.3. 모델 레지스트리 \n",
    "- 생성된 \"NCFModel\" 을 확인하세요.\n",
    "    - 나머지 모델 그룹은 저자가 생성한 것이기에 무시하시기 바랍니다."
   ]
  },
  {
   "cell_type": "markdown",
   "metadata": {},
   "source": [
    "![model_registry.png](img/model_registry.png)"
   ]
  },
  {
   "cell_type": "markdown",
   "metadata": {},
   "source": [
    "## 6.4. 모델 그룹 버전 정보\n",
    "- 처음 생성한 버전이 보입니다."
   ]
  },
  {
   "cell_type": "markdown",
   "metadata": {},
   "source": [
    "![model_group_info.png](img/model_group_info.png)"
   ]
  },
  {
   "cell_type": "markdown",
   "metadata": {},
   "source": [
    "## 6.5. 모델 버전의 등록된 컨테이너 정보\n",
    "- 6.4 그림의 Version - 1 을 클릭하고 Settings 탭을 클릭 후에 스크롤 하면 아래의 컨테이너 정보가 보입니다.\n",
    "- 아래 정보는 모델 등록 스텝에서 우리가 등록한 2가지 중요한 정보 입니다.\n",
    "    - 추론 도커 이미지 주소 \n",
    "    - 리패키징한 모델 아티펙트 주소 "
   ]
  },
  {
   "cell_type": "markdown",
   "metadata": {},
   "source": [
    "![container_info.png](img/container_info.png)"
   ]
  },
  {
   "cell_type": "code",
   "execution_count": null,
   "metadata": {},
   "outputs": [],
   "source": []
  },
  {
   "cell_type": "code",
   "execution_count": null,
   "metadata": {},
   "outputs": [],
   "source": []
  },
  {
   "cell_type": "code",
   "execution_count": null,
   "metadata": {},
   "outputs": [],
   "source": []
  }
 ],
 "metadata": {
  "instance_type": "ml.m5.large",
  "kernelspec": {
   "display_name": "conda_python3",
   "language": "python",
   "name": "conda_python3"
  },
  "language_info": {
   "codemirror_mode": {
    "name": "ipython",
    "version": 3
   },
   "file_extension": ".py",
   "mimetype": "text/x-python",
   "name": "python",
   "nbconvert_exporter": "python",
   "pygments_lexer": "ipython3",
   "version": "3.8.12"
  }
 },
 "nbformat": 4,
 "nbformat_minor": 4
}
