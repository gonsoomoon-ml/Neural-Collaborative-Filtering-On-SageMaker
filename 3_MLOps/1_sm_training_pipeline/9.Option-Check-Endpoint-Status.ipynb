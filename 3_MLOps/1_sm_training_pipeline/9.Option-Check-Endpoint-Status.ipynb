{
 "cells": [
  {
   "cell_type": "markdown",
   "metadata": {},
   "source": [
    "# [Module 2.3] 세이지 메이커 사용자 도커 이미지로 인퍼런스\n",
    "\n",
    "## 필수 사항\n",
    "- 이 노트북은 sagemaker_inference_container/container-inference/ 의 아래 두개의 노트북을 먼저 실행해야 합니다.\n",
    "    - 1.1.Build_Docker.ipynb\n",
    "    - 2.1.Package_Model_Artifact.ipynb\n",
    "본 워크샵의 모든 노트북은 `conda_python3` 추가 패키지를 설치하고 모두 이 커널 에서 작업 합니다.\n",
    "\n",
    "\n",
    "## 이 노트북은 아래와 같은 작업을 합니다.\n",
    "\n",
    "- 1. 환경 셋업\n",
    "- 2. 로컬 모드에서 배포 및 추론 테스트\n",
    "- 3. 세이지 메이커 (호스트 모드)에서 배포 및 추론 테스트\n",
    "- 4. 세이지 메이커 신규 모델로 앤드포인트 업데이트\n",
    "- 5. 신규 엔드포인트 생성\n",
    "- 6. 신규 앤드포인트 생성 후에 Bake Time (예: 5분) 지난 후에 기존 엔드포인트 삭제\n",
    "- 7. 마지막 신규 엔드포인트 리소스 제거\n",
    "\n",
    "\n",
    "---    \n",
    "    "
   ]
  },
  {
   "cell_type": "markdown",
   "metadata": {},
   "source": [
    "# 1. 환경 셋업"
   ]
  },
  {
   "cell_type": "markdown",
   "metadata": {
    "tags": []
   },
   "source": [
    "## 기본 세팅\n",
    "사용하는 패키지는 import 시점에 다시 재로딩 합니다."
   ]
  },
  {
   "cell_type": "code",
   "execution_count": 1,
   "metadata": {},
   "outputs": [],
   "source": [
    "%load_ext autoreload\n",
    "%autoreload 2\n",
    "\n",
    "import sys\n",
    "sys.path.append('./src')"
   ]
  },
  {
   "cell_type": "markdown",
   "metadata": {},
   "source": [
    "이전 노트북에서 인퍼런스 테스트를 완료한 티펙트를 가져옵니다.\n",
    "- inference_docker_image: 사용자 정의 도커 이미지\n",
    "- byom_artifact: 추론 코드를 포함한 모델 아티펙트"
   ]
  },
  {
   "cell_type": "code",
   "execution_count": 4,
   "metadata": {},
   "outputs": [],
   "source": [
    "%store -r inference_docker_image\n",
    "# %store -r artifact_path\n",
    "%store -r byom_artifact\n",
    "%store -r bucket\n",
    "%store -r prefix\n",
    "%store -r artifact_path"
   ]
  },
  {
   "cell_type": "code",
   "execution_count": 5,
   "metadata": {},
   "outputs": [
    {
     "name": "stdout",
     "output_type": "stream",
     "text": [
      "inference_docker_image: \n",
      " 057716757052.dkr.ecr.us-east-1.amazonaws.com/ncf-sagemaker-inference\n",
      "byom_artifact: \n",
      " s3://sagemaker-us-east-1-057716757052/sm2fraud/new2train2model/model.tar.gz\n",
      "artifact_path: \n",
      " s3://sagemaker-us-east-1-057716757052/pytorch-training-2022-10-14-13-19-13-618/output/model.tar.gz\n"
     ]
    }
   ],
   "source": [
    "print(\"inference_docker_image: \\n\", inference_docker_image)\n",
    "print(\"byom_artifact: \\n\", byom_artifact)\n",
    "print(\"artifact_path: \\n\", artifact_path)"
   ]
  },
  {
   "cell_type": "code",
   "execution_count": 27,
   "metadata": {},
   "outputs": [],
   "source": [
    "# 파이프라인 생성\n",
    "# inference_docker_image = '763104351884.dkr.ecr.us-east-1.amazonaws.com/pytorch-inference:1.8.1-gpu-py3'\n",
    "# byom_artifact = 's3://sagemaker-us-east-1-057716757052/ncf/repackage/model/2022-11-14-12-49-10/model.tar.gz'\n",
    "\n",
    "inference_docker_image = '763104351884.dkr.ecr.us-east-1.amazonaws.com/pytorch-inference:1.8.1-gpu-py3'\n",
    "byom_artifact = 's3://sagemaker-us-east-1-057716757052/ncf/repackage/model/2022-11-16-09-12-31/model.tar.gz'\n"
   ]
  },
  {
   "cell_type": "code",
   "execution_count": 28,
   "metadata": {},
   "outputs": [],
   "source": [
    "import sagemaker\n",
    "\n",
    "role = sagemaker.get_execution_role()"
   ]
  },
  {
   "cell_type": "markdown",
   "metadata": {},
   "source": [
    "# 2. 로컬 모드에서 배포 및 추론 테스트\n"
   ]
  },
  {
   "cell_type": "markdown",
   "metadata": {
    "Collapsed": "false"
   },
   "source": [
    "## Python SDK를 통한 세이지 메이커 모델 생성\n",
    "- 로컬 엔드포인트에 적재될 세이지 메이커 모델을 생성홥니다.\n",
    "- 세이지 메이커 모델은 크게 아래 두가지 요소가 있습니다.\n",
    "    - 인퍼런스 이미지 컨테이너 위치\n",
    "    - 모델 아티펙트 위치"
   ]
  },
  {
   "cell_type": "code",
   "execution_count": 29,
   "metadata": {},
   "outputs": [
    {
     "name": "stdout",
     "output_type": "stream",
     "text": [
      "local_endpoint_name:  local-endpoint-2022-11-16-09-26-03\n"
     ]
    }
   ],
   "source": [
    "from datetime import datetime\n",
    "suffix = f\"{datetime.today().strftime('%Y-%m-%d-%H-%M-%S')}\"\n",
    "\n",
    "# 로컬 노트북 인스턴스에서 사용할 로컬 세션\n",
    "local_session = sagemaker.local.LocalSession()\n",
    "local_session.config = {'local' : {'local_code':True}}\n",
    "instance_type = 'local_gpu'\n",
    "local_model_name = 'sm-local-model-' + str(suffix)\n",
    "local_endpoint_name = 'local-endpoint-' + str(suffix)\n",
    "print(\"local_endpoint_name: \", local_endpoint_name)"
   ]
  },
  {
   "cell_type": "markdown",
   "metadata": {},
   "source": [
    "### 로컬 세이지 메이커 모델 정의"
   ]
  },
  {
   "cell_type": "code",
   "execution_count": 30,
   "metadata": {
    "Collapsed": "false"
   },
   "outputs": [
    {
     "name": "stdout",
     "output_type": "stream",
     "text": [
      "model:  <sagemaker.model.Model object at 0x7ff8266887c0>\n"
     ]
    }
   ],
   "source": [
    "from sagemaker.model import Model\n",
    "\n",
    "\n",
    "def create_sm_model(ecr_image, model_artifact,model_name,  role, session):\n",
    "    model = Model(\n",
    "                name = model_name,\n",
    "                image_uri = ecr_image,\n",
    "                model_data = model_artifact,\n",
    "                role=role,\n",
    "                sagemaker_session= session,\n",
    "                 )\n",
    "    print(\"model: \", model)\n",
    "    return model\n",
    "\n",
    "local_model = create_sm_model(inference_docker_image, byom_artifact, \n",
    "                              local_model_name, role, \n",
    "                              local_session)    "
   ]
  },
  {
   "cell_type": "markdown",
   "metadata": {
    "Collapsed": "false"
   },
   "source": [
    "### 로컬 엔드포인트 생성\n",
    "\n",
    "- instance_type=='local' 시에는 최초 실행시에 인퍼런스 이미지를 다운로드로 하는 약 3분 걸리고, 이후에는 바로 실행이 됩니다."
   ]
  },
  {
   "cell_type": "code",
   "execution_count": 31,
   "metadata": {
    "Collapsed": "false",
    "tags": []
   },
   "outputs": [
    {
     "name": "stdout",
     "output_type": "stream",
     "text": [
      "Attaching to takz4esic5-algo-1-whw8e\n",
      "\u001b[36mtakz4esic5-algo-1-whw8e |\u001b[0m Collecting nvidia-ml-py3==7.352\n",
      "\u001b[36mtakz4esic5-algo-1-whw8e |\u001b[0m   Downloading nvidia-ml-py3-7.352.0.tar.gz (19 kB)\n",
      "\u001b[36mtakz4esic5-algo-1-whw8e |\u001b[0m   Preparing metadata (setup.py) ... \u001b[?25ldone\n",
      "\u001b[36mtakz4esic5-algo-1-whw8e |\u001b[0m \u001b[?25hCollecting pandas==0.24.2\n",
      "\u001b[36mtakz4esic5-algo-1-whw8e |\u001b[0m   Downloading pandas-0.24.2-cp36-cp36m-manylinux1_x86_64.whl (10.1 MB)\n",
      "     |████████████████████████████████| 10.1 MB 40.5 MB/s            \n",
      "\u001b[36mtakz4esic5-algo-1-whw8e |\u001b[0m \u001b[?25hCollecting numpy==1.16.6\n",
      "\u001b[36mtakz4esic5-algo-1-whw8e |\u001b[0m   Downloading numpy-1.16.6-cp36-cp36m-manylinux1_x86_64.whl (17.4 MB)\n",
      "     |████████████████████████████████| 17.4 MB 70.2 MB/s            \n",
      "\u001b[36mtakz4esic5-algo-1-whw8e |\u001b[0m \u001b[?25hRequirement already satisfied: torch==1.8.1 in /opt/conda/lib/python3.6/site-packages (from -r /opt/ml/model/code/requirements.txt (line 4)) (1.8.1)\n",
      "\u001b[36mtakz4esic5-algo-1-whw8e |\u001b[0m Collecting gensim==3.7.1\n",
      "\u001b[36mtakz4esic5-algo-1-whw8e |\u001b[0m   Downloading gensim-3.7.1-cp36-cp36m-manylinux1_x86_64.whl (24.2 MB)\n",
      "     |████████████████████████████████| 24.2 MB 64.2 MB/s            \n",
      "\u001b[36mtakz4esic5-algo-1-whw8e |\u001b[0m \u001b[?25hCollecting tensorboardX==1.6\n",
      "\u001b[36mtakz4esic5-algo-1-whw8e |\u001b[0m   Downloading tensorboardX-1.6-py2.py3-none-any.whl (129 kB)\n",
      "     |████████████████████████████████| 129 kB 72.2 MB/s            \n",
      "\u001b[36mtakz4esic5-algo-1-whw8e |\u001b[0m \u001b[?25hRequirement already satisfied: python-dateutil>=2.5.0 in /opt/conda/lib/python3.6/site-packages (from pandas==0.24.2->-r /opt/ml/model/code/requirements.txt (line 2)) (2.8.2)\n",
      "\u001b[36mtakz4esic5-algo-1-whw8e |\u001b[0m Requirement already satisfied: pytz>=2011k in /opt/conda/lib/python3.6/site-packages (from pandas==0.24.2->-r /opt/ml/model/code/requirements.txt (line 2)) (2021.3)\n",
      "\u001b[36mtakz4esic5-algo-1-whw8e |\u001b[0m Requirement already satisfied: typing-extensions in /opt/conda/lib/python3.6/site-packages (from torch==1.8.1->-r /opt/ml/model/code/requirements.txt (line 4)) (4.0.1)\n",
      "\u001b[36mtakz4esic5-algo-1-whw8e |\u001b[0m Requirement already satisfied: dataclasses in /opt/conda/lib/python3.6/site-packages (from torch==1.8.1->-r /opt/ml/model/code/requirements.txt (line 4)) (0.8)\n",
      "\u001b[36mtakz4esic5-algo-1-whw8e |\u001b[0m Collecting smart-open>=1.7.0\n",
      "\u001b[36mtakz4esic5-algo-1-whw8e |\u001b[0m   Downloading smart_open-6.2.0-py3-none-any.whl (58 kB)\n",
      "     |████████████████████████████████| 58 kB 10.0 MB/s            \n",
      "\u001b[36mtakz4esic5-algo-1-whw8e |\u001b[0m \u001b[?25hRequirement already satisfied: six>=1.5.0 in /opt/conda/lib/python3.6/site-packages (from gensim==3.7.1->-r /opt/ml/model/code/requirements.txt (line 5)) (1.16.0)\n",
      "\u001b[36mtakz4esic5-algo-1-whw8e |\u001b[0m Requirement already satisfied: scipy>=0.18.1 in /opt/conda/lib/python3.6/site-packages (from gensim==3.7.1->-r /opt/ml/model/code/requirements.txt (line 5)) (1.3.0)\n",
      "\u001b[36mtakz4esic5-algo-1-whw8e |\u001b[0m Collecting protobuf>=3.2.0\n",
      "\u001b[36mtakz4esic5-algo-1-whw8e |\u001b[0m   Downloading protobuf-3.19.6-cp36-cp36m-manylinux_2_17_x86_64.manylinux2014_x86_64.whl (1.1 MB)\n",
      "     |████████████████████████████████| 1.1 MB 62.5 MB/s            \n",
      "\u001b[36mtakz4esic5-algo-1-whw8e |\u001b[0m \u001b[?25hBuilding wheels for collected packages: nvidia-ml-py3\n",
      "\u001b[36mtakz4esic5-algo-1-whw8e |\u001b[0m   Building wheel for nvidia-ml-py3 (setup.py) ... \u001b[?25ldone\n",
      "\u001b[36mtakz4esic5-algo-1-whw8e |\u001b[0m \u001b[?25h  Created wheel for nvidia-ml-py3: filename=nvidia_ml_py3-7.352.0-py3-none-any.whl size=19189 sha256=2173eb5fd6c004c90e5e8bcac31f5bfe06794cba30ec24592b42682ee418d37b\n",
      "\u001b[36mtakz4esic5-algo-1-whw8e |\u001b[0m   Stored in directory: /root/.cache/pip/wheels/7f/26/a3/33f2079871e2bebb3f53a2b21c3ec64129b8efdd18a6263a52\n",
      "\u001b[36mtakz4esic5-algo-1-whw8e |\u001b[0m Successfully built nvidia-ml-py3\n",
      "\u001b[36mtakz4esic5-algo-1-whw8e |\u001b[0m Installing collected packages: smart-open, protobuf, numpy, tensorboardX, pandas, nvidia-ml-py3, gensim\n",
      "\u001b[36mtakz4esic5-algo-1-whw8e |\u001b[0m   Attempting uninstall: numpy\n",
      "\u001b[36mtakz4esic5-algo-1-whw8e |\u001b[0m     Found existing installation: numpy 1.19.1\n",
      "\u001b[36mtakz4esic5-algo-1-whw8e |\u001b[0m     Uninstalling numpy-1.19.1:\n",
      "\u001b[36mtakz4esic5-algo-1-whw8e |\u001b[0m       Successfully uninstalled numpy-1.19.1\n",
      "\u001b[36mtakz4esic5-algo-1-whw8e |\u001b[0m   Attempting uninstall: pandas\n",
      "\u001b[36mtakz4esic5-algo-1-whw8e |\u001b[0m     Found existing installation: pandas 0.25.0\n",
      "\u001b[36mtakz4esic5-algo-1-whw8e |\u001b[0m     Uninstalling pandas-0.25.0:\n",
      "\u001b[36mtakz4esic5-algo-1-whw8e |\u001b[0m       Successfully uninstalled pandas-0.25.0\n",
      "\u001b[36mtakz4esic5-algo-1-whw8e |\u001b[0m Successfully installed gensim-3.7.1 numpy-1.16.6 nvidia-ml-py3-7.352.0 pandas-0.24.2 protobuf-3.19.6 smart-open-6.2.0 tensorboardX-1.6\n",
      "\u001b[36mtakz4esic5-algo-1-whw8e |\u001b[0m \u001b[33mWARNING: Running pip as the 'root' user can result in broken permissions and conflicting behaviour with the system package manager. It is recommended to use a virtual environment instead: https://pip.pypa.io/warnings/venv\u001b[0m\n",
      "\u001b[36mtakz4esic5-algo-1-whw8e |\u001b[0m ['torchserve', '--start', '--model-store', '/.sagemaker/ts/models', '--ts-config', '/etc/sagemaker-ts.properties', '--log-config', '/opt/conda/lib/python3.6/site-packages/sagemaker_pytorch_serving_container/etc/log4j.properties', '--models', 'model.mar']\n",
      "\u001b[36mtakz4esic5-algo-1-whw8e |\u001b[0m 2022-11-16 09:26:21,082 [INFO ] main org.pytorch.serve.servingsdk.impl.PluginsManager - Initializing plugins manager...\n",
      "\u001b[36mtakz4esic5-algo-1-whw8e |\u001b[0m 2022-11-16 09:26:21,285 [INFO ] main org.pytorch.serve.ModelServer - \n",
      "\u001b[36mtakz4esic5-algo-1-whw8e |\u001b[0m Torchserve version: 0.4.0\n",
      "\u001b[36mtakz4esic5-algo-1-whw8e |\u001b[0m TS Home: /opt/conda/lib/python3.6/site-packages\n",
      "\u001b[36mtakz4esic5-algo-1-whw8e |\u001b[0m Current directory: /\n",
      "\u001b[36mtakz4esic5-algo-1-whw8e |\u001b[0m Temp directory: /tmp\n",
      "\u001b[36mtakz4esic5-algo-1-whw8e |\u001b[0m Number of GPUs: 4\n",
      "\u001b[36mtakz4esic5-algo-1-whw8e |\u001b[0m Number of CPUs: 32\n",
      "\u001b[36mtakz4esic5-algo-1-whw8e |\u001b[0m Max heap size: 30688 M\n",
      "\u001b[36mtakz4esic5-algo-1-whw8e |\u001b[0m Python executable: /opt/conda/bin/python3.6\n",
      "\u001b[36mtakz4esic5-algo-1-whw8e |\u001b[0m Config file: /etc/sagemaker-ts.properties\n",
      "\u001b[36mtakz4esic5-algo-1-whw8e |\u001b[0m Inference address: http://0.0.0.0:8080\n",
      "\u001b[36mtakz4esic5-algo-1-whw8e |\u001b[0m Management address: http://0.0.0.0:8080\n",
      "\u001b[36mtakz4esic5-algo-1-whw8e |\u001b[0m Metrics address: http://127.0.0.1:8082\n",
      "\u001b[36mtakz4esic5-algo-1-whw8e |\u001b[0m Model Store: /.sagemaker/ts/models\n",
      "\u001b[36mtakz4esic5-algo-1-whw8e |\u001b[0m Initial Models: model.mar\n",
      "\u001b[36mtakz4esic5-algo-1-whw8e |\u001b[0m Log dir: /logs\n",
      "\u001b[36mtakz4esic5-algo-1-whw8e |\u001b[0m Metrics dir: /logs\n",
      "\u001b[36mtakz4esic5-algo-1-whw8e |\u001b[0m Netty threads: 0\n",
      "\u001b[36mtakz4esic5-algo-1-whw8e |\u001b[0m Netty client threads: 0\n",
      "\u001b[36mtakz4esic5-algo-1-whw8e |\u001b[0m Default workers per model: 4\n",
      "\u001b[36mtakz4esic5-algo-1-whw8e |\u001b[0m Blacklist Regex: N/A\n",
      "\u001b[36mtakz4esic5-algo-1-whw8e |\u001b[0m Maximum Response Size: 6553500\n",
      "\u001b[36mtakz4esic5-algo-1-whw8e |\u001b[0m Maximum Request Size: 6553500\n",
      "\u001b[36mtakz4esic5-algo-1-whw8e |\u001b[0m Prefer direct buffer: false\n",
      "\u001b[36mtakz4esic5-algo-1-whw8e |\u001b[0m Allowed Urls: [file://.*|http(s)?://.*]\n",
      "\u001b[36mtakz4esic5-algo-1-whw8e |\u001b[0m Custom python dependency for model allowed: false\n",
      "\u001b[36mtakz4esic5-algo-1-whw8e |\u001b[0m Metrics report format: prometheus\n",
      "\u001b[36mtakz4esic5-algo-1-whw8e |\u001b[0m Enable metrics API: true\n",
      "\u001b[36mtakz4esic5-algo-1-whw8e |\u001b[0m Workflow Store: /.sagemaker/ts/models\n",
      "\u001b[36mtakz4esic5-algo-1-whw8e |\u001b[0m 2022-11-16 09:26:21,295 [INFO ] main org.pytorch.serve.servingsdk.impl.PluginsManager -  Loading snapshot serializer plugin...\n",
      "\u001b[36mtakz4esic5-algo-1-whw8e |\u001b[0m 2022-11-16 09:26:21,326 [INFO ] main org.pytorch.serve.ModelServer - Loading initial models: model.mar\n",
      "\u001b[36mtakz4esic5-algo-1-whw8e |\u001b[0m 2022-11-16 09:26:21,620 [INFO ] main org.pytorch.serve.wlm.ModelManager - Model model loaded.\n",
      "\u001b[36mtakz4esic5-algo-1-whw8e |\u001b[0m 2022-11-16 09:26:21,634 [INFO ] main org.pytorch.serve.ModelServer - Initialize Inference server with: EpollServerSocketChannel.\n",
      "\u001b[36mtakz4esic5-algo-1-whw8e |\u001b[0m 2022-11-16 09:26:21,720 [INFO ] main org.pytorch.serve.ModelServer - Inference API bind to: http://0.0.0.0:8080\n",
      "\u001b[36mtakz4esic5-algo-1-whw8e |\u001b[0m 2022-11-16 09:26:21,720 [INFO ] main org.pytorch.serve.ModelServer - Initialize Metrics server with: EpollServerSocketChannel.\n",
      "\u001b[36mtakz4esic5-algo-1-whw8e |\u001b[0m 2022-11-16 09:26:21,721 [INFO ] main org.pytorch.serve.ModelServer - Metrics API bind to: http://127.0.0.1:8082\n",
      "\u001b[36mtakz4esic5-algo-1-whw8e |\u001b[0m Model server started.\n",
      "\u001b[36mtakz4esic5-algo-1-whw8e |\u001b[0m 2022-11-16 09:26:21,998 [WARN ] pool-2-thread-1 org.pytorch.serve.metrics.MetricCollector - worker pid is not available yet.\n",
      "\u001b[36mtakz4esic5-algo-1-whw8e |\u001b[0m 2022-11-16 09:26:22,194 [INFO ] pool-2-thread-1 TS_METRICS - CPUUtilization.Percent:0.0|#Level:Host|#hostname:58871a9081a1,timestamp:1668590782\n",
      "\u001b[36mtakz4esic5-algo-1-whw8e |\u001b[0m 2022-11-16 09:26:22,195 [INFO ] pool-2-thread-1 TS_METRICS - DiskAvailable.Gigabytes:419.53508377075195|#Level:Host|#hostname:58871a9081a1,timestamp:1668590782\n",
      "\u001b[36mtakz4esic5-algo-1-whw8e |\u001b[0m 2022-11-16 09:26:22,195 [INFO ] pool-2-thread-1 TS_METRICS - DiskUsage.Gigabytes:47.47687911987305|#Level:Host|#hostname:58871a9081a1,timestamp:1668590782\n",
      "\u001b[36mtakz4esic5-algo-1-whw8e |\u001b[0m 2022-11-16 09:26:22,196 [INFO ] pool-2-thread-1 TS_METRICS - DiskUtilization.Percent:10.2|#Level:Host|#hostname:58871a9081a1,timestamp:1668590782\n",
      "\u001b[36mtakz4esic5-algo-1-whw8e |\u001b[0m 2022-11-16 09:26:22,196 [INFO ] pool-2-thread-1 TS_METRICS - MemoryAvailable.Megabytes:237112.6015625|#Level:Host|#hostname:58871a9081a1,timestamp:1668590782\n",
      "\u001b[36mtakz4esic5-algo-1-whw8e |\u001b[0m 2022-11-16 09:26:22,196 [INFO ] pool-2-thread-1 TS_METRICS - MemoryUsed.Megabytes:6384.49609375|#Level:Host|#hostname:58871a9081a1,timestamp:1668590782\n",
      "\u001b[36mtakz4esic5-algo-1-whw8e |\u001b[0m 2022-11-16 09:26:22,196 [INFO ] pool-2-thread-1 TS_METRICS - MemoryUtilization.Percent:3.5|#Level:Host|#hostname:58871a9081a1,timestamp:1668590782\n",
      "\u001b[36mtakz4esic5-algo-1-whw8e |\u001b[0m 2022-11-16 09:26:22,377 [INFO ] W-9000-model_1-stdout MODEL_LOG - Listening on port: /tmp/.ts.sock.9000\n",
      "\u001b[36mtakz4esic5-algo-1-whw8e |\u001b[0m 2022-11-16 09:26:22,378 [INFO ] W-9000-model_1-stdout MODEL_LOG - [PID]102\n",
      "\u001b[36mtakz4esic5-algo-1-whw8e |\u001b[0m 2022-11-16 09:26:22,378 [INFO ] W-9000-model_1-stdout MODEL_LOG - Torch worker started.\n",
      "\u001b[36mtakz4esic5-algo-1-whw8e |\u001b[0m 2022-11-16 09:26:22,379 [INFO ] W-9000-model_1-stdout MODEL_LOG - Python runtime: 3.6.13\n",
      "\u001b[36mtakz4esic5-algo-1-whw8e |\u001b[0m 2022-11-16 09:26:22,385 [INFO ] W-9000-model_1 org.pytorch.serve.wlm.WorkerThread - Connecting to: /tmp/.ts.sock.9000\n",
      "\u001b[36mtakz4esic5-algo-1-whw8e |\u001b[0m 2022-11-16 09:26:22,387 [INFO ] W-9003-model_1-stdout MODEL_LOG - Listening on port: /tmp/.ts.sock.9003\n",
      "\u001b[36mtakz4esic5-algo-1-whw8e |\u001b[0m 2022-11-16 09:26:22,387 [INFO ] W-9003-model_1-stdout MODEL_LOG - [PID]103\n",
      "\u001b[36mtakz4esic5-algo-1-whw8e |\u001b[0m 2022-11-16 09:26:22,388 [INFO ] W-9003-model_1-stdout MODEL_LOG - Torch worker started.\n",
      "\u001b[36mtakz4esic5-algo-1-whw8e |\u001b[0m 2022-11-16 09:26:22,388 [INFO ] W-9003-model_1 org.pytorch.serve.wlm.WorkerThread - Connecting to: /tmp/.ts.sock.9003\n",
      "\u001b[36mtakz4esic5-algo-1-whw8e |\u001b[0m 2022-11-16 09:26:22,388 [INFO ] W-9003-model_1-stdout MODEL_LOG - Python runtime: 3.6.13\n",
      "\u001b[36mtakz4esic5-algo-1-whw8e |\u001b[0m 2022-11-16 09:26:22,388 [INFO ] W-9002-model_1-stdout MODEL_LOG - Listening on port: /tmp/.ts.sock.9002\n",
      "\u001b[36mtakz4esic5-algo-1-whw8e |\u001b[0m 2022-11-16 09:26:22,388 [INFO ] W-9002-model_1-stdout MODEL_LOG - [PID]104\n",
      "\u001b[36mtakz4esic5-algo-1-whw8e |\u001b[0m 2022-11-16 09:26:22,389 [INFO ] W-9002-model_1-stdout MODEL_LOG - Torch worker started.\n",
      "\u001b[36mtakz4esic5-algo-1-whw8e |\u001b[0m 2022-11-16 09:26:22,389 [INFO ] W-9002-model_1 org.pytorch.serve.wlm.WorkerThread - Connecting to: /tmp/.ts.sock.9002\n",
      "\u001b[36mtakz4esic5-algo-1-whw8e |\u001b[0m 2022-11-16 09:26:22,389 [INFO ] W-9002-model_1-stdout MODEL_LOG - Python runtime: 3.6.13\n",
      "\u001b[36mtakz4esic5-algo-1-whw8e |\u001b[0m 2022-11-16 09:26:22,399 [INFO ] W-9001-model_1-stdout MODEL_LOG - Listening on port: /tmp/.ts.sock.9001\n",
      "\u001b[36mtakz4esic5-algo-1-whw8e |\u001b[0m 2022-11-16 09:26:22,399 [INFO ] W-9001-model_1-stdout MODEL_LOG - [PID]101\n",
      "\u001b[36mtakz4esic5-algo-1-whw8e |\u001b[0m 2022-11-16 09:26:22,400 [INFO ] W-9001-model_1-stdout MODEL_LOG - Torch worker started.\n",
      "\u001b[36mtakz4esic5-algo-1-whw8e |\u001b[0m 2022-11-16 09:26:22,400 [INFO ] W-9001-model_1 org.pytorch.serve.wlm.WorkerThread - Connecting to: /tmp/.ts.sock.9001\n",
      "\u001b[36mtakz4esic5-algo-1-whw8e |\u001b[0m 2022-11-16 09:26:22,400 [INFO ] W-9001-model_1-stdout MODEL_LOG - Python runtime: 3.6.13\n",
      "\u001b[36mtakz4esic5-algo-1-whw8e |\u001b[0m 2022-11-16 09:26:22,401 [INFO ] W-9003-model_1-stdout MODEL_LOG - Connection accepted: /tmp/.ts.sock.9003.\n",
      "\u001b[36mtakz4esic5-algo-1-whw8e |\u001b[0m 2022-11-16 09:26:22,401 [INFO ] W-9002-model_1-stdout MODEL_LOG - Connection accepted: /tmp/.ts.sock.9002.\n",
      "\u001b[36mtakz4esic5-algo-1-whw8e |\u001b[0m 2022-11-16 09:26:22,401 [INFO ] W-9000-model_1-stdout MODEL_LOG - Connection accepted: /tmp/.ts.sock.9000.\n",
      "\u001b[36mtakz4esic5-algo-1-whw8e |\u001b[0m 2022-11-16 09:26:22,402 [INFO ] W-9001-model_1-stdout MODEL_LOG - Connection accepted: /tmp/.ts.sock.9001.\n",
      "\u001b[36mtakz4esic5-algo-1-whw8e |\u001b[0m 2022-11-16 09:26:22,475 [INFO ] W-9000-model_1-stdout MODEL_LOG - ######## Staring model_fn() ###############\n",
      "\u001b[36mtakz4esic5-algo-1-whw8e |\u001b[0m 2022-11-16 09:26:22,476 [INFO ] W-9000-model_1-stdout MODEL_LOG - --> model_dir : /tmp/models/d1897229b32f45908274a79eeb83378c\n",
      "\u001b[36mtakz4esic5-algo-1-whw8e |\u001b[0m 2022-11-16 09:26:22,476 [INFO ] W-9001-model_1-stdout MODEL_LOG - ######## Staring model_fn() ###############\n",
      "\u001b[36mtakz4esic5-algo-1-whw8e |\u001b[0m 2022-11-16 09:26:22,476 [INFO ] W-9001-model_1-stdout MODEL_LOG - --> model_dir : /tmp/models/d1897229b32f45908274a79eeb83378c\n",
      "\u001b[36mtakz4esic5-algo-1-whw8e |\u001b[0m 2022-11-16 09:26:22,478 [INFO ] W-9002-model_1-stdout MODEL_LOG - ######## Staring model_fn() ###############\n",
      "\u001b[36mtakz4esic5-algo-1-whw8e |\u001b[0m 2022-11-16 09:26:22,478 [INFO ] W-9003-model_1-stdout MODEL_LOG - ######## Staring model_fn() ###############\n",
      "\u001b[36mtakz4esic5-algo-1-whw8e |\u001b[0m 2022-11-16 09:26:22,478 [INFO ] W-9002-model_1-stdout MODEL_LOG - --> model_dir : /tmp/models/d1897229b32f45908274a79eeb83378c\n",
      "\u001b[36mtakz4esic5-algo-1-whw8e |\u001b[0m 2022-11-16 09:26:22,478 [INFO ] W-9003-model_1-stdout MODEL_LOG - --> model_dir : /tmp/models/d1897229b32f45908274a79eeb83378c\n",
      "\u001b[36mtakz4esic5-algo-1-whw8e |\u001b[0m 2022-11-16 09:26:22,678 [INFO ] W-9000-model_1-stdout MODEL_LOG - model_config_path: :  /opt/ml/model/code/model_config.json\n",
      "\u001b[36mtakz4esic5-algo-1-whw8e |\u001b[0m 2022-11-16 09:26:22,682 [INFO ] W-9001-model_1-stdout MODEL_LOG - model_config_path: :  /opt/ml/model/code/model_config.json\n",
      "\u001b[36mtakz4esic5-algo-1-whw8e |\u001b[0m 2022-11-16 09:26:22,684 [INFO ] W-9003-model_1-stdout MODEL_LOG - model_config_path: :  /opt/ml/model/code/model_config.json\n",
      "\u001b[36mtakz4esic5-algo-1-whw8e |\u001b[0m 2022-11-16 09:26:22,684 [INFO ] W-9002-model_1-stdout MODEL_LOG - model_config_path: :  /opt/ml/model/code/model_config.json\n",
      "\u001b[36mtakz4esic5-algo-1-whw8e |\u001b[0m 2022-11-16 09:26:22,719 [INFO ] W-9000-model_1-stdout MODEL_LOG - --> model network is loaded\n",
      "\u001b[36mtakz4esic5-algo-1-whw8e |\u001b[0m 2022-11-16 09:26:22,719 [INFO ] W-9000-model_1-stdout MODEL_LOG - model_file_path: :  {model_file_path}\n",
      "\u001b[36mtakz4esic5-algo-1-whw8e |\u001b[0m 2022-11-16 09:26:22,724 [INFO ] W-9001-model_1-stdout MODEL_LOG - --> model network is loaded\n",
      "\u001b[36mtakz4esic5-algo-1-whw8e |\u001b[0m 2022-11-16 09:26:22,724 [INFO ] W-9001-model_1-stdout MODEL_LOG - model_file_path: :  {model_file_path}\n",
      "\u001b[36mtakz4esic5-algo-1-whw8e |\u001b[0m 2022-11-16 09:26:22,725 [INFO ] W-9003-model_1-stdout MODEL_LOG - --> model network is loaded\n",
      "\u001b[36mtakz4esic5-algo-1-whw8e |\u001b[0m 2022-11-16 09:26:22,725 [INFO ] W-9003-model_1-stdout MODEL_LOG - model_file_path: :  {model_file_path}\n",
      "\u001b[36mtakz4esic5-algo-1-whw8e |\u001b[0m 2022-11-16 09:26:22,725 [INFO ] W-9002-model_1-stdout MODEL_LOG - --> model network is loaded\n",
      "\u001b[36mtakz4esic5-algo-1-whw8e |\u001b[0m 2022-11-16 09:26:22,725 [INFO ] W-9002-model_1-stdout MODEL_LOG - model_file_path: :  {model_file_path}\n",
      "\u001b[36mtakz4esic5-algo-1-whw8e |\u001b[0m 2022-11-16 09:26:25,346 [INFO ] W-9002-model_1-stdout MODEL_LOG - ####### Model is loaded #########\n",
      "\u001b[36mtakz4esic5-algo-1-whw8e |\u001b[0m 2022-11-16 09:26:25,346 [INFO ] W-9001-model_1-stdout MODEL_LOG - ####### Model is loaded #########\n",
      "\u001b[36mtakz4esic5-algo-1-whw8e |\u001b[0m 2022-11-16 09:26:25,346 [INFO ] W-9000-model_1-stdout MODEL_LOG - ####### Model is loaded #########\n",
      "\u001b[36mtakz4esic5-algo-1-whw8e |\u001b[0m 2022-11-16 09:26:25,359 [INFO ] W-9002-model_1 org.pytorch.serve.wlm.WorkerThread - Backend response time: 2903\n",
      "\u001b[36mtakz4esic5-algo-1-whw8e |\u001b[0m 2022-11-16 09:26:25,359 [INFO ] W-9001-model_1 org.pytorch.serve.wlm.WorkerThread - Backend response time: 2908\n",
      "\u001b[36mtakz4esic5-algo-1-whw8e |\u001b[0m 2022-11-16 09:26:25,359 [INFO ] W-9000-model_1 org.pytorch.serve.wlm.WorkerThread - Backend response time: 2908\n",
      "\u001b[36mtakz4esic5-algo-1-whw8e |\u001b[0m 2022-11-16 09:26:25,360 [INFO ] W-9002-model_1 TS_METRICS - W-9002-model_1.ms:3732|#Level:Host|#hostname:58871a9081a1,timestamp:1668590785\n",
      "\u001b[36mtakz4esic5-algo-1-whw8e |\u001b[0m 2022-11-16 09:26:25,360 [INFO ] W-9001-model_1 TS_METRICS - W-9001-model_1.ms:3732|#Level:Host|#hostname:58871a9081a1,timestamp:1668590785\n",
      "\u001b[36mtakz4esic5-algo-1-whw8e |\u001b[0m 2022-11-16 09:26:25,360 [INFO ] W-9000-model_1 TS_METRICS - W-9000-model_1.ms:3734|#Level:Host|#hostname:58871a9081a1,timestamp:1668590785\n",
      "\u001b[36mtakz4esic5-algo-1-whw8e |\u001b[0m 2022-11-16 09:26:25,360 [INFO ] W-9001-model_1 TS_METRICS - WorkerThreadTime.ms:43|#Level:Host|#hostname:58871a9081a1,timestamp:null\n",
      "\u001b[36mtakz4esic5-algo-1-whw8e |\u001b[0m 2022-11-16 09:26:25,360 [INFO ] W-9002-model_1 TS_METRICS - WorkerThreadTime.ms:48|#Level:Host|#hostname:58871a9081a1,timestamp:null\n",
      "\u001b[36mtakz4esic5-algo-1-whw8e |\u001b[0m 2022-11-16 09:26:25,361 [INFO ] W-9000-model_1 TS_METRICS - WorkerThreadTime.ms:44|#Level:Host|#hostname:58871a9081a1,timestamp:null\n",
      "\u001b[36mtakz4esic5-algo-1-whw8e |\u001b[0m 2022-11-16 09:26:25,366 [INFO ] W-9003-model_1-stdout MODEL_LOG - ####### Model is loaded #########\n",
      "\u001b[36mtakz4esic5-algo-1-whw8e |\u001b[0m 2022-11-16 09:26:25,368 [INFO ] W-9003-model_1 org.pytorch.serve.wlm.WorkerThread - Backend response time: 2912\n",
      "\u001b[36mtakz4esic5-algo-1-whw8e |\u001b[0m 2022-11-16 09:26:25,368 [INFO ] W-9003-model_1 TS_METRICS - W-9003-model_1.ms:3739|#Level:Host|#hostname:58871a9081a1,timestamp:1668590785\n",
      "\u001b[36mtakz4esic5-algo-1-whw8e |\u001b[0m 2022-11-16 09:26:25,369 [INFO ] W-9003-model_1 TS_METRICS - WorkerThreadTime.ms:48|#Level:Host|#hostname:58871a9081a1,timestamp:null\n",
      "\u001b[36mtakz4esic5-algo-1-whw8e |\u001b[0m 2022-11-16 09:26:26,723 [INFO ] pool-1-thread-5 ACCESS_LOG - /172.18.0.1:58034 \"GET /ping HTTP/1.1\" 200 10\n",
      "\u001b[36mtakz4esic5-algo-1-whw8e |\u001b[0m 2022-11-16 09:26:26,723 [INFO ] pool-1-thread-5 TS_METRICS - Requests2XX.Count:1|#Level:Host|#hostname:58871a9081a1,timestamp:null\n",
      "!CPU times: user 280 ms, sys: 77.1 ms, total: 357 ms\n",
      "Wall time: 20.6 s\n"
     ]
    }
   ],
   "source": [
    "%%time\n",
    "\n",
    "local_predictor = local_model.deploy(initial_instance_count=1, instance_type=instance_type,\n",
    "                         endpoint_name = local_endpoint_name,                                   \n",
    "                        )"
   ]
  },
  {
   "cell_type": "markdown",
   "metadata": {},
   "source": [
    "## 테스트 데이터 세트 로딩\n",
    "- 로컬에서 저장된 데이터를 가져와서 데이터를 변환 합니다.\n",
    "- batch_size 만큼 데이터를 로딩하는 데이터 로더를 정의 합니다."
   ]
  },
  {
   "cell_type": "code",
   "execution_count": 32,
   "metadata": {},
   "outputs": [],
   "source": [
    "import data_utils \n",
    "train_data, test_data, user_num ,item_num, train_mat = data_utils.load_all(test_num=100)"
   ]
  },
  {
   "cell_type": "markdown",
   "metadata": {},
   "source": [
    "##  추론을 위한  데이터 세트 로딩\n",
    "- 전부 데이터를 로딩할 필요가 없지만, 여기서는 기존에 사용한 함수를 이용하기 위해서 전체 데이터를 로드 합니다. \n",
    "    - 실제 데이터로 구현시에는 따로이 로드 함수를 사용하시기를 권장 합니다.\n"
   ]
  },
  {
   "cell_type": "code",
   "execution_count": 33,
   "metadata": {},
   "outputs": [
    {
     "name": "stdout",
     "output_type": "stream",
     "text": [
      "# of batch_size:  256\n"
     ]
    }
   ],
   "source": [
    "class Params:\n",
    "    def __init__(self):\n",
    "        # self.epochs = 1        \n",
    "        self.num_ng = 4\n",
    "        self.batch_size = 256\n",
    "        self.test_num_ng = 99\n",
    "        self.factor_num = 32\n",
    "        self.num_layers = 3\n",
    "        self.dropout = 0.0\n",
    "        # self.lr = 0.001\n",
    "        self.top_k = 10\n",
    "        self.out = True\n",
    "        # self.gpu = \"0\"\n",
    "                        \n",
    "args = Params()\n",
    "print(\"# of batch_size: \", args.batch_size)\n",
    "\n",
    "\n",
    "import torch.utils.data as data\n",
    "\n",
    "test_dataset = data_utils.NCFData(\n",
    "\t\ttest_data, item_num, train_mat, 0, False)\n",
    "\n",
    "test_loader = data.DataLoader(test_dataset,\n",
    "\t\tbatch_size=args.test_num_ng+1, shuffle=False, num_workers=0)\n",
    "\n"
   ]
  },
  {
   "cell_type": "markdown",
   "metadata": {},
   "source": [
    "## 추론할 Paylaod 하나를 생성"
   ]
  },
  {
   "cell_type": "code",
   "execution_count": 34,
   "metadata": {},
   "outputs": [
    {
     "name": "stdout",
     "output_type": "stream",
     "text": [
      "payload:  {'user': [0, 0, 0, 0, 0, 0, 0, 0, 0, 0, 0, 0, 0, 0, 0, 0, 0, 0, 0, 0, 0, 0, 0, 0, 0, 0, 0, 0, 0, 0, 0, 0, 0, 0, 0, 0, 0, 0, 0, 0, 0, 0, 0, 0, 0, 0, 0, 0, 0, 0, 0, 0, 0, 0, 0, 0, 0, 0, 0, 0, 0, 0, 0, 0, 0, 0, 0, 0, 0, 0, 0, 0, 0, 0, 0, 0, 0, 0, 0, 0, 0, 0, 0, 0, 0, 0, 0, 0, 0, 0, 0, 0, 0, 0, 0, 0, 0, 0, 0, 0], 'item': [25, 1064, 174, 2791, 3373, 269, 2678, 1902, 3641, 1216, 915, 3672, 2803, 2344, 986, 3217, 2824, 2598, 464, 2340, 1952, 1855, 1353, 1547, 3487, 3293, 1541, 2414, 2728, 340, 1421, 1963, 2545, 972, 487, 3463, 2727, 1135, 3135, 128, 175, 2423, 1974, 2515, 3278, 3079, 1527, 2182, 1018, 2800, 1830, 1539, 617, 247, 3448, 1699, 1420, 2487, 198, 811, 1010, 1423, 2840, 1770, 881, 1913, 1803, 1734, 3326, 1617, 224, 3352, 1869, 1182, 1331, 336, 2517, 1721, 3512, 3656, 273, 1026, 1991, 2190, 998, 3386, 3369, 185, 2822, 864, 2854, 3067, 58, 2551, 2333, 2688, 3703, 1300, 1924, 3118]}\n"
     ]
    }
   ],
   "source": [
    "for user, item, label in test_loader:   \n",
    "    user_np = user.detach().cpu().numpy()\n",
    "    item_np = item.detach().cpu().numpy()            \n",
    "    break\n",
    "payload = {'user':user_np.tolist(), 'item':item_np.tolist()}\n",
    "print(\"payload: \", payload)\n"
   ]
  },
  {
   "cell_type": "markdown",
   "metadata": {},
   "source": [
    "## 엔드 포인트 추론\n",
    "- Boto3 invoke_endpoint() 로 추론"
   ]
  },
  {
   "cell_type": "code",
   "execution_count": 35,
   "metadata": {},
   "outputs": [],
   "source": [
    "import boto3\n",
    "\n",
    "if instance_type == 'local_gpu':\n",
    "    runtime_client = sagemaker.local.LocalSagemakerRuntimeClient()    \n",
    "    endpoint_name = local_endpoint_name\n",
    "else:\n",
    "    runtime_client = boto3.Session().client('sagemaker-runtime')\n",
    "\n"
   ]
  },
  {
   "cell_type": "markdown",
   "metadata": {},
   "source": [
    "### [중요] JSON type 의 payload 를 String 으로 직렬화 해서 제공 함.\n",
    "```python\n",
    "payload_dump = json.dumps(payload)\n",
    "```"
   ]
  },
  {
   "cell_type": "code",
   "execution_count": 36,
   "metadata": {},
   "outputs": [
    {
     "name": "stdout",
     "output_type": "stream",
     "text": [
      "\u001b[36mtakz4esic5-algo-1-whw8e |\u001b[0m 2022-11-16 09:27:14,213 [INFO ] W-9001-model_1-stdout MODEL_LOG - #### input_fn starting ######\n",
      "\u001b[36mtakz4esic5-algo-1-whw8e |\u001b[0m 2022-11-16 09:27:14,213 [INFO ] W-9001-model_1-stdout MODEL_LOG - content_type: application/json\n",
      "\u001b[36mtakz4esic5-algo-1-whw8e |\u001b[0m 2022-11-16 09:27:14,213 [INFO ] W-9001-model_1-stdout MODEL_LOG - #### type of input data: <class 'str'>\n",
      "\u001b[36mtakz4esic5-algo-1-whw8e |\u001b[0m 2022-11-16 09:27:14,214 [INFO ] W-9001-model_1-stdout MODEL_LOG - #### predict_fn starting ######\n",
      "\u001b[36mtakz4esic5-algo-1-whw8e |\u001b[0m 2022-11-16 09:27:14,214 [INFO ] W-9001-model_1-stdout MODEL_LOG - #### type of input data: <class 'list'>\n",
      "\u001b[36mtakz4esic5-algo-1-whw8e |\u001b[0m 2022-11-16 09:27:15,694 [INFO ] W-9001-model_1-stdout MODEL_LOG - recommends:  [128, 25, 273, 174, 58, 175, 617, 1539, 1018, 1902]\n",
      "\u001b[36mtakz4esic5-algo-1-whw8e |\u001b[0m 2022-11-16 09:27:15,695 [INFO ] W-9001-model_1-stdout MODEL_METRICS - PredictionTime.Milliseconds:1481.6|#ModelName:model,Level:Model|#hostname:58871a9081a1,requestID:bfe0f974-8c57-4a99-94fa-34a8d344ad24,timestamp:1668590835\n",
      "\u001b[36mtakz4esic5-algo-1-whw8e |\u001b[0m 2022-11-16 09:27:15,696 [INFO ] W-9001-model_1 org.pytorch.serve.wlm.WorkerThread - Backend response time: 1484\n",
      "\u001b[36mtakz4esic5-algo-1-whw8e |\u001b[0m 2022-11-16 09:27:15,696 [INFO ] W-9001-model_1 ACCESS_LOG - /172.18.0.1:37454 \"POST /invocations HTTP/1.1\" 200 1491\n",
      "\u001b[36mtakz4esic5-algo-1-whw8e |\u001b[0m 2022-11-16 09:27:15,697 [INFO ] W-9001-model_1 TS_METRICS - Requests2XX.Count:1|#Level:Host|#hostname:58871a9081a1,timestamp:null\n",
      "\u001b[36mtakz4esic5-algo-1-whw8e |\u001b[0m 2022-11-16 09:27:15,697 [INFO ] W-9001-model_1 TS_METRICS - QueueTime.ms:0|#Level:Host|#hostname:58871a9081a1,timestamp:null\n",
      "\u001b[36mtakz4esic5-algo-1-whw8e |\u001b[0m 2022-11-16 09:27:15,697 [INFO ] W-9001-model_1 TS_METRICS - WorkerThreadTime.ms:1|#Level:Host|#hostname:58871a9081a1,timestamp:null\n",
      "--- 1.566014289855957 seconds ---\n",
      "result:  ['[128, 25, 273, 174, 58, 175, 617, 1539, 1018, 1902]']\n"
     ]
    }
   ],
   "source": [
    "import json, time\n",
    "from inference_utils import invoke_endpoint\n",
    "payload_dump = json.dumps(payload)\n",
    "\n",
    "start_time = time.time()\n",
    "result = invoke_endpoint(runtime_client, endpoint_name, \n",
    "                         payload_dump,\n",
    "                         content_type='application/json'\n",
    "                        )\n",
    "\n",
    "print(\"--- %s seconds ---\" % (time.time() - start_time))\n",
    "print('result: ', result)"
   ]
  },
  {
   "cell_type": "markdown",
   "metadata": {},
   "source": [
    "## 로컬 엔드 포인트 삭제\n",
    "- 기존에 생성한 세이지 메이커 모델, 앤드포인트 컨피그, 앤드포인트 삭제"
   ]
  },
  {
   "cell_type": "code",
   "execution_count": 37,
   "metadata": {},
   "outputs": [
    {
     "name": "stdout",
     "output_type": "stream",
     "text": [
      "Gracefully stopping... (press Ctrl+C again to force)\n",
      "--- Deleted model: sm-local-model-2022-11-16-09-26-03\n",
      "--- Deleted endpoint: local-endpoint-2022-11-16-09-26-03\n",
      "--- Deleted endpoint_config: local-endpoint-2022-11-16-09-26-03\n"
     ]
    }
   ],
   "source": [
    "from inference_utils import delete_endpoint\n",
    "\n",
    "client = sagemaker.local.LocalSagemakerClient()\n",
    "delete_endpoint(client, endpoint_name)"
   ]
  },
  {
   "cell_type": "code",
   "execution_count": null,
   "metadata": {},
   "outputs": [],
   "source": []
  }
 ],
 "metadata": {
  "kernelspec": {
   "display_name": "conda_python3",
   "language": "python",
   "name": "conda_python3"
  },
  "language_info": {
   "codemirror_mode": {
    "name": "ipython",
    "version": 3
   },
   "file_extension": ".py",
   "mimetype": "text/x-python",
   "name": "python",
   "nbconvert_exporter": "python",
   "pygments_lexer": "ipython3",
   "version": "3.8.12"
  },
  "notice": "Copyright 2018 Amazon.com, Inc. or its affiliates. All Rights Reserved.  Licensed under the Apache License, Version 2.0 (the \"License\"). You may not use this file except in compliance with the License. A copy of the License is located at http://aws.amazon.com/apache2.0/ or in the \"license\" file accompanying this file. This file is distributed on an \"AS IS\" BASIS, WITHOUT WARRANTIES OR CONDITIONS OF ANY KIND, either express or implied. See the License for the specific language governing permissions and limitations under the License."
 },
 "nbformat": 4,
 "nbformat_minor": 4
}
