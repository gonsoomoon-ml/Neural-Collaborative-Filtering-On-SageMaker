{
 "cells": [
  {
   "cell_type": "markdown",
   "metadata": {
    "jp-MarkdownHeadingCollapsed": true,
    "tags": []
   },
   "source": [
    "# [모듈 2.1] 리패키징 람다 싱글 스텝 \n",
    "\n",
    "이 노트북은 아래와 같은 목차로 진행 됩니다. 전체를 모두 실행시에 완료 시간은 **약 5분** 소요 됩니다.\n",
    "\n",
    "- 0. SageMaker Model Building Pipeline 개요\n",
    "- 1. 파이프라인 변수 및 환경 설정\n",
    "- 2. 파이프라인 스텝 단계 정의\n",
    "\n",
    "    - (1) 모델 승인 상태 변경 람다 스텝    \n",
    "    - (2) 배포할 세이지 메이커 모델 스텝 생성\n",
    "    - (3) 모델 앤드 포인트 배포를 위한 람다 스텝 생성    \n",
    "    \n",
    "- 3. 모델 빌딩 파이프라인 정의 및 실행\n",
    "- 4. Pipleline 캐싱 및 파라미터 이용한 실행\n",
    "- 5. 정리 작업\n",
    "    \n",
    "---"
   ]
  },
  {
   "cell_type": "markdown",
   "metadata": {},
   "source": [
    "# 1. 파이프라인 변수 및 환경 설정\n",
    "\n"
   ]
  },
  {
   "cell_type": "code",
   "execution_count": 34,
   "metadata": {},
   "outputs": [
    {
     "name": "stdout",
     "output_type": "stream",
     "text": [
      "The autoreload extension is already loaded. To reload it, use:\n",
      "  %reload_ext autoreload\n"
     ]
    }
   ],
   "source": [
    "%load_ext autoreload\n",
    "%autoreload 2\n",
    "\n",
    "# src 폴더 경로 설정\n",
    "import sys\n",
    "sys.path.append('./src')"
   ]
  },
  {
   "cell_type": "code",
   "execution_count": 43,
   "metadata": {},
   "outputs": [
    {
     "name": "stdout",
     "output_type": "stream",
     "text": [
      "bucket:  sagemaker-us-east-1-057716757052\n",
      "role:  arn:aws:iam::057716757052:role/mlops-blog-ncf-gsmoon\n"
     ]
    }
   ],
   "source": [
    "import boto3\n",
    "import sagemaker\n",
    "import pandas as pd\n",
    "\n",
    "region = boto3.Session().region_name\n",
    "sagemaker_session = sagemaker.session.Session()\n",
    "role = sagemaker.get_execution_role()\n",
    "bucket = sagemaker.Session().default_bucket()\n",
    "\n",
    "print(\"bucket: \", bucket)\n",
    "print(\"role: \", role)\n",
    "\n",
    "sm_client = boto3.client('sagemaker', region_name=region)\n",
    "\n",
    "%store -r model_package_group_name"
   ]
  },
  {
   "cell_type": "code",
   "execution_count": 44,
   "metadata": {},
   "outputs": [],
   "source": [
    "%store -r inference_docker_image\n",
    "# %store -r artifact_path\n",
    "%store -r byom_artifact\n",
    "%store -r bucket\n",
    "%store -r prefix\n",
    "%store -r artifact_path"
   ]
  },
  {
   "cell_type": "code",
   "execution_count": 45,
   "metadata": {},
   "outputs": [
    {
     "data": {
      "text/plain": [
       "'s3://sagemaker-us-east-1-057716757052/sm2fraud/new2train2model/model.tar.gz'"
      ]
     },
     "execution_count": 45,
     "metadata": {},
     "output_type": "execute_result"
    }
   ],
   "source": [
    "byom_artifact"
   ]
  },
  {
   "cell_type": "markdown",
   "metadata": {
    "tags": []
   },
   "source": [
    "---\n",
    "# 2. 패키징 코드\n",
    "- 패키징할 폴더 생성\n",
    "- 추론 코드의 폴더 지정 후에 패키징 폴더에 복사\n",
    "- 패키징 폴더를 source.tar.gz 압축 후에 S3에 업로딩\n",
    "- \n",
    "\n"
   ]
  },
  {
   "cell_type": "markdown",
   "metadata": {},
   "source": [
    "## 2.1. src 폴더를 source.tar.gz 로 압축"
   ]
  },
  {
   "cell_type": "code",
   "execution_count": 46,
   "metadata": {},
   "outputs": [],
   "source": [
    "import os\n",
    "\n",
    "package_dir = 'code_pkg'\n",
    "os.makedirs(package_dir, exist_ok=True)\n"
   ]
  },
  {
   "cell_type": "code",
   "execution_count": 47,
   "metadata": {},
   "outputs": [],
   "source": [
    "code_dir = '../src'"
   ]
  },
  {
   "cell_type": "code",
   "execution_count": 48,
   "metadata": {},
   "outputs": [
    {
     "name": "stdout",
     "output_type": "stream",
     "text": [
      "/home/ec2-user/SageMaker/Neural-Collaborative-Filtering-On-SageMaker/3_MLOps/1_sm_pipeline/1_training_pipeline/code_pkg\n",
      "back-iam_repackage_model_artifact.py\n",
      "config.py\n",
      "data_utils.py\n",
      "evaluate.py\n",
      "evaluation.py\n",
      "iam_helper.py\n",
      "iam_repackage_model_artifact.py\n",
      "inference.py\n",
      "inference_utils.py\n",
      "lambda_helper.py\n",
      "model.py\n",
      "pipeline_util.py\n",
      "repackage.py\n",
      "requirements.txt\n",
      "train_lib.py\n",
      "train_metric.py\n",
      "train_pipeline.py\n",
      "train.py\n"
     ]
    }
   ],
   "source": [
    "%%sh -s {package_dir} {code_dir}\n",
    "\n",
    "package_dir=$1\n",
    "code_dir=$2\n",
    "\n",
    "cd $package_dir # 폴더 생성\n",
    "echo $PWD\n",
    "rm -rf ./*\n",
    "cp -r $code_dir/*.py  .  # src py 모두 카피\n",
    "cp -r $code_dir/*.txt  .  # src 파일 모두 카피\n",
    "tar -czvf source.tar.gz * # model.tar.gz 파일 생성"
   ]
  },
  {
   "cell_type": "markdown",
   "metadata": {},
   "source": [
    "## 2.2. S3 에 업로드"
   ]
  },
  {
   "cell_type": "code",
   "execution_count": 49,
   "metadata": {},
   "outputs": [
    {
     "name": "stdout",
     "output_type": "stream",
     "text": [
      "bucket:  sagemaker-us-east-1-057716757052\n",
      "source_artifact: \n",
      " s3://sagemaker-us-east-1-057716757052/ncf/code/source.tar.gz\n"
     ]
    }
   ],
   "source": [
    "import sagemaker\n",
    "sagemaker_session  = sagemaker.session.Session()\n",
    "prefix='ncf/code'\n",
    "bucket = sagemaker.session.Session().default_bucket()\n",
    "print(\"bucket: \", bucket)\n",
    "\n",
    "source_path = os.path.join(package_dir, 'source.tar.gz')\n",
    "source_artifact = sagemaker_session.upload_data(source_path, bucket, prefix)\n",
    "print(\"source_artifact: \\n\", source_artifact)"
   ]
  },
  {
   "cell_type": "markdown",
   "metadata": {},
   "source": [
    "### 모델 아피텍트 위치 확인"
   ]
  },
  {
   "cell_type": "code",
   "execution_count": 50,
   "metadata": {},
   "outputs": [
    {
     "name": "stdout",
     "output_type": "stream",
     "text": [
      "artifact_path: \n",
      " s3://sagemaker-us-east-1-057716757052/pytorch-training-2022-10-14-13-19-13-618/output/model.tar.gz\n"
     ]
    }
   ],
   "source": [
    "print(\"artifact_path: \\n\", artifact_path)"
   ]
  },
  {
   "cell_type": "markdown",
   "metadata": {},
   "source": [
    "# 3. 세이지 메이커 파이프라인 생성"
   ]
  },
  {
   "cell_type": "markdown",
   "metadata": {
    "tags": []
   },
   "source": [
    "## 3.1. 모델 빌딩 파이프라인 변수 생성\n",
    "\n",
    "파이프라인에 인자로 넘길 변수는 아래 크게 3가지 종류가 있습니다.\n",
    "- 모델 레지스트리에 모델 등록시에 모델 승인 상태 값    \n"
   ]
  },
  {
   "cell_type": "code",
   "execution_count": 51,
   "metadata": {},
   "outputs": [],
   "source": [
    "from sagemaker.workflow.parameters import (\n",
    "    ParameterInteger,\n",
    "    ParameterString,\n",
    "    ParameterFloat,\n",
    ")\n",
    "\n",
    "\n",
    "model_approval_status = ParameterString(\n",
    "    name=\"ModelApprovalStatus\", default_value=\"PendingManualApproval\"\n",
    ")\n"
   ]
  },
  {
   "cell_type": "markdown",
   "metadata": {},
   "source": [
    "## 3.2. 파이프라인 스텝 단계 정의"
   ]
  },
  {
   "cell_type": "markdown",
   "metadata": {},
   "source": [
    "### 3.2.1 람다 스텝 정의"
   ]
  },
  {
   "cell_type": "markdown",
   "metadata": {},
   "source": [
    "####  람다 Role 생성"
   ]
  },
  {
   "cell_type": "code",
   "execution_count": 52,
   "metadata": {},
   "outputs": [
    {
     "name": "stdout",
     "output_type": "stream",
     "text": [
      "Using ARN from existing role: lambda-deployment-role\n",
      "lambda_role: \n",
      " arn:aws:iam::057716757052:role/lambda-deployment-role\n"
     ]
    }
   ],
   "source": [
    "from src.iam_helper import create_lambda_role\n",
    "\n",
    "lambda_role = create_lambda_role(\"lambda-deployment-role\")\n",
    "print(\"lambda_role: \\n\", lambda_role)"
   ]
  },
  {
   "cell_type": "markdown",
   "metadata": {},
   "source": [
    "#### 람다 스텝 정의"
   ]
  },
  {
   "cell_type": "code",
   "execution_count": 54,
   "metadata": {},
   "outputs": [],
   "source": [
    "from sagemaker.lambda_helper import Lambda\n",
    "from sagemaker.workflow.lambda_step import (\n",
    "    LambdaStep,\n",
    "    LambdaOutput,\n",
    "    LambdaOutputTypeEnum,\n",
    ")\n",
    "\n",
    "# import time \n",
    "# current_time = time.strftime(\"%m-%d-%H-%M-%S\", time.localtime())\n",
    "# function_name = \"sagemaker-lambda-step-approve-model-deployment-\" + current_time\n",
    "function_name = \"sagemaker-lambda-step-repackage-model-artifact\"\n",
    "\n",
    "print(\"function_name: \\n\", function_name)\n",
    "# Lambda helper class can be used to create the Lambda function\n",
    "func_repackage_model = Lambda(\n",
    "    function_name=function_name,\n",
    "    execution_role_arn=lambda_role,\n",
    "    script=\"src/iam_repackage_model_artifact.py\",\n",
    "    handler=\"iam_repackage_model_artifact.lambda_handler\",\n",
    ")\n",
    "\n",
    "output_param_1 = LambdaOutput(output_name=\"statusCode\", output_type=LambdaOutputTypeEnum.String)\n",
    "output_param_2 = LambdaOutput(output_name=\"body\", output_type=LambdaOutputTypeEnum.String)\n",
    "output_param_3 = LambdaOutput(output_name=\"S3_Model_URI\", output_type=LambdaOutputTypeEnum.String)\n",
    "\n",
    "step_approve_lambda = LambdaStep(\n",
    "    name=\"LambdaRepackageStep\",\n",
    "    lambda_func=func_repackage_model,\n",
    "    inputs={\n",
    "        \"source_path\" : source_artifact,\n",
    "        \"model_path\": artifact_path,\n",
    "        \"bucket\" : bucket,\n",
    "        \"prefix\" : \"ncf/repackage/model\"\n",
    "    },\n",
    "    outputs=[output_param_1, output_param_2, output_param_3],\n",
    ")\n"
   ]
  },
  {
   "cell_type": "markdown",
   "metadata": {},
   "source": [
    "# 4.모델 빌딩 파이프라인 정의 및 실행\n",
    "위에서 정의한 아래의 4개의 스텝으로 파이프라인 정의를 합니다.\n",
    "-     steps=[step_process, step_train, step_create_model, step_deploy],\n",
    "- 아래는 약 1분 정도 소요 됩니다.  이후 아래와 같이 실행 결과를 스튜디오에서 확인할 수 있습니다.\n",
    "\n",
    "\n",
    "- ![deployment-pipeline.png](img/deployment-pipeline.png)"
   ]
  },
  {
   "cell_type": "code",
   "execution_count": 55,
   "metadata": {},
   "outputs": [],
   "source": [
    "from sagemaker.workflow.pipeline import Pipeline\n",
    "\n",
    "project_prefix = 'ncf-pipeline-nb'\n",
    "\n",
    "pipeline_name = project_prefix\n",
    "pipeline = Pipeline(\n",
    "    name=pipeline_name,\n",
    "    parameters=[\n",
    "        model_approval_status,        \n",
    "    ],\n",
    "\n",
    "    \n",
    "  steps=[step_approve_lambda],\n",
    "#   steps=[step_approve_lambda, step_model_create, step_deploy_lambda],    \n",
    ")\n",
    "\n"
   ]
  },
  {
   "cell_type": "markdown",
   "metadata": {},
   "source": [
    "### 파이프라인을 SageMaker에 제출하고 실행하기 \n"
   ]
  },
  {
   "cell_type": "code",
   "execution_count": 56,
   "metadata": {
    "tags": []
   },
   "outputs": [],
   "source": [
    "import json\n",
    "\n",
    "definition = json.loads(pipeline.definition())\n",
    "# print(\" definition : \\n\", definition)\n",
    "pipeline.upsert(role_arn=role)\n",
    "execution = pipeline.start()"
   ]
  },
  {
   "cell_type": "markdown",
   "metadata": {},
   "source": [
    "### 파이프라인 운영: 파이프라인 대기 및 실행상태 확인\n",
    "\n",
    "워크플로우의 실행상황을 살펴봅니다. "
   ]
  },
  {
   "cell_type": "markdown",
   "metadata": {},
   "source": [
    "실행이 완료될 때까지 기다립니다."
   ]
  },
  {
   "cell_type": "code",
   "execution_count": 59,
   "metadata": {},
   "outputs": [],
   "source": [
    "execution.wait()"
   ]
  },
  {
   "cell_type": "markdown",
   "metadata": {},
   "source": [
    "실행된 단계들을 리스트업합니다. 파이프라인의 단계실행 서비스에 의해 시작되거나 완료된 단계를 보여줍니다."
   ]
  },
  {
   "cell_type": "code",
   "execution_count": 60,
   "metadata": {},
   "outputs": [
    {
     "data": {
      "text/plain": [
       "[{'StepName': 'LambdaRepackageStep',\n",
       "  'StartTime': datetime.datetime(2022, 10, 24, 6, 44, 10, 718000, tzinfo=tzlocal()),\n",
       "  'EndTime': datetime.datetime(2022, 10, 24, 6, 44, 22, 653000, tzinfo=tzlocal()),\n",
       "  'StepStatus': 'Succeeded',\n",
       "  'AttemptCount': 0,\n",
       "  'Metadata': {'Lambda': {'Arn': 'arn:aws:lambda:us-east-1:057716757052:function:sagemaker-lambda-step-repackage-model-artifact',\n",
       "    'OutputParameters': [{'Name': 'body', 'Value': '\"Repackaging is Done\"'},\n",
       "     {'Name': 'S3_Model_URI',\n",
       "      'Value': 's3://sagemaker-us-east-1-057716757052/ncf/repackage/model/model.tar.gz'},\n",
       "     {'Name': 'statusCode', 'Value': '200.0'}]}}}]"
      ]
     },
     "execution_count": 60,
     "metadata": {},
     "output_type": "execute_result"
    }
   ],
   "source": [
    "execution.list_steps()"
   ]
  },
  {
   "cell_type": "markdown",
   "metadata": {},
   "source": [
    "# 5. 정리 작업\n"
   ]
  },
  {
   "cell_type": "code",
   "execution_count": 62,
   "metadata": {},
   "outputs": [],
   "source": [
    "# step_approve_lambda.properties.Outputs[\"other_key\"]\n",
    "# execution.list_steps()[1]['Metadata']['Lambda']['OutputParameters'][0]['Value']"
   ]
  },
  {
   "cell_type": "code",
   "execution_count": null,
   "metadata": {},
   "outputs": [],
   "source": []
  }
 ],
 "metadata": {
  "instance_type": "ml.m5.large",
  "kernelspec": {
   "display_name": "conda_python3",
   "language": "python",
   "name": "conda_python3"
  },
  "language_info": {
   "codemirror_mode": {
    "name": "ipython",
    "version": 3
   },
   "file_extension": ".py",
   "mimetype": "text/x-python",
   "name": "python",
   "nbconvert_exporter": "python",
   "pygments_lexer": "ipython3",
   "version": "3.8.12"
  }
 },
 "nbformat": 4,
 "nbformat_minor": 4
}
