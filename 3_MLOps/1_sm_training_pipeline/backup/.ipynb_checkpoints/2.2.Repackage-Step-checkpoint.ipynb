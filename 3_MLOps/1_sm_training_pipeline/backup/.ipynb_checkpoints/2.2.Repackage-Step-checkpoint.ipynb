{
 "cells": [
  {
   "cell_type": "markdown",
   "metadata": {},
   "source": [
    "# [모듈 2.2] 람다 스텝\n",
    "\n",
    "이 노트북은 아래와 같은 목차로 진행 됩니다. 전체를 모두 실행시에 완료 시간은 **약 5분** 소요 됩니다.\n",
    "\n",
    "- 0. SageMaker Model Building Pipeline 개요\n",
    "- 1. 파이프라인 변수 및 환경 설정\n",
    "- 2. 파이프라인 스텝 단계 정의\n",
    "\n",
    "    - (1) 모델 승인 상태 변경 람다 스텝    \n",
    "    - (2) 배포할 세이지 메이커 모델 스텝 생성\n",
    "    - (3) 모델 앤드 포인트 배포를 위한 람다 스텝 생성    \n",
    "    \n",
    "- 3. 모델 빌딩 파이프라인 정의 및 실행\n",
    "- 4. Pipleline 캐싱 및 파라미터 이용한 실행\n",
    "- 5. 정리 작업\n",
    "    \n",
    "---"
   ]
  },
  {
   "cell_type": "markdown",
   "metadata": {},
   "source": [
    "# 0.[모듈 6.1] 모델 배포 파이프라인 개요\n",
    "\n",
    "- 이 노트북은 다음과 같은 상황에 대한 파이프라인 입니다.\n",
    "    - 모델 레제스트리에 여러개의 모델 패키지 그룹이 있습니다.\n",
    "    - 모델 패키지 그룹에서 특정한 것을 선택하여 가장 최근에 저장된 모델 버전을 선택 합니다.\n",
    "    - 선택된 모델 버전의 \"모델 승인 상태\"를 \"Pending\" 에서 \"Approved\" 로 변경 합니다.\n",
    "    - 이 모델 버전에 대해서 세이지 메이커 모델을 생성합니다.\n",
    "    - 세이지 메이커 모델을 기반으로 앤드포인트를 생성 합니다."
   ]
  },
  {
   "cell_type": "markdown",
   "metadata": {},
   "source": [
    "# 1. 파이프라인 변수 및 환경 설정\n",
    "\n"
   ]
  },
  {
   "cell_type": "code",
   "execution_count": 305,
   "metadata": {},
   "outputs": [
    {
     "name": "stdout",
     "output_type": "stream",
     "text": [
      "The autoreload extension is already loaded. To reload it, use:\n",
      "  %reload_ext autoreload\n"
     ]
    }
   ],
   "source": [
    "%load_ext autoreload\n",
    "%autoreload 2\n",
    "\n",
    "# src 폴더 경로 설정\n",
    "import sys\n",
    "sys.path.append('./src')"
   ]
  },
  {
   "cell_type": "code",
   "execution_count": 306,
   "metadata": {},
   "outputs": [
    {
     "name": "stdout",
     "output_type": "stream",
     "text": [
      "role:  arn:aws:iam::057716757052:role/mlops-blog-ncf-gsmoon\n"
     ]
    }
   ],
   "source": [
    "import boto3\n",
    "import sagemaker\n",
    "import pandas as pd\n",
    "\n",
    "region = boto3.Session().region_name\n",
    "sagemaker_session = sagemaker.session.Session()\n",
    "role = sagemaker.get_execution_role()\n",
    "print(\"role: \", role)\n",
    "\n",
    "sm_client = boto3.client('sagemaker', region_name=region)\n",
    "\n",
    "%store -r model_package_group_name"
   ]
  },
  {
   "cell_type": "code",
   "execution_count": 307,
   "metadata": {},
   "outputs": [],
   "source": [
    "%store -r inference_docker_image\n",
    "# %store -r artifact_path\n",
    "%store -r byom_artifact\n",
    "%store -r bucket\n",
    "%store -r prefix\n",
    "%store -r artifact_path"
   ]
  },
  {
   "cell_type": "code",
   "execution_count": 308,
   "metadata": {},
   "outputs": [
    {
     "data": {
      "text/plain": [
       "'s3://sagemaker-us-east-1-057716757052/sm2fraud/new2train2model/model.tar.gz'"
      ]
     },
     "execution_count": 308,
     "metadata": {},
     "output_type": "execute_result"
    }
   ],
   "source": [
    "byom_artifact"
   ]
  },
  {
   "cell_type": "markdown",
   "metadata": {},
   "source": [
    "# 1. 로컬 코드 혹은 클라우드 모드 결정"
   ]
  },
  {
   "cell_type": "code",
   "execution_count": 309,
   "metadata": {},
   "outputs": [],
   "source": [
    "LOCAL_MODE = True\n",
    "# LOCAL_MODE = False\n",
    "if LOCAL_MODE:\n",
    "    from sagemaker.workflow.pipeline_context import LocalPipelineSession\n",
    "    pipeline_session = LocalPipelineSession()\n",
    "else:\n",
    "    from sagemaker.workflow.pipeline_context import PipelineSession\n",
    "    pipeline_session = PipelineSession()"
   ]
  },
  {
   "cell_type": "markdown",
   "metadata": {
    "tags": []
   },
   "source": [
    "---\n",
    "# 1. 패키징 코드\n",
    "- 패키징할 폴더 생성\n",
    "- 추론 코드의 폴더 지정 후에 패키징 폴더에 복사\n",
    "- 패키징 폴더를 source.tar.gz 압축 후에 S3에 업로딩\n",
    "- \n",
    "\n"
   ]
  },
  {
   "cell_type": "code",
   "execution_count": 310,
   "metadata": {},
   "outputs": [],
   "source": [
    "import os\n",
    "\n",
    "package_dir = 'code_pkg'\n",
    "os.makedirs(package_dir, exist_ok=True)\n"
   ]
  },
  {
   "cell_type": "code",
   "execution_count": 311,
   "metadata": {},
   "outputs": [],
   "source": [
    "code_dir = '../src'"
   ]
  },
  {
   "cell_type": "code",
   "execution_count": 312,
   "metadata": {},
   "outputs": [
    {
     "name": "stdout",
     "output_type": "stream",
     "text": [
      "/home/ec2-user/SageMaker/Neural-Collaborative-Filtering-On-SageMaker/3_MLOps/1_sm_pipeline/1_training_pipeline/code_pkg\n",
      "config.py\n",
      "data_utils.py\n",
      "evaluate.py\n",
      "evaluation.py\n",
      "iam_helper.py\n",
      "iam_repackage_model_artifact.py\n",
      "inference.py\n",
      "inference_utils.py\n",
      "lambda_helper.py\n",
      "model.py\n",
      "pipeline_util.py\n",
      "repackage.py\n",
      "requirements.txt\n",
      "train_lib.py\n",
      "train_metric.py\n",
      "train_pipeline.py\n",
      "train.py\n"
     ]
    }
   ],
   "source": [
    "%%sh -s {package_dir} {code_dir}\n",
    "\n",
    "package_dir=$1\n",
    "code_dir=$2\n",
    "\n",
    "cd $package_dir # 폴더 생성\n",
    "echo $PWD\n",
    "rm -rf ./*\n",
    "cp -r $code_dir/*.py  .  # src py 모두 카피\n",
    "cp -r $code_dir/*.txt  .  # src 파일 모두 카피\n",
    "tar -czvf source.tar.gz * # model.tar.gz 파일 생성"
   ]
  },
  {
   "cell_type": "markdown",
   "metadata": {},
   "source": [
    "# 2. S3 에 업로드"
   ]
  },
  {
   "cell_type": "code",
   "execution_count": 313,
   "metadata": {},
   "outputs": [
    {
     "name": "stdout",
     "output_type": "stream",
     "text": [
      "bucket:  sagemaker-us-east-1-057716757052\n",
      "source_artifact: \n",
      " s3://sagemaker-us-east-1-057716757052/ncf/code/source.tar.gz\n"
     ]
    }
   ],
   "source": [
    "import sagemaker\n",
    "sagemaker_session  = sagemaker.session.Session()\n",
    "prefix='ncf/code'\n",
    "bucket = sagemaker.session.Session().default_bucket()\n",
    "print(\"bucket: \", bucket)\n",
    "\n",
    "source_path = os.path.join(package_dir, 'source.tar.gz')\n",
    "source_artifact = sagemaker_session.upload_data(source_path, bucket, prefix)\n",
    "print(\"source_artifact: \\n\", source_artifact)"
   ]
  },
  {
   "cell_type": "markdown",
   "metadata": {},
   "source": [
    "### 모델 아피텍트 위치 확인"
   ]
  },
  {
   "cell_type": "code",
   "execution_count": 314,
   "metadata": {},
   "outputs": [
    {
     "name": "stdout",
     "output_type": "stream",
     "text": [
      "artifact_path: \n",
      " s3://sagemaker-us-east-1-057716757052/pytorch-training-2022-10-14-13-19-13-618/output/model.tar.gz\n"
     ]
    }
   ],
   "source": [
    "print(\"artifact_path: \\n\", artifact_path)"
   ]
  },
  {
   "cell_type": "markdown",
   "metadata": {},
   "source": [
    "### ScriptProcessor 정의 및 실행"
   ]
  },
  {
   "cell_type": "code",
   "execution_count": 320,
   "metadata": {
    "tags": []
   },
   "outputs": [
    {
     "name": "stdout",
     "output_type": "stream",
     "text": [
      "\n",
      "Job Name:  repackage_model_artifact-2022-10-23-13-00-24-224\n",
      "Inputs:  [{'InputName': 'input-1', 'AppManaged': False, 'S3Input': {'S3Uri': 's3://sagemaker-us-east-1-057716757052/ncf/code/source.tar.gz', 'LocalPath': '/opt/ml/processing/source', 'S3DataType': 'S3Prefix', 'S3InputMode': 'File', 'S3DataDistributionType': 'FullyReplicated', 'S3CompressionType': 'None'}}, {'InputName': 'input-2', 'AppManaged': False, 'S3Input': {'S3Uri': 's3://sagemaker-us-east-1-057716757052/pytorch-training-2022-10-14-13-19-13-618/output/model.tar.gz', 'LocalPath': '/opt/ml/processing/model', 'S3DataType': 'S3Prefix', 'S3InputMode': 'File', 'S3DataDistributionType': 'FullyReplicated', 'S3CompressionType': 'None'}}, {'InputName': 'code', 'AppManaged': False, 'S3Input': {'S3Uri': 's3://sagemaker-us-east-1-057716757052/repackage_model_artifact-2022-10-23-13-00-24-224/input/code/repackage.py', 'LocalPath': '/opt/ml/processing/input/code', 'S3DataType': 'S3Prefix', 'S3InputMode': 'File', 'S3DataDistributionType': 'FullyReplicated', 'S3CompressionType': 'None'}}]\n",
      "Outputs:  [{'OutputName': 'repackage', 'AppManaged': False, 'S3Output': {'S3Uri': 's3://sagemaker-us-east-1-057716757052/repackage_model_artifact-2022-10-23-13-00-24-224/output/repackage', 'LocalPath': '/opt/ml/processing/repackage', 'S3UploadMode': 'EndOfJob'}}]\n"
     ]
    },
    {
     "name": "stderr",
     "output_type": "stream",
     "text": [
      "/home/ec2-user/anaconda3/envs/python3/lib/python3.8/site-packages/sagemaker/workflow/pipeline_context.py:233: UserWarning: Running within a PipelineSession, there will be No Wait, No Logs, and No Job being started.\n",
      "  warnings.warn(\n"
     ]
    }
   ],
   "source": [
    "from sagemaker.sklearn.processing import SKLearnProcessor\n",
    "from sagemaker.processing import ProcessingInput, ProcessingOutput\n",
    "from sagemaker.workflow.steps import ProcessingStep\n",
    "\n",
    "processing_instance_type = 'ml.t3.medium'\n",
    "\n",
    "repackage_script_processor = SKLearnProcessor(\n",
    "                             framework_version= \"0.23-1\",\n",
    "                             role=role,\n",
    "                             instance_type=processing_instance_type,\n",
    "                             instance_count=1,\n",
    "                             base_job_name=\"repackage_model_artifact\",\n",
    "                             sagemaker_session=pipeline_session,    \n",
    "                                    )\n",
    "\n",
    "processor_args = repackage_script_processor.run(\n",
    "                    inputs=[\n",
    "                        ProcessingInput(\n",
    "                            source= source_artifact,  # model_artifcat_path,\n",
    "                            destination=\"/opt/ml/processing/source\"\n",
    "                        ),\n",
    "                        ProcessingInput(\n",
    "                            source = artifact_path, # prep_test_output,\n",
    "                            destination=\"/opt/ml/processing/model\"\n",
    "                        )\n",
    "                    ],\n",
    "                    outputs=[\n",
    "                        #ProcessingOutput(output_name=\"evaluation\", source=\"/opt/ml/processing/evaluation\"),\n",
    "                        ProcessingOutput(output_name = \"repackage\", \n",
    "                                         source=\"/opt/ml/processing/repackage\",\n",
    "                                         destination=\"/opt/ml/processing/repackage/model.tar.gz\",                                         \n",
    "                                        ),                            \n",
    "                    ],\n",
    "                    code=\"src/repackage.py\",\n",
    ")\n",
    "\n",
    "step_process = ProcessingStep(name=\"RepackageModel\", step_args=processor_args)"
   ]
  },
  {
   "cell_type": "markdown",
   "metadata": {},
   "source": [
    "# 3.모델 빌딩 파이프라인 정의 및 실행\n",
    "위에서 정의한 아래의 4개의 스텝으로 파이프라인 정의를 합니다.\n",
    "-     steps=[step_process, step_train, step_create_model, step_deploy],\n",
    "- 아래는 약 1분 정도 소요 됩니다.  이후 아래와 같이 실행 결과를 스튜디오에서 확인할 수 있습니다.\n",
    "\n",
    "\n",
    "- ![deployment-pipeline.png](img/deployment-pipeline.png)"
   ]
  },
  {
   "cell_type": "code",
   "execution_count": 321,
   "metadata": {},
   "outputs": [],
   "source": [
    "from sagemaker.workflow.pipeline import Pipeline\n",
    "\n",
    "pipeline_name = f\"RepackagePipeline\"\n",
    "pipeline = Pipeline(\n",
    "    name=pipeline_name,\n",
    "    parameters=[],\n",
    "    steps=[step_process],\n",
    "    sagemaker_session=pipeline_session,\n",
    ")"
   ]
  },
  {
   "cell_type": "code",
   "execution_count": 322,
   "metadata": {},
   "outputs": [
    {
     "data": {
      "text/plain": [
       "{'Version': '2020-12-01',\n",
       " 'Metadata': {},\n",
       " 'Parameters': [],\n",
       " 'PipelineExperimentConfig': {'ExperimentName': {'Get': 'Execution.PipelineName'},\n",
       "  'TrialName': {'Get': 'Execution.PipelineExecutionId'}},\n",
       " 'Steps': [{'Name': 'RepackageModel',\n",
       "   'Type': 'Processing',\n",
       "   'Arguments': {'ProcessingResources': {'ClusterConfig': {'InstanceType': 'ml.t3.medium',\n",
       "      'InstanceCount': 1,\n",
       "      'VolumeSizeInGB': 30}},\n",
       "    'AppSpecification': {'ImageUri': '683313688378.dkr.ecr.us-east-1.amazonaws.com/sagemaker-scikit-learn:0.23-1-cpu-py3',\n",
       "     'ContainerEntrypoint': ['python3',\n",
       "      '/opt/ml/processing/input/code/repackage.py']},\n",
       "    'RoleArn': 'arn:aws:iam::057716757052:role/mlops-blog-ncf-gsmoon',\n",
       "    'ProcessingInputs': [{'InputName': 'input-1',\n",
       "      'AppManaged': False,\n",
       "      'S3Input': {'S3Uri': 's3://sagemaker-us-east-1-057716757052/ncf/code/source.tar.gz',\n",
       "       'LocalPath': '/opt/ml/processing/source',\n",
       "       'S3DataType': 'S3Prefix',\n",
       "       'S3InputMode': 'File',\n",
       "       'S3DataDistributionType': 'FullyReplicated',\n",
       "       'S3CompressionType': 'None'}},\n",
       "     {'InputName': 'input-2',\n",
       "      'AppManaged': False,\n",
       "      'S3Input': {'S3Uri': 's3://sagemaker-us-east-1-057716757052/pytorch-training-2022-10-14-13-19-13-618/output/model.tar.gz',\n",
       "       'LocalPath': '/opt/ml/processing/model',\n",
       "       'S3DataType': 'S3Prefix',\n",
       "       'S3InputMode': 'File',\n",
       "       'S3DataDistributionType': 'FullyReplicated',\n",
       "       'S3CompressionType': 'None'}},\n",
       "     {'InputName': 'code',\n",
       "      'AppManaged': False,\n",
       "      'S3Input': {'S3Uri': 's3://sagemaker-us-east-1-057716757052/repackage_model_artifact-2022-10-23-13-00-24-224/input/code/repackage.py',\n",
       "       'LocalPath': '/opt/ml/processing/input/code',\n",
       "       'S3DataType': 'S3Prefix',\n",
       "       'S3InputMode': 'File',\n",
       "       'S3DataDistributionType': 'FullyReplicated',\n",
       "       'S3CompressionType': 'None'}}],\n",
       "    'ProcessingOutputConfig': {'Outputs': [{'OutputName': 'repackage',\n",
       "       'AppManaged': False,\n",
       "       'S3Output': {'S3Uri': 's3://sagemaker-us-east-1-057716757052/repackage_model_artifact-2022-10-23-13-00-24-224/output/repackage',\n",
       "        'LocalPath': '/opt/ml/processing/repackage',\n",
       "        'S3UploadMode': 'EndOfJob'}}]}}}]}"
      ]
     },
     "execution_count": 322,
     "metadata": {},
     "output_type": "execute_result"
    }
   ],
   "source": [
    "import json\n",
    "\n",
    "definition = json.loads(pipeline.definition())\n",
    "definition"
   ]
  },
  {
   "cell_type": "markdown",
   "metadata": {
    "tags": []
   },
   "source": [
    "### 파이프라인을 SageMaker에 제출하고 실행하기 \n"
   ]
  },
  {
   "cell_type": "code",
   "execution_count": 323,
   "metadata": {},
   "outputs": [
    {
     "name": "stdout",
     "output_type": "stream",
     "text": [
      "Starting execution for pipeline RepackagePipeline. Execution ID is 9e71e5c8-ae60-4ba6-9388-69b14a1f5e42\n",
      "Starting pipeline step: 'RepackageModel'\n",
      "Creating 6mtqrcmpf7-algo-1-lgof3 ... \n",
      "Creating 6mtqrcmpf7-algo-1-lgof3 ... done\n",
      "Attaching to 6mtqrcmpf7-algo-1-lgof3\n",
      "\u001b[36m6mtqrcmpf7-algo-1-lgof3 |\u001b[0m #############################################\n",
      "\u001b[36m6mtqrcmpf7-algo-1-lgof3 |\u001b[0m args.base_dir: /opt/ml/processing\n",
      "\u001b[36m6mtqrcmpf7-algo-1-lgof3 |\u001b[0m args.source_path: /opt/ml/processing/source/source.tar.gz\n",
      "\u001b[36m6mtqrcmpf7-algo-1-lgof3 |\u001b[0m args.model_path: /opt/ml/processing/model/model.tar.gz\n",
      "\u001b[36m6mtqrcmpf7-algo-1-lgof3 |\u001b[0m args.repackage_dir: /opt/ml/processing/repackage\n",
      "\u001b[36m6mtqrcmpf7-algo-1-lgof3 |\u001b[0m \n",
      "\u001b[36m6mtqrcmpf7-algo-1-lgof3 |\u001b[0m ### Initial Folder Status \n",
      "\u001b[36m6mtqrcmpf7-algo-1-lgof3 |\u001b[0m ('/opt/ml/processing', ['repackage', 'source', 'input', 'model'], [])\n",
      "\u001b[36m6mtqrcmpf7-algo-1-lgof3 |\u001b[0m ('/opt/ml/processing/repackage', [], [])\n",
      "\u001b[36m6mtqrcmpf7-algo-1-lgof3 |\u001b[0m ('/opt/ml/processing/source', [], ['source.tar.gz'])\n",
      "\u001b[36m6mtqrcmpf7-algo-1-lgof3 |\u001b[0m ('/opt/ml/processing/input', ['code'], [])\n",
      "\u001b[36m6mtqrcmpf7-algo-1-lgof3 |\u001b[0m ('/opt/ml/processing/input/code', [], ['repackage.py'])\n",
      "\u001b[36m6mtqrcmpf7-algo-1-lgof3 |\u001b[0m ('/opt/ml/processing/model', [], ['model.tar.gz'])\n",
      "\u001b[36m6mtqrcmpf7-algo-1-lgof3 |\u001b[0m rmdir: failed to remove '/opt/ml/processing/repackage/model.tar.gz': No such file or directory\n",
      "\u001b[36m6mtqrcmpf7-algo-1-lgof3 |\u001b[0m \n",
      "\u001b[36m6mtqrcmpf7-algo-1-lgof3 |\u001b[0m ### Folder Status After untaring model artifact \n",
      "\u001b[36m6mtqrcmpf7-algo-1-lgof3 |\u001b[0m ('/opt/ml/processing/temp', [], ['NeuMF-end.pth'])\n",
      "\u001b[36m6mtqrcmpf7-algo-1-lgof3 |\u001b[0m \n",
      "\u001b[36m6mtqrcmpf7-algo-1-lgof3 |\u001b[0m ########## After untaring source artifact, repackage_dir is: \n",
      "\u001b[36m6mtqrcmpf7-algo-1-lgof3 |\u001b[0m ('/opt/ml/processing/temp', ['code'], ['NeuMF-end.pth'])\n",
      "\u001b[36m6mtqrcmpf7-algo-1-lgof3 |\u001b[0m ('/opt/ml/processing/temp/code', [], ['lambda_helper.py', 'train_pipeline.py', 'iam_repackage_model_artifact.py', 'inference_utils.py', 'pipeline_util.py', 'evaluation.py', 'data_utils.py', 'train.py', 'model.py', 'iam_helper.py', 'config.py', 'train_lib.py', 'evaluate.py', 'repackage.py', 'requirements.txt', 'train_metric.py', 'inference.py'])\n",
      "\u001b[36m6mtqrcmpf7-algo-1-lgof3 |\u001b[0m \n",
      "\u001b[36m6mtqrcmpf7-algo-1-lgof3 |\u001b[0m ########## After taring temp folder, final repackage_dir is: \n",
      "\u001b[36m6mtqrcmpf7-algo-1-lgof3 |\u001b[0m ('/opt/ml/processing/repackage', [], ['model.tar.gz'])\n",
      "\u001b[36m6mtqrcmpf7-algo-1-lgof3 |\u001b[0m \n",
      "\u001b[36m6mtqrcmpf7-algo-1-lgof3 |\u001b[0m ########## In temp2, untaring source artifact, repackage_dir is: \n",
      "\u001b[36m6mtqrcmpf7-algo-1-lgof3 |\u001b[0m ('/opt/ml/processing/temp2', ['code'], ['NeuMF-end.pth'])\n",
      "\u001b[36m6mtqrcmpf7-algo-1-lgof3 |\u001b[0m ('/opt/ml/processing/temp2/code', [], ['lambda_helper.py', 'train_pipeline.py', 'iam_repackage_model_artifact.py', 'inference_utils.py', 'pipeline_util.py', 'evaluation.py', 'data_utils.py', 'train.py', 'model.py', 'iam_helper.py', 'config.py', 'train_lib.py', 'evaluate.py', 'repackage.py', 'requirements.txt', 'train_metric.py', 'inference.py'])\n",
      "\u001b[36m6mtqrcmpf7-algo-1-lgof3 exited with code 0\n",
      "\u001b[0mAborting on container exit...\n",
      "===== Job Complete =====\n",
      "Pipeline step 'RepackageModel' SUCCEEDED.\n",
      "Pipeline execution 9e71e5c8-ae60-4ba6-9388-69b14a1f5e42 SUCCEEDED\n"
     ]
    }
   ],
   "source": [
    "pipeline.upsert(role_arn=role)\n",
    "execution = pipeline.start()"
   ]
  },
  {
   "cell_type": "markdown",
   "metadata": {},
   "source": [
    "### 파이프라인 운영: 파이프라인 대기 및 실행상태 확인\n",
    "\n",
    "워크플로우의 실행상황을 살펴봅니다. "
   ]
  },
  {
   "cell_type": "markdown",
   "metadata": {},
   "source": [
    "실행이 완료될 때까지 기다립니다."
   ]
  },
  {
   "cell_type": "code",
   "execution_count": 324,
   "metadata": {},
   "outputs": [
    {
     "ename": "AttributeError",
     "evalue": "'_LocalPipelineExecution' object has no attribute 'wait'",
     "output_type": "error",
     "traceback": [
      "\u001b[0;31m---------------------------------------------------------------------------\u001b[0m",
      "\u001b[0;31mAttributeError\u001b[0m                            Traceback (most recent call last)",
      "\u001b[0;32m/tmp/ipykernel_20299/2127068763.py\u001b[0m in \u001b[0;36m<cell line: 1>\u001b[0;34m()\u001b[0m\n\u001b[0;32m----> 1\u001b[0;31m \u001b[0mexecution\u001b[0m\u001b[0;34m.\u001b[0m\u001b[0mwait\u001b[0m\u001b[0;34m(\u001b[0m\u001b[0;34m)\u001b[0m\u001b[0;34m\u001b[0m\u001b[0;34m\u001b[0m\u001b[0m\n\u001b[0m",
      "\u001b[0;31mAttributeError\u001b[0m: '_LocalPipelineExecution' object has no attribute 'wait'"
     ]
    }
   ],
   "source": [
    "execution.wait()"
   ]
  },
  {
   "cell_type": "markdown",
   "metadata": {},
   "source": [
    "실행된 단계들을 리스트업합니다. 파이프라인의 단계실행 서비스에 의해 시작되거나 완료된 단계를 보여줍니다."
   ]
  },
  {
   "cell_type": "code",
   "execution_count": null,
   "metadata": {},
   "outputs": [],
   "source": [
    "execution.list_steps()"
   ]
  },
  {
   "cell_type": "code",
   "execution_count": null,
   "metadata": {},
   "outputs": [],
   "source": [
    "execution.list_steps.  \n",
    "\n",
    "step_process.properties.ProcessingOutputConfig.Outputs[\n",
    "                \"repackage\"\n",
    "            ].S3Output.S3Uri"
   ]
  },
  {
   "cell_type": "markdown",
   "metadata": {},
   "source": [
    "# 5. 정리 작업\n"
   ]
  },
  {
   "cell_type": "code",
   "execution_count": null,
   "metadata": {},
   "outputs": [],
   "source": [
    "def get_proc_artifact(execution, client, output_name):\n",
    "    '''\n",
    "    kind: 0 --> train\n",
    "    kind: 2 --> test\n",
    "    '''\n",
    "    response = execution.list_steps()\n",
    "    #print(\"response: \\n\", response)\n",
    "    \n",
    "    proc_arn = response[0]['Metadata']['ProcessingJob']['Arn']\n",
    "    proc_job_name = proc_arn.split('/')[-1]\n",
    "    # print(\"proc_job_name: \", proc_job_name)\n",
    "    \n",
    "    response = client.describe_processing_job(ProcessingJobName = proc_job_name)\n",
    "#     train_preproc_artifact = response['ProcessingOutputConfig']['Outputs'][output_name]['S3Output']['S3Uri']    \n",
    "    train_preproc_artifact = response['ProcessingOutputConfig']['Outputs'][0]['S3Output']['S3Uri']    \n",
    "    \n",
    "    return train_preproc_artifact\n",
    "\n",
    "\n",
    "if LOCAL_MODE:\n",
    "    client = sagemaker.local.LocalSagemakerClient()\n",
    "    print(\"Not available in Local Mode\")\n",
    "else:\n",
    "    import boto3    \n",
    "    client = boto3.client(\"sagemaker\")\n",
    "\n",
    "model_artifact = get_proc_artifact(execution, client, output_name=\"output-1\" )\n",
    "print(\"model_artifact: \\n\", model_artifact)"
   ]
  },
  {
   "cell_type": "code",
   "execution_count": null,
   "metadata": {},
   "outputs": [],
   "source": [
    "! aws s3 ls {model_artifact} --recursive\n",
    "! aws s3 cp {model_artifact} . --recursive\n"
   ]
  },
  {
   "cell_type": "markdown",
   "metadata": {},
   "source": [
    "## 변수 저장"
   ]
  },
  {
   "cell_type": "code",
   "execution_count": null,
   "metadata": {},
   "outputs": [],
   "source": [
    "depolyment_endpoint_name = endpoint_name\n",
    "%store depolyment_endpoint_name\n",
    "\n",
    "all_deployment_pipeline_name = pipeline_name\n",
    "%store all_deployment_pipeline_name"
   ]
  },
  {
   "cell_type": "code",
   "execution_count": null,
   "metadata": {},
   "outputs": [],
   "source": [
    "# import sagemaker\n",
    "\n",
    "# bucket = sagemaker.Session().default_bucket()\n",
    "# bucket"
   ]
  },
  {
   "cell_type": "code",
   "execution_count": null,
   "metadata": {},
   "outputs": [],
   "source": []
  },
  {
   "cell_type": "code",
   "execution_count": null,
   "metadata": {},
   "outputs": [],
   "source": []
  },
  {
   "cell_type": "code",
   "execution_count": null,
   "metadata": {},
   "outputs": [],
   "source": [
    "! aws s3 ls s3://sagemaker-us-east-1-057716757052   | grep repackage ## --recursivem | g"
   ]
  },
  {
   "cell_type": "code",
   "execution_count": null,
   "metadata": {},
   "outputs": [],
   "source": []
  }
 ],
 "metadata": {
  "instance_type": "ml.m5.large",
  "kernelspec": {
   "display_name": "conda_python3",
   "language": "python",
   "name": "conda_python3"
  },
  "language_info": {
   "codemirror_mode": {
    "name": "ipython",
    "version": 3
   },
   "file_extension": ".py",
   "mimetype": "text/x-python",
   "name": "python",
   "nbconvert_exporter": "python",
   "pygments_lexer": "ipython3",
   "version": "3.8.12"
  }
 },
 "nbformat": 4,
 "nbformat_minor": 4
}
