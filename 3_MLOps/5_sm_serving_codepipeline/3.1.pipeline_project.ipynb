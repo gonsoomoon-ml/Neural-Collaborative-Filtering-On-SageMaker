{
 "cells": [
  {
   "cell_type": "markdown",
   "id": "9c8589d4",
   "metadata": {},
   "source": [
    "# [모듈 3.1] Code Pipeline 생성 하기\n",
    "\n",
    "## 참고 자료\n",
    "- https://docs.aws.amazon.com/codepipeline/latest/userguide/pipelines-create.html\n"
   ]
  },
  {
   "cell_type": "markdown",
   "id": "90668439",
   "metadata": {},
   "source": [
    "# 1. 환경 설정 \n"
   ]
  },
  {
   "cell_type": "code",
   "execution_count": null,
   "id": "b5ce7985-2f37-4899-8176-15c995bf2997",
   "metadata": {},
   "outputs": [],
   "source": [
    "%load_ext autoreload\n",
    "%autoreload 2\n",
    "\n",
    "import sys\n",
    "sys.path.append('./src')"
   ]
  },
  {
   "cell_type": "markdown",
   "id": "aa359171-6e7c-48e4-b776-3be0f9fa2f01",
   "metadata": {},
   "source": [
    "## 1.0 기존의 변수 불러오기"
   ]
  },
  {
   "cell_type": "code",
   "execution_count": null,
   "id": "c3f907d0-640f-4d42-8c73-c6e3c4125bf0",
   "metadata": {},
   "outputs": [],
   "source": [
    "%store -r code_pipeline_serving_config_json_path\n",
    "%store -r sm_pipeline_serving_config_json_path\n",
    "\n",
    "from common_utils import load_json\n",
    "\n",
    "code_pipeline_serving_dict = load_json(code_pipeline_serving_config_json_path)\n",
    "sm_pipeline_serving_dict = load_json(sm_pipeline_serving_config_json_path)\n",
    "\n",
    "import json\n",
    "print(\"Code Pipeline Series Params: \")\n",
    "print (json.dumps(code_pipeline_serving_dict, indent=2))\n",
    "print(\"SageMaker Pipeline Series Params: \")\n",
    "print (json.dumps(sm_pipeline_serving_dict, indent=2))\n",
    "\n"
   ]
  },
  {
   "cell_type": "markdown",
   "id": "603cce9a-967b-4278-8065-cc742d8f3099",
   "metadata": {},
   "source": [
    "# 2. 변수 정의"
   ]
  },
  {
   "cell_type": "code",
   "execution_count": null,
   "id": "282b5a85-fd1e-421a-90dc-568ef14e734d",
   "metadata": {},
   "outputs": [],
   "source": [
    "region = code_pipeline_serving_dict[\"region\"]\n",
    "repository_name = code_pipeline_serving_dict[\"serving_code_repo_name\"]\n",
    "code_pipeline_name = code_pipeline_serving_dict[\"code_pipeline_name\"]\n",
    "code_build_project_name = code_pipeline_serving_dict[\"code_build_project_name\"]\n",
    "branch_name = code_pipeline_serving_dict[\"branch_name\"]\n",
    "pipeline_role_name = code_pipeline_serving_dict[\"code_pipeline_role_arn\"]\n",
    "bucket = code_pipeline_serving_dict[\"bucket\"]\n"
   ]
  },
  {
   "cell_type": "markdown",
   "id": "a036b0a0",
   "metadata": {},
   "source": [
    "# 4. 파이프라인 JSON 정의"
   ]
  },
  {
   "cell_type": "code",
   "execution_count": null,
   "id": "66423fd2",
   "metadata": {},
   "outputs": [],
   "source": [
    "pipeline_dic = {\n",
    "    \"pipeline\": {\n",
    "        \"name\": code_pipeline_name,\n",
    "        \"roleArn\": pipeline_role_name,\n",
    "        \"artifactStore\": {\n",
    "            \"type\": \"S3\",\n",
    "            \"location\": bucket\n",
    "        },\n",
    "        \"stages\": [\n",
    "            {\n",
    "                \"name\": \"Source\",\n",
    "                \"actions\": [\n",
    "                    {\n",
    "                        \"name\": \"Source\",\n",
    "                        \"actionTypeId\": {\n",
    "                            \"category\": \"Source\",\n",
    "                            \"owner\": \"AWS\",\n",
    "                            \"provider\": \"CodeCommit\",\n",
    "                            \"version\": \"1\"\n",
    "                        },\n",
    "                        \"runOrder\": 1,\n",
    "                        \"configuration\": {\n",
    "                            \"BranchName\": branch_name,\n",
    "                            \"OutputArtifactFormat\": \"CODE_ZIP\",\n",
    "                            \"PollForSourceChanges\": \"false\",\n",
    "                            \"RepositoryName\": repository_name\n",
    "                        },\n",
    "                        \"outputArtifacts\": [\n",
    "                            {\n",
    "                                \"name\": \"SourceArtifact\"\n",
    "                            }\n",
    "                        ],\n",
    "                        \"inputArtifacts\": [],\n",
    "                        \"region\": region,\n",
    "                        \"namespace\": \"SourceVariables\"\n",
    "                    }\n",
    "                ]\n",
    "            },\n",
    "            {\n",
    "                \"name\": \"Build\",\n",
    "                \"actions\": [\n",
    "                    {\n",
    "                        \"name\": \"BuildAndExecuteSageMakerPipeline\",\n",
    "                        \"actionTypeId\": {\n",
    "                            \"category\": \"Build\",\n",
    "                            \"owner\": \"AWS\",\n",
    "                            \"provider\": \"CodeBuild\",\n",
    "                            \"version\": \"1\"\n",
    "                        },\n",
    "                        \"runOrder\": 1,\n",
    "                        \"configuration\": {\n",
    "                            \"ProjectName\": code_build_project_name\n",
    "                        },\n",
    "                        \"outputArtifacts\": [\n",
    "                            {\n",
    "                                \"name\": \"BuildArtifact\"\n",
    "                            }\n",
    "                        ],\n",
    "                        \"inputArtifacts\": [\n",
    "                            {\n",
    "                                \"name\": \"SourceArtifact\"\n",
    "                            }\n",
    "                        ],\n",
    "                        \"region\": region,\n",
    "                        \"namespace\": \"BuildVariables\"\n",
    "                    }\n",
    "                ]\n",
    "            }\n",
    "        ],\n",
    "        \"version\": 1\n",
    "    },\n",
    "}"
   ]
  },
  {
   "cell_type": "markdown",
   "id": "9797906f",
   "metadata": {},
   "source": [
    "## 4.1. Dic 포맷을 JSON 으로 변경"
   ]
  },
  {
   "cell_type": "code",
   "execution_count": null,
   "id": "64b8bd1d",
   "metadata": {},
   "outputs": [],
   "source": [
    "import json\n",
    "\n",
    "pipeline_json = json.dumps(pipeline_dic)\n",
    "json.loads(pipeline_json)"
   ]
  },
  {
   "cell_type": "markdown",
   "id": "1c4cb0c6",
   "metadata": {},
   "source": [
    "## 4.2. JSON 파일 저장"
   ]
  },
  {
   "cell_type": "code",
   "execution_count": null,
   "id": "4a15e5aa",
   "metadata": {},
   "outputs": [],
   "source": [
    "json_file_path = 'src/hello_pipeline.json'\n",
    "with open(json_file_path, \"w\") as outfile:\n",
    "    outfile.write(pipeline_json)"
   ]
  },
  {
   "cell_type": "code",
   "execution_count": null,
   "id": "4257fff8",
   "metadata": {},
   "outputs": [],
   "source": [
    "with open(json_file_path) as json_file:\n",
    "    json_data = json.load(json_file)\n",
    "    \n",
    "json_data    "
   ]
  },
  {
   "cell_type": "markdown",
   "id": "4f2615ca",
   "metadata": {},
   "source": [
    "# 5. 파이프라인 실행"
   ]
  },
  {
   "cell_type": "code",
   "execution_count": null,
   "id": "eccfae97",
   "metadata": {},
   "outputs": [],
   "source": [
    "%%sh -s {json_file_path}\n",
    "json_file_path=$1\n",
    "echo $json_file_path\n",
    "echo $PWD\n",
    "aws codepipeline create-pipeline --cli-input-json file://$json_file_path\n",
    "# aws codepipeline create-pipeline --cli-input-json file://src/hello_pipeline.json"
   ]
  },
  {
   "cell_type": "markdown",
   "id": "6d280870",
   "metadata": {},
   "source": [
    "# 6. 코드 파이프라인 실행 상태 확인"
   ]
  },
  {
   "cell_type": "code",
   "execution_count": null,
   "id": "7fa115c5",
   "metadata": {},
   "outputs": [],
   "source": [
    "%%sh -s {code_pipeline_name}\n",
    "code_pipeline_name=$1\n",
    "echo $code_pipeline_name\n",
    "aws codepipeline get-pipeline-state --name $code_pipeline_name"
   ]
  },
  {
   "cell_type": "markdown",
   "id": "f6febe9c-5eb0-48ed-972c-1eda46db29af",
   "metadata": {},
   "source": [
    "# 7. 실행 확인"
   ]
  },
  {
   "cell_type": "markdown",
   "id": "6e216c84-5156-4965-afb1-67842dc0a8a4",
   "metadata": {},
   "source": [
    "## 7.1. Code Pipeline 단계 확인"
   ]
  },
  {
   "cell_type": "markdown",
   "id": "663b7ac4-4cf3-4470-a5d1-4f59664aba3d",
   "metadata": {},
   "source": [
    "![serving_codepipeline_stage.png](img/serving_codepipeline_stage.png)"
   ]
  },
  {
   "cell_type": "markdown",
   "id": "0e481dd3-a33a-4f67-87f9-5e64838b23bd",
   "metadata": {},
   "source": [
    "## 7.2. SageMaker Serving Pipeline"
   ]
  },
  {
   "cell_type": "markdown",
   "id": "51bcd506-3424-4067-a8c2-9fcc214a6bd1",
   "metadata": {},
   "source": [
    "![ncf_serving_sm_pipeline.png](img/ncf_serving_sm_pipeline.png)"
   ]
  },
  {
   "cell_type": "markdown",
   "id": "bfcdeba6-791c-49ad-a940-63130930559f",
   "metadata": {},
   "source": [
    "## 7.3. SageMaker Pipeline Step 확인"
   ]
  },
  {
   "cell_type": "markdown",
   "id": "d007184e-2d09-4b04-85f4-cc785a85741e",
   "metadata": {},
   "source": [
    "![ncf_serving_step.png](img/ncf_serving_step.png)"
   ]
  },
  {
   "cell_type": "markdown",
   "id": "da27dde4-65ec-415f-94e9-5e260a068d03",
   "metadata": {},
   "source": [
    "## 7.4. NCF 엔드포인트 확인"
   ]
  },
  {
   "cell_type": "markdown",
   "id": "26c1a527-2f27-464c-8d79-818e18132106",
   "metadata": {},
   "source": [
    "![ncf_endpoint.png](img/ncf_endpoint.png)"
   ]
  },
  {
   "cell_type": "code",
   "execution_count": null,
   "id": "56d09359-7a47-4864-a6fc-2ce505aced80",
   "metadata": {},
   "outputs": [],
   "source": []
  }
 ],
 "metadata": {
  "kernelspec": {
   "display_name": "conda_python3",
   "language": "python",
   "name": "conda_python3"
  },
  "language_info": {
   "codemirror_mode": {
    "name": "ipython",
    "version": 3
   },
   "file_extension": ".py",
   "mimetype": "text/x-python",
   "name": "python",
   "nbconvert_exporter": "python",
   "pygments_lexer": "ipython3",
   "version": "3.8.12"
  }
 },
 "nbformat": 4,
 "nbformat_minor": 5
}
