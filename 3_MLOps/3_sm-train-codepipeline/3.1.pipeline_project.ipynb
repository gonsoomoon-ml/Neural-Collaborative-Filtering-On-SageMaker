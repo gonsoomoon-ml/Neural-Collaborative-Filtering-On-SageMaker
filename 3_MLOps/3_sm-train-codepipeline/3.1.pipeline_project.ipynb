{
 "cells": [
  {
   "cell_type": "markdown",
   "id": "9c8589d4",
   "metadata": {},
   "source": [
    "# [모듈 3.1] Code Pipeline 생성 하기\n",
    "\n",
    "## 참고 자료\n",
    "- https://docs.aws.amazon.com/codepipeline/latest/userguide/pipelines-create.html\n"
   ]
  },
  {
   "cell_type": "markdown",
   "id": "90668439",
   "metadata": {},
   "source": [
    "# 1. 환경 설정\n"
   ]
  },
  {
   "cell_type": "code",
   "execution_count": 163,
   "id": "21dfe72c",
   "metadata": {},
   "outputs": [],
   "source": [
    "%store -r repository_name\n",
    "%store -r code_build_project_name\n",
    "%store -r account_id\n",
    "%store -r region\n",
    "%store -r bucket\n",
    "\n"
   ]
  },
  {
   "cell_type": "markdown",
   "id": "603cce9a-967b-4278-8065-cc742d8f3099",
   "metadata": {},
   "source": [
    "# 2. 변수 정의"
   ]
  },
  {
   "cell_type": "code",
   "execution_count": 164,
   "id": "282b5a85-fd1e-421a-90dc-568ef14e734d",
   "metadata": {},
   "outputs": [],
   "source": [
    "code_pipeline_name = \"ncf-training-code-pipeline\"\n",
    "branch_name = 'master'"
   ]
  },
  {
   "cell_type": "markdown",
   "id": "5fe6f02a",
   "metadata": {},
   "source": [
    "# 3. 파라미터 설정\n",
    "### 생성한 Code Pipeline Role 의 ARN 을 넣어 주세요. 아래를 지우고 넣습니다.\n",
    "##### pipeline_role_name = \"arn:aws:iam::XXXXXX:role/code-pipeline-gsmoon\"\n"
   ]
  },
  {
   "cell_type": "code",
   "execution_count": 165,
   "id": "6dcfbbda",
   "metadata": {},
   "outputs": [],
   "source": [
    "\n",
    "# pipeline_role_name = \"arn:aws:iam::XXXXXX:role/code-pipeline-gsmoon\"\n",
    "pipeline_role_name = \"arn:aws:iam::057716757052:role/code-pipeline-gsmoon\"\n"
   ]
  },
  {
   "cell_type": "markdown",
   "id": "a036b0a0",
   "metadata": {},
   "source": [
    "# 4. 파이프라인 JSON 정의"
   ]
  },
  {
   "cell_type": "code",
   "execution_count": 166,
   "id": "66423fd2",
   "metadata": {},
   "outputs": [],
   "source": [
    "pipeline_dic = {\n",
    "    \"pipeline\": {\n",
    "        \"name\": code_pipeline_name,\n",
    "        \"roleArn\": pipeline_role_name,\n",
    "        \"artifactStore\": {\n",
    "            \"type\": \"S3\",\n",
    "            \"location\": bucket\n",
    "        },\n",
    "        \"stages\": [\n",
    "            {\n",
    "                \"name\": \"Source\",\n",
    "                \"actions\": [\n",
    "                    {\n",
    "                        \"name\": \"Source\",\n",
    "                        \"actionTypeId\": {\n",
    "                            \"category\": \"Source\",\n",
    "                            \"owner\": \"AWS\",\n",
    "                            \"provider\": \"CodeCommit\",\n",
    "                            \"version\": \"1\"\n",
    "                        },\n",
    "                        \"runOrder\": 1,\n",
    "                        \"configuration\": {\n",
    "                            \"BranchName\": branch_name,\n",
    "                            \"OutputArtifactFormat\": \"CODE_ZIP\",\n",
    "                            \"PollForSourceChanges\": \"false\",\n",
    "                            \"RepositoryName\": repository_name\n",
    "                        },\n",
    "                        \"outputArtifacts\": [\n",
    "                            {\n",
    "                                \"name\": \"SourceArtifact\"\n",
    "                            }\n",
    "                        ],\n",
    "                        \"inputArtifacts\": [],\n",
    "                        \"region\": region,\n",
    "                        \"namespace\": \"SourceVariables\"\n",
    "                    }\n",
    "                ]\n",
    "            },\n",
    "            {\n",
    "                \"name\": \"Build\",\n",
    "                \"actions\": [\n",
    "                    {\n",
    "                        \"name\": \"BuildAndExecuteSageMakerPipeline\",\n",
    "                        \"actionTypeId\": {\n",
    "                            \"category\": \"Build\",\n",
    "                            \"owner\": \"AWS\",\n",
    "                            \"provider\": \"CodeBuild\",\n",
    "                            \"version\": \"1\"\n",
    "                        },\n",
    "                        \"runOrder\": 1,\n",
    "                        \"configuration\": {\n",
    "                            \"ProjectName\": code_build_project_name\n",
    "                        },\n",
    "                        \"outputArtifacts\": [\n",
    "                            {\n",
    "                                \"name\": \"BuildArtifact\"\n",
    "                            }\n",
    "                        ],\n",
    "                        \"inputArtifacts\": [\n",
    "                            {\n",
    "                                \"name\": \"SourceArtifact\"\n",
    "                            }\n",
    "                        ],\n",
    "                        \"region\": region,\n",
    "                        \"namespace\": \"BuildVariables\"\n",
    "                    }\n",
    "                ]\n",
    "            }\n",
    "        ],\n",
    "        \"version\": 1\n",
    "    },\n",
    "}"
   ]
  },
  {
   "cell_type": "markdown",
   "id": "9797906f",
   "metadata": {},
   "source": [
    "## 4.1. Dic 포맷을 JSON 으로 변경"
   ]
  },
  {
   "cell_type": "code",
   "execution_count": 167,
   "id": "64b8bd1d",
   "metadata": {},
   "outputs": [
    {
     "data": {
      "text/plain": [
       "{'pipeline': {'name': 'ncf-training-code-pipeline',\n",
       "  'roleArn': 'arn:aws:iam::057716757052:role/code-pipeline-gsmoon',\n",
       "  'artifactStore': {'type': 'S3',\n",
       "   'location': 'sagemaker-us-east-1-057716757052'},\n",
       "  'stages': [{'name': 'Source',\n",
       "    'actions': [{'name': 'Source',\n",
       "      'actionTypeId': {'category': 'Source',\n",
       "       'owner': 'AWS',\n",
       "       'provider': 'CodeCommit',\n",
       "       'version': '1'},\n",
       "      'runOrder': 1,\n",
       "      'configuration': {'BranchName': 'master',\n",
       "       'OutputArtifactFormat': 'CODE_ZIP',\n",
       "       'PollForSourceChanges': 'false',\n",
       "       'RepositoryName': 'mlops-ncf'},\n",
       "      'outputArtifacts': [{'name': 'SourceArtifact'}],\n",
       "      'inputArtifacts': [],\n",
       "      'region': 'us-east-1',\n",
       "      'namespace': 'SourceVariables'}]},\n",
       "   {'name': 'Build',\n",
       "    'actions': [{'name': 'BuildAndExecuteSageMakerPipeline',\n",
       "      'actionTypeId': {'category': 'Build',\n",
       "       'owner': 'AWS',\n",
       "       'provider': 'CodeBuild',\n",
       "       'version': '1'},\n",
       "      'runOrder': 1,\n",
       "      'configuration': {'ProjectName': 'ncf-training-sm-pipeline'},\n",
       "      'outputArtifacts': [{'name': 'BuildArtifact'}],\n",
       "      'inputArtifacts': [{'name': 'SourceArtifact'}],\n",
       "      'region': 'us-east-1',\n",
       "      'namespace': 'BuildVariables'}]}],\n",
       "  'version': 1}}"
      ]
     },
     "execution_count": 167,
     "metadata": {},
     "output_type": "execute_result"
    }
   ],
   "source": [
    "import json\n",
    "\n",
    "pipeline_json = json.dumps(pipeline_dic)\n",
    "json.loads(pipeline_json)"
   ]
  },
  {
   "cell_type": "markdown",
   "id": "1c4cb0c6",
   "metadata": {},
   "source": [
    "## 4.2. JSON 파일 저장"
   ]
  },
  {
   "cell_type": "code",
   "execution_count": 168,
   "id": "4a15e5aa",
   "metadata": {},
   "outputs": [],
   "source": [
    "json_file_path = 'src/hello_pipeline.json'\n",
    "with open(json_file_path, \"w\") as outfile:\n",
    "    outfile.write(pipeline_json)"
   ]
  },
  {
   "cell_type": "code",
   "execution_count": 169,
   "id": "4257fff8",
   "metadata": {},
   "outputs": [
    {
     "data": {
      "text/plain": [
       "{'pipeline': {'name': 'ncf-training-code-pipeline',\n",
       "  'roleArn': 'arn:aws:iam::057716757052:role/code-pipeline-gsmoon',\n",
       "  'artifactStore': {'type': 'S3',\n",
       "   'location': 'sagemaker-us-east-1-057716757052'},\n",
       "  'stages': [{'name': 'Source',\n",
       "    'actions': [{'name': 'Source',\n",
       "      'actionTypeId': {'category': 'Source',\n",
       "       'owner': 'AWS',\n",
       "       'provider': 'CodeCommit',\n",
       "       'version': '1'},\n",
       "      'runOrder': 1,\n",
       "      'configuration': {'BranchName': 'master',\n",
       "       'OutputArtifactFormat': 'CODE_ZIP',\n",
       "       'PollForSourceChanges': 'false',\n",
       "       'RepositoryName': 'mlops-ncf'},\n",
       "      'outputArtifacts': [{'name': 'SourceArtifact'}],\n",
       "      'inputArtifacts': [],\n",
       "      'region': 'us-east-1',\n",
       "      'namespace': 'SourceVariables'}]},\n",
       "   {'name': 'Build',\n",
       "    'actions': [{'name': 'BuildAndExecuteSageMakerPipeline',\n",
       "      'actionTypeId': {'category': 'Build',\n",
       "       'owner': 'AWS',\n",
       "       'provider': 'CodeBuild',\n",
       "       'version': '1'},\n",
       "      'runOrder': 1,\n",
       "      'configuration': {'ProjectName': 'ncf-training-sm-pipeline'},\n",
       "      'outputArtifacts': [{'name': 'BuildArtifact'}],\n",
       "      'inputArtifacts': [{'name': 'SourceArtifact'}],\n",
       "      'region': 'us-east-1',\n",
       "      'namespace': 'BuildVariables'}]}],\n",
       "  'version': 1}}"
      ]
     },
     "execution_count": 169,
     "metadata": {},
     "output_type": "execute_result"
    }
   ],
   "source": [
    "with open(json_file_path) as json_file:\n",
    "    json_data = json.load(json_file)\n",
    "    \n",
    "json_data    "
   ]
  },
  {
   "cell_type": "markdown",
   "id": "4f2615ca",
   "metadata": {},
   "source": [
    "# 5. 파이프라인 실행"
   ]
  },
  {
   "cell_type": "code",
   "execution_count": 170,
   "id": "eccfae97",
   "metadata": {},
   "outputs": [
    {
     "name": "stdout",
     "output_type": "stream",
     "text": [
      "src/hello_pipeline.json\n",
      "/home/ec2-user/SageMaker/Neural-Collaborative-Filtering-On-SageMaker/3_MLOps/3_sm-train-codepipeline\n",
      "{\n",
      "    \"pipeline\": {\n",
      "        \"name\": \"ncf-training-code-pipeline\",\n",
      "        \"roleArn\": \"arn:aws:iam::057716757052:role/code-pipeline-gsmoon\",\n",
      "        \"artifactStore\": {\n",
      "            \"type\": \"S3\",\n",
      "            \"location\": \"sagemaker-us-east-1-057716757052\"\n",
      "        },\n",
      "        \"stages\": [\n",
      "            {\n",
      "                \"name\": \"Source\",\n",
      "                \"actions\": [\n",
      "                    {\n",
      "                        \"name\": \"Source\",\n",
      "                        \"actionTypeId\": {\n",
      "                            \"category\": \"Source\",\n",
      "                            \"owner\": \"AWS\",\n",
      "                            \"provider\": \"CodeCommit\",\n",
      "                            \"version\": \"1\"\n",
      "                        },\n",
      "                        \"runOrder\": 1,\n",
      "                        \"configuration\": {\n",
      "                            \"BranchName\": \"master\",\n",
      "                            \"OutputArtifactFormat\": \"CODE_ZIP\",\n",
      "                            \"PollForSourceChanges\": \"false\",\n",
      "                            \"RepositoryName\": \"mlops-ncf\"\n",
      "                        },\n",
      "                        \"outputArtifacts\": [\n",
      "                            {\n",
      "                                \"name\": \"SourceArtifact\"\n",
      "                            }\n",
      "                        ],\n",
      "                        \"inputArtifacts\": [],\n",
      "                        \"region\": \"us-east-1\",\n",
      "                        \"namespace\": \"SourceVariables\"\n",
      "                    }\n",
      "                ]\n",
      "            },\n",
      "            {\n",
      "                \"name\": \"Build\",\n",
      "                \"actions\": [\n",
      "                    {\n",
      "                        \"name\": \"BuildAndExecuteSageMakerPipeline\",\n",
      "                        \"actionTypeId\": {\n",
      "                            \"category\": \"Build\",\n",
      "                            \"owner\": \"AWS\",\n",
      "                            \"provider\": \"CodeBuild\",\n",
      "                            \"version\": \"1\"\n",
      "                        },\n",
      "                        \"runOrder\": 1,\n",
      "                        \"configuration\": {\n",
      "                            \"ProjectName\": \"ncf-training-sm-pipeline\"\n",
      "                        },\n",
      "                        \"outputArtifacts\": [\n",
      "                            {\n",
      "                                \"name\": \"BuildArtifact\"\n",
      "                            }\n",
      "                        ],\n",
      "                        \"inputArtifacts\": [\n",
      "                            {\n",
      "                                \"name\": \"SourceArtifact\"\n",
      "                            }\n",
      "                        ],\n",
      "                        \"region\": \"us-east-1\",\n",
      "                        \"namespace\": \"BuildVariables\"\n",
      "                    }\n",
      "                ]\n",
      "            }\n",
      "        ],\n",
      "        \"version\": 1\n",
      "    }\n",
      "}\n"
     ]
    }
   ],
   "source": [
    "%%sh -s {json_file_path}\n",
    "json_file_path=$1\n",
    "echo $json_file_path\n",
    "echo $PWD\n",
    "aws codepipeline create-pipeline --cli-input-json file://$json_file_path\n",
    "# aws codepipeline create-pipeline --cli-input-json file://src/hello_pipeline.json"
   ]
  },
  {
   "cell_type": "markdown",
   "id": "6d280870",
   "metadata": {},
   "source": [
    "# 5. 코드 파이프라인 실행 상태 확인"
   ]
  },
  {
   "cell_type": "code",
   "execution_count": 171,
   "id": "7fa115c5",
   "metadata": {},
   "outputs": [
    {
     "name": "stdout",
     "output_type": "stream",
     "text": [
      "ncf-training-code-pipeline\n",
      "{\n",
      "    \"pipelineName\": \"ncf-training-code-pipeline\",\n",
      "    \"pipelineVersion\": 1,\n",
      "    \"stageStates\": [\n",
      "        {\n",
      "            \"stageName\": \"Source\",\n",
      "            \"inboundTransitionState\": {\n",
      "                \"enabled\": true\n",
      "            },\n",
      "            \"actionStates\": [\n",
      "                {\n",
      "                    \"actionName\": \"Source\",\n",
      "                    \"latestExecution\": {\n",
      "                        \"actionExecutionId\": \"9a0e2702-9e32-4d57-8ad6-467630549a4c\",\n",
      "                        \"status\": \"InProgress\",\n",
      "                        \"lastStatusChange\": 1668346480.305\n",
      "                    },\n",
      "                    \"entityUrl\": \"https://console.aws.amazon.com/codecommit/home?region=us-east-1#/repository/mlops-ncf/browse/master/--/\"\n",
      "                }\n",
      "            ],\n",
      "            \"latestExecution\": {\n",
      "                \"pipelineExecutionId\": \"579eb975-4479-4942-9d41-e3592efff66e\",\n",
      "                \"status\": \"InProgress\"\n",
      "            }\n",
      "        },\n",
      "        {\n",
      "            \"stageName\": \"Build\",\n",
      "            \"inboundTransitionState\": {\n",
      "                \"enabled\": true\n",
      "            },\n",
      "            \"actionStates\": [\n",
      "                {\n",
      "                    \"actionName\": \"BuildAndExecuteSageMakerPipeline\",\n",
      "                    \"entityUrl\": \"https://console.aws.amazon.com/codebuild/home?region=us-east-1#/projects/ncf-training-sm-pipeline/view\"\n",
      "                }\n",
      "            ]\n",
      "        }\n",
      "    ],\n",
      "    \"created\": 1668346479.696,\n",
      "    \"updated\": 1668346479.696\n",
      "}\n"
     ]
    }
   ],
   "source": [
    "%%sh -s {code_pipeline_name}\n",
    "code_pipeline_name=$1\n",
    "echo $code_pipeline_name\n",
    "aws codepipeline get-pipeline-state --name $code_pipeline_name"
   ]
  },
  {
   "cell_type": "code",
   "execution_count": 172,
   "id": "a0461da7",
   "metadata": {},
   "outputs": [
    {
     "name": "stdout",
     "output_type": "stream",
     "text": [
      "Stored 'code_pipeline_name' (str)\n"
     ]
    }
   ],
   "source": [
    "%store code_pipeline_name"
   ]
  },
  {
   "cell_type": "code",
   "execution_count": null,
   "id": "143c3449",
   "metadata": {},
   "outputs": [],
   "source": []
  },
  {
   "cell_type": "code",
   "execution_count": null,
   "id": "fa15ee8e",
   "metadata": {},
   "outputs": [],
   "source": []
  }
 ],
 "metadata": {
  "kernelspec": {
   "display_name": "conda_python3",
   "language": "python",
   "name": "conda_python3"
  },
  "language_info": {
   "codemirror_mode": {
    "name": "ipython",
    "version": 3
   },
   "file_extension": ".py",
   "mimetype": "text/x-python",
   "name": "python",
   "nbconvert_exporter": "python",
   "pygments_lexer": "ipython3",
   "version": "3.8.12"
  }
 },
 "nbformat": 4,
 "nbformat_minor": 5
}
