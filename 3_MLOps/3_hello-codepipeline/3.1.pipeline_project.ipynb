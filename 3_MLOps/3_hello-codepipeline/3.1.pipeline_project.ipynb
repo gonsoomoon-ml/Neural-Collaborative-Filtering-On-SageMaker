{
 "cells": [
  {
   "cell_type": "markdown",
   "id": "a747c288",
   "metadata": {},
   "source": [
    "# [모듈 3.1] Code Pipeline 생성 하기\n",
    "\n",
    "## 참고 자료\n",
    "- https://docs.aws.amazon.com/codepipeline/latest/userguide/pipelines-create.html\n"
   ]
  },
  {
   "cell_type": "markdown",
   "id": "f1bf21aa",
   "metadata": {},
   "source": [
    "# 1. 환경 설정\n"
   ]
  },
  {
   "cell_type": "code",
   "execution_count": null,
   "id": "93102e68",
   "metadata": {},
   "outputs": [],
   "source": [
    "%store -r repository_name\n",
    "%store -r code_build_project_name\n",
    "%store -r account_id\n",
    "%store -r region\n",
    "%store -r bucket"
   ]
  },
  {
   "cell_type": "markdown",
   "id": "319321e8",
   "metadata": {},
   "source": [
    "# 2. 파라미터 설정\n",
    "### 생성한 Code Pipeline Role 의 ARN 을 넣어 주세요. 아래를 지우고 넣습니다.\n",
    "##### pipeline_role_name = \"arn:aws:iam::XXXXXX:role/code-pipeline-gsmoon\"\n"
   ]
  },
  {
   "cell_type": "code",
   "execution_count": null,
   "id": "41c2b0cb",
   "metadata": {},
   "outputs": [],
   "source": [
    "pipeline_name = \"HelloCodePipeline\"\n",
    "pipeline_role_name = \"arn:aws:iam::XXXXXXX:role/code-pipeline-gsmoon\"\n",
    "branch_name = 'master'\n"
   ]
  },
  {
   "cell_type": "markdown",
   "id": "b1de60ae",
   "metadata": {},
   "source": [
    "# 3. 파이프라인 정의를  JSON 정의"
   ]
  },
  {
   "cell_type": "code",
   "execution_count": null,
   "id": "a3a9de40",
   "metadata": {},
   "outputs": [],
   "source": [
    "pipeline_dic = {\n",
    "    \"pipeline\": {\n",
    "        \"name\": pipeline_name,\n",
    "        \"roleArn\": pipeline_role_name,\n",
    "        \"artifactStore\": {\n",
    "            \"type\": \"S3\",\n",
    "            \"location\": bucket\n",
    "        },\n",
    "        \"stages\": [\n",
    "            {\n",
    "                \"name\": \"Source\",\n",
    "                \"actions\": [\n",
    "                    {\n",
    "                        \"name\": \"Source\",\n",
    "                        \"actionTypeId\": {\n",
    "                            \"category\": \"Source\",\n",
    "                            \"owner\": \"AWS\",\n",
    "                            \"provider\": \"CodeCommit\",\n",
    "                            \"version\": \"1\"\n",
    "                        },\n",
    "                        \"runOrder\": 1,\n",
    "                        \"configuration\": {\n",
    "                            \"BranchName\": branch_name,\n",
    "                            \"OutputArtifactFormat\": \"CODE_ZIP\",\n",
    "                            \"PollForSourceChanges\": \"false\",\n",
    "                            \"RepositoryName\": repository_name\n",
    "                        },\n",
    "                        \"outputArtifacts\": [\n",
    "                            {\n",
    "                                \"name\": \"SourceArtifact\"\n",
    "                            }\n",
    "                        ],\n",
    "                        \"inputArtifacts\": [],\n",
    "                        \"region\": region,\n",
    "                        \"namespace\": \"SourceVariables\"\n",
    "                    }\n",
    "                ]\n",
    "            },\n",
    "            {\n",
    "                \"name\": \"Build\",\n",
    "                \"actions\": [\n",
    "                    {\n",
    "                        \"name\": \"BuildAndExecuteSageMakerPipeline\",\n",
    "                        \"actionTypeId\": {\n",
    "                            \"category\": \"Build\",\n",
    "                            \"owner\": \"AWS\",\n",
    "                            \"provider\": \"CodeBuild\",\n",
    "                            \"version\": \"1\"\n",
    "                        },\n",
    "                        \"runOrder\": 1,\n",
    "                        \"configuration\": {\n",
    "                            \"ProjectName\": code_build_project_name\n",
    "                        },\n",
    "                        \"outputArtifacts\": [\n",
    "                            {\n",
    "                                \"name\": \"BuildArtifact\"\n",
    "                            }\n",
    "                        ],\n",
    "                        \"inputArtifacts\": [\n",
    "                            {\n",
    "                                \"name\": \"SourceArtifact\"\n",
    "                            }\n",
    "                        ],\n",
    "                        \"region\": region,\n",
    "                        \"namespace\": \"BuildVariables\"\n",
    "                    }\n",
    "                ]\n",
    "            }\n",
    "        ],\n",
    "        \"version\": 1\n",
    "    },\n",
    "}"
   ]
  },
  {
   "cell_type": "markdown",
   "id": "2e33c5bd",
   "metadata": {},
   "source": [
    "## 3.1. Dic 포맷을 JSON 으로 변경"
   ]
  },
  {
   "cell_type": "code",
   "execution_count": null,
   "id": "7f788452",
   "metadata": {},
   "outputs": [],
   "source": [
    "import json\n",
    "\n",
    "pipeline_json = json.dumps(pipeline_dic)\n",
    "json.loads(pipeline_json)"
   ]
  },
  {
   "cell_type": "markdown",
   "id": "fa921d32",
   "metadata": {},
   "source": [
    "## 3.2. JSON 파일 저장"
   ]
  },
  {
   "cell_type": "code",
   "execution_count": null,
   "id": "5d7352fc",
   "metadata": {},
   "outputs": [],
   "source": [
    "json_file_path = 'src/hello_pipeline.json'\n",
    "with open(json_file_path, \"w\") as outfile:\n",
    "    outfile.write(pipeline_json)"
   ]
  },
  {
   "cell_type": "code",
   "execution_count": null,
   "id": "e549798d",
   "metadata": {},
   "outputs": [],
   "source": [
    "with open(json_file_path) as json_file:\n",
    "    json_data = json.load(json_file)\n",
    "    \n",
    "json_data    "
   ]
  },
  {
   "cell_type": "markdown",
   "id": "ccf19328",
   "metadata": {},
   "source": [
    "# 4. 파이프라인 실행"
   ]
  },
  {
   "cell_type": "code",
   "execution_count": null,
   "id": "94aa43a2",
   "metadata": {},
   "outputs": [],
   "source": [
    "%%sh -s {json_file_path}\n",
    "json_file_path=$1\n",
    "echo $json_file_path\n",
    "echo $PWD\n",
    "aws codepipeline create-pipeline --cli-input-json file://$json_file_path\n",
    "# aws codepipeline create-pipeline --cli-input-json file://src/hello_pipeline.json"
   ]
  },
  {
   "cell_type": "markdown",
   "id": "49d26bfb",
   "metadata": {},
   "source": [
    "# 5. 파이프라인 실행 상태 확인"
   ]
  },
  {
   "cell_type": "code",
   "execution_count": null,
   "id": "494ff45c",
   "metadata": {},
   "outputs": [],
   "source": [
    "%%sh -s {pipeline_name}\n",
    "pipeline_name=$1\n",
    "echo $pipeline_name\n",
    "aws codepipeline get-pipeline-state --name $pipeline_name"
   ]
  },
  {
   "cell_type": "code",
   "execution_count": null,
   "id": "40988e30",
   "metadata": {},
   "outputs": [],
   "source": [
    "%store pipeline_name"
   ]
  },
  {
   "cell_type": "code",
   "execution_count": null,
   "id": "66896553",
   "metadata": {},
   "outputs": [],
   "source": []
  }
 ],
 "metadata": {
  "kernelspec": {
   "display_name": "conda_python3",
   "language": "python",
   "name": "conda_python3"
  },
  "language_info": {
   "codemirror_mode": {
    "name": "ipython",
    "version": 3
   },
   "file_extension": ".py",
   "mimetype": "text/x-python",
   "name": "python",
   "nbconvert_exporter": "python",
   "pygments_lexer": "ipython3",
   "version": "3.8.12"
  }
 },
 "nbformat": 4,
 "nbformat_minor": 5
}
