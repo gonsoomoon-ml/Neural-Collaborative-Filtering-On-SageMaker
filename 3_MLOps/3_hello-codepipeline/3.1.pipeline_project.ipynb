{
 "cells": [
  {
   "cell_type": "markdown",
   "id": "a747c288",
   "metadata": {},
   "source": [
    "# [모듈 3.1] Code Pipeline 생성 하기\n",
    "\n",
    "## 참고 자료\n",
    "- https://docs.aws.amazon.com/codepipeline/latest/userguide/pipelines-create.html\n"
   ]
  },
  {
   "cell_type": "markdown",
   "id": "f1bf21aa",
   "metadata": {},
   "source": [
    "# 1. 환경 설정\n"
   ]
  },
  {
   "cell_type": "code",
   "execution_count": null,
   "id": "93102e68",
   "metadata": {},
   "outputs": [],
   "source": [
    "%store -r hello_repository_name\n",
    "%store -r hello_code_build_project_name\n",
    "%store -r account_id\n",
    "%store -r region\n",
    "%store -r bucket"
   ]
  },
  {
   "cell_type": "markdown",
   "id": "319321e8",
   "metadata": {},
   "source": [
    "# 2. 파라미터 설정\n",
    "### 생성한 Code Pipeline Role 의 ARN 을 넣어 주세요. 아래를 지우고 넣습니다.\n",
    "##### pipeline_role_name = \"arn:aws:iam::XXXXXX:role/code-pipeline-gsmoon\"\n"
   ]
  },
  {
   "cell_type": "code",
   "execution_count": null,
   "id": "41c2b0cb",
   "metadata": {},
   "outputs": [],
   "source": [
    "hello_code_pipeline_name = \"Hello-Code-Pipeline\"\n",
    "# pipeline_role_name = \"arn:aws:iam::XXXXXXX:role/code-pipeline-gsmoon\"\n",
    "pipeline_role_name = 'arn:aws:iam::057716757052:role/code-pipeline-gsmoon'\n",
    "branch_name = 'master'\n"
   ]
  },
  {
   "cell_type": "markdown",
   "id": "b1de60ae",
   "metadata": {},
   "source": [
    "# 3. 파이프라인 정의를  JSON 정의\n",
    "\n",
    "Code Pipeline 의 정의를 Json 으로 두개의 스테이지로 정의 합니다.\n",
    "- (1) Source\n",
    "    - 이전 노트북에서 정의한 Code Commit 리파지토리를 정의 합니다. (hello-code-repo)\n",
    "- (2) Build\n",
    "    - 이전 노트북에서 정의한 Code Build Project 정의 합니다. (Hello_Code_Build)    \n",
    "    \n",
    "여기서 정의한 Code Pipeline (Hello-Code-Pipeline) 은 위의 두개의 스테이지를 실행을 하게 됩니다."
   ]
  },
  {
   "cell_type": "code",
   "execution_count": null,
   "id": "a3a9de40",
   "metadata": {},
   "outputs": [],
   "source": [
    "pipeline_dic = {\n",
    "    \"pipeline\": {\n",
    "        \"name\": hello_code_pipeline_name,\n",
    "        \"roleArn\": pipeline_role_name,\n",
    "        \"artifactStore\": {\n",
    "            \"type\": \"S3\",\n",
    "            \"location\": bucket\n",
    "        },\n",
    "        \"stages\": [\n",
    "            {\n",
    "                \"name\": \"Source\",\n",
    "                \"actions\": [\n",
    "                    {\n",
    "                        \"name\": \"Source\",\n",
    "                        \"actionTypeId\": {\n",
    "                            \"category\": \"Source\",\n",
    "                            \"owner\": \"AWS\",\n",
    "                            \"provider\": \"CodeCommit\",\n",
    "                            \"version\": \"1\"\n",
    "                        },\n",
    "                        \"runOrder\": 1,\n",
    "                        \"configuration\": {\n",
    "                            \"BranchName\": branch_name,\n",
    "                            \"OutputArtifactFormat\": \"CODE_ZIP\",\n",
    "                            \"PollForSourceChanges\": \"false\",\n",
    "                            \"RepositoryName\": hello_repository_name\n",
    "                        },\n",
    "                        \"outputArtifacts\": [\n",
    "                            {\n",
    "                                \"name\": \"SourceArtifact\"\n",
    "                            }\n",
    "                        ],\n",
    "                        \"inputArtifacts\": [],\n",
    "                        \"region\": region,\n",
    "                        \"namespace\": \"SourceVariables\"\n",
    "                    }\n",
    "                ]\n",
    "            },\n",
    "            {\n",
    "                \"name\": \"Build\",\n",
    "                \"actions\": [\n",
    "                    {\n",
    "                        \"name\": \"BuildAndExecuteSageMakerPipeline\",\n",
    "                        \"actionTypeId\": {\n",
    "                            \"category\": \"Build\",\n",
    "                            \"owner\": \"AWS\",\n",
    "                            \"provider\": \"CodeBuild\",\n",
    "                            \"version\": \"1\"\n",
    "                        },\n",
    "                        \"runOrder\": 1,\n",
    "                        \"configuration\": {\n",
    "                            \"ProjectName\": hello_code_build_project_name\n",
    "                        },\n",
    "                        \"outputArtifacts\": [\n",
    "                            {\n",
    "                                \"name\": \"BuildArtifact\"\n",
    "                            }\n",
    "                        ],\n",
    "                        \"inputArtifacts\": [\n",
    "                            {\n",
    "                                \"name\": \"SourceArtifact\"\n",
    "                            }\n",
    "                        ],\n",
    "                        \"region\": region,\n",
    "                        \"namespace\": \"BuildVariables\"\n",
    "                    }\n",
    "                ]\n",
    "            }\n",
    "        ],\n",
    "        \"version\": 1\n",
    "    },\n",
    "}"
   ]
  },
  {
   "cell_type": "markdown",
   "id": "2e33c5bd",
   "metadata": {},
   "source": [
    "## 3.1. Dic 포맷을 JSON 으로 변경"
   ]
  },
  {
   "cell_type": "code",
   "execution_count": null,
   "id": "7f788452",
   "metadata": {},
   "outputs": [],
   "source": [
    "import json\n",
    "\n",
    "pipeline_json = json.dumps(pipeline_dic)\n",
    "json.loads(pipeline_json)"
   ]
  },
  {
   "cell_type": "markdown",
   "id": "fa921d32",
   "metadata": {},
   "source": [
    "## 3.2. JSON 파일 저장"
   ]
  },
  {
   "cell_type": "code",
   "execution_count": null,
   "id": "5d7352fc",
   "metadata": {},
   "outputs": [],
   "source": [
    "json_file_path = 'src/hello_pipeline.json'\n",
    "with open(json_file_path, \"w\") as outfile:\n",
    "    outfile.write(pipeline_json)"
   ]
  },
  {
   "cell_type": "code",
   "execution_count": null,
   "id": "e549798d",
   "metadata": {},
   "outputs": [],
   "source": [
    "with open(json_file_path) as json_file:\n",
    "    json_data = json.load(json_file)\n",
    "    \n",
    "json_data    "
   ]
  },
  {
   "cell_type": "markdown",
   "id": "ccf19328",
   "metadata": {},
   "source": [
    "# 4. 파이프라인 실행\n",
    "- 파이프라인을 생성과 동시에 실행 합니다."
   ]
  },
  {
   "cell_type": "code",
   "execution_count": null,
   "id": "94aa43a2",
   "metadata": {},
   "outputs": [],
   "source": [
    "%%sh -s {json_file_path}\n",
    "json_file_path=$1\n",
    "echo $json_file_path\n",
    "echo $PWD\n",
    "aws codepipeline create-pipeline --cli-input-json file://$json_file_path\n",
    "# aws codepipeline create-pipeline --cli-input-json file://src/hello_pipeline.json"
   ]
  },
  {
   "cell_type": "markdown",
   "id": "49d26bfb",
   "metadata": {},
   "source": [
    "# 5. 파이프라인 실행 상태 확인"
   ]
  },
  {
   "cell_type": "markdown",
   "id": "f6ae13f9-2d26-4094-8db1-2daad5203654",
   "metadata": {},
   "source": [
    "## 5.1. AWS CLI 로 확인"
   ]
  },
  {
   "cell_type": "code",
   "execution_count": null,
   "id": "494ff45c",
   "metadata": {},
   "outputs": [],
   "source": [
    "%%sh -s {hello_code_pipeline_name}\n",
    "pipeline_name=$1\n",
    "echo $pipeline_name\n",
    "aws codepipeline get-pipeline-state --name $pipeline_name"
   ]
  },
  {
   "cell_type": "markdown",
   "id": "b24f6586-3ae9-49a3-a8e3-5a95b5d9fffd",
   "metadata": {},
   "source": []
  },
  {
   "cell_type": "markdown",
   "id": "e06602c4-442c-4e12-85f0-61ba13e3eb6a",
   "metadata": {},
   "source": [
    "# 6. 변수 저장"
   ]
  },
  {
   "cell_type": "code",
   "execution_count": null,
   "id": "40988e30",
   "metadata": {},
   "outputs": [],
   "source": [
    "%store hello_code_pipeline_name"
   ]
  },
  {
   "cell_type": "markdown",
   "id": "81e9dae7-bad3-4d96-af5d-f1782c384195",
   "metadata": {},
   "source": [
    "# 7. Code Pipelien 콘솔에서 확인"
   ]
  },
  {
   "cell_type": "markdown",
   "id": "89a2712c-d494-4c5a-b2a5-7f310e6d281b",
   "metadata": {},
   "source": [
    "## 7.1. Code Pipeline 콘솔"
   ]
  },
  {
   "cell_type": "markdown",
   "id": "f4156f9e-24ab-4805-9d5b-163c2a7b802e",
   "metadata": {},
   "source": [
    "![code_pipeline_console.png](img/code_pipeline_console.png)"
   ]
  },
  {
   "cell_type": "markdown",
   "id": "168fbe22-2b2f-497a-8f96-fe86154c707d",
   "metadata": {},
   "source": [
    "## 7.2. Hello-Code-Pipeline 상세"
   ]
  },
  {
   "cell_type": "markdown",
   "id": "2560f919-e823-4fb6-997a-7f8ca19f6702",
   "metadata": {},
   "source": [
    "![hello_code_pipeline_stages.png](img/hello_code_pipeline_stages.png)"
   ]
  },
  {
   "cell_type": "markdown",
   "id": "e0deef07-e719-44fe-8802-dae67c27d00e",
   "metadata": {},
   "source": [
    "## 7.3. Code Build Projectg 로그 및 결과 확인\n",
    "- [중요] 실제 작업시 \"에러\" 가 발생하면 아래 화면의 \"로그\" 를 확인하면서 디버깅 하시면 됩니다."
   ]
  },
  {
   "cell_type": "markdown",
   "id": "250b0c6f-7f6e-4522-9a3a-3bc9508f2b5a",
   "metadata": {},
   "source": [
    "![build_logs.png](img/build_logs.png)"
   ]
  },
  {
   "cell_type": "code",
   "execution_count": null,
   "id": "226b0097-f3cb-40f8-ad10-4628a3831d86",
   "metadata": {},
   "outputs": [],
   "source": []
  }
 ],
 "metadata": {
  "kernelspec": {
   "display_name": "conda_python3",
   "language": "python",
   "name": "conda_python3"
  },
  "language_info": {
   "codemirror_mode": {
    "name": "ipython",
    "version": 3
   },
   "file_extension": ".py",
   "mimetype": "text/x-python",
   "name": "python",
   "nbconvert_exporter": "python",
   "pygments_lexer": "ipython3",
   "version": "3.8.12"
  }
 },
 "nbformat": 4,
 "nbformat_minor": 5
}
