{
 "cells": [
  {
   "cell_type": "markdown",
   "id": "bb8426f7",
   "metadata": {},
   "source": [
    "# [모듈 4.1] 리소스 클린업"
   ]
  },
  {
   "cell_type": "markdown",
   "id": "590b4e52",
   "metadata": {},
   "source": [
    "# 1. 환경 설정"
   ]
  },
  {
   "cell_type": "code",
   "execution_count": null,
   "id": "c2930d13",
   "metadata": {},
   "outputs": [],
   "source": [
    "%store -r repository_name\n",
    "%store -r code_build_project_name\n",
    "%store -r pipeline_name"
   ]
  },
  {
   "cell_type": "markdown",
   "id": "5050e16f",
   "metadata": {},
   "source": [
    "# 2. 코드 리파지토리 삭제"
   ]
  },
  {
   "cell_type": "code",
   "execution_count": null,
   "id": "76493100",
   "metadata": {},
   "outputs": [],
   "source": [
    "%%sh -s {repository_name}\n",
    "repository_name=$1\n",
    "aws codecommit delete-repository --repository-name $repository_name \n"
   ]
  },
  {
   "cell_type": "markdown",
   "id": "fd8b4f00",
   "metadata": {},
   "source": [
    "# 3. 코드 빌드 프로젝트 삭제"
   ]
  },
  {
   "cell_type": "code",
   "execution_count": null,
   "id": "cb31b8d6",
   "metadata": {},
   "outputs": [],
   "source": [
    "%%sh -s {code_build_project_name}\n",
    "code_build_project_name=$1\n",
    "aws codebuild delete-project --name $code_build_project_name"
   ]
  },
  {
   "cell_type": "markdown",
   "id": "39df0fc7",
   "metadata": {},
   "source": [
    "# 4. 코드 파이프라인 삭제"
   ]
  },
  {
   "cell_type": "code",
   "execution_count": null,
   "id": "54413171",
   "metadata": {},
   "outputs": [],
   "source": [
    "%%sh -s {pipeline_name}\n",
    "pipeline_name=$1\n",
    "aws codepipeline delete-pipeline --name $pipeline_name"
   ]
  },
  {
   "cell_type": "code",
   "execution_count": null,
   "id": "1fdecb6a",
   "metadata": {},
   "outputs": [],
   "source": []
  },
  {
   "cell_type": "code",
   "execution_count": null,
   "id": "7cfc6ee4-6876-434b-b356-2884ca81c1dc",
   "metadata": {},
   "outputs": [],
   "source": []
  },
  {
   "cell_type": "code",
   "execution_count": null,
   "id": "82225c0a-9fd2-48f7-b7d3-0af43c568240",
   "metadata": {},
   "outputs": [],
   "source": []
  }
 ],
 "metadata": {
  "kernelspec": {
   "display_name": "conda_python3",
   "language": "python",
   "name": "conda_python3"
  },
  "language_info": {
   "codemirror_mode": {
    "name": "ipython",
    "version": 3
   },
   "file_extension": ".py",
   "mimetype": "text/x-python",
   "name": "python",
   "nbconvert_exporter": "python",
   "pygments_lexer": "ipython3",
   "version": "3.8.12"
  }
 },
 "nbformat": 4,
 "nbformat_minor": 5
}
