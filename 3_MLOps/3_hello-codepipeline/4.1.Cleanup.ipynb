{
 "cells": [
  {
   "cell_type": "markdown",
   "id": "bb8426f7",
   "metadata": {},
   "source": [
    "# [모듈 4.1] 리소스 클린업\n",
    "\n",
    "이전 노트북에서 생성한 Code Commit Repo, Build Project, Code Pipeline 을 삭제 합니다."
   ]
  },
  {
   "cell_type": "markdown",
   "id": "590b4e52",
   "metadata": {},
   "source": [
    "# 1. 환경 설정"
   ]
  },
  {
   "cell_type": "code",
   "execution_count": 3,
   "id": "c2930d13",
   "metadata": {},
   "outputs": [],
   "source": [
    "%store -r hello_repository_name\n",
    "%store -r hello_code_build_project_name\n",
    "%store -r hello_code_pipeline_name"
   ]
  },
  {
   "cell_type": "code",
   "execution_count": 5,
   "id": "8eff56c5-aa33-40c0-89ad-a19cab61a849",
   "metadata": {},
   "outputs": [
    {
     "name": "stdout",
     "output_type": "stream",
     "text": [
      "hello_repository_name: \n",
      " hello-code-repo\n",
      "hello_code_build_project_name : \n",
      " Hello_Code_Build\n",
      "hello_code_pipeline_name : \n",
      " Hello-Code-Pipeline\n"
     ]
    }
   ],
   "source": [
    "print(\"hello_repository_name: \\n\", hello_repository_name)\n",
    "print(\"hello_code_build_project_name : \\n\", hello_code_build_project_name)\n",
    "print(\"hello_code_pipeline_name : \\n\", hello_code_pipeline_name)"
   ]
  },
  {
   "cell_type": "markdown",
   "id": "5050e16f",
   "metadata": {},
   "source": [
    "# 2. 코드 리파지토리 삭제"
   ]
  },
  {
   "cell_type": "code",
   "execution_count": 6,
   "id": "76493100",
   "metadata": {},
   "outputs": [
    {
     "name": "stdout",
     "output_type": "stream",
     "text": [
      "{\n",
      "    \"repositoryId\": \"73059f81-b27a-44bc-9ca2-8f15bde396a6\"\n",
      "}\n"
     ]
    }
   ],
   "source": [
    "%%sh -s {hello_repository_name}\n",
    "repository_name=$1\n",
    "aws codecommit delete-repository --repository-name $repository_name \n"
   ]
  },
  {
   "cell_type": "markdown",
   "id": "fd8b4f00",
   "metadata": {},
   "source": [
    "# 3. 코드 빌드 프로젝트 삭제"
   ]
  },
  {
   "cell_type": "code",
   "execution_count": 7,
   "id": "cb31b8d6",
   "metadata": {},
   "outputs": [],
   "source": [
    "%%sh -s {hello_code_build_project_name}\n",
    "code_build_project_name=$1\n",
    "aws codebuild delete-project --name $code_build_project_name"
   ]
  },
  {
   "cell_type": "markdown",
   "id": "39df0fc7",
   "metadata": {},
   "source": [
    "# 4. 코드 파이프라인 삭제"
   ]
  },
  {
   "cell_type": "code",
   "execution_count": 8,
   "id": "54413171",
   "metadata": {},
   "outputs": [],
   "source": [
    "%%sh -s {hello_code_pipeline_name}\n",
    "pipeline_name=$1\n",
    "aws codepipeline delete-pipeline --name $pipeline_name"
   ]
  },
  {
   "cell_type": "code",
   "execution_count": null,
   "id": "1fdecb6a",
   "metadata": {},
   "outputs": [],
   "source": []
  },
  {
   "cell_type": "code",
   "execution_count": null,
   "id": "7cfc6ee4-6876-434b-b356-2884ca81c1dc",
   "metadata": {},
   "outputs": [],
   "source": []
  },
  {
   "cell_type": "code",
   "execution_count": null,
   "id": "82225c0a-9fd2-48f7-b7d3-0af43c568240",
   "metadata": {},
   "outputs": [],
   "source": []
  }
 ],
 "metadata": {
  "kernelspec": {
   "display_name": "conda_python3",
   "language": "python",
   "name": "conda_python3"
  },
  "language_info": {
   "codemirror_mode": {
    "name": "ipython",
    "version": 3
   },
   "file_extension": ".py",
   "mimetype": "text/x-python",
   "name": "python",
   "nbconvert_exporter": "python",
   "pygments_lexer": "ipython3",
   "version": "3.8.12"
  }
 },
 "nbformat": 4,
 "nbformat_minor": 5
}
