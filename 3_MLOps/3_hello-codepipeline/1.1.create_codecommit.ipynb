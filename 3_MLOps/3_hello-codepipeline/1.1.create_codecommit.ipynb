{
 "cells": [
  {
   "cell_type": "markdown",
   "id": "8731ca8d",
   "metadata": {},
   "source": [
    "# [모듈 1.1] CodeCommit 리파지토리 생성"
   ]
  },
  {
   "cell_type": "markdown",
   "id": "ab0a3761",
   "metadata": {},
   "source": [
    "이 노트북은 CodeCommit 리파지토리를 생성하고, codecommit 폴더를 리파지토리에 Push 하는 노트북 입니다.\n",
    "\n",
    "## 참고 자료\n",
    "- [Quick guide to start using AWS CodeCommit via AWS CLI](https://dev.to/tiamatt/quick-guide-to-start-using-aws-codecommit-via-aws-cli-1jg5)\n",
    "- 개발자 가이드\n",
    "    - [Setup for HTTPS users using Git credentials](https://docs.aws.amazon.com/codecommit/latest/userguide/setting-up-gc.html)\n",
    "    - [Create an AWS CodeCommit repository](https://docs.aws.amazon.com/codecommit/latest/userguide/how-to-create-repository.html#how-to-create-repository-cli)\n",
    "    \n",
    "\n"
   ]
  },
  {
   "cell_type": "markdown",
   "id": "db4f9d8c",
   "metadata": {},
   "source": [
    "# 1. 환경 확인"
   ]
  },
  {
   "cell_type": "code",
   "execution_count": 1,
   "id": "63b692a8",
   "metadata": {},
   "outputs": [
    {
     "name": "stdout",
     "output_type": "stream",
     "text": [
      "git version 2.37.1\n"
     ]
    }
   ],
   "source": [
    "%%sh \n",
    "git --version"
   ]
  },
  {
   "cell_type": "code",
   "execution_count": 2,
   "id": "3cd7bf4c",
   "metadata": {},
   "outputs": [
    {
     "name": "stdout",
     "output_type": "stream",
     "text": [
      "aws-cli/1.27.20 Python/3.8.12 Linux/5.10.102-99.473.amzn2.x86_64 botocore/1.29.32\n"
     ]
    }
   ],
   "source": [
    "%%sh\n",
    "aws --version"
   ]
  },
  {
   "cell_type": "markdown",
   "id": "d944f190",
   "metadata": {},
   "source": [
    "# 2. 파라미터 세팅"
   ]
  },
  {
   "cell_type": "code",
   "execution_count": 3,
   "id": "3ecea166",
   "metadata": {},
   "outputs": [],
   "source": [
    "hello_repository_name = \"hello-code-repo\"\n",
    "source_code = 'codecommit'\n"
   ]
  },
  {
   "cell_type": "markdown",
   "id": "ee8a0250",
   "metadata": {},
   "source": [
    "# 3.리파지토리 생성"
   ]
  },
  {
   "cell_type": "code",
   "execution_count": 4,
   "id": "211cb8e6",
   "metadata": {},
   "outputs": [
    {
     "name": "stdout",
     "output_type": "stream",
     "text": [
      "{\n",
      "    \"repositoryMetadata\": {\n",
      "        \"accountId\": \"057716757052\",\n",
      "        \"repositoryId\": \"17342104-a5d3-4d82-bd31-be75c94ef2c4\",\n",
      "        \"repositoryName\": \"hello-code-repo\",\n",
      "        \"repositoryDescription\": \"Hello coderepository\",\n",
      "        \"lastModifiedDate\": 1671458841.288,\n",
      "        \"creationDate\": 1671458841.288,\n",
      "        \"cloneUrlHttp\": \"https://git-codecommit.ap-northeast-2.amazonaws.com/v1/repos/hello-code-repo\",\n",
      "        \"cloneUrlSsh\": \"ssh://git-codecommit.ap-northeast-2.amazonaws.com/v1/repos/hello-code-repo\",\n",
      "        \"Arn\": \"arn:aws:codecommit:ap-northeast-2:057716757052:hello-code-repo\"\n",
      "    }\n",
      "}\n"
     ]
    }
   ],
   "source": [
    "%%sh -s {hello_repository_name}\n",
    "repository_name=$1\n",
    "aws codecommit create-repository --repository-name $repository_name \\\n",
    "--repository-description \"Hello coderepository\" "
   ]
  },
  {
   "cell_type": "markdown",
   "id": "558d89be",
   "metadata": {},
   "source": [
    "# 4. 리파지토리 로컬에 클로닝\n",
    "### 아래를 위의 결과에서 카피해서 대체 해주세요.\n",
    "```\n",
    "예시:\n",
    "{\n",
    "    \"repositoryMetadata\": {\n",
    "        \"accountId\": \"XXXXXXX\",\n",
    "        \"repositoryId\": \"bacc903d-8b13-4e19-8ce4-8e9455a10bc7\",\n",
    "        \"repositoryName\": \"mlops-nb\",\n",
    "        \"repositoryDescription\": \"My demonstration repository\",\n",
    "        \"lastModifiedDate\": 1666610452.319,\n",
    "        \"creationDate\": 1666610452.319,\n",
    "        \"cloneUrlHttp\": \"https://git-codecommit.us-east-1.amazonaws.com/v1/repos/hello-code-repo\",\n",
    "        \"cloneUrlSsh\": \"ssh://git-codecommit.us-east-1.amazonaws.com/v1/repos/hello-code-repo\",\n",
    "        \"Arn\": \"arn:aws:codecommit:ap-northeast-2:XXXXXXX:hello-code-repo\"\n",
    "    }\n",
    "}\n",
    "```\n",
    "### clone_url :\n",
    "```\n",
    "clone_url =  \"https://git-codecommit.us-east-1.amazonaws.com/v1/repos/mlops-ncf\"\n",
    "```"
   ]
  },
  {
   "cell_type": "code",
   "execution_count": 7,
   "id": "249cee8d",
   "metadata": {},
   "outputs": [],
   "source": [
    "clone_url =  \"https://git-codecommit.ap-northeast-2.amazonaws.com/v1/repos/hello-code-repo\"\n",
    "# clone_url = \"<Clone URL>\""
   ]
  },
  {
   "cell_type": "code",
   "execution_count": 8,
   "id": "d421349b",
   "metadata": {},
   "outputs": [
    {
     "name": "stderr",
     "output_type": "stream",
     "text": [
      "Cloning into 'hello-code-repo'...\n",
      "warning: You appear to have cloned an empty repository.\n"
     ]
    }
   ],
   "source": [
    "%%sh -s {clone_url} {hello_repository_name}\n",
    "\n",
    "clone_url=$1\n",
    "repository_name=$2\n",
    "\n",
    "rm -rf $repository_name\n",
    "\n",
    "git clone $clone_url "
   ]
  },
  {
   "cell_type": "markdown",
   "id": "e0807cd8",
   "metadata": {},
   "source": [
    "# 5. 소스 코드 복사"
   ]
  },
  {
   "cell_type": "code",
   "execution_count": 9,
   "id": "63faa741",
   "metadata": {},
   "outputs": [
    {
     "name": "stdout",
     "output_type": "stream",
     "text": [
      "buildspec.yml\n"
     ]
    }
   ],
   "source": [
    "%%sh -s {hello_repository_name} {source_code}\n",
    "repository_name=$1\n",
    "source_code=$2\n",
    "\n",
    "cp $source_code/* $repository_name\n",
    "ls $repository_name"
   ]
  },
  {
   "cell_type": "markdown",
   "id": "41a04333",
   "metadata": {},
   "source": [
    "# 6. 코드 파일을 리파지토리에 푸시"
   ]
  },
  {
   "cell_type": "code",
   "execution_count": 10,
   "id": "0ce5ef6f",
   "metadata": {},
   "outputs": [
    {
     "name": "stdout",
     "output_type": "stream",
     "text": [
      "/home/ec2-user/SageMaker/Neural-Collaborative-Filtering-On-SageMaker/3_MLOps/3_hello-codepipeline/hello-code-repo\n",
      "[master (root-commit) fbe831a] Add new files\n",
      " Committer: EC2 Default User <ec2-user@ip-172-16-26-229.ap-northeast-2.compute.internal>\n",
      "Your name and email address were configured automatically based\n",
      "on your username and hostname. Please check that they are accurate.\n",
      "You can suppress this message by setting them explicitly:\n",
      "\n",
      "    git config --global user.name \"Your Name\"\n",
      "    git config --global user.email you@example.com\n",
      "\n",
      "After doing this, you may fix the identity used for this commit with:\n",
      "\n",
      "    git commit --amend --reset-author\n",
      "\n",
      " 1 file changed, 5 insertions(+)\n",
      " create mode 100644 buildspec.yml\n"
     ]
    },
    {
     "name": "stderr",
     "output_type": "stream",
     "text": [
      "remote: Validating objects: 100%        \n",
      "To https://git-codecommit.ap-northeast-2.amazonaws.com/v1/repos/hello-code-repo\n",
      " * [new branch]      master -> master\n"
     ]
    }
   ],
   "source": [
    "%%sh -s {hello_repository_name} \n",
    "repository_name=$1\n",
    "cd $repository_name\n",
    "echo $PWD\n",
    "git add .\n",
    "git commit -m\"Add new files\"\n",
    "git push origin master\n"
   ]
  },
  {
   "cell_type": "markdown",
   "id": "8750133d",
   "metadata": {},
   "source": [
    "# 7. 리파지토리 이름 저장"
   ]
  },
  {
   "cell_type": "code",
   "execution_count": 11,
   "id": "c32290d3",
   "metadata": {},
   "outputs": [
    {
     "name": "stdout",
     "output_type": "stream",
     "text": [
      "Stored 'hello_repository_name' (str)\n"
     ]
    }
   ],
   "source": [
    "%store hello_repository_name"
   ]
  },
  {
   "cell_type": "markdown",
   "id": "12a46297-e83e-42a7-9b71-5706c0a61c15",
   "metadata": {},
   "source": [
    "# 8. Code Commit 콘솔에서 확인"
   ]
  },
  {
   "cell_type": "markdown",
   "id": "2f973c74-be3a-4f81-a9d6-13fe1ea9220c",
   "metadata": {},
   "source": [
    "![hello_code_repo.png](img/hello_code_repo.png)"
   ]
  },
  {
   "cell_type": "code",
   "execution_count": null,
   "id": "b405a6db-2164-4455-b14a-807a9886d699",
   "metadata": {},
   "outputs": [],
   "source": []
  }
 ],
 "metadata": {
  "kernelspec": {
   "display_name": "conda_python3",
   "language": "python",
   "name": "conda_python3"
  },
  "language_info": {
   "codemirror_mode": {
    "name": "ipython",
    "version": 3
   },
   "file_extension": ".py",
   "mimetype": "text/x-python",
   "name": "python",
   "nbconvert_exporter": "python",
   "pygments_lexer": "ipython3",
   "version": "3.8.12"
  }
 },
 "nbformat": 4,
 "nbformat_minor": 5
}
