{
 "cells": [
  {
   "cell_type": "markdown",
   "id": "b16efb54",
   "metadata": {
    "tags": []
   },
   "source": [
    "# [모듈 2.1] CodeBuild 프로젝트 생성"
   ]
  },
  {
   "cell_type": "markdown",
   "id": "ca01d420",
   "metadata": {},
   "source": [
    "- 개발자 가이드\n",
    "    - [Create a build project (AWS CLI)](https://docs.aws.amazon.com/codebuild/latest/userguide/create-project-cli.html)\n",
    "    \n",
    "\n",
    "aws codebuild list-projects --sort-by NAME --sort-order ASCENDING    \n",
    "aws codebuild batch-get-projects --names iris-build-project    "
   ]
  },
  {
   "cell_type": "markdown",
   "id": "725cbef7",
   "metadata": {},
   "source": [
    "# 1. 환경 설정\n"
   ]
  },
  {
   "cell_type": "markdown",
   "id": "bd64480a",
   "metadata": {},
   "source": [
    "## 1.1. 파라미터 설정"
   ]
  },
  {
   "cell_type": "code",
   "execution_count": null,
   "id": "dc85b647",
   "metadata": {},
   "outputs": [],
   "source": [
    "import sagemaker\n",
    "import boto3\n",
    "\n",
    "region = sagemaker.Session().boto_region_name\n",
    "\n",
    "account_id = boto3.client('sts').get_caller_identity().get('Account')\n",
    "\n",
    "\n",
    "print(\"region: \", region)\n",
    "print(\"account_id: \", account_id)"
   ]
  },
  {
   "cell_type": "code",
   "execution_count": null,
   "id": "4fb7e7fd",
   "metadata": {},
   "outputs": [],
   "source": [
    "isDefaultBucket = True\n",
    "\n",
    "if isDefaultBucket:\n",
    "\n",
    "    bucket = sagemaker.Session().default_bucket()\n",
    "else:\n",
    "    bucket = \"<Type your bucket name>\"\n",
    "    \n",
    "print(\"Bucket: \", bucket)    \n"
   ]
  },
  {
   "cell_type": "markdown",
   "id": "44d9c62a",
   "metadata": {},
   "source": [
    "## 1.2. 역할 생성 및 정의\n",
    "### 아래 Code Build 역할 ARN 을 넣어 주세요\n",
    "- build_service_role: 은 아래와 미리 생성이 됨\n",
    "    -  \"arn:aws:iam::XXXXXX:role/codebuild-gsmoon\""
   ]
  },
  {
   "cell_type": "code",
   "execution_count": null,
   "id": "ca620ffc",
   "metadata": {},
   "outputs": [],
   "source": [
    "code_build_project_name = \"Hello_Code_Build\"\n",
    "build_service_role = \"arn:aws:iam::XXXXXXX:role/MLOPS-CodeBuildRole-1BZ6X57P61FS1\""
   ]
  },
  {
   "cell_type": "markdown",
   "id": "2aaaa422",
   "metadata": {
    "tags": []
   },
   "source": [
    "# 2. 빌드 프로젝트  JSON 정의\n",
    "- "
   ]
  },
  {
   "cell_type": "code",
   "execution_count": null,
   "id": "88ee47d1",
   "metadata": {},
   "outputs": [],
   "source": [
    "build_dic = {\n",
    "  \"name\": code_build_project_name,\n",
    "  \"description\": \"Hello Build Project\",\n",
    "  \"source\": {\n",
    "    \"type\": \"CODEPIPELINE\",\n",
    "    \"buildspec\": \"buildspec.yml\",\n",
    "  },\n",
    "  \"artifacts\": {\n",
    "    \"type\": \"CODEPIPELINE\",\n",
    "    \"name\": code_build_project_name,\n",
    "  },\n",
    "  \"cache\": {\n",
    "    \"type\": \"NO_CACHE\",\n",
    "  },\n",
    "  \"environment\": {\n",
    "            \"type\": \"LINUX_CONTAINER\",\n",
    "            \"image\": \"aws/codebuild/amazonlinux2-x86_64-standard:3.0\",\n",
    "            \"computeType\": \"BUILD_GENERAL1_SMALL\",\n",
    "            \"environmentVariables\": [\n",
    "                {\n",
    "                    \"name\": \"IMAGE_REPO_NAME\",\n",
    "                    \"value\": \"iris-model\",\n",
    "                    \"type\": \"PLAINTEXT\"\n",
    "                },\n",
    "                {\n",
    "                    \"name\": \"IMAGE_TAG\",\n",
    "                    \"value\": \"latest\",\n",
    "                    \"type\": \"PLAINTEXT\"\n",
    "                },\n",
    "                {\n",
    "                    \"name\": \"AWS_ACCOUNT_ID\",\n",
    "                    \"value\": account_id,\n",
    "                    \"type\": \"PLAINTEXT\"\n",
    "                },\n",
    "                {\n",
    "                    \"name\": \"AWS_DEFAULT_REGION\",\n",
    "                    \"value\": region,\n",
    "                    \"type\": \"PLAINTEXT\"\n",
    "                },\n",
    "                {\n",
    "                    \"name\": \"TEMPLATE_BUCKET\",\n",
    "                    \"value\": bucket,\n",
    "                    \"type\": \"PLAINTEXT\"\n",
    "                },\n",
    "                {\n",
    "                    \"name\": \"TEMPLATE_PREFIX\",\n",
    "                    \"value\": \"codebuild\",\n",
    "                    \"type\": \"PLAINTEXT\"\n",
    "                }\n",
    "            ],\n",
    "            \"privilegedMode\": False,\n",
    "            \"imagePullCredentialsType\": \"CODEBUILD\"\n",
    "        },\n",
    "  \"serviceRole\": build_service_role,\n",
    "  \"timeoutInMinutes\": 60,\n",
    "  \"queuedTimeoutInMinutes\": 480,\n",
    "  \"badgeEnabled\": False,\n",
    "  \"logsConfig\": {\n",
    "    \"cloudWatchLogs\": {\n",
    "      \"status\": \"ENABLED\",\n",
    "    },\n",
    "    \"s3Logs\": {\n",
    "      \"status\": \"DISABLED\",\n",
    "      \"encryptionDisabled\": False\n",
    "    }\n",
    "  },\n",
    "}"
   ]
  },
  {
   "cell_type": "markdown",
   "id": "b77f6ea8",
   "metadata": {},
   "source": [
    "## 2.1. Dic 포맷을 JSON 으로 변경"
   ]
  },
  {
   "cell_type": "code",
   "execution_count": null,
   "id": "2d6717d7",
   "metadata": {},
   "outputs": [],
   "source": [
    "import json\n",
    "\n",
    "build_json = json.dumps(build_dic)\n",
    "json.loads(build_json)"
   ]
  },
  {
   "cell_type": "markdown",
   "id": "49b477a8",
   "metadata": {
    "tags": []
   },
   "source": [
    "## 2.2. JSON 파일 저장"
   ]
  },
  {
   "cell_type": "code",
   "execution_count": null,
   "id": "622c1fa4",
   "metadata": {},
   "outputs": [],
   "source": [
    "import os\n",
    "\n",
    "os.makedirs('src',exist_ok=True)"
   ]
  },
  {
   "cell_type": "code",
   "execution_count": null,
   "id": "98396f5e",
   "metadata": {},
   "outputs": [],
   "source": [
    "json_file_path = 'src/hello_build.json'\n",
    "with open(json_file_path, \"w\") as outfile:\n",
    "    outfile.write(build_json)"
   ]
  },
  {
   "cell_type": "code",
   "execution_count": null,
   "id": "4b3e65e2",
   "metadata": {},
   "outputs": [],
   "source": [
    "with open(json_file_path) as json_file:\n",
    "    json_data = json.load(json_file)\n",
    "    \n",
    "json_data    "
   ]
  },
  {
   "cell_type": "markdown",
   "id": "191ec711",
   "metadata": {
    "tags": []
   },
   "source": [
    "# 3. 빌드 프로젝트 생성"
   ]
  },
  {
   "cell_type": "code",
   "execution_count": null,
   "id": "c74e6f59",
   "metadata": {},
   "outputs": [],
   "source": [
    "%%sh -s {json_file_path}\n",
    "json_file_path=$1\n",
    "echo $json_file_path\n",
    "aws codebuild create-project --cli-input-json file://$json_file_path"
   ]
  },
  {
   "cell_type": "markdown",
   "id": "89f2e612",
   "metadata": {},
   "source": [
    "## 참고: 코드 빌드 프로젝트 리스트\n",
    "- [Boto3 ListProjects](https://docs.aws.amazon.com/codebuild/latest/APIReference/API_ListProjects.html)"
   ]
  },
  {
   "cell_type": "code",
   "execution_count": null,
   "id": "64c7e865",
   "metadata": {},
   "outputs": [],
   "source": [
    "%%sh \n",
    "aws codebuild list-projects --sort-by LAST_MODIFIED_TIME --sort-order DESCENDING"
   ]
  },
  {
   "cell_type": "markdown",
   "id": "8f089879",
   "metadata": {},
   "source": [
    "# 4. 프로젝트 이름 저장"
   ]
  },
  {
   "cell_type": "code",
   "execution_count": null,
   "id": "81bdf79f",
   "metadata": {},
   "outputs": [],
   "source": [
    "%store code_build_project_name\n",
    "%store account_id\n",
    "%store region\n",
    "%store bucket\n"
   ]
  },
  {
   "cell_type": "code",
   "execution_count": null,
   "id": "2fe69f31",
   "metadata": {},
   "outputs": [],
   "source": []
  }
 ],
 "metadata": {
  "kernelspec": {
   "display_name": "conda_python3",
   "language": "python",
   "name": "conda_python3"
  },
  "language_info": {
   "codemirror_mode": {
    "name": "ipython",
    "version": 3
   },
   "file_extension": ".py",
   "mimetype": "text/x-python",
   "name": "python",
   "nbconvert_exporter": "python",
   "pygments_lexer": "ipython3",
   "version": "3.8.12"
  }
 },
 "nbformat": 4,
 "nbformat_minor": 5
}
