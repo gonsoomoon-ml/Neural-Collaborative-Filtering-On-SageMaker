{
 "cells": [
  {
   "cell_type": "markdown",
   "id": "760b72d1",
   "metadata": {
    "tags": []
   },
   "source": [
    "# [모듈 0.0] pipeline.py 작성\n",
    "\n"
   ]
  },
  {
   "cell_type": "markdown",
   "id": "bd1e7761-426c-4255-8318-f01119442a2d",
   "metadata": {},
   "source": []
  },
  {
   "cell_type": "markdown",
   "id": "9fecd906-7059-4a84-b465-29e3116ed00e",
   "metadata": {},
   "source": [
    "# 1. src 폴더를 codemcommit 폴더에 카피"
   ]
  },
  {
   "cell_type": "markdown",
   "id": "3aba5cc0-6725-4c28-865c-a066cb2799f6",
   "metadata": {},
   "source": [
    "- 복사 소스\n",
    "    - 3_MLOps/2_sm_pipeline/src\n",
    "- 복사 위치\n",
    "    - 3_MLOps/5_sm-serving-codepipeline/codecommit/pipelines/ncf/src"
   ]
  },
  {
   "cell_type": "markdown",
   "id": "342d4365-d04e-43e0-b0bb-e84e61812340",
   "metadata": {},
   "source": [
    "# 2. codebuild-buildspec.yml 파일\n",
    "- 위치: \n",
    "    - codecommit/codebuild-buildspec.yml"
   ]
  },
  {
   "cell_type": "markdown",
   "id": "8ec37e40-716b-40c5-84bd-d9bbedd0be37",
   "metadata": {},
   "source": [
    "```yml\n",
    "version: 0.2\n",
    "\n",
    "phases:\n",
    "  install:\n",
    "    runtime-versions:\n",
    "      python: 3.8\n",
    "    commands:\n",
    "      - pip install --upgrade --force-reinstall . \"awscli>1.20.30\"\n",
    "  \n",
    "  build:\n",
    "    commands:\n",
    "      - python pipelines/upload_code.py --code-repository-name $code_repository_name --bucket $TEMPLATE_BUCKET\n",
    "      - export PYTHONUNBUFFERED=TRUE\n",
    "      - export SAGEMAKER_PROJECT_NAME_ID=\"${SAGEMAKER_PROJECT_NAME}-${SAGEMAKER_PROJECT_ID}\"\n",
    "      - |\n",
    "        run-pipeline --module-name pipelines.ncf.pipeline \\\n",
    "          --role-arn $SAGEMAKER_PIPELINE_ROLE_ARN \\\n",
    "          --kwargs \"{\\\"region\\\":\\\"${AWS_REGION}\\\",\\\"sagemaker_project_arn\\\":\\\"${SAGEMAKER_PROJECT_ARN}\\\",\\\"role\\\":\\\"${SAGEMAKER_PIPELINE_ROLE_ARN}\\\",\\\"default_bucket\\\":\\\"${TEMPLATE_BUCKET}\\\",\\\"pipeline_name\\\":\\\"${SAGEMAKER_PIPELINE_NAME}\\\",\\\"model_package_group_name\\\":\\\"${SAGEMAKER_PIPELINE_NAME}\\\",\\\"s3_input_data_uri\\\":\\\"${s3_input_data_uri}\\\",\\\"project_prefix\\\":\\\"${project_prefix}\\\",\\\"base_job_prefix\\\":\\\"${SAGEMAKER_PIPELINE_NAME}\\\"}\"\n",
    "      - echo \"Create/Update of the SageMaker Pipeline and execution completed.\"\n",
    "\n",
    "\n",
    "```\n",
    "- 이 파일에서 사용된 환경 변수는 codebuild_project 생성시에 환경 변수에서 가져오게 됨. \n",
    "     - 대표적으로 s3_input_data_uri 인 데이타 입력 경로 임. 이 값을 변경하기 위해서는 codebuild_project 의 환경 변수를 수정해야 함."
   ]
  },
  {
   "cell_type": "markdown",
   "id": "f4a22727-f2ef-452a-85a6-8ac4106bdbc5",
   "metadata": {},
   "source": [
    "## 2.1 코드를 S3에 업로드\n",
    "\n",
    "```\n",
    "- python pipelines/upload_code.py --code-repository-name $code_repository_name --bucket $TEMPLATE_BUCKET\n",
    "```      \n",
    "- 위의 코드를 실행하면 code_location.json 파일이 생성 됨, 아래와 같이 코드가 압축이 되어서 S3에 source.tar.gz 파일이 저장 됨.\n",
    "```\n",
    "{\n",
    "    \"s3_location\": \"s3://sathiyajith\"\n",
    "}\n",
    "```"
   ]
  },
  {
   "cell_type": "markdown",
   "id": "52cca04f-4479-448b-ad88-cd59991a92bc",
   "metadata": {},
   "source": [
    "## 2.2 파이프라인 실행"
   ]
  },
  {
   "cell_type": "markdown",
   "id": "82989ae7-a489-4a0b-8094-a6ba8f36a3d4",
   "metadata": {},
   "source": [
    "```Yml\n",
    "run-pipeline --module-name pipelines.ncf.pipeline \\\n",
    "          --role-arn $SAGEMAKER_PIPELINE_ROLE_ARN \\\n",
    "          --kwargs \"{\\\"region\\\":\\\"${AWS_REGION}\\\",\\\"sagemaker_project_arn\\\":\\\"${SAGEMAKER_PROJECT_ARN}\\\",\\\"role\\\":\\\"${SAGEMAKER_PIPELINE_ROLE_ARN}\\\",\\\"default_bucket\\\":\\\"${ARTIFACT_BUCKET}\\\",\\\"pipeline_name\\\":\\\"${SAGEMAKER_PIPELINE_NAME}\\\",\\\"model_package_group_name\\\":\\\"${SAGEMAKER_PIPELINE_NAME}\\\",\\\"s3_input_data_uri\\\":\\\"${s3_input_data_uri}\\\",\\\"project_prefix\\\":\\\"${project_prefix}\\\",\\\"base_job_prefix\\\":\\\"${SAGEMAKER_PIPELINE_NAME}\\\"}\"\n",
    "```\n",
    "- kwargs 이후의 파라미터는 파싱이 되어서 pipeline.py 의 get_pipeline() 함수의 파라미터로 전달이 됨."
   ]
  },
  {
   "cell_type": "markdown",
   "id": "040baeed-3050-4973-979d-d0a0115649e9",
   "metadata": {},
   "source": [
    "### run-pipeline.py 의 실행 순서\n",
    "- pipeline = _utils.get_pipeline_driver(args.kwargs)\n",
    "    - get_pipeline(**kwargs)\n",
    "- pipeline.upstart()    \n",
    "- pipeline.start()\n"
   ]
  },
  {
   "cell_type": "markdown",
   "id": "ed06b715-8943-444f-8b40-5351353b8aa7",
   "metadata": {},
   "source": [
    "# 3. pipeline.py\n",
    "- 위치\n",
    "    - codecommit/pipelines/ncf/pipeline.py"
   ]
  },
  {
   "cell_type": "markdown",
   "id": "bfc42360-6e5d-4d7a-b90c-233acb5d9133",
   "metadata": {},
   "source": [
    "## 3.1 get_pipeline(()\n",
    "\n",
    "```\n",
    "def get_pipeline(\n",
    "    s3_input_data_uri,    \n",
    "    project_prefix,\n",
    "    region,\n",
    "    sagemaker_project_arn=None,\n",
    "    role=None, # SAGEMAKER_PIPELINE_ROLE_ARN 이 넘어옴.\n",
    "    default_bucket=None,\n",
    "    model_package_group_name=\"AbalonePackageGroup\",\n",
    "    pipeline_name=\"AbalonePipeline\",\n",
    "    base_job_prefix=\"Abalone\",\n",
    "    processing_instance_type=\"ml.m5.xlarge\",\n",
    "    training_instance_type=\"ml.p3.2xlarge\",\n",
    "):\n",
    "```\n",
    "- s3_input_data_uri\n",
    "    - 데이타의 입력 경로 임.\n",
    "- role\n",
    "    - SAGEMAKER_PIPELINE_ROLE_ARN 경로 임. \n",
    "        - 이 노트북에서는 build_service role 을 사용함."
   ]
  },
  {
   "cell_type": "markdown",
   "id": "0fbc9c36-82da-4ffb-b62c-456da8951a85",
   "metadata": {
    "tags": []
   },
   "source": [
    "## 3.2  람다 스템을 위한 lambda_role 을 SAGEMAKER_PIPELINE_ROLE_ARN 로 대체 함.\n",
    "- SAGEMAKER_PIPELINE_ROLE_ARN 은 아래와 같은 정책 및 신뢰 관계가 있어야 함.\n",
    "- 필요 정책\n",
    "    - AWSLambda_FullAccess\n",
    "    - AmazonSageMakerFullAccess\n",
    "- Trust Relationship    \n",
    "```\n",
    "{\n",
    "    \"Version\": \"2012-10-17\",\n",
    "    \"Statement\": [\n",
    "        {\n",
    "            \"Effect\": \"Allow\",\n",
    "            \"Principal\": {\n",
    "                \"Service\": \"lambda.amazonaws.com\"\n",
    "            },\n",
    "            \"Action\": \"sts:AssumeRole\"\n",
    "        }\n",
    "    ]\n",
    "}\n",
    "```"
   ]
  },
  {
   "cell_type": "markdown",
   "id": "6714b54c-7fd8-4627-911d-6900cb25897d",
   "metadata": {},
   "source": [
    "## 3.3 람다 스텝 코드 위치 복사\n",
    "- 아래와 같이 3_MLOps/3_sm-train-codepipeline/codecommit/pipelines/ncf 에 iam_repackage_model_artifact.py 복사\n",
    "\n",
    "![iam_repackage_model_artifact.png](img/iam_repackage_model_artifact.png)"
   ]
  },
  {
   "cell_type": "markdown",
   "id": "e9359e21-8bbc-432d-97ae-fdcaf33b82c3",
   "metadata": {},
   "source": [
    "### 3.4 람다 스텝 변경\n",
    "- script 에 repackage_lambda_script_path 의 절대 경로 지정\n",
    "\n",
    "``` python\n",
    "    repackage_lambda_script_path = f'{BASE_DIR}/iam_repackage_model_artifact.py'\n",
    "\n",
    "    func_repackage_model = Lambda(\n",
    "        function_name=function_name,\n",
    "        execution_role_arn=role,\n",
    "        script=repackage_lambda_script_path,        \n",
    "        handler=\"iam_repackage_model_artifact.lambda_handler\",\n",
    "    )\n",
    "\n",
    "```"
   ]
  },
  {
   "cell_type": "markdown",
   "id": "13a62d57-f4f0-4798-b685-58b0cc93a517",
   "metadata": {},
   "source": [
    "## 3.5 Model Package Group Name 변경\n",
    "- model_package_group_name 를 함수 인자로 받아서 사용 함.\n",
    "\n",
    "```python\n",
    "    model_package_group_input_dict = {\n",
    "     \"ModelPackageGroupName\" : model_package_group_name,\n",
    "     \"ModelPackageGroupDescription\" : \"Sample model package group\"\n",
    "    }\n",
    "\n",
    "```"
   ]
  },
  {
   "cell_type": "code",
   "execution_count": null,
   "id": "51130a15-2f19-49d6-9bef-efbfaaccafc1",
   "metadata": {},
   "outputs": [],
   "source": []
  }
 ],
 "metadata": {
  "kernelspec": {
   "display_name": "conda_python3",
   "language": "python",
   "name": "conda_python3"
  },
  "language_info": {
   "codemirror_mode": {
    "name": "ipython",
    "version": 3
   },
   "file_extension": ".py",
   "mimetype": "text/x-python",
   "name": "python",
   "nbconvert_exporter": "python",
   "pygments_lexer": "ipython3",
   "version": "3.8.12"
  }
 },
 "nbformat": 4,
 "nbformat_minor": 5
}
