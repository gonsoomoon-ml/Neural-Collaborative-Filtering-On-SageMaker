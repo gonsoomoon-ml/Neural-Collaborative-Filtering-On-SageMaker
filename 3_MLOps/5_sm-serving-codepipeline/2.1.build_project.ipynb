{
 "cells": [
  {
   "cell_type": "markdown",
   "id": "ffd84917-7dbc-4503-a1cc-8d41c74bfb7c",
   "metadata": {
    "tags": []
   },
   "source": [
    "# [모듈 2.1] CodeBuild 프로젝트 생성"
   ]
  },
  {
   "cell_type": "markdown",
   "id": "764468ed-2982-471b-9551-c4162879953e",
   "metadata": {},
   "source": [
    "- 개발자 가이드\n",
    "    - [Create a build project (AWS CLI)](https://docs.aws.amazon.com/codebuild/latest/userguide/create-project-cli.html)\n",
    "    \n",
    "\n",
    "aws codebuild list-projects --sort-by NAME --sort-order ASCENDING    \n",
    "aws codebuild batch-get-projects --names iris-build-project    "
   ]
  },
  {
   "cell_type": "markdown",
   "id": "c048a4eb",
   "metadata": {},
   "source": [
    "- 개발자 가이드\n",
    "    - [Create a build project (AWS CLI)](https://docs.aws.amazon.com/codebuild/latest/userguide/create-project-cli.html)\n",
    "    \n",
    "\n",
    "aws codebuild list-projects --sort-by NAME --sort-order ASCENDING    \n",
    "aws codebuild batch-get-projects --names iris-build-project    "
   ]
  },
  {
   "cell_type": "markdown",
   "id": "46513230",
   "metadata": {},
   "source": [
    "# 1. 환경 설정"
   ]
  },
  {
   "cell_type": "markdown",
   "id": "51d6bb2f-c7d3-4f10-b1d6-7f6068eef2df",
   "metadata": {},
   "source": [
    "## 1.0 기존의 변수 불러오기"
   ]
  },
  {
   "cell_type": "code",
   "execution_count": 51,
   "id": "19a1ab98-c8f7-467c-9492-22679b9658fd",
   "metadata": {},
   "outputs": [],
   "source": [
    "%store -r repository_name"
   ]
  },
  {
   "cell_type": "markdown",
   "id": "3c600c26",
   "metadata": {},
   "source": [
    "## 1.1. 파라미터 설정"
   ]
  },
  {
   "cell_type": "code",
   "execution_count": 52,
   "id": "925e5f5b",
   "metadata": {},
   "outputs": [
    {
     "name": "stdout",
     "output_type": "stream",
     "text": [
      "region:  us-east-1\n",
      "account_id:  057716757052\n"
     ]
    }
   ],
   "source": [
    "import sagemaker\n",
    "import boto3\n",
    "\n",
    "region = sagemaker.Session().boto_region_name\n",
    "\n",
    "account_id = boto3.client('sts').get_caller_identity().get('Account')\n",
    "\n",
    "\n",
    "print(\"region: \", region)\n",
    "print(\"account_id: \", account_id)"
   ]
  },
  {
   "cell_type": "code",
   "execution_count": 53,
   "id": "315bfb80",
   "metadata": {},
   "outputs": [
    {
     "name": "stdout",
     "output_type": "stream",
     "text": [
      "Bucket:  sagemaker-us-east-1-057716757052\n"
     ]
    }
   ],
   "source": [
    "isDefaultBucket = True\n",
    "\n",
    "if isDefaultBucket:\n",
    "\n",
    "    bucket = sagemaker.Session().default_bucket()\n",
    "else:\n",
    "    bucket = \"<Type your bucket name>\"\n",
    "    \n",
    "print(\"Bucket: \", bucket)    \n"
   ]
  },
  {
   "cell_type": "markdown",
   "id": "430698bc-6f48-4aa8-bc6a-f66d9bcd7b12",
   "metadata": {},
   "source": [
    "## 1.2.역할 생성 및 정의\n",
    "\n",
    "- build_service_role: \n",
    "    -  \"arn:aws:iam::057716757052:role/codebuild-gsmoon\""
   ]
  },
  {
   "cell_type": "code",
   "execution_count": 54,
   "id": "bdbaa807",
   "metadata": {},
   "outputs": [],
   "source": [
    "code_build_project_name = \"ncf-training-sm-pipeline\"\n",
    "build_service_role = \"arn:aws:iam::057716757052:role/codebuild-gsmoon\"\n",
    "sm_pipeline_name = \"ncf-sm-pipeline\""
   ]
  },
  {
   "cell_type": "markdown",
   "id": "2cfb9be6-c70a-455d-ba4a-d897d1af17c9",
   "metadata": {
    "tags": []
   },
   "source": [
    "# 2. 빌드 프로젝트  JSON 정의\n",
    "- "
   ]
  },
  {
   "cell_type": "code",
   "execution_count": 55,
   "id": "da2fddf0",
   "metadata": {},
   "outputs": [],
   "source": [
    "build_dic = {\n",
    "  \"name\": code_build_project_name,\n",
    "  \"description\": \"Hello Build Project\",\n",
    "  \"source\": {\n",
    "    \"type\": \"CODEPIPELINE\",\n",
    "    \"buildspec\": \"codebuild-buildspec.yml\",\n",
    "  },\n",
    "  \"artifacts\": {\n",
    "    \"type\": \"CODEPIPELINE\",\n",
    "    \"name\": code_build_project_name,\n",
    "  },\n",
    "  \"cache\": {\n",
    "    \"type\": \"NO_CACHE\",\n",
    "  },\n",
    "  \"environment\": {\n",
    "            \"type\": \"LINUX_CONTAINER\",\n",
    "            \"image\": \"aws/codebuild/amazonlinux2-x86_64-standard:3.0\",\n",
    "            \"computeType\": \"BUILD_GENERAL1_SMALL\",\n",
    "            \"environmentVariables\": [\n",
    "                {\n",
    "                    \"name\": \"IMAGE_REPO_NAME\",\n",
    "                    \"value\": \"iris-model\",\n",
    "                    \"type\": \"PLAINTEXT\"\n",
    "                },\n",
    "                {\n",
    "                    \"name\": \"IMAGE_TAG\",\n",
    "                    \"value\": \"latest\",\n",
    "                    \"type\": \"PLAINTEXT\"\n",
    "                },\n",
    "                {\n",
    "                    \"name\": \"AWS_ACCOUNT_ID\",\n",
    "                    \"value\": account_id,\n",
    "                    \"type\": \"PLAINTEXT\"\n",
    "                },\n",
    "                {\n",
    "                    \"name\": \"SAGEMAKER_PIPELINE_ROLE_ARN\",\n",
    "                    \"value\": build_service_role,\n",
    "                    \"type\": \"PLAINTEXT\"\n",
    "                },        \n",
    "                {\n",
    "                    \"name\": \"SAGEMAKER_PIPELINE_NAME\",\n",
    "                    \"value\": sm_pipeline_name,\n",
    "                    \"type\": \"PLAINTEXT\"\n",
    "                },                        \n",
    "                {\n",
    "                    \"name\": \"AWS_DEFAULT_REGION\",\n",
    "                    \"value\": region,\n",
    "                    \"type\": \"PLAINTEXT\"\n",
    "                },\n",
    "                {\n",
    "                    \"name\": \"TEMPLATE_BUCKET\",\n",
    "                    \"value\": bucket,\n",
    "                    \"type\": \"PLAINTEXT\"\n",
    "                },\n",
    "                {\n",
    "                    \"name\": \"s3_input_data_uri\",\n",
    "                    \"value\": \"s3://sagemaker-us-east-1-057716757052/NCFModel/data\",\n",
    "                    \"type\": \"PLAINTEXT\"\n",
    "                },\n",
    "                {\n",
    "                    \"name\": \"code_repository_name\",\n",
    "                    \"value\": repository_name,\n",
    "                    \"type\": \"PLAINTEXT\"\n",
    "                },                \n",
    "                {\n",
    "                    \"name\": \"project_prefix\",\n",
    "                    \"value\": \"NCFModel\",\n",
    "                    \"type\": \"PLAINTEXT\"\n",
    "                },\n",
    "                {\n",
    "                    \"name\": \"TEMPLATE_PREFIX\",\n",
    "                    \"value\": \"codebuild\",\n",
    "                    \"type\": \"PLAINTEXT\"\n",
    "                }\n",
    "                \n",
    "            ],\n",
    "            \"privilegedMode\": False,\n",
    "            \"imagePullCredentialsType\": \"CODEBUILD\"\n",
    "        },\n",
    "  \"serviceRole\": build_service_role,\n",
    "  \"timeoutInMinutes\": 60,\n",
    "  \"queuedTimeoutInMinutes\": 480,\n",
    "  \"badgeEnabled\": False,\n",
    "  \"logsConfig\": {\n",
    "    \"cloudWatchLogs\": {\n",
    "      \"status\": \"ENABLED\",\n",
    "    },\n",
    "    \"s3Logs\": {\n",
    "      \"status\": \"DISABLED\",\n",
    "      \"encryptionDisabled\": False\n",
    "    }\n",
    "  },\n",
    "}"
   ]
  },
  {
   "cell_type": "markdown",
   "id": "b5a19bcd",
   "metadata": {},
   "source": [
    "## 2.1. Dic 포맷을 JSON 으로 변경"
   ]
  },
  {
   "cell_type": "code",
   "execution_count": 56,
   "id": "2adfabc6",
   "metadata": {},
   "outputs": [
    {
     "data": {
      "text/plain": [
       "{'name': 'ncf-training-sm-pipeline',\n",
       " 'description': 'Hello Build Project',\n",
       " 'source': {'type': 'CODEPIPELINE', 'buildspec': 'codebuild-buildspec.yml'},\n",
       " 'artifacts': {'type': 'CODEPIPELINE', 'name': 'ncf-training-sm-pipeline'},\n",
       " 'cache': {'type': 'NO_CACHE'},\n",
       " 'environment': {'type': 'LINUX_CONTAINER',\n",
       "  'image': 'aws/codebuild/amazonlinux2-x86_64-standard:3.0',\n",
       "  'computeType': 'BUILD_GENERAL1_SMALL',\n",
       "  'environmentVariables': [{'name': 'IMAGE_REPO_NAME',\n",
       "    'value': 'iris-model',\n",
       "    'type': 'PLAINTEXT'},\n",
       "   {'name': 'IMAGE_TAG', 'value': 'latest', 'type': 'PLAINTEXT'},\n",
       "   {'name': 'AWS_ACCOUNT_ID', 'value': '057716757052', 'type': 'PLAINTEXT'},\n",
       "   {'name': 'SAGEMAKER_PIPELINE_ROLE_ARN',\n",
       "    'value': 'arn:aws:iam::057716757052:role/codebuild-gsmoon',\n",
       "    'type': 'PLAINTEXT'},\n",
       "   {'name': 'SAGEMAKER_PIPELINE_NAME',\n",
       "    'value': 'ncf-sm-pipeline',\n",
       "    'type': 'PLAINTEXT'},\n",
       "   {'name': 'AWS_DEFAULT_REGION', 'value': 'us-east-1', 'type': 'PLAINTEXT'},\n",
       "   {'name': 'TEMPLATE_BUCKET',\n",
       "    'value': 'sagemaker-us-east-1-057716757052',\n",
       "    'type': 'PLAINTEXT'},\n",
       "   {'name': 's3_input_data_uri',\n",
       "    'value': 's3://sagemaker-us-east-1-057716757052/NCFModel/data',\n",
       "    'type': 'PLAINTEXT'},\n",
       "   {'name': 'code_repository_name', 'value': 'mlops-ncf', 'type': 'PLAINTEXT'},\n",
       "   {'name': 'project_prefix', 'value': 'NCFModel', 'type': 'PLAINTEXT'},\n",
       "   {'name': 'TEMPLATE_PREFIX', 'value': 'codebuild', 'type': 'PLAINTEXT'}],\n",
       "  'privilegedMode': False,\n",
       "  'imagePullCredentialsType': 'CODEBUILD'},\n",
       " 'serviceRole': 'arn:aws:iam::057716757052:role/codebuild-gsmoon',\n",
       " 'timeoutInMinutes': 60,\n",
       " 'queuedTimeoutInMinutes': 480,\n",
       " 'badgeEnabled': False,\n",
       " 'logsConfig': {'cloudWatchLogs': {'status': 'ENABLED'},\n",
       "  's3Logs': {'status': 'DISABLED', 'encryptionDisabled': False}}}"
      ]
     },
     "execution_count": 56,
     "metadata": {},
     "output_type": "execute_result"
    }
   ],
   "source": [
    "import json\n",
    "\n",
    "build_json = json.dumps(build_dic)\n",
    "json.loads(build_json)"
   ]
  },
  {
   "cell_type": "markdown",
   "id": "8e63a57b",
   "metadata": {},
   "source": [
    "## 2.2. JSON 파일 저장"
   ]
  },
  {
   "cell_type": "code",
   "execution_count": 57,
   "id": "b8f29930",
   "metadata": {},
   "outputs": [],
   "source": [
    "json_file_path = 'src/hello_build.json'\n",
    "with open(json_file_path, \"w\") as outfile:\n",
    "    outfile.write(build_json)"
   ]
  },
  {
   "cell_type": "code",
   "execution_count": 58,
   "id": "e2c7721b",
   "metadata": {},
   "outputs": [
    {
     "data": {
      "text/plain": [
       "{'name': 'ncf-training-sm-pipeline',\n",
       " 'description': 'Hello Build Project',\n",
       " 'source': {'type': 'CODEPIPELINE', 'buildspec': 'codebuild-buildspec.yml'},\n",
       " 'artifacts': {'type': 'CODEPIPELINE', 'name': 'ncf-training-sm-pipeline'},\n",
       " 'cache': {'type': 'NO_CACHE'},\n",
       " 'environment': {'type': 'LINUX_CONTAINER',\n",
       "  'image': 'aws/codebuild/amazonlinux2-x86_64-standard:3.0',\n",
       "  'computeType': 'BUILD_GENERAL1_SMALL',\n",
       "  'environmentVariables': [{'name': 'IMAGE_REPO_NAME',\n",
       "    'value': 'iris-model',\n",
       "    'type': 'PLAINTEXT'},\n",
       "   {'name': 'IMAGE_TAG', 'value': 'latest', 'type': 'PLAINTEXT'},\n",
       "   {'name': 'AWS_ACCOUNT_ID', 'value': '057716757052', 'type': 'PLAINTEXT'},\n",
       "   {'name': 'SAGEMAKER_PIPELINE_ROLE_ARN',\n",
       "    'value': 'arn:aws:iam::057716757052:role/codebuild-gsmoon',\n",
       "    'type': 'PLAINTEXT'},\n",
       "   {'name': 'SAGEMAKER_PIPELINE_NAME',\n",
       "    'value': 'ncf-sm-pipeline',\n",
       "    'type': 'PLAINTEXT'},\n",
       "   {'name': 'AWS_DEFAULT_REGION', 'value': 'us-east-1', 'type': 'PLAINTEXT'},\n",
       "   {'name': 'TEMPLATE_BUCKET',\n",
       "    'value': 'sagemaker-us-east-1-057716757052',\n",
       "    'type': 'PLAINTEXT'},\n",
       "   {'name': 's3_input_data_uri',\n",
       "    'value': 's3://sagemaker-us-east-1-057716757052/NCFModel/data',\n",
       "    'type': 'PLAINTEXT'},\n",
       "   {'name': 'code_repository_name', 'value': 'mlops-ncf', 'type': 'PLAINTEXT'},\n",
       "   {'name': 'project_prefix', 'value': 'NCFModel', 'type': 'PLAINTEXT'},\n",
       "   {'name': 'TEMPLATE_PREFIX', 'value': 'codebuild', 'type': 'PLAINTEXT'}],\n",
       "  'privilegedMode': False,\n",
       "  'imagePullCredentialsType': 'CODEBUILD'},\n",
       " 'serviceRole': 'arn:aws:iam::057716757052:role/codebuild-gsmoon',\n",
       " 'timeoutInMinutes': 60,\n",
       " 'queuedTimeoutInMinutes': 480,\n",
       " 'badgeEnabled': False,\n",
       " 'logsConfig': {'cloudWatchLogs': {'status': 'ENABLED'},\n",
       "  's3Logs': {'status': 'DISABLED', 'encryptionDisabled': False}}}"
      ]
     },
     "execution_count": 58,
     "metadata": {},
     "output_type": "execute_result"
    }
   ],
   "source": [
    "with open(json_file_path) as json_file:\n",
    "    json_data = json.load(json_file)\n",
    "    \n",
    "json_data    "
   ]
  },
  {
   "cell_type": "markdown",
   "id": "fefdcbac",
   "metadata": {
    "tags": []
   },
   "source": [
    "# 3. 빌드 프로젝트 생성"
   ]
  },
  {
   "cell_type": "code",
   "execution_count": 59,
   "id": "599c2e78",
   "metadata": {},
   "outputs": [
    {
     "name": "stdout",
     "output_type": "stream",
     "text": [
      "src/hello_build.json\n",
      "{\n",
      "    \"project\": {\n",
      "        \"name\": \"ncf-training-sm-pipeline\",\n",
      "        \"arn\": \"arn:aws:codebuild:us-east-1:057716757052:project/ncf-training-sm-pipeline\",\n",
      "        \"description\": \"Hello Build Project\",\n",
      "        \"source\": {\n",
      "            \"type\": \"CODEPIPELINE\",\n",
      "            \"buildspec\": \"codebuild-buildspec.yml\",\n",
      "            \"insecureSsl\": false\n",
      "        },\n",
      "        \"artifacts\": {\n",
      "            \"type\": \"CODEPIPELINE\",\n",
      "            \"name\": \"ncf-training-sm-pipeline\",\n",
      "            \"packaging\": \"NONE\",\n",
      "            \"encryptionDisabled\": false\n",
      "        },\n",
      "        \"cache\": {\n",
      "            \"type\": \"NO_CACHE\"\n",
      "        },\n",
      "        \"environment\": {\n",
      "            \"type\": \"LINUX_CONTAINER\",\n",
      "            \"image\": \"aws/codebuild/amazonlinux2-x86_64-standard:3.0\",\n",
      "            \"computeType\": \"BUILD_GENERAL1_SMALL\",\n",
      "            \"environmentVariables\": [\n",
      "                {\n",
      "                    \"name\": \"IMAGE_REPO_NAME\",\n",
      "                    \"value\": \"iris-model\",\n",
      "                    \"type\": \"PLAINTEXT\"\n",
      "                },\n",
      "                {\n",
      "                    \"name\": \"IMAGE_TAG\",\n",
      "                    \"value\": \"latest\",\n",
      "                    \"type\": \"PLAINTEXT\"\n",
      "                },\n",
      "                {\n",
      "                    \"name\": \"AWS_ACCOUNT_ID\",\n",
      "                    \"value\": \"057716757052\",\n",
      "                    \"type\": \"PLAINTEXT\"\n",
      "                },\n",
      "                {\n",
      "                    \"name\": \"SAGEMAKER_PIPELINE_ROLE_ARN\",\n",
      "                    \"value\": \"arn:aws:iam::057716757052:role/codebuild-gsmoon\",\n",
      "                    \"type\": \"PLAINTEXT\"\n",
      "                },\n",
      "                {\n",
      "                    \"name\": \"SAGEMAKER_PIPELINE_NAME\",\n",
      "                    \"value\": \"ncf-sm-pipeline\",\n",
      "                    \"type\": \"PLAINTEXT\"\n",
      "                },\n",
      "                {\n",
      "                    \"name\": \"AWS_DEFAULT_REGION\",\n",
      "                    \"value\": \"us-east-1\",\n",
      "                    \"type\": \"PLAINTEXT\"\n",
      "                },\n",
      "                {\n",
      "                    \"name\": \"TEMPLATE_BUCKET\",\n",
      "                    \"value\": \"sagemaker-us-east-1-057716757052\",\n",
      "                    \"type\": \"PLAINTEXT\"\n",
      "                },\n",
      "                {\n",
      "                    \"name\": \"s3_input_data_uri\",\n",
      "                    \"value\": \"s3://sagemaker-us-east-1-057716757052/NCFModel/data\",\n",
      "                    \"type\": \"PLAINTEXT\"\n",
      "                },\n",
      "                {\n",
      "                    \"name\": \"code_repository_name\",\n",
      "                    \"value\": \"mlops-ncf\",\n",
      "                    \"type\": \"PLAINTEXT\"\n",
      "                },\n",
      "                {\n",
      "                    \"name\": \"project_prefix\",\n",
      "                    \"value\": \"NCFModel\",\n",
      "                    \"type\": \"PLAINTEXT\"\n",
      "                },\n",
      "                {\n",
      "                    \"name\": \"TEMPLATE_PREFIX\",\n",
      "                    \"value\": \"codebuild\",\n",
      "                    \"type\": \"PLAINTEXT\"\n",
      "                }\n",
      "            ],\n",
      "            \"privilegedMode\": false,\n",
      "            \"imagePullCredentialsType\": \"CODEBUILD\"\n",
      "        },\n",
      "        \"serviceRole\": \"arn:aws:iam::057716757052:role/codebuild-gsmoon\",\n",
      "        \"timeoutInMinutes\": 60,\n",
      "        \"queuedTimeoutInMinutes\": 480,\n",
      "        \"encryptionKey\": \"arn:aws:kms:us-east-1:057716757052:alias/aws/s3\",\n",
      "        \"created\": 1662042475.423,\n",
      "        \"lastModified\": 1662042475.423,\n",
      "        \"badge\": {\n",
      "            \"badgeEnabled\": false\n",
      "        },\n",
      "        \"logsConfig\": {\n",
      "            \"cloudWatchLogs\": {\n",
      "                \"status\": \"ENABLED\"\n",
      "            },\n",
      "            \"s3Logs\": {\n",
      "                \"status\": \"DISABLED\",\n",
      "                \"encryptionDisabled\": false\n",
      "            }\n",
      "        },\n",
      "        \"projectVisibility\": \"PRIVATE\"\n",
      "    }\n",
      "}\n"
     ]
    }
   ],
   "source": [
    "%%sh -s {json_file_path}\n",
    "json_file_path=$1\n",
    "echo $json_file_path\n",
    "aws codebuild create-project --cli-input-json file://$json_file_path"
   ]
  },
  {
   "cell_type": "markdown",
   "id": "d446fb77",
   "metadata": {},
   "source": [
    "# 4. 프로젝트 이름 저장"
   ]
  },
  {
   "cell_type": "code",
   "execution_count": 60,
   "id": "7ed8bb43",
   "metadata": {},
   "outputs": [
    {
     "name": "stdout",
     "output_type": "stream",
     "text": [
      "Stored 'code_build_project_name' (str)\n",
      "Stored 'sm_pipeline_name' (str)\n",
      "Stored 'account_id' (str)\n",
      "Stored 'region' (str)\n",
      "Stored 'bucket' (str)\n"
     ]
    }
   ],
   "source": [
    "%store code_build_project_name\n",
    "%store sm_pipeline_name\n",
    "%store account_id\n",
    "%store region\n",
    "%store bucket\n"
   ]
  },
  {
   "cell_type": "code",
   "execution_count": null,
   "id": "9dda92be",
   "metadata": {},
   "outputs": [],
   "source": []
  }
 ],
 "metadata": {
  "kernelspec": {
   "display_name": "conda_python3",
   "language": "python",
   "name": "conda_python3"
  },
  "language_info": {
   "codemirror_mode": {
    "name": "ipython",
    "version": 3
   },
   "file_extension": ".py",
   "mimetype": "text/x-python",
   "name": "python",
   "nbconvert_exporter": "python",
   "pygments_lexer": "ipython3",
   "version": "3.8.12"
  }
 },
 "nbformat": 4,
 "nbformat_minor": 5
}
