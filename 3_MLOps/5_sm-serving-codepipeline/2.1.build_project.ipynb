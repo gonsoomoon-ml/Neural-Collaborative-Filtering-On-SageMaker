{
 "cells": [
  {
   "cell_type": "markdown",
   "id": "6814697a",
   "metadata": {
    "tags": []
   },
   "source": [
    "# [모듈 2.1] CodeBuild 프로젝트 생성"
   ]
  },
  {
   "cell_type": "markdown",
   "id": "d2fc94a4",
   "metadata": {},
   "source": [
    "- 개발자 가이드\n",
    "    - [Create a build project (AWS CLI)](https://docs.aws.amazon.com/codebuild/latest/userguide/create-project-cli.html)\n",
    "    \n",
    "\n",
    "aws codebuild list-projects --sort-by NAME --sort-order ASCENDING    \n",
    "aws codebuild batch-get-projects --names iris-build-project    "
   ]
  },
  {
   "cell_type": "markdown",
   "id": "610dce12",
   "metadata": {},
   "source": [
    "- 개발자 가이드\n",
    "    - [Create a build project (AWS CLI)](https://docs.aws.amazon.com/codebuild/latest/userguide/create-project-cli.html)\n",
    "    \n",
    "\n",
    "aws codebuild list-projects --sort-by NAME --sort-order ASCENDING    \n",
    "aws codebuild batch-get-projects --names iris-build-project    "
   ]
  },
  {
   "cell_type": "markdown",
   "id": "84a0d536",
   "metadata": {},
   "source": [
    "# 1. 환경 설정"
   ]
  },
  {
   "cell_type": "code",
   "execution_count": 63,
   "id": "d913e271-688e-4eec-9f9c-8c0ff0ec0a69",
   "metadata": {},
   "outputs": [
    {
     "name": "stdout",
     "output_type": "stream",
     "text": [
      "The autoreload extension is already loaded. To reload it, use:\n",
      "  %reload_ext autoreload\n"
     ]
    }
   ],
   "source": [
    "%load_ext autoreload\n",
    "%autoreload 2\n",
    "\n",
    "import sys\n",
    "sys.path.append('./src')"
   ]
  },
  {
   "cell_type": "markdown",
   "id": "c0b62221",
   "metadata": {
    "tags": []
   },
   "source": [
    "## 1.0 기존의 변수 불러오기"
   ]
  },
  {
   "cell_type": "code",
   "execution_count": 64,
   "id": "073ce892-a598-49ca-b2e7-e85661ae6e14",
   "metadata": {},
   "outputs": [
    {
     "name": "stdout",
     "output_type": "stream",
     "text": [
      "Code Pipeline Series Params: \n",
      "{\n",
      "  \"code_pipeline_role_arn\": \"arn:aws:iam::057716757052:role/code-pipeline-gsmoon\",\n",
      "  \"code_build_service_arn\": \"arn:aws:iam::057716757052:role/codebuild-gsmoon\",\n",
      "  \"project_prefix\": \"CodePipeline-Serving-NCF\",\n",
      "  \"region\": \"us-east-1\",\n",
      "  \"account_id\": \"057716757052\",\n",
      "  \"serving_code_repo_name\": \"ncf-serving\",\n",
      "  \"code_build_project_name\": \"ncf-serving-sm-pipeline\",\n",
      "  \"bucket\": \"sagemaker-us-east-1-057716757052\",\n",
      "  \"code_pipeline_name\": \"ncf-serving-code-pipeline\",\n",
      "  \"model_package_group_name\": \"NCF-Model-CodePipeline\",\n",
      "  \"endpoint_name\": \"ncf-codepipeline-endpoint\",\n",
      "  \"branch_name\": \"master\"\n",
      "}\n",
      "SageMaker Pipeline Series Params: \n",
      "{\n",
      "  \"sm_pipeline_name\": \"sm-serving-pipeline\",\n",
      "  \"endpoint_instance_type\": \"ml.g4dn.xlarge\",\n",
      "  \"ModelApprovalStatus\": \"Approved\",\n",
      "  \"bucket\": \"sagemaker-us-east-1-057716757052\"\n",
      "}\n"
     ]
    }
   ],
   "source": [
    "%store -r code_pipeline_serving_config_json_path\n",
    "%store -r sm_pipeline_serving_config_json_path\n",
    "\n",
    "from common_utils import load_json\n",
    "\n",
    "code_pipeline_serving_dict = load_json(code_pipeline_serving_config_json_path)\n",
    "sm_pipeline_serving_dict = load_json(sm_pipeline_serving_config_json_path)\n",
    "\n",
    "import json\n",
    "print(\"Code Pipeline Series Params: \")\n",
    "print (json.dumps(code_pipeline_serving_dict, indent=2))\n",
    "print(\"SageMaker Pipeline Series Params: \")\n",
    "print (json.dumps(sm_pipeline_serving_dict, indent=2))\n",
    "\n"
   ]
  },
  {
   "cell_type": "markdown",
   "id": "0043d4e9",
   "metadata": {},
   "source": [
    "## 1.1. 파라미터 설정"
   ]
  },
  {
   "cell_type": "code",
   "execution_count": 66,
   "id": "e8b6314f",
   "metadata": {},
   "outputs": [
    {
     "name": "stdout",
     "output_type": "stream",
     "text": [
      "region:  us-east-1\n",
      "account_id:  057716757052\n",
      "project_prefix:  CodePipeline-Serving-NCF\n",
      "code_build_project_name:  ncf-serving-sm-pipeline\n",
      "sm_pipeline_name:  sm-serving-pipeline\n",
      "model_package_group_name:  NCF-Model-CodePipeline\n",
      "endpoint_name:  ncf-codepipeline-endpoint\n"
     ]
    }
   ],
   "source": [
    "import sagemaker\n",
    "import boto3\n",
    "\n",
    "region = sagemaker.Session().boto_region_name\n",
    "\n",
    "account_id = boto3.client('sts').get_caller_identity().get('Account')\n",
    "\n",
    "build_service_role = code_pipeline_serving_dict[\"code_build_service_arn\"]\n",
    "region = code_pipeline_serving_dict[\"region\"]\n",
    "account_id = code_pipeline_serving_dict[\"account_id\"]\n",
    "bucket = code_pipeline_serving_dict[\"bucket\"]\n",
    "model_package_group_name = code_pipeline_serving_dict[\"model_package_group_name\"]\n",
    "endpoint_name = code_pipeline_serving_dict[\"endpoint_name\"]\n",
    "\n",
    "project_prefix = code_pipeline_serving_dict[\"project_prefix\"]\n",
    "code_build_project_name = code_pipeline_serving_dict[\"code_build_project_name\"]\n",
    "\n",
    "\n",
    "sm_pipeline_name = sm_pipeline_serving_dict[\"sm_pipeline_name\"]\n",
    "\n",
    "\n",
    "print(\"region: \", region)\n",
    "print(\"account_id: \", account_id)\n",
    "print(\"project_prefix: \", project_prefix)\n",
    "print(\"code_build_project_name: \", code_build_project_name)\n",
    "print(\"sm_pipeline_name: \", sm_pipeline_name)\n",
    "print(\"model_package_group_name: \", model_package_group_name)\n",
    "print(\"endpoint_name: \", endpoint_name)"
   ]
  },
  {
   "cell_type": "markdown",
   "id": "a68d5a30",
   "metadata": {
    "tags": []
   },
   "source": [
    "# 2. 빌드 프로젝트  JSON 정의\n",
    "- CodeBuild serviceRole 과 SAGEMAKER_PIPELINE_ROLE_ARN 을 동일한 Role 로 사용함.\n",
    "\n",
    "```\n",
    "# SAGEMAKER_PIPELINE_ROLE_ARN\n",
    "\"name\": \"SAGEMAKER_PIPELINE_ROLE_ARN\",\n",
    "\"value\": build_service_role,\n",
    "```\n",
    "\n",
    "```\n",
    "# CodeBuild serviceRole\n",
    "  \"serviceRole\": build_service_role,  \n",
    "```"
   ]
  },
  {
   "cell_type": "code",
   "execution_count": 67,
   "id": "18af1a8c",
   "metadata": {},
   "outputs": [],
   "source": [
    "build_dic = {\n",
    "  \"name\": code_build_project_name,\n",
    "  \"description\": \"Hello Build Project\",\n",
    "  \"source\": {\n",
    "    \"type\": \"CODEPIPELINE\",\n",
    "    \"buildspec\": \"codebuild-buildspec.yml\",\n",
    "  },\n",
    "  \"artifacts\": {\n",
    "    \"type\": \"CODEPIPELINE\",\n",
    "    \"name\": code_build_project_name,\n",
    "  },\n",
    "  \"cache\": {\n",
    "    \"type\": \"NO_CACHE\",\n",
    "  },\n",
    "  \"environment\": {\n",
    "            \"type\": \"LINUX_CONTAINER\",\n",
    "            \"image\": \"aws/codebuild/amazonlinux2-x86_64-standard:3.0\",\n",
    "            \"computeType\": \"BUILD_GENERAL1_SMALL\",\n",
    "            \"environmentVariables\": [\n",
    "                {\n",
    "                    \"name\": \"IMAGE_REPO_NAME\",\n",
    "                    \"value\": \"NCF-Serving-Pipelinel\",\n",
    "                    \"type\": \"PLAINTEXT\"\n",
    "                },\n",
    "                {\n",
    "                    \"name\": \"IMAGE_TAG\",\n",
    "                    \"value\": \"latest\",\n",
    "                    \"type\": \"PLAINTEXT\"\n",
    "                },\n",
    "                {\n",
    "                    \"name\": \"AWS_ACCOUNT_ID\",\n",
    "                    \"value\": account_id,\n",
    "                    \"type\": \"PLAINTEXT\"\n",
    "                },\n",
    "                {\n",
    "                    \"name\": \"SAGEMAKER_PIPELINE_ROLE_ARN\",\n",
    "                    \"value\": build_service_role,\n",
    "                    \"type\": \"PLAINTEXT\"\n",
    "                },        \n",
    "                {\n",
    "                    \"name\": \"SAGEMAKER_PIPELINE_NAME\",\n",
    "                    \"value\": sm_pipeline_name,\n",
    "                    \"type\": \"PLAINTEXT\"\n",
    "                },                        \n",
    "                {\n",
    "                    \"name\": \"AWS_DEFAULT_REGION\",\n",
    "                    \"value\": region,\n",
    "                    \"type\": \"PLAINTEXT\"\n",
    "                },\n",
    "                {\n",
    "                    \"name\": \"TEMPLATE_BUCKET\",\n",
    "                    \"value\": bucket,\n",
    "                    \"type\": \"PLAINTEXT\"\n",
    "                },\n",
    "                {\n",
    "                    \"name\": \"code_repository_name\",\n",
    "                    \"value\": repository_name,\n",
    "                    \"type\": \"PLAINTEXT\"\n",
    "                },                \n",
    "                {\n",
    "                    \"name\": \"project_prefix\",\n",
    "                    \"value\": project_prefix,\n",
    "                    \"type\": \"PLAINTEXT\"\n",
    "                },\n",
    "                {\n",
    "                    \"name\": \"model_package_group_name\",\n",
    "                    \"value\": model_package_group_name,\n",
    "                    \"type\": \"PLAINTEXT\"\n",
    "                },                                \n",
    "                {\n",
    "                    \"name\": \"endpoint_name\",\n",
    "                    \"value\": endpoint_name,\n",
    "                    \"type\": \"PLAINTEXT\"\n",
    "                },                \n",
    "                {\n",
    "                    \"name\": \"TEMPLATE_PREFIX\",\n",
    "                    \"value\": \"codebuild\",\n",
    "                    \"type\": \"PLAINTEXT\"\n",
    "                }\n",
    "                \n",
    "            ],\n",
    "            \"privilegedMode\": False,\n",
    "            \"imagePullCredentialsType\": \"CODEBUILD\"\n",
    "        },\n",
    "  \"serviceRole\": build_service_role,\n",
    "  \"timeoutInMinutes\": 60,\n",
    "  \"queuedTimeoutInMinutes\": 480,\n",
    "  \"badgeEnabled\": False,\n",
    "  \"logsConfig\": {\n",
    "    \"cloudWatchLogs\": {\n",
    "      \"status\": \"ENABLED\",\n",
    "    },\n",
    "    \"s3Logs\": {\n",
    "      \"status\": \"DISABLED\",\n",
    "      \"encryptionDisabled\": False\n",
    "    }\n",
    "  },\n",
    "}"
   ]
  },
  {
   "cell_type": "markdown",
   "id": "cc24ab36",
   "metadata": {},
   "source": [
    "## 2.1. Dic 포맷을 JSON 으로 변경"
   ]
  },
  {
   "cell_type": "code",
   "execution_count": 68,
   "id": "4d1d712e",
   "metadata": {},
   "outputs": [
    {
     "data": {
      "text/plain": [
       "{'name': 'ncf-serving-sm-pipeline',\n",
       " 'description': 'Hello Build Project',\n",
       " 'source': {'type': 'CODEPIPELINE', 'buildspec': 'codebuild-buildspec.yml'},\n",
       " 'artifacts': {'type': 'CODEPIPELINE', 'name': 'ncf-serving-sm-pipeline'},\n",
       " 'cache': {'type': 'NO_CACHE'},\n",
       " 'environment': {'type': 'LINUX_CONTAINER',\n",
       "  'image': 'aws/codebuild/amazonlinux2-x86_64-standard:3.0',\n",
       "  'computeType': 'BUILD_GENERAL1_SMALL',\n",
       "  'environmentVariables': [{'name': 'IMAGE_REPO_NAME',\n",
       "    'value': 'NCF-Serving-Pipelinel',\n",
       "    'type': 'PLAINTEXT'},\n",
       "   {'name': 'IMAGE_TAG', 'value': 'latest', 'type': 'PLAINTEXT'},\n",
       "   {'name': 'AWS_ACCOUNT_ID', 'value': '057716757052', 'type': 'PLAINTEXT'},\n",
       "   {'name': 'SAGEMAKER_PIPELINE_ROLE_ARN',\n",
       "    'value': 'arn:aws:iam::057716757052:role/codebuild-gsmoon',\n",
       "    'type': 'PLAINTEXT'},\n",
       "   {'name': 'SAGEMAKER_PIPELINE_NAME',\n",
       "    'value': 'sm-serving-pipeline',\n",
       "    'type': 'PLAINTEXT'},\n",
       "   {'name': 'AWS_DEFAULT_REGION', 'value': 'us-east-1', 'type': 'PLAINTEXT'},\n",
       "   {'name': 'TEMPLATE_BUCKET',\n",
       "    'value': 'sagemaker-us-east-1-057716757052',\n",
       "    'type': 'PLAINTEXT'},\n",
       "   {'name': 'code_repository_name',\n",
       "    'value': 'mlops-ncf-serving-pipeline',\n",
       "    'type': 'PLAINTEXT'},\n",
       "   {'name': 'project_prefix',\n",
       "    'value': 'CodePipeline-Serving-NCF',\n",
       "    'type': 'PLAINTEXT'},\n",
       "   {'name': 'model_package_group_name',\n",
       "    'value': 'NCF-Model-CodePipeline',\n",
       "    'type': 'PLAINTEXT'},\n",
       "   {'name': 'endpoint_name',\n",
       "    'value': 'ncf-codepipeline-endpoint',\n",
       "    'type': 'PLAINTEXT'},\n",
       "   {'name': 'TEMPLATE_PREFIX', 'value': 'codebuild', 'type': 'PLAINTEXT'}],\n",
       "  'privilegedMode': False,\n",
       "  'imagePullCredentialsType': 'CODEBUILD'},\n",
       " 'serviceRole': 'arn:aws:iam::057716757052:role/codebuild-gsmoon',\n",
       " 'timeoutInMinutes': 60,\n",
       " 'queuedTimeoutInMinutes': 480,\n",
       " 'badgeEnabled': False,\n",
       " 'logsConfig': {'cloudWatchLogs': {'status': 'ENABLED'},\n",
       "  's3Logs': {'status': 'DISABLED', 'encryptionDisabled': False}}}"
      ]
     },
     "execution_count": 68,
     "metadata": {},
     "output_type": "execute_result"
    }
   ],
   "source": [
    "import json\n",
    "\n",
    "build_json = json.dumps(build_dic)\n",
    "json.loads(build_json)"
   ]
  },
  {
   "cell_type": "markdown",
   "id": "7c30e9f9",
   "metadata": {},
   "source": [
    "## 2.2. JSON 파일 저장"
   ]
  },
  {
   "cell_type": "code",
   "execution_count": 69,
   "id": "41b41c0e",
   "metadata": {},
   "outputs": [],
   "source": [
    "json_file_path = 'src/hello_build.json'\n",
    "with open(json_file_path, \"w\") as outfile:\n",
    "    outfile.write(build_json)"
   ]
  },
  {
   "cell_type": "code",
   "execution_count": 70,
   "id": "8e705e6a",
   "metadata": {},
   "outputs": [
    {
     "data": {
      "text/plain": [
       "{'name': 'ncf-serving-sm-pipeline',\n",
       " 'description': 'Hello Build Project',\n",
       " 'source': {'type': 'CODEPIPELINE', 'buildspec': 'codebuild-buildspec.yml'},\n",
       " 'artifacts': {'type': 'CODEPIPELINE', 'name': 'ncf-serving-sm-pipeline'},\n",
       " 'cache': {'type': 'NO_CACHE'},\n",
       " 'environment': {'type': 'LINUX_CONTAINER',\n",
       "  'image': 'aws/codebuild/amazonlinux2-x86_64-standard:3.0',\n",
       "  'computeType': 'BUILD_GENERAL1_SMALL',\n",
       "  'environmentVariables': [{'name': 'IMAGE_REPO_NAME',\n",
       "    'value': 'NCF-Serving-Pipelinel',\n",
       "    'type': 'PLAINTEXT'},\n",
       "   {'name': 'IMAGE_TAG', 'value': 'latest', 'type': 'PLAINTEXT'},\n",
       "   {'name': 'AWS_ACCOUNT_ID', 'value': '057716757052', 'type': 'PLAINTEXT'},\n",
       "   {'name': 'SAGEMAKER_PIPELINE_ROLE_ARN',\n",
       "    'value': 'arn:aws:iam::057716757052:role/codebuild-gsmoon',\n",
       "    'type': 'PLAINTEXT'},\n",
       "   {'name': 'SAGEMAKER_PIPELINE_NAME',\n",
       "    'value': 'sm-serving-pipeline',\n",
       "    'type': 'PLAINTEXT'},\n",
       "   {'name': 'AWS_DEFAULT_REGION', 'value': 'us-east-1', 'type': 'PLAINTEXT'},\n",
       "   {'name': 'TEMPLATE_BUCKET',\n",
       "    'value': 'sagemaker-us-east-1-057716757052',\n",
       "    'type': 'PLAINTEXT'},\n",
       "   {'name': 'code_repository_name',\n",
       "    'value': 'mlops-ncf-serving-pipeline',\n",
       "    'type': 'PLAINTEXT'},\n",
       "   {'name': 'project_prefix',\n",
       "    'value': 'CodePipeline-Serving-NCF',\n",
       "    'type': 'PLAINTEXT'},\n",
       "   {'name': 'model_package_group_name',\n",
       "    'value': 'NCF-Model-CodePipeline',\n",
       "    'type': 'PLAINTEXT'},\n",
       "   {'name': 'endpoint_name',\n",
       "    'value': 'ncf-codepipeline-endpoint',\n",
       "    'type': 'PLAINTEXT'},\n",
       "   {'name': 'TEMPLATE_PREFIX', 'value': 'codebuild', 'type': 'PLAINTEXT'}],\n",
       "  'privilegedMode': False,\n",
       "  'imagePullCredentialsType': 'CODEBUILD'},\n",
       " 'serviceRole': 'arn:aws:iam::057716757052:role/codebuild-gsmoon',\n",
       " 'timeoutInMinutes': 60,\n",
       " 'queuedTimeoutInMinutes': 480,\n",
       " 'badgeEnabled': False,\n",
       " 'logsConfig': {'cloudWatchLogs': {'status': 'ENABLED'},\n",
       "  's3Logs': {'status': 'DISABLED', 'encryptionDisabled': False}}}"
      ]
     },
     "execution_count": 70,
     "metadata": {},
     "output_type": "execute_result"
    }
   ],
   "source": [
    "with open(json_file_path) as json_file:\n",
    "    json_data = json.load(json_file)\n",
    "    \n",
    "json_data    "
   ]
  },
  {
   "cell_type": "markdown",
   "id": "bb0ebd9a",
   "metadata": {
    "tags": []
   },
   "source": [
    "# 3. 빌드 프로젝트 생성"
   ]
  },
  {
   "cell_type": "code",
   "execution_count": 71,
   "id": "ab0eaf8f",
   "metadata": {},
   "outputs": [
    {
     "name": "stdout",
     "output_type": "stream",
     "text": [
      "src/hello_build.json\n",
      "{\n",
      "    \"project\": {\n",
      "        \"name\": \"ncf-serving-sm-pipeline\",\n",
      "        \"arn\": \"arn:aws:codebuild:us-east-1:057716757052:project/ncf-serving-sm-pipeline\",\n",
      "        \"description\": \"Hello Build Project\",\n",
      "        \"source\": {\n",
      "            \"type\": \"CODEPIPELINE\",\n",
      "            \"buildspec\": \"codebuild-buildspec.yml\",\n",
      "            \"insecureSsl\": false\n",
      "        },\n",
      "        \"artifacts\": {\n",
      "            \"type\": \"CODEPIPELINE\",\n",
      "            \"name\": \"ncf-serving-sm-pipeline\",\n",
      "            \"packaging\": \"NONE\",\n",
      "            \"encryptionDisabled\": false\n",
      "        },\n",
      "        \"cache\": {\n",
      "            \"type\": \"NO_CACHE\"\n",
      "        },\n",
      "        \"environment\": {\n",
      "            \"type\": \"LINUX_CONTAINER\",\n",
      "            \"image\": \"aws/codebuild/amazonlinux2-x86_64-standard:3.0\",\n",
      "            \"computeType\": \"BUILD_GENERAL1_SMALL\",\n",
      "            \"environmentVariables\": [\n",
      "                {\n",
      "                    \"name\": \"IMAGE_REPO_NAME\",\n",
      "                    \"value\": \"NCF-Serving-Pipelinel\",\n",
      "                    \"type\": \"PLAINTEXT\"\n",
      "                },\n",
      "                {\n",
      "                    \"name\": \"IMAGE_TAG\",\n",
      "                    \"value\": \"latest\",\n",
      "                    \"type\": \"PLAINTEXT\"\n",
      "                },\n",
      "                {\n",
      "                    \"name\": \"AWS_ACCOUNT_ID\",\n",
      "                    \"value\": \"057716757052\",\n",
      "                    \"type\": \"PLAINTEXT\"\n",
      "                },\n",
      "                {\n",
      "                    \"name\": \"SAGEMAKER_PIPELINE_ROLE_ARN\",\n",
      "                    \"value\": \"arn:aws:iam::057716757052:role/codebuild-gsmoon\",\n",
      "                    \"type\": \"PLAINTEXT\"\n",
      "                },\n",
      "                {\n",
      "                    \"name\": \"SAGEMAKER_PIPELINE_NAME\",\n",
      "                    \"value\": \"sm-serving-pipeline\",\n",
      "                    \"type\": \"PLAINTEXT\"\n",
      "                },\n",
      "                {\n",
      "                    \"name\": \"AWS_DEFAULT_REGION\",\n",
      "                    \"value\": \"us-east-1\",\n",
      "                    \"type\": \"PLAINTEXT\"\n",
      "                },\n",
      "                {\n",
      "                    \"name\": \"TEMPLATE_BUCKET\",\n",
      "                    \"value\": \"sagemaker-us-east-1-057716757052\",\n",
      "                    \"type\": \"PLAINTEXT\"\n",
      "                },\n",
      "                {\n",
      "                    \"name\": \"code_repository_name\",\n",
      "                    \"value\": \"mlops-ncf-serving-pipeline\",\n",
      "                    \"type\": \"PLAINTEXT\"\n",
      "                },\n",
      "                {\n",
      "                    \"name\": \"project_prefix\",\n",
      "                    \"value\": \"CodePipeline-Serving-NCF\",\n",
      "                    \"type\": \"PLAINTEXT\"\n",
      "                },\n",
      "                {\n",
      "                    \"name\": \"model_package_group_name\",\n",
      "                    \"value\": \"NCF-Model-CodePipeline\",\n",
      "                    \"type\": \"PLAINTEXT\"\n",
      "                },\n",
      "                {\n",
      "                    \"name\": \"endpoint_name\",\n",
      "                    \"value\": \"ncf-codepipeline-endpoint\",\n",
      "                    \"type\": \"PLAINTEXT\"\n",
      "                },\n",
      "                {\n",
      "                    \"name\": \"TEMPLATE_PREFIX\",\n",
      "                    \"value\": \"codebuild\",\n",
      "                    \"type\": \"PLAINTEXT\"\n",
      "                }\n",
      "            ],\n",
      "            \"privilegedMode\": false,\n",
      "            \"imagePullCredentialsType\": \"CODEBUILD\"\n",
      "        },\n",
      "        \"serviceRole\": \"arn:aws:iam::057716757052:role/codebuild-gsmoon\",\n",
      "        \"timeoutInMinutes\": 60,\n",
      "        \"queuedTimeoutInMinutes\": 480,\n",
      "        \"encryptionKey\": \"arn:aws:kms:us-east-1:057716757052:alias/aws/s3\",\n",
      "        \"created\": 1668946170.562,\n",
      "        \"lastModified\": 1668946170.562,\n",
      "        \"badge\": {\n",
      "            \"badgeEnabled\": false\n",
      "        },\n",
      "        \"logsConfig\": {\n",
      "            \"cloudWatchLogs\": {\n",
      "                \"status\": \"ENABLED\"\n",
      "            },\n",
      "            \"s3Logs\": {\n",
      "                \"status\": \"DISABLED\",\n",
      "                \"encryptionDisabled\": false\n",
      "            }\n",
      "        },\n",
      "        \"projectVisibility\": \"PRIVATE\"\n",
      "    }\n",
      "}\n"
     ]
    }
   ],
   "source": [
    "%%sh -s {json_file_path}\n",
    "json_file_path=$1\n",
    "echo $json_file_path\n",
    "aws codebuild create-project --cli-input-json file://$json_file_path"
   ]
  },
  {
   "cell_type": "code",
   "execution_count": null,
   "id": "55a69820",
   "metadata": {},
   "outputs": [],
   "source": []
  },
  {
   "cell_type": "code",
   "execution_count": null,
   "id": "ac0e577f-dba0-4257-ba6a-e7ea03616deb",
   "metadata": {},
   "outputs": [],
   "source": []
  },
  {
   "cell_type": "code",
   "execution_count": null,
   "id": "01a7fd60-408b-44fc-9491-b9e4e1a1405b",
   "metadata": {},
   "outputs": [],
   "source": []
  }
 ],
 "metadata": {
  "kernelspec": {
   "display_name": "conda_python3",
   "language": "python",
   "name": "conda_python3"
  },
  "language_info": {
   "codemirror_mode": {
    "name": "ipython",
    "version": 3
   },
   "file_extension": ".py",
   "mimetype": "text/x-python",
   "name": "python",
   "nbconvert_exporter": "python",
   "pygments_lexer": "ipython3",
   "version": "3.8.12"
  }
 },
 "nbformat": 4,
 "nbformat_minor": 5
}
