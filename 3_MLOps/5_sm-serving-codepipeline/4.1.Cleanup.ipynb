{
 "cells": [
  {
   "cell_type": "markdown",
   "id": "bb8426f7",
   "metadata": {},
   "source": [
    "# 4.1. 리소스 클린업"
   ]
  },
  {
   "cell_type": "markdown",
   "id": "590b4e52",
   "metadata": {},
   "source": [
    "# 1. 환경 설정"
   ]
  },
  {
   "cell_type": "code",
   "execution_count": 17,
   "id": "c2930d13",
   "metadata": {},
   "outputs": [],
   "source": [
    "%store -r repository_name\n",
    "%store -r code_build_project_name\n",
    "%store -r sm_pipeline_name\n",
    "%store -r code_pipeline_name\n",
    "%store -r bucket"
   ]
  },
  {
   "cell_type": "markdown",
   "id": "5050e16f",
   "metadata": {},
   "source": [
    "# 2. 코드 리파지토리 삭제"
   ]
  },
  {
   "cell_type": "code",
   "execution_count": 18,
   "id": "76493100",
   "metadata": {},
   "outputs": [
    {
     "name": "stdout",
     "output_type": "stream",
     "text": [
      "{\n",
      "    \"repositoryId\": \"883d4043-5d2e-41a4-8bf0-54d4a9052140\"\n",
      "}\n"
     ]
    }
   ],
   "source": [
    "%%sh -s {repository_name}\n",
    "repository_name=$1\n",
    "aws codecommit delete-repository --repository-name $repository_name \n"
   ]
  },
  {
   "cell_type": "markdown",
   "id": "fd8b4f00",
   "metadata": {},
   "source": [
    "# 3. 코드 빌드 프로젝트 삭제"
   ]
  },
  {
   "cell_type": "code",
   "execution_count": 19,
   "id": "cb31b8d6",
   "metadata": {},
   "outputs": [],
   "source": [
    "%%sh -s {code_build_project_name}\n",
    "code_build_project_name=$1\n",
    "aws codebuild delete-project --name $code_build_project_name"
   ]
  },
  {
   "cell_type": "markdown",
   "id": "39df0fc7",
   "metadata": {},
   "source": [
    "# 4. 코드 파이프라인 삭제"
   ]
  },
  {
   "cell_type": "code",
   "execution_count": 20,
   "id": "54413171",
   "metadata": {},
   "outputs": [],
   "source": [
    "%%sh -s {code_pipeline_name}\n",
    "pipeline_name=$1\n",
    "aws codepipeline delete-pipeline --name $pipeline_name"
   ]
  },
  {
   "cell_type": "code",
   "execution_count": null,
   "id": "4c5ef8be-a856-4721-a718-83c4e26cf43d",
   "metadata": {},
   "outputs": [],
   "source": []
  },
  {
   "cell_type": "code",
   "execution_count": null,
   "id": "73f87026-f772-464a-807d-72c4fa662ebc",
   "metadata": {},
   "outputs": [],
   "source": []
  },
  {
   "cell_type": "markdown",
   "id": "bb961fd9-bbeb-4d66-8363-23ddaeb7c254",
   "metadata": {},
   "source": [
    "# 5. SageMaker Model Building Pipeline 삭제\n",
    "\n",
    "\n"
   ]
  },
  {
   "cell_type": "markdown",
   "id": "a10d059f-1a9c-46ce-a664-2970738adb11",
   "metadata": {},
   "source": [
    "## 5.1 파이프라인 삭제"
   ]
  },
  {
   "cell_type": "markdown",
   "id": "7bb5748a-cad4-4114-9d43-22d707f4b6d4",
   "metadata": {},
   "source": [
    "- 파이프라인 이름 검색\n",
    "\n",
    "sm_pipeline_name 의 변수 이름으로 시작되는 파이프라인 정보 검색"
   ]
  },
  {
   "cell_type": "code",
   "execution_count": 25,
   "id": "91141af4-be85-48f1-8ca2-140a712d995b",
   "metadata": {},
   "outputs": [
    {
     "data": {
      "text/plain": [
       "{'PipelineSummaries': [{'PipelineArn': 'arn:aws:sagemaker:us-east-1:057716757052:pipeline/ncf-sm-pipeline',\n",
       "   'PipelineName': 'ncf-sm-pipeline',\n",
       "   'PipelineDisplayName': 'ncf-sm-pipeline',\n",
       "   'RoleArn': 'arn:aws:iam::057716757052:role/codebuild-gsmoon',\n",
       "   'CreationTime': datetime.datetime(2022, 9, 1, 14, 29, 59, 513000, tzinfo=tzlocal()),\n",
       "   'LastModifiedTime': datetime.datetime(2022, 9, 1, 14, 41, 48, 560000, tzinfo=tzlocal())}],\n",
       " 'ResponseMetadata': {'RequestId': 'd5e88b15-4ebd-44f8-8de2-927ce3fd2380',\n",
       "  'HTTPStatusCode': 200,\n",
       "  'HTTPHeaders': {'x-amzn-requestid': 'd5e88b15-4ebd-44f8-8de2-927ce3fd2380',\n",
       "   'content-type': 'application/x-amz-json-1.1',\n",
       "   'content-length': '307',\n",
       "   'date': 'Sun, 13 Nov 2022 11:02:24 GMT'},\n",
       "  'RetryAttempts': 0}}"
      ]
     },
     "execution_count": 25,
     "metadata": {},
     "output_type": "execute_result"
    }
   ],
   "source": [
    "import boto3\n",
    "\n",
    "client = boto3.client('sagemaker')\n",
    "\n",
    "response = client.list_pipelines(\n",
    "    PipelineNamePrefix= sm_pipeline_name,\n",
    "    SortBy='Name',\n",
    "    SortOrder='Descending',\n",
    "    MaxResults=1\n",
    ")\n",
    "\n",
    "response"
   ]
  },
  {
   "cell_type": "code",
   "execution_count": null,
   "id": "afe1212b-e609-4bd4-95ff-6d640bf35388",
   "metadata": {},
   "outputs": [],
   "source": [
    "response = client.delete_pipeline(\n",
    "    PipelineName=sm_pipeline_name,\n",
    ")\n",
    "response"
   ]
  },
  {
   "cell_type": "markdown",
   "id": "d5c233ea-fe60-4c7d-a967-d5d296159e16",
   "metadata": {},
   "source": [
    "## 5.2. 파이프라인 관련 S3 내 파일 삭제"
   ]
  },
  {
   "cell_type": "code",
   "execution_count": null,
   "id": "eda3f829-968e-42a4-b297-e606f74d8892",
   "metadata": {},
   "outputs": [],
   "source": [
    "# ! aws s3 ls {bucket}/{sm_pipeline_name} --recursive\n",
    "! aws s3 rm s3://{bucket}/{sm_pipeline_name} --recursive"
   ]
  },
  {
   "cell_type": "markdown",
   "id": "68240f1d-4334-4bcc-885f-024a4e926f74",
   "metadata": {},
   "source": [
    "# 6. 모델 레지스트리 삭제\n",
    "\n",
    "- 자세한 것은 개발자 가이드 참고 하세요. [Boto3 SageMaker](https://boto3.amazonaws.com/v1/documentation/api/latest/reference/services/sagemaker.html#SageMaker.Client.delete_model_package)"
   ]
  },
  {
   "cell_type": "markdown",
   "id": "3c98b6bb-b634-4a7c-9353-fe5f350f22e4",
   "metadata": {},
   "source": [
    "## 6.1. 전체 model package group 검색\n",
    "- NameContains 의 이름 있는 것만 검색"
   ]
  },
  {
   "cell_type": "code",
   "execution_count": null,
   "id": "c7448971-26c3-4bdc-811d-e3755edd46f0",
   "metadata": {},
   "outputs": [],
   "source": [
    "response = client.list_model_package_groups(\n",
    "    NameContains = 'mimick',\n",
    "    SortBy='CreationTime',\n",
    "    SortOrder='Ascending'\n",
    ")\n",
    "response"
   ]
  },
  {
   "cell_type": "markdown",
   "id": "0fc82d01-e24a-46b0-b7c8-f806094bcfb4",
   "metadata": {},
   "source": [
    "## 6.2. 기술된 model package group 안애서 등록된 model package 만 검색"
   ]
  },
  {
   "cell_type": "code",
   "execution_count": null,
   "id": "40de9e45-faa1-4b39-afe2-f58fe2fe42ef",
   "metadata": {},
   "outputs": [],
   "source": [
    "model_package_group_name = sm_pipeline_name"
   ]
  },
  {
   "cell_type": "code",
   "execution_count": null,
   "id": "885ff939-3c7c-446d-bf41-fa75a2d1a88d",
   "metadata": {},
   "outputs": [],
   "source": [
    "response = client.list_model_packages(\n",
    "    ModelPackageGroupName=model_package_group_name , \n",
    "    SortBy='CreationTime',\n",
    "    SortOrder='Ascending'\n",
    ")\n",
    "response"
   ]
  },
  {
   "cell_type": "markdown",
   "id": "d79edb52-22a6-4672-9425-85ab94883730",
   "metadata": {},
   "source": [
    "## 6.3. model package 삭제"
   ]
  },
  {
   "cell_type": "code",
   "execution_count": null,
   "id": "48f73f0b-02a3-478c-91ab-37336f472cab",
   "metadata": {},
   "outputs": [],
   "source": [
    "for e in response['ModelPackageSummaryList']:\n",
    "    print(e)\n",
    "    ModelPackageArn = e['ModelPackageArn']\n",
    "    print(f\"########## Delete: {ModelPackageArn}\")\n",
    "    response = client.delete_model_package(\n",
    "        ModelPackageName=ModelPackageArn\n",
    "    )    \n",
    "    print(response)"
   ]
  },
  {
   "cell_type": "markdown",
   "id": "bd205f67-3f74-48f0-8d47-df9e106a25d5",
   "metadata": {},
   "source": [
    "## 6.4. 기술된 model package group 삭제"
   ]
  },
  {
   "cell_type": "code",
   "execution_count": null,
   "id": "d3b91427-4c76-4614-bbed-3ffd687c67f8",
   "metadata": {},
   "outputs": [],
   "source": [
    "response = client.delete_model_package_group(\n",
    "    ModelPackageGroupName= model_package_group_name\n",
    ")\n",
    "response"
   ]
  },
  {
   "cell_type": "code",
   "execution_count": null,
   "id": "ef0edcdc-0a9c-4690-b2c3-9cf4c647be62",
   "metadata": {},
   "outputs": [],
   "source": []
  }
 ],
 "metadata": {
  "kernelspec": {
   "display_name": "conda_python3",
   "language": "python",
   "name": "conda_python3"
  },
  "language_info": {
   "codemirror_mode": {
    "name": "ipython",
    "version": 3
   },
   "file_extension": ".py",
   "mimetype": "text/x-python",
   "name": "python",
   "nbconvert_exporter": "python",
   "pygments_lexer": "ipython3",
   "version": "3.8.12"
  }
 },
 "nbformat": 4,
 "nbformat_minor": 5
}
