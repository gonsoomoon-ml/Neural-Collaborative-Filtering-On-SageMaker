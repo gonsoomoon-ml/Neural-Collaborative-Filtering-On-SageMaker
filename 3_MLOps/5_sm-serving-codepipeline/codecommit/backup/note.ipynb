{
 "cells": [
  {
   "cell_type": "code",
   "execution_count": 12,
   "id": "2cd9d0f8-3a91-4b40-bf6c-1dde41fb75d6",
   "metadata": {},
   "outputs": [
    {
     "data": {
      "text/plain": [
       "'/home/ec2-user/SageMaker/Neural-Collaborative-Filtering-On-SageMaker/3_MLOps/3_sm-train-codepipeline/codecommit'"
      ]
     },
     "execution_count": 12,
     "metadata": {},
     "output_type": "execute_result"
    }
   ],
   "source": [
    "import os\n",
    "os.getcwd()"
   ]
  },
  {
   "cell_type": "code",
   "execution_count": 17,
   "id": "f78999ed-9c38-4f80-8c17-e3a879d0a7c3",
   "metadata": {},
   "outputs": [],
   "source": [
    "package_dir = \"mlops-ncf/pipelines/ncf/src\""
   ]
  },
  {
   "cell_type": "code",
   "execution_count": 14,
   "id": "84d70a7c-4423-42c5-9b26-1e76e9e63cbd",
   "metadata": {},
   "outputs": [
    {
     "name": "stdout",
     "output_type": "stream",
     "text": [
      "config.py\n",
      "data_utils.py\n",
      "evaluate.py\n",
      "model.py\n",
      "requirements.txt\n",
      "source.tar.gz\n",
      "train_lib.py\n",
      "train.py\n"
     ]
    },
    {
     "data": {
      "text/plain": [
       "0"
      ]
     },
     "execution_count": 14,
     "metadata": {},
     "output_type": "execute_result"
    }
   ],
   "source": [
    "os.system(f\"cd {package_dir} && tar -czvf source.tar.gz *\")       "
   ]
  },
  {
   "cell_type": "code",
   "execution_count": 35,
   "id": "1853035e-11ae-47ad-85b7-575a7fc55a08",
   "metadata": {},
   "outputs": [
    {
     "name": "stdout",
     "output_type": "stream",
     "text": [
      "/home/ec2-user/SageMaker/Neural-Collaborative-Filtering-On-SageMaker/3_MLOps/3_sm-train-codepipeline/codecommit/mlops-ncf/pipelines/ncf/src\n",
      "config.py\n",
      "data_utils.py\n",
      "evaluate.py\n",
      "model.py\n",
      "requirements.txt\n",
      "source.tar.gz\n",
      "temp/\n",
      "temp/.ipynb_checkpoints/\n",
      "train_lib.py\n",
      "train.py\n"
     ]
    }
   ],
   "source": [
    "%%sh -s {package_dir}\n",
    "\n",
    "cd $1\n",
    "echo $PWD\n",
    "mkdir temp\n",
    "\n",
    "tar -xzvf ./source.tar.gz -C temp"
   ]
  },
  {
   "cell_type": "code",
   "execution_count": 36,
   "id": "07096ec0-35a6-48b2-bd08-5bee03fd6360",
   "metadata": {},
   "outputs": [
    {
     "name": "stdout",
     "output_type": "stream",
     "text": [
      "2022-09-01 12:34:55       6987 source.tar.gz\n"
     ]
    }
   ],
   "source": [
    "! aws s3 ls s3://sagemaker-us-east-1-057716757052/ncf/source.tar.gz"
   ]
  },
  {
   "cell_type": "code",
   "execution_count": 33,
   "id": "a4708672-9b65-4c68-b1a6-ba43eaddb598",
   "metadata": {},
   "outputs": [
    {
     "name": "stdout",
     "output_type": "stream",
     "text": [
      "delete: s3://sagemaker-us-east-1-057716757052/ncf/source.tar.gz\n"
     ]
    }
   ],
   "source": [
    "# ! aws s3 rm s3://sagemaker-us-east-1-057716757052/ncf/source.tar.gz"
   ]
  },
  {
   "cell_type": "code",
   "execution_count": 37,
   "id": "c9f266ce-bcc1-493f-bfb3-36e51505c0f2",
   "metadata": {},
   "outputs": [
    {
     "name": "stdout",
     "output_type": "stream",
     "text": [
      "download: s3://sagemaker-us-east-1-057716757052/ncf/source.tar.gz to temp/source.tar.gz\n",
      "/home/ec2-user/SageMaker/Neural-Collaborative-Filtering-On-SageMaker/3_MLOps/3_sm-train-codepipeline/codecommit/temp\n",
      "config.py\n",
      "data_utils.py\n",
      "evaluate.py\n",
      "model.py\n",
      "requirements.txt\n",
      "source.tar.gz\n",
      "temp/\n",
      "temp/.ipynb_checkpoints/\n",
      "train_lib.py\n",
      "train.py\n"
     ]
    }
   ],
   "source": [
    "%%sh\n",
    "! aws s3 cp s3://sagemaker-us-east-1-057716757052/ncf/source.tar.gz temp\n",
    "cd temp\n",
    "echo $PWD\n",
    "\n",
    "tar -xzvf source.tar.gz"
   ]
  },
  {
   "cell_type": "code",
   "execution_count": 3,
   "id": "ca3d52af-a204-4d41-b451-21671a169446",
   "metadata": {
    "tags": []
   },
   "outputs": [
    {
     "name": "stdout",
     "output_type": "stream",
     "text": [
      "/home/ec2-user/SageMaker/Neural-Collaborative-Filtering-On-SageMaker/3_MLOps/3_sm-train-codepipeline/codecommit\n",
      "config.py\n",
      "data_utils.py\n",
      "evaluate.py\n",
      "model.py\n",
      "requirements.txt\n",
      "source.tar.gz\n",
      "train_lib.py\n",
      "train.py\n"
     ]
    }
   ],
   "source": [
    "# %%sh -s {package_dir}\n",
    "\n",
    "# echo $PWD\n",
    "\n",
    "# cd $1 && tar -czvf source.tar.gz *\n",
    "# #tar -czvf source.tar.gz $1"
   ]
  },
  {
   "cell_type": "code",
   "execution_count": 6,
   "id": "ea3a7dbd-505c-4dbe-b302-68b03aa23470",
   "metadata": {},
   "outputs": [],
   "source": [
    "# import os\n",
    "# os.makedirs('temp')"
   ]
  },
  {
   "cell_type": "code",
   "execution_count": 19,
   "id": "89743e46-a6ca-416e-9e3d-8a45abb9b0c2",
   "metadata": {},
   "outputs": [],
   "source": [
    "# import os\n",
    "# for dirpath, dirs, files in os.walk(\".\"):\n",
    "# \tprint(dirpath)"
   ]
  }
 ],
 "metadata": {
  "kernelspec": {
   "display_name": "conda_python3",
   "language": "python",
   "name": "conda_python3"
  },
  "language_info": {
   "codemirror_mode": {
    "name": "ipython",
    "version": 3
   },
   "file_extension": ".py",
   "mimetype": "text/x-python",
   "name": "python",
   "nbconvert_exporter": "python",
   "pygments_lexer": "ipython3",
   "version": "3.8.12"
  }
 },
 "nbformat": 4,
 "nbformat_minor": 5
}
