{
 "cells": [
  {
   "cell_type": "markdown",
   "metadata": {},
   "source": [
    "# SageMaker Pipeline (pipeline.py) 로컬에서 Test 하기\n",
    "\n"
   ]
  },
  {
   "cell_type": "markdown",
   "metadata": {},
   "source": [
    "## 중요 가이드\n",
    "- 디렉토리 설명\n",
    "- 추가 Dependency 폴더 (예: 소스 폴더) 필요시 설정 방법\n",
    "- Test 폴더\n",
    "- get_pipeline() 를 통한 파이프라인 실행\n",
    "\n",
    "```pythona\n",
    "from pipelines.abalone.pipeline import get_pipeline\n",
    "\n",
    "pipeline = get_pipeline(\n",
    "    region=region,\n",
    "    role=role,\n",
    "    default_bucket=default_bucket,\n",
    "    model_package_group_name=model_package_group_name,\n",
    "    pipeline_name=pipeline_name,\n",
    ")\n",
    "pipeline.upsert(role_arn=role)\n",
    "execution = pipeline.start()\n",
    "```\n",
    "- 파라미터 제공 통한 실행\n",
    "\n",
    "```python\n",
    "execution = pipeline.start(\n",
    "    parameters=dict(\n",
    "        ProcessingInstanceType=\"ml.c5.xlarge\",\n",
    "        ModelApprovalStatus=\"Approved\",\n",
    "    )\n",
    ")\n",
    "```"
   ]
  },
  {
   "cell_type": "markdown",
   "metadata": {},
   "source": [
    "# 1. 환경 설정 및 컨피그 파일 로딩"
   ]
  },
  {
   "cell_type": "code",
   "execution_count": 1,
   "metadata": {},
   "outputs": [],
   "source": [
    "%load_ext autoreload\n",
    "%autoreload 2\n",
    "\n"
   ]
  },
  {
   "cell_type": "code",
   "execution_count": 2,
   "metadata": {},
   "outputs": [],
   "source": [
    "code_pipeline_serving_config_json_path = 'pipelines/ncf/src/code_pipeline_serving_config.json'\n",
    "sm_pipeline_serving_config_json_path = 'pipelines/ncf/src/sm_pipeline_serving_config.json'"
   ]
  },
  {
   "cell_type": "code",
   "execution_count": 3,
   "metadata": {},
   "outputs": [
    {
     "name": "stdout",
     "output_type": "stream",
     "text": [
      "Code Pipeline Series Params: \n",
      "{\n",
      "  \"code_pipeline_role_arn\": \"arn:aws:iam::057716757052:role/code-pipeline-gsmoon\",\n",
      "  \"code_build_service_arn\": \"arn:aws:iam::057716757052:role/codebuild-gsmoon\",\n",
      "  \"project_prefix\": \"CodePipeline-Serving-NCF\",\n",
      "  \"region\": \"us-east-1\",\n",
      "  \"account_id\": \"057716757052\",\n",
      "  \"serving_code_repo_name\": \"ncf-serving\",\n",
      "  \"code_build_project_name\": \"ncf-serving-sm-pipeline\",\n",
      "  \"bucket\": \"sagemaker-us-east-1-057716757052\",\n",
      "  \"code_pipeline_name\": \"ncf-serving-code-pipeline\",\n",
      "  \"model_package_group_name\": \"NCF-Model-CodePipeline\",\n",
      "  \"endpoint_name\": \"ncf-codepipeline-endpoint\",\n",
      "  \"branch_name\": \"master\"\n",
      "}\n",
      "SageMaker Pipeline Series Params: \n",
      "{\n",
      "  \"sm_pipeline_name\": \"sm-serving-pipeline\",\n",
      "  \"endpoint_instance_type\": \"ml.g4dn.xlarge\",\n",
      "  \"ModelApprovalStatus\": \"Approved\",\n",
      "  \"bucket\": \"sagemaker-us-east-1-057716757052\"\n",
      "}\n"
     ]
    }
   ],
   "source": [
    "from pipelines.ncf.src.common_utils import load_json\n",
    "\n",
    "code_pipeline_serving_dict = load_json(code_pipeline_serving_config_json_path)\n",
    "sm_pipeline_serving_dict = load_json(sm_pipeline_serving_config_json_path)\n",
    "\n",
    "import json\n",
    "print(\"Code Pipeline Series Params: \")\n",
    "print (json.dumps(code_pipeline_serving_dict, indent=2))\n",
    "print(\"SageMaker Pipeline Series Params: \")\n",
    "print (json.dumps(sm_pipeline_serving_dict, indent=2))\n"
   ]
  },
  {
   "cell_type": "markdown",
   "metadata": {},
   "source": [
    "### 필요한 설정 값 로딩"
   ]
  },
  {
   "cell_type": "code",
   "execution_count": 11,
   "metadata": {},
   "outputs": [],
   "source": [
    "import boto3\n",
    "import sagemaker\n",
    "import os\n",
    "\n",
    "region = code_pipeline_serving_dict[\"region\"]\n",
    "bucket = code_pipeline_serving_dict[\"bucket\"]\n",
    "role = code_pipeline_serving_dict[\"code_build_service_arn\"]\n",
    "model_package_group_name = code_pipeline_serving_dict[\"model_package_group_name\"]\n",
    "project_prefix = code_pipeline_serving_dict[\"project_prefix\"]\n",
    "endpoint_name = code_pipeline_serving_dict[\"endpoint_name\"]\n",
    "\n",
    "pipeline_name = sm_pipeline_serving_dict[\"sm_pipeline_name\"]\n",
    "endpoint_instance_type = sm_pipeline_serving_dict[\"endpoint_instance_type\"]\n",
    "ModelApprovalStatus = sm_pipeline_serving_dict[\"ModelApprovalStatus\"]\n"
   ]
  },
  {
   "cell_type": "code",
   "execution_count": 12,
   "metadata": {},
   "outputs": [
    {
     "name": "stdout",
     "output_type": "stream",
     "text": [
      "project_prefix: \n",
      " CodePipeline-Serving-NCF\n",
      "region: \n",
      " us-east-1\n",
      "role: \n",
      " arn:aws:iam::057716757052:role/codebuild-gsmoon\n",
      "bucket: \n",
      " sagemaker-us-east-1-057716757052\n",
      "model_package_group_name: \n",
      " NCF-Model-CodePipeline\n",
      "endpoint_name: \n",
      " ncf-codepipeline-endpoint\n",
      "ModelApprovalStatus: \n",
      " Approved\n",
      "pipeline_name: \n",
      " sm-serving-pipeline\n",
      "endpoint_instance_type: \n",
      " ml.g4dn.xlarge\n"
     ]
    }
   ],
   "source": [
    "print(\"project_prefix: \\n\", project_prefix)\n",
    "print(\"region: \\n\", region)\n",
    "print(\"role: \\n\", role)\n",
    "print(\"bucket: \\n\", bucket)\n",
    "print(\"model_package_group_name: \\n\", model_package_group_name)\n",
    "print(\"endpoint_name: \\n\", endpoint_name)\n",
    "\n",
    "print(\"ModelApprovalStatus: \\n\", ModelApprovalStatus)\n",
    "print(\"pipeline_name: \\n\", pipeline_name)\n",
    "print(\"endpoint_instance_type: \\n\", endpoint_instance_type)"
   ]
  },
  {
   "cell_type": "markdown",
   "metadata": {
    "tags": []
   },
   "source": [
    "# 3. Pipeline 테스트"
   ]
  },
  {
   "cell_type": "code",
   "execution_count": 25,
   "metadata": {},
   "outputs": [
    {
     "name": "stdout",
     "output_type": "stream",
     "text": [
      "######### get_pipeline() input parameter ###############\n",
      "### BASE_DIR: /home/ec2-user/SageMaker/Neural-Collaborative-Filtering-On-SageMaker/3_MLOps/5_sm-serving-codepipeline/codecommit/pipelines/ncf\n",
      "project_prefix: CodePipeline-Serving-NCF\n",
      "role: arn:aws:iam::057716757052:role/codebuild-gsmoon\n",
      "default_bucket: sagemaker-us-east-1-057716757052\n",
      "model_package_group_name: NCF-Model-CodePipeline\n",
      "endpoint_name: ncf-codepipeline-endpoint\n",
      "pipeline_name: sm-serving-pipeline\n",
      "######### Look at subfolder and files #########\n",
      "./img\n",
      "    ./img/pipeline-full.png\n",
      "./tox.ini\n",
      "./codebuild-buildspec.yml\n",
      "./tests\n",
      "    ./tests/test_pipelines.py\n",
      "    ./tests/.ipynb_checkpoints\n",
      "        ./tests/.ipynb_checkpoints/test_pipelines-checkpoint.py\n",
      "./LICENSE\n",
      "./pipelines\n",
      "    ./pipelines/_utils.py\n",
      "    ./pipelines/.ipynb_checkpoints\n",
      "        ./pipelines/.ipynb_checkpoints/run_pipeline-checkpoint.py\n",
      "    ./pipelines/__version__.py\n",
      "    ./pipelines/run_pipeline.py\n",
      "    ./pipelines/__pycache__\n",
      "        ./pipelines/__pycache__/__init__.cpython-38.pyc\n",
      "    ./pipelines/get_pipeline_definition.py\n",
      "    ./pipelines/__init__.py\n",
      "    ./pipelines/ncf\n",
      "        ./pipelines/ncf/src\n",
      "            ./pipelines/ncf/src/common_utils.py\n",
      "            ./pipelines/ncf/src/code_pipeline_serving_config.json\n",
      "            ./pipelines/ncf/src/sm_pipeline_serving_config.json\n",
      "            ./pipelines/ncf/src/__pycache__\n",
      "                ./pipelines/ncf/src/__pycache__/__init__.cpython-38.pyc\n",
      "                ./pipelines/ncf/src/__pycache__/common_utils.cpython-38.pyc\n",
      "            ./pipelines/ncf/src/__init__.py\n",
      "        ./pipelines/ncf/pipeline.py\n",
      "        ./pipelines/ncf/iam_change_model_approval.py\n",
      "        ./pipelines/ncf/.ipynb_checkpoints\n",
      "            ./pipelines/ncf/.ipynb_checkpoints/pipeline-checkpoint.py\n",
      "        ./pipelines/ncf/iam_create_endpoint.py\n",
      "        ./pipelines/ncf/__pycache__\n",
      "            ./pipelines/ncf/__pycache__/__init__.cpython-38.pyc\n",
      "            ./pipelines/ncf/__pycache__/pipeline.cpython-38.pyc\n",
      "        ./pipelines/ncf/__init__.py\n",
      "./CONTRIBUTING.md\n",
      "./.ipynb_checkpoints\n",
      "    ./.ipynb_checkpoints/sagemaker-pipelines-project-checkpoint.ipynb\n",
      "    ./.ipynb_checkpoints/codebuild-buildspec-checkpoint.yml\n",
      "    ./.ipynb_checkpoints/setup-checkpoint.py\n",
      "./sagemaker-pipelines-project.ipynb\n",
      "./README.md\n",
      "./setup.py\n",
      "./setup.cfg\n",
      "role:  arn:aws:iam::057716757052:role/codebuild-gsmoon\n",
      "function_name: \n",
      " sagemaker-lambda-step-approve-model-deployment\n",
      "approval_lambda_script_path: \n",
      " /home/ec2-user/SageMaker/Neural-Collaborative-Filtering-On-SageMaker/3_MLOps/5_sm-serving-codepipeline/codecommit/pipelines/ncf/iam_change_model_approval.py\n",
      "model_name: \n",
      " ncf-codepipeline-endpoint-11-20-10-45-46\n",
      "endpoint_config_name: \n",
      " ncf-codepipeline-endpoint-11-20-10-45-46\n",
      "endpoint_name: \n",
      " ncf-codepipeline-endpoint\n",
      "function_name: \n",
      " sagemaker-lambda-step-endpoint-deployment\n",
      "create_endpoint_lambda_script_path: \n",
      " /home/ec2-user/SageMaker/Neural-Collaborative-Filtering-On-SageMaker/3_MLOps/5_sm-serving-codepipeline/codecommit/pipelines/ncf/iam_create_endpoint.py\n"
     ]
    }
   ],
   "source": [
    "from pipelines.ncf.pipeline import get_pipeline\n",
    "\n",
    "\n",
    "pipeline = get_pipeline(\n",
    "    project_prefix = project_prefix,\n",
    "    region = region,\n",
    "    endpoint_name = endpoint_name, # Sagemaker Endpoint Name\n",
    "    role= role, # SAGEMAKER_PIPELINE_ROLE_ARN 이 넘어옴.\n",
    "    default_bucket=bucket,\n",
    "    model_package_group_name= model_package_group_name,\n",
    "    pipeline_name= pipeline_name\n",
    ")"
   ]
  },
  {
   "cell_type": "code",
   "execution_count": 26,
   "metadata": {},
   "outputs": [],
   "source": [
    "definition = json.loads(pipeline.definition())\n",
    "# definition"
   ]
  },
  {
   "cell_type": "code",
   "execution_count": 27,
   "metadata": {},
   "outputs": [],
   "source": [
    "pipeline.upsert(role_arn=role)\n",
    "#execution = pipeline.start()\n",
    "execution = pipeline.start(\n",
    "    parameters=dict(\n",
    "        ModelApprovalStatus = ModelApprovalStatus,                                \n",
    "        endpoint_instance_type = endpoint_instance_type\n",
    "    )\n",
    ")"
   ]
  },
  {
   "cell_type": "code",
   "execution_count": 28,
   "metadata": {},
   "outputs": [
    {
     "data": {
      "text/plain": [
       "{'PipelineArn': 'arn:aws:sagemaker:us-east-1:057716757052:pipeline/sm-serving-pipeline',\n",
       " 'PipelineExecutionArn': 'arn:aws:sagemaker:us-east-1:057716757052:pipeline/sm-serving-pipeline/execution/kwug226kcb9d',\n",
       " 'PipelineExecutionDisplayName': 'execution-1668941150872',\n",
       " 'PipelineExecutionStatus': 'Succeeded',\n",
       " 'PipelineExperimentConfig': {'ExperimentName': 'sm-serving-pipeline',\n",
       "  'TrialName': 'kwug226kcb9d'},\n",
       " 'CreationTime': datetime.datetime(2022, 11, 20, 10, 45, 50, 771000, tzinfo=tzlocal()),\n",
       " 'LastModifiedTime': datetime.datetime(2022, 11, 20, 10, 50, 42, 769000, tzinfo=tzlocal()),\n",
       " 'CreatedBy': {},\n",
       " 'LastModifiedBy': {},\n",
       " 'ResponseMetadata': {'RequestId': '07abca57-121e-41a7-b45f-6165b4c80b14',\n",
       "  'HTTPStatusCode': 200,\n",
       "  'HTTPHeaders': {'x-amzn-requestid': '07abca57-121e-41a7-b45f-6165b4c80b14',\n",
       "   'content-type': 'application/x-amz-json-1.1',\n",
       "   'content-length': '498',\n",
       "   'date': 'Sun, 20 Nov 2022 10:50:52 GMT'},\n",
       "  'RetryAttempts': 0}}"
      ]
     },
     "execution_count": 28,
     "metadata": {},
     "output_type": "execute_result"
    }
   ],
   "source": [
    "execution.wait()\n",
    "execution.describe()"
   ]
  },
  {
   "cell_type": "code",
   "execution_count": 29,
   "metadata": {},
   "outputs": [
    {
     "data": {
      "text/plain": [
       "[{'StepName': 'LambdaDeployStep',\n",
       "  'StartTime': datetime.datetime(2022, 11, 20, 10, 45, 57, 222000, tzinfo=tzlocal()),\n",
       "  'EndTime': datetime.datetime(2022, 11, 20, 10, 50, 42, 311000, tzinfo=tzlocal()),\n",
       "  'StepStatus': 'Succeeded',\n",
       "  'AttemptCount': 0,\n",
       "  'Metadata': {'Lambda': {'Arn': 'arn:aws:lambda:us-east-1:057716757052:function:sagemaker-lambda-step-endpoint-deployment',\n",
       "    'OutputParameters': [{'Name': 'other_key',\n",
       "      'Value': 'ncf-codepipeline-endpoint'},\n",
       "     {'Name': 'body', 'Value': '\"Created Endpoint!\"'},\n",
       "     {'Name': 'statusCode', 'Value': '200.0'}]}}},\n",
       " {'StepName': 'MyModelCreationStep-CreateModel',\n",
       "  'StartTime': datetime.datetime(2022, 11, 20, 10, 45, 55, 583000, tzinfo=tzlocal()),\n",
       "  'EndTime': datetime.datetime(2022, 11, 20, 10, 45, 56, 668000, tzinfo=tzlocal()),\n",
       "  'StepStatus': 'Succeeded',\n",
       "  'AttemptCount': 0,\n",
       "  'Metadata': {'Model': {'Arn': 'arn:aws:sagemaker:us-east-1:057716757052:model/pipelines-kwug226kcb9d-mymodelcreationstep--sdl9ozafsr'}}},\n",
       " {'StepName': 'LambdaApproveModelStep',\n",
       "  'StartTime': datetime.datetime(2022, 11, 20, 10, 45, 51, 877000, tzinfo=tzlocal()),\n",
       "  'EndTime': datetime.datetime(2022, 11, 20, 10, 45, 54, 720000, tzinfo=tzlocal()),\n",
       "  'StepStatus': 'Succeeded',\n",
       "  'AttemptCount': 0,\n",
       "  'Metadata': {'Lambda': {'Arn': 'arn:aws:lambda:us-east-1:057716757052:function:sagemaker-lambda-step-approve-model-deployment',\n",
       "    'OutputParameters': [{'Name': 'image_uri_approved',\n",
       "      'Value': '763104351884.dkr.ecr.us-east-1.amazonaws.com/pytorch-inference:1.8.1-gpu-py3'},\n",
       "     {'Name': 'body', 'Value': '\"Success\"'},\n",
       "     {'Name': 'ModelDataUrl_approved',\n",
       "      'Value': 's3://sagemaker-us-east-1-057716757052/CodePipeline-Train-NCF/2022-11-20-08-07-38/model.tar.gz'},\n",
       "     {'Name': 'statusCode', 'Value': '200.0'}]}}}]"
      ]
     },
     "execution_count": 29,
     "metadata": {},
     "output_type": "execute_result"
    }
   ],
   "source": [
    "execution.list_steps()"
   ]
  },
  {
   "cell_type": "code",
   "execution_count": null,
   "metadata": {},
   "outputs": [],
   "source": []
  }
 ],
 "metadata": {
  "instance_type": "ml.t3.medium",
  "kernelspec": {
   "display_name": "conda_python3",
   "language": "python",
   "name": "conda_python3"
  },
  "language_info": {
   "codemirror_mode": {
    "name": "ipython",
    "version": 3
   },
   "file_extension": ".py",
   "mimetype": "text/x-python",
   "name": "python",
   "nbconvert_exporter": "python",
   "pygments_lexer": "ipython3",
   "version": "3.8.12"
  }
 },
 "nbformat": 4,
 "nbformat_minor": 4
}
