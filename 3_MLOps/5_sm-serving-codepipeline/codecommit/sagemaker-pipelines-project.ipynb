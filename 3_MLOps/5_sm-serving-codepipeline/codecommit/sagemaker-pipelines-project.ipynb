{
 "cells": [
  {
   "cell_type": "markdown",
   "metadata": {},
   "source": [
    "# SageMaker Pipeline (pipeline.py) 로컬에서 Test 하기\n",
    "\n"
   ]
  },
  {
   "cell_type": "markdown",
   "metadata": {},
   "source": [
    "# 1. 환경 설정 및 컨피그 파일 로딩"
   ]
  },
  {
   "cell_type": "code",
   "execution_count": null,
   "metadata": {},
   "outputs": [],
   "source": [
    "%load_ext autoreload\n",
    "%autoreload 2"
   ]
  },
  {
   "cell_type": "code",
   "execution_count": null,
   "metadata": {},
   "outputs": [],
   "source": [
    "code_pipeline_serving_config_json_path = 'pipelines/ncf/src/code_pipeline_serving_config.json'\n",
    "sm_pipeline_serving_config_json_path = 'pipelines/ncf/src/sm_pipeline_serving_config.json'"
   ]
  },
  {
   "cell_type": "code",
   "execution_count": null,
   "metadata": {},
   "outputs": [],
   "source": [
    "from pipelines.ncf.src.common_utils import load_json\n",
    "\n",
    "code_pipeline_serving_dict = load_json(code_pipeline_serving_config_json_path)\n",
    "sm_pipeline_serving_dict = load_json(sm_pipeline_serving_config_json_path)\n",
    "\n",
    "import json\n",
    "print(\"Code Pipeline Series Params: \")\n",
    "print (json.dumps(code_pipeline_serving_dict, indent=2))\n",
    "print(\"SageMaker Pipeline Series Params: \")\n",
    "print (json.dumps(sm_pipeline_serving_dict, indent=2))\n"
   ]
  },
  {
   "cell_type": "markdown",
   "metadata": {},
   "source": [
    "### 필요한 설정 값 로딩"
   ]
  },
  {
   "cell_type": "code",
   "execution_count": null,
   "metadata": {},
   "outputs": [],
   "source": [
    "import boto3\n",
    "import sagemaker\n",
    "import os\n",
    "\n",
    "region = code_pipeline_serving_dict[\"region\"]\n",
    "bucket = code_pipeline_serving_dict[\"bucket\"]\n",
    "role = code_pipeline_serving_dict[\"code_build_service_arn\"]\n",
    "model_package_group_name = code_pipeline_serving_dict[\"model_package_group_name\"]\n",
    "project_prefix = code_pipeline_serving_dict[\"project_prefix\"]\n",
    "endpoint_name = code_pipeline_serving_dict[\"endpoint_name\"]\n",
    "\n",
    "pipeline_name = sm_pipeline_serving_dict[\"sm_pipeline_name\"]\n",
    "endpoint_instance_type = sm_pipeline_serving_dict[\"endpoint_instance_type\"]\n",
    "ModelApprovalStatus = sm_pipeline_serving_dict[\"ModelApprovalStatus\"]\n"
   ]
  },
  {
   "cell_type": "code",
   "execution_count": null,
   "metadata": {},
   "outputs": [],
   "source": [
    "print(\"project_prefix: \\n\", project_prefix)\n",
    "print(\"region: \\n\", region)\n",
    "print(\"role: \\n\", role)\n",
    "print(\"bucket: \\n\", bucket)\n",
    "print(\"model_package_group_name: \\n\", model_package_group_name)\n",
    "print(\"endpoint_name: \\n\", endpoint_name)\n",
    "\n",
    "print(\"ModelApprovalStatus: \\n\", ModelApprovalStatus)\n",
    "print(\"pipeline_name: \\n\", pipeline_name)\n",
    "print(\"endpoint_instance_type: \\n\", endpoint_instance_type)"
   ]
  },
  {
   "cell_type": "markdown",
   "metadata": {
    "tags": []
   },
   "source": [
    "# 3. Pipeline 테스트"
   ]
  },
  {
   "cell_type": "code",
   "execution_count": null,
   "metadata": {},
   "outputs": [],
   "source": [
    "from pipelines.ncf.pipeline import get_pipeline\n",
    "\n",
    "\n",
    "pipeline = get_pipeline(\n",
    "    project_prefix = project_prefix,\n",
    "    region = region,\n",
    "    endpoint_name = endpoint_name, # Sagemaker Endpoint Name\n",
    "    role= role, # SAGEMAKER_PIPELINE_ROLE_ARN 이 넘어옴.\n",
    "    default_bucket=bucket,\n",
    "    model_package_group_name= model_package_group_name,\n",
    "    pipeline_name= pipeline_name\n",
    ")"
   ]
  },
  {
   "cell_type": "code",
   "execution_count": null,
   "metadata": {},
   "outputs": [],
   "source": [
    "definition = json.loads(pipeline.definition())\n",
    "# definition"
   ]
  },
  {
   "cell_type": "code",
   "execution_count": null,
   "metadata": {},
   "outputs": [],
   "source": [
    "pipeline.upsert(role_arn=role)\n",
    "#execution = pipeline.start()\n",
    "execution = pipeline.start(\n",
    "    parameters=dict(\n",
    "        ModelApprovalStatus = ModelApprovalStatus,                                \n",
    "        endpoint_instance_type = endpoint_instance_type\n",
    "    )\n",
    ")"
   ]
  },
  {
   "cell_type": "code",
   "execution_count": null,
   "metadata": {},
   "outputs": [],
   "source": [
    "execution.wait()\n",
    "execution.describe()"
   ]
  },
  {
   "cell_type": "code",
   "execution_count": null,
   "metadata": {},
   "outputs": [],
   "source": [
    "execution.list_steps()"
   ]
  },
  {
   "cell_type": "code",
   "execution_count": null,
   "metadata": {},
   "outputs": [],
   "source": []
  }
 ],
 "metadata": {
  "instance_type": "ml.t3.medium",
  "kernelspec": {
   "display_name": "conda_python3",
   "language": "python",
   "name": "conda_python3"
  },
  "language_info": {
   "codemirror_mode": {
    "name": "ipython",
    "version": 3
   },
   "file_extension": ".py",
   "mimetype": "text/x-python",
   "name": "python",
   "nbconvert_exporter": "python",
   "pygments_lexer": "ipython3",
   "version": "3.8.12"
  }
 },
 "nbformat": 4,
 "nbformat_minor": 4
}
