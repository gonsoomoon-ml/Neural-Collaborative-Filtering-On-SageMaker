{
 "cells": [
  {
   "cell_type": "markdown",
   "metadata": {},
   "source": [
    "## 중요 가이드\n",
    "- 디렉토리 설명\n",
    "- 추가 Dependency 폴더 (예: 소스 폴더) 필요시 설정 방법\n",
    "- Test 폴더\n",
    "- get_pipeline() 를 통한 파이프라인 실행\n",
    "\n",
    "```pythona\n",
    "from pipelines.abalone.pipeline import get_pipeline\n",
    "\n",
    "pipeline = get_pipeline(\n",
    "    region=region,\n",
    "    role=role,\n",
    "    default_bucket=default_bucket,\n",
    "    model_package_group_name=model_package_group_name,\n",
    "    pipeline_name=pipeline_name,\n",
    ")\n",
    "pipeline.upsert(role_arn=role)\n",
    "execution = pipeline.start()\n",
    "```\n",
    "- 파라미터 제공 통한 실행\n",
    "\n",
    "```python\n",
    "execution = pipeline.start(\n",
    "    parameters=dict(\n",
    "        ProcessingInstanceType=\"ml.c5.xlarge\",\n",
    "        ModelApprovalStatus=\"Approved\",\n",
    "    )\n",
    ")\n",
    "```"
   ]
  },
  {
   "cell_type": "markdown",
   "metadata": {},
   "source": [
    "### A SageMaker Pipeline\n",
    "\n",
    "- TransformStep in Pipelines mishandling source_dir attribute (PyTorch/Script Mode)\n",
    "    - https://issuehint.com/issue/aws/sagemaker-python-sdk/2549\n",
    "\n",
    "\n",
    "### Getting some constants\n",
    "\n",
    "We get some constants from the local execution environment."
   ]
  },
  {
   "cell_type": "code",
   "execution_count": 2,
   "metadata": {},
   "outputs": [],
   "source": [
    "%load_ext autoreload\n",
    "%autoreload 2\n",
    "\n"
   ]
  },
  {
   "cell_type": "code",
   "execution_count": 3,
   "metadata": {},
   "outputs": [],
   "source": [
    "import boto3\n",
    "import sagemaker\n",
    "import os\n",
    "\n",
    "\n",
    "region = boto3.Session().region_name\n",
    "role = sagemaker.get_execution_role()\n",
    "default_bucket = sagemaker.session.Session().default_bucket()\n",
    "\n",
    "# Change these to reflect your project/business name or if you want to separate ModelPackageGroup/Pipeline from the rest of your team\n",
    "model_package_group_name = f\"ncf-models\"\n",
    "pipeline_name = f\"ncf-pipeline-script\""
   ]
  },
  {
   "cell_type": "code",
   "execution_count": 4,
   "metadata": {},
   "outputs": [],
   "source": [
    "%store -r s3_input_data_uri\n",
    "%store -r bucket\n",
    "%store -r project_prefix\n",
    "\n",
    "\n"
   ]
  },
  {
   "cell_type": "code",
   "execution_count": null,
   "metadata": {},
   "outputs": [],
   "source": [
    "\n",
    "\n"
   ]
  },
  {
   "cell_type": "code",
   "execution_count": 3,
   "metadata": {},
   "outputs": [],
   "source": [
    "from pipelines.ncf.pipeline import get_pipeline\n",
    "\n",
    "s3_input_data_uri = 's3://sagemaker-us-east-1-057716757052/NCFModel/data'\n",
    "region = 'us-east-1'\n",
    "project_prefix = \"Serving-NCF\"\n",
    "endpoint_name = \"ncf-codepipeline-endpoint\"\n",
    "code_build_project_name = \"ncf-serving-sm-pipeline\"\n",
    "pipeline_name = \"ncf-sm-serving-pipeline\"\n",
    "model_package_group_name = \"NCF-Model-CodePipeline\"\n",
    "inference_image_uri = \"763104351884.dkr.ecr.us-east-1.amazonaws.com/pytorch-inference:1.8.1-gpu-py3\"\n",
    "role = \"arn:aws:iam::057716757052:role/codebuild-gsmoon\"\n",
    "default_bucket = ' sagemaker-us-east-1-057716757052'\n",
    "base_job_prefix = pipeline_name\n",
    "training_instance_type=\"ml.p3.2xlarge\"    "
   ]
  },
  {
   "cell_type": "code",
   "execution_count": 13,
   "metadata": {},
   "outputs": [
    {
     "name": "stdout",
     "output_type": "stream",
     "text": [
      "######### get_pipeline() input parameter ###############\n",
      "### BASE_DIR: /home/ec2-user/SageMaker/Neural-Collaborative-Filtering-On-SageMaker/3_MLOps/5_sm-serving-codepipeline/codecommit/pipelines/ncf\n",
      "s3_input_data_uri: s3://sagemaker-us-east-1-057716757052/NCFModel/data\n",
      "project_prefix: Serving-NCF\n",
      "role: arn:aws:iam::057716757052:role/codebuild-gsmoon\n",
      "default_bucket:  sagemaker-us-east-1-057716757052\n",
      "model_package_group_name: NCF-Model-CodePipeline\n",
      "endpoint_name: ncf-codepipeline-endpoint\n",
      "pipeline_name: ncf-sm-serving-pipeline\n",
      "base_job_prefix: ncf-sm-serving-pipeline\n",
      "training_instance_type: ml.p3.2xlarge\n",
      "######### Look at subfolder and files #########\n",
      "./img\n",
      "    ./img/pipeline-full.png\n",
      "./origin-sagemaker-pipelines-project.ipynb\n",
      "./tox.ini\n",
      "./codebuild-buildspec.yml\n",
      "./tests\n",
      "    ./tests/test_pipelines.py\n",
      "    ./tests/.ipynb_checkpoints\n",
      "        ./tests/.ipynb_checkpoints/test_pipelines-checkpoint.py\n",
      "./LICENSE\n",
      "./pipelines\n",
      "    ./pipelines/_utils.py\n",
      "    ./pipelines/.ipynb_checkpoints\n",
      "        ./pipelines/.ipynb_checkpoints/run_pipeline-checkpoint.py\n",
      "    ./pipelines/__version__.py\n",
      "    ./pipelines/run_pipeline.py\n",
      "    ./pipelines/__pycache__\n",
      "        ./pipelines/__pycache__/__init__.cpython-38.pyc\n",
      "    ./pipelines/get_pipeline_definition.py\n",
      "    ./pipelines/__init__.py\n",
      "    ./pipelines/ncf\n",
      "        ./pipelines/ncf/pipeline.py\n",
      "        ./pipelines/ncf/iam_change_model_approval.py\n",
      "        ./pipelines/ncf/.ipynb_checkpoints\n",
      "            ./pipelines/ncf/.ipynb_checkpoints/pipeline-checkpoint.py\n",
      "        ./pipelines/ncf/iam_create_endpoint.py\n",
      "        ./pipelines/ncf/__pycache__\n",
      "            ./pipelines/ncf/__pycache__/__init__.cpython-38.pyc\n",
      "            ./pipelines/ncf/__pycache__/pipeline.cpython-38.pyc\n",
      "        ./pipelines/ncf/__init__.py\n",
      "./CONTRIBUTING.md\n",
      "./.ipynb_checkpoints\n",
      "    ./.ipynb_checkpoints/origin-sagemaker-pipelines-project-checkpoint.ipynb\n",
      "    ./.ipynb_checkpoints/sagemaker-pipelines-project-checkpoint.ipynb\n",
      "    ./.ipynb_checkpoints/codebuild-buildspec-checkpoint.yml\n",
      "./sagemaker-pipelines-project.ipynb\n",
      "./README.md\n",
      "./setup.py\n",
      "./setup.cfg\n",
      "role:  arn:aws:iam::057716757052:role/codebuild-gsmoon\n",
      "function_name: \n",
      " sagemaker-lambda-step-approve-model-deployment\n",
      "approval_lambda_script_path: \n",
      " /home/ec2-user/SageMaker/Neural-Collaborative-Filtering-On-SageMaker/3_MLOps/5_sm-serving-codepipeline/codecommit/pipelines/ncf/iam_change_model_approval.py\n",
      "model_name: \n",
      " ncf-codepipeline-endpoint-11-19-06-28-33\n",
      "endpoint_config_name: \n",
      " ncf-codepipeline-endpoint-11-19-06-28-33\n",
      "endpoint_name: \n",
      " ncf-codepipeline-endpoint\n",
      "function_name: \n",
      " sagemaker-lambda-step-endpoint-deployment\n",
      "create_endpoint_lambda_script_path: \n",
      " /home/ec2-user/SageMaker/Neural-Collaborative-Filtering-On-SageMaker/3_MLOps/5_sm-serving-codepipeline/codecommit/pipelines/ncf/iam_create_endpoint.py\n"
     ]
    }
   ],
   "source": [
    "from pipelines.ncf.pipeline import get_pipeline\n",
    "\n",
    "\n",
    "pipeline = get_pipeline(\n",
    "    s3_input_data_uri = s3_input_data_uri,    \n",
    "    project_prefix = project_prefix,\n",
    "    region = region,\n",
    "    endpoint_name = endpoint_name, # Sagemaker Endpoint Name\n",
    "    role= role, # SAGEMAKER_PIPELINE_ROLE_ARN 이 넘어옴.\n",
    "    default_bucket=default_bucket,\n",
    "    model_package_group_name= model_package_group_name,\n",
    "    pipeline_name= pipeline_name,\n",
    "    base_job_prefix= pipeline_name,\n",
    "    # processing_instance_type= None,\n",
    "    training_instance_type=\"ml.p3.2xlarge\",    \n",
    ")"
   ]
  },
  {
   "cell_type": "markdown",
   "metadata": {},
   "source": [
    "### Submit the pipeline to SageMaker and start execution\n",
    "\n",
    "Let's submit our pipeline definition to the workflow service. The role passed in will be used by the workflow service to create all the jobs defined in the steps."
   ]
  },
  {
   "cell_type": "code",
   "execution_count": 14,
   "metadata": {},
   "outputs": [
    {
     "data": {
      "text/plain": [
       "{'PipelineArn': 'arn:aws:sagemaker:us-east-1:057716757052:pipeline/ncf-sm-serving-pipeline',\n",
       " 'ResponseMetadata': {'RequestId': '3f20208a-e9a7-4abb-bd11-c2ea316308ac',\n",
       "  'HTTPStatusCode': 200,\n",
       "  'HTTPHeaders': {'x-amzn-requestid': '3f20208a-e9a7-4abb-bd11-c2ea316308ac',\n",
       "   'content-type': 'application/x-amz-json-1.1',\n",
       "   'content-length': '91',\n",
       "   'date': 'Sat, 19 Nov 2022 06:28:35 GMT'},\n",
       "  'RetryAttempts': 0}}"
      ]
     },
     "execution_count": 14,
     "metadata": {},
     "output_type": "execute_result"
    }
   ],
   "source": [
    "pipeline.upsert(role_arn=role)"
   ]
  },
  {
   "cell_type": "markdown",
   "metadata": {},
   "source": [
    "We'll start the pipeline, accepting all the default parameters.\n",
    "\n",
    "Values can also be passed into these pipeline parameters on starting of the pipeline, and will be covered later. "
   ]
  },
  {
   "cell_type": "code",
   "execution_count": 15,
   "metadata": {},
   "outputs": [],
   "source": [
    "execution = pipeline.start()"
   ]
  },
  {
   "cell_type": "markdown",
   "metadata": {},
   "source": [
    "### Pipeline Operations: examining and waiting for pipeline execution\n",
    "\n",
    "Now we describe execution instance and list the steps in the execution to find out more about the execution."
   ]
  },
  {
   "cell_type": "code",
   "execution_count": 16,
   "metadata": {},
   "outputs": [
    {
     "data": {
      "text/plain": [
       "{'PipelineArn': 'arn:aws:sagemaker:us-east-1:057716757052:pipeline/ncf-sm-serving-pipeline',\n",
       " 'PipelineExecutionArn': 'arn:aws:sagemaker:us-east-1:057716757052:pipeline/ncf-sm-serving-pipeline/execution/bhc0xxagmq7s',\n",
       " 'PipelineExecutionDisplayName': 'execution-1668839317155',\n",
       " 'PipelineExecutionStatus': 'Executing',\n",
       " 'PipelineExperimentConfig': {'ExperimentName': 'ncf-sm-serving-pipeline',\n",
       "  'TrialName': 'bhc0xxagmq7s'},\n",
       " 'CreationTime': datetime.datetime(2022, 11, 19, 6, 28, 37, 91000, tzinfo=tzlocal()),\n",
       " 'LastModifiedTime': datetime.datetime(2022, 11, 19, 6, 28, 37, 91000, tzinfo=tzlocal()),\n",
       " 'CreatedBy': {},\n",
       " 'LastModifiedBy': {},\n",
       " 'ResponseMetadata': {'RequestId': '200544e0-d630-411b-845f-2171d178657d',\n",
       "  'HTTPStatusCode': 200,\n",
       "  'HTTPHeaders': {'x-amzn-requestid': '200544e0-d630-411b-845f-2171d178657d',\n",
       "   'content-type': 'application/x-amz-json-1.1',\n",
       "   'content-length': '510',\n",
       "   'date': 'Sat, 19 Nov 2022 06:28:38 GMT'},\n",
       "  'RetryAttempts': 0}}"
      ]
     },
     "execution_count": 16,
     "metadata": {},
     "output_type": "execute_result"
    }
   ],
   "source": [
    "execution.describe()"
   ]
  },
  {
   "cell_type": "markdown",
   "metadata": {},
   "source": [
    "We can wait for the execution by invoking `wait()` on the execution:"
   ]
  },
  {
   "cell_type": "code",
   "execution_count": 17,
   "metadata": {},
   "outputs": [],
   "source": [
    "execution.wait()"
   ]
  },
  {
   "cell_type": "markdown",
   "metadata": {},
   "source": [
    "We can list the execution steps to check out the status and artifacts:"
   ]
  },
  {
   "cell_type": "code",
   "execution_count": 12,
   "metadata": {},
   "outputs": [
    {
     "data": {
      "text/plain": [
       "[{'StepName': 'LambdaDeployStep',\n",
       "  'StartTime': datetime.datetime(2022, 11, 19, 6, 25, 6, 435000, tzinfo=tzlocal()),\n",
       "  'EndTime': datetime.datetime(2022, 11, 19, 6, 25, 8, 989000, tzinfo=tzlocal()),\n",
       "  'StepStatus': 'Succeeded',\n",
       "  'AttemptCount': 0,\n",
       "  'Metadata': {'Lambda': {'Arn': 'arn:aws:lambda:us-east-1:057716757052:function:sagemaker-lambda-step-endpoint-deployment',\n",
       "    'OutputParameters': [{'Name': 'other_key',\n",
       "      'Value': 'ncf-codepipeline-endpoint'},\n",
       "     {'Name': 'body', 'Value': '\"Created Endpoint!\"'},\n",
       "     {'Name': 'statusCode', 'Value': '200.0'}]}}},\n",
       " {'StepName': 'MyModelCreationStep-CreateModel',\n",
       "  'StartTime': datetime.datetime(2022, 11, 19, 6, 25, 4, 587000, tzinfo=tzlocal()),\n",
       "  'EndTime': datetime.datetime(2022, 11, 19, 6, 25, 5, 687000, tzinfo=tzlocal()),\n",
       "  'StepStatus': 'Succeeded',\n",
       "  'AttemptCount': 0,\n",
       "  'Metadata': {'Model': {'Arn': 'arn:aws:sagemaker:us-east-1:057716757052:model/pipelines-j72eqbj2kk3m-mymodelcreationstep--wzs3s0cpbg'}}},\n",
       " {'StepName': 'LambdaApproveModelStep',\n",
       "  'StartTime': datetime.datetime(2022, 11, 19, 6, 25, 1, 306000, tzinfo=tzlocal()),\n",
       "  'EndTime': datetime.datetime(2022, 11, 19, 6, 25, 4, 9000, tzinfo=tzlocal()),\n",
       "  'StepStatus': 'Succeeded',\n",
       "  'AttemptCount': 0,\n",
       "  'Metadata': {'Lambda': {'Arn': 'arn:aws:lambda:us-east-1:057716757052:function:sagemaker-lambda-step-approve-model-deployment',\n",
       "    'OutputParameters': [{'Name': 'image_uri_approved',\n",
       "      'Value': '763104351884.dkr.ecr.us-east-1.amazonaws.com/pytorch-inference:1.8.1-gpu-py3'},\n",
       "     {'Name': 'body', 'Value': '\"Success\"'},\n",
       "     {'Name': 'ModelDataUrl_approved',\n",
       "      'Value': 's3://sagemaker-us-east-1-057716757052/Train-NCF/2022-11-16-13-26-59/model.tar.gz'},\n",
       "     {'Name': 'statusCode', 'Value': '200.0'}]}}}]"
      ]
     },
     "execution_count": 12,
     "metadata": {},
     "output_type": "execute_result"
    }
   ],
   "source": [
    "execution.list_steps()"
   ]
  },
  {
   "cell_type": "markdown",
   "metadata": {},
   "source": [
    "### Parameterized Executions\n",
    "\n",
    "We can run additional executions of the pipeline specifying different pipeline parameters. The parameters argument is a dictionary whose names are the parameter names, and whose values are the primitive values to use as overrides of the defaults.\n",
    "\n",
    "Of particular note, based on the performance of the model, we may want to kick off another pipeline execution, but this time on a compute-optimized instance type and set the model approval status automatically be \"Approved\". This means that the model package version generated by the `RegisterModel` step will automatically be ready for deployment through CI/CD pipelines, such as with SageMaker Projects."
   ]
  },
  {
   "cell_type": "code",
   "execution_count": null,
   "metadata": {},
   "outputs": [],
   "source": [
    "execution = pipeline.start(\n",
    "    parameters=dict(\n",
    "        InputData= s3_input_data_uri,\n",
    "        ModelApprovalStatus=\"Approved\",\n",
    "    )\n",
    ")"
   ]
  },
  {
   "cell_type": "code",
   "execution_count": null,
   "metadata": {},
   "outputs": [],
   "source": [
    "execution.wait()"
   ]
  },
  {
   "cell_type": "code",
   "execution_count": 22,
   "metadata": {},
   "outputs": [
    {
     "data": {
      "text/plain": [
       "[{'StepName': 'NCF-Model-Registry',\n",
       "  'StartTime': datetime.datetime(2022, 7, 4, 14, 18, 35, 201000, tzinfo=tzlocal()),\n",
       "  'EndTime': datetime.datetime(2022, 7, 4, 14, 18, 36, 109000, tzinfo=tzlocal()),\n",
       "  'StepStatus': 'Succeeded',\n",
       "  'AttemptCount': 0,\n",
       "  'Metadata': {'RegisterModel': {'Arn': 'arn:aws:sagemaker:us-east-1:057716757052:model-package/ncfmodel/6'}}},\n",
       " {'StepName': 'NCF-Training',\n",
       "  'StartTime': datetime.datetime(2022, 7, 4, 14, 7, 43, 83000, tzinfo=tzlocal()),\n",
       "  'EndTime': datetime.datetime(2022, 7, 4, 14, 18, 34, 771000, tzinfo=tzlocal()),\n",
       "  'StepStatus': 'Succeeded',\n",
       "  'AttemptCount': 0,\n",
       "  'Metadata': {'TrainingJob': {'Arn': 'arn:aws:sagemaker:us-east-1:057716757052:training-job/pipelines-jkld52r1x1s5-ncf-training-zazzcf3wu5'}}}]"
      ]
     },
     "execution_count": 22,
     "metadata": {},
     "output_type": "execute_result"
    }
   ],
   "source": [
    "execution.list_steps()"
   ]
  },
  {
   "cell_type": "code",
   "execution_count": null,
   "metadata": {},
   "outputs": [],
   "source": []
  }
 ],
 "metadata": {
  "instance_type": "ml.t3.medium",
  "kernelspec": {
   "display_name": "conda_python3",
   "language": "python",
   "name": "conda_python3"
  },
  "language_info": {
   "codemirror_mode": {
    "name": "ipython",
    "version": 3
   },
   "file_extension": ".py",
   "mimetype": "text/x-python",
   "name": "python",
   "nbconvert_exporter": "python",
   "pygments_lexer": "ipython3",
   "version": "3.8.12"
  }
 },
 "nbformat": 4,
 "nbformat_minor": 4
}
