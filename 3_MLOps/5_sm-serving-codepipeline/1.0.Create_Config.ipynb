{
 "cells": [
  {
   "cell_type": "markdown",
   "id": "760b72d1",
   "metadata": {},
   "source": [
    "# [모듈 1.0] 컨피그 파일 생성"
   ]
  },
  {
   "cell_type": "markdown",
   "id": "ffd73daa",
   "metadata": {},
   "source": [
    "이 노트북은 아래와 같은 설정 파일을 생성 합니다. 이후 노트북에서 설정 파일을 로딩해서 사용 합니다.\n",
    "- Code Pipeline Series (CodeCommit, CodeBuild, CodePipeline)\n",
    "- SageMaker Pipeline \n",
    "\n"
   ]
  },
  {
   "cell_type": "markdown",
   "id": "316af42a",
   "metadata": {},
   "source": [
    "# 1. 환경 확인"
   ]
  },
  {
   "cell_type": "code",
   "execution_count": null,
   "id": "bb449777-aead-4bf8-9590-7617e29781df",
   "metadata": {},
   "outputs": [],
   "source": [
    "%load_ext autoreload\n",
    "%autoreload 2\n",
    "\n",
    "import sys\n",
    "import sagemaker\n",
    "import boto3\n",
    "sys.path.append('./src')\n",
    "\n"
   ]
  },
  {
   "cell_type": "markdown",
   "id": "cd2fb603-f80b-4382-a1bd-0ba3708e282e",
   "metadata": {},
   "source": [
    "### 입력 파일을 위한 변수는 기존에 처리가 되어야 합니다."
   ]
  },
  {
   "cell_type": "markdown",
   "id": "62930626-0c31-4fa6-a1ce-b56570dbd900",
   "metadata": {
    "tags": []
   },
   "source": [
    "# 2.역할 정의\n",
    "## 2.1. 아래 Code Build 역할 ARN 을 넣어 주세요. 아래를 지우고 넣습니다.¶\n",
    "- build_service_role: 은 아래와 미리 생성이 됨\n",
    "    -  \"arn:aws:iam::XXXXXX:role/codebuild\""
   ]
  },
  {
   "cell_type": "code",
   "execution_count": null,
   "id": "f3fe799e-1e06-4c2d-bbde-411c46d91a9b",
   "metadata": {},
   "outputs": [],
   "source": [
    "# code_build_service_arn = \"arn:aws:iam::XXXXXXXX:role/codebuild\"\n",
    "code_build_service_arn = \"arn:aws:iam::057716757052:role/codebuild-gsmoon\""
   ]
  },
  {
   "cell_type": "markdown",
   "id": "779e29a0-677e-45b5-ae98-0d676915661a",
   "metadata": {},
   "source": [
    "## 2.2. Code Pipeline Role 의 ARN 을 넣어 주세요. 아래를 지우고 넣습니다.\n",
    "##### pipeline_role_name = \"arn:aws:iam::XXXXXX:role/code-pipeline\"\n"
   ]
  },
  {
   "cell_type": "code",
   "execution_count": null,
   "id": "e4e41c27-40ea-40a7-bcce-bc2234120c6c",
   "metadata": {},
   "outputs": [],
   "source": [
    "# code_pipeline_role_arn = \"arn:aws:iam::XXXXXXXX:role/code-pipeline\"\n",
    "code_pipeline_role_arn = \"arn:aws:iam::057716757052:role/code-pipeline-gsmoon\"\n"
   ]
  },
  {
   "cell_type": "markdown",
   "id": "263897a1",
   "metadata": {
    "tags": []
   },
   "source": [
    "# 3. Code Pipeline 시리즈 파라미터 세팅"
   ]
  },
  {
   "cell_type": "markdown",
   "id": "35c7cdcc-dfa1-49c5-bc05-cc7d8336baa2",
   "metadata": {},
   "source": [
    "## 3.1. 변수 설정 및 dict 로 저장"
   ]
  },
  {
   "cell_type": "code",
   "execution_count": null,
   "id": "47068ba3",
   "metadata": {},
   "outputs": [],
   "source": [
    "# 기본 정보\n",
    "region = sagemaker.Session().boto_region_name\n",
    "account_id = boto3.client('sts').get_caller_identity().get('Account')\n",
    "project_prefix = \"CodePipeline-Serving-NCF\"\n",
    "bucket = sagemaker.Session().default_bucket()\n",
    "\n",
    "# Codecommit Repo Name\n",
    "serving_code_repo_name = \"ncf-serving-repo\"\n",
    "\n",
    "# Code Build Project 이름\n",
    "code_build_project_name = \"ncf-serving-sm-pipeline\"\n",
    "\n",
    "# code pipeline project 변수\n",
    "code_pipeline_name = \"ncf-serving-code-pipeline\"\n",
    "branch_name = 'master'\n",
    "model_package_group_name = \"NCF-Model-CodePipeline\"\n",
    "endpoint_name = \"ncf-codepipeline-endpoint\"\n",
    "\n",
    "# 최종 json 파일 경로\n",
    "code_pipeline_serving_config_json_path = f'src/code_pipeline_serving_config.json'\n"
   ]
  },
  {
   "cell_type": "code",
   "execution_count": null,
   "id": "11b19c59-d15a-4563-a292-bdb5edced22e",
   "metadata": {},
   "outputs": [],
   "source": [
    "code_pipeline_dict = {\n",
    "    \"code_pipeline_role_arn\" : code_pipeline_role_arn,\n",
    "    \"code_build_service_arn\" : code_build_service_arn,    \n",
    "    \"project_prefix\" : project_prefix,\n",
    "    \"region\" : region,        \n",
    "    \"account_id\" : account_id,\n",
    "    \"serving_code_repo_name\": serving_code_repo_name,    \n",
    "    \"code_build_project_name\" : code_build_project_name,\n",
    "    \"bucket\" : bucket,  \n",
    "    \"code_pipeline_name\" : code_pipeline_name,  \n",
    "    \"model_package_group_name\" :  model_package_group_name,        \n",
    "    \"endpoint_name\" :  endpoint_name,    \n",
    "    \"branch_name\" :  branch_name\n",
    "}"
   ]
  },
  {
   "cell_type": "markdown",
   "id": "74cc77eb-e878-46bb-8340-5d9ad594d859",
   "metadata": {},
   "source": [
    "## 3.2. 설정 딕션너리 Json 파일로 저장 후 테스트를 위해 로딩"
   ]
  },
  {
   "cell_type": "code",
   "execution_count": null,
   "id": "921b5b2f-b892-4352-a7ef-5b23771cfae3",
   "metadata": {},
   "outputs": [],
   "source": [
    "from common_utils import save_json, load_json\n",
    "\n",
    "save_json(code_pipeline_serving_config_json_path, code_pipeline_dict)\n",
    "code_pipeline_train_dict = load_json(code_pipeline_serving_config_json_path)\n"
   ]
  },
  {
   "cell_type": "code",
   "execution_count": null,
   "id": "72d21e3d-7414-4d18-b790-8175ed1b34fb",
   "metadata": {},
   "outputs": [],
   "source": [
    "import json\n",
    "print (json.dumps(code_pipeline_train_dict, indent=2))"
   ]
  },
  {
   "cell_type": "markdown",
   "id": "2e92ced3-7dd7-4622-bf79-1b9d6863933b",
   "metadata": {
    "tags": []
   },
   "source": [
    "# 4. SageMaker Pipeline 파라미터 세팅"
   ]
  },
  {
   "cell_type": "markdown",
   "id": "6d6a4d32-ca34-4eea-a10e-427840fce55b",
   "metadata": {},
   "source": [
    "## 4.1. 변수 설정 및 dict 로 저장"
   ]
  },
  {
   "cell_type": "code",
   "execution_count": null,
   "id": "1b9050c1-c031-43b7-8812-4cbb5e1243d8",
   "metadata": {},
   "outputs": [],
   "source": [
    "\n",
    "endpoint_instance_type = 'ml.g4dn.xlarge'\n",
    "sm_pipeline_name = \"ncf-serving-code-pipeline-sm-pipeline\"\n",
    "bucket = sagemaker.Session().default_bucket()\n",
    "ModelApprovalStatus=\"Approved\"\n",
    "sm_pipeline_serving_config_json_path = f'src/sm_pipeline_serving_config.json'\n"
   ]
  },
  {
   "cell_type": "code",
   "execution_count": null,
   "id": "8098ed9b-9624-44bc-af07-21811d2f98ff",
   "metadata": {},
   "outputs": [],
   "source": [
    "sm_train_pipeline_dict = {\n",
    "    \"sm_pipeline_name\" : sm_pipeline_name,\n",
    "    \"endpoint_instance_type\" : endpoint_instance_type,    \n",
    "    \"ModelApprovalStatus\" :  ModelApprovalStatus,    \n",
    "    \"bucket\" : bucket,            \n",
    "}"
   ]
  },
  {
   "cell_type": "markdown",
   "id": "c3f163bc-cb11-4883-850b-9a9fb28dc4db",
   "metadata": {},
   "source": [
    "## 4.2. 설정 딕션너리 Json 파일로 저장 후 테스트를 위해 로딩"
   ]
  },
  {
   "cell_type": "code",
   "execution_count": null,
   "id": "55e3e1c7-8909-4eca-827b-bb2b6bc71a31",
   "metadata": {},
   "outputs": [],
   "source": [
    "from common_utils import save_json, load_json\n",
    "\n",
    "save_json(sm_pipeline_serving_config_json_path, sm_train_pipeline_dict)\n",
    "sm_pipeline_train_dict = load_json(sm_pipeline_serving_config_json_path)\n",
    "print (json.dumps(sm_pipeline_train_dict, indent=2))"
   ]
  },
  {
   "cell_type": "markdown",
   "id": "2dd7e4e8-2d7e-49b5-9fa1-54f176d18f13",
   "metadata": {},
   "source": [
    "# 5. Config 파일 복사"
   ]
  },
  {
   "cell_type": "markdown",
   "id": "1956973b-e51f-4449-89fa-9ec644f1494b",
   "metadata": {},
   "source": [
    "## 5.1. code_pipeline_train_config_json 파일"
   ]
  },
  {
   "cell_type": "code",
   "execution_count": null,
   "id": "cfa1a38d-bf82-461b-abc7-7789bd09b5ef",
   "metadata": {},
   "outputs": [],
   "source": [
    "source_path = code_pipeline_serving_config_json_path\n",
    "target_path = 'codecommit/pipelines/ncf/src/'\n",
    "\n",
    "! cp {source_path} {target_path}"
   ]
  },
  {
   "cell_type": "markdown",
   "id": "e8e5057f-02e7-4ef9-87f3-09b2a31403b4",
   "metadata": {},
   "source": [
    "## 5.2. sm_pipeline_train_config_json 파일"
   ]
  },
  {
   "cell_type": "code",
   "execution_count": null,
   "id": "645fb987-84fb-4049-9169-dcaa24972be1",
   "metadata": {},
   "outputs": [],
   "source": [
    "source_path = sm_pipeline_serving_config_json_path\n",
    "target_path = 'codecommit/pipelines/ncf/src/'\n",
    "\n",
    "! cp {source_path} {target_path}"
   ]
  },
  {
   "cell_type": "markdown",
   "id": "774aaa0a",
   "metadata": {},
   "source": [
    "# 6. 변수 저장"
   ]
  },
  {
   "cell_type": "code",
   "execution_count": null,
   "id": "0ac72243",
   "metadata": {},
   "outputs": [],
   "source": [
    "%store code_pipeline_serving_config_json_path\n",
    "%store sm_pipeline_serving_config_json_path"
   ]
  },
  {
   "cell_type": "code",
   "execution_count": null,
   "id": "3bb6ff98",
   "metadata": {},
   "outputs": [],
   "source": []
  },
  {
   "cell_type": "code",
   "execution_count": null,
   "id": "91974793-2678-4c64-8c51-ffe022f81d8e",
   "metadata": {},
   "outputs": [],
   "source": []
  }
 ],
 "metadata": {
  "kernelspec": {
   "display_name": "conda_python3",
   "language": "python",
   "name": "conda_python3"
  },
  "language_info": {
   "codemirror_mode": {
    "name": "ipython",
    "version": 3
   },
   "file_extension": ".py",
   "mimetype": "text/x-python",
   "name": "python",
   "nbconvert_exporter": "python",
   "pygments_lexer": "ipython3",
   "version": "3.8.12"
  }
 },
 "nbformat": 4,
 "nbformat_minor": 5
}
