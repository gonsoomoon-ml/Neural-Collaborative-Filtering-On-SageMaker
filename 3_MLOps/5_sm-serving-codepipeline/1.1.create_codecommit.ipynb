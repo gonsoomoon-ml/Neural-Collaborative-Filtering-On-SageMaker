{
 "cells": [
  {
   "cell_type": "markdown",
   "id": "e2cb7ae4-6900-42c4-b05a-faca2b4e28a1",
   "metadata": {},
   "source": [
    "# [모듈 1.1] CodeCommit 리파지토리 생성"
   ]
  },
  {
   "cell_type": "markdown",
   "id": "7f1202c3-ca31-4c90-a961-09cce4610383",
   "metadata": {},
   "source": [
    "이 노트북은 CodeCommit 리파지토리를 생성하고, codecommit 폴더를 리파지토리에 Push 하는 노트북 입니다.\n",
    "\n",
    "## 참고 자료\n",
    "- [Quick guide to start using AWS CodeCommit via AWS CLI](https://dev.to/tiamatt/quick-guide-to-start-using-aws-codecommit-via-aws-cli-1jg5)\n",
    "- 개발자 가이드\n",
    "    - [Setup for HTTPS users using Git credentials](https://docs.aws.amazon.com/codecommit/latest/userguide/setting-up-gc.html)\n",
    "    - [Create an AWS CodeCommit repository](https://docs.aws.amazon.com/codecommit/latest/userguide/how-to-create-repository.html#how-to-create-repository-cli)\n",
    "    \n",
    "\n"
   ]
  },
  {
   "cell_type": "markdown",
   "id": "04041d7e",
   "metadata": {},
   "source": [
    "# 1. 환경 확인"
   ]
  },
  {
   "cell_type": "code",
   "execution_count": 28,
   "id": "45443de4",
   "metadata": {},
   "outputs": [
    {
     "name": "stdout",
     "output_type": "stream",
     "text": [
      "git version 2.32.0\n"
     ]
    }
   ],
   "source": [
    "%%sh \n",
    "git --version"
   ]
  },
  {
   "cell_type": "code",
   "execution_count": 29,
   "id": "5480dd57",
   "metadata": {},
   "outputs": [
    {
     "name": "stdout",
     "output_type": "stream",
     "text": [
      "aws-cli/1.24.10 Python/3.8.12 Linux/5.10.102-99.473.amzn2.x86_64 botocore/1.26.10\n"
     ]
    }
   ],
   "source": [
    "%%sh\n",
    "aws --version"
   ]
  },
  {
   "cell_type": "markdown",
   "id": "af90eb24",
   "metadata": {},
   "source": [
    "# 2. 파라미터 세팅"
   ]
  },
  {
   "cell_type": "code",
   "execution_count": 30,
   "id": "00b605e4",
   "metadata": {},
   "outputs": [],
   "source": [
    "repository_name = \"mlops-ncf\"\n",
    "source_code = 'codecommit'\n"
   ]
  },
  {
   "cell_type": "markdown",
   "id": "6b825e74",
   "metadata": {},
   "source": [
    "# 3.리파지토리 생성"
   ]
  },
  {
   "cell_type": "code",
   "execution_count": 31,
   "id": "87e37931",
   "metadata": {},
   "outputs": [
    {
     "name": "stdout",
     "output_type": "stream",
     "text": [
      "{\n",
      "    \"repositoryMetadata\": {\n",
      "        \"accountId\": \"057716757052\",\n",
      "        \"repositoryId\": \"d57ee2f5-c7ae-49f9-986d-f57deb0151c0\",\n",
      "        \"repositoryName\": \"mlops-ncf\",\n",
      "        \"repositoryDescription\": \"My demonstration repository\",\n",
      "        \"lastModifiedDate\": 1662042470.18,\n",
      "        \"creationDate\": 1662042470.18,\n",
      "        \"cloneUrlHttp\": \"https://git-codecommit.us-east-1.amazonaws.com/v1/repos/mlops-ncf\",\n",
      "        \"cloneUrlSsh\": \"ssh://git-codecommit.us-east-1.amazonaws.com/v1/repos/mlops-ncf\",\n",
      "        \"Arn\": \"arn:aws:codecommit:us-east-1:057716757052:mlops-ncf\"\n",
      "    }\n",
      "}\n"
     ]
    }
   ],
   "source": [
    "%%sh -s {repository_name}\n",
    "repository_name=$1\n",
    "aws codecommit create-repository --repository-name $repository_name \\\n",
    "--repository-description \"My demonstration repository\" "
   ]
  },
  {
   "cell_type": "markdown",
   "id": "d0697f7b",
   "metadata": {},
   "source": [
    "# 4. 리파지토리 로컬에 클로닝\n",
    "- You must have an AWS CodeCommit managed policy attached to your IAM user, belong to a CodeStar project team, or have the equivalent permissions."
   ]
  },
  {
   "cell_type": "code",
   "execution_count": 32,
   "id": "0c54822f",
   "metadata": {},
   "outputs": [],
   "source": [
    "clone_url =  \"https://git-codecommit.us-east-1.amazonaws.com/v1/repos/mlops-ncf\"\n",
    "# clone_url = \"<Clone URL>\""
   ]
  },
  {
   "cell_type": "code",
   "execution_count": 33,
   "id": "e12479e7",
   "metadata": {},
   "outputs": [
    {
     "name": "stderr",
     "output_type": "stream",
     "text": [
      "Cloning into 'mlops-ncf'...\n",
      "warning: You appear to have cloned an empty repository.\n"
     ]
    }
   ],
   "source": [
    "%%sh -s {clone_url} {repository_name}\n",
    "\n",
    "clone_url=$1\n",
    "repository_name=$2\n",
    "\n",
    "rm -rf $repository_name\n",
    "\n",
    "git clone $clone_url "
   ]
  },
  {
   "cell_type": "markdown",
   "id": "09f1a8b0",
   "metadata": {},
   "source": [
    "# 5. 소스 코드 복사"
   ]
  },
  {
   "cell_type": "code",
   "execution_count": 34,
   "id": "d547db29",
   "metadata": {},
   "outputs": [
    {
     "name": "stdout",
     "output_type": "stream",
     "text": [
      "codebuild-buildspec-Hello.yml\n",
      "codebuild-buildspec-origin.yml\n",
      "codebuild-buildspec.yml\n",
      "code_location.json\n",
      "CONTRIBUTING.md\n",
      "img\n",
      "LICENSE\n",
      "note.ipynb\n",
      "origin-sagemaker-pipelines-project.ipynb\n",
      "pipelines\n",
      "README.md\n",
      "sagemaker-pipelines-project.ipynb\n",
      "setup.cfg\n",
      "setup.py\n",
      "tests\n",
      "tox.ini\n"
     ]
    }
   ],
   "source": [
    "%%sh -s {repository_name} {source_code}\n",
    "repository_name=$1\n",
    "source_code=$2\n",
    "\n",
    "cp -r $source_code/* $repository_name\n",
    "ls $repository_name"
   ]
  },
  {
   "cell_type": "markdown",
   "id": "6a56bbdc",
   "metadata": {},
   "source": [
    "# 6. 코드 파일을 리파지토리에 푸시"
   ]
  },
  {
   "cell_type": "code",
   "execution_count": 35,
   "id": "283bc521",
   "metadata": {},
   "outputs": [
    {
     "name": "stdout",
     "output_type": "stream",
     "text": [
      "/home/ec2-user/SageMaker/Neural-Collaborative-Filtering-On-SageMaker/3_MLOps/3_sm-train-codepipeline/mlops-ncf\n",
      "[master (root-commit) b509cb2] Add new files\n",
      " Committer: EC2 Default User <ec2-user@ip-172-16-47-148.ec2.internal>\n",
      "Your name and email address were configured automatically based\n",
      "on your username and hostname. Please check that they are accurate.\n",
      "You can suppress this message by setting them explicitly:\n",
      "\n",
      "    git config --global user.name \"Your Name\"\n",
      "    git config --global user.email you@example.com\n",
      "\n",
      "After doing this, you may fix the identity used for this commit with:\n",
      "\n",
      "    git commit --amend --reset-author\n",
      "\n",
      " 35 files changed, 4245 insertions(+)\n",
      " create mode 100644 CONTRIBUTING.md\n",
      " create mode 100644 LICENSE\n",
      " create mode 100644 README.md\n",
      " create mode 100644 code_location.json\n",
      " create mode 100644 codebuild-buildspec-Hello.yml\n",
      " create mode 100644 codebuild-buildspec-origin.yml\n",
      " create mode 100644 codebuild-buildspec.yml\n",
      " create mode 100644 img/pipeline-full.png\n",
      " create mode 100644 note.ipynb\n",
      " create mode 100644 origin-sagemaker-pipelines-project.ipynb\n",
      " create mode 100644 pipelines/.ipynb_checkpoints/_utils-checkpoint.py\n",
      " create mode 100644 pipelines/.ipynb_checkpoints/get_pipeline_definition-checkpoint.py\n",
      " create mode 100644 pipelines/.ipynb_checkpoints/run_pipeline-checkpoint.py\n",
      " create mode 100644 pipelines/.ipynb_checkpoints/upload_code-checkpoint.py\n",
      " create mode 100644 pipelines/__init__.py\n",
      " create mode 100644 pipelines/__version__.py\n",
      " create mode 100644 pipelines/_utils.py\n",
      " create mode 100644 pipelines/get_pipeline_definition.py\n",
      " create mode 100644 pipelines/ncf/.ipynb_checkpoints/pipeline-checkpoint.py\n",
      " create mode 100644 pipelines/ncf/__init__.py\n",
      " create mode 100644 pipelines/ncf/pipeline.py\n",
      " create mode 100644 pipelines/ncf/src/config.py\n",
      " create mode 100644 pipelines/ncf/src/data_utils.py\n",
      " create mode 100644 pipelines/ncf/src/evaluate.py\n",
      " create mode 100644 pipelines/ncf/src/model.py\n",
      " create mode 100644 pipelines/ncf/src/requirements.txt\n",
      " create mode 100644 pipelines/ncf/src/train.py\n",
      " create mode 100644 pipelines/ncf/src/train_lib.py\n",
      " create mode 100644 pipelines/run_pipeline.py\n",
      " create mode 100644 pipelines/upload_code.py\n",
      " create mode 100644 sagemaker-pipelines-project.ipynb\n",
      " create mode 100644 setup.cfg\n",
      " create mode 100644 setup.py\n",
      " create mode 100644 tests/test_pipelines.py\n",
      " create mode 100644 tox.ini\n"
     ]
    },
    {
     "name": "stderr",
     "output_type": "stream",
     "text": [
      "To https://git-codecommit.us-east-1.amazonaws.com/v1/repos/mlops-ncf\n",
      " * [new branch]      master -> master\n"
     ]
    }
   ],
   "source": [
    "%%sh -s {repository_name} \n",
    "repository_name=$1\n",
    "cd $repository_name\n",
    "echo $PWD\n",
    "git add .\n",
    "git commit -m\"Add new files\"\n",
    "git push origin master\n"
   ]
  },
  {
   "cell_type": "markdown",
   "id": "71c4658d",
   "metadata": {},
   "source": [
    "# 7. 리파지토리 이름 저장"
   ]
  },
  {
   "cell_type": "code",
   "execution_count": 36,
   "id": "a9b7e8c5",
   "metadata": {},
   "outputs": [
    {
     "name": "stdout",
     "output_type": "stream",
     "text": [
      "Stored 'repository_name' (str)\n"
     ]
    }
   ],
   "source": [
    "%store repository_name"
   ]
  },
  {
   "cell_type": "code",
   "execution_count": null,
   "id": "61e5998a",
   "metadata": {},
   "outputs": [],
   "source": []
  }
 ],
 "metadata": {
  "kernelspec": {
   "display_name": "conda_python3",
   "language": "python",
   "name": "conda_python3"
  },
  "language_info": {
   "codemirror_mode": {
    "name": "ipython",
    "version": 3
   },
   "file_extension": ".py",
   "mimetype": "text/x-python",
   "name": "python",
   "nbconvert_exporter": "python",
   "pygments_lexer": "ipython3",
   "version": "3.8.12"
  }
 },
 "nbformat": 4,
 "nbformat_minor": 5
}
