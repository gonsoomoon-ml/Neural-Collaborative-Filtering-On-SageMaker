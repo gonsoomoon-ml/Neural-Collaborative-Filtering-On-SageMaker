{
 "cells": [
  {
   "cell_type": "markdown",
   "id": "760b72d1",
   "metadata": {},
   "source": [
    "# [모듈 1.1] CodeCommit 리파지토리 생성"
   ]
  },
  {
   "cell_type": "markdown",
   "id": "ffd73daa",
   "metadata": {},
   "source": [
    "이 노트북은 CodeCommit 리파지토리를 생성하고, codecommit 폴더를 리파지토리에 Push 하는 노트북 입니다.\n",
    "\n",
    "## 참고 자료\n",
    "- [Quick guide to start using AWS CodeCommit via AWS CLI](https://dev.to/tiamatt/quick-guide-to-start-using-aws-codecommit-via-aws-cli-1jg5)\n",
    "- 개발자 가이드\n",
    "    - [Setup for HTTPS users using Git credentials](https://docs.aws.amazon.com/codecommit/latest/userguide/setting-up-gc.html)\n",
    "    - [Create an AWS CodeCommit repository](https://docs.aws.amazon.com/codecommit/latest/userguide/how-to-create-repository.html#how-to-create-repository-cli)\n",
    "    \n",
    "\n"
   ]
  },
  {
   "cell_type": "markdown",
   "id": "316af42a",
   "metadata": {},
   "source": [
    "# 1. 환경 확인"
   ]
  },
  {
   "cell_type": "code",
   "execution_count": 61,
   "id": "dd7a4582-bc8b-46b2-8e9b-6f41d80e756c",
   "metadata": {},
   "outputs": [
    {
     "name": "stdout",
     "output_type": "stream",
     "text": [
      "The autoreload extension is already loaded. To reload it, use:\n",
      "  %reload_ext autoreload\n"
     ]
    }
   ],
   "source": [
    "%load_ext autoreload\n",
    "%autoreload 2\n",
    "\n",
    "import sys\n",
    "sys.path.append('./src')"
   ]
  },
  {
   "cell_type": "code",
   "execution_count": 62,
   "id": "f893e231",
   "metadata": {},
   "outputs": [
    {
     "name": "stdout",
     "output_type": "stream",
     "text": [
      "git version 2.37.1\n"
     ]
    }
   ],
   "source": [
    "%%sh \n",
    "git --version"
   ]
  },
  {
   "cell_type": "code",
   "execution_count": 63,
   "id": "651058df",
   "metadata": {},
   "outputs": [
    {
     "name": "stdout",
     "output_type": "stream",
     "text": [
      "aws-cli/1.24.10 Python/3.8.12 Linux/5.10.102-99.473.amzn2.x86_64 botocore/1.26.10\n"
     ]
    }
   ],
   "source": [
    "%%sh\n",
    "aws --version"
   ]
  },
  {
   "cell_type": "markdown",
   "id": "b7810808-d09b-4405-8b5b-f13f0db898c5",
   "metadata": {},
   "source": [
    "# 2. 파라미터 로딩"
   ]
  },
  {
   "cell_type": "code",
   "execution_count": 64,
   "id": "3e9ab146-47d7-4300-b763-cb4fde531e20",
   "metadata": {},
   "outputs": [
    {
     "name": "stdout",
     "output_type": "stream",
     "text": [
      "{\n",
      "  \"code_pipeline_role_arn\": \"arn:aws:iam::057716757052:role/code-pipeline-gsmoon\",\n",
      "  \"code_build_service_arn\": \"arn:aws:iam::057716757052:role/codebuild-gsmoon\",\n",
      "  \"project_prefix\": \"CodePipeline-Serving-NCF\",\n",
      "  \"region\": \"us-east-1\",\n",
      "  \"account_id\": \"057716757052\",\n",
      "  \"serving_code_repo_name\": \"ncf-serving\",\n",
      "  \"code_build_project_name\": \"ncf-serving-sm-pipeline\",\n",
      "  \"bucket\": \"sagemaker-us-east-1-057716757052\",\n",
      "  \"code_pipeline_name\": \"ncf-serving-code-pipeline\",\n",
      "  \"model_package_group_name\": \"NCF-Model-CodePipeline\",\n",
      "  \"endpoint_name\": \"ncf-codepipeline-endpoint\",\n",
      "  \"branch_name\": \"master\"\n",
      "}\n"
     ]
    }
   ],
   "source": [
    "%store -r code_pipeline_serving_config_json_path\n",
    "\n",
    "from common_utils import load_json\n",
    "\n",
    "code_pipeline_serving_dict = load_json(code_pipeline_serving_config_json_path)\n",
    "\n",
    "import json\n",
    "print (json.dumps(code_pipeline_serving_dict, indent=2))\n",
    "\n",
    "repository_name = code_pipeline_serving_dict[\"serving_code_repo_name\"]"
   ]
  },
  {
   "cell_type": "code",
   "execution_count": 65,
   "id": "47068ba3",
   "metadata": {},
   "outputs": [],
   "source": [
    "source_code = 'codecommit'\n"
   ]
  },
  {
   "cell_type": "markdown",
   "id": "d114ef17",
   "metadata": {},
   "source": [
    "# 3.리파지토리 생성"
   ]
  },
  {
   "cell_type": "code",
   "execution_count": 66,
   "id": "1fb3c07e",
   "metadata": {},
   "outputs": [
    {
     "name": "stdout",
     "output_type": "stream",
     "text": [
      "{\n",
      "    \"repositoryMetadata\": {\n",
      "        \"accountId\": \"057716757052\",\n",
      "        \"repositoryId\": \"0d2debd8-014e-4f0d-9151-a05bee294dff\",\n",
      "        \"repositoryName\": \"ncf-serving\",\n",
      "        \"repositoryDescription\": \"My inference repository\",\n",
      "        \"lastModifiedDate\": 1668946057.016,\n",
      "        \"creationDate\": 1668946057.016,\n",
      "        \"cloneUrlHttp\": \"https://git-codecommit.us-east-1.amazonaws.com/v1/repos/ncf-serving\",\n",
      "        \"cloneUrlSsh\": \"ssh://git-codecommit.us-east-1.amazonaws.com/v1/repos/ncf-serving\",\n",
      "        \"Arn\": \"arn:aws:codecommit:us-east-1:057716757052:ncf-serving\"\n",
      "    }\n",
      "}\n"
     ]
    }
   ],
   "source": [
    "%%sh -s {repository_name}\n",
    "repository_name=$1\n",
    "aws codecommit create-repository --repository-name $repository_name \\\n",
    "--repository-description \"My inference repository\" "
   ]
  },
  {
   "cell_type": "markdown",
   "id": "ec6a1ea0",
   "metadata": {},
   "source": [
    "# 4. 리파지토리 로컬에 클로닝\n",
    "### 아래를 위의 결과에서 카피해서 대체 해주세요.\n",
    "#### clone_url =   \"https://git-codecommit.us-east-1.amazonaws.com/v1/repos/mlops-ncf-serving-pipeline\"\n"
   ]
  },
  {
   "cell_type": "code",
   "execution_count": 67,
   "id": "f0810cb6",
   "metadata": {},
   "outputs": [],
   "source": [
    "clone_url = \"https://git-codecommit.us-east-1.amazonaws.com/v1/repos/ncf-serving\"\n",
    "# clone_url = \"<Clone URL>\""
   ]
  },
  {
   "cell_type": "code",
   "execution_count": 68,
   "id": "57acab15",
   "metadata": {},
   "outputs": [
    {
     "name": "stderr",
     "output_type": "stream",
     "text": [
      "Cloning into 'ncf-serving'...\n",
      "warning: You appear to have cloned an empty repository.\n"
     ]
    }
   ],
   "source": [
    "%%sh -s {clone_url} {repository_name}\n",
    "\n",
    "clone_url=$1\n",
    "repository_name=$2\n",
    "\n",
    "rm -rf $repository_name\n",
    "\n",
    "git clone $clone_url "
   ]
  },
  {
   "cell_type": "markdown",
   "id": "2d866112",
   "metadata": {},
   "source": [
    "# 5. 소스 코드 복사"
   ]
  },
  {
   "cell_type": "code",
   "execution_count": 69,
   "id": "5bea0c8c",
   "metadata": {},
   "outputs": [
    {
     "name": "stdout",
     "output_type": "stream",
     "text": [
      "codebuild-buildspec-221120.yml\n",
      "codebuild-buildspec.yml\n",
      "CONTRIBUTING.md\n",
      "img\n",
      "LICENSE\n",
      "pipelines\n",
      "README.md\n",
      "sagemaker-pipelines-project.ipynb\n",
      "setup.cfg\n",
      "setup.py\n",
      "tests\n",
      "tox.ini\n"
     ]
    }
   ],
   "source": [
    "%%sh -s {repository_name} {source_code}\n",
    "repository_name=$1\n",
    "source_code=$2\n",
    "\n",
    "cp -r $source_code/* $repository_name\n",
    "ls $repository_name"
   ]
  },
  {
   "cell_type": "markdown",
   "id": "615f4589",
   "metadata": {},
   "source": [
    "# 6. 코드 파일을 리파지토리에 푸시"
   ]
  },
  {
   "cell_type": "code",
   "execution_count": 70,
   "id": "d705b938",
   "metadata": {},
   "outputs": [
    {
     "name": "stdout",
     "output_type": "stream",
     "text": [
      "/home/ec2-user/SageMaker/Neural-Collaborative-Filtering-On-SageMaker/3_MLOps/5_sm-serving-codepipeline/ncf-serving\n",
      "[master (root-commit) f2c15db] Add new files\n",
      " Committer: EC2 Default User <ec2-user@ip-172-16-47-148.ec2.internal>\n",
      "Your name and email address were configured automatically based\n",
      "on your username and hostname. Please check that they are accurate.\n",
      "You can suppress this message by setting them explicitly:\n",
      "\n",
      "    git config --global user.name \"Your Name\"\n",
      "    git config --global user.email you@example.com\n",
      "\n",
      "After doing this, you may fix the identity used for this commit with:\n",
      "\n",
      "    git commit --amend --reset-author\n",
      "\n",
      " 32 files changed, 2084 insertions(+)\n",
      " create mode 100644 CONTRIBUTING.md\n",
      " create mode 100644 LICENSE\n",
      " create mode 100644 README.md\n",
      " create mode 100644 codebuild-buildspec-221120.yml\n",
      " create mode 100644 codebuild-buildspec.yml\n",
      " create mode 100644 img/pipeline-full.png\n",
      " create mode 100644 pipelines/.ipynb_checkpoints/run_pipeline-checkpoint.py\n",
      " create mode 100644 pipelines/__init__.py\n",
      " create mode 100644 pipelines/__pycache__/__init__.cpython-38.pyc\n",
      " create mode 100644 pipelines/__version__.py\n",
      " create mode 100644 pipelines/_utils.py\n",
      " create mode 100644 pipelines/get_pipeline_definition.py\n",
      " create mode 100644 pipelines/ncf/.ipynb_checkpoints/pipeline-checkpoint.py\n",
      " create mode 100644 pipelines/ncf/__init__.py\n",
      " create mode 100644 pipelines/ncf/__pycache__/__init__.cpython-38.pyc\n",
      " create mode 100644 pipelines/ncf/__pycache__/pipeline.cpython-38.pyc\n",
      " create mode 100644 pipelines/ncf/iam_change_model_approval.py\n",
      " create mode 100644 pipelines/ncf/iam_create_endpoint.py\n",
      " create mode 100644 pipelines/ncf/pipeline.py\n",
      " create mode 100644 pipelines/ncf/src/__init__.py\n",
      " create mode 100644 pipelines/ncf/src/__pycache__/__init__.cpython-38.pyc\n",
      " create mode 100644 pipelines/ncf/src/__pycache__/common_utils.cpython-38.pyc\n",
      " create mode 100644 pipelines/ncf/src/code_pipeline_serving_config.json\n",
      " create mode 100644 pipelines/ncf/src/common_utils.py\n",
      " create mode 100644 pipelines/ncf/src/sm_pipeline_serving_config.json\n",
      " create mode 100644 pipelines/run_pipeline.py\n",
      " create mode 100644 sagemaker-pipelines-project.ipynb\n",
      " create mode 100644 setup.cfg\n",
      " create mode 100644 setup.py\n",
      " create mode 100644 tests/.ipynb_checkpoints/test_pipelines-checkpoint.py\n",
      " create mode 100644 tests/test_pipelines.py\n",
      " create mode 100644 tox.ini\n"
     ]
    },
    {
     "name": "stderr",
     "output_type": "stream",
     "text": [
      "To https://git-codecommit.us-east-1.amazonaws.com/v1/repos/ncf-serving\n",
      " * [new branch]      master -> master\n"
     ]
    }
   ],
   "source": [
    "%%sh -s {repository_name} \n",
    "repository_name=$1\n",
    "cd $repository_name\n",
    "echo $PWD\n",
    "git add .\n",
    "git commit -m\"Add new files\"\n",
    "git push origin master\n"
   ]
  },
  {
   "cell_type": "code",
   "execution_count": null,
   "id": "3bb6ff98",
   "metadata": {},
   "outputs": [],
   "source": []
  },
  {
   "cell_type": "code",
   "execution_count": null,
   "id": "91974793-2678-4c64-8c51-ffe022f81d8e",
   "metadata": {},
   "outputs": [],
   "source": []
  }
 ],
 "metadata": {
  "kernelspec": {
   "display_name": "conda_python3",
   "language": "python",
   "name": "conda_python3"
  },
  "language_info": {
   "codemirror_mode": {
    "name": "ipython",
    "version": 3
   },
   "file_extension": ".py",
   "mimetype": "text/x-python",
   "name": "python",
   "nbconvert_exporter": "python",
   "pygments_lexer": "ipython3",
   "version": "3.8.12"
  }
 },
 "nbformat": 4,
 "nbformat_minor": 5
}
