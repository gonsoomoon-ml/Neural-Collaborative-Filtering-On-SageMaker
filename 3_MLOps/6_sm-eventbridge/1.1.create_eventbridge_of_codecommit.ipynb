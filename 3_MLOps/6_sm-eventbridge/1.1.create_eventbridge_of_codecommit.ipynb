{
 "cells": [
  {
   "cell_type": "markdown",
   "id": "8731ca8d",
   "metadata": {},
   "source": [
    "# [모듈 1.1] EventBridge를 통해 CodePipeline 수행"
   ]
  },
  {
   "cell_type": "markdown",
   "id": "ab0a3761",
   "metadata": {},
   "source": [
    "이 노트북은 CodeCommit 레파지토리에 훈련 파일(csv)을 push 하면, EventBridge를 통해 CodePipeline을 실행하는 노트북 입니다.\n",
    "\n",
    "## 참고 자료\n",
    "- Customizing triggers for AWS CodePipeline with AWS Lambda and Amazon CloudWatch Events \n",
    "   (https://aws.amazon.com/blogs/devops/adding-custom-logic-to-aws-codepipeline-with-aws-lambda-and-amazon-cloudwatch-events/)\n",
    "- Boto3 Docs : EventBridge\n",
    "   (https://boto3.amazonaws.com/v1/documentation/api/latest/reference/services/events.html#EventBridge.Client.put_events)\n",
    "\n"
   ]
  },
  {
   "cell_type": "markdown",
   "id": "db4f9d8c",
   "metadata": {},
   "source": [
    "# 1. 환경 확인"
   ]
  },
  {
   "cell_type": "code",
   "execution_count": 1,
   "id": "63b692a8",
   "metadata": {},
   "outputs": [],
   "source": [
    "%load_ext autoreload\n",
    "%autoreload 2\n",
    "\n",
    "import sys\n",
    "import sagemaker\n",
    "import boto3\n",
    "sys.path.append('./src')\n"
   ]
  },
  {
   "cell_type": "markdown",
   "id": "d944f190",
   "metadata": {},
   "source": [
    "# 2. 파라미터 세팅"
   ]
  },
  {
   "cell_type": "code",
   "execution_count": 2,
   "id": "3ecea166",
   "metadata": {},
   "outputs": [],
   "source": [
    "# 기본 정보\n",
    "region = sagemaker.Session().boto_region_name\n",
    "account_id = boto3.client('sts').get_caller_identity().get('Account')\n",
    "training_files = 'training'\n",
    "\n",
    "# Codecommit Repo Name\n",
    "repository_name = \"ncf-train\"\n",
    "\n",
    "# code pipeline name, arn, role_arn\n",
    "codepipeline_name = \"ncf-training-code-pipeline\"\n",
    "codepipeline_arn = boto3.client('codepipeline').get_pipeline(name = codepipeline_name).get('metadata').get('pipelineArn')\n",
    "codepipeline_role_arn = boto3.client('codepipeline').get_pipeline(name = codepipeline_name).get('pipeline').get('roleArn')\n",
    "\n",
    "# Event Bus Name\n",
    "eventbridge_eventbus_name = \"mlopseventbus\"\n",
    "\n",
    "# EventBridge Rule Name\n",
    "eventbridge_rule_name = \"codepipelinerule\""
   ]
  },
  {
   "cell_type": "markdown",
   "id": "8da05f84-e738-4d0f-a9bd-9940373259f3",
   "metadata": {},
   "source": [
    "# 3. EventBridge Rule 정의"
   ]
  },
  {
   "cell_type": "code",
   "execution_count": 3,
   "id": "526075e3-4793-4f20-b1e0-737c2b2981b6",
   "metadata": {},
   "outputs": [],
   "source": [
    "# 기존 Target, Rule 삭제\n",
    "#eventclient = boto3.client('events')\n",
    "#eventresponse = eventclient.delete_rule(Name = eventbridge_rule_name)"
   ]
  },
  {
   "cell_type": "markdown",
   "id": "415a8333-258b-4276-abed-8c795a913089",
   "metadata": {},
   "source": [
    "## 3.1 event_bus 생성"
   ]
  },
  {
   "cell_type": "code",
   "execution_count": 4,
   "id": "7feb528f-9cc6-426d-88f6-5cfec9721703",
   "metadata": {},
   "outputs": [
    {
     "name": "stdout",
     "output_type": "stream",
     "text": [
      "{'EventBusArn': 'arn:aws:events:us-east-1:376278017302:event-bus/mlopseventbus', 'ResponseMetadata': {'RequestId': '8cb2859a-55f5-4677-94d0-236d8b7a6122', 'HTTPStatusCode': 200, 'HTTPHeaders': {'x-amzn-requestid': '8cb2859a-55f5-4677-94d0-236d8b7a6122', 'content-type': 'application/x-amz-json-1.1', 'content-length': '79', 'date': 'Wed, 14 Dec 2022 16:29:41 GMT'}, 'RetryAttempts': 0}}\n"
     ]
    }
   ],
   "source": [
    "eventclient = boto3.client('events')\n",
    "\n",
    "eventresponse = eventclient.create_event_bus(\n",
    "    Name = eventbridge_eventbus_name\n",
    ")\n",
    "\n",
    "print(eventresponse)"
   ]
  },
  {
   "cell_type": "markdown",
   "id": "16278ac3-5885-4a4f-8df8-23135bb4bb57",
   "metadata": {},
   "source": [
    "## 3.2 EventPattern 정의"
   ]
  },
  {
   "cell_type": "markdown",
   "id": "7d5fc6c5-17fd-4f72-a126-34e6db7406a9",
   "metadata": {},
   "source": [
    "#### 아래 CodeCommit arn 출력값을 복사해서 resources 에 붙여넣으세요"
   ]
  },
  {
   "cell_type": "code",
   "execution_count": 5,
   "id": "43fe4384-b487-49a1-8011-0fa73c2a2c9e",
   "metadata": {},
   "outputs": [
    {
     "name": "stdout",
     "output_type": "stream",
     "text": [
      "arn:aws:codecommit:us-east-1:376278017302:ncf-train\n"
     ]
    }
   ],
   "source": [
    "# Codecommit Arn\n",
    "repository_arn = boto3.client('codecommit').get_repository(repositoryName = repository_name).get('repositoryMetadata').get('Arn')\n",
    "print(repository_arn)"
   ]
  },
  {
   "cell_type": "code",
   "execution_count": 17,
   "id": "c3e720b8-e4e5-48e8-ac93-79346e2f67bb",
   "metadata": {},
   "outputs": [
    {
     "name": "stdout",
     "output_type": "stream",
     "text": [
      "{'RuleArn': 'arn:aws:events:us-east-1:376278017302:rule/mlopseventbus/codepipelinerule', 'ResponseMetadata': {'RequestId': '631c50ca-be78-4fa7-af25-8aacf32fd7cf', 'HTTPStatusCode': 200, 'HTTPHeaders': {'x-amzn-requestid': '631c50ca-be78-4fa7-af25-8aacf32fd7cf', 'content-type': 'application/x-amz-json-1.1', 'content-length': '87', 'date': 'Wed, 14 Dec 2022 16:41:58 GMT'}, 'RetryAttempts': 0}}\n"
     ]
    }
   ],
   "source": [
    "eventclient = boto3.client('events')\n",
    "\n",
    "eventresponse = eventclient.put_rule(\n",
    "    Name = eventbridge_rule_name,\n",
    "    EventBusName = eventbridge_eventbus_name,\n",
    "    EventPattern = \"\"\"{\n",
    "        \"source\": [\"aws.codecommit\"],\n",
    "        \"detail-type\": [\"CodeCommit Comment on Commit\"],\n",
    "        \"resources\": [\"arn:aws:codecommit:us-east-1:376278017302:ncf-train\"]\n",
    "    }\"\"\"\n",
    ")\n",
    "\n",
    "print(eventresponse)"
   ]
  },
  {
   "cell_type": "markdown",
   "id": "15a0f22c-0235-4c19-b082-84062267cffb",
   "metadata": {},
   "source": [
    "## 3.2 Event Target 설정"
   ]
  },
  {
   "cell_type": "code",
   "execution_count": 11,
   "id": "7ef00945-4fbb-41d3-9a6b-9a0a54d3f6f0",
   "metadata": {},
   "outputs": [
    {
     "name": "stdout",
     "output_type": "stream",
     "text": [
      "{'FailedEntryCount': 0, 'FailedEntries': [], 'ResponseMetadata': {'RequestId': 'b4b3ca20-e997-4e5a-bb7e-38f56102ce6c', 'HTTPStatusCode': 200, 'HTTPHeaders': {'x-amzn-requestid': 'b4b3ca20-e997-4e5a-bb7e-38f56102ce6c', 'content-type': 'application/x-amz-json-1.1', 'content-length': '41', 'date': 'Wed, 14 Dec 2022 16:32:36 GMT'}, 'RetryAttempts': 0}}\n"
     ]
    }
   ],
   "source": [
    "eventresponse = eventclient.put_targets(\n",
    "    Rule = eventbridge_rule_name,\n",
    "    EventBusName = eventbridge_eventbus_name,\n",
    "    Targets = [\n",
    "        {\n",
    "            'Arn' : codepipeline_arn,\n",
    "            'Id' : codepipeline_name,\n",
    "            'RoleArn' : codepipeline_role_arn\n",
    "        }\n",
    "    ]\n",
    ")\n",
    "\n",
    "print(eventresponse)"
   ]
  },
  {
   "cell_type": "markdown",
   "id": "558d89be",
   "metadata": {},
   "source": [
    "# 4. 리파지토리 로컬에 클로닝\n",
    "### Repository URL을 확인 후 복사해서 아래의 repository_url에 붙여넣기 해주세요.\n",
    "### repository_url :\n",
    "```\n",
    "repository_url =  \"https://git-codecommit.us-east-1.amazonaws.com/v1/repos/ncf-train\"\n",
    "```"
   ]
  },
  {
   "cell_type": "code",
   "execution_count": 9,
   "id": "249cee8d",
   "metadata": {},
   "outputs": [],
   "source": [
    "repository_url =  \"https://git-codecommit.us-east-1.amazonaws.com/v1/repos/ncf-train\"\n",
    "# repository_url = \"<Repository URL>\""
   ]
  },
  {
   "cell_type": "code",
   "execution_count": 10,
   "id": "d421349b",
   "metadata": {},
   "outputs": [
    {
     "name": "stderr",
     "output_type": "stream",
     "text": [
      "Cloning into 'ncf-train'...\n",
      "remote: Counting objects: 65, done.        \n"
     ]
    }
   ],
   "source": [
    "%%sh -s {repository_url} {repository_name}\n",
    "\n",
    "repository_url=$1\n",
    "repository_name=$2\n",
    "\n",
    "rm -rf $repository_name\n",
    "\n",
    "git clone $repository_url "
   ]
  },
  {
   "cell_type": "markdown",
   "id": "e0807cd8",
   "metadata": {},
   "source": [
    "# 6. 훈련 파일을 로컬 레파지토리 디렉토리에 복사"
   ]
  },
  {
   "cell_type": "code",
   "execution_count": 19,
   "id": "63faa741",
   "metadata": {},
   "outputs": [
    {
     "name": "stdout",
     "output_type": "stream",
     "text": [
      "codebuild-buildspec-221113.yml\n",
      "codebuild-buildspec-origin.yml\n",
      "codebuild-buildspec.yml\n",
      "code_location.json\n",
      "CONTRIBUTING.md\n",
      "dummy.csv\n",
      "img\n",
      "LICENSE\n",
      "origin-sagemaker-pipelines-project.ipynb\n",
      "pipelines\n",
      "README.md\n",
      "sagemaker-pipelines-project.ipynb\n",
      "setup.cfg\n",
      "setup.py\n",
      "tests\n",
      "tox.ini\n"
     ]
    }
   ],
   "source": [
    "%%sh -s {repository_name} {training_files}\n",
    "repository_name=$1\n",
    "training_files=$2\n",
    "\n",
    "cp $training_files/* $repository_name\n",
    "ls $repository_name"
   ]
  },
  {
   "cell_type": "markdown",
   "id": "41a04333",
   "metadata": {},
   "source": [
    "# 7. 훈련 파일을 리파지토리에 푸시"
   ]
  },
  {
   "cell_type": "code",
   "execution_count": 21,
   "id": "0ce5ef6f",
   "metadata": {},
   "outputs": [
    {
     "name": "stdout",
     "output_type": "stream",
     "text": [
      "/home/ec2-user/SageMaker/Neural-Collaborative-Filtering-On-SageMaker/3_MLOps/6_sm-eventbridge/ncf-train\n",
      "[master 4ba03d2] Add new files\n",
      " Committer: EC2 Default User <ec2-user@ip-172-16-23-233.ec2.internal>\n",
      "Your name and email address were configured automatically based\n",
      "on your username and hostname. Please check that they are accurate.\n",
      "You can suppress this message by setting them explicitly:\n",
      "\n",
      "    git config --global user.name \"Your Name\"\n",
      "    git config --global user.email you@example.com\n",
      "\n",
      "After doing this, you may fix the identity used for this commit with:\n",
      "\n",
      "    git commit --amend --reset-author\n",
      "\n",
      " 1 file changed, 3 deletions(-)\n",
      " delete mode 100644 dummy.csv\n"
     ]
    },
    {
     "name": "stderr",
     "output_type": "stream",
     "text": [
      "remote: Validating objects: 100%        \n",
      "To https://git-codecommit.us-east-1.amazonaws.com/v1/repos/ncf-train\n",
      "   fc9e92f..4ba03d2  master -> master\n"
     ]
    }
   ],
   "source": [
    "%%sh -s {repository_name} \n",
    "repository_name=$1\n",
    "cd $repository_name\n",
    "echo $PWD\n",
    "git add .\n",
    "git commit -m \"Add new files\"\n",
    "git push origin master\n"
   ]
  },
  {
   "cell_type": "code",
   "execution_count": null,
   "id": "f6b1d0f6-6e4d-4189-bcec-ea962d81ea69",
   "metadata": {},
   "outputs": [],
   "source": []
  }
 ],
 "metadata": {
  "kernelspec": {
   "display_name": "conda_python3",
   "language": "python",
   "name": "conda_python3"
  },
  "language_info": {
   "codemirror_mode": {
    "name": "ipython",
    "version": 3
   },
   "file_extension": ".py",
   "mimetype": "text/x-python",
   "name": "python",
   "nbconvert_exporter": "python",
   "pygments_lexer": "ipython3",
   "version": "3.8.12"
  }
 },
 "nbformat": 4,
 "nbformat_minor": 5
}
