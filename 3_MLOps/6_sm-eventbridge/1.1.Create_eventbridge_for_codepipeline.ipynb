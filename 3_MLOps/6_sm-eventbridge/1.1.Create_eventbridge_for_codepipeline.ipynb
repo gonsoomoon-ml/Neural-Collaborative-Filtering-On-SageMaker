{
 "cells": [
  {
   "cell_type": "markdown",
   "id": "8731ca8d",
   "metadata": {},
   "source": [
    "# [모듈 1.1] CodeCommit을 하면 EventBridge를 통해 CodePipeline 수행"
   ]
  },
  {
   "cell_type": "markdown",
   "id": "ab0a3761",
   "metadata": {},
   "source": [
    "이 노트북은 CodeCommit 레파지토리에 'SageMaker Pipeline config 파일(sm_pipeline_train_config.json)'을 수정 후 push 하면, EventBridge를 통해 CodePipeline을 실행하는 노트북 입니다.\n",
    "\n",
    "## 참고 자료\n",
    "- Amazon EventBridge 유저 가이드\n",
    "   (https://docs.aws.amazon.com/eventbridge/latest/userguide/eb-what-is.html)\n",
    "- Boto3 Docs : EventBridge\n",
    "   (https://boto3.amazonaws.com/v1/documentation/api/latest/reference/services/events.html)\n",
    "\n"
   ]
  },
  {
   "cell_type": "markdown",
   "id": "db4f9d8c",
   "metadata": {
    "tags": []
   },
   "source": [
    "# 1. 환경 확인"
   ]
  },
  {
   "cell_type": "code",
   "execution_count": 1,
   "id": "63b692a8",
   "metadata": {},
   "outputs": [
    {
     "name": "stdout",
     "output_type": "stream",
     "text": [
      "s3_input_data_uri: n s3://sagemaker-ap-northeast-2-057716757052/NCFModel/data2\n"
     ]
    }
   ],
   "source": [
    "%load_ext autoreload\n",
    "%autoreload 2\n",
    "\n",
    "import sys\n",
    "import sagemaker\n",
    "import boto3\n",
    "sys.path.append('./src')\n",
    "\n",
    "%store -r s3_input_data_uri\n",
    "print(\"s3_input_data_uri: n\", s3_input_data_uri)\n"
   ]
  },
  {
   "cell_type": "markdown",
   "id": "558d89be",
   "metadata": {},
   "source": [
    "# 2. 리파지토리 로컬에 클로닝\n",
    "\n",
    "### repository_url :\n",
    "```\n",
    "repository_url =  \"https://git-codecommit.<REGION>.amazonaws.com/v1/repos/ncf-training-repo\"\n",
    "```"
   ]
  },
  {
   "cell_type": "code",
   "execution_count": 2,
   "id": "6b826eff-1e23-4dac-b2c7-5c7a917e764b",
   "metadata": {},
   "outputs": [
    {
     "name": "stdout",
     "output_type": "stream",
     "text": [
      "ncf-training-repo\n"
     ]
    }
   ],
   "source": [
    "## Codecommit Repo Name (ncf-training-repo)\n",
    "repository_name = \"ncf-training-repo\"\n",
    "\n",
    "\n",
    "## 4_sm-train-codepipeline에서 만든 훈련 용 repository name 로딩\n",
    "\n",
    "#%store -r training_repository_name\n",
    "#repository_name = training_repository_name\n",
    "\n",
    "print(repository_name)"
   ]
  },
  {
   "cell_type": "code",
   "execution_count": 3,
   "id": "249cee8d",
   "metadata": {},
   "outputs": [
    {
     "name": "stdout",
     "output_type": "stream",
     "text": [
      "https://git-codecommit.ap-northeast-2.amazonaws.com/v1/repos/ncf-training-repo\n"
     ]
    }
   ],
   "source": [
    "repository_url = boto3.client('codecommit').get_repository(repositoryName = repository_name).get('repositoryMetadata').get('cloneUrlHttp')\n",
    "print(repository_url)\n",
    "\n",
    "# repository_url = \"<Repository URL>\""
   ]
  },
  {
   "cell_type": "code",
   "execution_count": 4,
   "id": "d421349b",
   "metadata": {},
   "outputs": [
    {
     "name": "stderr",
     "output_type": "stream",
     "text": [
      "Cloning into 'ncf-training-repo'...\n",
      "remote: Counting objects: 47, done.        \n"
     ]
    }
   ],
   "source": [
    "%%sh -s {repository_url} {repository_name}\n",
    "\n",
    "repository_url=$1\n",
    "repository_name=$2\n",
    "\n",
    "rm -rf $repository_name\n",
    "\n",
    "git clone $repository_url "
   ]
  },
  {
   "cell_type": "markdown",
   "id": "d944f190",
   "metadata": {},
   "source": [
    "# 3. 파라미터 세팅"
   ]
  },
  {
   "cell_type": "code",
   "execution_count": 5,
   "id": "3ecea166",
   "metadata": {},
   "outputs": [],
   "source": [
    "\n",
    "# code pipeline name, arn, role_arn\n",
    "codepipeline_name1 = \"ncf-code-pipeline-training-sm-pipeline\"\n",
    "codepipeline_arn = boto3.client('codepipeline').get_pipeline(name = codepipeline_name1).get('metadata').get('pipelineArn')\n",
    "eventbrideexcrole_arn = boto3.client('iam').get_role(RoleName = 'MLOps-EventBridgeRole').get('Role').get('Arn')\n",
    "\n",
    "# EventBridge Rule Name\n",
    "eventbridge_rule_name1 = \"codepipelinerule1\"\n",
    "\n",
    "# Training data path (Prefix)\n",
    "data_prefix = \"NCFModel/data2\"\n",
    "training_files = 'codecommit1'"
   ]
  },
  {
   "cell_type": "markdown",
   "id": "8da05f84-e738-4d0f-a9bd-9940373259f3",
   "metadata": {},
   "source": [
    "# 4. EventBridge Rule 정의"
   ]
  },
  {
   "cell_type": "markdown",
   "id": "16278ac3-5885-4a4f-8df8-23135bb4bb57",
   "metadata": {},
   "source": [
    "## 4.1 EventPattern 정의"
   ]
  },
  {
   "cell_type": "code",
   "execution_count": 6,
   "id": "43fe4384-b487-49a1-8011-0fa73c2a2c9e",
   "metadata": {},
   "outputs": [
    {
     "name": "stdout",
     "output_type": "stream",
     "text": [
      "arn:aws:codecommit:ap-northeast-2:057716757052:ncf-training-repo\n"
     ]
    }
   ],
   "source": [
    "# Codecommit Arn\n",
    "repository_arn = boto3.client('codecommit').get_repository(repositoryName = repository_name).get('repositoryMetadata').get('Arn')\n",
    "print(repository_arn)"
   ]
  },
  {
   "cell_type": "markdown",
   "id": "be2f08e0-41f8-4013-a806-3d24b3396c3c",
   "metadata": {},
   "source": [
    "#### 위 CodeCommit arn 출력값을 복사해서 아래 resources 부분에 붙여넣으세요."
   ]
  },
  {
   "cell_type": "code",
   "execution_count": 7,
   "id": "c3e720b8-e4e5-48e8-ac93-79346e2f67bb",
   "metadata": {},
   "outputs": [],
   "source": [
    "eventclient = boto3.client('events')\n",
    "\n",
    "eventresponse = eventclient.put_rule(\n",
    "    Name = eventbridge_rule_name1,\n",
    "    EventPattern = \"\"\"{\n",
    "        \"source\": [\"aws.codecommit\"],\n",
    "        \"detail-type\": [\"CodeCommit Repository State Change\"],\n",
    "        \"resources\": [\"arn:aws:codecommit:ap-northeast-2:057716757052:ncf-training-repo\"],\n",
    "        \"detail\": {\n",
    "            \"referenceType\": [\"branch\"],\n",
    "            \"referenceName\": [\"master\"]\n",
    "        }\n",
    "    }\"\"\"\n",
    ")\n"
   ]
  },
  {
   "cell_type": "code",
   "execution_count": 8,
   "id": "a28a1a6a-0600-4695-ab3f-e241c3ae64be",
   "metadata": {},
   "outputs": [
    {
     "data": {
      "text/plain": [
       "{'RuleArn': 'arn:aws:events:ap-northeast-2:057716757052:rule/codepipelinerule1',\n",
       " 'ResponseMetadata': {'RequestId': '84fffc1e-5aa1-475e-a0fb-2987b752322b',\n",
       "  'HTTPStatusCode': 200,\n",
       "  'HTTPHeaders': {'x-amzn-requestid': '84fffc1e-5aa1-475e-a0fb-2987b752322b',\n",
       "   'content-type': 'application/x-amz-json-1.1',\n",
       "   'content-length': '79',\n",
       "   'date': 'Wed, 21 Dec 2022 06:47:39 GMT'},\n",
       "  'RetryAttempts': 0}}"
      ]
     },
     "execution_count": 8,
     "metadata": {},
     "output_type": "execute_result"
    }
   ],
   "source": [
    "eventresponse"
   ]
  },
  {
   "cell_type": "markdown",
   "id": "42f581ab-4f13-440e-af0d-527349f9bcd1",
   "metadata": {},
   "source": [
    "## 4.2 Event Target 설정"
   ]
  },
  {
   "cell_type": "code",
   "execution_count": 9,
   "id": "7ef00945-4fbb-41d3-9a6b-9a0a54d3f6f0",
   "metadata": {},
   "outputs": [],
   "source": [
    "eventresponse = eventclient.put_targets(\n",
    "    Rule = eventbridge_rule_name1,\n",
    "    Targets = [\n",
    "        {\n",
    "            'Arn' : codepipeline_arn,\n",
    "            'Id' : codepipeline_name1,\n",
    "            'RoleArn' : eventbrideexcrole_arn\n",
    "        }\n",
    "    ]\n",
    ")\n"
   ]
  },
  {
   "cell_type": "code",
   "execution_count": 10,
   "id": "a8ce490e-0ed6-4c2d-9145-60e26c75575e",
   "metadata": {},
   "outputs": [
    {
     "data": {
      "text/plain": [
       "{'FailedEntryCount': 0,\n",
       " 'FailedEntries': [],\n",
       " 'ResponseMetadata': {'RequestId': '9530fbea-b86d-441f-a8bc-8a92e7f7deba',\n",
       "  'HTTPStatusCode': 200,\n",
       "  'HTTPHeaders': {'x-amzn-requestid': '9530fbea-b86d-441f-a8bc-8a92e7f7deba',\n",
       "   'content-type': 'application/x-amz-json-1.1',\n",
       "   'content-length': '41',\n",
       "   'date': 'Wed, 21 Dec 2022 06:47:41 GMT'},\n",
       "  'RetryAttempts': 0}}"
      ]
     },
     "execution_count": 10,
     "metadata": {},
     "output_type": "execute_result"
    }
   ],
   "source": [
    "eventresponse"
   ]
  },
  {
   "cell_type": "markdown",
   "id": "b5f1fb86-4a0c-470d-8d9f-0961abd7922c",
   "metadata": {},
   "source": [
    "# 5. 새로운 SageMaker Pipeline (Training) 구성 파일 준비"
   ]
  },
  {
   "cell_type": "markdown",
   "id": "d2f6f41b-fd09-407b-9737-448eb4b44f77",
   "metadata": {},
   "source": [
    "## 5.1. 변수 설정 및 dict 로 저장"
   ]
  },
  {
   "cell_type": "code",
   "execution_count": 11,
   "id": "f5d9c23d-870a-4939-8b8c-9f6e823c4099",
   "metadata": {},
   "outputs": [],
   "source": [
    "project_prefix = \"SageMaker-Train-NCF\"\n",
    "bucket = sagemaker.Session().default_bucket()\n",
    "region = sagemaker.Session().boto_region_name\n",
    "\n",
    "train_sm_pipeline_name = \"ncf-training-code-pipeline-sm-pipeline\"\n",
    "ModelApprovalStatus=\"PendingManualApproval\"\n",
    "inference_image_uri = f\"763104351884.dkr.ecr.{region}.amazonaws.com/pytorch-inference:1.8.1-gpu-py3\"\n",
    "training_instance_type = \"ml.p3.2xlarge\"\n",
    "training_instance_count = 1\n",
    "\n",
    "sm_pipeline_train_config_json_path = f'src/sm_pipeline_train_config.json'\n"
   ]
  },
  {
   "cell_type": "code",
   "execution_count": 12,
   "id": "b261285e-c383-40c4-9fce-86eea053f813",
   "metadata": {},
   "outputs": [
    {
     "name": "stdout",
     "output_type": "stream",
     "text": [
      "The current time is 2022-12-21-06-47-44\n"
     ]
    }
   ],
   "source": [
    "from datetime import datetime\n",
    "currentDateAndTime = datetime.now()\n",
    "\n",
    "# 현재 시간을 Json 에 넣기 위함\n",
    "currentTime = currentDateAndTime.strftime(\"%Y-%m-%d-%H-%M-%S\")\n",
    "print(\"The current time is\", currentTime)"
   ]
  },
  {
   "cell_type": "code",
   "execution_count": 13,
   "id": "56621ac4-4d55-46ab-b29a-4d9d1ff87291",
   "metadata": {},
   "outputs": [],
   "source": [
    "sm_train_pipeline_dict = {\n",
    "    \"project_prefix\" : project_prefix,            \n",
    "    \"s3_input_data_uri\" : s3_input_data_uri,\n",
    "    \"sm_pipeline_name\" : train_sm_pipeline_name,\n",
    "    \"training_instance_type\" :  training_instance_type,    \n",
    "    \"training_instance_count\" :  training_instance_count,        \n",
    "    \"ModelApprovalStatus\" :  ModelApprovalStatus,    \n",
    "    \"inference_image_uri\" :  inference_image_uri,\n",
    "    \"bucket\" : bucket,        \n",
    "    \"update_time\" :  currentTime    \n",
    "}"
   ]
  },
  {
   "cell_type": "markdown",
   "id": "1c8579c0-aec1-48a4-a428-a110b6fdda35",
   "metadata": {},
   "source": [
    "## 5.2. 설정 딕션너리 Json 파일로 저장 후 테스트를 위해 로딩"
   ]
  },
  {
   "cell_type": "code",
   "execution_count": 14,
   "id": "ff13f76a-52af-4bd3-9473-0110e86614f6",
   "metadata": {},
   "outputs": [
    {
     "name": "stdout",
     "output_type": "stream",
     "text": [
      "src/sm_pipeline_train_config.json is saved\n",
      "{\n",
      "  \"project_prefix\": \"SageMaker-Train-NCF\",\n",
      "  \"s3_input_data_uri\": \"s3://sagemaker-ap-northeast-2-057716757052/NCFModel/data2\",\n",
      "  \"sm_pipeline_name\": \"ncf-training-code-pipeline-sm-pipeline\",\n",
      "  \"training_instance_type\": \"ml.p3.2xlarge\",\n",
      "  \"training_instance_count\": 1,\n",
      "  \"ModelApprovalStatus\": \"PendingManualApproval\",\n",
      "  \"inference_image_uri\": \"763104351884.dkr.ecr.ap-northeast-2.amazonaws.com/pytorch-inference:1.8.1-gpu-py3\",\n",
      "  \"bucket\": \"sagemaker-ap-northeast-2-057716757052\",\n",
      "  \"update_time\": \"2022-12-21-06-47-44\"\n",
      "}\n"
     ]
    }
   ],
   "source": [
    "import json\n",
    "from common_utils import save_json, load_json\n",
    "\n",
    "save_json(sm_pipeline_train_config_json_path, sm_train_pipeline_dict)\n",
    "sm_pipeline_train_dict = load_json(sm_pipeline_train_config_json_path)\n",
    "print (json.dumps(sm_pipeline_train_dict, indent=2))"
   ]
  },
  {
   "cell_type": "markdown",
   "id": "ed9a7aea-d4a3-4f28-86a7-4ae93c9ae8b1",
   "metadata": {},
   "source": [
    "## 5.3 Config 파일 복사"
   ]
  },
  {
   "cell_type": "markdown",
   "id": "fc59f524-8821-4e2e-9356-fbba0497e9ab",
   "metadata": {},
   "source": [
    "### 5.3.1 codecommit1 폴더 생성"
   ]
  },
  {
   "cell_type": "code",
   "execution_count": 15,
   "id": "fe794830-6571-41d6-988b-e75dad61e0ad",
   "metadata": {},
   "outputs": [],
   "source": [
    "newdir = training_files+\"/pipelines/ncf/src/\"\n",
    "! rm -rf $newdir\n",
    "! mkdir -p $newdir"
   ]
  },
  {
   "cell_type": "markdown",
   "id": "c1619143-6701-44f8-9c35-d605000962d8",
   "metadata": {},
   "source": [
    "### 5.3.2 sm_pipeline_train_config_json 파일 Copy"
   ]
  },
  {
   "cell_type": "code",
   "execution_count": 16,
   "id": "285e5313-e0f5-4855-8c38-a69109d59025",
   "metadata": {},
   "outputs": [],
   "source": [
    "source_path = sm_pipeline_train_config_json_path\n",
    "target_path = newdir\n",
    "\n",
    "! cp {source_path} {target_path}"
   ]
  },
  {
   "cell_type": "markdown",
   "id": "e0807cd8",
   "metadata": {},
   "source": [
    "# 6. SageMaker Pipeline config 파일을 로컬 레파지토리 디렉토리에 복사"
   ]
  },
  {
   "cell_type": "code",
   "execution_count": 17,
   "id": "63faa741",
   "metadata": {},
   "outputs": [
    {
     "name": "stdout",
     "output_type": "stream",
     "text": [
      "codebuild-buildspec.yml\n",
      "CONTRIBUTING.md\n",
      "img\n",
      "LICENSE\n",
      "origin-sagemaker-pipelines-project.ipynb\n",
      "pipelines\n",
      "pushtime.log\n",
      "README.md\n",
      "sagemaker-pipelines-project.ipynb\n",
      "setup.cfg\n",
      "setup.py\n"
     ]
    }
   ],
   "source": [
    "%%sh -s {repository_name} {training_files}\n",
    "repository_name=$1\n",
    "training_files=$2\n",
    "\n",
    "cp -r $training_files/* $repository_name\n",
    "ls $repository_name"
   ]
  },
  {
   "cell_type": "markdown",
   "id": "41a04333",
   "metadata": {},
   "source": [
    "# 7. 리파지토리에 푸시 (이벤트 트리거)"
   ]
  },
  {
   "cell_type": "code",
   "execution_count": 18,
   "id": "0ce5ef6f",
   "metadata": {},
   "outputs": [
    {
     "name": "stdout",
     "output_type": "stream",
     "text": [
      "/home/ec2-user/SageMaker/Neural-Collaborative-Filtering-On-SageMaker/3_MLOps/6_sm-eventbridge/ncf-training-repo\n",
      "[master 79ea8b7] Add new files\n",
      " Committer: EC2 Default User <ec2-user@ip-172-16-26-229.ap-northeast-2.compute.internal>\n",
      "Your name and email address were configured automatically based\n",
      "on your username and hostname. Please check that they are accurate.\n",
      "You can suppress this message by setting them explicitly:\n",
      "\n",
      "    git config --global user.name \"Your Name\"\n",
      "    git config --global user.email you@example.com\n",
      "\n",
      "After doing this, you may fix the identity used for this commit with:\n",
      "\n",
      "    git commit --amend --reset-author\n",
      "\n",
      " 2 files changed, 2 insertions(+), 1 deletion(-)\n"
     ]
    },
    {
     "name": "stderr",
     "output_type": "stream",
     "text": [
      "remote: Validating objects: 100%        \n",
      "To https://git-codecommit.ap-northeast-2.amazonaws.com/v1/repos/ncf-training-repo\n",
      "   9de4acf..79ea8b7  master -> master\n"
     ]
    }
   ],
   "source": [
    "%%sh -s {repository_name} \n",
    "repository_name=$1\n",
    "cd $repository_name\n",
    "date >> pushtime.log\n",
    "echo $PWD\n",
    "git add .\n",
    "git commit -m \"Add new files\"\n",
    "git push origin master\n"
   ]
  },
  {
   "cell_type": "markdown",
   "id": "e8eb10e9-1262-42fd-b47f-96c99747aa9f",
   "metadata": {},
   "source": [
    "# 8. 변수 저장"
   ]
  },
  {
   "cell_type": "code",
   "execution_count": 19,
   "id": "153a663c-bff7-4e9f-9bb7-0ac7fe976bc2",
   "metadata": {},
   "outputs": [
    {
     "name": "stdout",
     "output_type": "stream",
     "text": [
      "Stored 'eventbridge_rule_name1' (str)\n",
      "Stored 'codepipeline_name1' (str)\n"
     ]
    }
   ],
   "source": [
    "%store eventbridge_rule_name1\n",
    "%store codepipeline_name1"
   ]
  },
  {
   "cell_type": "markdown",
   "id": "17879b8a-d8c8-48a5-be72-b842aa4e9d90",
   "metadata": {},
   "source": [
    "# 9. EventBridge Rule 및 CodePipeline 실행 확인 (콘솔 화면)"
   ]
  },
  {
   "cell_type": "markdown",
   "id": "6f0ea106-d558-4b9a-82be-6d6f4ba12f7a",
   "metadata": {},
   "source": [
    "## 9.1 EventBridge Rule 생성 확인\n",
    "#### 하단에 codepipeline1이 생성된 것을 확인할 수 있습니다."
   ]
  },
  {
   "cell_type": "markdown",
   "id": "482d939e-cbe4-4cf9-bb9b-bf3ccbb0cd7a",
   "metadata": {},
   "source": [
    "![eventbridge1.png](img/eventbridge1.png)"
   ]
  },
  {
   "cell_type": "markdown",
   "id": "25a0aaf4-02d5-43c4-81a5-1838544ef818",
   "metadata": {},
   "source": [
    "## 9.2 codepipelinerule1 의 Event pattern 확인"
   ]
  },
  {
   "cell_type": "markdown",
   "id": "8842f505-32ae-4567-ba20-48b98134c5b6",
   "metadata": {},
   "source": [
    "![eventbridge1-eventpattern.png](img/eventbridge1-eventpattern.png)"
   ]
  },
  {
   "cell_type": "markdown",
   "id": "ef30ff67-d539-461c-b407-b90ce6742918",
   "metadata": {},
   "source": [
    "## 9.3 codepipelinerule1의 Target 확인"
   ]
  },
  {
   "cell_type": "markdown",
   "id": "06b02567-f366-468b-8eb2-8e1d1b005058",
   "metadata": {},
   "source": [
    "![eventbridge1-target.png](img/eventbridge1-target.png)"
   ]
  },
  {
   "cell_type": "markdown",
   "id": "0a1827bb-4b38-4c18-9cc1-e43fd8b0b168",
   "metadata": {},
   "source": [
    "## 9.4 EventBridge를 통한 CodePipeline 실행 확인"
   ]
  },
  {
   "cell_type": "markdown",
   "id": "e74c259d-9a00-4698-b4e9-130665a55877",
   "metadata": {},
   "source": [
    "![codepipeline-training-inprogress1.png](img/codepipeline-training-inprogress1.png)"
   ]
  },
  {
   "cell_type": "code",
   "execution_count": null,
   "id": "6e9cb2a2-b9ad-4800-bf63-a749d7d6743b",
   "metadata": {},
   "outputs": [],
   "source": []
  },
  {
   "cell_type": "code",
   "execution_count": null,
   "id": "215242ba-5734-46bf-a409-3659dfb8b6a4",
   "metadata": {},
   "outputs": [],
   "source": []
  }
 ],
 "metadata": {
  "kernelspec": {
   "display_name": "conda_python3",
   "language": "python",
   "name": "conda_python3"
  },
  "language_info": {
   "codemirror_mode": {
    "name": "ipython",
    "version": 3
   },
   "file_extension": ".py",
   "mimetype": "text/x-python",
   "name": "python",
   "nbconvert_exporter": "python",
   "pygments_lexer": "ipython3",
   "version": "3.8.12"
  }
 },
 "nbformat": 4,
 "nbformat_minor": 5
}
