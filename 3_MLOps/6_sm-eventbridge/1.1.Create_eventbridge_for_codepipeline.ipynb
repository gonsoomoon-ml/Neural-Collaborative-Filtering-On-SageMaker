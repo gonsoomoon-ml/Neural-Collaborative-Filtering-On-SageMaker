{
 "cells": [
  {
   "cell_type": "markdown",
   "id": "8731ca8d",
   "metadata": {},
   "source": [
    "# [모듈 1.1] EventBridge를 통해 CodePipeline 수행"
   ]
  },
  {
   "cell_type": "markdown",
   "id": "ab0a3761",
   "metadata": {},
   "source": [
    "이 노트북은 CodeCommit 레파지토리에 'SageMaker Pipeline config 파일(sm_pipeline_train_config.json)'이 push 되면, EventBridge를 통해 CodePipeline을 실행하는 노트북 입니다.\n",
    "\n",
    "## 참고 자료\n",
    "- Boto3 Docs : EventBridge\n",
    "   (https://boto3.amazonaws.com/v1/documentation/api/latest/reference/services/events.html)\n",
    "- Boto3 Docs : IAM\n",
    "   (https://boto3.amazonaws.com/v1/documentation/api/latest/reference/services/iam.html)\n",
    "\n"
   ]
  },
  {
   "cell_type": "markdown",
   "id": "db4f9d8c",
   "metadata": {
    "tags": []
   },
   "source": [
    "# 1. 환경 확인"
   ]
  },
  {
   "cell_type": "code",
   "execution_count": null,
   "id": "63b692a8",
   "metadata": {},
   "outputs": [],
   "source": [
    "%load_ext autoreload\n",
    "%autoreload 2\n",
    "\n",
    "import sys\n",
    "import sagemaker\n",
    "import boto3\n",
    "sys.path.append('./src')\n",
    "\n",
    "%store -r s3_input_data_uri\n",
    "print(\"s3_input_data_uri: n\", s3_input_data_uri)\n"
   ]
  },
  {
   "cell_type": "markdown",
   "id": "d944f190",
   "metadata": {},
   "source": [
    "# 2. 파라미터 세팅"
   ]
  },
  {
   "cell_type": "code",
   "execution_count": null,
   "id": "3ecea166",
   "metadata": {},
   "outputs": [],
   "source": [
    "# 기본 정보\n",
    "region = sagemaker.Session().boto_region_name\n",
    "account_id = boto3.client('sts').get_caller_identity().get('Account')\n",
    "training_files = 'training'\n",
    "\n",
    "# Codecommit Repo Name\n",
    "repository_name = \"ncf-train\"\n",
    "\n",
    "# code pipeline name, arn, role_arn\n",
    "codepipeline_name = \"ncf-training-code-pipeline\"\n",
    "codepipeline_arn = boto3.client('codepipeline').get_pipeline(name = codepipeline_name).get('metadata').get('pipelineArn')\n",
    "\n",
    "# EventBridge Rule Name\n",
    "eventbridge_rule_name = \"codepipelinerule\"\n",
    "\n",
    "# EventBridge CodePipeline Execution Role and Policy\n",
    "eventbridge_role_name = 'eventbridge_codepipeline_execution_role'\n",
    "eventbridge_policy_name = 'eventbridge_invoke_codepipeline_policy'\n",
    "\n",
    "# Training data (S3 prefix)\n",
    "data_prefix = \"NCFModel/data2\""
   ]
  },
  {
   "cell_type": "markdown",
   "id": "8da05f84-e738-4d0f-a9bd-9940373259f3",
   "metadata": {},
   "source": [
    "# 3. EventBridge Rule 정의"
   ]
  },
  {
   "cell_type": "markdown",
   "id": "16278ac3-5885-4a4f-8df8-23135bb4bb57",
   "metadata": {},
   "source": [
    "## 3.1 EventPattern 정의"
   ]
  },
  {
   "cell_type": "markdown",
   "id": "7d5fc6c5-17fd-4f72-a126-34e6db7406a9",
   "metadata": {},
   "source": [
    "#### 아래 CodeCommit arn 출력값을 복사해서 resources 에 붙여넣으세요"
   ]
  },
  {
   "cell_type": "code",
   "execution_count": null,
   "id": "43fe4384-b487-49a1-8011-0fa73c2a2c9e",
   "metadata": {},
   "outputs": [],
   "source": [
    "# Codecommit Arn\n",
    "repository_arn = boto3.client('codecommit').get_repository(repositoryName = repository_name).get('repositoryMetadata').get('Arn')\n",
    "print(repository_arn)"
   ]
  },
  {
   "cell_type": "code",
   "execution_count": null,
   "id": "c3e720b8-e4e5-48e8-ac93-79346e2f67bb",
   "metadata": {},
   "outputs": [],
   "source": [
    "eventclient = boto3.client('events')\n",
    "\n",
    "eventresponse = eventclient.put_rule(\n",
    "    Name = eventbridge_rule_name,\n",
    "    EventPattern = \"\"\"{\n",
    "        \"source\": [\"aws.codecommit\"],\n",
    "        \"detail-type\": [\"CodeCommit Repository State Change\"],\n",
    "        \"resources\": [\"arn:aws:codecommit:us-east-1:376278017302:ncf-train\"],\n",
    "        \"detail\": {\n",
    "            \"referenceType\": [\"branch\"],\n",
    "            \"referenceName\": [\"master\"]\n",
    "        }\n",
    "    }\"\"\"\n",
    ")\n",
    "\n",
    "print(eventresponse)"
   ]
  },
  {
   "cell_type": "markdown",
   "id": "15a0f22c-0235-4c19-b082-84062267cffb",
   "metadata": {},
   "source": [
    "## 3.2 Event Target (CodePipeline excution)을 위한 IAM Role 생성"
   ]
  },
  {
   "cell_type": "markdown",
   "id": "36d6c889-51e8-4327-a497-6576cfc7551c",
   "metadata": {},
   "source": [
    "### 3.2.1 Role 생성"
   ]
  },
  {
   "cell_type": "code",
   "execution_count": null,
   "id": "242ef297-849c-4364-8c9a-d9b3eacfd8cb",
   "metadata": {},
   "outputs": [],
   "source": [
    "import json\n",
    "import boto3\n",
    "\n",
    "# Create an IAM client\n",
    "iam = boto3.client('iam')\n",
    "\n",
    "trust_policy = {\n",
    "    \"Version\": \"2012-10-17\",\n",
    "    \"Statement\": [\n",
    "        {\n",
    "            \"Effect\": \"Allow\",\n",
    "            \"Principal\": {\n",
    "                \"Service\": \"events.amazonaws.com\"\n",
    "            },\n",
    "            \"Action\": \"sts:AssumeRole\"\n",
    "        }\n",
    "    ]\n",
    "}\n",
    "\n",
    "# Create a new IAM role with the necessary permissions\n",
    "response2 = iam.create_role(\n",
    "    RoleName = eventbridge_role_name,\n",
    "    AssumeRolePolicyDocument = json.dumps(trust_policy)\n",
    ")\n",
    "\n",
    "# Get the Amazon Resource Name (ARN) of the newly-created role\n",
    "role_arn = response2['Role']['Arn']\n",
    "print(role_arn)"
   ]
  },
  {
   "cell_type": "markdown",
   "id": "5f268213-d169-4593-be14-d71a1f9ea373",
   "metadata": {},
   "source": [
    "### 3.2.2 Policy 생성"
   ]
  },
  {
   "cell_type": "code",
   "execution_count": null,
   "id": "8c0c8818-4909-486b-b205-e4a7ad7dca52",
   "metadata": {},
   "outputs": [],
   "source": [
    "import json\n",
    "import boto3\n",
    "\n",
    "# Create an IAM client\n",
    "iam = boto3.client('iam')\n",
    "\n",
    "eventbridge_invoke_codepipeline_policy = {\n",
    "    \"Version\": \"2012-10-17\",\n",
    "    \"Statement\": [\n",
    "        {\n",
    "            \"Effect\": \"Allow\",\n",
    "            \"Action\": \"codepipeline:StartPipelineExecution\",\n",
    "            \"Resource\": \"*\"\n",
    "        }\n",
    "    ]\n",
    "}\n",
    "\n",
    "response1 = iam.create_policy(\n",
    "    PolicyName = eventbridge_policy_name,\n",
    "    Path = '/',\n",
    "    PolicyDocument = json.dumps(eventbridge_invoke_codepipeline_policy)\n",
    ")\n",
    "\n",
    "# Get the Amazon Resource Name (ARN) of the newly-created policy\n",
    "policy_arn = response1['Policy']['Arn']\n",
    "print(policy_arn)"
   ]
  },
  {
   "cell_type": "markdown",
   "id": "904fd1b6-4631-4b60-8d52-fdd7e3307371",
   "metadata": {},
   "source": [
    "### 3.2.3 Role에 Policy Attach"
   ]
  },
  {
   "cell_type": "code",
   "execution_count": null,
   "id": "60d83817-4b71-4695-8f1f-df38e6878d53",
   "metadata": {},
   "outputs": [],
   "source": [
    "response3 = iam.attach_role_policy(\n",
    "    RoleName = eventbridge_role_name,\n",
    "    PolicyArn = policy_arn\n",
    ")\n",
    "print(response3)"
   ]
  },
  {
   "cell_type": "markdown",
   "id": "42f581ab-4f13-440e-af0d-527349f9bcd1",
   "metadata": {},
   "source": [
    "## 3.3 Event Target 설정"
   ]
  },
  {
   "cell_type": "code",
   "execution_count": null,
   "id": "7ef00945-4fbb-41d3-9a6b-9a0a54d3f6f0",
   "metadata": {},
   "outputs": [],
   "source": [
    "eventresponse = eventclient.put_targets(\n",
    "    Rule = eventbridge_rule_name,\n",
    "    Targets = [\n",
    "        {\n",
    "            'Arn' : codepipeline_arn,\n",
    "            'Id' : codepipeline_name,\n",
    "            'RoleArn' : role_arn\n",
    "        }\n",
    "    ]\n",
    ")\n",
    "\n",
    "print(eventresponse)"
   ]
  },
  {
   "cell_type": "markdown",
   "id": "558d89be",
   "metadata": {},
   "source": [
    "# 4. 리파지토리 로컬에 클로닝\n",
    "### Repository URL을 확인 후 복사해서 아래의 repository_url에 붙여넣기 해주세요.\n",
    "### repository_url :\n",
    "```\n",
    "repository_url =  \"https://git-codecommit.us-east-1.amazonaws.com/v1/repos/ncf-train\"\n",
    "```"
   ]
  },
  {
   "cell_type": "code",
   "execution_count": null,
   "id": "249cee8d",
   "metadata": {},
   "outputs": [],
   "source": [
    "repository_url =  \"https://git-codecommit.us-east-1.amazonaws.com/v1/repos/ncf-train\"\n",
    "# repository_url = \"<Repository URL>\""
   ]
  },
  {
   "cell_type": "code",
   "execution_count": null,
   "id": "d421349b",
   "metadata": {},
   "outputs": [],
   "source": [
    "%%sh -s {repository_url} {repository_name}\n",
    "\n",
    "repository_url=$1\n",
    "repository_name=$2\n",
    "\n",
    "rm -rf $repository_name\n",
    "\n",
    "git clone $repository_url "
   ]
  },
  {
   "cell_type": "markdown",
   "id": "b5f1fb86-4a0c-470d-8d9f-0961abd7922c",
   "metadata": {},
   "source": [
    "# 5. 새로운 SageMaker Pipeline (Training) 구성 파일 준비"
   ]
  },
  {
   "cell_type": "markdown",
   "id": "d2f6f41b-fd09-407b-9737-448eb4b44f77",
   "metadata": {},
   "source": [
    "## 5.1. 변수 설정 및 dict 로 저장"
   ]
  },
  {
   "cell_type": "code",
   "execution_count": null,
   "id": "f5d9c23d-870a-4939-8b8c-9f6e823c4099",
   "metadata": {},
   "outputs": [],
   "source": [
    "project_prefix = \"SageMaker-Train-NCF\"\n",
    "bucket = sagemaker.Session().default_bucket()\n",
    "\n",
    "sm_pipeline_name = \"ncf-sm-pipeline\"\n",
    "ModelApprovalStatus=\"PendingManualApproval\"\n",
    "inference_image_uri = \"763104351884.dkr.ecr.us-east-1.amazonaws.com/pytorch-inference:1.8.1-gpu-py3\"\n",
    "training_instance_type = \"ml.p3.2xlarge\"\n",
    "training_instance_count = 1\n",
    "\n",
    "sm_pipeline_train_config_json_path = f'src/sm_pipeline_train_config.json'"
   ]
  },
  {
   "cell_type": "code",
   "execution_count": null,
   "id": "56621ac4-4d55-46ab-b29a-4d9d1ff87291",
   "metadata": {},
   "outputs": [],
   "source": [
    "sm_train_pipeline_dict = {\n",
    "    \"project_prefix\" : project_prefix,            \n",
    "    \"s3_input_data_uri\" : s3_input_data_uri,\n",
    "    \"sm_pipeline_name\" : sm_pipeline_name,\n",
    "    \"training_instance_type\" :  training_instance_type,    \n",
    "    \"training_instance_count\" :  training_instance_count,        \n",
    "    \"ModelApprovalStatus\" :  ModelApprovalStatus,    \n",
    "    \"inference_image_uri\" :  inference_image_uri,\n",
    "    \"bucket\" : bucket,            \n",
    "}"
   ]
  },
  {
   "cell_type": "markdown",
   "id": "1c8579c0-aec1-48a4-a428-a110b6fdda35",
   "metadata": {},
   "source": [
    "## 5.2. 설정 딕션너리 Json 파일로 저장 후 테스트를 위해 로딩"
   ]
  },
  {
   "cell_type": "code",
   "execution_count": null,
   "id": "ff13f76a-52af-4bd3-9473-0110e86614f6",
   "metadata": {},
   "outputs": [],
   "source": [
    "from common_utils import save_json, load_json\n",
    "\n",
    "save_json(sm_pipeline_train_config_json_path, sm_train_pipeline_dict)\n",
    "sm_pipeline_train_dict = load_json(sm_pipeline_train_config_json_path)\n",
    "print (json.dumps(sm_pipeline_train_dict, indent=2))"
   ]
  },
  {
   "cell_type": "markdown",
   "id": "ed9a7aea-d4a3-4f28-86a7-4ae93c9ae8b1",
   "metadata": {},
   "source": [
    "## 5.3 Config 파일 복사"
   ]
  },
  {
   "cell_type": "markdown",
   "id": "c1619143-6701-44f8-9c35-d605000962d8",
   "metadata": {},
   "source": [
    "### 5.3.1 sm_pipeline_train_config_json 파일"
   ]
  },
  {
   "cell_type": "code",
   "execution_count": null,
   "id": "285e5313-e0f5-4855-8c38-a69109d59025",
   "metadata": {},
   "outputs": [],
   "source": [
    "source_path = sm_pipeline_train_config_json_path\n",
    "target_path = 'codecommit/pipelines/ncf/src/'\n",
    "\n",
    "! cp {source_path} {target_path}"
   ]
  },
  {
   "cell_type": "markdown",
   "id": "e0807cd8",
   "metadata": {},
   "source": [
    "# 6. SageMaker Pipeline config 파일을 로컬 레파지토리 디렉토리에 복사"
   ]
  },
  {
   "cell_type": "code",
   "execution_count": null,
   "id": "63faa741",
   "metadata": {},
   "outputs": [],
   "source": [
    "%%sh -s {repository_name} {training_files}\n",
    "repository_name=$1\n",
    "training_files=$2\n",
    "\n",
    "cp $training_files/* $repository_name\n",
    "ls $repository_name"
   ]
  },
  {
   "cell_type": "markdown",
   "id": "41a04333",
   "metadata": {},
   "source": [
    "# 7. 리파지토리에 푸시 (이벤트 발생)"
   ]
  },
  {
   "cell_type": "code",
   "execution_count": null,
   "id": "0ce5ef6f",
   "metadata": {},
   "outputs": [],
   "source": [
    "%%sh -s {repository_name} \n",
    "repository_name=$1\n",
    "cd $repository_name\n",
    "echo $PWD\n",
    "git add .\n",
    "git commit -m \"Add new files\"\n",
    "git push origin master\n"
   ]
  },
  {
   "cell_type": "markdown",
   "id": "e8eb10e9-1262-42fd-b47f-96c99747aa9f",
   "metadata": {},
   "source": [
    "# 8. 변수 저장"
   ]
  },
  {
   "cell_type": "code",
   "execution_count": null,
   "id": "153a663c-bff7-4e9f-9bb7-0ac7fe976bc2",
   "metadata": {},
   "outputs": [],
   "source": [
    "%store eventbridge_rule_name\n",
    "%store codepipeline_name\n",
    "%store eventbridge_role_name\n",
    "%store eventbridge_policy_name\n",
    "%store policy_arn\n",
    "%store sm_pipeline_train_config_json_path"
   ]
  }
 ],
 "metadata": {
  "kernelspec": {
   "display_name": "conda_python3",
   "language": "python",
   "name": "conda_python3"
  },
  "language_info": {
   "codemirror_mode": {
    "name": "ipython",
    "version": 3
   },
   "file_extension": ".py",
   "mimetype": "text/x-python",
   "name": "python",
   "nbconvert_exporter": "python",
   "pygments_lexer": "ipython3",
   "version": "3.8.12"
  }
 },
 "nbformat": 4,
 "nbformat_minor": 5
}
