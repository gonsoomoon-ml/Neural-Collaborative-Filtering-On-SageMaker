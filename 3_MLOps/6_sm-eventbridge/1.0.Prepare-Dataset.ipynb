{
 "cells": [
  {
   "cell_type": "markdown",
   "metadata": {},
   "source": [
    "# [모듈 1.0] 데이터 준비 및 환경 세팅\n",
    "\n",
    "이 노트북에서는 아래와 같이 데이터 준비를 합니다.\n",
    "- 노트북에서 사용할 변수를 설정합니다.\n",
    "- 훈련 스텝에서 개별적으로 사용할 데이터 세트를 S3에 업로딩 합니다.\n",
    "\n",
    "---"
   ]
  },
  {
   "cell_type": "markdown",
   "metadata": {},
   "source": [
    "# 1. 환경 셋업"
   ]
  },
  {
   "cell_type": "markdown",
   "metadata": {},
   "source": [
    "## 1.1. 기본 세팅\n",
    "사용하는 패키지는 import 시점에 다시 재로딩 합니다."
   ]
  },
  {
   "cell_type": "code",
   "execution_count": 1,
   "metadata": {},
   "outputs": [],
   "source": [
    "%load_ext autoreload\n",
    "%autoreload 2\n",
    "\n",
    "import sys\n",
    "sys.path.append('./src')"
   ]
  },
  {
   "cell_type": "code",
   "execution_count": 2,
   "metadata": {},
   "outputs": [],
   "source": [
    "### 커스텀 라이브러리\n",
    "import config "
   ]
  },
  {
   "cell_type": "markdown",
   "metadata": {},
   "source": [
    "버킷 및 폴더(prefix) 설정"
   ]
  },
  {
   "cell_type": "code",
   "execution_count": 3,
   "metadata": {},
   "outputs": [],
   "source": [
    "import sagemaker\n",
    "\n",
    "sagemaker_session = sagemaker.Session()\n",
    "role = sagemaker.get_execution_role()\n",
    "\n",
    "use_default_bucket = True\n",
    "if use_default_bucket:\n",
    "    bucket = sagemaker_session.default_bucket()\n",
    "else:\n",
    "    bucket = '<Type your bucket>'\n",
    "    "
   ]
  },
  {
   "cell_type": "markdown",
   "metadata": {},
   "source": [
    "## 1.2. 프로젝트 변수 설정"
   ]
  },
  {
   "cell_type": "code",
   "execution_count": 4,
   "metadata": {},
   "outputs": [],
   "source": [
    "project_prefix = \"NCFModel\"\n",
    "data_prefix = \"NCFModel/data2\"\n",
    "model_package_group_name = \"NCFModel\""
   ]
  },
  {
   "cell_type": "markdown",
   "metadata": {},
   "source": [
    "# 2 데이터 세트를 S3에 업로드\n"
   ]
  },
  {
   "cell_type": "markdown",
   "metadata": {},
   "source": [
    "## 2.1. 로컬에 있는 데이타 세트의 위치를 지정 합니다."
   ]
  },
  {
   "cell_type": "code",
   "execution_count": 5,
   "metadata": {},
   "outputs": [
    {
     "name": "stdout",
     "output_type": "stream",
     "text": [
      "local_inputs:  ../../data/\n"
     ]
    }
   ],
   "source": [
    "local_inputs = config.main_path\n",
    "print(\"local_inputs: \", local_inputs)"
   ]
  },
  {
   "cell_type": "markdown",
   "metadata": {},
   "source": [
    "## 2.2. 데이터 세트를 S3에 업로드\n"
   ]
  },
  {
   "cell_type": "code",
   "execution_count": 6,
   "metadata": {},
   "outputs": [],
   "source": [
    "\n",
    "# S3에 저장되는 데이터의 기본 폴더 위치\n",
    "s3_input_data_uri = f\"s3://{bucket}/{data_prefix}\"\n"
   ]
  },
  {
   "cell_type": "code",
   "execution_count": 7,
   "metadata": {},
   "outputs": [
    {
     "name": "stdout",
     "output_type": "stream",
     "text": [
      "2022-12-20 03:39:49    2891424 NCFModel/data2/ml-1m.test.negative\n",
      "2022-12-20 03:39:48     128039 NCFModel/data2/ml-1m.test.rating\n",
      "2022-12-20 03:39:48   20982911 NCFModel/data2/ml-1m.train.rating\n"
     ]
    }
   ],
   "source": [
    "! aws s3 ls {s3_input_data_uri} --recursive"
   ]
  },
  {
   "cell_type": "code",
   "execution_count": 8,
   "metadata": {},
   "outputs": [
    {
     "name": "stdout",
     "output_type": "stream",
     "text": [
      "delete: s3://sagemaker-us-east-1-376278017302/NCFModel/data2/ml-1m.test.negative\n",
      "delete: s3://sagemaker-us-east-1-376278017302/NCFModel/data2/ml-1m.test.rating\n",
      "delete: s3://sagemaker-us-east-1-376278017302/NCFModel/data2/ml-1m.train.rating\n"
     ]
    }
   ],
   "source": [
    "! aws s3 rm {s3_input_data_uri} --recursive"
   ]
  },
  {
   "cell_type": "code",
   "execution_count": 9,
   "metadata": {},
   "outputs": [
    {
     "name": "stdout",
     "output_type": "stream",
     "text": [
      "s3://sagemaker-us-east-1-376278017302/NCFModel/data2\n"
     ]
    }
   ],
   "source": [
    "_ = sagemaker.s3.S3Uploader.upload(\n",
    "    local_path=local_inputs, \n",
    "    desired_s3_uri=s3_input_data_uri,    \n",
    ")\n",
    "print(s3_input_data_uri)\n",
    "\n"
   ]
  },
  {
   "cell_type": "code",
   "execution_count": 10,
   "metadata": {},
   "outputs": [
    {
     "name": "stdout",
     "output_type": "stream",
     "text": [
      "2022-12-22 04:26:54    2891424 NCFModel/data2/ml-1m.test.negative\n",
      "2022-12-22 04:26:54     128039 NCFModel/data2/ml-1m.test.rating\n",
      "2022-12-22 04:26:54   20982911 NCFModel/data2/ml-1m.train.rating\n"
     ]
    }
   ],
   "source": [
    "! aws s3 ls {s3_input_data_uri} --recursive"
   ]
  },
  {
   "cell_type": "markdown",
   "metadata": {},
   "source": [
    "# 3..변수 저장\n",
    "---\n",
    "다음 노트북에서 사용할 변수를 저장합니다."
   ]
  },
  {
   "cell_type": "code",
   "execution_count": 11,
   "metadata": {},
   "outputs": [
    {
     "name": "stdout",
     "output_type": "stream",
     "text": [
      "Stored 'project_prefix' (str)\n",
      "Stored 's3_input_data_uri' (str)\n",
      "Stored 'bucket' (str)\n",
      "Stored 'local_inputs' (str)\n",
      "Stored 'model_package_group_name' (str)\n"
     ]
    }
   ],
   "source": [
    "%store project_prefix\n",
    "%store s3_input_data_uri\n",
    "%store bucket\n",
    "%store local_inputs\n",
    "%store model_package_group_name\n",
    "\n"
   ]
  },
  {
   "cell_type": "code",
   "execution_count": null,
   "metadata": {},
   "outputs": [],
   "source": []
  }
 ],
 "metadata": {
  "instance_type": "ml.m5.large",
  "kernelspec": {
   "display_name": "conda_python3",
   "language": "python",
   "name": "conda_python3"
  },
  "language_info": {
   "codemirror_mode": {
    "name": "ipython",
    "version": 3
   },
   "file_extension": ".py",
   "mimetype": "text/x-python",
   "name": "python",
   "nbconvert_exporter": "python",
   "pygments_lexer": "ipython3",
   "version": "3.8.12"
  }
 },
 "nbformat": 4,
 "nbformat_minor": 4
}
