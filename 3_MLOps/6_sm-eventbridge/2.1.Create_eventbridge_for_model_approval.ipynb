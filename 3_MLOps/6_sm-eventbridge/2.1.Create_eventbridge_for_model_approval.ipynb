{
 "cells": [
  {
   "cell_type": "markdown",
   "id": "8731ca8d",
   "metadata": {},
   "source": [
    "# [모듈 2.1] Model Approval을 하면 EventBridge를 통해 CodePipeline 수행"
   ]
  },
  {
   "cell_type": "markdown",
   "id": "ab0a3761",
   "metadata": {},
   "source": [
    "이 노트북은 CodeCommit 레파지토리에 'SageMaker Pipeline config 파일(sm_pipeline_serving_config.json)'을 수정 후 push 하면, EventBridge를 통해 CodePipeline을 실행하는 노트북 입니다. \n",
    "\n",
    "## 참고 자료\n",
    "- Amazon EventBridge 유저 가이드\n",
    "   (https://docs.aws.amazon.com/eventbridge/latest/userguide/eb-what-is.html)\n",
    "- Boto3 Docs : EventBridge\n",
    "   (https://boto3.amazonaws.com/v1/documentation/api/latest/reference/services/events.html)\n",
    "\n"
   ]
  },
  {
   "cell_type": "markdown",
   "id": "db4f9d8c",
   "metadata": {
    "tags": []
   },
   "source": [
    "# 1. 환경 확인"
   ]
  },
  {
   "cell_type": "code",
   "execution_count": null,
   "id": "63b692a8",
   "metadata": {},
   "outputs": [],
   "source": [
    "%load_ext autoreload\n",
    "%autoreload 2\n",
    "\n",
    "import sys\n",
    "import sagemaker\n",
    "import boto3\n",
    "sys.path.append('./src')\n"
   ]
  },
  {
   "cell_type": "markdown",
   "id": "558d89be",
   "metadata": {},
   "source": [
    "# 2. 리파지토리 로컬에 클로닝\n",
    "\n",
    "### repository_url :\n",
    "```\n",
    "repository_url =  \"https://git-codecommit.<REGION>.amazonaws.com/v1/repos/ncf-serving-repo\"\n",
    "```"
   ]
  },
  {
   "cell_type": "code",
   "execution_count": null,
   "id": "24eb588b-4d2e-4734-96dc-63430b75a0f2",
   "metadata": {},
   "outputs": [],
   "source": [
    "## Codecommit Repo Name (ncf-serving-repo)\n",
    "repository_name = \"ncf-serving-repo\"\n",
    "\n",
    "\n",
    "## 5_sm-serving-codepipeline에서 만든 서빙 용 repository name 로딩\n",
    "\n",
    "#%store -r serving_repository_name\n",
    "#repository_name = serving_repository_name\n",
    "\n",
    "print(repository_name)"
   ]
  },
  {
   "cell_type": "code",
   "execution_count": null,
   "id": "249cee8d",
   "metadata": {},
   "outputs": [],
   "source": [
    "repository_url = boto3.client('codecommit').get_repository(repositoryName = repository_name).get('repositoryMetadata').get('cloneUrlHttp')\n",
    "print(repository_url)\n",
    "\n",
    "# repository_url = \"<Repository URL>\""
   ]
  },
  {
   "cell_type": "markdown",
   "id": "4742f136-c4bf-461a-b41c-17f4b0f9fa82",
   "metadata": {},
   "source": [
    "### git clone 과정에서 아래와 같은 에러 발생시 트러블 슈팅\n",
    "[에러 처리] CalledProcessError: Command 'b'\\nrepository_url=$1\\nrepository_name=$2 .......\n",
    "--> 솔루션 : Kernel Restart 후 노트북 처음부터 다시 실행시켜 주세요."
   ]
  },
  {
   "cell_type": "code",
   "execution_count": null,
   "id": "d421349b",
   "metadata": {},
   "outputs": [],
   "source": [
    "%%sh -s {repository_url} {repository_name}\n",
    "\n",
    "repository_url=$1\n",
    "repository_name=$2\n",
    "\n",
    "rm -rf $repository_name\n",
    "\n",
    "git clone $repository_url "
   ]
  },
  {
   "cell_type": "markdown",
   "id": "d944f190",
   "metadata": {},
   "source": [
    "# 3. 파라미터 세팅"
   ]
  },
  {
   "cell_type": "code",
   "execution_count": null,
   "id": "3ecea166",
   "metadata": {},
   "outputs": [],
   "source": [
    "\n",
    "# code pipeline name, arn, role_arn\n",
    "codepipeline_name2 = \"ncf-serving-code-pipeline\"\n",
    "codepipeline_arn = boto3.client('codepipeline').get_pipeline(name = codepipeline_name2).get('metadata').get('pipelineArn')\n",
    "eventbrideexcrole_arn = boto3.client('iam').get_role(RoleName = 'MLOps-EventBridgeRole').get('Role').get('Arn')\n",
    "\n",
    "# EventBridge Rule Name\n",
    "eventbridge_rule_name2 = \"codepipelinerule2\"\n",
    "\n",
    "# EventBridge Rule의 EventPattern json 파일 경로\n",
    "eventpattern_json = f'src/serving_eventpattern.json'\n"
   ]
  },
  {
   "cell_type": "markdown",
   "id": "8da05f84-e738-4d0f-a9bd-9940373259f3",
   "metadata": {},
   "source": [
    "# 4. EventBridge Rule 정의"
   ]
  },
  {
   "cell_type": "markdown",
   "id": "16278ac3-5885-4a4f-8df8-23135bb4bb57",
   "metadata": {},
   "source": [
    "## 4.1 EventPattern 정의"
   ]
  },
  {
   "cell_type": "code",
   "execution_count": null,
   "id": "43fe4384-b487-49a1-8011-0fa73c2a2c9e",
   "metadata": {},
   "outputs": [],
   "source": [
    "# Codecommit Arn\n",
    "repository_arn = boto3.client('codecommit').get_repository(repositoryName = repository_name).get('repositoryMetadata').get('Arn')\n",
    "print(repository_arn)"
   ]
  },
  {
   "cell_type": "code",
   "execution_count": null,
   "id": "f09ef103-fce6-4e15-979e-65db2cf87987",
   "metadata": {},
   "outputs": [],
   "source": [
    "eventpattern_dict = {\n",
    "    \"source\": [\"aws.codecommit\"],\n",
    "    \"detail-type\": [\"CodeCommit Repository State Change\"],\n",
    "    \"resources\": [repository_arn],\n",
    "    \"detail\": {\n",
    "            \"referenceType\": [\"branch\"],\n",
    "            \"referenceName\": [\"master\"]\n",
    "    }\n",
    "}\n",
    "\n",
    "print(eventpattern_dict)"
   ]
  },
  {
   "cell_type": "markdown",
   "id": "7d5fc6c5-17fd-4f72-a126-34e6db7406a9",
   "metadata": {},
   "source": [
    "#### 4.1.1 설정 딕셔너리 Json 파일로 저장 후 로딩"
   ]
  },
  {
   "cell_type": "code",
   "execution_count": null,
   "id": "14431e3a-10be-43a8-9b04-ff39b08c1d4a",
   "metadata": {},
   "outputs": [],
   "source": [
    "from common_utils import save_json, load_json\n",
    "\n",
    "save_json(eventpattern_json, eventpattern_dict)\n",
    "eventpattern_dict = load_json(eventpattern_json)"
   ]
  },
  {
   "cell_type": "code",
   "execution_count": null,
   "id": "42221956-b26c-49eb-b93a-3c6cf552887c",
   "metadata": {},
   "outputs": [],
   "source": [
    "import json\n",
    "\n",
    "eventclient = boto3.client('events')\n",
    "\n",
    "eventresponse = eventclient.put_rule(\n",
    "    Name = eventbridge_rule_name2,\n",
    "    EventPattern = json.dumps(eventpattern_dict)\n",
    ")\n"
   ]
  },
  {
   "cell_type": "code",
   "execution_count": null,
   "id": "19826fb6-55f0-495a-831c-2d706b559b23",
   "metadata": {},
   "outputs": [],
   "source": [
    "eventresponse"
   ]
  },
  {
   "cell_type": "markdown",
   "id": "42f581ab-4f13-440e-af0d-527349f9bcd1",
   "metadata": {},
   "source": [
    "## 4.2 Event Target 설정"
   ]
  },
  {
   "cell_type": "code",
   "execution_count": null,
   "id": "7ef00945-4fbb-41d3-9a6b-9a0a54d3f6f0",
   "metadata": {},
   "outputs": [],
   "source": [
    "eventresponse = eventclient.put_targets(\n",
    "    Rule = eventbridge_rule_name2,\n",
    "    Targets = [\n",
    "        {\n",
    "            'Arn' : codepipeline_arn,\n",
    "            'Id' : codepipeline_name2,\n",
    "            'RoleArn' : eventbrideexcrole_arn\n",
    "        }\n",
    "    ]\n",
    ")\n"
   ]
  },
  {
   "cell_type": "code",
   "execution_count": null,
   "id": "bb0b9a98-4f9c-46b8-8c19-f3ba4bcc3363",
   "metadata": {},
   "outputs": [],
   "source": [
    "eventresponse"
   ]
  },
  {
   "cell_type": "markdown",
   "id": "b5f1fb86-4a0c-470d-8d9f-0961abd7922c",
   "metadata": {},
   "source": [
    "# 5. 새로운 SageMaker Pipeline (Serving) 구성 파일 준비"
   ]
  },
  {
   "cell_type": "markdown",
   "id": "d2f6f41b-fd09-407b-9737-448eb4b44f77",
   "metadata": {},
   "source": [
    "## 5.1. 변수 설정 및 dict 로 저장"
   ]
  },
  {
   "cell_type": "code",
   "execution_count": null,
   "id": "f5d9c23d-870a-4939-8b8c-9f6e823c4099",
   "metadata": {},
   "outputs": [],
   "source": [
    "from common_utils import save_json, load_json\n",
    "\n",
    "# 레포지토리의 sm_pipeline_serving_config.json 파일 위치 지정\n",
    "sm_pipeline_serving_config_json_path = repository_name+\"/pipelines/ncf/src/sm_pipeline_serving_config.json\"\n",
    "\n",
    "# sm_pipeline_serving_config.json 파일 내용을 Load\n",
    "sm_serving_pipeline_dict = load_json(sm_pipeline_serving_config_json_path)"
   ]
  },
  {
   "cell_type": "code",
   "execution_count": null,
   "id": "446effe2-ac7f-47cd-9753-755cfa866894",
   "metadata": {},
   "outputs": [],
   "source": [
    "from datetime import datetime\n",
    "currentDateAndTime = datetime.now()\n",
    "\n",
    "# 현재 시간을 Json 에 넣기 위함\n",
    "currentTime = currentDateAndTime.strftime(\"%Y-%m-%d-%H-%M-%S\")\n",
    "print(\"The current time is\", currentTime)"
   ]
  },
  {
   "cell_type": "markdown",
   "id": "b6c25739-c611-463b-9851-ee7018a2a8eb",
   "metadata": {},
   "source": [
    "### ModelApprovalStatus 를 \"Approved\" 로 지정 (=모델 승인)"
   ]
  },
  {
   "cell_type": "code",
   "execution_count": null,
   "id": "56621ac4-4d55-46ab-b29a-4d9d1ff87291",
   "metadata": {},
   "outputs": [],
   "source": [
    "# sm_pipeline_serving_config.json 파일에서 모델 승인 상태와 현재 시간만 업데이트\n",
    "sm_serving_pipeline_dict['ModelApprovalStatus'] = \"Approved\"\n",
    "sm_serving_pipeline_dict['update_time'] = currentTime\n",
    "\n",
    "print(sm_serving_pipeline_dict)"
   ]
  },
  {
   "cell_type": "markdown",
   "id": "1c8579c0-aec1-48a4-a428-a110b6fdda35",
   "metadata": {},
   "source": [
    "## 5.2. 설정 딕션너리 Json 파일로 저장 후 테스트를 위해 로딩"
   ]
  },
  {
   "cell_type": "code",
   "execution_count": null,
   "id": "ff13f76a-52af-4bd3-9473-0110e86614f6",
   "metadata": {},
   "outputs": [],
   "source": [
    "import json\n",
    "from common_utils import save_json, load_json\n",
    "\n",
    "save_json(sm_pipeline_serving_config_json_path, sm_serving_pipeline_dict)\n",
    "sm_pipeline_serving_dict = load_json(sm_pipeline_serving_config_json_path)\n",
    "print (json.dumps(sm_pipeline_serving_dict, indent=2))"
   ]
  },
  {
   "cell_type": "markdown",
   "id": "41a04333",
   "metadata": {},
   "source": [
    "# 6. 리파지토리에 푸시 (이벤트 트리거)"
   ]
  },
  {
   "cell_type": "code",
   "execution_count": null,
   "id": "0ce5ef6f",
   "metadata": {},
   "outputs": [],
   "source": [
    "%%sh -s {repository_name}\n",
    "repository_name=$1\n",
    "cd $repository_name\n",
    "date >> pushtime.log\n",
    "echo $PWD\n",
    "git add .\n",
    "git commit -m \"Add new files\"\n",
    "git push origin master\n"
   ]
  },
  {
   "cell_type": "markdown",
   "id": "e8eb10e9-1262-42fd-b47f-96c99747aa9f",
   "metadata": {},
   "source": [
    "# 7. 변수 저장"
   ]
  },
  {
   "cell_type": "code",
   "execution_count": null,
   "id": "153a663c-bff7-4e9f-9bb7-0ac7fe976bc2",
   "metadata": {},
   "outputs": [],
   "source": [
    "%store eventbridge_rule_name2\n",
    "%store codepipeline_name2"
   ]
  },
  {
   "cell_type": "markdown",
   "id": "d431c97d-6f4c-4e8f-8b84-2a772339d12b",
   "metadata": {},
   "source": [
    "# 8. EventBridge Rule 및 CodePipeline 실행 확인 (콘솔 화면)"
   ]
  },
  {
   "cell_type": "markdown",
   "id": "d8c2c460-06ca-4a31-8323-4a16398c3f26",
   "metadata": {},
   "source": [
    "## 9.1 EventBridge Rule 생성 확인\n",
    "#### 하단에 codepipeline2가 생성된 것을 확인할 수 있습니다."
   ]
  },
  {
   "cell_type": "markdown",
   "id": "22395c29-5080-4518-9af6-c6d9d89aa2c5",
   "metadata": {},
   "source": [
    "![eventbridge2.png](img/eventbridge2.png)"
   ]
  },
  {
   "cell_type": "markdown",
   "id": "bb5683ec-d737-4ff9-b724-b0f275b58d76",
   "metadata": {},
   "source": [
    "## 9.2 codepipelinerule2 의 Event pattern 확인"
   ]
  },
  {
   "cell_type": "markdown",
   "id": "2904d0d9-9c1b-437e-a742-57c4efc01a47",
   "metadata": {},
   "source": [
    "![eventbridge2-eventpattern.png](img/eventbridge2-eventpattern.png)"
   ]
  },
  {
   "cell_type": "markdown",
   "id": "720695d5-761f-4926-9290-673c12177f62",
   "metadata": {},
   "source": [
    "## 9.3 codepipelinerule2의 Target 확인"
   ]
  },
  {
   "cell_type": "markdown",
   "id": "beec8073-1780-4c55-bbe5-672f76a3f87f",
   "metadata": {},
   "source": [
    "![eventbridge2-target.png](img/eventbridge2-target.png)"
   ]
  },
  {
   "cell_type": "markdown",
   "id": "f1befc67-6b41-40f8-b03b-eabf77c6477c",
   "metadata": {},
   "source": [
    "## 9.4 EventBridge를 통한 CodePipeline 실행 확인"
   ]
  },
  {
   "cell_type": "markdown",
   "id": "8a0719d3-c248-4fc7-9953-b9ba5ad3e2e3",
   "metadata": {},
   "source": [
    "![codepipeline-serving-inprogress1.png](img/codepipeline-serving-inprogress1.png)"
   ]
  },
  {
   "cell_type": "code",
   "execution_count": null,
   "id": "b705d8b6-adc8-40f2-b50c-c248b4fc67c5",
   "metadata": {},
   "outputs": [],
   "source": []
  }
 ],
 "metadata": {
  "kernelspec": {
   "display_name": "conda_python3",
   "language": "python",
   "name": "conda_python3"
  },
  "language_info": {
   "codemirror_mode": {
    "name": "ipython",
    "version": 3
   },
   "file_extension": ".py",
   "mimetype": "text/x-python",
   "name": "python",
   "nbconvert_exporter": "python",
   "pygments_lexer": "ipython3",
   "version": "3.8.12"
  }
 },
 "nbformat": 4,
 "nbformat_minor": 5
}
