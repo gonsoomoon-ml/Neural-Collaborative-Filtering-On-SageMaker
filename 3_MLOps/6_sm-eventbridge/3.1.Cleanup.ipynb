{
 "cells": [
  {
   "cell_type": "markdown",
   "id": "bb8426f7",
   "metadata": {},
   "source": [
    "# [모듈 3.1] 리소스 클린업"
   ]
  },
  {
   "cell_type": "markdown",
   "id": "590b4e52",
   "metadata": {},
   "source": [
    "# 1. 환경 설정"
   ]
  },
  {
   "cell_type": "code",
   "execution_count": null,
   "id": "c2930d13",
   "metadata": {},
   "outputs": [],
   "source": [
    "%store -r eventbridge_rule_name1\n",
    "%store -r codepipeline_name1\n",
    "%store -r eventbridge_rule_name2\n",
    "%store -r codepipeline_name2\n",
    "\n",
    "import boto3\n",
    "\n",
    "events = boto3.client('events')"
   ]
  },
  {
   "cell_type": "markdown",
   "id": "5050e16f",
   "metadata": {},
   "source": [
    "# 2. 이벤트브릿지 룰 및 타겟 삭제"
   ]
  },
  {
   "cell_type": "code",
   "execution_count": null,
   "id": "76493100",
   "metadata": {},
   "outputs": [],
   "source": [
    "response = events.remove_targets(\n",
    "    Rule = eventbridge_rule_name2,\n",
    "    Ids = [codepipeline_name2]\n",
    ")\n",
    "\n",
    "response = events.delete_rule(\n",
    "    Name = eventbridge_rule_name2\n",
    ")\n",
    "\n",
    "\n",
    "response = events.remove_targets(\n",
    "    Rule = eventbridge_rule_name1,\n",
    "    Ids = [codepipeline_name1]\n",
    ")\n",
    "\n",
    "response = events.delete_rule(\n",
    "    Name = eventbridge_rule_name1\n",
    ")"
   ]
  },
  {
   "cell_type": "code",
   "execution_count": null,
   "id": "f68b9519-bae5-4c25-9cb9-b4ac4fe3e0df",
   "metadata": {},
   "outputs": [],
   "source": []
  }
 ],
 "metadata": {
  "kernelspec": {
   "display_name": "conda_python3",
   "language": "python",
   "name": "conda_python3"
  },
  "language_info": {
   "codemirror_mode": {
    "name": "ipython",
    "version": 3
   },
   "file_extension": ".py",
   "mimetype": "text/x-python",
   "name": "python",
   "nbconvert_exporter": "python",
   "pygments_lexer": "ipython3",
   "version": "3.8.12"
  }
 },
 "nbformat": 4,
 "nbformat_minor": 5
}
