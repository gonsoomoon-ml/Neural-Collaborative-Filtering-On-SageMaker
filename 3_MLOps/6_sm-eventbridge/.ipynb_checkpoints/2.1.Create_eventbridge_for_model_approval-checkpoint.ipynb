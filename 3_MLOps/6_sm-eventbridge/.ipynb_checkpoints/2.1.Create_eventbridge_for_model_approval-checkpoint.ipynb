{
 "cells": [
  {
   "cell_type": "markdown",
   "id": "8731ca8d",
   "metadata": {},
   "source": [
    "# [모듈 2.1] Model Approval을 하면 EventBridge를 통해 CodePipeline 수행"
   ]
  },
  {
   "cell_type": "markdown",
   "id": "ab0a3761",
   "metadata": {},
   "source": [
    "이 노트북은 CodeCommit 레파지토리에 'SageMaker Pipeline config 파일(sm_pipeline_serving_config.json)'을 수정 후 push 하면, EventBridge를 통해 CodePipeline을 실행하는 노트북 입니다.\n",
    "\n",
    "## 참고 자료\n",
    "- Amazon EventBridge 유저 가이드\n",
    "   (https://docs.aws.amazon.com/eventbridge/latest/userguide/eb-what-is.html)\n",
    "- Boto3 Docs : EventBridge\n",
    "   (https://boto3.amazonaws.com/v1/documentation/api/latest/reference/services/events.html)\n",
    "\n"
   ]
  },
  {
   "cell_type": "markdown",
   "id": "db4f9d8c",
   "metadata": {
    "tags": []
   },
   "source": [
    "# 1. 환경 확인"
   ]
  },
  {
   "cell_type": "code",
   "execution_count": null,
   "id": "63b692a8",
   "metadata": {},
   "outputs": [],
   "source": [
    "%load_ext autoreload\n",
    "%autoreload 2\n",
    "\n",
    "import sys\n",
    "import sagemaker\n",
    "import boto3\n",
    "sys.path.append('./src')\n"
   ]
  },
  {
   "cell_type": "markdown",
   "id": "558d89be",
   "metadata": {},
   "source": [
    "# 2. 리파지토리 로컬에 클로닝\n",
    "\n",
    "### repository_url :\n",
    "```\n",
    "repository_url =  \"https://git-codecommit.<REGION>.amazonaws.com/v1/repos/ncf-serving-repo\"\n",
    "```"
   ]
  },
  {
   "cell_type": "code",
   "execution_count": null,
   "id": "24eb588b-4d2e-4734-96dc-63430b75a0f2",
   "metadata": {},
   "outputs": [],
   "source": [
    "# 이전 5_sm-serving-codepipeline 에서 만든 서빙 용 repository name 로딩\n",
    "#%store -r serving_repository_name\n",
    "\n",
    "# Codecommit Repo Name (ncf-serving-repo)\n",
    "#repository_name = serving_repository_name\n",
    "repository_name = \"ncf-serving-repo\"\n",
    "\n",
    "print(repository_name)"
   ]
  },
  {
   "cell_type": "code",
   "execution_count": null,
   "id": "249cee8d",
   "metadata": {},
   "outputs": [],
   "source": [
    "repository_url = boto3.client('codecommit').get_repository(repositoryName = repository_name).get('repositoryMetadata').get('cloneUrlHttp')\n",
    "print(repository_url)\n",
    "\n",
    "# repository_url = \"<Repository URL>\""
   ]
  },
  {
   "cell_type": "code",
   "execution_count": null,
   "id": "d421349b",
   "metadata": {},
   "outputs": [],
   "source": [
    "%%sh -s {repository_url} {repository_name}\n",
    "\n",
    "repository_url=$1\n",
    "repository_name=$2\n",
    "\n",
    "rm -rf $repository_name\n",
    "\n",
    "git clone $repository_url "
   ]
  },
  {
   "cell_type": "markdown",
   "id": "d944f190",
   "metadata": {},
   "source": [
    "# 3. 파라미터 세팅"
   ]
  },
  {
   "cell_type": "code",
   "execution_count": null,
   "id": "3ecea166",
   "metadata": {},
   "outputs": [],
   "source": [
    "\n",
    "# code pipeline name, arn, role_arn\n",
    "codepipeline_name2 = \"ncf-serving-code-pipeline\"\n",
    "codepipeline_arn = boto3.client('codepipeline').get_pipeline(name = codepipeline_name2).get('metadata').get('pipelineArn')\n",
    "eventbrideexcrole_arn = boto3.client('iam').get_role(RoleName = 'MLOps-EventBridgeRole').get('Role').get('Arn')\n",
    "\n",
    "# EventBridge Rule Name\n",
    "eventbridge_rule_name2 = \"codepipelinerule2\"\n",
    "\n",
    "# Training data path (Prefix)\n",
    "training_files = 'codecommit2'"
   ]
  },
  {
   "cell_type": "markdown",
   "id": "8da05f84-e738-4d0f-a9bd-9940373259f3",
   "metadata": {},
   "source": [
    "# 4. EventBridge Rule 정의"
   ]
  },
  {
   "cell_type": "markdown",
   "id": "16278ac3-5885-4a4f-8df8-23135bb4bb57",
   "metadata": {},
   "source": [
    "## 4.1 EventPattern 정의"
   ]
  },
  {
   "cell_type": "code",
   "execution_count": null,
   "id": "43fe4384-b487-49a1-8011-0fa73c2a2c9e",
   "metadata": {},
   "outputs": [],
   "source": [
    "# Codecommit Arn\n",
    "repository_arn = boto3.client('codecommit').get_repository(repositoryName = repository_name).get('repositoryMetadata').get('Arn')\n",
    "print(repository_arn)"
   ]
  },
  {
   "cell_type": "markdown",
   "id": "7d5fc6c5-17fd-4f72-a126-34e6db7406a9",
   "metadata": {},
   "source": [
    "#### 위 CodeCommit arn 출력값을 복사해서 아래 resources 부분에 붙여넣으세요."
   ]
  },
  {
   "cell_type": "code",
   "execution_count": null,
   "id": "c3e720b8-e4e5-48e8-ac93-79346e2f67bb",
   "metadata": {},
   "outputs": [],
   "source": [
    "eventclient = boto3.client('events')\n",
    "\n",
    "eventresponse = eventclient.put_rule(\n",
    "    Name = eventbridge_rule_name2,\n",
    "    EventPattern = \"\"\"{\n",
    "        \"source\": [\"aws.codecommit\"],\n",
    "        \"detail-type\": [\"CodeCommit Repository State Change\"],\n",
    "        \"resources\": [\"arn:aws:codecommit:us-east-1:376278017302:ncf-serving-repo\"],\n",
    "        \"detail\": {\n",
    "            \"referenceType\": [\"branch\"],\n",
    "            \"referenceName\": [\"master\"]\n",
    "        }\n",
    "    }\"\"\"\n",
    ")\n",
    "\n",
    "print(eventresponse)"
   ]
  },
  {
   "cell_type": "markdown",
   "id": "42f581ab-4f13-440e-af0d-527349f9bcd1",
   "metadata": {},
   "source": [
    "## 4.2 Event Target 설정"
   ]
  },
  {
   "cell_type": "code",
   "execution_count": null,
   "id": "7ef00945-4fbb-41d3-9a6b-9a0a54d3f6f0",
   "metadata": {},
   "outputs": [],
   "source": [
    "eventresponse = eventclient.put_targets(\n",
    "    Rule = eventbridge_rule_name2,\n",
    "    Targets = [\n",
    "        {\n",
    "            'Arn' : codepipeline_arn,\n",
    "            'Id' : codepipeline_name2,\n",
    "            'RoleArn' : eventbrideexcrole_arn\n",
    "        }\n",
    "    ]\n",
    ")\n",
    "\n",
    "print(eventresponse)"
   ]
  },
  {
   "cell_type": "markdown",
   "id": "b5f1fb86-4a0c-470d-8d9f-0961abd7922c",
   "metadata": {},
   "source": [
    "# 5. 새로운 SageMaker Pipeline (Serving) 구성 파일 준비"
   ]
  },
  {
   "cell_type": "markdown",
   "id": "d2f6f41b-fd09-407b-9737-448eb4b44f77",
   "metadata": {},
   "source": [
    "## 5.1. 변수 설정 및 dict 로 저장"
   ]
  },
  {
   "cell_type": "markdown",
   "id": "b6c25739-c611-463b-9851-ee7018a2a8eb",
   "metadata": {},
   "source": [
    "### ModelApprovalStatus 를 \"Approved\" 로 해서 모델 승인"
   ]
  },
  {
   "cell_type": "code",
   "execution_count": null,
   "id": "f5d9c23d-870a-4939-8b8c-9f6e823c4099",
   "metadata": {},
   "outputs": [],
   "source": [
    "endpoint_instance_type = 'ml.g4dn.xlarge'\n",
    "sm_pipeline_name = \"ncf-serving-code-pipeline-sm-pipeline\"\n",
    "bucket = sagemaker.Session().default_bucket()\n",
    "ModelApprovalStatus=\"Approved\"\n",
    "sm_pipeline_serving_config_json_path = f'src/sm_pipeline_serving_config.json'\n"
   ]
  },
  {
   "cell_type": "code",
   "execution_count": null,
   "id": "446effe2-ac7f-47cd-9753-755cfa866894",
   "metadata": {},
   "outputs": [],
   "source": [
    "from datetime import datetime\n",
    "currentDateAndTime = datetime.now()\n",
    "\n",
    "# 현재 시간을 Json 에 넣기 위함\n",
    "currentTime = currentDateAndTime.strftime(\"%Y-%m-%d-%H-%M-%S\")\n",
    "print(\"The current time is\", currentTime)"
   ]
  },
  {
   "cell_type": "code",
   "execution_count": null,
   "id": "56621ac4-4d55-46ab-b29a-4d9d1ff87291",
   "metadata": {},
   "outputs": [],
   "source": [
    "sm_train_pipeline_dict = {\n",
    "    \"sm_pipeline_name\" : sm_pipeline_name,\n",
    "    \"endpoint_instance_type\" : endpoint_instance_type,    \n",
    "    \"ModelApprovalStatus\" :  ModelApprovalStatus,    \n",
    "    \"bucket\" : bucket,            \n",
    "    \"update_time\" :  currentTime    \n",
    "}"
   ]
  },
  {
   "cell_type": "markdown",
   "id": "1c8579c0-aec1-48a4-a428-a110b6fdda35",
   "metadata": {},
   "source": [
    "## 5.2. 설정 딕션너리 Json 파일로 저장 후 테스트를 위해 로딩"
   ]
  },
  {
   "cell_type": "code",
   "execution_count": null,
   "id": "ff13f76a-52af-4bd3-9473-0110e86614f6",
   "metadata": {},
   "outputs": [],
   "source": [
    "import json\n",
    "from common_utils import save_json, load_json\n",
    "\n",
    "save_json(sm_pipeline_serving_config_json_path, sm_train_pipeline_dict)\n",
    "sm_pipeline_train_dict = load_json(sm_pipeline_serving_config_json_path)\n",
    "print (json.dumps(sm_pipeline_train_dict, indent=2))"
   ]
  },
  {
   "cell_type": "markdown",
   "id": "ed9a7aea-d4a3-4f28-86a7-4ae93c9ae8b1",
   "metadata": {},
   "source": [
    "## 5.3 Config 파일 복사"
   ]
  },
  {
   "cell_type": "markdown",
   "id": "047b1a69-8ccc-4613-8d0d-1db082501e26",
   "metadata": {},
   "source": [
    "### 5.3.1 codecommit2 폴더 생성"
   ]
  },
  {
   "cell_type": "code",
   "execution_count": null,
   "id": "00cb34d0-ce16-4a26-ba57-05d8e1285cc0",
   "metadata": {},
   "outputs": [],
   "source": [
    "newdir = training_files+\"/pipelines/ncf/src/\"\n",
    "! rm -rf $newdir\n",
    "! mkdir -p $newdir"
   ]
  },
  {
   "cell_type": "markdown",
   "id": "c1619143-6701-44f8-9c35-d605000962d8",
   "metadata": {},
   "source": [
    "### 5.3.2 sm_pipeline_train_config_json 파일"
   ]
  },
  {
   "cell_type": "code",
   "execution_count": null,
   "id": "285e5313-e0f5-4855-8c38-a69109d59025",
   "metadata": {},
   "outputs": [],
   "source": [
    "source_path = sm_pipeline_serving_config_json_path\n",
    "target_path = newdir\n",
    "\n",
    "! cp {source_path} {target_path}"
   ]
  },
  {
   "cell_type": "markdown",
   "id": "e0807cd8",
   "metadata": {},
   "source": [
    "# 6. SageMaker Pipeline config 파일을 로컬 레파지토리 디렉토리에 복사"
   ]
  },
  {
   "cell_type": "code",
   "execution_count": null,
   "id": "63faa741",
   "metadata": {},
   "outputs": [],
   "source": [
    "%%sh -s {repository_name} {training_files}\n",
    "repository_name=$1\n",
    "training_files=$2\n",
    "\n",
    "cp -r $training_files/* $repository_name\n",
    "ls $repository_name"
   ]
  },
  {
   "cell_type": "markdown",
   "id": "41a04333",
   "metadata": {},
   "source": [
    "# 7. 리파지토리에 푸시 (이벤트 트리거)"
   ]
  },
  {
   "cell_type": "code",
   "execution_count": null,
   "id": "0ce5ef6f",
   "metadata": {},
   "outputs": [],
   "source": [
    "%%sh -s {repository_name}\n",
    "repository_name=$1\n",
    "cd $repository_name\n",
    "date >> pushtime.log\n",
    "echo $PWD\n",
    "git add .\n",
    "git commit -m \"Add new files\"\n",
    "git push origin master\n"
   ]
  },
  {
   "cell_type": "markdown",
   "id": "e8eb10e9-1262-42fd-b47f-96c99747aa9f",
   "metadata": {},
   "source": [
    "# 8. 변수 저장"
   ]
  },
  {
   "cell_type": "code",
   "execution_count": null,
   "id": "153a663c-bff7-4e9f-9bb7-0ac7fe976bc2",
   "metadata": {},
   "outputs": [],
   "source": [
    "%store eventbridge_rule_name2\n",
    "%store codepipeline_name2"
   ]
  },
  {
   "cell_type": "markdown",
   "id": "d431c97d-6f4c-4e8f-8b84-2a772339d12b",
   "metadata": {},
   "source": [
    "# 9. EventBridge Rule 및 CodePipeline 실행 확인 (콘솔 화면)"
   ]
  },
  {
   "cell_type": "markdown",
   "id": "d8c2c460-06ca-4a31-8323-4a16398c3f26",
   "metadata": {},
   "source": [
    "## 9.1 EventBridge Rule 생성 확인\n",
    "#### 하단에 codepipeline2가 생성된 것을 확인할 수 있습니다."
   ]
  },
  {
   "cell_type": "markdown",
   "id": "22395c29-5080-4518-9af6-c6d9d89aa2c5",
   "metadata": {},
   "source": [
    "![eventbridge2.png](img/eventbridge2.png)"
   ]
  },
  {
   "cell_type": "markdown",
   "id": "bb5683ec-d737-4ff9-b724-b0f275b58d76",
   "metadata": {},
   "source": [
    "## 9.2 codepipelinerule2 의 Event pattern 확인"
   ]
  },
  {
   "cell_type": "markdown",
   "id": "2904d0d9-9c1b-437e-a742-57c4efc01a47",
   "metadata": {},
   "source": [
    "![eventbridge2-eventpattern.png](img/eventbridge2-eventpattern.png)"
   ]
  },
  {
   "cell_type": "markdown",
   "id": "720695d5-761f-4926-9290-673c12177f62",
   "metadata": {},
   "source": [
    "## 9.3 codepipelinerule2의 Target 확인"
   ]
  },
  {
   "cell_type": "markdown",
   "id": "beec8073-1780-4c55-bbe5-672f76a3f87f",
   "metadata": {},
   "source": [
    "![eventbridge2-target.png](img/eventbridge2-target.png)"
   ]
  },
  {
   "cell_type": "markdown",
   "id": "f1befc67-6b41-40f8-b03b-eabf77c6477c",
   "metadata": {},
   "source": [
    "## 9.4 EventBridge를 통한 CodePipeline 실행 확인"
   ]
  },
  {
   "cell_type": "markdown",
   "id": "8a0719d3-c248-4fc7-9953-b9ba5ad3e2e3",
   "metadata": {},
   "source": [
    "![codepipeline-serving-inprogress1.png](img/codepipeline-serving-inprogress1.png)"
   ]
  },
  {
   "cell_type": "code",
   "execution_count": null,
   "id": "b705d8b6-adc8-40f2-b50c-c248b4fc67c5",
   "metadata": {},
   "outputs": [],
   "source": []
  }
 ],
 "metadata": {
  "kernelspec": {
   "display_name": "conda_python3",
   "language": "python",
   "name": "conda_python3"
  },
  "language_info": {
   "codemirror_mode": {
    "name": "ipython",
    "version": 3
   },
   "file_extension": ".py",
   "mimetype": "text/x-python",
   "name": "python",
   "nbconvert_exporter": "python",
   "pygments_lexer": "ipython3",
   "version": "3.8.12"
  }
 },
 "nbformat": 4,
 "nbformat_minor": 5
}
