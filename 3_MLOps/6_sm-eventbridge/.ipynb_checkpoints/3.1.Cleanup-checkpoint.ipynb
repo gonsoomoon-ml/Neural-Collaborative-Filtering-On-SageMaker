{
 "cells": [
  {
   "cell_type": "markdown",
   "id": "bb8426f7",
   "metadata": {},
   "source": [
    "# [모듈 3.1] 리소스 클린업"
   ]
  },
  {
   "cell_type": "markdown",
   "id": "590b4e52",
   "metadata": {},
   "source": [
    "# 1. 환경 설정"
   ]
  },
  {
   "cell_type": "code",
   "execution_count": null,
   "id": "c2930d13",
   "metadata": {},
   "outputs": [],
   "source": [
    "%store -r eventbridge_rule_name1\n",
    "%store -r codepipeline_name1\n",
    "%store -r eventbridge_rule_name2\n",
    "%store -r codepipeline_name2\n",
    "%store -r eventbridge_role_name\n",
    "%store -r eventbridge_policy_name\n",
    "%store -r policy_arn\n",
    "\n",
    "import boto3\n",
    "\n",
    "events = boto3.client('events')\n",
    "iam = boto3.client('iam')"
   ]
  },
  {
   "cell_type": "markdown",
   "id": "5050e16f",
   "metadata": {},
   "source": [
    "# 2. 이벤트브릿지 룰 및 타겟 삭제"
   ]
  },
  {
   "cell_type": "code",
   "execution_count": null,
   "id": "76493100",
   "metadata": {},
   "outputs": [],
   "source": [
    "response = events.remove_targets(\n",
    "    Rule = eventbridge_rule_name2,\n",
    "    Ids = [codepipeline_name2]\n",
    ")\n",
    "\n",
    "response = events.delete_rule(\n",
    "    Name = eventbridge_rule_name2\n",
    ")\n",
    "\n",
    "\n",
    "response = events.remove_targets(\n",
    "    Rule = eventbridge_rule_name1,\n",
    "    Ids = [codepipeline_name1]\n",
    ")\n",
    "\n",
    "response = events.delete_rule(\n",
    "    Name = eventbridge_rule_name1\n",
    ")"
   ]
  },
  {
   "cell_type": "markdown",
   "id": "fd8b4f00",
   "metadata": {},
   "source": [
    "# 3. 이벤트브릿지 용 Role 에서 Policy Detach"
   ]
  },
  {
   "cell_type": "code",
   "execution_count": null,
   "id": "cb31b8d6",
   "metadata": {},
   "outputs": [],
   "source": [
    "response = iam.detach_role_policy(\n",
    "    RoleName = eventbridge_role_name,\n",
    "    PolicyArn = policy_arn\n",
    ")"
   ]
  },
  {
   "cell_type": "markdown",
   "id": "195c481a-6d90-4fc5-8965-1b8d4d621777",
   "metadata": {},
   "source": [
    "# 4. 이벤트브릿지 용 Role 삭제"
   ]
  },
  {
   "cell_type": "code",
   "execution_count": null,
   "id": "741b2001-9bff-48f7-abed-dfe2cbae4266",
   "metadata": {},
   "outputs": [],
   "source": [
    "response = iam.delete_role(\n",
    "    RoleName = eventbridge_role_name\n",
    ")"
   ]
  },
  {
   "cell_type": "markdown",
   "id": "ec0778f2-809c-4adb-981e-babae420398c",
   "metadata": {},
   "source": [
    "# 5. 이벤트브릿지 용 Policy 삭제"
   ]
  },
  {
   "cell_type": "code",
   "execution_count": null,
   "id": "c4a57dd0-c241-483c-9bd0-e11bb15a9907",
   "metadata": {},
   "outputs": [],
   "source": [
    "response = iam.delete_policy(\n",
    "    PolicyArn = policy_arn\n",
    ")"
   ]
  },
  {
   "cell_type": "code",
   "execution_count": null,
   "id": "b3ef8143-1164-424f-a129-b19ca0221572",
   "metadata": {},
   "outputs": [],
   "source": []
  }
 ],
 "metadata": {
  "kernelspec": {
   "display_name": "conda_python3",
   "language": "python",
   "name": "conda_python3"
  },
  "language_info": {
   "codemirror_mode": {
    "name": "ipython",
    "version": 3
   },
   "file_extension": ".py",
   "mimetype": "text/x-python",
   "name": "python",
   "nbconvert_exporter": "python",
   "pygments_lexer": "ipython3",
   "version": "3.8.12"
  }
 },
 "nbformat": 4,
 "nbformat_minor": 5
}
