{
 "cells": [
  {
   "cell_type": "markdown",
   "id": "c1af41d6",
   "metadata": {
    "tags": []
   },
   "source": [
    "# [Module 0.0] 환경 셋업\n",
    "\n",
    "## 본 워크샵의 모든 노트북은 `conda_python3` 를  선택해야 합니다."
   ]
  },
  {
   "cell_type": "code",
   "execution_count": null,
   "id": "fcf2e66b-4e82-4cb9-8bcd-bed0cc5554ff",
   "metadata": {},
   "outputs": [],
   "source": [
    "pip install --upgrade pip"
   ]
  },
  {
   "cell_type": "markdown",
   "id": "01f63727",
   "metadata": {},
   "source": [
    "# 환경 셋업\n",
    "- conda_python3 커널에 torch==1.8.1 등을 설치합니다.\n",
    "- [중요] 이 버전은 훈련시 파이토치 프레임워크 도커 컨테이너와 버전과 동일 합니다. "
   ]
  },
  {
   "cell_type": "code",
   "execution_count": null,
   "id": "405cc094",
   "metadata": {},
   "outputs": [],
   "source": [
    "! pip install torch==1.8.1"
   ]
  },
  {
   "cell_type": "code",
   "execution_count": null,
   "id": "81847e47",
   "metadata": {},
   "outputs": [],
   "source": [
    "import torch\n",
    "print(\"torch version: \", torch.__version__)\n"
   ]
  },
  {
   "cell_type": "markdown",
   "id": "c2b68d3f-0e9f-4e47-af22-3fe7926dd695",
   "metadata": {},
   "source": [
    "## SageMaker SDK version 설정 (2.118.0)"
   ]
  },
  {
   "cell_type": "code",
   "execution_count": null,
   "id": "4e6fbb8d-ac59-4575-b642-6d967d70c16a",
   "metadata": {
    "tags": []
   },
   "outputs": [],
   "source": [
    "!pip install --upgrade sagemaker==2.118.0"
   ]
  },
  {
   "cell_type": "code",
   "execution_count": null,
   "id": "a6e3c6df-4e07-4441-bc6b-8117a9924a5d",
   "metadata": {},
   "outputs": [],
   "source": [
    "import sagemaker\n",
    "sagemaker.__version__"
   ]
  },
  {
   "cell_type": "markdown",
   "id": "f399ba14",
   "metadata": {},
   "source": [
    "## SageMaker Experiment 설치"
   ]
  },
  {
   "cell_type": "code",
   "execution_count": null,
   "id": "e9d0795f",
   "metadata": {},
   "outputs": [],
   "source": [
    "!pip install --upgrade sagemaker-experiments"
   ]
  },
  {
   "cell_type": "markdown",
   "id": "9448f5b8",
   "metadata": {},
   "source": [
    "## 로컬 모드 셋업\n",
    "- 기본 다커 폴더 위치 변경 등을 함."
   ]
  },
  {
   "cell_type": "code",
   "execution_count": null,
   "id": "bf4cf856",
   "metadata": {},
   "outputs": [],
   "source": [
    "! bash local_mode_setup.sh"
   ]
  },
  {
   "cell_type": "code",
   "execution_count": null,
   "id": "ead84e85",
   "metadata": {},
   "outputs": [],
   "source": []
  },
  {
   "cell_type": "code",
   "execution_count": null,
   "id": "15550287-34ff-4e16-bd28-5d002212dab8",
   "metadata": {},
   "outputs": [],
   "source": []
  },
  {
   "cell_type": "code",
   "execution_count": null,
   "id": "43012b86-0d83-477a-8e0a-31021cb1bfd2",
   "metadata": {},
   "outputs": [],
   "source": []
  }
 ],
 "metadata": {
  "kernelspec": {
   "display_name": "conda_python3",
   "language": "python",
   "name": "conda_python3"
  },
  "language_info": {
   "codemirror_mode": {
    "name": "ipython",
    "version": 3
   },
   "file_extension": ".py",
   "mimetype": "text/x-python",
   "name": "python",
   "nbconvert_exporter": "python",
   "pygments_lexer": "ipython3",
   "version": "3.8.12"
  }
 },
 "nbformat": 4,
 "nbformat_minor": 5
}
