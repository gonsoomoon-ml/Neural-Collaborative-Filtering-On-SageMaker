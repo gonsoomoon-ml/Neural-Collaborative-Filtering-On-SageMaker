{
 "cells": [
  {
   "cell_type": "markdown",
   "id": "ddc662fc-dcfd-48ef-8473-10696bd278d5",
   "metadata": {},
   "source": [
    "# [모듈 3.1] Code Pipeline 생성 하기\n",
    "\n",
    "## 참고 자료\n",
    "- https://docs.aws.amazon.com/codepipeline/latest/userguide/pipelines-create.html\n"
   ]
  },
  {
   "cell_type": "markdown",
   "id": "d3630c47",
   "metadata": {},
   "source": [
    "# 1. 환경 설정\n"
   ]
  },
  {
   "cell_type": "code",
   "execution_count": 31,
   "id": "064de608",
   "metadata": {},
   "outputs": [],
   "source": [
    "%store -r repository_name\n",
    "%store -r code_build_project_name\n",
    "%store -r account_id\n",
    "%store -r region\n",
    "%store -r bucket\n",
    "\n"
   ]
  },
  {
   "cell_type": "markdown",
   "id": "95c9391c",
   "metadata": {},
   "source": [
    "# 2. 파라미터 설정"
   ]
  },
  {
   "cell_type": "code",
   "execution_count": 32,
   "id": "fbdbb145",
   "metadata": {},
   "outputs": [],
   "source": [
    "code_pipeline_name = \"ncf-training-code-pipeline\"\n",
    "pipeline_role_name = \"arn:aws:iam::057716757052:role/code-pipeline-gsmoon\"\n",
    "branch_name = 'master'\n"
   ]
  },
  {
   "cell_type": "markdown",
   "id": "2bcc6572",
   "metadata": {},
   "source": [
    "# 3. 파이프라인 JSON 정의"
   ]
  },
  {
   "cell_type": "code",
   "execution_count": 33,
   "id": "d9125df2",
   "metadata": {},
   "outputs": [],
   "source": [
    "pipeline_dic = {\n",
    "    \"pipeline\": {\n",
    "        \"name\": code_pipeline_name,\n",
    "        \"roleArn\": pipeline_role_name,\n",
    "        \"artifactStore\": {\n",
    "            \"type\": \"S3\",\n",
    "            \"location\": bucket\n",
    "        },\n",
    "        \"stages\": [\n",
    "            {\n",
    "                \"name\": \"Source\",\n",
    "                \"actions\": [\n",
    "                    {\n",
    "                        \"name\": \"Source\",\n",
    "                        \"actionTypeId\": {\n",
    "                            \"category\": \"Source\",\n",
    "                            \"owner\": \"AWS\",\n",
    "                            \"provider\": \"CodeCommit\",\n",
    "                            \"version\": \"1\"\n",
    "                        },\n",
    "                        \"runOrder\": 1,\n",
    "                        \"configuration\": {\n",
    "                            \"BranchName\": branch_name,\n",
    "                            \"OutputArtifactFormat\": \"CODE_ZIP\",\n",
    "                            \"PollForSourceChanges\": \"false\",\n",
    "                            \"RepositoryName\": repository_name\n",
    "                        },\n",
    "                        \"outputArtifacts\": [\n",
    "                            {\n",
    "                                \"name\": \"SourceArtifact\"\n",
    "                            }\n",
    "                        ],\n",
    "                        \"inputArtifacts\": [],\n",
    "                        \"region\": region,\n",
    "                        \"namespace\": \"SourceVariables\"\n",
    "                    }\n",
    "                ]\n",
    "            },\n",
    "            {\n",
    "                \"name\": \"Build\",\n",
    "                \"actions\": [\n",
    "                    {\n",
    "                        \"name\": \"BuildAndExecuteSageMakerPipeline\",\n",
    "                        \"actionTypeId\": {\n",
    "                            \"category\": \"Build\",\n",
    "                            \"owner\": \"AWS\",\n",
    "                            \"provider\": \"CodeBuild\",\n",
    "                            \"version\": \"1\"\n",
    "                        },\n",
    "                        \"runOrder\": 1,\n",
    "                        \"configuration\": {\n",
    "                            \"ProjectName\": code_build_project_name\n",
    "                        },\n",
    "                        \"outputArtifacts\": [\n",
    "                            {\n",
    "                                \"name\": \"BuildArtifact\"\n",
    "                            }\n",
    "                        ],\n",
    "                        \"inputArtifacts\": [\n",
    "                            {\n",
    "                                \"name\": \"SourceArtifact\"\n",
    "                            }\n",
    "                        ],\n",
    "                        \"region\": region,\n",
    "                        \"namespace\": \"BuildVariables\"\n",
    "                    }\n",
    "                ]\n",
    "            }\n",
    "        ],\n",
    "        \"version\": 1\n",
    "    },\n",
    "}"
   ]
  },
  {
   "cell_type": "markdown",
   "id": "a0e2defa",
   "metadata": {},
   "source": [
    "## 3.1. Dic 포맷을 JSON 으로 변경"
   ]
  },
  {
   "cell_type": "code",
   "execution_count": 34,
   "id": "af1b2e70",
   "metadata": {},
   "outputs": [
    {
     "data": {
      "text/plain": [
       "{'pipeline': {'name': 'ncf-training-code-pipeline',\n",
       "  'roleArn': 'arn:aws:iam::057716757052:role/code-pipeline-gsmoon',\n",
       "  'artifactStore': {'type': 'S3',\n",
       "   'location': 'sagemaker-us-east-1-057716757052'},\n",
       "  'stages': [{'name': 'Source',\n",
       "    'actions': [{'name': 'Source',\n",
       "      'actionTypeId': {'category': 'Source',\n",
       "       'owner': 'AWS',\n",
       "       'provider': 'CodeCommit',\n",
       "       'version': '1'},\n",
       "      'runOrder': 1,\n",
       "      'configuration': {'BranchName': 'master',\n",
       "       'OutputArtifactFormat': 'CODE_ZIP',\n",
       "       'PollForSourceChanges': 'false',\n",
       "       'RepositoryName': 'mlops-ncf'},\n",
       "      'outputArtifacts': [{'name': 'SourceArtifact'}],\n",
       "      'inputArtifacts': [],\n",
       "      'region': 'us-east-1',\n",
       "      'namespace': 'SourceVariables'}]},\n",
       "   {'name': 'Build',\n",
       "    'actions': [{'name': 'BuildAndExecuteSageMakerPipeline',\n",
       "      'actionTypeId': {'category': 'Build',\n",
       "       'owner': 'AWS',\n",
       "       'provider': 'CodeBuild',\n",
       "       'version': '1'},\n",
       "      'runOrder': 1,\n",
       "      'configuration': {'ProjectName': 'ncf-training-sm-pipeline'},\n",
       "      'outputArtifacts': [{'name': 'BuildArtifact'}],\n",
       "      'inputArtifacts': [{'name': 'SourceArtifact'}],\n",
       "      'region': 'us-east-1',\n",
       "      'namespace': 'BuildVariables'}]}],\n",
       "  'version': 1}}"
      ]
     },
     "execution_count": 34,
     "metadata": {},
     "output_type": "execute_result"
    }
   ],
   "source": [
    "import json\n",
    "\n",
    "pipeline_json = json.dumps(pipeline_dic)\n",
    "json.loads(pipeline_json)"
   ]
  },
  {
   "cell_type": "markdown",
   "id": "a3907ca6",
   "metadata": {},
   "source": [
    "## 3.2. JSON 파일 저장"
   ]
  },
  {
   "cell_type": "code",
   "execution_count": 35,
   "id": "55f1bdc8",
   "metadata": {},
   "outputs": [],
   "source": [
    "json_file_path = 'src/hello_pipeline.json'\n",
    "with open(json_file_path, \"w\") as outfile:\n",
    "    outfile.write(pipeline_json)"
   ]
  },
  {
   "cell_type": "code",
   "execution_count": 36,
   "id": "80d02732",
   "metadata": {},
   "outputs": [
    {
     "data": {
      "text/plain": [
       "{'pipeline': {'name': 'ncf-training-code-pipeline',\n",
       "  'roleArn': 'arn:aws:iam::057716757052:role/code-pipeline-gsmoon',\n",
       "  'artifactStore': {'type': 'S3',\n",
       "   'location': 'sagemaker-us-east-1-057716757052'},\n",
       "  'stages': [{'name': 'Source',\n",
       "    'actions': [{'name': 'Source',\n",
       "      'actionTypeId': {'category': 'Source',\n",
       "       'owner': 'AWS',\n",
       "       'provider': 'CodeCommit',\n",
       "       'version': '1'},\n",
       "      'runOrder': 1,\n",
       "      'configuration': {'BranchName': 'master',\n",
       "       'OutputArtifactFormat': 'CODE_ZIP',\n",
       "       'PollForSourceChanges': 'false',\n",
       "       'RepositoryName': 'mlops-ncf'},\n",
       "      'outputArtifacts': [{'name': 'SourceArtifact'}],\n",
       "      'inputArtifacts': [],\n",
       "      'region': 'us-east-1',\n",
       "      'namespace': 'SourceVariables'}]},\n",
       "   {'name': 'Build',\n",
       "    'actions': [{'name': 'BuildAndExecuteSageMakerPipeline',\n",
       "      'actionTypeId': {'category': 'Build',\n",
       "       'owner': 'AWS',\n",
       "       'provider': 'CodeBuild',\n",
       "       'version': '1'},\n",
       "      'runOrder': 1,\n",
       "      'configuration': {'ProjectName': 'ncf-training-sm-pipeline'},\n",
       "      'outputArtifacts': [{'name': 'BuildArtifact'}],\n",
       "      'inputArtifacts': [{'name': 'SourceArtifact'}],\n",
       "      'region': 'us-east-1',\n",
       "      'namespace': 'BuildVariables'}]}],\n",
       "  'version': 1}}"
      ]
     },
     "execution_count": 36,
     "metadata": {},
     "output_type": "execute_result"
    }
   ],
   "source": [
    "with open(json_file_path) as json_file:\n",
    "    json_data = json.load(json_file)\n",
    "    \n",
    "json_data    "
   ]
  },
  {
   "cell_type": "markdown",
   "id": "03d23f78",
   "metadata": {},
   "source": [
    "# 4. 파이프라인 실행"
   ]
  },
  {
   "cell_type": "code",
   "execution_count": 37,
   "id": "dc9326a6",
   "metadata": {},
   "outputs": [
    {
     "name": "stdout",
     "output_type": "stream",
     "text": [
      "src/hello_pipeline.json\n",
      "/home/ec2-user/SageMaker/Neural-Collaborative-Filtering-On-SageMaker/3_MLOps/3_sm-train-codepipeline\n",
      "{\n",
      "    \"pipeline\": {\n",
      "        \"name\": \"ncf-training-code-pipeline\",\n",
      "        \"roleArn\": \"arn:aws:iam::057716757052:role/code-pipeline-gsmoon\",\n",
      "        \"artifactStore\": {\n",
      "            \"type\": \"S3\",\n",
      "            \"location\": \"sagemaker-us-east-1-057716757052\"\n",
      "        },\n",
      "        \"stages\": [\n",
      "            {\n",
      "                \"name\": \"Source\",\n",
      "                \"actions\": [\n",
      "                    {\n",
      "                        \"name\": \"Source\",\n",
      "                        \"actionTypeId\": {\n",
      "                            \"category\": \"Source\",\n",
      "                            \"owner\": \"AWS\",\n",
      "                            \"provider\": \"CodeCommit\",\n",
      "                            \"version\": \"1\"\n",
      "                        },\n",
      "                        \"runOrder\": 1,\n",
      "                        \"configuration\": {\n",
      "                            \"BranchName\": \"master\",\n",
      "                            \"OutputArtifactFormat\": \"CODE_ZIP\",\n",
      "                            \"PollForSourceChanges\": \"false\",\n",
      "                            \"RepositoryName\": \"mlops-ncf\"\n",
      "                        },\n",
      "                        \"outputArtifacts\": [\n",
      "                            {\n",
      "                                \"name\": \"SourceArtifact\"\n",
      "                            }\n",
      "                        ],\n",
      "                        \"inputArtifacts\": [],\n",
      "                        \"region\": \"us-east-1\",\n",
      "                        \"namespace\": \"SourceVariables\"\n",
      "                    }\n",
      "                ]\n",
      "            },\n",
      "            {\n",
      "                \"name\": \"Build\",\n",
      "                \"actions\": [\n",
      "                    {\n",
      "                        \"name\": \"BuildAndExecuteSageMakerPipeline\",\n",
      "                        \"actionTypeId\": {\n",
      "                            \"category\": \"Build\",\n",
      "                            \"owner\": \"AWS\",\n",
      "                            \"provider\": \"CodeBuild\",\n",
      "                            \"version\": \"1\"\n",
      "                        },\n",
      "                        \"runOrder\": 1,\n",
      "                        \"configuration\": {\n",
      "                            \"ProjectName\": \"ncf-training-sm-pipeline\"\n",
      "                        },\n",
      "                        \"outputArtifacts\": [\n",
      "                            {\n",
      "                                \"name\": \"BuildArtifact\"\n",
      "                            }\n",
      "                        ],\n",
      "                        \"inputArtifacts\": [\n",
      "                            {\n",
      "                                \"name\": \"SourceArtifact\"\n",
      "                            }\n",
      "                        ],\n",
      "                        \"region\": \"us-east-1\",\n",
      "                        \"namespace\": \"BuildVariables\"\n",
      "                    }\n",
      "                ]\n",
      "            }\n",
      "        ],\n",
      "        \"version\": 1\n",
      "    }\n",
      "}\n"
     ]
    }
   ],
   "source": [
    "%%sh -s {json_file_path}\n",
    "json_file_path=$1\n",
    "echo $json_file_path\n",
    "echo $PWD\n",
    "aws codepipeline create-pipeline --cli-input-json file://$json_file_path\n",
    "# aws codepipeline create-pipeline --cli-input-json file://src/hello_pipeline.json"
   ]
  },
  {
   "cell_type": "markdown",
   "id": "194cabcb",
   "metadata": {},
   "source": [
    "# 5. 코드 파이프라인 실행 상태 확인"
   ]
  },
  {
   "cell_type": "code",
   "execution_count": 38,
   "id": "f99b8c47",
   "metadata": {},
   "outputs": [
    {
     "name": "stdout",
     "output_type": "stream",
     "text": [
      "ncf-training-code-pipeline\n",
      "{\n",
      "    \"pipelineName\": \"ncf-training-code-pipeline\",\n",
      "    \"pipelineVersion\": 1,\n",
      "    \"stageStates\": [\n",
      "        {\n",
      "            \"stageName\": \"Source\",\n",
      "            \"inboundTransitionState\": {\n",
      "                \"enabled\": true\n",
      "            },\n",
      "            \"actionStates\": [\n",
      "                {\n",
      "                    \"actionName\": \"Source\",\n",
      "                    \"latestExecution\": {\n",
      "                        \"actionExecutionId\": \"9159937e-3cc5-4692-9fd2-02bf8add9fd6\",\n",
      "                        \"status\": \"InProgress\",\n",
      "                        \"lastStatusChange\": 1662042481.339\n",
      "                    },\n",
      "                    \"entityUrl\": \"https://console.aws.amazon.com/codecommit/home?region=us-east-1#/repository/mlops-ncf/browse/master/--/\"\n",
      "                }\n",
      "            ],\n",
      "            \"latestExecution\": {\n",
      "                \"pipelineExecutionId\": \"32087d0f-2b18-4d44-8c17-1b2d739bbe36\",\n",
      "                \"status\": \"InProgress\"\n",
      "            }\n",
      "        },\n",
      "        {\n",
      "            \"stageName\": \"Build\",\n",
      "            \"inboundTransitionState\": {\n",
      "                \"enabled\": true\n",
      "            },\n",
      "            \"actionStates\": [\n",
      "                {\n",
      "                    \"actionName\": \"BuildAndExecuteSageMakerPipeline\",\n",
      "                    \"entityUrl\": \"https://console.aws.amazon.com/codebuild/home?region=us-east-1#/projects/ncf-training-sm-pipeline/view\"\n",
      "                }\n",
      "            ]\n",
      "        }\n",
      "    ],\n",
      "    \"created\": 1662042480.644,\n",
      "    \"updated\": 1662042480.644\n",
      "}\n"
     ]
    }
   ],
   "source": [
    "%%sh -s {code_pipeline_name}\n",
    "code_pipeline_name=$1\n",
    "echo $code_pipeline_name\n",
    "aws codepipeline get-pipeline-state --name $code_pipeline_name"
   ]
  },
  {
   "cell_type": "code",
   "execution_count": 39,
   "id": "7708e315",
   "metadata": {},
   "outputs": [
    {
     "name": "stdout",
     "output_type": "stream",
     "text": [
      "Stored 'code_pipeline_name' (str)\n"
     ]
    }
   ],
   "source": [
    "%store code_pipeline_name"
   ]
  },
  {
   "cell_type": "code",
   "execution_count": 40,
   "id": "37336154",
   "metadata": {},
   "outputs": [
    {
     "data": {
      "text/plain": [
       "'mlops-ncf'"
      ]
     },
     "execution_count": 40,
     "metadata": {},
     "output_type": "execute_result"
    }
   ],
   "source": [
    "repository_name"
   ]
  },
  {
   "cell_type": "code",
   "execution_count": null,
   "id": "b2dc9e7f-8533-4b98-996a-2ed7dea8d4e6",
   "metadata": {},
   "outputs": [],
   "source": []
  }
 ],
 "metadata": {
  "kernelspec": {
   "display_name": "conda_python3",
   "language": "python",
   "name": "conda_python3"
  },
  "language_info": {
   "codemirror_mode": {
    "name": "ipython",
    "version": 3
   },
   "file_extension": ".py",
   "mimetype": "text/x-python",
   "name": "python",
   "nbconvert_exporter": "python",
   "pygments_lexer": "ipython3",
   "version": "3.8.12"
  }
 },
 "nbformat": 4,
 "nbformat_minor": 5
}
