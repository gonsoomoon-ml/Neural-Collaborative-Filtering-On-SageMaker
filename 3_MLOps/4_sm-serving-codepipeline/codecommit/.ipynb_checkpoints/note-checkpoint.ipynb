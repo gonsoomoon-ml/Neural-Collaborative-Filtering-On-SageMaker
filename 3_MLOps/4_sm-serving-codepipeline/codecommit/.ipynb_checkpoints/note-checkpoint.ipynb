{
 "cells": [
  {
   "cell_type": "code",
   "execution_count": 1,
   "id": "2cd9d0f8-3a91-4b40-bf6c-1dde41fb75d6",
   "metadata": {},
   "outputs": [
    {
     "data": {
      "text/plain": [
       "'/home/ec2-user/SageMaker/Neural-Collaborative-Filtering-On-SageMaker/3_MLOps/3_sm-train-codepipeline/codecommit'"
      ]
     },
     "execution_count": 1,
     "metadata": {},
     "output_type": "execute_result"
    }
   ],
   "source": [
    "import os\n",
    "os.getcwd()"
   ]
  },
  {
   "cell_type": "code",
   "execution_count": 5,
   "id": "f78999ed-9c38-4f80-8c17-e3a879d0a7c3",
   "metadata": {},
   "outputs": [],
   "source": [
    "package_dir = \"pipelines/ncf/src\""
   ]
  },
  {
   "cell_type": "code",
   "execution_count": 3,
   "id": "ca3d52af-a204-4d41-b451-21671a169446",
   "metadata": {
    "tags": []
   },
   "outputs": [
    {
     "name": "stdout",
     "output_type": "stream",
     "text": [
      "/home/ec2-user/SageMaker/Neural-Collaborative-Filtering-On-SageMaker/3_MLOps/3_sm-train-codepipeline/codecommit\n",
      "config.py\n",
      "data_utils.py\n",
      "evaluate.py\n",
      "model.py\n",
      "requirements.txt\n",
      "source.tar.gz\n",
      "train_lib.py\n",
      "train.py\n"
     ]
    }
   ],
   "source": [
    "%%sh -s {package_dir}\n",
    "\n",
    "echo $PWD\n",
    "\n",
    "cd $1 && tar -czvf source.tar.gz *\n",
    "#tar -czvf source.tar.gz $1"
   ]
  },
  {
   "cell_type": "code",
   "execution_count": 6,
   "id": "84d70a7c-4423-42c5-9b26-1e76e9e63cbd",
   "metadata": {},
   "outputs": [
    {
     "name": "stderr",
     "output_type": "stream",
     "text": [
      "sh: line 0: cd: Apipelines/ncf/src: No such file or directory\n"
     ]
    },
    {
     "data": {
      "text/plain": [
       "256"
      ]
     },
     "execution_count": 6,
     "metadata": {},
     "output_type": "execute_result"
    }
   ],
   "source": [
    "os.system(f\"cd {package_dir} && tar -czvf source.tar.gz *\")       "
   ]
  },
  {
   "cell_type": "code",
   "execution_count": 9,
   "id": "07096ec0-35a6-48b2-bd08-5bee03fd6360",
   "metadata": {},
   "outputs": [
    {
     "name": "stdout",
     "output_type": "stream",
     "text": [
      "2022-09-01 11:50:21     303309 source.tar.gz\n"
     ]
    }
   ],
   "source": [
    "! aws s3 ls s3://sagemaker-us-east-1-057716757052/ncf/source.tar.gz"
   ]
  },
  {
   "cell_type": "code",
   "execution_count": 15,
   "id": "ea3a7dbd-505c-4dbe-b302-68b03aa23470",
   "metadata": {},
   "outputs": [
    {
     "ename": "FileExistsError",
     "evalue": "[Errno 17] File exists: 'temp'",
     "output_type": "error",
     "traceback": [
      "\u001b[0;31m---------------------------------------------------------------------------\u001b[0m",
      "\u001b[0;31mFileExistsError\u001b[0m                           Traceback (most recent call last)",
      "\u001b[0;32m/tmp/ipykernel_48685/2288932296.py\u001b[0m in \u001b[0;36m<cell line: 1>\u001b[0;34m()\u001b[0m\n\u001b[0;32m----> 1\u001b[0;31m \u001b[0mos\u001b[0m\u001b[0;34m.\u001b[0m\u001b[0mmakedirs\u001b[0m\u001b[0;34m(\u001b[0m\u001b[0;34m'temp'\u001b[0m\u001b[0;34m)\u001b[0m\u001b[0;34m\u001b[0m\u001b[0;34m\u001b[0m\u001b[0m\n\u001b[0m",
      "\u001b[0;32m~/anaconda3/envs/python3/lib/python3.8/os.py\u001b[0m in \u001b[0;36mmakedirs\u001b[0;34m(name, mode, exist_ok)\u001b[0m\n\u001b[1;32m    221\u001b[0m             \u001b[0;32mreturn\u001b[0m\u001b[0;34m\u001b[0m\u001b[0;34m\u001b[0m\u001b[0m\n\u001b[1;32m    222\u001b[0m     \u001b[0;32mtry\u001b[0m\u001b[0;34m:\u001b[0m\u001b[0;34m\u001b[0m\u001b[0;34m\u001b[0m\u001b[0m\n\u001b[0;32m--> 223\u001b[0;31m         \u001b[0mmkdir\u001b[0m\u001b[0;34m(\u001b[0m\u001b[0mname\u001b[0m\u001b[0;34m,\u001b[0m \u001b[0mmode\u001b[0m\u001b[0;34m)\u001b[0m\u001b[0;34m\u001b[0m\u001b[0;34m\u001b[0m\u001b[0m\n\u001b[0m\u001b[1;32m    224\u001b[0m     \u001b[0;32mexcept\u001b[0m \u001b[0mOSError\u001b[0m\u001b[0;34m:\u001b[0m\u001b[0;34m\u001b[0m\u001b[0;34m\u001b[0m\u001b[0m\n\u001b[1;32m    225\u001b[0m         \u001b[0;31m# Cannot rely on checking for EEXIST, since the operating system\u001b[0m\u001b[0;34m\u001b[0m\u001b[0;34m\u001b[0m\u001b[0;34m\u001b[0m\u001b[0m\n",
      "\u001b[0;31mFileExistsError\u001b[0m: [Errno 17] File exists: 'temp'"
     ]
    }
   ],
   "source": [
    "os.makedirs('temp')"
   ]
  },
  {
   "cell_type": "code",
   "execution_count": 14,
   "id": "c9f266ce-bcc1-493f-bfb3-36e51505c0f2",
   "metadata": {},
   "outputs": [
    {
     "name": "stdout",
     "output_type": "stream",
     "text": [
      "download: s3://sagemaker-us-east-1-057716757052/ncf/source.tar.gz to temp/source.tar.gz\n",
      "/home/ec2-user/SageMaker/Neural-Collaborative-Filtering-On-SageMaker/3_MLOps/3_sm-train-codepipeline/codecommit/temp\n",
      "codebuild-buildspec-Hello.yml\n",
      "codebuild-buildspec-origin.yml\n",
      "codebuild-buildspec.yml\n",
      "code_location.json\n",
      "CONTRIBUTING.md\n",
      "img/\n",
      "img/pipeline-full.png\n",
      "LICENSE\n",
      "mlops-ncf/\n",
      "mlops-ncf/img/\n",
      "mlops-ncf/img/pipeline-full.png\n",
      "mlops-ncf/origin-sagemaker-pipelines-project.ipynb\n",
      "mlops-ncf/codebuild-buildspec-origin.yml\n",
      "mlops-ncf/tox.ini\n",
      "mlops-ncf/codebuild-buildspec.yml\n",
      "mlops-ncf/tests/\n",
      "mlops-ncf/tests/test_pipelines.py\n",
      "mlops-ncf/LICENSE\n",
      "mlops-ncf/pipelines/\n",
      "mlops-ncf/pipelines/upload_code.py\n",
      "mlops-ncf/pipelines/_utils.py\n",
      "mlops-ncf/pipelines/.ipynb_checkpoints/\n",
      "mlops-ncf/pipelines/.ipynb_checkpoints/run_pipeline-checkpoint.py\n",
      "mlops-ncf/pipelines/.ipynb_checkpoints/upload_code-checkpoint.py\n",
      "mlops-ncf/pipelines/.ipynb_checkpoints/get_pipeline_definition-checkpoint.py\n",
      "mlops-ncf/pipelines/__version__.py\n",
      "mlops-ncf/pipelines/run_pipeline.py\n",
      "mlops-ncf/pipelines/code_location.json\n",
      "mlops-ncf/pipelines/get_pipeline_definition.py\n",
      "mlops-ncf/pipelines/__init__.py\n",
      "mlops-ncf/pipelines/ncf/\n",
      "mlops-ncf/pipelines/ncf/src/\n",
      "mlops-ncf/pipelines/ncf/src/data_utils.py\n",
      "mlops-ncf/pipelines/ncf/src/train.py\n",
      "mlops-ncf/pipelines/ncf/src/model.py\n",
      "mlops-ncf/pipelines/ncf/src/config.py\n",
      "mlops-ncf/pipelines/ncf/src/train_lib.py\n",
      "mlops-ncf/pipelines/ncf/src/evaluate.py\n",
      "mlops-ncf/pipelines/ncf/src/requirements.txt\n",
      "mlops-ncf/pipelines/ncf/pipeline.py\n",
      "mlops-ncf/pipelines/ncf/data_utils.py\n",
      "mlops-ncf/pipelines/ncf/.ipynb_checkpoints/\n",
      "mlops-ncf/pipelines/ncf/.ipynb_checkpoints/pipeline-checkpoint.py\n",
      "mlops-ncf/pipelines/ncf/train.py\n",
      "mlops-ncf/pipelines/ncf/model.py\n",
      "mlops-ncf/pipelines/ncf/config.py\n",
      "mlops-ncf/pipelines/ncf/train_lib.py\n",
      "mlops-ncf/pipelines/ncf/evaluate.py\n",
      "mlops-ncf/pipelines/ncf/__init__.py\n",
      "mlops-ncf/pipelines/ncf/requirements.txt\n",
      "mlops-ncf/CONTRIBUTING.md\n",
      "mlops-ncf/.git/\n",
      "mlops-ncf/.git/refs/\n",
      "mlops-ncf/.git/refs/tags/\n",
      "mlops-ncf/.git/refs/remotes/\n",
      "mlops-ncf/.git/refs/remotes/origin/\n",
      "mlops-ncf/.git/refs/remotes/origin/HEAD\n",
      "mlops-ncf/.git/refs/heads/\n",
      "mlops-ncf/.git/refs/heads/master\n",
      "mlops-ncf/.git/hooks/\n",
      "mlops-ncf/.git/hooks/applypatch-msg.sample\n",
      "mlops-ncf/.git/hooks/fsmonitor-watchman.sample\n",
      "mlops-ncf/.git/hooks/pre-rebase.sample\n",
      "mlops-ncf/.git/hooks/post-update.sample\n",
      "mlops-ncf/.git/hooks/pre-merge-commit.sample\n",
      "mlops-ncf/.git/hooks/pre-applypatch.sample\n",
      "mlops-ncf/.git/hooks/pre-push.sample\n",
      "mlops-ncf/.git/hooks/push-to-checkout.sample\n",
      "mlops-ncf/.git/hooks/commit-msg.sample\n",
      "mlops-ncf/.git/hooks/pre-receive.sample\n",
      "mlops-ncf/.git/hooks/pre-commit.sample\n",
      "mlops-ncf/.git/hooks/update.sample\n",
      "mlops-ncf/.git/hooks/prepare-commit-msg.sample\n",
      "mlops-ncf/.git/logs/\n",
      "mlops-ncf/.git/logs/refs/\n",
      "mlops-ncf/.git/logs/refs/remotes/\n",
      "mlops-ncf/.git/logs/refs/remotes/origin/\n",
      "mlops-ncf/.git/logs/refs/remotes/origin/HEAD\n",
      "mlops-ncf/.git/logs/refs/heads/\n",
      "mlops-ncf/.git/logs/refs/heads/master\n",
      "mlops-ncf/.git/logs/HEAD\n",
      "mlops-ncf/.git/config\n",
      "mlops-ncf/.git/packed-refs\n",
      "mlops-ncf/.git/description\n",
      "mlops-ncf/.git/index\n",
      "mlops-ncf/.git/objects/\n",
      "mlops-ncf/.git/objects/b0/\n",
      "mlops-ncf/.git/objects/b0/70a318710d840afab5029b4b578344f902cb31\n",
      "mlops-ncf/.git/objects/30/\n",
      "mlops-ncf/.git/objects/30/8d5ac327afb8725e935544d75c5f920f4e4f8c\n",
      "mlops-ncf/.git/objects/23/\n",
      "mlops-ncf/.git/objects/23/93ea006ec8c04f678234b1f12b33c4dc37ea64\n",
      "mlops-ncf/.git/objects/02/\n",
      "mlops-ncf/.git/objects/02/c582705736d67078fa1621dcdeeb87fde84456\n",
      "mlops-ncf/.git/objects/ed/\n",
      "mlops-ncf/.git/objects/ed/b0ffbe623f6680692c09fd2356e97b971004cb\n",
      "mlops-ncf/.git/objects/6e/\n",
      "mlops-ncf/.git/objects/6e/6a9f61704f2e1c1bacaa846ea118cb5e40944f\n",
      "mlops-ncf/.git/objects/14/\n",
      "mlops-ncf/.git/objects/14/bfb80f0d0a6810947887743d7dfa118c69cfe6\n",
      "mlops-ncf/.git/objects/77/\n",
      "mlops-ncf/.git/objects/77/fb0611afc0b07eeca35e1441d84ec339af2a45\n",
      "mlops-ncf/.git/objects/b8/\n",
      "mlops-ncf/.git/objects/b8/517f9192b8c2107ec10b6af55a82f92adb46c4\n",
      "mlops-ncf/.git/objects/3a/\n",
      "mlops-ncf/.git/objects/3a/8d884bd59e4ea8ae9c4da067a03f12a75f7d22\n",
      "mlops-ncf/.git/objects/35/\n",
      "mlops-ncf/.git/objects/35/00764f12fd47baf23ed21a12d15a95bc7c89a1\n",
      "mlops-ncf/.git/objects/72/\n",
      "mlops-ncf/.git/objects/72/9295d5808525c804c9165b25ada33f9e522e63\n",
      "mlops-ncf/.git/objects/63/\n",
      "mlops-ncf/.git/objects/63/7a55b2d827bf06ffa3931e5108db52d376cfdc\n",
      "mlops-ncf/.git/objects/5a/\n",
      "mlops-ncf/.git/objects/5a/40760c81ac2b528e48c8def496a51dc7858a01\n",
      "mlops-ncf/.git/objects/b4/\n",
      "mlops-ncf/.git/objects/b4/2c6164585ebd308f66ae5580ccaa64c9e01f05\n",
      "mlops-ncf/.git/objects/b1/\n",
      "mlops-ncf/.git/objects/b1/3d3844c6db6b5ebca457e62b2b55e127ddc540\n",
      "mlops-ncf/.git/objects/bc/\n",
      "mlops-ncf/.git/objects/bc/35d34515e40ddc1825cad6972dfafd4d2e1c2e\n",
      "mlops-ncf/.git/objects/fb/\n",
      "mlops-ncf/.git/objects/fb/0df5ab8b8093e4e6286587c1a4840801ffbef4\n",
      "mlops-ncf/.git/objects/31/\n",
      "mlops-ncf/.git/objects/31/b5358786a4b92099cef7e96b8d0f44634b2ca7\n",
      "mlops-ncf/.git/objects/f7/\n",
      "mlops-ncf/.git/objects/f7/097815e00cec5097791821fcf9fd27791a4282\n",
      "mlops-ncf/.git/objects/51/\n",
      "mlops-ncf/.git/objects/51/7873fe53290ec7e200caf98a9e2f4fa034a25d\n",
      "mlops-ncf/.git/objects/ad/\n",
      "mlops-ncf/.git/objects/ad/50139e8e65d746a58af9e624156901fcbe1a21\n",
      "mlops-ncf/.git/objects/2e/\n",
      "mlops-ncf/.git/objects/2e/d7f5c9c59bd058b54be1bd1dbe222e2151a7e6\n",
      "mlops-ncf/.git/objects/65/\n",
      "mlops-ncf/.git/objects/65/9e91e278f579b25f66ee787ba6a8b27ddbb445\n",
      "mlops-ncf/.git/objects/2c/\n",
      "mlops-ncf/.git/objects/2c/55e4d30c1b08e6f54ed15992ce3f111bfa8ce4\n",
      "mlops-ncf/.git/objects/ae/\n",
      "mlops-ncf/.git/objects/ae/7a2d4c9e189d113d4dcc384b1eebe3a926c1e4\n",
      "mlops-ncf/.git/objects/be/\n",
      "mlops-ncf/.git/objects/be/e5b06cb971c4c3fb9ef2ffa6e0255129c62a99\n",
      "mlops-ncf/.git/objects/5c/\n",
      "mlops-ncf/.git/objects/5c/f932670fba483241265446dcdbacefc789cc9b\n",
      "mlops-ncf/.git/objects/info/\n",
      "mlops-ncf/.git/objects/pack/\n",
      "mlops-ncf/.git/objects/2f/\n",
      "mlops-ncf/.git/objects/2f/f6d1ea4f0fe63b9742bca64e4f664ba2f0d664\n",
      "mlops-ncf/.git/objects/20/\n",
      "mlops-ncf/.git/objects/20/691b7e43ca53b26362c952a26414272ea912c0\n",
      "mlops-ncf/.git/objects/e6/\n",
      "mlops-ncf/.git/objects/e6/9de29bb2d1d6434b8b29ae775ad8c2e48c5391\n",
      "mlops-ncf/.git/objects/ab/\n",
      "mlops-ncf/.git/objects/ab/7872b97545f9a2967b3b55c37f2cae2ce67d5c\n",
      "mlops-ncf/.git/objects/60/\n",
      "mlops-ncf/.git/objects/60/e9b645daa2b7908e0d4d90eb0fbfce9d3305ed\n",
      "mlops-ncf/.git/objects/6f/\n",
      "mlops-ncf/.git/objects/6f/fc08a54f8c7168b580da436b19738b50d678ae\n",
      "mlops-ncf/.git/objects/6f/701b8ba9e2844e458ecd08cd8143a84b1a77ba\n",
      "mlops-ncf/.git/objects/6f/878705232ef9940e84b7d773ca699e21c95fc6\n",
      "mlops-ncf/.git/info/\n",
      "mlops-ncf/.git/info/exclude\n",
      "mlops-ncf/.git/HEAD\n",
      "mlops-ncf/.git/branches/\n",
      "mlops-ncf/sagemaker-pipelines-project.ipynb\n",
      "mlops-ncf/README.md\n",
      "mlops-ncf/setup.py\n",
      "mlops-ncf/setup.cfg\n",
      "mlops-ncf/codebuild-buildspec-True.yml\n",
      "origin-sagemaker-pipelines-project.ipynb\n",
      "pipelines/\n",
      "pipelines/note.ipynb\n",
      "pipelines/upload_code.py\n",
      "pipelines/_utils.py\n",
      "pipelines/.ipynb_checkpoints/\n",
      "pipelines/.ipynb_checkpoints/run_pipeline-checkpoint.py\n",
      "pipelines/.ipynb_checkpoints/upload_code-checkpoint.py\n",
      "pipelines/.ipynb_checkpoints/get_pipeline_definition-checkpoint.py\n",
      "pipelines/.ipynb_checkpoints/note-checkpoint.ipynb\n",
      "pipelines/__version__.py\n",
      "pipelines/run_pipeline.py\n",
      "pipelines/source.tar.gz\n",
      "pipelines/get_pipeline_definition.py\n",
      "pipelines/__init__.py\n",
      "pipelines/ncf/\n",
      "pipelines/ncf/src/\n",
      "pipelines/ncf/src/data_utils.py\n",
      "pipelines/ncf/src/train.py\n",
      "pipelines/ncf/src/model.py\n",
      "pipelines/ncf/src/config.py\n",
      "pipelines/ncf/src/train_lib.py\n",
      "pipelines/ncf/src/evaluate.py\n",
      "pipelines/ncf/src/requirements.txt\n",
      "pipelines/ncf/pipeline.py\n",
      "pipelines/ncf/.ipynb_checkpoints/\n",
      "pipelines/ncf/.ipynb_checkpoints/pipeline-checkpoint.py\n",
      "pipelines/ncf/__init__.py\n",
      "README.md\n",
      "sagemaker-pipelines-project.ipynb\n",
      "setup.cfg\n",
      "setup.py\n",
      "tests/\n",
      "tests/test_pipelines.py\n",
      "tox.ini\n"
     ]
    }
   ],
   "source": [
    "%%sh\n",
    "! aws s3 cp s3://sagemaker-us-east-1-057716757052/ncf/source.tar.gz temp\n",
    "cd temp\n",
    "echo $PWD\n",
    "\n",
    "tar -xzvf source.tar.gz"
   ]
  },
  {
   "cell_type": "code",
   "execution_count": 19,
   "id": "89743e46-a6ca-416e-9e3d-8a45abb9b0c2",
   "metadata": {},
   "outputs": [],
   "source": [
    "# import os\n",
    "# for dirpath, dirs, files in os.walk(\".\"):\n",
    "# \tprint(dirpath)"
   ]
  },
  {
   "cell_type": "code",
   "execution_count": null,
   "id": "a0a1fae7-5e69-4a41-93c6-3facf316dde0",
   "metadata": {},
   "outputs": [],
   "source": [
    "def upload_code_s3(args):\n",
    "    '''\n",
    "    훈련 코드를와 디펜던시 파일을 압축하여 S3에 업로드하고 S3 URL 을 제공\n",
    "    '''\n",
    "    \n",
    "    \n",
    "    package_dir = \"mlops-ncf/pipelines/ncf/src\"\n",
    "    os.system(f\"cd {package_dir} & tar -czvf source.tar.gz *\")        \n",
    "    \n",
    "    logger.info(f\"bucket name : {args.bucket}\")\n",
    "    bucket = args.bucket\n",
    "    prefix='ncf'\n",
    "\n",
    "    code_path = os.path.join('.', 'source.tar.gz')\n",
    "\n",
    "    sagemaker_session  = sagemaker.session.Session()\n",
    "    s3_code_uri = sagemaker_session.upload_data(code_path, bucket, prefix)\n",
    "    logger.info(f\"s3_code_uri : {s3_code_uri}\")    \n",
    "    \n",
    "    return s3_code_uri\n",
    "\n"
   ]
  }
 ],
 "metadata": {
  "kernelspec": {
   "display_name": "conda_python3",
   "language": "python",
   "name": "conda_python3"
  },
  "language_info": {
   "codemirror_mode": {
    "name": "ipython",
    "version": 3
   },
   "file_extension": ".py",
   "mimetype": "text/x-python",
   "name": "python",
   "nbconvert_exporter": "python",
   "pygments_lexer": "ipython3",
   "version": "3.8.12"
  }
 },
 "nbformat": 4,
 "nbformat_minor": 5
}
