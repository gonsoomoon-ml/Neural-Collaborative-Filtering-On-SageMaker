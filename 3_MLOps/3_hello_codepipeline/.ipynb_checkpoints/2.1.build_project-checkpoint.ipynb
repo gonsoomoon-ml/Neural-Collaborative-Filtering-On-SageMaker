{
 "cells": [
  {
   "cell_type": "markdown",
   "id": "b16efb54",
   "metadata": {
    "tags": []
   },
   "source": [
    "# [모듈 2.1] CodeBuild 프로젝트 생성"
   ]
  },
  {
   "cell_type": "markdown",
   "id": "ca01d420",
   "metadata": {},
   "source": [
    "아래의 개발자 가이드 및 관련 명령어를 참고 해주세요.\n",
    "- 개발자 가이드\n",
    "    - [Create a build project (AWS CLI)](https://docs.aws.amazon.com/codebuild/latest/userguide/create-project-cli.html)\n",
    "- 관련 명령어\n",
    "    - aws codebuild list-projects --sort-by NAME --sort-order ASCENDING    \n",
    "    - aws codebuild batch-get-projects --names iris-build-project    "
   ]
  },
  {
   "cell_type": "markdown",
   "id": "725cbef7",
   "metadata": {},
   "source": [
    "# 1. 환경 설정\n"
   ]
  },
  {
   "cell_type": "markdown",
   "id": "bd64480a",
   "metadata": {},
   "source": [
    "## 1.1. 파라미터 설정"
   ]
  },
  {
   "cell_type": "code",
   "execution_count": null,
   "id": "dc85b647",
   "metadata": {},
   "outputs": [],
   "source": [
    "import sagemaker\n",
    "import boto3\n",
    "\n",
    "region = sagemaker.Session().boto_region_name\n",
    "\n",
    "account_id = boto3.client('sts').get_caller_identity().get('Account')\n",
    "\n",
    "\n",
    "print(\"region: \", region)\n",
    "print(\"account_id: \", account_id)"
   ]
  },
  {
   "cell_type": "code",
   "execution_count": null,
   "id": "4fb7e7fd",
   "metadata": {},
   "outputs": [],
   "source": [
    "isDefaultBucket = True\n",
    "\n",
    "if isDefaultBucket:\n",
    "\n",
    "    bucket = sagemaker.Session().default_bucket()\n",
    "else:\n",
    "    bucket = \"<Type your bucket name>\"\n",
    "    \n",
    "print(\"Bucket: \", bucket)    \n"
   ]
  },
  {
   "cell_type": "markdown",
   "id": "44d9c62a",
   "metadata": {},
   "source": [
    "## 1.2.  Code Build 역할 ARN 가져오기 \n",
    "- 워크샵의 셋업 단계에서 CodeBuild_Role: 은 아래와 미리 생성이 됨\n",
    "    -  \"arn:aws:iam::XXXXXX:role/MLOps-CodeBuildRole\""
   ]
  },
  {
   "cell_type": "code",
   "execution_count": null,
   "id": "b5b050a7-cc58-4d5a-9544-9fe7b6de754d",
   "metadata": {},
   "outputs": [],
   "source": [
    "build_service_role = boto3.client('iam').get_role(RoleName = 'MLOps-CodeBuildRole').get('Role').get('Arn')\n",
    "print(\"build_service_role: \\n\", build_service_role)\n",
    "\n"
   ]
  },
  {
   "cell_type": "markdown",
   "id": "d1be98be-d908-4092-b55f-68d81f8bab14",
   "metadata": {},
   "source": [
    "## 1.3. Code Build Project 이름 설정"
   ]
  },
  {
   "cell_type": "code",
   "execution_count": null,
   "id": "ca620ffc",
   "metadata": {},
   "outputs": [],
   "source": [
    "hello_code_build_project_name = \"Hello_Code_Build\"\n"
   ]
  },
  {
   "cell_type": "markdown",
   "id": "ba9d4042-7023-49b3-8b63-c947d74b9767",
   "metadata": {},
   "source": [
    "아래와 같이 IAM 콘솔에 가셔서 왼쪽의 Roles(역할) 클릭하시고, sagemaker-notebook-CodeBuildRole-XXXXX 을 찾으신 후에 ARN 을 복사하시면 됩니다."
   ]
  },
  {
   "cell_type": "markdown",
   "id": "74028294-aacf-4122-a89f-e5985d7b4fab",
   "metadata": {},
   "source": [
    "# 2. 빌드 프로젝트  JSON 정의"
   ]
  },
  {
   "cell_type": "markdown",
   "id": "2aaaa422",
   "metadata": {
    "tags": []
   },
   "source": [
    "## 2.1. build_dic Json 정의\n",
    "\n",
    "Code Build 프로젝트를 생성시에 정의를 아래의 'build_dic\"  JSON 으로 정의해서 \"build project\" 를 생성 합니다. 결론적으로 정의된 도커 컨테이너가 buildspec.yml 에 정의된 \"buildspec\": \"buildspec.yml\" 를 최종 실행하게 됩니다.\n",
    "\n",
    "```json\n",
    "build_dic = {\n",
    "  \"name\": hello_code_build_project_name,\n",
    "  \"description\": \"Hello Build Project\",\n",
    "  \"source\": {\n",
    "    \"type\": \"CODEPIPELINE\",\n",
    "    \"buildspec\": \"buildspec.yml\",\n",
    "  },\n",
    "\n",
    "```"
   ]
  },
  {
   "cell_type": "markdown",
   "id": "380d4f1e-33b3-42b1-b4bc-d0308ef64ec2",
   "metadata": {},
   "source": [
    "\"buildspec.yml\" 는 이전 노트북에서 생성한 hello-code-repo 에 있습니다. 아래 내용을 보면 간단하게 `echo \"dummy\"` 를 출력을 하게 됩니다.  보통 \"buildspec.yml\"의 정의를 일반적으로 Python 파일을 실행 명령어 및 이를 위한 Python Package 설치 등으로 구성이 됩니다."
   ]
  },
  {
   "cell_type": "markdown",
   "id": "299576b8-fe02-49ed-b0e0-40441768900d",
   "metadata": {},
   "source": [
    "![hello_buildspec_yml.png](img/hello_buildspec_yml.png)"
   ]
  },
  {
   "cell_type": "markdown",
   "id": "760637cc-4644-4617-acc4-8c5174e2905f",
   "metadata": {},
   "source": [
    "## 2.2. 환경 변수 정의\n",
    "Code Build Project 을 생성시에 아래와 같이 환경 변수를 정의할 수 있습니다. 이러한 환경 변순는 buildspec_yml 파일 안에서 참조하여 사용할 수 있습니다. 예를 들어서 AWS_DEFAULT_REGION 변수에 리젼을 할당하여 저장할 수도 있고, 버킷 이름을 TEMPLATE_BUCKET 변수에 저장하여 사용할 수 있습니다."
   ]
  },
  {
   "cell_type": "markdown",
   "id": "9256c4de-59a1-4589-981b-31b59406742e",
   "metadata": {},
   "source": [
    "```JSON\n",
    "        \"environment\": {\n",
    "            \"type\": \"LINUX_CONTAINER\",\n",
    "            \"image\": \"aws/codebuild/amazonlinux2-x86_64-standard:3.0\",\n",
    "            \"computeType\": \"BUILD_GENERAL1_SMALL\",\n",
    "            \"environmentVariables\": [\n",
    "                {\n",
    "                    \"name\": \"IMAGE_REPO_NAME\",\n",
    "                    \"value\": \"hello-model\",\n",
    "                    \"type\": \"PLAINTEXT\"\n",
    "                },\n",
    "                {\n",
    "                    \"name\": \"IMAGE_TAG\",\n",
    "                    \"value\": \"latest\",\n",
    "                    \"type\": \"PLAINTEXT\"\n",
    "                },\n",
    "                {\n",
    "                    \"name\": \"AWS_ACCOUNT_ID\",\n",
    "                    \"value\": \"057716757052\",\n",
    "                    \"type\": \"PLAINTEXT\"\n",
    "                },\n",
    "                {\n",
    "                    \"name\": \"AWS_DEFAULT_REGION\",\n",
    "                    \"value\": \"us-east-1\",\n",
    "                    \"type\": \"PLAINTEXT\"\n",
    "                },\n",
    "```"
   ]
  },
  {
   "cell_type": "code",
   "execution_count": null,
   "id": "88ee47d1",
   "metadata": {},
   "outputs": [],
   "source": [
    "build_dic = {\n",
    "  \"name\": hello_code_build_project_name,\n",
    "  \"description\": \"Hello Build Project\",\n",
    "  \"source\": {\n",
    "    \"type\": \"CODEPIPELINE\",\n",
    "    \"buildspec\": \"buildspec.yml\",\n",
    "  },\n",
    "  \"artifacts\": {\n",
    "    \"type\": \"CODEPIPELINE\",\n",
    "    \"name\": hello_code_build_project_name,\n",
    "  },\n",
    "  \"cache\": {\n",
    "    \"type\": \"NO_CACHE\",\n",
    "  },\n",
    "  \"environment\": {\n",
    "            \"type\": \"LINUX_CONTAINER\",\n",
    "            \"image\": \"aws/codebuild/amazonlinux2-x86_64-standard:3.0\",\n",
    "            \"computeType\": \"BUILD_GENERAL1_SMALL\",\n",
    "            \"environmentVariables\": [\n",
    "                {\n",
    "                    \"name\": \"IMAGE_REPO_NAME\",\n",
    "                    \"value\": \"hello-model\",\n",
    "                    \"type\": \"PLAINTEXT\"\n",
    "                },\n",
    "                {\n",
    "                    \"name\": \"IMAGE_TAG\",\n",
    "                    \"value\": \"latest\",\n",
    "                    \"type\": \"PLAINTEXT\"\n",
    "                },\n",
    "                {\n",
    "                    \"name\": \"AWS_ACCOUNT_ID\",\n",
    "                    \"value\": account_id,\n",
    "                    \"type\": \"PLAINTEXT\"\n",
    "                },\n",
    "                {\n",
    "                    \"name\": \"AWS_DEFAULT_REGION\",\n",
    "                    \"value\": region,\n",
    "                    \"type\": \"PLAINTEXT\"\n",
    "                },\n",
    "                {\n",
    "                    \"name\": \"TEMPLATE_BUCKET\",\n",
    "                    \"value\": bucket,\n",
    "                    \"type\": \"PLAINTEXT\"\n",
    "                },\n",
    "                {\n",
    "                    \"name\": \"TEMPLATE_PREFIX\",\n",
    "                    \"value\": \"codebuild\",\n",
    "                    \"type\": \"PLAINTEXT\"\n",
    "                }\n",
    "            ],\n",
    "            \"privilegedMode\": False,\n",
    "            \"imagePullCredentialsType\": \"CODEBUILD\"\n",
    "        },\n",
    "  \"serviceRole\": build_service_role,\n",
    "  \"timeoutInMinutes\": 60,\n",
    "  \"queuedTimeoutInMinutes\": 480,\n",
    "  \"badgeEnabled\": False,\n",
    "  \"logsConfig\": {\n",
    "    \"cloudWatchLogs\": {\n",
    "      \"status\": \"ENABLED\",\n",
    "    },\n",
    "    \"s3Logs\": {\n",
    "      \"status\": \"DISABLED\",\n",
    "      \"encryptionDisabled\": False\n",
    "    }\n",
    "  },\n",
    "}"
   ]
  },
  {
   "cell_type": "markdown",
   "id": "b77f6ea8",
   "metadata": {},
   "source": [
    "## 2.1. Dic 포맷을 JSON 으로 변경"
   ]
  },
  {
   "cell_type": "code",
   "execution_count": null,
   "id": "2d6717d7",
   "metadata": {},
   "outputs": [],
   "source": [
    "import json\n",
    "\n",
    "build_json = json.dumps(build_dic)\n",
    "json.loads(build_json)"
   ]
  },
  {
   "cell_type": "markdown",
   "id": "49b477a8",
   "metadata": {
    "tags": []
   },
   "source": [
    "## 2.2. JSON 파일 저장"
   ]
  },
  {
   "cell_type": "code",
   "execution_count": null,
   "id": "622c1fa4",
   "metadata": {},
   "outputs": [],
   "source": [
    "import os\n",
    "\n",
    "os.makedirs('src',exist_ok=True)"
   ]
  },
  {
   "cell_type": "code",
   "execution_count": null,
   "id": "98396f5e",
   "metadata": {},
   "outputs": [],
   "source": [
    "json_file_path = 'src/hello_build.json'\n",
    "with open(json_file_path, \"w\") as outfile:\n",
    "    outfile.write(build_json)"
   ]
  },
  {
   "cell_type": "code",
   "execution_count": null,
   "id": "4b3e65e2",
   "metadata": {},
   "outputs": [],
   "source": [
    "with open(json_file_path) as json_file:\n",
    "    json_data = json.load(json_file)\n",
    "    \n",
    "json_data    "
   ]
  },
  {
   "cell_type": "markdown",
   "id": "191ec711",
   "metadata": {
    "tags": []
   },
   "source": [
    "# 3. 빌드 프로젝트 생성"
   ]
  },
  {
   "cell_type": "code",
   "execution_count": null,
   "id": "c74e6f59",
   "metadata": {},
   "outputs": [],
   "source": [
    "%%sh -s {json_file_path}\n",
    "json_file_path=$1\n",
    "echo $json_file_path\n",
    "aws codebuild create-project --cli-input-json file://$json_file_path"
   ]
  },
  {
   "cell_type": "markdown",
   "id": "89f2e612",
   "metadata": {},
   "source": [
    "## 참고: 코드 빌드 프로젝트 리스트\n",
    "- [Boto3 ListProjects](https://docs.aws.amazon.com/codebuild/latest/APIReference/API_ListProjects.html)"
   ]
  },
  {
   "cell_type": "code",
   "execution_count": null,
   "id": "64c7e865",
   "metadata": {},
   "outputs": [],
   "source": [
    "%%sh \n",
    "aws codebuild list-projects --sort-by LAST_MODIFIED_TIME --sort-order DESCENDING"
   ]
  },
  {
   "cell_type": "markdown",
   "id": "8f089879",
   "metadata": {},
   "source": [
    "# 4. 프로젝트 이름 저장"
   ]
  },
  {
   "cell_type": "code",
   "execution_count": null,
   "id": "81bdf79f",
   "metadata": {},
   "outputs": [],
   "source": [
    "%store hello_code_build_project_name\n",
    "%store account_id\n",
    "%store region\n",
    "%store bucket\n"
   ]
  },
  {
   "cell_type": "markdown",
   "id": "74061ca3-1e71-4fe5-8e6d-8f7eb568fdd2",
   "metadata": {},
   "source": [
    "# 5. 생성된 Hello_Code_Build 프로젝트"
   ]
  },
  {
   "cell_type": "markdown",
   "id": "1b3243fb-0788-4e9b-a93a-68c3e88925b8",
   "metadata": {},
   "source": [
    "![code_build_project.png](img/code_build_project.png)"
   ]
  },
  {
   "cell_type": "code",
   "execution_count": null,
   "id": "690a4012-5c26-4c01-b93e-833e3a8303d5",
   "metadata": {},
   "outputs": [],
   "source": []
  }
 ],
 "metadata": {
  "kernelspec": {
   "display_name": "conda_python3",
   "language": "python",
   "name": "conda_python3"
  },
  "language_info": {
   "codemirror_mode": {
    "name": "ipython",
    "version": 3
   },
   "file_extension": ".py",
   "mimetype": "text/x-python",
   "name": "python",
   "nbconvert_exporter": "python",
   "pygments_lexer": "ipython3",
   "version": "3.8.12"
  }
 },
 "nbformat": 4,
 "nbformat_minor": 5
}
