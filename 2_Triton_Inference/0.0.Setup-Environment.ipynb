{
 "cells": [
  {
   "cell_type": "markdown",
   "id": "c1af41d6",
   "metadata": {},
   "source": [
    "# [Module 0.0] 환경 셋업\n",
    "\n",
    "## 본 워크샵의 모든 노트북은 `conda_python3` 를  선택해야 합니다."
   ]
  },
  {
   "cell_type": "code",
   "execution_count": 4,
   "id": "fcf2e66b-4e82-4cb9-8bcd-bed0cc5554ff",
   "metadata": {},
   "outputs": [
    {
     "name": "stdout",
     "output_type": "stream",
     "text": [
      "Looking in indexes: https://pypi.org/simple, https://pip.repos.neuron.amazonaws.com\n",
      "Requirement already satisfied: pip in /home/ec2-user/anaconda3/envs/python3/lib/python3.8/site-packages (22.3.1)\n",
      "Note: you may need to restart the kernel to use updated packages.\n"
     ]
    }
   ],
   "source": [
    "pip install --upgrade pip"
   ]
  },
  {
   "cell_type": "markdown",
   "id": "01f63727",
   "metadata": {},
   "source": [
    "# 환경 셋업\n"
   ]
  },
  {
   "cell_type": "code",
   "execution_count": 8,
   "id": "13d107e7-308a-4d60-b526-afda0c30b184",
   "metadata": {},
   "outputs": [
    {
     "name": "stdout",
     "output_type": "stream",
     "text": [
      "Looking in indexes: https://pypi.org/simple, https://pip.repos.neuron.amazonaws.com\n",
      "Collecting torch==1.8.1\n",
      "  Downloading torch-1.8.1-cp38-cp38-manylinux1_x86_64.whl (804.1 MB)\n",
      "\u001b[2K     \u001b[90m━━━━━━━━━━━━━━━━━━━━━━━━━━━━━━━━━━━━━\u001b[0m \u001b[32m804.1/804.1 MB\u001b[0m \u001b[31m898.7 kB/s\u001b[0m eta \u001b[36m0:00:00\u001b[0m00:01\u001b[0m00:01\u001b[0m\n",
      "\u001b[?25hRequirement already satisfied: typing-extensions in /home/ec2-user/anaconda3/envs/python3/lib/python3.8/site-packages (from torch==1.8.1->-r src/requirements.txt (line 1)) (4.0.0)\n",
      "Requirement already satisfied: numpy in /home/ec2-user/anaconda3/envs/python3/lib/python3.8/site-packages (from torch==1.8.1->-r src/requirements.txt (line 1)) (1.20.3)\n",
      "Installing collected packages: torch\n",
      "Successfully installed torch-1.8.1\n"
     ]
    }
   ],
   "source": [
    "! pip install -r src/requirements.txt"
   ]
  },
  {
   "cell_type": "code",
   "execution_count": 6,
   "id": "bbd8b0bb",
   "metadata": {},
   "outputs": [
    {
     "name": "stdout",
     "output_type": "stream",
     "text": [
      "Looking in indexes: https://pypi.org/simple, https://pip.repos.neuron.amazonaws.com\n",
      "Requirement already satisfied: tritonclient[all] in /home/ec2-user/anaconda3/envs/python3/lib/python3.8/site-packages (2.28.0)\n",
      "Requirement already satisfied: numpy>=1.19.1 in /home/ec2-user/anaconda3/envs/python3/lib/python3.8/site-packages (from tritonclient[all]) (1.20.3)\n",
      "Requirement already satisfied: python-rapidjson>=0.9.1 in /home/ec2-user/anaconda3/envs/python3/lib/python3.8/site-packages (from tritonclient[all]) (1.9)\n",
      "Requirement already satisfied: grpcio==1.41.0 in /home/ec2-user/anaconda3/envs/python3/lib/python3.8/site-packages (from tritonclient[all]) (1.41.0)\n",
      "Requirement already satisfied: aiohttp>=3.8.1 in /home/ec2-user/anaconda3/envs/python3/lib/python3.8/site-packages (from tritonclient[all]) (3.8.1)\n",
      "Requirement already satisfied: protobuf<3.20,>=3.5.0 in /home/ec2-user/anaconda3/envs/python3/lib/python3.8/site-packages (from tritonclient[all]) (3.19.1)\n",
      "Requirement already satisfied: geventhttpclient<=2.0.2,>=1.4.4 in /home/ec2-user/anaconda3/envs/python3/lib/python3.8/site-packages (from tritonclient[all]) (2.0.2)\n",
      "Requirement already satisfied: six>=1.5.2 in /home/ec2-user/anaconda3/envs/python3/lib/python3.8/site-packages (from grpcio==1.41.0->tritonclient[all]) (1.16.0)\n",
      "Requirement already satisfied: attrs>=17.3.0 in /home/ec2-user/anaconda3/envs/python3/lib/python3.8/site-packages (from aiohttp>=3.8.1->tritonclient[all]) (21.2.0)\n",
      "Requirement already satisfied: aiosignal>=1.1.2 in /home/ec2-user/anaconda3/envs/python3/lib/python3.8/site-packages (from aiohttp>=3.8.1->tritonclient[all]) (1.2.0)\n",
      "Requirement already satisfied: charset-normalizer<3.0,>=2.0 in /home/ec2-user/anaconda3/envs/python3/lib/python3.8/site-packages (from aiohttp>=3.8.1->tritonclient[all]) (2.0.8)\n",
      "Requirement already satisfied: async-timeout<5.0,>=4.0.0a3 in /home/ec2-user/anaconda3/envs/python3/lib/python3.8/site-packages (from aiohttp>=3.8.1->tritonclient[all]) (4.0.1)\n",
      "Requirement already satisfied: multidict<7.0,>=4.5 in /home/ec2-user/anaconda3/envs/python3/lib/python3.8/site-packages (from aiohttp>=3.8.1->tritonclient[all]) (5.2.0)\n",
      "Requirement already satisfied: frozenlist>=1.1.1 in /home/ec2-user/anaconda3/envs/python3/lib/python3.8/site-packages (from aiohttp>=3.8.1->tritonclient[all]) (1.2.0)\n",
      "Requirement already satisfied: yarl<2.0,>=1.0 in /home/ec2-user/anaconda3/envs/python3/lib/python3.8/site-packages (from aiohttp>=3.8.1->tritonclient[all]) (1.7.2)\n",
      "Requirement already satisfied: certifi in /home/ec2-user/anaconda3/envs/python3/lib/python3.8/site-packages (from geventhttpclient<=2.0.2,>=1.4.4->tritonclient[all]) (2021.10.8)\n",
      "Requirement already satisfied: brotli in /home/ec2-user/anaconda3/envs/python3/lib/python3.8/site-packages (from geventhttpclient<=2.0.2,>=1.4.4->tritonclient[all]) (1.0.9)\n",
      "Requirement already satisfied: gevent>=0.13 in /home/ec2-user/anaconda3/envs/python3/lib/python3.8/site-packages (from geventhttpclient<=2.0.2,>=1.4.4->tritonclient[all]) (21.8.0)\n",
      "Requirement already satisfied: typing-extensions>=3.6.5 in /home/ec2-user/anaconda3/envs/python3/lib/python3.8/site-packages (from async-timeout<5.0,>=4.0.0a3->aiohttp>=3.8.1->tritonclient[all]) (4.0.0)\n",
      "Requirement already satisfied: zope.interface in /home/ec2-user/anaconda3/envs/python3/lib/python3.8/site-packages (from gevent>=0.13->geventhttpclient<=2.0.2,>=1.4.4->tritonclient[all]) (5.4.0)\n",
      "Requirement already satisfied: setuptools in /home/ec2-user/anaconda3/envs/python3/lib/python3.8/site-packages (from gevent>=0.13->geventhttpclient<=2.0.2,>=1.4.4->tritonclient[all]) (59.4.0)\n",
      "Requirement already satisfied: greenlet<2.0,>=1.1.0 in /home/ec2-user/anaconda3/envs/python3/lib/python3.8/site-packages (from gevent>=0.13->geventhttpclient<=2.0.2,>=1.4.4->tritonclient[all]) (1.1.2)\n",
      "Requirement already satisfied: zope.event in /home/ec2-user/anaconda3/envs/python3/lib/python3.8/site-packages (from gevent>=0.13->geventhttpclient<=2.0.2,>=1.4.4->tritonclient[all]) (4.5.0)\n",
      "Requirement already satisfied: idna>=2.0 in /home/ec2-user/anaconda3/envs/python3/lib/python3.8/site-packages (from yarl<2.0,>=1.0->aiohttp>=3.8.1->tritonclient[all]) (3.1)\n"
     ]
    }
   ],
   "source": [
    "! pip install tritonclient[all]"
   ]
  },
  {
   "cell_type": "markdown",
   "id": "ba15f9d9-67f5-4327-b819-72f18103625b",
   "metadata": {},
   "source": [
    "## 로컬 모드 셋업\n",
    "- 기본 다커 폴더 위치 변경 등을 함."
   ]
  },
  {
   "cell_type": "code",
   "execution_count": 7,
   "id": "2ca2eed0-9560-4ef3-bbd7-5c4cbca2bcd5",
   "metadata": {},
   "outputs": [
    {
     "name": "stdout",
     "output_type": "stream",
     "text": [
      "nvidia-docker2 already installed. We are good to go!\n",
      "Redirecting to /bin/systemctl stop docker.service\n",
      "Warning: Stopping docker.service, but it can still be activated by:\n",
      "  docker.socket\n",
      "Redirecting to /bin/systemctl start docker.service\n",
      "SageMaker instance route table setup is ok. We are good to go.\n",
      "SageMaker instance routing for Docker is ok. We are good to go!\n"
     ]
    }
   ],
   "source": [
    "! bash local_mode_setup.sh"
   ]
  },
  {
   "cell_type": "code",
   "execution_count": null,
   "id": "15550287-34ff-4e16-bd28-5d002212dab8",
   "metadata": {},
   "outputs": [],
   "source": []
  },
  {
   "cell_type": "code",
   "execution_count": null,
   "id": "43012b86-0d83-477a-8e0a-31021cb1bfd2",
   "metadata": {},
   "outputs": [],
   "source": []
  }
 ],
 "metadata": {
  "kernelspec": {
   "display_name": "conda_python3",
   "language": "python",
   "name": "conda_python3"
  },
  "language_info": {
   "codemirror_mode": {
    "name": "ipython",
    "version": 3
   },
   "file_extension": ".py",
   "mimetype": "text/x-python",
   "name": "python",
   "nbconvert_exporter": "python",
   "pygments_lexer": "ipython3",
   "version": "3.8.12"
  }
 },
 "nbformat": 4,
 "nbformat_minor": 5
}
