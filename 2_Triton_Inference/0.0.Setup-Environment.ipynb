{
 "cells": [
  {
   "cell_type": "markdown",
   "id": "c1af41d6",
   "metadata": {},
   "source": [
    "# [Module 0.0] 환경 셋업\n",
    "\n",
    "## 본 워크샵의 모든 노트북은 `conda_python3` 를  선택해야 합니다."
   ]
  },
  {
   "cell_type": "code",
   "execution_count": null,
   "id": "fcf2e66b-4e82-4cb9-8bcd-bed0cc5554ff",
   "metadata": {},
   "outputs": [],
   "source": [
    "pip install --upgrade pip"
   ]
  },
  {
   "cell_type": "markdown",
   "id": "01f63727",
   "metadata": {},
   "source": [
    "# 환경 셋업\n"
   ]
  },
  {
   "cell_type": "code",
   "execution_count": null,
   "id": "13d107e7-308a-4d60-b526-afda0c30b184",
   "metadata": {},
   "outputs": [],
   "source": [
    "! pip install -r src/requirements.txt"
   ]
  },
  {
   "cell_type": "code",
   "execution_count": null,
   "id": "bbd8b0bb",
   "metadata": {},
   "outputs": [],
   "source": [
    "! pip install tritonclient[all]"
   ]
  },
  {
   "cell_type": "markdown",
   "id": "cdc42e12-9e00-4ea0-b0ec-8f75266d47ba",
   "metadata": {},
   "source": [
    "## SageMaker SDK version 설정 (2.118.0)"
   ]
  },
  {
   "cell_type": "code",
   "execution_count": null,
   "id": "e2de3194-1819-45f3-9ba8-1539c1accfed",
   "metadata": {
    "tags": []
   },
   "outputs": [],
   "source": [
    "!pip install --upgrade sagemaker==2.118.0"
   ]
  },
  {
   "cell_type": "code",
   "execution_count": null,
   "id": "bd91cda3-180d-4680-8356-c28e996c6877",
   "metadata": {},
   "outputs": [],
   "source": [
    "import sagemaker\n",
    "sagemaker.__version__"
   ]
  },
  {
   "cell_type": "markdown",
   "id": "ba15f9d9-67f5-4327-b819-72f18103625b",
   "metadata": {},
   "source": [
    "## 로컬 모드 셋업\n",
    "- 기본 다커 폴더 위치 변경 등을 함."
   ]
  },
  {
   "cell_type": "code",
   "execution_count": null,
   "id": "2ca2eed0-9560-4ef3-bbd7-5c4cbca2bcd5",
   "metadata": {},
   "outputs": [],
   "source": [
    "! bash local_mode_setup.sh"
   ]
  },
  {
   "cell_type": "code",
   "execution_count": null,
   "id": "15550287-34ff-4e16-bd28-5d002212dab8",
   "metadata": {},
   "outputs": [],
   "source": []
  },
  {
   "cell_type": "code",
   "execution_count": null,
   "id": "43012b86-0d83-477a-8e0a-31021cb1bfd2",
   "metadata": {},
   "outputs": [],
   "source": []
  }
 ],
 "metadata": {
  "kernelspec": {
   "display_name": "conda_python3",
   "language": "python",
   "name": "conda_python3"
  },
  "language_info": {
   "codemirror_mode": {
    "name": "ipython",
    "version": 3
   },
   "file_extension": ".py",
   "mimetype": "text/x-python",
   "name": "python",
   "nbconvert_exporter": "python",
   "pygments_lexer": "ipython3",
   "version": "3.8.12"
  }
 },
 "nbformat": 4,
 "nbformat_minor": 5
}
